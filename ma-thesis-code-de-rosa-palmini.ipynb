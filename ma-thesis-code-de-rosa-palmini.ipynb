{
 "cells": [
  {
   "cell_type": "markdown",
   "id": "17437c30",
   "metadata": {
    "papermill": {
     "duration": 0.041862,
     "end_time": "2023-07-31T15:04:01.430639",
     "exception": false,
     "start_time": "2023-07-31T15:04:01.388777",
     "status": "completed"
    },
    "tags": []
   },
   "source": [
    "# PART 1: \n",
    "## Analysis, Manipulation and Splitting of Data"
   ]
  },
  {
   "cell_type": "code",
   "execution_count": 1,
   "id": "731fc76a",
   "metadata": {
    "collapsed": true,
    "execution": {
     "iopub.execute_input": "2023-07-31T15:04:01.510931Z",
     "iopub.status.busy": "2023-07-31T15:04:01.510448Z",
     "iopub.status.idle": "2023-07-31T15:04:14.402819Z",
     "shell.execute_reply": "2023-07-31T15:04:14.401616Z"
    },
    "jupyter": {
     "outputs_hidden": true
    },
    "papermill": {
     "duration": 12.936005,
     "end_time": "2023-07-31T15:04:14.405973",
     "exception": false,
     "start_time": "2023-07-31T15:04:01.469968",
     "status": "completed"
    },
    "tags": []
   },
   "outputs": [
    {
     "name": "stdout",
     "output_type": "stream",
     "text": [
      "Requirement already satisfied: transformers in /opt/conda/lib/python3.10/site-packages (4.30.2)\r\n",
      "Requirement already satisfied: datasets in /opt/conda/lib/python3.10/site-packages (2.1.0)\r\n",
      "Collecting evaluate\r\n",
      "  Downloading evaluate-0.4.0-py3-none-any.whl (81 kB)\r\n",
      "\u001b[2K     \u001b[90m━━━━━━━━━━━━━━━━━━━━━━━━━━━━━━━━━━━━━━━━\u001b[0m \u001b[32m81.4/81.4 kB\u001b[0m \u001b[31m3.9 MB/s\u001b[0m eta \u001b[36m0:00:00\u001b[0m\r\n",
      "\u001b[?25hRequirement already satisfied: filelock in /opt/conda/lib/python3.10/site-packages (from transformers) (3.12.2)\r\n",
      "Requirement already satisfied: huggingface-hub<1.0,>=0.14.1 in /opt/conda/lib/python3.10/site-packages (from transformers) (0.16.4)\r\n",
      "Requirement already satisfied: numpy>=1.17 in /opt/conda/lib/python3.10/site-packages (from transformers) (1.23.5)\r\n",
      "Requirement already satisfied: packaging>=20.0 in /opt/conda/lib/python3.10/site-packages (from transformers) (21.3)\r\n",
      "Requirement already satisfied: pyyaml>=5.1 in /opt/conda/lib/python3.10/site-packages (from transformers) (6.0)\r\n",
      "Requirement already satisfied: regex!=2019.12.17 in /opt/conda/lib/python3.10/site-packages (from transformers) (2023.6.3)\r\n",
      "Requirement already satisfied: requests in /opt/conda/lib/python3.10/site-packages (from transformers) (2.31.0)\r\n",
      "Requirement already satisfied: tokenizers!=0.11.3,<0.14,>=0.11.1 in /opt/conda/lib/python3.10/site-packages (from transformers) (0.13.3)\r\n",
      "Requirement already satisfied: safetensors>=0.3.1 in /opt/conda/lib/python3.10/site-packages (from transformers) (0.3.1)\r\n",
      "Requirement already satisfied: tqdm>=4.27 in /opt/conda/lib/python3.10/site-packages (from transformers) (4.65.0)\r\n",
      "Requirement already satisfied: pyarrow>=5.0.0 in /opt/conda/lib/python3.10/site-packages (from datasets) (11.0.0)\r\n",
      "Requirement already satisfied: dill in /opt/conda/lib/python3.10/site-packages (from datasets) (0.3.6)\r\n",
      "Requirement already satisfied: pandas in /opt/conda/lib/python3.10/site-packages (from datasets) (1.5.3)\r\n",
      "Requirement already satisfied: xxhash in /opt/conda/lib/python3.10/site-packages (from datasets) (3.2.0)\r\n",
      "Requirement already satisfied: multiprocess in /opt/conda/lib/python3.10/site-packages (from datasets) (0.70.14)\r\n",
      "Requirement already satisfied: fsspec[http]>=2021.05.0 in /opt/conda/lib/python3.10/site-packages (from datasets) (2023.6.0)\r\n",
      "Requirement already satisfied: aiohttp in /opt/conda/lib/python3.10/site-packages (from datasets) (3.8.4)\r\n",
      "Requirement already satisfied: responses<0.19 in /opt/conda/lib/python3.10/site-packages (from datasets) (0.18.0)\r\n",
      "Requirement already satisfied: attrs>=17.3.0 in /opt/conda/lib/python3.10/site-packages (from aiohttp->datasets) (23.1.0)\r\n",
      "Requirement already satisfied: charset-normalizer<4.0,>=2.0 in /opt/conda/lib/python3.10/site-packages (from aiohttp->datasets) (3.1.0)\r\n",
      "Requirement already satisfied: multidict<7.0,>=4.5 in /opt/conda/lib/python3.10/site-packages (from aiohttp->datasets) (6.0.4)\r\n",
      "Requirement already satisfied: async-timeout<5.0,>=4.0.0a3 in /opt/conda/lib/python3.10/site-packages (from aiohttp->datasets) (4.0.2)\r\n",
      "Requirement already satisfied: yarl<2.0,>=1.0 in /opt/conda/lib/python3.10/site-packages (from aiohttp->datasets) (1.9.2)\r\n",
      "Requirement already satisfied: frozenlist>=1.1.1 in /opt/conda/lib/python3.10/site-packages (from aiohttp->datasets) (1.3.3)\r\n",
      "Requirement already satisfied: aiosignal>=1.1.2 in /opt/conda/lib/python3.10/site-packages (from aiohttp->datasets) (1.3.1)\r\n",
      "Requirement already satisfied: typing-extensions>=3.7.4.3 in /opt/conda/lib/python3.10/site-packages (from huggingface-hub<1.0,>=0.14.1->transformers) (4.6.3)\r\n",
      "Requirement already satisfied: pyparsing!=3.0.5,>=2.0.2 in /opt/conda/lib/python3.10/site-packages (from packaging>=20.0->transformers) (3.0.9)\r\n",
      "Requirement already satisfied: idna<4,>=2.5 in /opt/conda/lib/python3.10/site-packages (from requests->transformers) (3.4)\r\n",
      "Requirement already satisfied: urllib3<3,>=1.21.1 in /opt/conda/lib/python3.10/site-packages (from requests->transformers) (1.26.15)\r\n",
      "Requirement already satisfied: certifi>=2017.4.17 in /opt/conda/lib/python3.10/site-packages (from requests->transformers) (2023.5.7)\r\n",
      "Requirement already satisfied: python-dateutil>=2.8.1 in /opt/conda/lib/python3.10/site-packages (from pandas->datasets) (2.8.2)\r\n",
      "Requirement already satisfied: pytz>=2020.1 in /opt/conda/lib/python3.10/site-packages (from pandas->datasets) (2023.3)\r\n",
      "Requirement already satisfied: six>=1.5 in /opt/conda/lib/python3.10/site-packages (from python-dateutil>=2.8.1->pandas->datasets) (1.16.0)\r\n",
      "Installing collected packages: evaluate\r\n",
      "Successfully installed evaluate-0.4.0\r\n"
     ]
    }
   ],
   "source": [
    "!pip install transformers datasets evaluate"
   ]
  },
  {
   "cell_type": "code",
   "execution_count": 2,
   "id": "2225ea67",
   "metadata": {
    "execution": {
     "iopub.execute_input": "2023-07-31T15:04:14.490710Z",
     "iopub.status.busy": "2023-07-31T15:04:14.490306Z",
     "iopub.status.idle": "2023-07-31T15:04:19.563635Z",
     "shell.execute_reply": "2023-07-31T15:04:19.562660Z"
    },
    "papermill": {
     "duration": 5.119341,
     "end_time": "2023-07-31T15:04:19.566505",
     "exception": false,
     "start_time": "2023-07-31T15:04:14.447164",
     "status": "completed"
    },
    "tags": []
   },
   "outputs": [
    {
     "name": "stderr",
     "output_type": "stream",
     "text": [
      "/opt/conda/lib/python3.10/site-packages/scipy/__init__.py:146: UserWarning: A NumPy version >=1.16.5 and <1.23.0 is required for this version of SciPy (detected version 1.23.5\n",
      "  warnings.warn(f\"A NumPy version >={np_minversion} and <{np_maxversion}\"\n"
     ]
    }
   ],
   "source": [
    "# Import necessary libraries\n",
    "\n",
    "# data processing\n",
    "import pandas as pd\n",
    "import numpy as np\n",
    "\n",
    "# tensors\n",
    "import torch\n",
    "\n",
    "# other\n",
    "import json\n",
    "import re\n",
    "\n",
    "# sklearn\n",
    "from sklearn.preprocessing import LabelEncoder\n",
    "\n",
    "# hugging face dataset\n",
    "from datasets import Dataset"
   ]
  },
  {
   "cell_type": "markdown",
   "id": "ae243dae",
   "metadata": {
    "papermill": {
     "duration": 0.040851,
     "end_time": "2023-07-31T15:04:19.649243",
     "exception": false,
     "start_time": "2023-07-31T15:04:19.608392",
     "status": "completed"
    },
    "tags": []
   },
   "source": [
    "### 1.1 Importing the datasets"
   ]
  },
  {
   "cell_type": "code",
   "execution_count": 3,
   "id": "d329c19a",
   "metadata": {
    "execution": {
     "iopub.execute_input": "2023-07-31T15:04:19.732150Z",
     "iopub.status.busy": "2023-07-31T15:04:19.731479Z",
     "iopub.status.idle": "2023-07-31T15:04:19.737924Z",
     "shell.execute_reply": "2023-07-31T15:04:19.736850Z"
    },
    "papermill": {
     "duration": 0.050822,
     "end_time": "2023-07-31T15:04:19.740154",
     "exception": false,
     "start_time": "2023-07-31T15:04:19.689332",
     "status": "completed"
    },
    "tags": []
   },
   "outputs": [],
   "source": [
    "# Read a file containing a list of JSON objects\n",
    "\n",
    "def load_json_list(file_name):\n",
    "    data = []\n",
    "    with open(file_name, 'r') as f:\n",
    "        for line in f:\n",
    "            try:\n",
    "                dat = json.loads(line)\n",
    "                # Avoid empty dictionaries\n",
    "                if dat:\n",
    "                    data.append(dat)\n",
    "            except JSONDecodeError:\n",
    "                pass\n",
    "\n",
    "    return data"
   ]
  },
  {
   "cell_type": "code",
   "execution_count": 4,
   "id": "641fb7f3",
   "metadata": {
    "execution": {
     "iopub.execute_input": "2023-07-31T15:04:19.823937Z",
     "iopub.status.busy": "2023-07-31T15:04:19.823561Z",
     "iopub.status.idle": "2023-07-31T15:04:20.417806Z",
     "shell.execute_reply": "2023-07-31T15:04:20.416828Z"
    },
    "papermill": {
     "duration": 0.639169,
     "end_time": "2023-07-31T15:04:20.420449",
     "exception": false,
     "start_time": "2023-07-31T15:04:19.781280",
     "status": "completed"
    },
    "tags": []
   },
   "outputs": [],
   "source": [
    "# Load audience and critics reviews from the Rotten Tomatoes dataset\n",
    "\n",
    "audience_reviews = load_json_list('/kaggle/input/rotten-tomatoes-reviews/movie_reviews/audience_reviews_short.json')\n",
    "critics_reviews = load_json_list('/kaggle/input/rotten-tomatoes-reviews/movie_reviews/critics_reviews_short.json')"
   ]
  },
  {
   "cell_type": "code",
   "execution_count": 5,
   "id": "9a07b211",
   "metadata": {
    "execution": {
     "iopub.execute_input": "2023-07-31T15:04:20.519998Z",
     "iopub.status.busy": "2023-07-31T15:04:20.518913Z",
     "iopub.status.idle": "2023-07-31T15:04:20.596259Z",
     "shell.execute_reply": "2023-07-31T15:04:20.595138Z"
    },
    "papermill": {
     "duration": 0.129745,
     "end_time": "2023-07-31T15:04:20.599036",
     "exception": false,
     "start_time": "2023-07-31T15:04:20.469291",
     "status": "completed"
    },
    "tags": []
   },
   "outputs": [],
   "source": [
    "# Read the CSV file into a pandas Dataframe\n",
    "\n",
    "df_emotions = pd.read_csv('/kaggle/input/emotions-in-text/Emotion_final.csv')"
   ]
  },
  {
   "cell_type": "markdown",
   "id": "a156c99a",
   "metadata": {
    "papermill": {
     "duration": 0.040685,
     "end_time": "2023-07-31T15:04:20.680813",
     "exception": false,
     "start_time": "2023-07-31T15:04:20.640128",
     "status": "completed"
    },
    "tags": []
   },
   "source": [
    "### 1.2 Dropping unecessary information"
   ]
  },
  {
   "cell_type": "code",
   "execution_count": 6,
   "id": "fd339ce8",
   "metadata": {
    "execution": {
     "iopub.execute_input": "2023-07-31T15:04:20.771429Z",
     "iopub.status.busy": "2023-07-31T15:04:20.770352Z",
     "iopub.status.idle": "2023-07-31T15:04:20.791262Z",
     "shell.execute_reply": "2023-07-31T15:04:20.790037Z"
    },
    "papermill": {
     "duration": 0.074056,
     "end_time": "2023-07-31T15:04:20.795366",
     "exception": false,
     "start_time": "2023-07-31T15:04:20.721310",
     "status": "completed"
    },
    "tags": []
   },
   "outputs": [
    {
     "name": "stdout",
     "output_type": "stream",
     "text": [
      "[{'rating': 3, 'text': 'It ended leaving u hanging'}, {'rating': 2.5, 'text': 'Good story. Dragged a little, but interesting.'}, {'rating': 5, 'text': 'Put this one in the plus column for M Night Shyamalan.'}, {'rating': 5, 'text': 'Very good movie. Kept us on the edge of our seat the whole time.'}, {'rating': 5, 'text': 'This movie definitely had alot of suspense, kept you guessing.  Definitely one of M. Night Shyamalan better movies along with Sixth sense.'}]\n"
     ]
    }
   ],
   "source": [
    "# Extract rating and review text from audience reviews\n",
    "\n",
    "data_audience = [{'rating': review['rating'], 'text': review['review']} \n",
    "                 for dat in audience_reviews if dat.get('reviews') for review in dat['reviews']]\n",
    "\n",
    "print(data_audience[:5])"
   ]
  },
  {
   "cell_type": "code",
   "execution_count": 7,
   "id": "ae91c573",
   "metadata": {
    "execution": {
     "iopub.execute_input": "2023-07-31T15:04:20.888186Z",
     "iopub.status.busy": "2023-07-31T15:04:20.887843Z",
     "iopub.status.idle": "2023-07-31T15:04:20.894635Z",
     "shell.execute_reply": "2023-07-31T15:04:20.892590Z"
    },
    "papermill": {
     "duration": 0.053951,
     "end_time": "2023-07-31T15:04:20.897199",
     "exception": false,
     "start_time": "2023-07-31T15:04:20.843248",
     "status": "completed"
    },
    "tags": []
   },
   "outputs": [
    {
     "name": "stdout",
     "output_type": "stream",
     "text": [
      "Before 19391\n"
     ]
    }
   ],
   "source": [
    "# Define a classifier function based on the rating score\n",
    "\n",
    "classifier = lambda score: 1 if score >= 4.0 else 0 if score <= 1.5 else -1\n",
    "print('Before', len(data_audience))"
   ]
  },
  {
   "cell_type": "code",
   "execution_count": 8,
   "id": "4206153a",
   "metadata": {
    "execution": {
     "iopub.execute_input": "2023-07-31T15:04:20.980407Z",
     "iopub.status.busy": "2023-07-31T15:04:20.979445Z",
     "iopub.status.idle": "2023-07-31T15:04:21.004447Z",
     "shell.execute_reply": "2023-07-31T15:04:21.003176Z"
    },
    "papermill": {
     "duration": 0.06866,
     "end_time": "2023-07-31T15:04:21.006629",
     "exception": false,
     "start_time": "2023-07-31T15:04:20.937969",
     "status": "completed"
    },
    "tags": []
   },
   "outputs": [
    {
     "name": "stdout",
     "output_type": "stream",
     "text": [
      "After removing neutral reviews 14931\n",
      "[{'text': 'Put this one in the plus column for M Night Shyamalan.', 'sentiment': 1}, {'text': 'Very good movie. Kept us on the edge of our seat the whole time.', 'sentiment': 1}, {'text': 'This movie definitely had alot of suspense, kept you guessing.  Definitely one of M. Night Shyamalan better movies along with Sixth sense.', 'sentiment': 1}, {'text': 'Oh no A movie I didn’t like. It was twisted and weird. The worst M. Night Shyamalan movie ever. This was 100% Bad', 'sentiment': 0}, {'text': \"Great movie…..wasn't expecting that.\", 'sentiment': 1}]\n"
     ]
    }
   ],
   "source": [
    "# Filter out neutral reviews and keep only text and sentiment columns\n",
    "\n",
    "data_audience = [{'text': review['text'], 'sentiment': classifier(review['rating'])} \n",
    "                 for review in data_audience \n",
    "                 if classifier(review['rating']) != -1]\n",
    "\n",
    "print('After removing neutral reviews', len(data_audience))\n",
    "print(data_audience[:5])"
   ]
  },
  {
   "cell_type": "code",
   "execution_count": 9,
   "id": "ae33dc9c",
   "metadata": {
    "execution": {
     "iopub.execute_input": "2023-07-31T15:04:21.090264Z",
     "iopub.status.busy": "2023-07-31T15:04:21.089926Z",
     "iopub.status.idle": "2023-07-31T15:04:21.121368Z",
     "shell.execute_reply": "2023-07-31T15:04:21.119806Z"
    },
    "papermill": {
     "duration": 0.076476,
     "end_time": "2023-07-31T15:04:21.123793",
     "exception": false,
     "start_time": "2023-07-31T15:04:21.047317",
     "status": "completed"
    },
    "tags": []
   },
   "outputs": [
    {
     "name": "stdout",
     "output_type": "stream",
     "text": [
      "                                                text  sentiment\n",
      "0  Put this one in the plus column for M Night Sh...          1\n",
      "1  Very good movie. Kept us on the edge of our se...          1\n",
      "2  This movie definitely had alot of suspense, ke...          1\n",
      "3  Oh no A movie I didn’t like. It was twisted an...          0\n",
      "4               Great movie…..wasn't expecting that.          1\n"
     ]
    }
   ],
   "source": [
    "# Create a DataFrame for audience reviews\n",
    "df_audience = pd.DataFrame(data_audience)\n",
    "print(df_audience[:5])"
   ]
  },
  {
   "cell_type": "code",
   "execution_count": 10,
   "id": "9f87bf19",
   "metadata": {
    "execution": {
     "iopub.execute_input": "2023-07-31T15:04:21.211377Z",
     "iopub.status.busy": "2023-07-31T15:04:21.210434Z",
     "iopub.status.idle": "2023-07-31T15:04:21.225810Z",
     "shell.execute_reply": "2023-07-31T15:04:21.224912Z"
    },
    "papermill": {
     "duration": 0.059564,
     "end_time": "2023-07-31T15:04:21.228076",
     "exception": false,
     "start_time": "2023-07-31T15:04:21.168512",
     "status": "completed"
    },
    "tags": []
   },
   "outputs": [
    {
     "name": "stdout",
     "output_type": "stream",
     "text": [
      "Number of samples 12867\n"
     ]
    }
   ],
   "source": [
    "# Extract text, fresh, and rotten from critics_reviews\n",
    "\n",
    "data_critics = [{'text': review.get('quote'), \n",
    "                 'fresh': review['isFresh'], 'rotten': review['isRotten']} \n",
    "                for dat in critics_reviews if dat.get('reviews') for review in dat['reviews']]\n",
    "\n",
    "print('Number of samples', len(data_critics))"
   ]
  },
  {
   "cell_type": "code",
   "execution_count": 11,
   "id": "88447bf6",
   "metadata": {
    "execution": {
     "iopub.execute_input": "2023-07-31T15:04:21.314785Z",
     "iopub.status.busy": "2023-07-31T15:04:21.313764Z",
     "iopub.status.idle": "2023-07-31T15:04:21.331559Z",
     "shell.execute_reply": "2023-07-31T15:04:21.330598Z"
    },
    "papermill": {
     "duration": 0.064894,
     "end_time": "2023-07-31T15:04:21.333960",
     "exception": false,
     "start_time": "2023-07-31T15:04:21.269066",
     "status": "completed"
    },
    "tags": []
   },
   "outputs": [
    {
     "name": "stdout",
     "output_type": "stream",
     "text": [
      "[{'text': '[Shyamalan is] as strong a visual craftsman as ever, a master manipulator who toys with his audience with the winking acerbity of his idol Hitchcock. ', 'sentiment': 1}, {'text': 'There is only one thing worse than an M&#46; Night Shyamalan movie with a twist ending&#46; And that is one without a twist ending&#46; Feels like a faith-based movie trying to sneak in under a disingenuous wire&#46;', 'sentiment': 0}, {'text': 'Though at times you want it to deliver more on its promise&#44; the conclusion sticks the landing in ways few Shayamalan films of late have managed to', 'sentiment': 1}, {'text': 'While its questions about what we choose to put our faith in and why are as obvious as one late easy reveal&#44; Knock at the Cabin earns two firm beliefs&#58; in Shyamalan messing with vacations again&#44; and in Bautista at his best&#46;', 'sentiment': 1}, {'text': 'An artless film without the guts to bring the apocalyptic threat to life onscreen&#46;', 'sentiment': 0}]\n"
     ]
    }
   ],
   "source": [
    "# Keep only fresh reviews and transform fresh/rotten labels to sentiment labels (1=positive, 0=negative)\n",
    "data_critics = [{'text': dat['text'], 'sentiment': int(dat['fresh'])} for dat in data_critics]\n",
    "print(data_critics[:5])"
   ]
  },
  {
   "cell_type": "code",
   "execution_count": 12,
   "id": "1acda68e",
   "metadata": {
    "execution": {
     "iopub.execute_input": "2023-07-31T15:04:21.420560Z",
     "iopub.status.busy": "2023-07-31T15:04:21.420187Z",
     "iopub.status.idle": "2023-07-31T15:04:21.441231Z",
     "shell.execute_reply": "2023-07-31T15:04:21.440272Z"
    },
    "papermill": {
     "duration": 0.06734,
     "end_time": "2023-07-31T15:04:21.443759",
     "exception": false,
     "start_time": "2023-07-31T15:04:21.376419",
     "status": "completed"
    },
    "tags": []
   },
   "outputs": [],
   "source": [
    "# Create a DataFrame for critics reviews\n",
    "df_critics = pd.DataFrame(data_critics)"
   ]
  },
  {
   "cell_type": "code",
   "execution_count": 13,
   "id": "93a79af7",
   "metadata": {
    "execution": {
     "iopub.execute_input": "2023-07-31T15:04:21.527470Z",
     "iopub.status.busy": "2023-07-31T15:04:21.527126Z",
     "iopub.status.idle": "2023-07-31T15:04:21.639399Z",
     "shell.execute_reply": "2023-07-31T15:04:21.638288Z"
    },
    "papermill": {
     "duration": 0.157604,
     "end_time": "2023-07-31T15:04:21.642586",
     "exception": false,
     "start_time": "2023-07-31T15:04:21.484982",
     "status": "completed"
    },
    "tags": []
   },
   "outputs": [
    {
     "name": "stdout",
     "output_type": "stream",
     "text": [
      "27798\n"
     ]
    }
   ],
   "source": [
    "# Remove special characters starting with '&' from the text\n",
    "pattern = re.compile(r'\\&\\S+;')\n",
    "df_critics['text'] = df_critics.text.apply(lambda x: pattern.sub(' ', str(x)))\n",
    "\n",
    "# Remove extra spaces from the text\n",
    "pattern_spaces = re.compile('\\s{2,}')\n",
    "df_critics['text'] = df_critics.text.apply(lambda x: pattern_spaces.sub(' ', str(x))).str.strip()\n",
    "\n",
    "# Concatenate the critics and audience DataFrames\n",
    "df_concat = pd.concat([df_critics, df_audience], ignore_index=True)\n",
    "\n",
    "print(len(df_concat))"
   ]
  },
  {
   "cell_type": "markdown",
   "id": "c9838aa7",
   "metadata": {
    "papermill": {
     "duration": 0.041114,
     "end_time": "2023-07-31T15:04:21.726086",
     "exception": false,
     "start_time": "2023-07-31T15:04:21.684972",
     "status": "completed"
    },
    "tags": []
   },
   "source": [
    "### 1.3 Renaming the Columns"
   ]
  },
  {
   "cell_type": "code",
   "execution_count": 14,
   "id": "003cb2cc",
   "metadata": {
    "execution": {
     "iopub.execute_input": "2023-07-31T15:04:21.811423Z",
     "iopub.status.busy": "2023-07-31T15:04:21.811075Z",
     "iopub.status.idle": "2023-07-31T15:04:21.827426Z",
     "shell.execute_reply": "2023-07-31T15:04:21.826260Z"
    },
    "papermill": {
     "duration": 0.061209,
     "end_time": "2023-07-31T15:04:21.829694",
     "exception": false,
     "start_time": "2023-07-31T15:04:21.768485",
     "status": "completed"
    },
    "tags": []
   },
   "outputs": [
    {
     "name": "stdout",
     "output_type": "stream",
     "text": [
      "                                                sentence  label\n",
      "0      [Shyamalan is] as strong a visual craftsman as...      1\n",
      "1      There is only one thing worse than an M Night ...      0\n",
      "2      Though at times you want it to deliver more on...      1\n",
      "3      While its questions about what we choose to pu...      1\n",
      "4      An artless film without the guts to bring the ...      0\n",
      "...                                                  ...    ...\n",
      "27793  This movie saved the Shrek saga. A Spin-Off of...      1\n",
      "27794  A great idea to tell the story of Puss in Boot...      0\n",
      "27795  Dreamworks has been inconsistent for me. I lov...      1\n",
      "27796  Honestly an unexpectedly really good movie. At...      1\n",
      "27797  I'm glad that I was raised with that kind of a...      1\n",
      "\n",
      "[27798 rows x 2 columns]\n",
      "                                                sentence    label\n",
      "0                                i didnt feel humiliated  sadness\n",
      "1      i can go from feeling so hopeless to so damned...  sadness\n",
      "2       im grabbing a minute to post i feel greedy wrong    anger\n",
      "3      i am ever feeling nostalgic about the fireplac...     love\n",
      "4                                   i am feeling grouchy    anger\n",
      "...                                                  ...      ...\n",
      "21454               Melissa stared at her friend in dism     fear\n",
      "21455  Successive state elections have seen the gover...     fear\n",
      "21456               Vincent was irritated but not dismay     fear\n",
      "21457  Kendall-Hume turned back to face the dismayed ...     fear\n",
      "21458                    I am dismayed , but not surpris     fear\n",
      "\n",
      "[21459 rows x 2 columns]\n"
     ]
    }
   ],
   "source": [
    "# Rename columns\n",
    "reviews_df = df_concat.rename(columns={'text': 'sentence', 'sentiment': 'label'})\n",
    "emotions_df = df_emotions.rename(columns={'Text': 'sentence', 'Emotion': 'label'})\n",
    "\n",
    "# Print the updated DataFrame\n",
    "print(reviews_df)\n",
    "print(emotions_df)"
   ]
  },
  {
   "cell_type": "markdown",
   "id": "82da8bb3",
   "metadata": {
    "papermill": {
     "duration": 0.041438,
     "end_time": "2023-07-31T15:04:21.913708",
     "exception": false,
     "start_time": "2023-07-31T15:04:21.872270",
     "status": "completed"
    },
    "tags": []
   },
   "source": [
    "### 1.4 Manipulation of Labels"
   ]
  },
  {
   "cell_type": "code",
   "execution_count": 15,
   "id": "ccfb5565",
   "metadata": {
    "execution": {
     "iopub.execute_input": "2023-07-31T15:04:21.997377Z",
     "iopub.status.busy": "2023-07-31T15:04:21.997013Z",
     "iopub.status.idle": "2023-07-31T15:04:22.006345Z",
     "shell.execute_reply": "2023-07-31T15:04:22.005422Z"
    },
    "papermill": {
     "duration": 0.054499,
     "end_time": "2023-07-31T15:04:22.009187",
     "exception": false,
     "start_time": "2023-07-31T15:04:21.954688",
     "status": "completed"
    },
    "tags": []
   },
   "outputs": [
    {
     "name": "stdout",
     "output_type": "stream",
     "text": [
      "['sadness' 'anger' 'love' 'surprise' 'fear' 'happy']\n"
     ]
    }
   ],
   "source": [
    "# Print the different values in the \"label\" column\n",
    "unique_labels = emotions_df['label'].unique()\n",
    "print(unique_labels)"
   ]
  },
  {
   "cell_type": "code",
   "execution_count": 16,
   "id": "78c45e68",
   "metadata": {
    "execution": {
     "iopub.execute_input": "2023-07-31T15:04:22.093954Z",
     "iopub.status.busy": "2023-07-31T15:04:22.093598Z",
     "iopub.status.idle": "2023-07-31T15:04:22.112533Z",
     "shell.execute_reply": "2023-07-31T15:04:22.111607Z"
    },
    "papermill": {
     "duration": 0.063815,
     "end_time": "2023-07-31T15:04:22.114591",
     "exception": false,
     "start_time": "2023-07-31T15:04:22.050776",
     "status": "completed"
    },
    "tags": []
   },
   "outputs": [
    {
     "name": "stdout",
     "output_type": "stream",
     "text": [
      "[4 0 3 5 1 2]\n"
     ]
    }
   ],
   "source": [
    "# Initialize the LabelEncoder\n",
    "label_encoder = LabelEncoder()\n",
    "\n",
    "# Apply label transformation\n",
    "emotions_df['label'] = label_encoder.fit_transform(emotions_df['label'])\n",
    "\n",
    "# Print the encoded labels\n",
    "encoded_labels = emotions_df['label'].unique()\n",
    "print(encoded_labels)"
   ]
  },
  {
   "cell_type": "markdown",
   "id": "33649615",
   "metadata": {
    "papermill": {
     "duration": 0.041036,
     "end_time": "2023-07-31T15:04:22.199239",
     "exception": false,
     "start_time": "2023-07-31T15:04:22.158203",
     "status": "completed"
    },
    "tags": []
   },
   "source": [
    "### 1.5 Data Splitting"
   ]
  },
  {
   "cell_type": "code",
   "execution_count": 17,
   "id": "6a65689a",
   "metadata": {
    "execution": {
     "iopub.execute_input": "2023-07-31T15:04:22.284876Z",
     "iopub.status.busy": "2023-07-31T15:04:22.283924Z",
     "iopub.status.idle": "2023-07-31T15:04:22.302425Z",
     "shell.execute_reply": "2023-07-31T15:04:22.301274Z"
    },
    "papermill": {
     "duration": 0.063007,
     "end_time": "2023-07-31T15:04:22.304663",
     "exception": false,
     "start_time": "2023-07-31T15:04:22.241656",
     "status": "completed"
    },
    "tags": []
   },
   "outputs": [
    {
     "name": "stdout",
     "output_type": "stream",
     "text": [
      "The training dataset of movie reviews has 19459 records.\n",
      "The training dataset of emotion tweets has 15021 records.\n",
      "The testing dataset of movie reviews has 8339 records.\n",
      "The testing dataset of emotion tweets has 6438 records.\n"
     ]
    }
   ],
   "source": [
    "# Training dataset\n",
    "train_reviews =  reviews_df.sample(frac=0.7, random_state=42)\n",
    "train_emotions = emotions_df.sample(frac=0.7, random_state=42)\n",
    "\n",
    "# Testing dataset\n",
    "test_reviews =  reviews_df.drop(train_reviews .index)\n",
    "test_emotions = emotions_df.drop(train_emotions.index)\n",
    "\n",
    "# Determine the count of records in the training and testing datasets.\n",
    "print(f'The training dataset of movie reviews has {len(train_reviews)} records.')\n",
    "print(f'The training dataset of emotion tweets has {len(train_emotions)} records.')\n",
    "print(f'The testing dataset of movie reviews has {len(test_reviews)} records.')\n",
    "print(f'The testing dataset of emotion tweets has {len(test_emotions)} records.')"
   ]
  },
  {
   "cell_type": "markdown",
   "id": "ce99a027",
   "metadata": {
    "papermill": {
     "duration": 0.041837,
     "end_time": "2023-07-31T15:04:22.390164",
     "exception": false,
     "start_time": "2023-07-31T15:04:22.348327",
     "status": "completed"
    },
    "tags": []
   },
   "source": [
    "### 1.6 Data preprocessing for text classification using BERT"
   ]
  },
  {
   "cell_type": "code",
   "execution_count": 18,
   "id": "bbff5f5a",
   "metadata": {
    "execution": {
     "iopub.execute_input": "2023-07-31T15:04:22.475758Z",
     "iopub.status.busy": "2023-07-31T15:04:22.474828Z",
     "iopub.status.idle": "2023-07-31T15:04:22.517998Z",
     "shell.execute_reply": "2023-07-31T15:04:22.517048Z"
    },
    "papermill": {
     "duration": 0.088094,
     "end_time": "2023-07-31T15:04:22.520414",
     "exception": false,
     "start_time": "2023-07-31T15:04:22.432320",
     "status": "completed"
    },
    "tags": []
   },
   "outputs": [],
   "source": [
    "# Transform dataset into a HG dataset\n",
    "hg_train_sentiment = Dataset.from_pandas(train_reviews)\n",
    "hg_test_sentiment = Dataset.from_pandas(test_reviews)\n",
    "hg_train_emotion = Dataset.from_pandas(train_emotions)\n",
    "hg_test_emotion = Dataset.from_pandas(test_emotions)"
   ]
  },
  {
   "cell_type": "code",
   "execution_count": 19,
   "id": "8583757e",
   "metadata": {
    "execution": {
     "iopub.execute_input": "2023-07-31T15:04:22.605315Z",
     "iopub.status.busy": "2023-07-31T15:04:22.604951Z",
     "iopub.status.idle": "2023-07-31T15:04:22.615435Z",
     "shell.execute_reply": "2023-07-31T15:04:22.614109Z"
    },
    "papermill": {
     "duration": 0.055916,
     "end_time": "2023-07-31T15:04:22.618129",
     "exception": false,
     "start_time": "2023-07-31T15:04:22.562213",
     "status": "completed"
    },
    "tags": []
   },
   "outputs": [
    {
     "name": "stdout",
     "output_type": "stream",
     "text": [
      "The length of hg_train_data is 19459.\n",
      "\n"
     ]
    },
    {
     "data": {
      "text/plain": [
       "{'sentence': 'Not a perfect movie but if you love movie making, Wolf of Wall Street and Boogie Nights this is a great pick',\n",
       " 'label': 1,\n",
       " '__index_level_0__': 18168}"
      ]
     },
     "execution_count": 19,
     "metadata": {},
     "output_type": "execute_result"
    }
   ],
   "source": [
    "# Inspect the length of the dataset\n",
    "print(f'The length of hg_train_data is {len(hg_train_sentiment)}.\\n')\n",
    "\n",
    "# check one review\n",
    "hg_train_sentiment[0]"
   ]
  },
  {
   "cell_type": "code",
   "execution_count": 20,
   "id": "9c874622",
   "metadata": {
    "execution": {
     "iopub.execute_input": "2023-07-31T15:04:22.703452Z",
     "iopub.status.busy": "2023-07-31T15:04:22.702469Z",
     "iopub.status.idle": "2023-07-31T15:04:22.714018Z",
     "shell.execute_reply": "2023-07-31T15:04:22.712857Z"
    },
    "papermill": {
     "duration": 0.056711,
     "end_time": "2023-07-31T15:04:22.716366",
     "exception": false,
     "start_time": "2023-07-31T15:04:22.659655",
     "status": "completed"
    },
    "tags": []
   },
   "outputs": [
    {
     "data": {
      "text/html": [
       "<div>\n",
       "<style scoped>\n",
       "    .dataframe tbody tr th:only-of-type {\n",
       "        vertical-align: middle;\n",
       "    }\n",
       "\n",
       "    .dataframe tbody tr th {\n",
       "        vertical-align: top;\n",
       "    }\n",
       "\n",
       "    .dataframe thead th {\n",
       "        text-align: right;\n",
       "    }\n",
       "</style>\n",
       "<table border=\"1\" class=\"dataframe\">\n",
       "  <thead>\n",
       "    <tr style=\"text-align: right;\">\n",
       "      <th></th>\n",
       "      <th>sentence</th>\n",
       "      <th>label</th>\n",
       "    </tr>\n",
       "  </thead>\n",
       "  <tbody>\n",
       "    <tr>\n",
       "      <th>18168</th>\n",
       "      <td>Not a perfect movie but if you love movie maki...</td>\n",
       "      <td>1</td>\n",
       "    </tr>\n",
       "  </tbody>\n",
       "</table>\n",
       "</div>"
      ],
      "text/plain": [
       "                                                sentence  label\n",
       "18168  Not a perfect movie but if you love movie maki...      1"
      ]
     },
     "execution_count": 20,
     "metadata": {},
     "output_type": "execute_result"
    }
   ],
   "source": [
    "# Verify the data entry in a Pandas DataFrame\n",
    "reviews_df.iloc[[18168]]"
   ]
  },
  {
   "cell_type": "markdown",
   "id": "727a2e5c",
   "metadata": {
    "papermill": {
     "duration": 0.041807,
     "end_time": "2023-07-31T15:04:22.801531",
     "exception": false,
     "start_time": "2023-07-31T15:04:22.759724",
     "status": "completed"
    },
    "tags": []
   },
   "source": [
    "# PART 2: \n",
    "## BERT Fine-Tuning"
   ]
  },
  {
   "cell_type": "markdown",
   "id": "2f36a99b",
   "metadata": {
    "papermill": {
     "duration": 0.041522,
     "end_time": "2023-07-31T15:04:22.885094",
     "exception": false,
     "start_time": "2023-07-31T15:04:22.843572",
     "status": "completed"
    },
    "tags": []
   },
   "source": [
    "### 2.1 Tokenenization"
   ]
  },
  {
   "cell_type": "code",
   "execution_count": 21,
   "id": "5ace2573",
   "metadata": {
    "execution": {
     "iopub.execute_input": "2023-07-31T15:04:22.971733Z",
     "iopub.status.busy": "2023-07-31T15:04:22.970006Z",
     "iopub.status.idle": "2023-07-31T15:04:34.336203Z",
     "shell.execute_reply": "2023-07-31T15:04:34.335260Z"
    },
    "papermill": {
     "duration": 11.411877,
     "end_time": "2023-07-31T15:04:34.338573",
     "exception": false,
     "start_time": "2023-07-31T15:04:22.926696",
     "status": "completed"
    },
    "tags": []
   },
   "outputs": [
    {
     "name": "stderr",
     "output_type": "stream",
     "text": [
      "/opt/conda/lib/python3.10/site-packages/tensorflow_io/python/ops/__init__.py:98: UserWarning: unable to load libtensorflow_io_plugins.so: unable to open file: libtensorflow_io_plugins.so, from paths: ['/opt/conda/lib/python3.10/site-packages/tensorflow_io/python/ops/libtensorflow_io_plugins.so']\n",
      "caused by: ['/opt/conda/lib/python3.10/site-packages/tensorflow_io/python/ops/libtensorflow_io_plugins.so: undefined symbol: _ZN3tsl6StatusC1EN10tensorflow5error4CodeESt17basic_string_viewIcSt11char_traitsIcEENS_14SourceLocationE']\n",
      "  warnings.warn(f\"unable to load libtensorflow_io_plugins.so: {e}\")\n",
      "/opt/conda/lib/python3.10/site-packages/tensorflow_io/python/ops/__init__.py:104: UserWarning: file system plugins are not loaded: unable to open file: libtensorflow_io.so, from paths: ['/opt/conda/lib/python3.10/site-packages/tensorflow_io/python/ops/libtensorflow_io.so']\n",
      "caused by: ['/opt/conda/lib/python3.10/site-packages/tensorflow_io/python/ops/libtensorflow_io.so: undefined symbol: _ZTVN10tensorflow13GcsFileSystemE']\n",
      "  warnings.warn(f\"file system plugins are not loaded: {e}\")\n"
     ]
    }
   ],
   "source": [
    "# Import necessary libraries\n",
    "\n",
    "# tensorflow\n",
    "import tensorflow as tf\n",
    "\n",
    "# BERT\n",
    "from transformers import BertTokenizer, BertForSequenceClassification, TrainingArguments, Trainer, EarlyStoppingCallback, TextClassificationPipeline\n",
    "\n",
    "# model performance evaluation\n",
    "import evaluate"
   ]
  },
  {
   "cell_type": "code",
   "execution_count": 22,
   "id": "18c22df2",
   "metadata": {
    "execution": {
     "iopub.execute_input": "2023-07-31T15:04:34.425267Z",
     "iopub.status.busy": "2023-07-31T15:04:34.424910Z",
     "iopub.status.idle": "2023-07-31T15:04:35.413813Z",
     "shell.execute_reply": "2023-07-31T15:04:35.412615Z"
    },
    "papermill": {
     "duration": 1.035383,
     "end_time": "2023-07-31T15:04:35.416421",
     "exception": false,
     "start_time": "2023-07-31T15:04:34.381038",
     "status": "completed"
    },
    "tags": []
   },
   "outputs": [
    {
     "data": {
      "application/vnd.jupyter.widget-view+json": {
       "model_id": "973818fff2804f449ba7d5c7667f078c",
       "version_major": 2,
       "version_minor": 0
      },
      "text/plain": [
       "Downloading (…)solve/main/vocab.txt:   0%|          | 0.00/232k [00:00<?, ?B/s]"
      ]
     },
     "metadata": {},
     "output_type": "display_data"
    },
    {
     "data": {
      "application/vnd.jupyter.widget-view+json": {
       "model_id": "91975c3d79ba40c0a4ba16c04e28ea9d",
       "version_major": 2,
       "version_minor": 0
      },
      "text/plain": [
       "Downloading (…)okenizer_config.json:   0%|          | 0.00/28.0 [00:00<?, ?B/s]"
      ]
     },
     "metadata": {},
     "output_type": "display_data"
    },
    {
     "data": {
      "application/vnd.jupyter.widget-view+json": {
       "model_id": "915bd75fdbc64d878076753c832ef14f",
       "version_major": 2,
       "version_minor": 0
      },
      "text/plain": [
       "Downloading (…)lve/main/config.json:   0%|          | 0.00/570 [00:00<?, ?B/s]"
      ]
     },
     "metadata": {},
     "output_type": "display_data"
    },
    {
     "data": {
      "text/plain": [
       "BertTokenizer(name_or_path='bert-base-uncased', vocab_size=30522, model_max_length=512, is_fast=False, padding_side='right', truncation_side='right', special_tokens={'unk_token': '[UNK]', 'sep_token': '[SEP]', 'pad_token': '[PAD]', 'cls_token': '[CLS]', 'mask_token': '[MASK]'}, clean_up_tokenization_spaces=True)"
      ]
     },
     "execution_count": 22,
     "metadata": {},
     "output_type": "execute_result"
    }
   ],
   "source": [
    "# Tokenizer from a pretrained model\n",
    "tokenizer = BertTokenizer.from_pretrained(\"bert-base-uncased\")\n",
    "\n",
    "# Take a look at the tokenizer\n",
    "tokenizer"
   ]
  },
  {
   "cell_type": "code",
   "execution_count": 23,
   "id": "1c34683f",
   "metadata": {
    "execution": {
     "iopub.execute_input": "2023-07-31T15:04:35.505409Z",
     "iopub.status.busy": "2023-07-31T15:04:35.504515Z",
     "iopub.status.idle": "2023-07-31T15:05:40.434305Z",
     "shell.execute_reply": "2023-07-31T15:05:40.433249Z"
    },
    "papermill": {
     "duration": 64.976976,
     "end_time": "2023-07-31T15:05:40.436829",
     "exception": false,
     "start_time": "2023-07-31T15:04:35.459853",
     "status": "completed"
    },
    "tags": []
   },
   "outputs": [
    {
     "data": {
      "application/vnd.jupyter.widget-view+json": {
       "model_id": "dc2a1e2043384acd876306ad87824bc7",
       "version_major": 2,
       "version_minor": 0
      },
      "text/plain": [
       "  0%|          | 0/19459 [00:00<?, ?ex/s]"
      ]
     },
     "metadata": {},
     "output_type": "display_data"
    },
    {
     "data": {
      "application/vnd.jupyter.widget-view+json": {
       "model_id": "2a49768eb0734913b8d2d9aea8900d23",
       "version_major": 2,
       "version_minor": 0
      },
      "text/plain": [
       "  0%|          | 0/8339 [00:00<?, ?ex/s]"
      ]
     },
     "metadata": {},
     "output_type": "display_data"
    },
    {
     "data": {
      "application/vnd.jupyter.widget-view+json": {
       "model_id": "94b987764ead4828a9fad654f2f8a3d1",
       "version_major": 2,
       "version_minor": 0
      },
      "text/plain": [
       "  0%|          | 0/15021 [00:00<?, ?ex/s]"
      ]
     },
     "metadata": {},
     "output_type": "display_data"
    },
    {
     "data": {
      "application/vnd.jupyter.widget-view+json": {
       "model_id": "ad3eeabd24e649e3838222d5dfe209fb",
       "version_major": 2,
       "version_minor": 0
      },
      "text/plain": [
       "  0%|          | 0/6438 [00:00<?, ?ex/s]"
      ]
     },
     "metadata": {},
     "output_type": "display_data"
    }
   ],
   "source": [
    "# Funtion to tokenize data\n",
    "def tokenize_dataset(data):\n",
    "    return tokenizer(data[\"sentence\"], \n",
    "                     max_length=32, \n",
    "                     truncation=True, \n",
    "                     padding=\"max_length\")\n",
    "\n",
    "# Tokenize the dataset for Sentiment Analysis\n",
    "dataset_train_sent = hg_train_sentiment.map(tokenize_dataset)\n",
    "dataset_test_sent = hg_test_sentiment.map(tokenize_dataset)\n",
    "\n",
    "# Tokenize the dataset for Emotion Analysis\n",
    "dataset_train_em = hg_train_emotion.map(tokenize_dataset)\n",
    "dataset_test_em = hg_test_emotion.map(tokenize_dataset)"
   ]
  },
  {
   "cell_type": "code",
   "execution_count": 24,
   "id": "919d43c6",
   "metadata": {
    "execution": {
     "iopub.execute_input": "2023-07-31T15:05:40.529760Z",
     "iopub.status.busy": "2023-07-31T15:05:40.529381Z",
     "iopub.status.idle": "2023-07-31T15:05:40.536515Z",
     "shell.execute_reply": "2023-07-31T15:05:40.535422Z"
    },
    "papermill": {
     "duration": 0.054624,
     "end_time": "2023-07-31T15:05:40.538603",
     "exception": false,
     "start_time": "2023-07-31T15:05:40.483979",
     "status": "completed"
    },
    "tags": []
   },
   "outputs": [
    {
     "name": "stdout",
     "output_type": "stream",
     "text": [
      "Dataset({\n",
      "    features: ['sentence', 'label', '__index_level_0__', 'input_ids', 'token_type_ids', 'attention_mask'],\n",
      "    num_rows: 19459\n",
      "})\n",
      "Dataset({\n",
      "    features: ['sentence', 'label', '__index_level_0__', 'input_ids', 'token_type_ids', 'attention_mask'],\n",
      "    num_rows: 8339\n",
      "})\n"
     ]
    }
   ],
   "source": [
    "# Inspect the dataset\n",
    "print(dataset_train_sent)\n",
    "print(dataset_test_sent)"
   ]
  },
  {
   "cell_type": "markdown",
   "id": "c5df1c0f",
   "metadata": {
    "papermill": {
     "duration": 0.043407,
     "end_time": "2023-07-31T15:05:40.626054",
     "exception": false,
     "start_time": "2023-07-31T15:05:40.582647",
     "status": "completed"
    },
    "tags": []
   },
   "source": [
    "### 2.2 Training Phase"
   ]
  },
  {
   "cell_type": "code",
   "execution_count": 25,
   "id": "e940d187",
   "metadata": {
    "execution": {
     "iopub.execute_input": "2023-07-31T15:05:40.719788Z",
     "iopub.status.busy": "2023-07-31T15:05:40.719399Z",
     "iopub.status.idle": "2023-07-31T15:05:44.956960Z",
     "shell.execute_reply": "2023-07-31T15:05:44.955962Z"
    },
    "papermill": {
     "duration": 4.289912,
     "end_time": "2023-07-31T15:05:44.959233",
     "exception": false,
     "start_time": "2023-07-31T15:05:40.669321",
     "status": "completed"
    },
    "tags": []
   },
   "outputs": [
    {
     "data": {
      "application/vnd.jupyter.widget-view+json": {
       "model_id": "9fd9dfbbb02a4bb49e6a6a40db2b9464",
       "version_major": 2,
       "version_minor": 0
      },
      "text/plain": [
       "Downloading model.safetensors:   0%|          | 0.00/440M [00:00<?, ?B/s]"
      ]
     },
     "metadata": {},
     "output_type": "display_data"
    },
    {
     "name": "stderr",
     "output_type": "stream",
     "text": [
      "Some weights of the model checkpoint at bert-base-uncased were not used when initializing BertForSequenceClassification: ['cls.predictions.bias', 'cls.predictions.transform.LayerNorm.weight', 'cls.predictions.transform.dense.weight', 'cls.seq_relationship.bias', 'cls.predictions.transform.dense.bias', 'cls.seq_relationship.weight', 'cls.predictions.transform.LayerNorm.bias']\n",
      "- This IS expected if you are initializing BertForSequenceClassification from the checkpoint of a model trained on another task or with another architecture (e.g. initializing a BertForSequenceClassification model from a BertForPreTraining model).\n",
      "- This IS NOT expected if you are initializing BertForSequenceClassification from the checkpoint of a model that you expect to be exactly identical (initializing a BertForSequenceClassification model from a BertForSequenceClassification model).\n",
      "Some weights of BertForSequenceClassification were not initialized from the model checkpoint at bert-base-uncased and are newly initialized: ['classifier.bias', 'classifier.weight']\n",
      "You should probably TRAIN this model on a down-stream task to be able to use it for predictions and inference.\n",
      "Some weights of the model checkpoint at bert-base-uncased were not used when initializing BertForSequenceClassification: ['cls.predictions.bias', 'cls.predictions.transform.LayerNorm.weight', 'cls.predictions.transform.dense.weight', 'cls.seq_relationship.bias', 'cls.predictions.transform.dense.bias', 'cls.seq_relationship.weight', 'cls.predictions.transform.LayerNorm.bias']\n",
      "- This IS expected if you are initializing BertForSequenceClassification from the checkpoint of a model trained on another task or with another architecture (e.g. initializing a BertForSequenceClassification model from a BertForPreTraining model).\n",
      "- This IS NOT expected if you are initializing BertForSequenceClassification from the checkpoint of a model that you expect to be exactly identical (initializing a BertForSequenceClassification model from a BertForSequenceClassification model).\n",
      "Some weights of BertForSequenceClassification were not initialized from the model checkpoint at bert-base-uncased and are newly initialized: ['classifier.bias', 'classifier.weight']\n",
      "You should probably TRAIN this model on a down-stream task to be able to use it for predictions and inference.\n"
     ]
    }
   ],
   "source": [
    "# Load models\n",
    "model_sent = BertForSequenceClassification.from_pretrained(\"bert-base-uncased\", num_labels=2) #sentiment analysis\n",
    "model_em = BertForSequenceClassification.from_pretrained(\"bert-base-uncased\", num_labels=6)  #emotion analysis"
   ]
  },
  {
   "cell_type": "code",
   "execution_count": 26,
   "id": "f53c7a23",
   "metadata": {
    "execution": {
     "iopub.execute_input": "2023-07-31T15:05:45.049238Z",
     "iopub.status.busy": "2023-07-31T15:05:45.048883Z",
     "iopub.status.idle": "2023-07-31T15:05:45.137282Z",
     "shell.execute_reply": "2023-07-31T15:05:45.136295Z"
    },
    "papermill": {
     "duration": 0.135745,
     "end_time": "2023-07-31T15:05:45.139505",
     "exception": false,
     "start_time": "2023-07-31T15:05:45.003760",
     "status": "completed"
    },
    "tags": []
   },
   "outputs": [],
   "source": [
    "# Set up training arguments\n",
    "training_args = TrainingArguments(\n",
    "    output_dir=\"./sentiment_transfer_learning_transformer/\",          \n",
    "    logging_dir='./sentiment_transfer_learning_transformer/logs',            \n",
    "    logging_strategy='epoch',\n",
    "    logging_steps=100,    \n",
    "    num_train_epochs=2,              \n",
    "    per_device_train_batch_size=4,  \n",
    "    per_device_eval_batch_size=4,  \n",
    "    learning_rate=5e-6,\n",
    "    seed=42,\n",
    "    save_strategy='epoch',\n",
    "    save_steps=100,\n",
    "    evaluation_strategy='epoch',\n",
    "    eval_steps=100,\n",
    "    load_best_model_at_end=True\n",
    ")"
   ]
  },
  {
   "cell_type": "code",
   "execution_count": 27,
   "id": "39c1d08d",
   "metadata": {
    "execution": {
     "iopub.execute_input": "2023-07-31T15:05:45.230401Z",
     "iopub.status.busy": "2023-07-31T15:05:45.230039Z",
     "iopub.status.idle": "2023-07-31T15:05:45.235780Z",
     "shell.execute_reply": "2023-07-31T15:05:45.234754Z"
    },
    "papermill": {
     "duration": 0.053055,
     "end_time": "2023-07-31T15:05:45.237802",
     "exception": false,
     "start_time": "2023-07-31T15:05:45.184747",
     "status": "completed"
    },
    "tags": []
   },
   "outputs": [],
   "source": [
    "# Function to compute the metric\n",
    "def compute_metrics(eval_pred):\n",
    "    metric = evaluate.load(\"accuracy\")\n",
    "    logits, labels = eval_pred\n",
    "    # probabilities = tf.nn.softmax(logits)\n",
    "    predictions = np.argmax(logits, axis=1)\n",
    "    return metric.compute(predictions=predictions, references=labels)"
   ]
  },
  {
   "cell_type": "code",
   "execution_count": 28,
   "id": "26f78a84",
   "metadata": {
    "execution": {
     "iopub.execute_input": "2023-07-31T15:05:45.328896Z",
     "iopub.status.busy": "2023-07-31T15:05:45.327874Z",
     "iopub.status.idle": "2023-07-31T15:05:56.027498Z",
     "shell.execute_reply": "2023-07-31T15:05:56.026114Z"
    },
    "papermill": {
     "duration": 10.748946,
     "end_time": "2023-07-31T15:05:56.031621",
     "exception": true,
     "start_time": "2023-07-31T15:05:45.282675",
     "status": "failed"
    },
    "tags": []
   },
   "outputs": [
    {
     "name": "stderr",
     "output_type": "stream",
     "text": [
      "/opt/conda/lib/python3.10/site-packages/transformers/optimization.py:411: FutureWarning: This implementation of AdamW is deprecated and will be removed in a future version. Use the PyTorch implementation torch.optim.AdamW instead, or set `no_deprecation_warning=True` to disable this warning\n",
      "  warnings.warn(\n"
     ]
    },
    {
     "data": {
      "text/html": [
       "<pre style=\"white-space:pre;overflow-x:auto;line-height:normal;font-family:Menlo,'DejaVu Sans Mono',consolas,'Courier New',monospace\"><span style=\"color: #800000; text-decoration-color: #800000\">╭─────────────────────────────── </span><span style=\"color: #800000; text-decoration-color: #800000; font-weight: bold\">Traceback </span><span style=\"color: #bf7f7f; text-decoration-color: #bf7f7f; font-weight: bold\">(most recent call last)</span><span style=\"color: #800000; text-decoration-color: #800000\"> ────────────────────────────────╮</span>\n",
       "<span style=\"color: #800000; text-decoration-color: #800000\">│</span> in <span style=\"color: #00ff00; text-decoration-color: #00ff00\">&lt;module&gt;</span>:<span style=\"color: #0000ff; text-decoration-color: #0000ff\">12</span>                                                                                   <span style=\"color: #800000; text-decoration-color: #800000\">│</span>\n",
       "<span style=\"color: #800000; text-decoration-color: #800000\">│</span>                                                                                                  <span style=\"color: #800000; text-decoration-color: #800000\">│</span>\n",
       "<span style=\"color: #800000; text-decoration-color: #800000\">│</span>   <span style=\"color: #7f7f7f; text-decoration-color: #7f7f7f\"> 9 </span><span style=\"color: #7f7f7f; text-decoration-color: #7f7f7f\">│   </span>callbacks=[EarlyStoppingCallback(early_stopping_patience=<span style=\"color: #0000ff; text-decoration-color: #0000ff\">1</span>)]                            <span style=\"color: #800000; text-decoration-color: #800000\">│</span>\n",
       "<span style=\"color: #800000; text-decoration-color: #800000\">│</span>   <span style=\"color: #7f7f7f; text-decoration-color: #7f7f7f\">10 </span>)                                                                                           <span style=\"color: #800000; text-decoration-color: #800000\">│</span>\n",
       "<span style=\"color: #800000; text-decoration-color: #800000\">│</span>   <span style=\"color: #7f7f7f; text-decoration-color: #7f7f7f\">11 </span>                                                                                            <span style=\"color: #800000; text-decoration-color: #800000\">│</span>\n",
       "<span style=\"color: #800000; text-decoration-color: #800000\">│</span> <span style=\"color: #800000; text-decoration-color: #800000\">❱ </span>12 trainer.train()                                                                             <span style=\"color: #800000; text-decoration-color: #800000\">│</span>\n",
       "<span style=\"color: #800000; text-decoration-color: #800000\">│</span>   <span style=\"color: #7f7f7f; text-decoration-color: #7f7f7f\">13 </span>                                                                                            <span style=\"color: #800000; text-decoration-color: #800000\">│</span>\n",
       "<span style=\"color: #800000; text-decoration-color: #800000\">│</span>                                                                                                  <span style=\"color: #800000; text-decoration-color: #800000\">│</span>\n",
       "<span style=\"color: #800000; text-decoration-color: #800000\">│</span> <span style=\"color: #bfbf7f; text-decoration-color: #bfbf7f\">/opt/conda/lib/python3.10/site-packages/transformers/</span><span style=\"color: #808000; text-decoration-color: #808000; font-weight: bold\">trainer.py</span>:<span style=\"color: #0000ff; text-decoration-color: #0000ff\">1645</span> in <span style=\"color: #00ff00; text-decoration-color: #00ff00\">train</span>                    <span style=\"color: #800000; text-decoration-color: #800000\">│</span>\n",
       "<span style=\"color: #800000; text-decoration-color: #800000\">│</span>                                                                                                  <span style=\"color: #800000; text-decoration-color: #800000\">│</span>\n",
       "<span style=\"color: #800000; text-decoration-color: #800000\">│</span>   <span style=\"color: #7f7f7f; text-decoration-color: #7f7f7f\">1642 </span><span style=\"color: #7f7f7f; text-decoration-color: #7f7f7f\">│   │   </span>inner_training_loop = find_executable_batch_size(                                 <span style=\"color: #800000; text-decoration-color: #800000\">│</span>\n",
       "<span style=\"color: #800000; text-decoration-color: #800000\">│</span>   <span style=\"color: #7f7f7f; text-decoration-color: #7f7f7f\">1643 </span><span style=\"color: #7f7f7f; text-decoration-color: #7f7f7f\">│   │   │   </span><span style=\"color: #00ffff; text-decoration-color: #00ffff\">self</span>._inner_training_loop, <span style=\"color: #00ffff; text-decoration-color: #00ffff\">self</span>._train_batch_size, args.auto_find_batch_size  <span style=\"color: #800000; text-decoration-color: #800000\">│</span>\n",
       "<span style=\"color: #800000; text-decoration-color: #800000\">│</span>   <span style=\"color: #7f7f7f; text-decoration-color: #7f7f7f\">1644 </span><span style=\"color: #7f7f7f; text-decoration-color: #7f7f7f\">│   │   </span>)                                                                                 <span style=\"color: #800000; text-decoration-color: #800000\">│</span>\n",
       "<span style=\"color: #800000; text-decoration-color: #800000\">│</span> <span style=\"color: #800000; text-decoration-color: #800000\">❱ </span>1645 <span style=\"color: #7f7f7f; text-decoration-color: #7f7f7f\">│   │   </span><span style=\"color: #0000ff; text-decoration-color: #0000ff\">return</span> inner_training_loop(                                                       <span style=\"color: #800000; text-decoration-color: #800000\">│</span>\n",
       "<span style=\"color: #800000; text-decoration-color: #800000\">│</span>   <span style=\"color: #7f7f7f; text-decoration-color: #7f7f7f\">1646 </span><span style=\"color: #7f7f7f; text-decoration-color: #7f7f7f\">│   │   │   </span>args=args,                                                                    <span style=\"color: #800000; text-decoration-color: #800000\">│</span>\n",
       "<span style=\"color: #800000; text-decoration-color: #800000\">│</span>   <span style=\"color: #7f7f7f; text-decoration-color: #7f7f7f\">1647 </span><span style=\"color: #7f7f7f; text-decoration-color: #7f7f7f\">│   │   │   </span>resume_from_checkpoint=resume_from_checkpoint,                                <span style=\"color: #800000; text-decoration-color: #800000\">│</span>\n",
       "<span style=\"color: #800000; text-decoration-color: #800000\">│</span>   <span style=\"color: #7f7f7f; text-decoration-color: #7f7f7f\">1648 </span><span style=\"color: #7f7f7f; text-decoration-color: #7f7f7f\">│   │   │   </span>trial=trial,                                                                  <span style=\"color: #800000; text-decoration-color: #800000\">│</span>\n",
       "<span style=\"color: #800000; text-decoration-color: #800000\">│</span>                                                                                                  <span style=\"color: #800000; text-decoration-color: #800000\">│</span>\n",
       "<span style=\"color: #800000; text-decoration-color: #800000\">│</span> <span style=\"color: #bfbf7f; text-decoration-color: #bfbf7f\">/opt/conda/lib/python3.10/site-packages/transformers/</span><span style=\"color: #808000; text-decoration-color: #808000; font-weight: bold\">trainer.py</span>:<span style=\"color: #0000ff; text-decoration-color: #0000ff\">1862</span> in <span style=\"color: #00ff00; text-decoration-color: #00ff00\">_inner_training_loop</span>     <span style=\"color: #800000; text-decoration-color: #800000\">│</span>\n",
       "<span style=\"color: #800000; text-decoration-color: #800000\">│</span>                                                                                                  <span style=\"color: #800000; text-decoration-color: #800000\">│</span>\n",
       "<span style=\"color: #800000; text-decoration-color: #800000\">│</span>   <span style=\"color: #7f7f7f; text-decoration-color: #7f7f7f\">1859 </span><span style=\"color: #7f7f7f; text-decoration-color: #7f7f7f\">│   │   </span><span style=\"color: #00ffff; text-decoration-color: #00ffff\">self</span>._globalstep_last_logged = <span style=\"color: #00ffff; text-decoration-color: #00ffff\">self</span>.state.global_step                             <span style=\"color: #800000; text-decoration-color: #800000\">│</span>\n",
       "<span style=\"color: #800000; text-decoration-color: #800000\">│</span>   <span style=\"color: #7f7f7f; text-decoration-color: #7f7f7f\">1860 </span><span style=\"color: #7f7f7f; text-decoration-color: #7f7f7f\">│   │   </span>model.zero_grad()                                                                 <span style=\"color: #800000; text-decoration-color: #800000\">│</span>\n",
       "<span style=\"color: #800000; text-decoration-color: #800000\">│</span>   <span style=\"color: #7f7f7f; text-decoration-color: #7f7f7f\">1861 </span><span style=\"color: #7f7f7f; text-decoration-color: #7f7f7f\">│   │   </span>                                                                                  <span style=\"color: #800000; text-decoration-color: #800000\">│</span>\n",
       "<span style=\"color: #800000; text-decoration-color: #800000\">│</span> <span style=\"color: #800000; text-decoration-color: #800000\">❱ </span>1862 <span style=\"color: #7f7f7f; text-decoration-color: #7f7f7f\">│   │   </span><span style=\"color: #00ffff; text-decoration-color: #00ffff\">self</span>.control = <span style=\"color: #00ffff; text-decoration-color: #00ffff\">self</span>.callback_handler.on_train_begin(args, <span style=\"color: #00ffff; text-decoration-color: #00ffff\">self</span>.state, <span style=\"color: #00ffff; text-decoration-color: #00ffff\">self</span>.contr  <span style=\"color: #800000; text-decoration-color: #800000\">│</span>\n",
       "<span style=\"color: #800000; text-decoration-color: #800000\">│</span>   <span style=\"color: #7f7f7f; text-decoration-color: #7f7f7f\">1863 </span><span style=\"color: #7f7f7f; text-decoration-color: #7f7f7f\">│   │   </span>                                                                                  <span style=\"color: #800000; text-decoration-color: #800000\">│</span>\n",
       "<span style=\"color: #800000; text-decoration-color: #800000\">│</span>   <span style=\"color: #7f7f7f; text-decoration-color: #7f7f7f\">1864 </span><span style=\"color: #7f7f7f; text-decoration-color: #7f7f7f\">│   │   </span><span style=\"color: #7f7f7f; text-decoration-color: #7f7f7f\"># Skip the first epochs_trained epochs to get the random state of the dataloader</span>  <span style=\"color: #800000; text-decoration-color: #800000\">│</span>\n",
       "<span style=\"color: #800000; text-decoration-color: #800000\">│</span>   <span style=\"color: #7f7f7f; text-decoration-color: #7f7f7f\">1865 </span><span style=\"color: #7f7f7f; text-decoration-color: #7f7f7f\">│   │   </span><span style=\"color: #0000ff; text-decoration-color: #0000ff\">if</span> <span style=\"color: #ff00ff; text-decoration-color: #ff00ff\">not</span> args.ignore_data_skip:                                                     <span style=\"color: #800000; text-decoration-color: #800000\">│</span>\n",
       "<span style=\"color: #800000; text-decoration-color: #800000\">│</span>                                                                                                  <span style=\"color: #800000; text-decoration-color: #800000\">│</span>\n",
       "<span style=\"color: #800000; text-decoration-color: #800000\">│</span> <span style=\"color: #bfbf7f; text-decoration-color: #bfbf7f\">/opt/conda/lib/python3.10/site-packages/transformers/</span><span style=\"color: #808000; text-decoration-color: #808000; font-weight: bold\">trainer_callback.py</span>:<span style=\"color: #0000ff; text-decoration-color: #0000ff\">353</span> in <span style=\"color: #00ff00; text-decoration-color: #00ff00\">on_train_begin</span>   <span style=\"color: #800000; text-decoration-color: #800000\">│</span>\n",
       "<span style=\"color: #800000; text-decoration-color: #800000\">│</span>                                                                                                  <span style=\"color: #800000; text-decoration-color: #800000\">│</span>\n",
       "<span style=\"color: #800000; text-decoration-color: #800000\">│</span>   <span style=\"color: #7f7f7f; text-decoration-color: #7f7f7f\">350 </span><span style=\"color: #7f7f7f; text-decoration-color: #7f7f7f\">│   </span>                                                                                       <span style=\"color: #800000; text-decoration-color: #800000\">│</span>\n",
       "<span style=\"color: #800000; text-decoration-color: #800000\">│</span>   <span style=\"color: #7f7f7f; text-decoration-color: #7f7f7f\">351 </span><span style=\"color: #7f7f7f; text-decoration-color: #7f7f7f\">│   </span><span style=\"color: #0000ff; text-decoration-color: #0000ff\">def</span> <span style=\"color: #00ff00; text-decoration-color: #00ff00\">on_train_begin</span>(<span style=\"color: #00ffff; text-decoration-color: #00ffff\">self</span>, args: TrainingArguments, state: TrainerState, control: Trai   <span style=\"color: #800000; text-decoration-color: #800000\">│</span>\n",
       "<span style=\"color: #800000; text-decoration-color: #800000\">│</span>   <span style=\"color: #7f7f7f; text-decoration-color: #7f7f7f\">352 </span><span style=\"color: #7f7f7f; text-decoration-color: #7f7f7f\">│   │   </span>control.should_training_stop = <span style=\"color: #0000ff; text-decoration-color: #0000ff\">False</span>                                               <span style=\"color: #800000; text-decoration-color: #800000\">│</span>\n",
       "<span style=\"color: #800000; text-decoration-color: #800000\">│</span> <span style=\"color: #800000; text-decoration-color: #800000\">❱ </span>353 <span style=\"color: #7f7f7f; text-decoration-color: #7f7f7f\">│   │   </span><span style=\"color: #0000ff; text-decoration-color: #0000ff\">return</span> <span style=\"color: #00ffff; text-decoration-color: #00ffff\">self</span>.call_event(<span style=\"color: #808000; text-decoration-color: #808000\">\"on_train_begin\"</span>, args, state, control)                     <span style=\"color: #800000; text-decoration-color: #800000\">│</span>\n",
       "<span style=\"color: #800000; text-decoration-color: #800000\">│</span>   <span style=\"color: #7f7f7f; text-decoration-color: #7f7f7f\">354 </span><span style=\"color: #7f7f7f; text-decoration-color: #7f7f7f\">│   </span>                                                                                       <span style=\"color: #800000; text-decoration-color: #800000\">│</span>\n",
       "<span style=\"color: #800000; text-decoration-color: #800000\">│</span>   <span style=\"color: #7f7f7f; text-decoration-color: #7f7f7f\">355 </span><span style=\"color: #7f7f7f; text-decoration-color: #7f7f7f\">│   </span><span style=\"color: #0000ff; text-decoration-color: #0000ff\">def</span> <span style=\"color: #00ff00; text-decoration-color: #00ff00\">on_train_end</span>(<span style=\"color: #00ffff; text-decoration-color: #00ffff\">self</span>, args: TrainingArguments, state: TrainerState, control: Traine   <span style=\"color: #800000; text-decoration-color: #800000\">│</span>\n",
       "<span style=\"color: #800000; text-decoration-color: #800000\">│</span>   <span style=\"color: #7f7f7f; text-decoration-color: #7f7f7f\">356 </span><span style=\"color: #7f7f7f; text-decoration-color: #7f7f7f\">│   │   </span><span style=\"color: #0000ff; text-decoration-color: #0000ff\">return</span> <span style=\"color: #00ffff; text-decoration-color: #00ffff\">self</span>.call_event(<span style=\"color: #808000; text-decoration-color: #808000\">\"on_train_end\"</span>, args, state, control)                       <span style=\"color: #800000; text-decoration-color: #800000\">│</span>\n",
       "<span style=\"color: #800000; text-decoration-color: #800000\">│</span>                                                                                                  <span style=\"color: #800000; text-decoration-color: #800000\">│</span>\n",
       "<span style=\"color: #800000; text-decoration-color: #800000\">│</span> <span style=\"color: #bfbf7f; text-decoration-color: #bfbf7f\">/opt/conda/lib/python3.10/site-packages/transformers/</span><span style=\"color: #808000; text-decoration-color: #808000; font-weight: bold\">trainer_callback.py</span>:<span style=\"color: #0000ff; text-decoration-color: #0000ff\">397</span> in <span style=\"color: #00ff00; text-decoration-color: #00ff00\">call_event</span>       <span style=\"color: #800000; text-decoration-color: #800000\">│</span>\n",
       "<span style=\"color: #800000; text-decoration-color: #800000\">│</span>                                                                                                  <span style=\"color: #800000; text-decoration-color: #800000\">│</span>\n",
       "<span style=\"color: #800000; text-decoration-color: #800000\">│</span>   <span style=\"color: #7f7f7f; text-decoration-color: #7f7f7f\">394 </span><span style=\"color: #7f7f7f; text-decoration-color: #7f7f7f\">│   </span>                                                                                       <span style=\"color: #800000; text-decoration-color: #800000\">│</span>\n",
       "<span style=\"color: #800000; text-decoration-color: #800000\">│</span>   <span style=\"color: #7f7f7f; text-decoration-color: #7f7f7f\">395 </span><span style=\"color: #7f7f7f; text-decoration-color: #7f7f7f\">│   </span><span style=\"color: #0000ff; text-decoration-color: #0000ff\">def</span> <span style=\"color: #00ff00; text-decoration-color: #00ff00\">call_event</span>(<span style=\"color: #00ffff; text-decoration-color: #00ffff\">self</span>, event, args, state, control, **kwargs):                           <span style=\"color: #800000; text-decoration-color: #800000\">│</span>\n",
       "<span style=\"color: #800000; text-decoration-color: #800000\">│</span>   <span style=\"color: #7f7f7f; text-decoration-color: #7f7f7f\">396 </span><span style=\"color: #7f7f7f; text-decoration-color: #7f7f7f\">│   │   </span><span style=\"color: #0000ff; text-decoration-color: #0000ff\">for</span> callback <span style=\"color: #ff00ff; text-decoration-color: #ff00ff\">in</span> <span style=\"color: #00ffff; text-decoration-color: #00ffff\">self</span>.callbacks:                                                    <span style=\"color: #800000; text-decoration-color: #800000\">│</span>\n",
       "<span style=\"color: #800000; text-decoration-color: #800000\">│</span> <span style=\"color: #800000; text-decoration-color: #800000\">❱ </span>397 <span style=\"color: #7f7f7f; text-decoration-color: #7f7f7f\">│   │   │   </span>result = <span style=\"color: #00ffff; text-decoration-color: #00ffff\">getattr</span>(callback, event)(                                             <span style=\"color: #800000; text-decoration-color: #800000\">│</span>\n",
       "<span style=\"color: #800000; text-decoration-color: #800000\">│</span>   <span style=\"color: #7f7f7f; text-decoration-color: #7f7f7f\">398 </span><span style=\"color: #7f7f7f; text-decoration-color: #7f7f7f\">│   │   │   │   </span>args,                                                                      <span style=\"color: #800000; text-decoration-color: #800000\">│</span>\n",
       "<span style=\"color: #800000; text-decoration-color: #800000\">│</span>   <span style=\"color: #7f7f7f; text-decoration-color: #7f7f7f\">399 </span><span style=\"color: #7f7f7f; text-decoration-color: #7f7f7f\">│   │   │   │   </span>state,                                                                     <span style=\"color: #800000; text-decoration-color: #800000\">│</span>\n",
       "<span style=\"color: #800000; text-decoration-color: #800000\">│</span>   <span style=\"color: #7f7f7f; text-decoration-color: #7f7f7f\">400 </span><span style=\"color: #7f7f7f; text-decoration-color: #7f7f7f\">│   │   │   │   </span>control,                                                                   <span style=\"color: #800000; text-decoration-color: #800000\">│</span>\n",
       "<span style=\"color: #800000; text-decoration-color: #800000\">│</span>                                                                                                  <span style=\"color: #800000; text-decoration-color: #800000\">│</span>\n",
       "<span style=\"color: #800000; text-decoration-color: #800000\">│</span> <span style=\"color: #bfbf7f; text-decoration-color: #bfbf7f\">/opt/conda/lib/python3.10/site-packages/transformers/</span><span style=\"color: #808000; text-decoration-color: #808000; font-weight: bold\">integrations.py</span>:<span style=\"color: #0000ff; text-decoration-color: #0000ff\">771</span> in <span style=\"color: #00ff00; text-decoration-color: #00ff00\">on_train_begin</span>       <span style=\"color: #800000; text-decoration-color: #800000\">│</span>\n",
       "<span style=\"color: #800000; text-decoration-color: #800000\">│</span>                                                                                                  <span style=\"color: #800000; text-decoration-color: #800000\">│</span>\n",
       "<span style=\"color: #800000; text-decoration-color: #800000\">│</span>   <span style=\"color: #7f7f7f; text-decoration-color: #7f7f7f\"> 768 </span><span style=\"color: #7f7f7f; text-decoration-color: #7f7f7f\">│   │   │   </span><span style=\"color: #00ffff; text-decoration-color: #00ffff\">self</span>._initialized = <span style=\"color: #0000ff; text-decoration-color: #0000ff\">False</span>                                                     <span style=\"color: #800000; text-decoration-color: #800000\">│</span>\n",
       "<span style=\"color: #800000; text-decoration-color: #800000\">│</span>   <span style=\"color: #7f7f7f; text-decoration-color: #7f7f7f\"> 769 </span><span style=\"color: #7f7f7f; text-decoration-color: #7f7f7f\">│   │   │   </span>args.run_name = <span style=\"color: #0000ff; text-decoration-color: #0000ff\">None</span>                                                          <span style=\"color: #800000; text-decoration-color: #800000\">│</span>\n",
       "<span style=\"color: #800000; text-decoration-color: #800000\">│</span>   <span style=\"color: #7f7f7f; text-decoration-color: #7f7f7f\"> 770 </span><span style=\"color: #7f7f7f; text-decoration-color: #7f7f7f\">│   │   </span><span style=\"color: #0000ff; text-decoration-color: #0000ff\">if</span> <span style=\"color: #ff00ff; text-decoration-color: #ff00ff\">not</span> <span style=\"color: #00ffff; text-decoration-color: #00ffff\">self</span>._initialized:                                                         <span style=\"color: #800000; text-decoration-color: #800000\">│</span>\n",
       "<span style=\"color: #800000; text-decoration-color: #800000\">│</span> <span style=\"color: #800000; text-decoration-color: #800000\">❱ </span> 771 <span style=\"color: #7f7f7f; text-decoration-color: #7f7f7f\">│   │   │   </span><span style=\"color: #00ffff; text-decoration-color: #00ffff\">self</span>.setup(args, state, model, **kwargs)                                      <span style=\"color: #800000; text-decoration-color: #800000\">│</span>\n",
       "<span style=\"color: #800000; text-decoration-color: #800000\">│</span>   <span style=\"color: #7f7f7f; text-decoration-color: #7f7f7f\"> 772 </span><span style=\"color: #7f7f7f; text-decoration-color: #7f7f7f\">│   </span>                                                                                      <span style=\"color: #800000; text-decoration-color: #800000\">│</span>\n",
       "<span style=\"color: #800000; text-decoration-color: #800000\">│</span>   <span style=\"color: #7f7f7f; text-decoration-color: #7f7f7f\"> 773 </span><span style=\"color: #7f7f7f; text-decoration-color: #7f7f7f\">│   </span><span style=\"color: #0000ff; text-decoration-color: #0000ff\">def</span> <span style=\"color: #00ff00; text-decoration-color: #00ff00\">on_train_end</span>(<span style=\"color: #00ffff; text-decoration-color: #00ffff\">self</span>, args, state, control, model=<span style=\"color: #0000ff; text-decoration-color: #0000ff\">None</span>, tokenizer=<span style=\"color: #0000ff; text-decoration-color: #0000ff\">None</span>, **kwargs):   <span style=\"color: #800000; text-decoration-color: #800000\">│</span>\n",
       "<span style=\"color: #800000; text-decoration-color: #800000\">│</span>   <span style=\"color: #7f7f7f; text-decoration-color: #7f7f7f\"> 774 </span><span style=\"color: #7f7f7f; text-decoration-color: #7f7f7f\">│   │   </span><span style=\"color: #0000ff; text-decoration-color: #0000ff\">if</span> <span style=\"color: #00ffff; text-decoration-color: #00ffff\">self</span>._wandb <span style=\"color: #ff00ff; text-decoration-color: #ff00ff\">is</span> <span style=\"color: #0000ff; text-decoration-color: #0000ff\">None</span>:                                                           <span style=\"color: #800000; text-decoration-color: #800000\">│</span>\n",
       "<span style=\"color: #800000; text-decoration-color: #800000\">│</span>                                                                                                  <span style=\"color: #800000; text-decoration-color: #800000\">│</span>\n",
       "<span style=\"color: #800000; text-decoration-color: #800000\">│</span> <span style=\"color: #bfbf7f; text-decoration-color: #bfbf7f\">/opt/conda/lib/python3.10/site-packages/transformers/</span><span style=\"color: #808000; text-decoration-color: #808000; font-weight: bold\">integrations.py</span>:<span style=\"color: #0000ff; text-decoration-color: #0000ff\">745</span> in <span style=\"color: #00ff00; text-decoration-color: #00ff00\">setup</span>                <span style=\"color: #800000; text-decoration-color: #800000\">│</span>\n",
       "<span style=\"color: #800000; text-decoration-color: #800000\">│</span>                                                                                                  <span style=\"color: #800000; text-decoration-color: #800000\">│</span>\n",
       "<span style=\"color: #800000; text-decoration-color: #800000\">│</span>   <span style=\"color: #7f7f7f; text-decoration-color: #7f7f7f\"> 742 </span><span style=\"color: #7f7f7f; text-decoration-color: #7f7f7f\">│   │   │   │   │   </span>init_args[<span style=\"color: #808000; text-decoration-color: #808000\">\"name\"</span>] = args.run_name                                     <span style=\"color: #800000; text-decoration-color: #800000\">│</span>\n",
       "<span style=\"color: #800000; text-decoration-color: #800000\">│</span>   <span style=\"color: #7f7f7f; text-decoration-color: #7f7f7f\"> 743 </span><span style=\"color: #7f7f7f; text-decoration-color: #7f7f7f\">│   │   │   </span>                                                                              <span style=\"color: #800000; text-decoration-color: #800000\">│</span>\n",
       "<span style=\"color: #800000; text-decoration-color: #800000\">│</span>   <span style=\"color: #7f7f7f; text-decoration-color: #7f7f7f\"> 744 </span><span style=\"color: #7f7f7f; text-decoration-color: #7f7f7f\">│   │   │   </span><span style=\"color: #0000ff; text-decoration-color: #0000ff\">if</span> <span style=\"color: #00ffff; text-decoration-color: #00ffff\">self</span>._wandb.run <span style=\"color: #ff00ff; text-decoration-color: #ff00ff\">is</span> <span style=\"color: #0000ff; text-decoration-color: #0000ff\">None</span>:                                                   <span style=\"color: #800000; text-decoration-color: #800000\">│</span>\n",
       "<span style=\"color: #800000; text-decoration-color: #800000\">│</span> <span style=\"color: #800000; text-decoration-color: #800000\">❱ </span> 745 <span style=\"color: #7f7f7f; text-decoration-color: #7f7f7f\">│   │   │   │   </span><span style=\"color: #00ffff; text-decoration-color: #00ffff\">self</span>._wandb.init(                                                         <span style=\"color: #800000; text-decoration-color: #800000\">│</span>\n",
       "<span style=\"color: #800000; text-decoration-color: #800000\">│</span>   <span style=\"color: #7f7f7f; text-decoration-color: #7f7f7f\"> 746 </span><span style=\"color: #7f7f7f; text-decoration-color: #7f7f7f\">│   │   │   │   │   </span>project=os.getenv(<span style=\"color: #808000; text-decoration-color: #808000\">\"WANDB_PROJECT\"</span>, <span style=\"color: #808000; text-decoration-color: #808000\">\"huggingface\"</span>),                    <span style=\"color: #800000; text-decoration-color: #800000\">│</span>\n",
       "<span style=\"color: #800000; text-decoration-color: #800000\">│</span>   <span style=\"color: #7f7f7f; text-decoration-color: #7f7f7f\"> 747 </span><span style=\"color: #7f7f7f; text-decoration-color: #7f7f7f\">│   │   │   │   │   </span>**init_args,                                                          <span style=\"color: #800000; text-decoration-color: #800000\">│</span>\n",
       "<span style=\"color: #800000; text-decoration-color: #800000\">│</span>   <span style=\"color: #7f7f7f; text-decoration-color: #7f7f7f\"> 748 </span><span style=\"color: #7f7f7f; text-decoration-color: #7f7f7f\">│   │   │   │   </span>)                                                                         <span style=\"color: #800000; text-decoration-color: #800000\">│</span>\n",
       "<span style=\"color: #800000; text-decoration-color: #800000\">│</span>                                                                                                  <span style=\"color: #800000; text-decoration-color: #800000\">│</span>\n",
       "<span style=\"color: #800000; text-decoration-color: #800000\">│</span> <span style=\"color: #bfbf7f; text-decoration-color: #bfbf7f\">/opt/conda/lib/python3.10/site-packages/wandb/sdk/</span><span style=\"color: #808000; text-decoration-color: #808000; font-weight: bold\">wandb_init.py</span>:<span style=\"color: #0000ff; text-decoration-color: #0000ff\">1173</span> in <span style=\"color: #00ff00; text-decoration-color: #00ff00\">init</span>                     <span style=\"color: #800000; text-decoration-color: #800000\">│</span>\n",
       "<span style=\"color: #800000; text-decoration-color: #800000\">│</span>                                                                                                  <span style=\"color: #800000; text-decoration-color: #800000\">│</span>\n",
       "<span style=\"color: #800000; text-decoration-color: #800000\">│</span>   <span style=\"color: #7f7f7f; text-decoration-color: #7f7f7f\">1170 </span><span style=\"color: #7f7f7f; text-decoration-color: #7f7f7f\">│   </span><span style=\"color: #0000ff; text-decoration-color: #0000ff\">except</span> Error <span style=\"color: #0000ff; text-decoration-color: #0000ff\">as</span> e:                                                                    <span style=\"color: #800000; text-decoration-color: #800000\">│</span>\n",
       "<span style=\"color: #800000; text-decoration-color: #800000\">│</span>   <span style=\"color: #7f7f7f; text-decoration-color: #7f7f7f\">1171 </span><span style=\"color: #7f7f7f; text-decoration-color: #7f7f7f\">│   │   </span><span style=\"color: #0000ff; text-decoration-color: #0000ff\">if</span> logger <span style=\"color: #ff00ff; text-decoration-color: #ff00ff\">is</span> <span style=\"color: #ff00ff; text-decoration-color: #ff00ff\">not</span> <span style=\"color: #0000ff; text-decoration-color: #0000ff\">None</span>:                                                            <span style=\"color: #800000; text-decoration-color: #800000\">│</span>\n",
       "<span style=\"color: #800000; text-decoration-color: #800000\">│</span>   <span style=\"color: #7f7f7f; text-decoration-color: #7f7f7f\">1172 </span><span style=\"color: #7f7f7f; text-decoration-color: #7f7f7f\">│   │   │   </span>logger.exception(<span style=\"color: #00ffff; text-decoration-color: #00ffff\">str</span>(e))                                                      <span style=\"color: #800000; text-decoration-color: #800000\">│</span>\n",
       "<span style=\"color: #800000; text-decoration-color: #800000\">│</span> <span style=\"color: #800000; text-decoration-color: #800000\">❱ </span>1173 <span style=\"color: #7f7f7f; text-decoration-color: #7f7f7f\">│   │   </span><span style=\"color: #0000ff; text-decoration-color: #0000ff\">raise</span> e                                                                           <span style=\"color: #800000; text-decoration-color: #800000\">│</span>\n",
       "<span style=\"color: #800000; text-decoration-color: #800000\">│</span>   <span style=\"color: #7f7f7f; text-decoration-color: #7f7f7f\">1174 </span><span style=\"color: #7f7f7f; text-decoration-color: #7f7f7f\">│   </span><span style=\"color: #0000ff; text-decoration-color: #0000ff\">except</span> <span style=\"color: #00ffff; text-decoration-color: #00ffff\">KeyboardInterrupt</span> <span style=\"color: #0000ff; text-decoration-color: #0000ff\">as</span> e:                                                        <span style=\"color: #800000; text-decoration-color: #800000\">│</span>\n",
       "<span style=\"color: #800000; text-decoration-color: #800000\">│</span>   <span style=\"color: #7f7f7f; text-decoration-color: #7f7f7f\">1175 </span><span style=\"color: #7f7f7f; text-decoration-color: #7f7f7f\">│   │   </span><span style=\"color: #0000ff; text-decoration-color: #0000ff\">assert</span> logger                                                                     <span style=\"color: #800000; text-decoration-color: #800000\">│</span>\n",
       "<span style=\"color: #800000; text-decoration-color: #800000\">│</span>   <span style=\"color: #7f7f7f; text-decoration-color: #7f7f7f\">1176 </span><span style=\"color: #7f7f7f; text-decoration-color: #7f7f7f\">│   │   </span>logger.warning(<span style=\"color: #808000; text-decoration-color: #808000\">\"interrupted\"</span>, exc_info=e)                                         <span style=\"color: #800000; text-decoration-color: #800000\">│</span>\n",
       "<span style=\"color: #800000; text-decoration-color: #800000\">│</span>                                                                                                  <span style=\"color: #800000; text-decoration-color: #800000\">│</span>\n",
       "<span style=\"color: #800000; text-decoration-color: #800000\">│</span> <span style=\"color: #bfbf7f; text-decoration-color: #bfbf7f\">/opt/conda/lib/python3.10/site-packages/wandb/sdk/</span><span style=\"color: #808000; text-decoration-color: #808000; font-weight: bold\">wandb_init.py</span>:<span style=\"color: #0000ff; text-decoration-color: #0000ff\">1150</span> in <span style=\"color: #00ff00; text-decoration-color: #00ff00\">init</span>                     <span style=\"color: #800000; text-decoration-color: #800000\">│</span>\n",
       "<span style=\"color: #800000; text-decoration-color: #800000\">│</span>                                                                                                  <span style=\"color: #800000; text-decoration-color: #800000\">│</span>\n",
       "<span style=\"color: #800000; text-decoration-color: #800000\">│</span>   <span style=\"color: #7f7f7f; text-decoration-color: #7f7f7f\">1147 </span><span style=\"color: #7f7f7f; text-decoration-color: #7f7f7f\">│   </span>run: Optional[Union[Run, RunDisabled]] = <span style=\"color: #0000ff; text-decoration-color: #0000ff\">None</span>                                         <span style=\"color: #800000; text-decoration-color: #800000\">│</span>\n",
       "<span style=\"color: #800000; text-decoration-color: #800000\">│</span>   <span style=\"color: #7f7f7f; text-decoration-color: #7f7f7f\">1148 </span><span style=\"color: #7f7f7f; text-decoration-color: #7f7f7f\">│   </span><span style=\"color: #0000ff; text-decoration-color: #0000ff\">try</span>:                                                                                  <span style=\"color: #800000; text-decoration-color: #800000\">│</span>\n",
       "<span style=\"color: #800000; text-decoration-color: #800000\">│</span>   <span style=\"color: #7f7f7f; text-decoration-color: #7f7f7f\">1149 </span><span style=\"color: #7f7f7f; text-decoration-color: #7f7f7f\">│   │   </span>wi = _WandbInit()                                                                 <span style=\"color: #800000; text-decoration-color: #800000\">│</span>\n",
       "<span style=\"color: #800000; text-decoration-color: #800000\">│</span> <span style=\"color: #800000; text-decoration-color: #800000\">❱ </span>1150 <span style=\"color: #7f7f7f; text-decoration-color: #7f7f7f\">│   │   </span>wi.setup(kwargs)                                                                  <span style=\"color: #800000; text-decoration-color: #800000\">│</span>\n",
       "<span style=\"color: #800000; text-decoration-color: #800000\">│</span>   <span style=\"color: #7f7f7f; text-decoration-color: #7f7f7f\">1151 </span><span style=\"color: #7f7f7f; text-decoration-color: #7f7f7f\">│   │   </span><span style=\"color: #0000ff; text-decoration-color: #0000ff\">assert</span> wi.settings                                                                <span style=\"color: #800000; text-decoration-color: #800000\">│</span>\n",
       "<span style=\"color: #800000; text-decoration-color: #800000\">│</span>   <span style=\"color: #7f7f7f; text-decoration-color: #7f7f7f\">1152 </span><span style=\"color: #7f7f7f; text-decoration-color: #7f7f7f\">│   │   </span>except_exit = wi.settings._except_exit                                            <span style=\"color: #800000; text-decoration-color: #800000\">│</span>\n",
       "<span style=\"color: #800000; text-decoration-color: #800000\">│</span>   <span style=\"color: #7f7f7f; text-decoration-color: #7f7f7f\">1153 </span><span style=\"color: #7f7f7f; text-decoration-color: #7f7f7f\">│   │   </span><span style=\"color: #0000ff; text-decoration-color: #0000ff\">try</span>:                                                                              <span style=\"color: #800000; text-decoration-color: #800000\">│</span>\n",
       "<span style=\"color: #800000; text-decoration-color: #800000\">│</span>                                                                                                  <span style=\"color: #800000; text-decoration-color: #800000\">│</span>\n",
       "<span style=\"color: #800000; text-decoration-color: #800000\">│</span> <span style=\"color: #bfbf7f; text-decoration-color: #bfbf7f\">/opt/conda/lib/python3.10/site-packages/wandb/sdk/</span><span style=\"color: #808000; text-decoration-color: #808000; font-weight: bold\">wandb_init.py</span>:<span style=\"color: #0000ff; text-decoration-color: #0000ff\">289</span> in <span style=\"color: #00ff00; text-decoration-color: #00ff00\">setup</span>                     <span style=\"color: #800000; text-decoration-color: #800000\">│</span>\n",
       "<span style=\"color: #800000; text-decoration-color: #800000\">│</span>                                                                                                  <span style=\"color: #800000; text-decoration-color: #800000\">│</span>\n",
       "<span style=\"color: #800000; text-decoration-color: #800000\">│</span>   <span style=\"color: #7f7f7f; text-decoration-color: #7f7f7f\"> 286 </span><span style=\"color: #7f7f7f; text-decoration-color: #7f7f7f\">│   │   │   </span>settings.update(init_settings, source=Source.INIT)                            <span style=\"color: #800000; text-decoration-color: #800000\">│</span>\n",
       "<span style=\"color: #800000; text-decoration-color: #800000\">│</span>   <span style=\"color: #7f7f7f; text-decoration-color: #7f7f7f\"> 287 </span><span style=\"color: #7f7f7f; text-decoration-color: #7f7f7f\">│   │   </span>                                                                                  <span style=\"color: #800000; text-decoration-color: #800000\">│</span>\n",
       "<span style=\"color: #800000; text-decoration-color: #800000\">│</span>   <span style=\"color: #7f7f7f; text-decoration-color: #7f7f7f\"> 288 </span><span style=\"color: #7f7f7f; text-decoration-color: #7f7f7f\">│   │   </span><span style=\"color: #0000ff; text-decoration-color: #0000ff\">if</span> <span style=\"color: #ff00ff; text-decoration-color: #ff00ff\">not</span> settings._offline <span style=\"color: #ff00ff; text-decoration-color: #ff00ff\">and</span> <span style=\"color: #ff00ff; text-decoration-color: #ff00ff\">not</span> settings._noop:                                  <span style=\"color: #800000; text-decoration-color: #800000\">│</span>\n",
       "<span style=\"color: #800000; text-decoration-color: #800000\">│</span> <span style=\"color: #800000; text-decoration-color: #800000\">❱ </span> 289 <span style=\"color: #7f7f7f; text-decoration-color: #7f7f7f\">│   │   │   </span>wandb_login._login(                                                           <span style=\"color: #800000; text-decoration-color: #800000\">│</span>\n",
       "<span style=\"color: #800000; text-decoration-color: #800000\">│</span>   <span style=\"color: #7f7f7f; text-decoration-color: #7f7f7f\"> 290 </span><span style=\"color: #7f7f7f; text-decoration-color: #7f7f7f\">│   │   │   │   </span>anonymous=kwargs.pop(<span style=\"color: #808000; text-decoration-color: #808000\">\"anonymous\"</span>, <span style=\"color: #0000ff; text-decoration-color: #0000ff\">None</span>),                                  <span style=\"color: #800000; text-decoration-color: #800000\">│</span>\n",
       "<span style=\"color: #800000; text-decoration-color: #800000\">│</span>   <span style=\"color: #7f7f7f; text-decoration-color: #7f7f7f\"> 291 </span><span style=\"color: #7f7f7f; text-decoration-color: #7f7f7f\">│   │   │   │   </span>force=kwargs.pop(<span style=\"color: #808000; text-decoration-color: #808000\">\"force\"</span>, <span style=\"color: #0000ff; text-decoration-color: #0000ff\">None</span>),                                          <span style=\"color: #800000; text-decoration-color: #800000\">│</span>\n",
       "<span style=\"color: #800000; text-decoration-color: #800000\">│</span>   <span style=\"color: #7f7f7f; text-decoration-color: #7f7f7f\"> 292 </span><span style=\"color: #7f7f7f; text-decoration-color: #7f7f7f\">│   │   │   │   </span>_disable_warning=<span style=\"color: #0000ff; text-decoration-color: #0000ff\">True</span>,                                                    <span style=\"color: #800000; text-decoration-color: #800000\">│</span>\n",
       "<span style=\"color: #800000; text-decoration-color: #800000\">│</span>                                                                                                  <span style=\"color: #800000; text-decoration-color: #800000\">│</span>\n",
       "<span style=\"color: #800000; text-decoration-color: #800000\">│</span> <span style=\"color: #bfbf7f; text-decoration-color: #bfbf7f\">/opt/conda/lib/python3.10/site-packages/wandb/sdk/</span><span style=\"color: #808000; text-decoration-color: #808000; font-weight: bold\">wandb_login.py</span>:<span style=\"color: #0000ff; text-decoration-color: #0000ff\">298</span> in <span style=\"color: #00ff00; text-decoration-color: #00ff00\">_login</span>                   <span style=\"color: #800000; text-decoration-color: #800000\">│</span>\n",
       "<span style=\"color: #800000; text-decoration-color: #800000\">│</span>                                                                                                  <span style=\"color: #800000; text-decoration-color: #800000\">│</span>\n",
       "<span style=\"color: #800000; text-decoration-color: #800000\">│</span>   <span style=\"color: #7f7f7f; text-decoration-color: #7f7f7f\">295 </span><span style=\"color: #7f7f7f; text-decoration-color: #7f7f7f\">│   │   </span><span style=\"color: #0000ff; text-decoration-color: #0000ff\">return</span> logged_in                                                                   <span style=\"color: #800000; text-decoration-color: #800000\">│</span>\n",
       "<span style=\"color: #800000; text-decoration-color: #800000\">│</span>   <span style=\"color: #7f7f7f; text-decoration-color: #7f7f7f\">296 </span><span style=\"color: #7f7f7f; text-decoration-color: #7f7f7f\">│   </span>                                                                                       <span style=\"color: #800000; text-decoration-color: #800000\">│</span>\n",
       "<span style=\"color: #800000; text-decoration-color: #800000\">│</span>   <span style=\"color: #7f7f7f; text-decoration-color: #7f7f7f\">297 </span><span style=\"color: #7f7f7f; text-decoration-color: #7f7f7f\">│   </span><span style=\"color: #0000ff; text-decoration-color: #0000ff\">if</span> <span style=\"color: #ff00ff; text-decoration-color: #ff00ff\">not</span> key:                                                                            <span style=\"color: #800000; text-decoration-color: #800000\">│</span>\n",
       "<span style=\"color: #800000; text-decoration-color: #800000\">│</span> <span style=\"color: #800000; text-decoration-color: #800000\">❱ </span>298 <span style=\"color: #7f7f7f; text-decoration-color: #7f7f7f\">│   │   </span>wlogin.prompt_api_key()                                                            <span style=\"color: #800000; text-decoration-color: #800000\">│</span>\n",
       "<span style=\"color: #800000; text-decoration-color: #800000\">│</span>   <span style=\"color: #7f7f7f; text-decoration-color: #7f7f7f\">299 </span><span style=\"color: #7f7f7f; text-decoration-color: #7f7f7f\">│   </span>                                                                                       <span style=\"color: #800000; text-decoration-color: #800000\">│</span>\n",
       "<span style=\"color: #800000; text-decoration-color: #800000\">│</span>   <span style=\"color: #7f7f7f; text-decoration-color: #7f7f7f\">300 </span><span style=\"color: #7f7f7f; text-decoration-color: #7f7f7f\">│   </span><span style=\"color: #7f7f7f; text-decoration-color: #7f7f7f\"># make sure login credentials get to the backend</span>                                       <span style=\"color: #800000; text-decoration-color: #800000\">│</span>\n",
       "<span style=\"color: #800000; text-decoration-color: #800000\">│</span>   <span style=\"color: #7f7f7f; text-decoration-color: #7f7f7f\">301 </span><span style=\"color: #7f7f7f; text-decoration-color: #7f7f7f\">│   </span>wlogin.propogate_login()                                                               <span style=\"color: #800000; text-decoration-color: #800000\">│</span>\n",
       "<span style=\"color: #800000; text-decoration-color: #800000\">│</span>                                                                                                  <span style=\"color: #800000; text-decoration-color: #800000\">│</span>\n",
       "<span style=\"color: #800000; text-decoration-color: #800000\">│</span> <span style=\"color: #bfbf7f; text-decoration-color: #bfbf7f\">/opt/conda/lib/python3.10/site-packages/wandb/sdk/</span><span style=\"color: #808000; text-decoration-color: #808000; font-weight: bold\">wandb_login.py</span>:<span style=\"color: #0000ff; text-decoration-color: #0000ff\">228</span> in <span style=\"color: #00ff00; text-decoration-color: #00ff00\">prompt_api_key</span>           <span style=\"color: #800000; text-decoration-color: #800000\">│</span>\n",
       "<span style=\"color: #800000; text-decoration-color: #800000\">│</span>                                                                                                  <span style=\"color: #800000; text-decoration-color: #800000\">│</span>\n",
       "<span style=\"color: #800000; text-decoration-color: #800000\">│</span>   <span style=\"color: #7f7f7f; text-decoration-color: #7f7f7f\">225 </span><span style=\"color: #7f7f7f; text-decoration-color: #7f7f7f\">│   │   │   │   </span><span style=\"color: #0000ff; text-decoration-color: #0000ff\">if</span> <span style=\"color: #00ffff; text-decoration-color: #00ffff\">self</span>._settings._cli_only_mode                                           <span style=\"color: #800000; text-decoration-color: #800000\">│</span>\n",
       "<span style=\"color: #800000; text-decoration-color: #800000\">│</span>   <span style=\"color: #7f7f7f; text-decoration-color: #7f7f7f\">226 </span><span style=\"color: #7f7f7f; text-decoration-color: #7f7f7f\">│   │   │   │   </span><span style=\"color: #0000ff; text-decoration-color: #0000ff\">else</span> <span style=\"color: #808000; text-decoration-color: #808000\">\"wandb.login(key=[your_api_key])\"</span>                                     <span style=\"color: #800000; text-decoration-color: #800000\">│</span>\n",
       "<span style=\"color: #800000; text-decoration-color: #800000\">│</span>   <span style=\"color: #7f7f7f; text-decoration-color: #7f7f7f\">227 </span><span style=\"color: #7f7f7f; text-decoration-color: #7f7f7f\">│   │   │   </span>)                                                                              <span style=\"color: #800000; text-decoration-color: #800000\">│</span>\n",
       "<span style=\"color: #800000; text-decoration-color: #800000\">│</span> <span style=\"color: #800000; text-decoration-color: #800000\">❱ </span>228 <span style=\"color: #7f7f7f; text-decoration-color: #7f7f7f\">│   │   │   </span><span style=\"color: #0000ff; text-decoration-color: #0000ff\">raise</span> UsageError(<span style=\"color: #808000; text-decoration-color: #808000\">\"api_key not configured (no-tty). call \"</span> + directive)         <span style=\"color: #800000; text-decoration-color: #800000\">│</span>\n",
       "<span style=\"color: #800000; text-decoration-color: #800000\">│</span>   <span style=\"color: #7f7f7f; text-decoration-color: #7f7f7f\">229 </span><span style=\"color: #7f7f7f; text-decoration-color: #7f7f7f\">│   │   </span>                                                                                   <span style=\"color: #800000; text-decoration-color: #800000\">│</span>\n",
       "<span style=\"color: #800000; text-decoration-color: #800000\">│</span>   <span style=\"color: #7f7f7f; text-decoration-color: #7f7f7f\">230 </span><span style=\"color: #7f7f7f; text-decoration-color: #7f7f7f\">│   │   </span><span style=\"color: #00ffff; text-decoration-color: #00ffff\">self</span>.update_session(key, status=status)                                            <span style=\"color: #800000; text-decoration-color: #800000\">│</span>\n",
       "<span style=\"color: #800000; text-decoration-color: #800000\">│</span>   <span style=\"color: #7f7f7f; text-decoration-color: #7f7f7f\">231 </span><span style=\"color: #7f7f7f; text-decoration-color: #7f7f7f\">│   │   </span><span style=\"color: #00ffff; text-decoration-color: #00ffff\">self</span>._key = key                                                                    <span style=\"color: #800000; text-decoration-color: #800000\">│</span>\n",
       "<span style=\"color: #800000; text-decoration-color: #800000\">╰──────────────────────────────────────────────────────────────────────────────────────────────────╯</span>\n",
       "<span style=\"color: #ff0000; text-decoration-color: #ff0000; font-weight: bold\">UsageError: </span>api_key not configured <span style=\"font-weight: bold\">(</span>no-tty<span style=\"font-weight: bold\">)</span>. call <span style=\"color: #800080; text-decoration-color: #800080; font-weight: bold\">wandb.login</span><span style=\"font-weight: bold\">(</span><span style=\"color: #808000; text-decoration-color: #808000\">key</span>=<span style=\"font-weight: bold\">[</span>your_api_key<span style=\"font-weight: bold\">])</span>\n",
       "</pre>\n"
      ],
      "text/plain": [
       "\u001b[31m╭─\u001b[0m\u001b[31m──────────────────────────────\u001b[0m\u001b[31m \u001b[0m\u001b[1;31mTraceback \u001b[0m\u001b[1;2;31m(most recent call last)\u001b[0m\u001b[31m \u001b[0m\u001b[31m───────────────────────────────\u001b[0m\u001b[31m─╮\u001b[0m\n",
       "\u001b[31m│\u001b[0m in \u001b[92m<module>\u001b[0m:\u001b[94m12\u001b[0m                                                                                   \u001b[31m│\u001b[0m\n",
       "\u001b[31m│\u001b[0m                                                                                                  \u001b[31m│\u001b[0m\n",
       "\u001b[31m│\u001b[0m   \u001b[2m 9 \u001b[0m\u001b[2m│   \u001b[0mcallbacks=[EarlyStoppingCallback(early_stopping_patience=\u001b[94m1\u001b[0m)]                            \u001b[31m│\u001b[0m\n",
       "\u001b[31m│\u001b[0m   \u001b[2m10 \u001b[0m)                                                                                           \u001b[31m│\u001b[0m\n",
       "\u001b[31m│\u001b[0m   \u001b[2m11 \u001b[0m                                                                                            \u001b[31m│\u001b[0m\n",
       "\u001b[31m│\u001b[0m \u001b[31m❱ \u001b[0m12 trainer.train()                                                                             \u001b[31m│\u001b[0m\n",
       "\u001b[31m│\u001b[0m   \u001b[2m13 \u001b[0m                                                                                            \u001b[31m│\u001b[0m\n",
       "\u001b[31m│\u001b[0m                                                                                                  \u001b[31m│\u001b[0m\n",
       "\u001b[31m│\u001b[0m \u001b[2;33m/opt/conda/lib/python3.10/site-packages/transformers/\u001b[0m\u001b[1;33mtrainer.py\u001b[0m:\u001b[94m1645\u001b[0m in \u001b[92mtrain\u001b[0m                    \u001b[31m│\u001b[0m\n",
       "\u001b[31m│\u001b[0m                                                                                                  \u001b[31m│\u001b[0m\n",
       "\u001b[31m│\u001b[0m   \u001b[2m1642 \u001b[0m\u001b[2m│   │   \u001b[0minner_training_loop = find_executable_batch_size(                                 \u001b[31m│\u001b[0m\n",
       "\u001b[31m│\u001b[0m   \u001b[2m1643 \u001b[0m\u001b[2m│   │   │   \u001b[0m\u001b[96mself\u001b[0m._inner_training_loop, \u001b[96mself\u001b[0m._train_batch_size, args.auto_find_batch_size  \u001b[31m│\u001b[0m\n",
       "\u001b[31m│\u001b[0m   \u001b[2m1644 \u001b[0m\u001b[2m│   │   \u001b[0m)                                                                                 \u001b[31m│\u001b[0m\n",
       "\u001b[31m│\u001b[0m \u001b[31m❱ \u001b[0m1645 \u001b[2m│   │   \u001b[0m\u001b[94mreturn\u001b[0m inner_training_loop(                                                       \u001b[31m│\u001b[0m\n",
       "\u001b[31m│\u001b[0m   \u001b[2m1646 \u001b[0m\u001b[2m│   │   │   \u001b[0margs=args,                                                                    \u001b[31m│\u001b[0m\n",
       "\u001b[31m│\u001b[0m   \u001b[2m1647 \u001b[0m\u001b[2m│   │   │   \u001b[0mresume_from_checkpoint=resume_from_checkpoint,                                \u001b[31m│\u001b[0m\n",
       "\u001b[31m│\u001b[0m   \u001b[2m1648 \u001b[0m\u001b[2m│   │   │   \u001b[0mtrial=trial,                                                                  \u001b[31m│\u001b[0m\n",
       "\u001b[31m│\u001b[0m                                                                                                  \u001b[31m│\u001b[0m\n",
       "\u001b[31m│\u001b[0m \u001b[2;33m/opt/conda/lib/python3.10/site-packages/transformers/\u001b[0m\u001b[1;33mtrainer.py\u001b[0m:\u001b[94m1862\u001b[0m in \u001b[92m_inner_training_loop\u001b[0m     \u001b[31m│\u001b[0m\n",
       "\u001b[31m│\u001b[0m                                                                                                  \u001b[31m│\u001b[0m\n",
       "\u001b[31m│\u001b[0m   \u001b[2m1859 \u001b[0m\u001b[2m│   │   \u001b[0m\u001b[96mself\u001b[0m._globalstep_last_logged = \u001b[96mself\u001b[0m.state.global_step                             \u001b[31m│\u001b[0m\n",
       "\u001b[31m│\u001b[0m   \u001b[2m1860 \u001b[0m\u001b[2m│   │   \u001b[0mmodel.zero_grad()                                                                 \u001b[31m│\u001b[0m\n",
       "\u001b[31m│\u001b[0m   \u001b[2m1861 \u001b[0m\u001b[2m│   │   \u001b[0m                                                                                  \u001b[31m│\u001b[0m\n",
       "\u001b[31m│\u001b[0m \u001b[31m❱ \u001b[0m1862 \u001b[2m│   │   \u001b[0m\u001b[96mself\u001b[0m.control = \u001b[96mself\u001b[0m.callback_handler.on_train_begin(args, \u001b[96mself\u001b[0m.state, \u001b[96mself\u001b[0m.contr  \u001b[31m│\u001b[0m\n",
       "\u001b[31m│\u001b[0m   \u001b[2m1863 \u001b[0m\u001b[2m│   │   \u001b[0m                                                                                  \u001b[31m│\u001b[0m\n",
       "\u001b[31m│\u001b[0m   \u001b[2m1864 \u001b[0m\u001b[2m│   │   \u001b[0m\u001b[2m# Skip the first epochs_trained epochs to get the random state of the dataloader\u001b[0m  \u001b[31m│\u001b[0m\n",
       "\u001b[31m│\u001b[0m   \u001b[2m1865 \u001b[0m\u001b[2m│   │   \u001b[0m\u001b[94mif\u001b[0m \u001b[95mnot\u001b[0m args.ignore_data_skip:                                                     \u001b[31m│\u001b[0m\n",
       "\u001b[31m│\u001b[0m                                                                                                  \u001b[31m│\u001b[0m\n",
       "\u001b[31m│\u001b[0m \u001b[2;33m/opt/conda/lib/python3.10/site-packages/transformers/\u001b[0m\u001b[1;33mtrainer_callback.py\u001b[0m:\u001b[94m353\u001b[0m in \u001b[92mon_train_begin\u001b[0m   \u001b[31m│\u001b[0m\n",
       "\u001b[31m│\u001b[0m                                                                                                  \u001b[31m│\u001b[0m\n",
       "\u001b[31m│\u001b[0m   \u001b[2m350 \u001b[0m\u001b[2m│   \u001b[0m                                                                                       \u001b[31m│\u001b[0m\n",
       "\u001b[31m│\u001b[0m   \u001b[2m351 \u001b[0m\u001b[2m│   \u001b[0m\u001b[94mdef\u001b[0m \u001b[92mon_train_begin\u001b[0m(\u001b[96mself\u001b[0m, args: TrainingArguments, state: TrainerState, control: Trai   \u001b[31m│\u001b[0m\n",
       "\u001b[31m│\u001b[0m   \u001b[2m352 \u001b[0m\u001b[2m│   │   \u001b[0mcontrol.should_training_stop = \u001b[94mFalse\u001b[0m                                               \u001b[31m│\u001b[0m\n",
       "\u001b[31m│\u001b[0m \u001b[31m❱ \u001b[0m353 \u001b[2m│   │   \u001b[0m\u001b[94mreturn\u001b[0m \u001b[96mself\u001b[0m.call_event(\u001b[33m\"\u001b[0m\u001b[33mon_train_begin\u001b[0m\u001b[33m\"\u001b[0m, args, state, control)                     \u001b[31m│\u001b[0m\n",
       "\u001b[31m│\u001b[0m   \u001b[2m354 \u001b[0m\u001b[2m│   \u001b[0m                                                                                       \u001b[31m│\u001b[0m\n",
       "\u001b[31m│\u001b[0m   \u001b[2m355 \u001b[0m\u001b[2m│   \u001b[0m\u001b[94mdef\u001b[0m \u001b[92mon_train_end\u001b[0m(\u001b[96mself\u001b[0m, args: TrainingArguments, state: TrainerState, control: Traine   \u001b[31m│\u001b[0m\n",
       "\u001b[31m│\u001b[0m   \u001b[2m356 \u001b[0m\u001b[2m│   │   \u001b[0m\u001b[94mreturn\u001b[0m \u001b[96mself\u001b[0m.call_event(\u001b[33m\"\u001b[0m\u001b[33mon_train_end\u001b[0m\u001b[33m\"\u001b[0m, args, state, control)                       \u001b[31m│\u001b[0m\n",
       "\u001b[31m│\u001b[0m                                                                                                  \u001b[31m│\u001b[0m\n",
       "\u001b[31m│\u001b[0m \u001b[2;33m/opt/conda/lib/python3.10/site-packages/transformers/\u001b[0m\u001b[1;33mtrainer_callback.py\u001b[0m:\u001b[94m397\u001b[0m in \u001b[92mcall_event\u001b[0m       \u001b[31m│\u001b[0m\n",
       "\u001b[31m│\u001b[0m                                                                                                  \u001b[31m│\u001b[0m\n",
       "\u001b[31m│\u001b[0m   \u001b[2m394 \u001b[0m\u001b[2m│   \u001b[0m                                                                                       \u001b[31m│\u001b[0m\n",
       "\u001b[31m│\u001b[0m   \u001b[2m395 \u001b[0m\u001b[2m│   \u001b[0m\u001b[94mdef\u001b[0m \u001b[92mcall_event\u001b[0m(\u001b[96mself\u001b[0m, event, args, state, control, **kwargs):                           \u001b[31m│\u001b[0m\n",
       "\u001b[31m│\u001b[0m   \u001b[2m396 \u001b[0m\u001b[2m│   │   \u001b[0m\u001b[94mfor\u001b[0m callback \u001b[95min\u001b[0m \u001b[96mself\u001b[0m.callbacks:                                                    \u001b[31m│\u001b[0m\n",
       "\u001b[31m│\u001b[0m \u001b[31m❱ \u001b[0m397 \u001b[2m│   │   │   \u001b[0mresult = \u001b[96mgetattr\u001b[0m(callback, event)(                                             \u001b[31m│\u001b[0m\n",
       "\u001b[31m│\u001b[0m   \u001b[2m398 \u001b[0m\u001b[2m│   │   │   │   \u001b[0margs,                                                                      \u001b[31m│\u001b[0m\n",
       "\u001b[31m│\u001b[0m   \u001b[2m399 \u001b[0m\u001b[2m│   │   │   │   \u001b[0mstate,                                                                     \u001b[31m│\u001b[0m\n",
       "\u001b[31m│\u001b[0m   \u001b[2m400 \u001b[0m\u001b[2m│   │   │   │   \u001b[0mcontrol,                                                                   \u001b[31m│\u001b[0m\n",
       "\u001b[31m│\u001b[0m                                                                                                  \u001b[31m│\u001b[0m\n",
       "\u001b[31m│\u001b[0m \u001b[2;33m/opt/conda/lib/python3.10/site-packages/transformers/\u001b[0m\u001b[1;33mintegrations.py\u001b[0m:\u001b[94m771\u001b[0m in \u001b[92mon_train_begin\u001b[0m       \u001b[31m│\u001b[0m\n",
       "\u001b[31m│\u001b[0m                                                                                                  \u001b[31m│\u001b[0m\n",
       "\u001b[31m│\u001b[0m   \u001b[2m 768 \u001b[0m\u001b[2m│   │   │   \u001b[0m\u001b[96mself\u001b[0m._initialized = \u001b[94mFalse\u001b[0m                                                     \u001b[31m│\u001b[0m\n",
       "\u001b[31m│\u001b[0m   \u001b[2m 769 \u001b[0m\u001b[2m│   │   │   \u001b[0margs.run_name = \u001b[94mNone\u001b[0m                                                          \u001b[31m│\u001b[0m\n",
       "\u001b[31m│\u001b[0m   \u001b[2m 770 \u001b[0m\u001b[2m│   │   \u001b[0m\u001b[94mif\u001b[0m \u001b[95mnot\u001b[0m \u001b[96mself\u001b[0m._initialized:                                                         \u001b[31m│\u001b[0m\n",
       "\u001b[31m│\u001b[0m \u001b[31m❱ \u001b[0m 771 \u001b[2m│   │   │   \u001b[0m\u001b[96mself\u001b[0m.setup(args, state, model, **kwargs)                                      \u001b[31m│\u001b[0m\n",
       "\u001b[31m│\u001b[0m   \u001b[2m 772 \u001b[0m\u001b[2m│   \u001b[0m                                                                                      \u001b[31m│\u001b[0m\n",
       "\u001b[31m│\u001b[0m   \u001b[2m 773 \u001b[0m\u001b[2m│   \u001b[0m\u001b[94mdef\u001b[0m \u001b[92mon_train_end\u001b[0m(\u001b[96mself\u001b[0m, args, state, control, model=\u001b[94mNone\u001b[0m, tokenizer=\u001b[94mNone\u001b[0m, **kwargs):   \u001b[31m│\u001b[0m\n",
       "\u001b[31m│\u001b[0m   \u001b[2m 774 \u001b[0m\u001b[2m│   │   \u001b[0m\u001b[94mif\u001b[0m \u001b[96mself\u001b[0m._wandb \u001b[95mis\u001b[0m \u001b[94mNone\u001b[0m:                                                           \u001b[31m│\u001b[0m\n",
       "\u001b[31m│\u001b[0m                                                                                                  \u001b[31m│\u001b[0m\n",
       "\u001b[31m│\u001b[0m \u001b[2;33m/opt/conda/lib/python3.10/site-packages/transformers/\u001b[0m\u001b[1;33mintegrations.py\u001b[0m:\u001b[94m745\u001b[0m in \u001b[92msetup\u001b[0m                \u001b[31m│\u001b[0m\n",
       "\u001b[31m│\u001b[0m                                                                                                  \u001b[31m│\u001b[0m\n",
       "\u001b[31m│\u001b[0m   \u001b[2m 742 \u001b[0m\u001b[2m│   │   │   │   │   \u001b[0minit_args[\u001b[33m\"\u001b[0m\u001b[33mname\u001b[0m\u001b[33m\"\u001b[0m] = args.run_name                                     \u001b[31m│\u001b[0m\n",
       "\u001b[31m│\u001b[0m   \u001b[2m 743 \u001b[0m\u001b[2m│   │   │   \u001b[0m                                                                              \u001b[31m│\u001b[0m\n",
       "\u001b[31m│\u001b[0m   \u001b[2m 744 \u001b[0m\u001b[2m│   │   │   \u001b[0m\u001b[94mif\u001b[0m \u001b[96mself\u001b[0m._wandb.run \u001b[95mis\u001b[0m \u001b[94mNone\u001b[0m:                                                   \u001b[31m│\u001b[0m\n",
       "\u001b[31m│\u001b[0m \u001b[31m❱ \u001b[0m 745 \u001b[2m│   │   │   │   \u001b[0m\u001b[96mself\u001b[0m._wandb.init(                                                         \u001b[31m│\u001b[0m\n",
       "\u001b[31m│\u001b[0m   \u001b[2m 746 \u001b[0m\u001b[2m│   │   │   │   │   \u001b[0mproject=os.getenv(\u001b[33m\"\u001b[0m\u001b[33mWANDB_PROJECT\u001b[0m\u001b[33m\"\u001b[0m, \u001b[33m\"\u001b[0m\u001b[33mhuggingface\u001b[0m\u001b[33m\"\u001b[0m),                    \u001b[31m│\u001b[0m\n",
       "\u001b[31m│\u001b[0m   \u001b[2m 747 \u001b[0m\u001b[2m│   │   │   │   │   \u001b[0m**init_args,                                                          \u001b[31m│\u001b[0m\n",
       "\u001b[31m│\u001b[0m   \u001b[2m 748 \u001b[0m\u001b[2m│   │   │   │   \u001b[0m)                                                                         \u001b[31m│\u001b[0m\n",
       "\u001b[31m│\u001b[0m                                                                                                  \u001b[31m│\u001b[0m\n",
       "\u001b[31m│\u001b[0m \u001b[2;33m/opt/conda/lib/python3.10/site-packages/wandb/sdk/\u001b[0m\u001b[1;33mwandb_init.py\u001b[0m:\u001b[94m1173\u001b[0m in \u001b[92minit\u001b[0m                     \u001b[31m│\u001b[0m\n",
       "\u001b[31m│\u001b[0m                                                                                                  \u001b[31m│\u001b[0m\n",
       "\u001b[31m│\u001b[0m   \u001b[2m1170 \u001b[0m\u001b[2m│   \u001b[0m\u001b[94mexcept\u001b[0m Error \u001b[94mas\u001b[0m e:                                                                    \u001b[31m│\u001b[0m\n",
       "\u001b[31m│\u001b[0m   \u001b[2m1171 \u001b[0m\u001b[2m│   │   \u001b[0m\u001b[94mif\u001b[0m logger \u001b[95mis\u001b[0m \u001b[95mnot\u001b[0m \u001b[94mNone\u001b[0m:                                                            \u001b[31m│\u001b[0m\n",
       "\u001b[31m│\u001b[0m   \u001b[2m1172 \u001b[0m\u001b[2m│   │   │   \u001b[0mlogger.exception(\u001b[96mstr\u001b[0m(e))                                                      \u001b[31m│\u001b[0m\n",
       "\u001b[31m│\u001b[0m \u001b[31m❱ \u001b[0m1173 \u001b[2m│   │   \u001b[0m\u001b[94mraise\u001b[0m e                                                                           \u001b[31m│\u001b[0m\n",
       "\u001b[31m│\u001b[0m   \u001b[2m1174 \u001b[0m\u001b[2m│   \u001b[0m\u001b[94mexcept\u001b[0m \u001b[96mKeyboardInterrupt\u001b[0m \u001b[94mas\u001b[0m e:                                                        \u001b[31m│\u001b[0m\n",
       "\u001b[31m│\u001b[0m   \u001b[2m1175 \u001b[0m\u001b[2m│   │   \u001b[0m\u001b[94massert\u001b[0m logger                                                                     \u001b[31m│\u001b[0m\n",
       "\u001b[31m│\u001b[0m   \u001b[2m1176 \u001b[0m\u001b[2m│   │   \u001b[0mlogger.warning(\u001b[33m\"\u001b[0m\u001b[33minterrupted\u001b[0m\u001b[33m\"\u001b[0m, exc_info=e)                                         \u001b[31m│\u001b[0m\n",
       "\u001b[31m│\u001b[0m                                                                                                  \u001b[31m│\u001b[0m\n",
       "\u001b[31m│\u001b[0m \u001b[2;33m/opt/conda/lib/python3.10/site-packages/wandb/sdk/\u001b[0m\u001b[1;33mwandb_init.py\u001b[0m:\u001b[94m1150\u001b[0m in \u001b[92minit\u001b[0m                     \u001b[31m│\u001b[0m\n",
       "\u001b[31m│\u001b[0m                                                                                                  \u001b[31m│\u001b[0m\n",
       "\u001b[31m│\u001b[0m   \u001b[2m1147 \u001b[0m\u001b[2m│   \u001b[0mrun: Optional[Union[Run, RunDisabled]] = \u001b[94mNone\u001b[0m                                         \u001b[31m│\u001b[0m\n",
       "\u001b[31m│\u001b[0m   \u001b[2m1148 \u001b[0m\u001b[2m│   \u001b[0m\u001b[94mtry\u001b[0m:                                                                                  \u001b[31m│\u001b[0m\n",
       "\u001b[31m│\u001b[0m   \u001b[2m1149 \u001b[0m\u001b[2m│   │   \u001b[0mwi = _WandbInit()                                                                 \u001b[31m│\u001b[0m\n",
       "\u001b[31m│\u001b[0m \u001b[31m❱ \u001b[0m1150 \u001b[2m│   │   \u001b[0mwi.setup(kwargs)                                                                  \u001b[31m│\u001b[0m\n",
       "\u001b[31m│\u001b[0m   \u001b[2m1151 \u001b[0m\u001b[2m│   │   \u001b[0m\u001b[94massert\u001b[0m wi.settings                                                                \u001b[31m│\u001b[0m\n",
       "\u001b[31m│\u001b[0m   \u001b[2m1152 \u001b[0m\u001b[2m│   │   \u001b[0mexcept_exit = wi.settings._except_exit                                            \u001b[31m│\u001b[0m\n",
       "\u001b[31m│\u001b[0m   \u001b[2m1153 \u001b[0m\u001b[2m│   │   \u001b[0m\u001b[94mtry\u001b[0m:                                                                              \u001b[31m│\u001b[0m\n",
       "\u001b[31m│\u001b[0m                                                                                                  \u001b[31m│\u001b[0m\n",
       "\u001b[31m│\u001b[0m \u001b[2;33m/opt/conda/lib/python3.10/site-packages/wandb/sdk/\u001b[0m\u001b[1;33mwandb_init.py\u001b[0m:\u001b[94m289\u001b[0m in \u001b[92msetup\u001b[0m                     \u001b[31m│\u001b[0m\n",
       "\u001b[31m│\u001b[0m                                                                                                  \u001b[31m│\u001b[0m\n",
       "\u001b[31m│\u001b[0m   \u001b[2m 286 \u001b[0m\u001b[2m│   │   │   \u001b[0msettings.update(init_settings, source=Source.INIT)                            \u001b[31m│\u001b[0m\n",
       "\u001b[31m│\u001b[0m   \u001b[2m 287 \u001b[0m\u001b[2m│   │   \u001b[0m                                                                                  \u001b[31m│\u001b[0m\n",
       "\u001b[31m│\u001b[0m   \u001b[2m 288 \u001b[0m\u001b[2m│   │   \u001b[0m\u001b[94mif\u001b[0m \u001b[95mnot\u001b[0m settings._offline \u001b[95mand\u001b[0m \u001b[95mnot\u001b[0m settings._noop:                                  \u001b[31m│\u001b[0m\n",
       "\u001b[31m│\u001b[0m \u001b[31m❱ \u001b[0m 289 \u001b[2m│   │   │   \u001b[0mwandb_login._login(                                                           \u001b[31m│\u001b[0m\n",
       "\u001b[31m│\u001b[0m   \u001b[2m 290 \u001b[0m\u001b[2m│   │   │   │   \u001b[0manonymous=kwargs.pop(\u001b[33m\"\u001b[0m\u001b[33manonymous\u001b[0m\u001b[33m\"\u001b[0m, \u001b[94mNone\u001b[0m),                                  \u001b[31m│\u001b[0m\n",
       "\u001b[31m│\u001b[0m   \u001b[2m 291 \u001b[0m\u001b[2m│   │   │   │   \u001b[0mforce=kwargs.pop(\u001b[33m\"\u001b[0m\u001b[33mforce\u001b[0m\u001b[33m\"\u001b[0m, \u001b[94mNone\u001b[0m),                                          \u001b[31m│\u001b[0m\n",
       "\u001b[31m│\u001b[0m   \u001b[2m 292 \u001b[0m\u001b[2m│   │   │   │   \u001b[0m_disable_warning=\u001b[94mTrue\u001b[0m,                                                    \u001b[31m│\u001b[0m\n",
       "\u001b[31m│\u001b[0m                                                                                                  \u001b[31m│\u001b[0m\n",
       "\u001b[31m│\u001b[0m \u001b[2;33m/opt/conda/lib/python3.10/site-packages/wandb/sdk/\u001b[0m\u001b[1;33mwandb_login.py\u001b[0m:\u001b[94m298\u001b[0m in \u001b[92m_login\u001b[0m                   \u001b[31m│\u001b[0m\n",
       "\u001b[31m│\u001b[0m                                                                                                  \u001b[31m│\u001b[0m\n",
       "\u001b[31m│\u001b[0m   \u001b[2m295 \u001b[0m\u001b[2m│   │   \u001b[0m\u001b[94mreturn\u001b[0m logged_in                                                                   \u001b[31m│\u001b[0m\n",
       "\u001b[31m│\u001b[0m   \u001b[2m296 \u001b[0m\u001b[2m│   \u001b[0m                                                                                       \u001b[31m│\u001b[0m\n",
       "\u001b[31m│\u001b[0m   \u001b[2m297 \u001b[0m\u001b[2m│   \u001b[0m\u001b[94mif\u001b[0m \u001b[95mnot\u001b[0m key:                                                                            \u001b[31m│\u001b[0m\n",
       "\u001b[31m│\u001b[0m \u001b[31m❱ \u001b[0m298 \u001b[2m│   │   \u001b[0mwlogin.prompt_api_key()                                                            \u001b[31m│\u001b[0m\n",
       "\u001b[31m│\u001b[0m   \u001b[2m299 \u001b[0m\u001b[2m│   \u001b[0m                                                                                       \u001b[31m│\u001b[0m\n",
       "\u001b[31m│\u001b[0m   \u001b[2m300 \u001b[0m\u001b[2m│   \u001b[0m\u001b[2m# make sure login credentials get to the backend\u001b[0m                                       \u001b[31m│\u001b[0m\n",
       "\u001b[31m│\u001b[0m   \u001b[2m301 \u001b[0m\u001b[2m│   \u001b[0mwlogin.propogate_login()                                                               \u001b[31m│\u001b[0m\n",
       "\u001b[31m│\u001b[0m                                                                                                  \u001b[31m│\u001b[0m\n",
       "\u001b[31m│\u001b[0m \u001b[2;33m/opt/conda/lib/python3.10/site-packages/wandb/sdk/\u001b[0m\u001b[1;33mwandb_login.py\u001b[0m:\u001b[94m228\u001b[0m in \u001b[92mprompt_api_key\u001b[0m           \u001b[31m│\u001b[0m\n",
       "\u001b[31m│\u001b[0m                                                                                                  \u001b[31m│\u001b[0m\n",
       "\u001b[31m│\u001b[0m   \u001b[2m225 \u001b[0m\u001b[2m│   │   │   │   \u001b[0m\u001b[94mif\u001b[0m \u001b[96mself\u001b[0m._settings._cli_only_mode                                           \u001b[31m│\u001b[0m\n",
       "\u001b[31m│\u001b[0m   \u001b[2m226 \u001b[0m\u001b[2m│   │   │   │   \u001b[0m\u001b[94melse\u001b[0m \u001b[33m\"\u001b[0m\u001b[33mwandb.login(key=[your_api_key])\u001b[0m\u001b[33m\"\u001b[0m                                     \u001b[31m│\u001b[0m\n",
       "\u001b[31m│\u001b[0m   \u001b[2m227 \u001b[0m\u001b[2m│   │   │   \u001b[0m)                                                                              \u001b[31m│\u001b[0m\n",
       "\u001b[31m│\u001b[0m \u001b[31m❱ \u001b[0m228 \u001b[2m│   │   │   \u001b[0m\u001b[94mraise\u001b[0m UsageError(\u001b[33m\"\u001b[0m\u001b[33mapi_key not configured (no-tty). call \u001b[0m\u001b[33m\"\u001b[0m + directive)         \u001b[31m│\u001b[0m\n",
       "\u001b[31m│\u001b[0m   \u001b[2m229 \u001b[0m\u001b[2m│   │   \u001b[0m                                                                                   \u001b[31m│\u001b[0m\n",
       "\u001b[31m│\u001b[0m   \u001b[2m230 \u001b[0m\u001b[2m│   │   \u001b[0m\u001b[96mself\u001b[0m.update_session(key, status=status)                                            \u001b[31m│\u001b[0m\n",
       "\u001b[31m│\u001b[0m   \u001b[2m231 \u001b[0m\u001b[2m│   │   \u001b[0m\u001b[96mself\u001b[0m._key = key                                                                    \u001b[31m│\u001b[0m\n",
       "\u001b[31m╰──────────────────────────────────────────────────────────────────────────────────────────────────╯\u001b[0m\n",
       "\u001b[1;91mUsageError: \u001b[0mapi_key not configured \u001b[1m(\u001b[0mno-tty\u001b[1m)\u001b[0m. call \u001b[1;35mwandb.login\u001b[0m\u001b[1m(\u001b[0m\u001b[33mkey\u001b[0m=\u001b[1m[\u001b[0myour_api_key\u001b[1m]\u001b[0m\u001b[1m)\u001b[0m\n"
      ]
     },
     "metadata": {},
     "output_type": "display_data"
    }
   ],
   "source": [
    "# Train the model for Sentiment Analysis task\n",
    "\n",
    "trainer = Trainer(\n",
    "    model=model_sent,\n",
    "    args=training_args,\n",
    "    train_dataset=dataset_train_sent,\n",
    "    eval_dataset=dataset_test_sent,\n",
    "    compute_metrics=compute_metrics,\n",
    "    callbacks=[EarlyStoppingCallback(early_stopping_patience=1)]\n",
    ")\n",
    "\n",
    "trainer.train()"
   ]
  },
  {
   "cell_type": "code",
   "execution_count": null,
   "id": "40590304",
   "metadata": {
    "execution": {
     "iopub.execute_input": "2023-07-27T13:19:24.372763Z",
     "iopub.status.busy": "2023-07-27T13:19:24.372389Z",
     "iopub.status.idle": "2023-07-27T13:33:33.343622Z",
     "shell.execute_reply": "2023-07-27T13:33:33.336003Z",
     "shell.execute_reply.started": "2023-07-27T13:19:24.372733Z"
    },
    "papermill": {
     "duration": null,
     "end_time": null,
     "exception": null,
     "start_time": null,
     "status": "pending"
    },
    "tags": []
   },
   "outputs": [],
   "source": [
    "# Train the model for Emotion Analysis task\n",
    "\n",
    "trainer_em = Trainer(\n",
    "    model=model_em,\n",
    "    args=training_args,\n",
    "    train_dataset=dataset_train_em,\n",
    "    eval_dataset=dataset_test_em,\n",
    "    compute_metrics=compute_metrics,\n",
    "    callbacks=[EarlyStoppingCallback(early_stopping_patience=1)]\n",
    ")\n",
    "\n",
    "trainer_em.train()"
   ]
  },
  {
   "cell_type": "markdown",
   "id": "9059bc70",
   "metadata": {
    "papermill": {
     "duration": null,
     "end_time": null,
     "exception": null,
     "start_time": null,
     "status": "pending"
    },
    "tags": []
   },
   "source": [
    "### 2.3 Evaluation and Inspection of Predictions"
   ]
  },
  {
   "cell_type": "code",
   "execution_count": null,
   "id": "537bef53",
   "metadata": {
    "execution": {
     "iopub.execute_input": "2023-07-27T13:52:39.770937Z",
     "iopub.status.busy": "2023-07-27T13:52:39.770556Z",
     "iopub.status.idle": "2023-07-27T13:54:33.288127Z",
     "shell.execute_reply": "2023-07-27T13:54:33.287131Z",
     "shell.execute_reply.started": "2023-07-27T13:52:39.770905Z"
    },
    "papermill": {
     "duration": null,
     "end_time": null,
     "exception": null,
     "start_time": null,
     "status": "pending"
    },
    "tags": []
   },
   "outputs": [],
   "source": [
    "# Perform predictions using the 'trainer' object.\n",
    "predict_test_sent = trainer.predict(dataset_test_sent)\n",
    "predict_test_em = trainer_em.predict(dataset_test_em)"
   ]
  },
  {
   "cell_type": "code",
   "execution_count": null,
   "id": "2c4bba7d",
   "metadata": {
    "execution": {
     "iopub.execute_input": "2023-07-27T13:54:36.065233Z",
     "iopub.status.busy": "2023-07-27T13:54:36.064618Z",
     "iopub.status.idle": "2023-07-27T13:54:36.077787Z",
     "shell.execute_reply": "2023-07-27T13:54:36.075557Z",
     "shell.execute_reply.started": "2023-07-27T13:54:36.065196Z"
    },
    "papermill": {
     "duration": null,
     "end_time": null,
     "exception": null,
     "start_time": null,
     "status": "pending"
    },
    "tags": []
   },
   "outputs": [],
   "source": [
    "# Obtained model predictions as logits\n",
    "logits_sent = predict_test_sent.predictions\n",
    "logits_em = predict_test_em.predictions\n",
    "\n",
    "# Inspect first 5 predicted probabilities\n",
    "logits_sent[:5]"
   ]
  },
  {
   "cell_type": "code",
   "execution_count": null,
   "id": "b4ea9ea3",
   "metadata": {
    "execution": {
     "iopub.execute_input": "2023-07-27T13:54:38.331978Z",
     "iopub.status.busy": "2023-07-27T13:54:38.331589Z",
     "iopub.status.idle": "2023-07-27T13:54:38.809484Z",
     "shell.execute_reply": "2023-07-27T13:54:38.808311Z",
     "shell.execute_reply.started": "2023-07-27T13:54:38.331920Z"
    },
    "papermill": {
     "duration": null,
     "end_time": null,
     "exception": null,
     "start_time": null,
     "status": "pending"
    },
    "tags": []
   },
   "outputs": [],
   "source": [
    "# Obtained model predictions as probabilities\n",
    "probabilities_sent = tf.nn.softmax(logits_sent)\n",
    "probabilities_em = tf.nn.softmax(logits_em)\n",
    "\n",
    "# Inspect first 5 predicted logits\n",
    "\n",
    "probabilities_sent[:5]"
   ]
  },
  {
   "cell_type": "code",
   "execution_count": null,
   "id": "e716e4f1",
   "metadata": {
    "execution": {
     "iopub.execute_input": "2023-07-27T13:54:41.311140Z",
     "iopub.status.busy": "2023-07-27T13:54:41.310771Z",
     "iopub.status.idle": "2023-07-27T13:54:41.324157Z",
     "shell.execute_reply": "2023-07-27T13:54:41.323262Z",
     "shell.execute_reply.started": "2023-07-27T13:54:41.311108Z"
    },
    "papermill": {
     "duration": null,
     "end_time": null,
     "exception": null,
     "start_time": null,
     "status": "pending"
    },
    "tags": []
   },
   "outputs": [],
   "source": [
    "# Obtained model predictions as class labels\n",
    "pred_labels_sent = np.argmax(probabilities_sent, axis=1)\n",
    "pred_labels_em = np.argmax(probabilities_em, axis=1)\n",
    "\n",
    "# Inspect first 5 predicted probabilities\n",
    "pred_labels_sent[:5]"
   ]
  },
  {
   "cell_type": "code",
   "execution_count": null,
   "id": "3643f741",
   "metadata": {
    "execution": {
     "iopub.execute_input": "2023-07-27T13:57:09.380092Z",
     "iopub.status.busy": "2023-07-27T13:57:09.379600Z",
     "iopub.status.idle": "2023-07-27T13:57:09.436815Z",
     "shell.execute_reply": "2023-07-27T13:57:09.435205Z",
     "shell.execute_reply.started": "2023-07-27T13:57:09.380052Z"
    },
    "papermill": {
     "duration": null,
     "end_time": null,
     "exception": null,
     "start_time": null,
     "status": "pending"
    },
    "tags": []
   },
   "outputs": [],
   "source": [
    "# Actual labels\n",
    "actual_labels_sent = dataset_test_sent['label'] \n",
    "actual_labels_em = dataset_test_em['label'] \n",
    "\n",
    "# Inspect first 5 predicted probabilities\n",
    "actual_labels_sent[:5]"
   ]
  },
  {
   "cell_type": "markdown",
   "id": "98780194",
   "metadata": {
    "papermill": {
     "duration": null,
     "end_time": null,
     "exception": null,
     "start_time": null,
     "status": "pending"
    },
    "tags": []
   },
   "source": [
    "### 2.4 Creation of the new dataset consisting of Mispredictions and Correct Predictions"
   ]
  },
  {
   "cell_type": "code",
   "execution_count": null,
   "id": "ece73a32",
   "metadata": {
    "execution": {
     "iopub.execute_input": "2023-07-27T14:01:57.529906Z",
     "iopub.status.busy": "2023-07-27T14:01:57.529333Z",
     "iopub.status.idle": "2023-07-27T14:01:57.539977Z",
     "shell.execute_reply": "2023-07-27T14:01:57.539007Z",
     "shell.execute_reply.started": "2023-07-27T14:01:57.529865Z"
    },
    "papermill": {
     "duration": null,
     "end_time": null,
     "exception": null,
     "start_time": null,
     "status": "pending"
    },
    "tags": []
   },
   "outputs": [],
   "source": [
    "# Access predicted labels \n",
    "predicted_labels_sent = tf.argmax(probabilities_sent, axis=1)\n",
    "predicted_labels_em = tf.argmax(probabilities_em , axis=1)\n",
    "\n",
    "# Access predicted probabilities\n",
    "probab_labels_sent = tf.reduce_max(probabilities_sent, axis=1)\n",
    "probab_labels_em = tf.reduce_max(probabilities_em, axis=1)"
   ]
  },
  {
   "cell_type": "code",
   "execution_count": null,
   "id": "8947764a",
   "metadata": {
    "execution": {
     "iopub.execute_input": "2023-07-27T14:01:59.166560Z",
     "iopub.status.busy": "2023-07-27T14:01:59.165857Z",
     "iopub.status.idle": "2023-07-27T14:01:59.175933Z",
     "shell.execute_reply": "2023-07-27T14:01:59.174923Z",
     "shell.execute_reply.started": "2023-07-27T14:01:59.166524Z"
    },
    "papermill": {
     "duration": null,
     "end_time": null,
     "exception": null,
     "start_time": null,
     "status": "pending"
    },
    "tags": []
   },
   "outputs": [],
   "source": [
    "# Create new columns in test data\n",
    "test_reviews['Predicted Label'] = predicted_labels_sent.numpy()\n",
    "test_emotions['Predicted Label'] = predicted_labels_em.numpy()\n",
    "\n",
    "test_reviews['Probability'] = probab_labels_sent.numpy()\n",
    "test_emotions['Probability'] = probab_labels_em.numpy()"
   ]
  },
  {
   "cell_type": "code",
   "execution_count": null,
   "id": "9168b7e0",
   "metadata": {
    "execution": {
     "iopub.execute_input": "2023-07-27T14:02:01.245756Z",
     "iopub.status.busy": "2023-07-27T14:02:01.245403Z",
     "iopub.status.idle": "2023-07-27T14:02:01.255210Z",
     "shell.execute_reply": "2023-07-27T14:02:01.254093Z",
     "shell.execute_reply.started": "2023-07-27T14:02:01.245727Z"
    },
    "papermill": {
     "duration": null,
     "end_time": null,
     "exception": null,
     "start_time": null,
     "status": "pending"
    },
    "tags": []
   },
   "outputs": [],
   "source": [
    "# Create the Misprediction columns\n",
    "\n",
    "test_reviews['Misprediction'] = np.where(test_reviews['label'] != test_reviews['Predicted Label'], 1, 0)\n",
    "test_emotions['Misprediction'] = np.where(test_emotions['label'] != test_emotions['Predicted Label'], 1, 0)"
   ]
  },
  {
   "cell_type": "code",
   "execution_count": null,
   "id": "e3056c94",
   "metadata": {
    "execution": {
     "iopub.execute_input": "2023-07-27T14:02:02.877550Z",
     "iopub.status.busy": "2023-07-27T14:02:02.877181Z",
     "iopub.status.idle": "2023-07-27T14:02:02.889731Z",
     "shell.execute_reply": "2023-07-27T14:02:02.888562Z",
     "shell.execute_reply.started": "2023-07-27T14:02:02.877518Z"
    },
    "papermill": {
     "duration": null,
     "end_time": null,
     "exception": null,
     "start_time": null,
     "status": "pending"
    },
    "tags": []
   },
   "outputs": [],
   "source": [
    "# Inspect the number of mispredicted examples for Sentiment Analysis\n",
    "\n",
    "mismatched_examples_sent = test_reviews[test_reviews['Misprediction'] == 1]\n",
    "print(len(mismatched_examples_sent))"
   ]
  },
  {
   "cell_type": "code",
   "execution_count": null,
   "id": "47a895ce",
   "metadata": {
    "execution": {
     "iopub.execute_input": "2023-07-27T14:02:04.410381Z",
     "iopub.status.busy": "2023-07-27T14:02:04.409444Z",
     "iopub.status.idle": "2023-07-27T14:02:04.425037Z",
     "shell.execute_reply": "2023-07-27T14:02:04.424115Z",
     "shell.execute_reply.started": "2023-07-27T14:02:04.410336Z"
    },
    "papermill": {
     "duration": null,
     "end_time": null,
     "exception": null,
     "start_time": null,
     "status": "pending"
    },
    "tags": []
   },
   "outputs": [],
   "source": [
    "# Inspect the number of mispredicted examples for Emotion Analysis\n",
    "\n",
    "mismatched_examples_em = test_emotions[test_emotions['Misprediction'] == 1]\n",
    "print(len(mismatched_examples_em))"
   ]
  },
  {
   "cell_type": "code",
   "execution_count": null,
   "id": "cc5d6d38",
   "metadata": {
    "execution": {
     "iopub.execute_input": "2023-07-27T14:04:43.471457Z",
     "iopub.status.busy": "2023-07-27T14:04:43.470835Z",
     "iopub.status.idle": "2023-07-27T14:04:43.489002Z",
     "shell.execute_reply": "2023-07-27T14:04:43.488003Z",
     "shell.execute_reply.started": "2023-07-27T14:04:43.471425Z"
    },
    "papermill": {
     "duration": null,
     "end_time": null,
     "exception": null,
     "start_time": null,
     "status": "pending"
    },
    "tags": []
   },
   "outputs": [],
   "source": [
    "# Define an equivalent number of correct predictions\n",
    "\n",
    "matched_examples_sent = test_reviews[test_reviews['Misprediction'] == 0].sample(n=796)\n",
    "matched_examples_em = test_emotions[test_emotions['Misprediction'] == 0].sample(n=780)"
   ]
  },
  {
   "cell_type": "code",
   "execution_count": null,
   "id": "9f2292da",
   "metadata": {
    "execution": {
     "iopub.execute_input": "2023-07-27T14:06:22.987918Z",
     "iopub.status.busy": "2023-07-27T14:06:22.987526Z",
     "iopub.status.idle": "2023-07-27T14:06:23.000398Z",
     "shell.execute_reply": "2023-07-27T14:06:22.999428Z",
     "shell.execute_reply.started": "2023-07-27T14:06:22.987884Z"
    },
    "papermill": {
     "duration": null,
     "end_time": null,
     "exception": null,
     "start_time": null,
     "status": "pending"
    },
    "tags": []
   },
   "outputs": [],
   "source": [
    "# Combine the mismatched and matched examples into a different dataset\n",
    "\n",
    "df_mispredictions_sent = pd.concat([mismatched_examples_sent, matched_examples_sent])\n",
    "df_mispredictions_em = pd.concat([mismatched_examples_em, matched_examples_em])"
   ]
  },
  {
   "cell_type": "code",
   "execution_count": null,
   "id": "a97a8beb",
   "metadata": {
    "execution": {
     "iopub.execute_input": "2023-07-27T14:10:17.330396Z",
     "iopub.status.busy": "2023-07-27T14:10:17.329809Z",
     "iopub.status.idle": "2023-07-27T14:10:17.418077Z",
     "shell.execute_reply": "2023-07-27T14:10:17.417022Z",
     "shell.execute_reply.started": "2023-07-27T14:10:17.330355Z"
    },
    "papermill": {
     "duration": null,
     "end_time": null,
     "exception": null,
     "start_time": null,
     "status": "pending"
    },
    "tags": []
   },
   "outputs": [],
   "source": [
    "#Export the datasets\n",
    "\n",
    "df_mispredictions_sent.to_csv('df_mispredictions_sent.csv', index=False)\n",
    "df_mispredictions_em.to_csv('df_mispredictions_em.csv', index=False)"
   ]
  },
  {
   "cell_type": "markdown",
   "id": "8c06fb01",
   "metadata": {
    "papermill": {
     "duration": null,
     "end_time": null,
     "exception": null,
     "start_time": null,
     "status": "pending"
    },
    "tags": []
   },
   "source": [
    "# PART 3: \n",
    "## Feature Extraction\n",
    "### 3.1 Some further Dataset Preprocessing"
   ]
  },
  {
   "cell_type": "code",
   "execution_count": null,
   "id": "1764b33d",
   "metadata": {
    "collapsed": true,
    "execution": {
     "iopub.execute_input": "2023-07-30T11:49:55.697485Z",
     "iopub.status.busy": "2023-07-30T11:49:55.696813Z",
     "iopub.status.idle": "2023-07-30T11:51:27.242729Z",
     "shell.execute_reply": "2023-07-30T11:51:27.241480Z",
     "shell.execute_reply.started": "2023-07-30T11:49:55.697450Z"
    },
    "jupyter": {
     "outputs_hidden": true
    },
    "papermill": {
     "duration": null,
     "end_time": null,
     "exception": null,
     "start_time": null,
     "status": "pending"
    },
    "tags": []
   },
   "outputs": [],
   "source": [
    "# Install necessary packages for natural language processing tasks\n",
    "\n",
    "!pip install nltk\n",
    "!pip install spacy\n",
    "!pip install cmudict\n",
    "!pip install lexical-diversity\n",
    "!pip install lexicalrichness\n",
    "!pip install benepar\n",
    "!pip install vaderSentiment"
   ]
  },
  {
   "cell_type": "code",
   "execution_count": null,
   "id": "8ba43661",
   "metadata": {
    "collapsed": true,
    "execution": {
     "iopub.execute_input": "2023-07-30T11:51:40.216540Z",
     "iopub.status.busy": "2023-07-30T11:51:40.216161Z",
     "iopub.status.idle": "2023-07-30T11:52:07.264485Z",
     "shell.execute_reply": "2023-07-30T11:52:07.262562Z",
     "shell.execute_reply.started": "2023-07-30T11:51:40.216504Z"
    },
    "jupyter": {
     "outputs_hidden": true
    },
    "papermill": {
     "duration": null,
     "end_time": null,
     "exception": null,
     "start_time": null,
     "status": "pending"
    },
    "tags": []
   },
   "outputs": [],
   "source": [
    "# Import necessary libraries for natural language processing tasks\n",
    "\n",
    "# data processing\n",
    "import spacy\n",
    "import pandas as pd\n",
    "import string\n",
    "import re\n",
    "import string\n",
    "\n",
    "# nlp \n",
    "import nltk\n",
    "import math\n",
    "import spacy\n",
    "import sys\n",
    "import benepar\n",
    "import lexicalrichness\n",
    "from lexical_diversity import lex_div as ld\n",
    "from nltk.corpus import wordnet as wn\n",
    "from collections import Counter\n",
    "from nltk.corpus import wordnet as wn\n",
    "from nltk.tokenize import word_tokenize\n",
    "from vaderSentiment.vaderSentiment import SentimentIntensityAnalyzer\n",
    "\n",
    "# Download additional resources from NLTK\n",
    "nltk.download('punkt')  # Tokenization resources\n",
    "nltk.download('averaged_perceptron_tagger')  # POS tagging resources\n",
    "\n",
    "# Load the English language model for spaCy\n",
    "nlp = spacy.load('en_core_web_sm')\n",
    "\n",
    "# Download the pre-trained parser for constituency parsing\n",
    "benepar.download('benepar_en3')\n",
    "nlp.add_pipe('benepar', config={'model': 'benepar_en3'})"
   ]
  },
  {
   "cell_type": "code",
   "execution_count": null,
   "id": "a3935371",
   "metadata": {
    "collapsed": true,
    "execution": {
     "iopub.execute_input": "2023-07-30T11:52:21.108332Z",
     "iopub.status.busy": "2023-07-30T11:52:21.107803Z",
     "iopub.status.idle": "2023-07-30T11:52:22.756303Z",
     "shell.execute_reply": "2023-07-30T11:52:22.754930Z",
     "shell.execute_reply.started": "2023-07-30T11:52:21.108287Z"
    },
    "jupyter": {
     "outputs_hidden": true
    },
    "papermill": {
     "duration": null,
     "end_time": null,
     "exception": null,
     "start_time": null,
     "status": "pending"
    },
    "tags": []
   },
   "outputs": [],
   "source": [
    "# unzip the WordNet corpus data\n",
    "!unzip /usr/share/nltk_data/corpora/wordnet.zip -d /usr/share/nltk_data/corpora/"
   ]
  },
  {
   "cell_type": "code",
   "execution_count": null,
   "id": "278ce172",
   "metadata": {
    "collapsed": true,
    "execution": {
     "iopub.execute_input": "2023-07-30T11:52:28.252007Z",
     "iopub.status.busy": "2023-07-30T11:52:28.251589Z",
     "iopub.status.idle": "2023-07-30T11:52:53.553657Z",
     "shell.execute_reply": "2023-07-30T11:52:53.552388Z",
     "shell.execute_reply.started": "2023-07-30T11:52:28.251953Z"
    },
    "jupyter": {
     "outputs_hidden": true
    },
    "papermill": {
     "duration": null,
     "end_time": null,
     "exception": null,
     "start_time": null,
     "status": "pending"
    },
    "tags": []
   },
   "outputs": [],
   "source": [
    "# download the \"en_core_web_md\" model for SpaCy\n",
    "!python -m spacy download en_core_web_md"
   ]
  },
  {
   "cell_type": "code",
   "execution_count": null,
   "id": "42f5b3e0",
   "metadata": {
    "execution": {
     "iopub.execute_input": "2023-07-30T12:00:04.071819Z",
     "iopub.status.busy": "2023-07-30T12:00:04.071455Z",
     "iopub.status.idle": "2023-07-30T12:00:04.098170Z",
     "shell.execute_reply": "2023-07-30T12:00:04.097172Z",
     "shell.execute_reply.started": "2023-07-30T12:00:04.071786Z"
    },
    "papermill": {
     "duration": null,
     "end_time": null,
     "exception": null,
     "start_time": null,
     "status": "pending"
    },
    "tags": []
   },
   "outputs": [],
   "source": [
    "# Read the CSV files into a pandas df\n",
    "df_emotions = pd.read_csv('/kaggle/input/df-mispredictions-em/df_mispredictions_em.csv')\n",
    "df_sentiment = pd.read_csv('/kaggle/input/df-mispredictions-sent/df_mispredictions_sent.csv')\n",
    "\n",
    "\n",
    "# Drop rows with missing values\n",
    "df_sentiment.dropna(inplace=True)\n",
    "df_emotions.dropna(inplace=True)\n",
    "\n",
    "\n",
    "# Drop unecessary columns\n",
    "df_sentiment.drop(['label', 'Predicted Label'], axis=1, inplace=True)\n",
    "df_emotions.drop(['label', 'Predicted Label'], axis=1, inplace=True)"
   ]
  },
  {
   "cell_type": "markdown",
   "id": "a39257d4",
   "metadata": {
    "papermill": {
     "duration": null,
     "end_time": null,
     "exception": null,
     "start_time": null,
     "status": "pending"
    },
    "tags": []
   },
   "source": [
    "### 3.2 Extraction of Lexical Features\n",
    "\n",
    "#### 3.2a. Lexical Density\n",
    "#### 3.2b. TTR\n",
    "- CTTR\n",
    "- GTTR\n",
    "#### 3.2c.MTLD\n",
    "#### 3.2d. Lexical Variation \n",
    "- Verb Variation\n",
    "- Adverb Variation\n",
    "- Noun Variation\n",
    "- Adjective Variation "
   ]
  },
  {
   "cell_type": "code",
   "execution_count": null,
   "id": "eb26fbcb",
   "metadata": {
    "execution": {
     "iopub.execute_input": "2023-07-30T12:00:15.590816Z",
     "iopub.status.busy": "2023-07-30T12:00:15.590432Z",
     "iopub.status.idle": "2023-07-30T12:04:56.212700Z",
     "shell.execute_reply": "2023-07-30T12:04:56.211630Z",
     "shell.execute_reply.started": "2023-07-30T12:00:15.590782Z"
    },
    "papermill": {
     "duration": null,
     "end_time": null,
     "exception": null,
     "start_time": null,
     "status": "pending"
    },
    "tags": []
   },
   "outputs": [],
   "source": [
    "# Create a function for calculating lexical features\n",
    "\n",
    "def lexical_features(df):\n",
    "    # Token Count\n",
    "    def tokens_no_nums(txt): \n",
    "        txt = re.sub('\\d', '', txt) # remove digits from the text \n",
    "        tokens = nltk.word_tokenize(txt) # tokenize it into words\n",
    "        words = [word for word in tokens if word.isalpha()]\n",
    "        return words\n",
    "\n",
    "    def token_count(txt):  #calculate number of tokens \n",
    "        return len(tokens_no_nums(txt))\n",
    "\n",
    "    # Type Count\n",
    "    def type_count(txt):\n",
    "        counter = Counter(tokens_no_nums(txt))\n",
    "        return len(counter.keys())\n",
    "\n",
    "    # 1. Lexical Density\n",
    "    def lexical_density(text):\n",
    "        tokens = nltk.word_tokenize(text) # tokenize the text\n",
    "        tagged_tokens = nltk.pos_tag(tokens)  # tag each word with its corresponding POS tag\n",
    "        num_lexical_words = 0 # initialize a counter\n",
    "        # loop through each word and its corresponding POS tag\n",
    "        for word, tag in tagged_tokens:\n",
    "             # checking if the word is a verb, adverb, adjective, gerund, proper noun, or singular noun\n",
    "            if tag.startswith('VB') or tag.startswith('RB') or tag.startswith('JJ') or tag == 'VBG' or tag == 'VBN' or tag.startswith('NN') or tag == 'NNP':\n",
    "                # exclude modal verbs 'have' and 'be'\n",
    "                if not (tag == 'MD' and (word == 'have' or word == 'be')):\n",
    "                    num_lexical_words += 1\n",
    "            elif tag in ['RBR', 'RBS', 'JJR', 'JJS']:\n",
    "                num_lexical_words += 1\n",
    "\n",
    "        return num_lexical_words / len(tokens) #divide the number of lexical words by the total number of tokens\n",
    "\n",
    "    # 2. TTR, CTTR, GTTR\n",
    "    def ttr(text):\n",
    "        words = text.split()  # split the text into words\n",
    "        words = [word.translate(str.maketrans('', '', string.punctuation)) for word in words] # remove punctuation from words\n",
    "        unique_words = set(words)\n",
    "        ttr = len(unique_words) / len(words) # calculate ttr\n",
    "        if len(words) == len(unique_words):\n",
    "            cttr = 0 # calculate cttr\n",
    "        else:\n",
    "            cttr = ttr * ((2 * len(words)) / (len(unique_words) * (len(words) - 1)))\n",
    "        gttr = ttr / math.sqrt(2 * len(words))  # calculate gttr\n",
    "        return ttr, cttr, gttr\n",
    "\n",
    "    # 3. MTLD\n",
    "    def mtld(text):\n",
    "        sentences = re.split('[.!?]', text)  # split into sentences\n",
    "        words = []  # initialiaze an empty list to store words\n",
    "        # loop through each sentence \n",
    "        for sentence in sentences:\n",
    "            sentence_doc = nlp(sentence)\n",
    "            words += [token.lemma_.lower() for token in sentence_doc if not token.is_stop and token.is_alpha] # extract lemmatized tokens\n",
    "        if len(words) > 0:  # check for the existence of words after preprocessing\n",
    "            text_str = ' '.join(words)\n",
    "            return lexicalrichness.LexicalRichness(text_str).mtld(threshold=0.72)\n",
    "        else:\n",
    "            return 0\n",
    "\n",
    "    # 4. Verb Variation\n",
    "    def verb_variation(row):\n",
    "        tokens = nltk.word_tokenize(row['sentence'])\n",
    "        verb_tokens = len([token for token in tokens if nltk.pos_tag([token])[0][1] in {'VB', 'VBD', 'VBG', 'VBN', 'VBP', 'VBZ'}]) # count the number of verb tokens\n",
    "        # count the total number of lexical words \n",
    "        lexical_words = len([token for token in tokens if nltk.pos_tag([token])[0][1] in {'NN', 'NNS', 'NNP', 'NNPS', 'VB', 'VBD', 'VBG', 'VBN', 'VBP', 'VBZ', 'JJ', 'JJR', 'JJS', 'RB', 'RBR', 'RBS'}])\n",
    "        # divide the number of verb tokens by the total number of lexical words\n",
    "        if lexical_words > 0:\n",
    "            vv = verb_tokens / lexical_words\n",
    "        else:\n",
    "            vv = 0\n",
    "        return vv\n",
    "\n",
    "    # 5. Noun Variation\n",
    "    def noun_variation(row):\n",
    "        tokens = nltk.word_tokenize(row['sentence']) # tokenize the sentence\n",
    "        pos_tags = nltk.pos_tag(tokens) # obtain the pos tags for each token\n",
    "        noun_tokens = sum(1 for tag in pos_tags if tag[1] in ['NN', 'NNS', 'NNP', 'NNPS']) # count the number of nouns tokens\n",
    "        # count the number of noun tokens in the sentence\n",
    "        lexical_words = sum(1 for tag in pos_tags if tag[1] in ['NN', 'NNS', 'NNP', 'NNPS', 'VB', 'VBD', 'VBG', 'VBN', 'VBP', 'VBZ', 'JJ', 'JJR', 'JJS', 'RB', 'RBR', 'RBS'])\n",
    "        # calculate noun variation\n",
    "        if lexical_words > 0:\n",
    "            nv = noun_tokens / lexical_words\n",
    "        else:\n",
    "            nv = 0\n",
    "        return nv\n",
    "\n",
    "    # 6. Adverb Variation\n",
    "    def adverb_variation(row):\n",
    "        tokens = nltk.word_tokenize(row['sentence'])\n",
    "        pos_tags = nltk.pos_tag(tokens)\n",
    "        adverb_tokens = sum(1 for tag in pos_tags if tag[1] in ['RB', 'RBR', 'RBS'])\n",
    "        lexical_words = sum(1 for tag in pos_tags if tag[1] in ['NN', 'NNS', 'NNP', 'NNPS', 'VB', 'VBD', 'VBG', 'VBN', 'VBP', 'VBZ', 'JJ', 'JJR', 'JJS', 'RB', 'RBR', 'RBS'])\n",
    "        if lexical_words > 0:\n",
    "            av = adverb_tokens / lexical_words # divide the number of adverb tokens by the total number of lexical words\n",
    "        else:\n",
    "            av = 0\n",
    "        return av\n",
    "\n",
    "    # 7. Adjective Variation\n",
    "    def adjective_variation(row):\n",
    "        tokens = nltk.word_tokenize(row['sentence'])\n",
    "        pos_tags = nltk.pos_tag(tokens)\n",
    "        adj_tokens = sum(1 for tag in pos_tags if tag[1] in ['JJ', 'JJR', 'JJS'])\n",
    "        lexical_words = sum(1 for tag in pos_tags if tag[1] in ['NN', 'NNS', 'NNP', 'NNPS', 'VB', 'VBD', 'VBG', 'VBN', 'VBP', 'VBZ', 'JJ', 'JJR', 'JJS', 'RB', 'RBR', 'RBS'])\n",
    "        if lexical_words > 0:\n",
    "            av = adj_tokens / lexical_words # divide the number of adj tokens by the total number of lexical words\n",
    "        else:\n",
    "            av = 0\n",
    "        return av\n",
    "\n",
    "    # 8. Non-standard Words\n",
    "    coca = set(wn.words()) # variable containing words from the WordNet corpus\n",
    "\n",
    "    def nonstandard_words(text):\n",
    "        tokens = nltk.word_tokenize(text)  # tokenize the input text into words\n",
    "        count = sum(1 for token in tokens if token.lower() not in coca) # count the number of tokens that are not in the WordNet corpus\n",
    "        return count\n",
    "\n",
    "    # 9. Profanity Words\n",
    "    with open(\"/kaggle/input/profanity-list/profanity_list.txt\", \"r\") as file:  # read the file containing a list of profanity words\n",
    "        profanity_words = [word.strip() for word in file]\n",
    "\n",
    "    def prof_words(text):\n",
    "        count = 0\n",
    "        # loop through each word in the input text\n",
    "        for word in text.split():\n",
    "            if word.lower() in profanity_words:  #  checking if the lowercased word exists in the profanity list\n",
    "                count += 1\n",
    "        return count\n",
    "    \n",
    "\n",
    "    # Apply all functions to dataset\n",
    "    df['token_count'] = df['sentence'].apply(token_count)\n",
    "    df['type_count'] = df['sentence'].apply(lambda x: type_count(x))\n",
    "    df['LexDens'] = df['sentence'].apply(lexical_density)\n",
    "    df[['TTR', 'CTTR', 'GTTR']] = df['sentence'].dropna().apply(ttr).apply(pd.Series)\n",
    "    df['MTLD'] = df['sentence'].apply(mtld)\n",
    "    df['VerbVar'] = df.apply(verb_variation, axis=1)\n",
    "    df['NounVar'] = df.apply(noun_variation, axis=1)\n",
    "    df['AdjVar'] = df.apply(adjective_variation, axis=1)\n",
    "    df['AdvVar'] = df.apply(adverb_variation, axis=1)\n",
    "    df['non_standard'] = df['sentence'].apply(nonstandard_words)\n",
    "    df['profanity_words'] = df['sentence'].apply(prof_words)\n",
    "\n",
    "    return df\n",
    "\n",
    "# Call the function on both datasets\n",
    "df_sentiment = lexical_features(df_sentiment)\n",
    "df_emotions = lexical_features(df_emotions)"
   ]
  },
  {
   "cell_type": "markdown",
   "id": "ca63b0da",
   "metadata": {
    "papermill": {
     "duration": null,
     "end_time": null,
     "exception": null,
     "start_time": null,
     "status": "pending"
    },
    "tags": []
   },
   "source": [
    "#### 3.2e Function Words\n",
    "- Articles\n",
    "- Prepositions\n",
    "- Conjunctions\n",
    "- Pronouns\n",
    "- Auxiliary Verbs\n",
    "- Modal Verbs\n",
    "- Determiners"
   ]
  },
  {
   "cell_type": "code",
   "execution_count": null,
   "id": "b2e6bbc2",
   "metadata": {
    "execution": {
     "iopub.execute_input": "2023-07-30T12:07:19.557096Z",
     "iopub.status.busy": "2023-07-30T12:07:19.556019Z",
     "iopub.status.idle": "2023-07-30T12:07:22.063696Z",
     "shell.execute_reply": "2023-07-30T12:07:22.062696Z",
     "shell.execute_reply.started": "2023-07-30T12:07:19.557030Z"
    },
    "papermill": {
     "duration": null,
     "end_time": null,
     "exception": null,
     "start_time": null,
     "status": "pending"
    },
    "tags": []
   },
   "outputs": [],
   "source": [
    "# 10. Function Words\n",
    "def function_words(tokens, pattern):\n",
    "    matches = [token for token in tokens if re.match(pattern, token, flags=re.IGNORECASE)]  # usinge regex to match function words in tokens\n",
    "    return len(matches)\n",
    "\n",
    "# List of function word features and their corresponding patterns\n",
    "function_words_patterns = {\n",
    "    'Articles': r'\\b(a|an|the)\\b',\n",
    "    'Prepositions': r'\\b(in|on|at|over|under|with|of|to|from)\\b',\n",
    "    'Conjunctions': r'\\b(and|but|or|so|if|because|while|although)\\b',\n",
    "    'Pronouns': r'\\b(I|you|he|she|it|we|they|me|him|her|us|them)\\b',\n",
    "    'Auxiliary Verbs': r'\\b(be|do)\\b',\n",
    "    'Modal Verbs': r'\\b(can|could|may|might|shall|should|will|would|must)\\b',\n",
    "    'Determiners': r'\\b(this|that|these|those|some|any|no|every)\\b',\n",
    "}\n",
    "\n",
    "# Tokenize the text and convert tokens to lowercase\n",
    "df_sentiment['tokenized_text'] = df_sentiment['sentence'].apply(lambda x: word_tokenize(x.lower()))\n",
    "df_emotions['tokenized_text'] = df_emotions['sentence'].apply(lambda x: word_tokenize(x.lower()))\n",
    "\n",
    "# Create separate columns for each function \n",
    "for column in function_words_patterns.keys():\n",
    "    df_sentiment[column] = 0\n",
    "\n",
    "# Iterate over function word features and count their occurrences in each sentence\n",
    "for feature, pattern in function_words_patterns.items():\n",
    "    df_sentiment[feature] = df_sentiment['tokenized_text'].apply(lambda x: function_words(x, pattern))\n",
    "    df_emotions[feature] = df_emotions['tokenized_text'].apply(lambda x: function_words(x, pattern))"
   ]
  },
  {
   "cell_type": "markdown",
   "id": "07e69aeb",
   "metadata": {
    "papermill": {
     "duration": null,
     "end_time": null,
     "exception": null,
     "start_time": null,
     "status": "pending"
    },
    "tags": []
   },
   "source": [
    "### 3.3 Syntactic Features\n",
    "### Phrase Level\n",
    "#### 3.3a. Total Number of Phrases\n",
    "- Ratio Noun phrases\n",
    "- Adverb phrases,\n",
    "- Adjective phrases\n",
    "- Prepositional phrases\n",
    "- Verb phrases\n",
    "\n",
    "#### 3.3b. Complex Nominals"
   ]
  },
  {
   "cell_type": "code",
   "execution_count": null,
   "id": "b094df91",
   "metadata": {
    "execution": {
     "iopub.execute_input": "2023-07-30T12:07:40.314373Z",
     "iopub.status.busy": "2023-07-30T12:07:40.313739Z",
     "iopub.status.idle": "2023-07-30T12:07:40.344375Z",
     "shell.execute_reply": "2023-07-30T12:07:40.341228Z",
     "shell.execute_reply.started": "2023-07-30T12:07:40.314330Z"
    },
    "papermill": {
     "duration": null,
     "end_time": null,
     "exception": null,
     "start_time": null,
     "status": "pending"
    },
    "tags": []
   },
   "outputs": [],
   "source": [
    "# 1. Total Number of Phrases\n",
    "def count_phrases(sentence):\n",
    "    doc = nlp(sentence[:512])\n",
    "    sent = list(doc.sents)[0]\n",
    "    counts = {'Noun phrase': 0, 'Adverb phrase': 0, 'Adjective phrase': 0, 'Prepositional phrase': 0, 'Verb phrase': 0}\n",
    "    for token in sent:\n",
    "        if token.dep_ == 'nsubj':  # check if token is a subject in NP\n",
    "            counts['Noun phrase'] += 1\n",
    "        elif token.pos_ == 'ADV':  # check if token is an adverb\n",
    "            counts['Adverb phrase'] += 1  \n",
    "        elif token.pos_ == 'ADJ':  # check if token is an adjective\n",
    "            counts['Adjective phrase'] += 1\n",
    "        elif token.dep_ == 'prep': # check if token is a preposition in a PRP\n",
    "            counts['Prepositional phrase'] += 1\n",
    "        elif token.pos_ == 'VERB':  # check if token is a verb\n",
    "            counts['Verb phrase'] += 1\n",
    "    total_count = sum(counts.values())  # calculate the total number of phrases\n",
    "    return total_count\n",
    "\n",
    "# 2. Number of NP, AdvP, AdjP, PrP, VP\n",
    "def count_specific_phrases(sentence):\n",
    "    doc = nlp(sentence[:512])\n",
    "    sent = list(doc.sents)[0]\n",
    "    counts = {'Noun phrase': 0, 'Adverb phrase': 0, 'Adjective phrase': 0, 'Prepositional phrase': 0, 'Verb phrase': 0}\n",
    "    for token in sent:\n",
    "        if token.dep_ == 'nsubj':\n",
    "            counts['Noun phrase'] += 1\n",
    "        elif token.pos_ == 'ADV':\n",
    "            counts['Adverb phrase'] += 1\n",
    "        elif token.pos_ == 'ADJ':\n",
    "            counts['Adjective phrase'] += 1\n",
    "        elif token.dep_ == 'prep':\n",
    "            counts['Prepositional phrase'] += 1\n",
    "        elif token.pos_ == 'VERB':\n",
    "            counts['Verb phrase'] += 1\n",
    "    total_phrases = sum(counts.values())\n",
    "    if total_phrases == 0:\n",
    "        return {'Noun phrase ratio': 0, 'Adverb phrase ratio': 0, 'Adjective phrase ratio': 0, 'Prepositional phrase ratio': 0, 'Verb phrase ratio': 0}\n",
    "    ratios = {\n",
    "        'Noun phrase ratio': counts['Noun phrase'] / total_phrases,\n",
    "        'Adverb phrase ratio': counts['Adverb phrase'] / total_phrases,\n",
    "        'Adjective phrase ratio': counts['Adjective phrase'] / total_phrases,\n",
    "        'Prepositional phrase ratio': counts['Prepositional phrase'] / total_phrases,\n",
    "        'Verb phrase ratio': counts['Verb phrase'] / total_phrases\n",
    "    }\n",
    "    return ratios\n",
    "\n",
    "\n",
    "# 3. Complex Nominals\n",
    "def compute_complex_nominals(text):\n",
    "    doc = nlp(text[:512])\n",
    "    count = 0\n",
    "    for token in doc:\n",
    "        if token.pos_ == 'NOUN' and token.dep_ != 'compound':  # check if token is a noun and not part of a compound word\n",
    "            if any(child.pos_ == 'NOUN' for child in token.children):   # check if the noun has child nouns\n",
    "                count += 1\n",
    "        elif token.pos_ == 'ADJ' or token.pos_ == 'PART' or (token.pos_ == 'NOUN' and token.dep_ == 'poss'):  # check for the existence of adjectives, particles, or possessive nouns\n",
    "            count += 1\n",
    "        elif token.pos_ == 'ADP':\n",
    "            for child in token.children:\n",
    "                if child.pos_ == 'NOUN' and child.dep_ != 'compound':\n",
    "                    count += 1\n",
    "        elif token.pos_ == 'VERB':\n",
    "            for child in token.children:\n",
    "                if child.dep_ == 'relcl' or child.dep_ == 'acl':\n",
    "                    count += 1\n",
    "    return count"
   ]
  },
  {
   "cell_type": "code",
   "execution_count": null,
   "id": "ae63a763",
   "metadata": {
    "execution": {
     "iopub.execute_input": "2023-07-30T12:07:48.886306Z",
     "iopub.status.busy": "2023-07-30T12:07:48.885837Z",
     "iopub.status.idle": "2023-07-30T12:11:39.726086Z",
     "shell.execute_reply": "2023-07-30T12:11:39.725006Z",
     "shell.execute_reply.started": "2023-07-30T12:07:48.886267Z"
    },
    "papermill": {
     "duration": null,
     "end_time": null,
     "exception": null,
     "start_time": null,
     "status": "pending"
    },
    "tags": []
   },
   "outputs": [],
   "source": [
    "# Call the functions to df_sentiment\n",
    "df_sentiment['Number of Phrases'] = df_sentiment['sentence'].apply(count_phrases)\n",
    "df_sentiment[['NP Ratio', 'AdvP Ratio', 'AdjP Ratio', 'PrpP Ratio', 'VP Ratio']] = df_sentiment['sentence'].apply(count_specific_phrases).apply(pd.Series)\n",
    "df_sentiment['Complex Nominals'] = df_sentiment['sentence'].apply(compute_complex_nominals)"
   ]
  },
  {
   "cell_type": "code",
   "execution_count": null,
   "id": "4b2f977b",
   "metadata": {
    "execution": {
     "iopub.execute_input": "2023-07-30T12:11:42.943840Z",
     "iopub.status.busy": "2023-07-30T12:11:42.942919Z",
     "iopub.status.idle": "2023-07-30T12:15:08.618444Z",
     "shell.execute_reply": "2023-07-30T12:15:08.617463Z",
     "shell.execute_reply.started": "2023-07-30T12:11:42.943793Z"
    },
    "papermill": {
     "duration": null,
     "end_time": null,
     "exception": null,
     "start_time": null,
     "status": "pending"
    },
    "tags": []
   },
   "outputs": [],
   "source": [
    "# Call the functions to df_emotions\n",
    "df_emotions['Number of Phrases'] = df_emotions['sentence'].apply(count_phrases)\n",
    "df_emotions[['NP Ratio', 'AdvP Ratio', 'AdjP Ratio', 'PrpP Ratio', 'VP Ratio']] = df_emotions['sentence'].apply(count_specific_phrases).apply(pd.Series)\n",
    "df_emotions['Complex Nominals'] = df_emotions['sentence'].apply(compute_complex_nominals)"
   ]
  },
  {
   "cell_type": "markdown",
   "id": "d8b515bd",
   "metadata": {
    "papermill": {
     "duration": null,
     "end_time": null,
     "exception": null,
     "start_time": null,
     "status": "pending"
    },
    "tags": []
   },
   "source": [
    "### Sentence Level\n",
    "\n",
    "#### 3.3c. Sentence Length\n",
    "- Number of words in the sentence\n",
    "- Number of characters in the sentence\n",
    "\n",
    "#### 3.3d. Dependent Clauses\n",
    "- Number of Subordinate Clauses in a Sentence\n",
    "- Number of Relative Clauses in a sentence\n",
    "\n",
    "#### 3.3e. Tree Depth of Syntactic Parse Tree"
   ]
  },
  {
   "cell_type": "code",
   "execution_count": null,
   "id": "096923ae",
   "metadata": {
    "execution": {
     "iopub.execute_input": "2023-07-30T12:18:06.671959Z",
     "iopub.status.busy": "2023-07-30T12:18:06.671401Z",
     "iopub.status.idle": "2023-07-30T12:18:06.680630Z",
     "shell.execute_reply": "2023-07-30T12:18:06.679476Z",
     "shell.execute_reply.started": "2023-07-30T12:18:06.671917Z"
    },
    "papermill": {
     "duration": null,
     "end_time": null,
     "exception": null,
     "start_time": null,
     "status": "pending"
    },
    "tags": []
   },
   "outputs": [],
   "source": [
    "# 1. Number of characters \n",
    "get_num_chars = lambda x: len(''.join(x.split()))\n",
    "\n",
    "# 2. Number of words \n",
    "get_num_words = lambda x: len(x.split())"
   ]
  },
  {
   "cell_type": "code",
   "execution_count": null,
   "id": "81ba9339",
   "metadata": {
    "execution": {
     "iopub.execute_input": "2023-07-30T12:18:10.197107Z",
     "iopub.status.busy": "2023-07-30T12:18:10.196710Z",
     "iopub.status.idle": "2023-07-30T12:18:10.209016Z",
     "shell.execute_reply": "2023-07-30T12:18:10.207772Z",
     "shell.execute_reply.started": "2023-07-30T12:18:10.197073Z"
    },
    "papermill": {
     "duration": null,
     "end_time": null,
     "exception": null,
     "start_time": null,
     "status": "pending"
    },
    "tags": []
   },
   "outputs": [],
   "source": [
    "# 3. Subordinate Clauses\n",
    "def subord_clauses(sentence):\n",
    "    doc = nlp(sentence[:512])\n",
    "    subord_count = 0\n",
    "    for token in doc:\n",
    "        # Check if the token is a subordinating conjunction \n",
    "        if token.dep_ == \"mark\" and (token.text == \"that\" or token.text in [\"when\", \"where\", \"who\", \"whom\", \"whose\", \"which\", \"although\", \"because\", \"if\", \"since\", \"while\"]):\n",
    "            subord_count += 1\n",
    "    return subord_count\n",
    "\n",
    "\n",
    "# 4. Relative Clauses\n",
    "pattern = r\"(which|who|whom|whose|where|when)\"\n",
    "\n",
    "# define a function to count the number of matches of the pattern in a sentence\n",
    "def relative_clauses(sentence):\n",
    "    matches = re.findall(pattern, sentence)\n",
    "    return len(matches)\n",
    "\n",
    "\n",
    "# 5. Syntactic Tree Depth\n",
    "def tree_depth(sentence):\n",
    "    doc = nlp(sentence[:512]) # parse the sentence\n",
    "    root = [token for token in doc if token.head == token][0] # find the root of the synt tree\n",
    "    \n",
    "    def traverse(node, depth):\n",
    "        if not list(node.children): # ff the current node has no children, return its depth\n",
    "            return depth\n",
    "        else:\n",
    "            return max(traverse(child, depth+1) for child in node.children)\n",
    "    # start the tree traversal from the root with an initial depth of 0\n",
    "    return traverse(root, 0)\n",
    "\n",
    "\n",
    "# 6. Parenthetical Sentences\n",
    "# Define a regular expression to match parenthetical expressions\n",
    "paren_regex = r'[\\(\\[\\{].*?[\\)\\]\\}]'\n",
    "\n",
    "# Define a regular expression to match parenthetical expressions set within dashes\n",
    "dash_regex = r'--(.*?)--'\n",
    "\n",
    "# Define a regular expression to match parenthetical expressions within commas\n",
    "comma_regex = r',\\s*([^,()]+)\\s*,'\n",
    "\n",
    "# Count the number of parenthetical expressions in a sentence\n",
    "def parenthetical_sent(sentence):\n",
    "    # Find all parenthetical expressions in the sentence\n",
    "    paren_matches = re.findall(paren_regex, sentence)\n",
    "    dash_matches = re.findall(dash_regex, sentence)\n",
    "    comma_matches = re.findall(comma_regex, sentence)\n",
    "\n",
    "    # Combine all matches into a single list of parenthetical expressions\n",
    "    parentheticals = paren_matches + dash_matches + comma_matches\n",
    "\n",
    "    # Return the count of parenthetical expressions\n",
    "    return len(parentheticals)"
   ]
  },
  {
   "cell_type": "code",
   "execution_count": null,
   "id": "ac60f778",
   "metadata": {
    "execution": {
     "iopub.execute_input": "2023-07-30T12:18:13.452223Z",
     "iopub.status.busy": "2023-07-30T12:18:13.451846Z",
     "iopub.status.idle": "2023-07-30T12:20:45.225337Z",
     "shell.execute_reply": "2023-07-30T12:20:45.224290Z",
     "shell.execute_reply.started": "2023-07-30T12:18:13.452191Z"
    },
    "papermill": {
     "duration": null,
     "end_time": null,
     "exception": null,
     "start_time": null,
     "status": "pending"
    },
    "tags": []
   },
   "outputs": [],
   "source": [
    "# Call functions to df_sentiment\n",
    "df_sentiment['Subordinate Clauses'] = df_sentiment['sentence'].apply(subord_clauses)   \n",
    "df_sentiment[\"Relative Clauses\"] = df_sentiment[\"sentence\"].apply(relative_clauses)\n",
    "df_sentiment['Number of Characters'] = df_sentiment['sentence'].apply(get_num_chars)\n",
    "df_sentiment['Number of Words'] = df_sentiment['sentence'].apply(get_num_words)\n",
    "\n",
    "# Join the list of words back into a string before applying the tree function\n",
    "df_sentiment[\"Tree Depth\"] = df_sentiment[\"sentence\"].apply(tree_depth)\n",
    "df_sentiment['paren_count'] = df_sentiment['sentence'].apply(parenthetical_sent)"
   ]
  },
  {
   "cell_type": "code",
   "execution_count": null,
   "id": "b7b61bdc",
   "metadata": {
    "execution": {
     "iopub.execute_input": "2023-07-30T12:20:55.083999Z",
     "iopub.status.busy": "2023-07-30T12:20:55.083601Z",
     "iopub.status.idle": "2023-07-30T12:23:13.163864Z",
     "shell.execute_reply": "2023-07-30T12:23:13.162770Z",
     "shell.execute_reply.started": "2023-07-30T12:20:55.083947Z"
    },
    "papermill": {
     "duration": null,
     "end_time": null,
     "exception": null,
     "start_time": null,
     "status": "pending"
    },
    "tags": []
   },
   "outputs": [],
   "source": [
    "# Call functions to df_emotions\n",
    "df_emotions['Subordinate Clauses'] = df_emotions['sentence'].apply(subord_clauses)   \n",
    "df_emotions[\"Relative Clauses\"] = df_emotions[\"sentence\"].apply(relative_clauses)\n",
    "df_emotions['Number of Characters'] = df_emotions['sentence'].apply(get_num_chars)\n",
    "df_emotions['Number of Words'] = df_emotions['sentence'].apply(get_num_words)\n",
    "\n",
    "# Join the list of words back into a string before applying the get_tree_depth function\n",
    "df_emotions[\"Tree Depth\"] = df_emotions[\"sentence\"].apply(tree_depth)\n",
    "df_emotions['paren_count'] = df_emotions['sentence'].apply(parenthetical_sent)"
   ]
  },
  {
   "cell_type": "markdown",
   "id": "81ba06e5",
   "metadata": {
    "papermill": {
     "duration": null,
     "end_time": null,
     "exception": null,
     "start_time": null,
     "status": "pending"
    },
    "tags": []
   },
   "source": [
    "### Dependency Relations\n",
    "- Subject-Verb Agreement\n",
    "- Object-Verb Agreement\n",
    "- Adjective-Noun Agreement"
   ]
  },
  {
   "cell_type": "code",
   "execution_count": null,
   "id": "0a1e4502",
   "metadata": {
    "execution": {
     "iopub.execute_input": "2023-07-30T12:23:39.431896Z",
     "iopub.status.busy": "2023-07-30T12:23:39.431451Z",
     "iopub.status.idle": "2023-07-30T12:23:39.442550Z",
     "shell.execute_reply": "2023-07-30T12:23:39.441448Z",
     "shell.execute_reply.started": "2023-07-30T12:23:39.431857Z"
    },
    "papermill": {
     "duration": null,
     "end_time": null,
     "exception": null,
     "start_time": null,
     "status": "pending"
    },
    "tags": []
   },
   "outputs": [],
   "source": [
    "# 1. Dependency Relations\n",
    "def dependency_label_frequencies(sentences, relations_to_extract):\n",
    "    dependency_frequencies = []  # empty dictionary to  store dependency frequencies\n",
    "    for sentence in sentences: #iterate over each sentence\n",
    "        max_length = 512  # maximum supported length of tokens\n",
    "        chunks = [sentence[i:i + max_length] for i in range(0, len(sentence), max_length)]\n",
    "        sentence_dependency_labels = {}\n",
    "\n",
    "        for chunk in chunks: # process the sentence in chunks of maximum supported length\n",
    "            doc = nlp(chunk)\n",
    "            for token in doc: # iterate over each token\n",
    "                if token.dep_ in dep_rel: # check if the token's dependency label is included in the dep_rel variable\n",
    "                    if token.dep_ not in sentence_dependency_labels: # include the dependency label in the dictionary if it's not already included\n",
    "                        sentence_dependency_labels[token.dep_] = 0\n",
    "                    sentence_dependency_labels[token.dep_] += 1\n",
    "\n",
    "        dependency_frequencies.append(sentence_dependency_labels)\n",
    "\n",
    "    return dependency_frequencies  # return the list of dependency frequencies"
   ]
  },
  {
   "cell_type": "code",
   "execution_count": null,
   "id": "bd19bd28",
   "metadata": {
    "execution": {
     "iopub.execute_input": "2023-07-30T12:23:46.475714Z",
     "iopub.status.busy": "2023-07-30T12:23:46.475329Z",
     "iopub.status.idle": "2023-07-30T12:26:18.111826Z",
     "shell.execute_reply": "2023-07-30T12:26:18.110492Z",
     "shell.execute_reply.started": "2023-07-30T12:23:46.475683Z"
    },
    "papermill": {
     "duration": null,
     "end_time": null,
     "exception": null,
     "start_time": null,
     "status": "pending"
    },
    "tags": []
   },
   "outputs": [],
   "source": [
    "# Define the dependency relations \n",
    "dep_rel = [\"nsubj\", \"dobj\", \"amod\"]\n",
    "\n",
    "# Extract the dependency label frequencies\n",
    "dependency_frequencies = dependency_label_frequencies(df_sentiment['sentence'], dep_rel)\n",
    "dependency_frequencies = dependency_label_frequencies(df_emotions['sentence'], dep_rel)\n",
    "\n",
    "# Create separate columns in the datasets for each dependency relation\n",
    "for relation in dep_rel:\n",
    "    df_sentiment[relation] = 0\n",
    "    df_emotions[relation] = 0\n",
    "\n",
    "# Update the corresponding columns in the datasets\n",
    "for i, frequencies in enumerate(dependency_frequencies):\n",
    "    for relation, frequency in frequencies.items():\n",
    "        df_sentiment.at[i, relation] = frequency\n",
    "        df_emotions.at[i, relation] = frequency"
   ]
  },
  {
   "cell_type": "code",
   "execution_count": null,
   "id": "f3de55d3",
   "metadata": {
    "execution": {
     "iopub.execute_input": "2023-07-30T12:26:18.114316Z",
     "iopub.status.busy": "2023-07-30T12:26:18.113912Z",
     "iopub.status.idle": "2023-07-30T12:26:18.127120Z",
     "shell.execute_reply": "2023-07-30T12:26:18.126173Z",
     "shell.execute_reply.started": "2023-07-30T12:26:18.114280Z"
    },
    "papermill": {
     "duration": null,
     "end_time": null,
     "exception": null,
     "start_time": null,
     "status": "pending"
    },
    "tags": []
   },
   "outputs": [],
   "source": [
    "# Remove NA values\n",
    "df_sentiment = df_sentiment.dropna(subset=['sentence'])\n",
    "df_emotions =  df_emotions.dropna(subset=['sentence'])"
   ]
  },
  {
   "cell_type": "markdown",
   "id": "64e2785d",
   "metadata": {
    "execution": {
     "iopub.execute_input": "2023-06-14T16:19:19.833776Z",
     "iopub.status.busy": "2023-06-14T16:19:19.832899Z",
     "iopub.status.idle": "2023-06-14T16:19:19.867352Z",
     "shell.execute_reply": "2023-06-14T16:19:19.865644Z",
     "shell.execute_reply.started": "2023-06-14T16:19:19.833731Z"
    },
    "papermill": {
     "duration": null,
     "end_time": null,
     "exception": null,
     "start_time": null,
     "status": "pending"
    },
    "tags": []
   },
   "source": [
    "### 3.4 Extraction of Discourse Coherence Features\n",
    "#### 3.4a. Discourse Markers\n",
    "- Constrast Markers\n",
    "- Emphatic Markers\n",
    "- Concessive Markers\n",
    "- Summary Markers"
   ]
  },
  {
   "cell_type": "code",
   "execution_count": null,
   "id": "2d0e8430",
   "metadata": {
    "execution": {
     "iopub.execute_input": "2023-07-30T12:26:41.420568Z",
     "iopub.status.busy": "2023-07-30T12:26:41.420189Z",
     "iopub.status.idle": "2023-07-30T12:26:41.434015Z",
     "shell.execute_reply": "2023-07-30T12:26:41.432802Z",
     "shell.execute_reply.started": "2023-07-30T12:26:41.420537Z"
    },
    "papermill": {
     "duration": null,
     "end_time": null,
     "exception": null,
     "start_time": null,
     "status": "pending"
    },
    "tags": []
   },
   "outputs": [],
   "source": [
    "# list of discourse markers\n",
    "constrast_markers = [\"but\", \"however\", \"nevertheless\", \"yet\", \"despite\", \"although\"]\n",
    "# add multi-word expressions to the list with regex pattern\n",
    "constrast_markers.extend([\"all in all\", \"on the contrary\", \"by contrast\", \"in contrast\", \"even though\", \"on the other hand\"])\n",
    "\n",
    "# list of emphasic markers\n",
    "emphatic_markers = ['indeed', 'certainly', 'absolutely', 'clearly', 'obviously', 'notably', 'significantly', 'particularly', 'especially']\n",
    "emphatic_markers.extend([\"by all means\", \"of course\", \"without a doubt\", \"in fact\"])\n",
    "\n",
    "# list of concessive markers\n",
    "concessive_markers = [\"although\", \"while\", \"despite\", \"granted\", \"admittedly\", \"naturally\"]\n",
    "concessive_markers.extend([\"be that as it may\", \"at the same time\", \"regardless of\", \"notwithstanding that\"])\n",
    "\n",
    "# list of summary markers\n",
    "summary_markers = [\"overall\", \"briefly\", \"succinctly\", \"finally\"]\n",
    "summary_markers.extend([\"to summarize\", \"as a result\", \"in essence\", \"on the whole\", \"in conclusion\", \"to sum up\", \"all in all\", \"in summary\"])\n",
    "\n",
    "# 1. Number of Contrast Markers\n",
    "def count_contrast_markers(text):\n",
    "    text = str(text)  # convert to string if not already\n",
    "    count = 0\n",
    "    for marker in constrast_markers:  # check if the marker is present in the text\n",
    "        if re.search(rf\"\\b{re.escape(marker)}\\b\", text, flags=re.IGNORECASE):\n",
    "            count += 1\n",
    "    return count\n",
    "\n",
    "# 2. Number of Emphatic Markers\n",
    "def count_emphatic_markers(text):\n",
    "    text = str(text)  \n",
    "    count = 0\n",
    "    for marker in emphatic_markers:\n",
    "        if re.search(rf\"\\b{re.escape(marker)}\\b\", text, flags=re.IGNORECASE):\n",
    "            count += 1\n",
    "    return count\n",
    "\n",
    "# 3. Number of Concessive Markers\n",
    "def count_concessive_markers(text):\n",
    "    text = str(text)  \n",
    "    count = 0\n",
    "    for marker in concessive_markers:\n",
    "        if re.search(rf\"\\b{re.escape(marker)}\\b\", text, flags=re.IGNORECASE):\n",
    "            count += 1\n",
    "    return count\n",
    "\n",
    "# 4. Number of Summary Markers\n",
    "def count_summary_markers(text):\n",
    "    text = str(text)  # Convert to string if not already\n",
    "    count = 0\n",
    "    for marker in summary_markers:\n",
    "        if re.search(rf\"\\b{re.escape(marker)}\\b\", text, flags=re.IGNORECASE):\n",
    "            count += 1\n",
    "    return count"
   ]
  },
  {
   "cell_type": "code",
   "execution_count": null,
   "id": "138750a9",
   "metadata": {
    "collapsed": true,
    "execution": {
     "iopub.execute_input": "2023-07-30T12:26:45.839140Z",
     "iopub.status.busy": "2023-07-30T12:26:45.838725Z",
     "iopub.status.idle": "2023-07-30T12:26:46.580062Z",
     "shell.execute_reply": "2023-07-30T12:26:46.578660Z",
     "shell.execute_reply.started": "2023-07-30T12:26:45.839105Z"
    },
    "jupyter": {
     "outputs_hidden": true
    },
    "papermill": {
     "duration": null,
     "end_time": null,
     "exception": null,
     "start_time": null,
     "status": "pending"
    },
    "tags": []
   },
   "outputs": [],
   "source": [
    "# Call the functions on the df_sentiment\n",
    "df_sentiment.loc[:, \"Contrast Markers\"] = df_sentiment[\"sentence\"].apply(count_contrast_markers)\n",
    "df_sentiment.loc[:, \"Emphatic Markers\"] = df_sentiment[\"sentence\"].apply(count_emphatic_markers)\n",
    "df_sentiment.loc[:, \"Concessive Markers\"] = df_sentiment[\"sentence\"].apply(count_concessive_markers)\n",
    "df_sentiment.loc[:, \"Summary Markers\"] = df_sentiment[\"sentence\"].apply(count_summary_markers)"
   ]
  },
  {
   "cell_type": "code",
   "execution_count": null,
   "id": "d1aef882",
   "metadata": {
    "execution": {
     "iopub.execute_input": "2023-07-30T12:26:50.127943Z",
     "iopub.status.busy": "2023-07-30T12:26:50.126854Z",
     "iopub.status.idle": "2023-07-30T12:26:50.631271Z",
     "shell.execute_reply": "2023-07-30T12:26:50.630155Z",
     "shell.execute_reply.started": "2023-07-30T12:26:50.127903Z"
    },
    "papermill": {
     "duration": null,
     "end_time": null,
     "exception": null,
     "start_time": null,
     "status": "pending"
    },
    "tags": []
   },
   "outputs": [],
   "source": [
    "# Call the functions on the df_emotions\n",
    "df_emotions.loc[:, \"Contrast Markers\"] = df_emotions[\"sentence\"].apply(count_contrast_markers)\n",
    "df_emotions.loc[:, \"Emphatic Markers\"] = df_emotions[\"sentence\"].apply(count_emphatic_markers)\n",
    "df_emotions.loc[:, \"Concessive Markers\"] = df_emotions[\"sentence\"].apply(count_concessive_markers)\n",
    "df_emotions.loc[:, \"Summary Markers\"] = df_emotions[\"sentence\"].apply(count_summary_markers)"
   ]
  },
  {
   "cell_type": "markdown",
   "id": "3a017ced",
   "metadata": {
    "papermill": {
     "duration": null,
     "end_time": null,
     "exception": null,
     "start_time": null,
     "status": "pending"
    },
    "tags": []
   },
   "source": [
    "### 3.5 Extraction of Morphological Features\n",
    "#### 3.5a. Verb Tenses\n",
    "- Present Tense\n",
    "- Past Tense\n",
    "- Future Tense\n",
    "- Infinitive Form\n",
    "\n",
    "#### 3.5b. Negation suffixes"
   ]
  },
  {
   "cell_type": "code",
   "execution_count": null,
   "id": "ab495a66",
   "metadata": {
    "execution": {
     "iopub.execute_input": "2023-07-30T12:27:11.380114Z",
     "iopub.status.busy": "2023-07-30T12:27:11.379115Z",
     "iopub.status.idle": "2023-07-30T12:27:11.396041Z",
     "shell.execute_reply": "2023-07-30T12:27:11.394966Z",
     "shell.execute_reply.started": "2023-07-30T12:27:11.380076Z"
    },
    "papermill": {
     "duration": null,
     "end_time": null,
     "exception": null,
     "start_time": null,
     "status": "pending"
    },
    "tags": []
   },
   "outputs": [],
   "source": [
    "# 1. Negative Words Count\n",
    "def count_negative_words(text):\n",
    "    if isinstance(text, str):  # Check if text is a string\n",
    "        prefix_pattern = re.compile(r'\\b(un|dis|non|in|im)\\w*\\b') # initiate regular expression for matching negative prefixes\n",
    "        suffix_pattern = re.compile(r'\\w*(less|void|lessness|n\\'t)\\b') # initiate regular expression for matching negative suffixes\n",
    "        count = 0\n",
    "        for word in text.split():\n",
    "            if prefix_pattern.search(word) or suffix_pattern.search(word):\n",
    "                count += 1\n",
    "        return count\n",
    "    else:\n",
    "        return 0\n",
    "\n",
    "    \n",
    "# 2. Count Verb Tenses\n",
    "def count_verbs(doc):   # initiate counters for present, past, future, and infinitive verbs\n",
    "    present_verbs = 0\n",
    "    past_verbs = 0\n",
    "    future_verbs = 0\n",
    "    infinitive_verbs = 0\n",
    "    \n",
    "    for token in doc:\n",
    "        if token.tag_.startswith('VB'): # Check if the token is a verb\n",
    "            if token.tag_ == 'VBZ' or token.tag_ == 'VBP':  # Present tense verbs\n",
    "                present_verbs += 1\n",
    "            elif token.tag_ == 'VBD':  # Past tense verbs\n",
    "                past_verbs += 1 \n",
    "            elif token.tag_ == 'VBG': # Gerund/present participle verbs\n",
    "                if 'will' in doc[token.i:token.i+5].text.lower():\n",
    "                    future_verbs += 1\n",
    "            elif token.tag_ == 'VBN':  # Past participle verbs\n",
    "                # check if \"will\" or \"shall\" appear within the next 5 tokens after the current token\n",
    "                if ('will' in doc[token.i:token.i+5].text.lower() or \n",
    "                    'shall' in doc[token.i:token.i+5].text.lower() or \n",
    "                    (token.tag_ == 'VBN' and 'have' in doc[token.i-3:token.i].text.lower() and \n",
    "                    ('will' in doc[token.i:token.i+5].text.lower() or 'shall' in doc[token.i:token.i+5].text.lower()) and \n",
    "                    'been' in doc[token.i:token.i+5].text.lower())):\n",
    "                    future_verbs += 1\n",
    "            elif token.tag_ == 'MD':  # Modal verbs \n",
    "                # counts as future verb if \"going\" or \"gonna\" appear within the next six tokens.\n",
    "                if ('going' in doc[token.i:token.i+6].text.lower() or \n",
    "                    'gonna' in doc[token.i:token.i+6].text.lower()):\n",
    "                    future_verbs += 1\n",
    "            elif token.tag_ == 'VB':  # Infinitive verbs\n",
    "                infinitive_verbs += 1\n",
    "    \n",
    "    return present_verbs, past_verbs, future_verbs, infinitive_verbs\n",
    "\n",
    "\n",
    "# 3. Check if a sentence has passive voice OR NOT\n",
    "def has_passive_voice(sentence):\n",
    "    doc = nlp(sentence)\n",
    "    for token in doc:\n",
    "        if token.dep_ == 'nsubjpass' and token.head.pos_ == 'VERB':\n",
    "            return 1\n",
    "    return 0"
   ]
  },
  {
   "cell_type": "code",
   "execution_count": null,
   "id": "a3f528e7",
   "metadata": {
    "collapsed": true,
    "execution": {
     "iopub.execute_input": "2023-07-30T12:27:15.927371Z",
     "iopub.status.busy": "2023-07-30T12:27:15.927009Z",
     "iopub.status.idle": "2023-07-30T12:29:53.153251Z",
     "shell.execute_reply": "2023-07-30T12:29:53.151014Z",
     "shell.execute_reply.started": "2023-07-30T12:27:15.927340Z"
    },
    "jupyter": {
     "outputs_hidden": true
    },
    "papermill": {
     "duration": null,
     "end_time": null,
     "exception": null,
     "start_time": null,
     "status": "pending"
    },
    "tags": []
   },
   "outputs": [],
   "source": [
    "# Call function on df_sentiment\n",
    "df_sentiment['Negative Affixes'] = df_sentiment['sentence'].apply(count_negative_words)\n",
    "df_sentiment[['Present Verbs', 'Past Verbs', 'Future Verbs', 'Infinitive Verbs']] = df_sentiment['sentence'].apply(lambda x: pd.Series(count_verbs(nlp(x))))\n",
    "df_sentiment['has_passive_voice'] = df_sentiment['sentence'].apply(has_passive_voice)"
   ]
  },
  {
   "cell_type": "code",
   "execution_count": null,
   "id": "a7b57bdc",
   "metadata": {
    "execution": {
     "iopub.execute_input": "2023-07-30T12:29:59.401514Z",
     "iopub.status.busy": "2023-07-30T12:29:59.401087Z",
     "iopub.status.idle": "2023-07-30T12:32:16.340063Z",
     "shell.execute_reply": "2023-07-30T12:32:16.339037Z",
     "shell.execute_reply.started": "2023-07-30T12:29:59.401480Z"
    },
    "papermill": {
     "duration": null,
     "end_time": null,
     "exception": null,
     "start_time": null,
     "status": "pending"
    },
    "tags": []
   },
   "outputs": [],
   "source": [
    "# Call function on df_emotions\n",
    "df_emotions['Negative Affixes'] = df_emotions['sentence'].apply(count_negative_words)\n",
    "df_emotions[['Present Verbs', 'Past Verbs', 'Future Verbs', 'Infinitive Verbs']] = df_emotions['sentence'].apply(lambda x: pd.Series(count_verbs(nlp(x))))\n",
    "df_emotions['has_passive_voice'] = df_emotions['sentence'].apply(has_passive_voice)"
   ]
  },
  {
   "cell_type": "markdown",
   "id": "2e303116",
   "metadata": {
    "papermill": {
     "duration": null,
     "end_time": null,
     "exception": null,
     "start_time": null,
     "status": "pending"
    },
    "tags": []
   },
   "source": [
    "### 3.6 Conceptual Features\n",
    "#### 3.6a. Polarity Scores\n",
    "- Positive Polarity\n",
    "- Negative Polarity\n",
    "\n",
    "\n",
    "#### 3.6b. Word word ambiguity per sentence\n",
    "#### 3.6c. Mean word concreteness per sentence"
   ]
  },
  {
   "cell_type": "code",
   "execution_count": null,
   "id": "feb1069d",
   "metadata": {
    "execution": {
     "iopub.execute_input": "2023-07-30T12:33:14.170694Z",
     "iopub.status.busy": "2023-07-30T12:33:14.170330Z",
     "iopub.status.idle": "2023-07-30T12:33:22.802161Z",
     "shell.execute_reply": "2023-07-30T12:33:22.801125Z",
     "shell.execute_reply.started": "2023-07-30T12:33:14.170664Z"
    },
    "papermill": {
     "duration": null,
     "end_time": null,
     "exception": null,
     "start_time": null,
     "status": "pending"
    },
    "tags": []
   },
   "outputs": [],
   "source": [
    "# Create a SentimentIntensityAnalyzer variable\n",
    "analyzer = SentimentIntensityAnalyzer()\n",
    "\n",
    "# Load the concreteness lexicon\n",
    "concreteness_lexicon = pd.read_excel('/kaggle/input/concreteness-ratins/Concreteness_ratings_Brysbaert_et_al_BRM.xlsx')\n",
    "\n",
    "# Compute Conceptual Features\n",
    "def conceptual_features(df, text_column):\n",
    "    # Create new columns to store the negative and positive polarity scores\n",
    "    df['negative_polarity'] = df[text_column].apply(lambda x: analyzer.polarity_scores(x)['neg'])\n",
    "    df['positive_polarity'] = df[text_column].apply(lambda x: analyzer.polarity_scores(x)['pos'])\n",
    "    \n",
    "    # 1. Ambiguity\n",
    "    def count_synsets(word):\n",
    "        return len(wn.synsets(word))\n",
    "    \n",
    "    # Apply function to each word in the sentence and calculate the mean\n",
    "    df['word_ambiguity'] = df[text_column].apply(lambda x: sum(count_synsets(word) for sublist in x.split() for word in sublist.split()) / len(x.split()))\n",
    "    \n",
    "    # 2. Mean Concreteness\n",
    "    def calculate_mean_concreteness(sentence):\n",
    "        words = [word for sublist in sentence.split() for word in sublist.split()] # split the sentence into words and create a list of individual words\n",
    "        concreteness_scores = concreteness_lexicon.loc[concreteness_lexicon['Word'].isin(words)]['Conc.M'] # get concreteness scores for words in the sentence from the concreteness lexicon\n",
    "        return concreteness_scores.mean()\n",
    "    \n",
    "    # Calculate the mean concreteness for each sentence\n",
    "    df['mean_concreteness'] = df[text_column].apply(calculate_mean_concreteness)\n",
    "    \n",
    "    return df"
   ]
  },
  {
   "cell_type": "code",
   "execution_count": null,
   "id": "66aff325",
   "metadata": {
    "collapsed": true,
    "execution": {
     "iopub.execute_input": "2023-07-30T12:34:16.586725Z",
     "iopub.status.busy": "2023-07-30T12:34:16.585998Z",
     "iopub.status.idle": "2023-07-30T12:34:33.768052Z",
     "shell.execute_reply": "2023-07-30T12:34:33.767022Z",
     "shell.execute_reply.started": "2023-07-30T12:34:16.586689Z"
    },
    "jupyter": {
     "outputs_hidden": true
    },
    "papermill": {
     "duration": null,
     "end_time": null,
     "exception": null,
     "start_time": null,
     "status": "pending"
    },
    "tags": []
   },
   "outputs": [],
   "source": [
    "# Call the function for df_sentiment and df_emotions\n",
    "df_sentiment = conceptual_features(df_sentiment, 'sentence')\n",
    "df_emotions = conceptual_features(df_emotions, 'sentence')"
   ]
  },
  {
   "cell_type": "code",
   "execution_count": null,
   "id": "e147e056",
   "metadata": {
    "execution": {
     "iopub.execute_input": "2023-07-30T12:36:09.130058Z",
     "iopub.status.busy": "2023-07-30T12:36:09.129527Z",
     "iopub.status.idle": "2023-07-30T12:36:09.282188Z",
     "shell.execute_reply": "2023-07-30T12:36:09.280869Z",
     "shell.execute_reply.started": "2023-07-30T12:36:09.130011Z"
    },
    "papermill": {
     "duration": null,
     "end_time": null,
     "exception": null,
     "start_time": null,
     "status": "pending"
    },
    "tags": []
   },
   "outputs": [],
   "source": [
    "# Extract feature datasets\n",
    "df_sentiment.to_csv('features_df_sentiment.csv', index=False)\n",
    "df_emotions.to_csv('features_df_emotions.csv', index=False)"
   ]
  },
  {
   "cell_type": "markdown",
   "id": "8ecdb4d7",
   "metadata": {
    "papermill": {
     "duration": null,
     "end_time": null,
     "exception": null,
     "start_time": null,
     "status": "pending"
    },
    "tags": []
   },
   "source": [
    "# PART 4: \n",
    "## Data Cleaning"
   ]
  },
  {
   "cell_type": "code",
   "execution_count": null,
   "id": "5673d1cf",
   "metadata": {
    "execution": {
     "iopub.execute_input": "2023-07-31T12:33:00.599244Z",
     "iopub.status.busy": "2023-07-31T12:33:00.598863Z",
     "iopub.status.idle": "2023-07-31T12:33:04.673223Z",
     "shell.execute_reply": "2023-07-31T12:33:04.672141Z",
     "shell.execute_reply.started": "2023-07-31T12:33:00.599207Z"
    },
    "papermill": {
     "duration": null,
     "end_time": null,
     "exception": null,
     "start_time": null,
     "status": "pending"
    },
    "tags": []
   },
   "outputs": [],
   "source": [
    "# Import necessary libraries for machine learning processes\n",
    "\n",
    "# data processing\n",
    "import numpy as np\n",
    "import pandas as pd\n",
    "\n",
    "#sklearn\n",
    "from sklearn.model_selection import KFold, cross_val_predict, cross_val_score, train_test_split, cross_validate\n",
    "from sklearn.metrics import confusion_matrix, f1_score, accuracy_score, make_scorer, r2_score,  precision_score, recall_score, classification_report\n",
    "from sklearn.linear_model import LogisticRegression, LineaRegression\n",
    "from sklearn.ensemble import RandomForestClassifier\n",
    "from sklearn.preprocessing import StandardScaler\n",
    "from sklearn.feature_selection import SelectKBest, f_regression\n",
    "from sklearn.feature_selection import VarianceThreshold\n",
    "from sklearn.feature_selection import SelectKBest, f_classif\n",
    "from sklearn.base import clone\n",
    "\n",
    "#tensors\n",
    "import tensorflow as tf\n",
    "from tensorflow import keras\n",
    "\n",
    "#visualizations\n",
    "import matplotlib.pyplot as plt\n",
    "import seaborn as sns\n",
    "\n",
    "#statistics\n",
    "from scipy.stats import zscore\n",
    "import statsmodels.api as sm\n",
    "\n",
    "#other\n",
    "from copy import deepcopy\n",
    "\n",
    "# shap\n",
    "import shap"
   ]
  },
  {
   "cell_type": "code",
   "execution_count": null,
   "id": "50410eff",
   "metadata": {
    "execution": {
     "iopub.execute_input": "2023-07-31T12:26:00.672651Z",
     "iopub.status.busy": "2023-07-31T12:26:00.672244Z",
     "iopub.status.idle": "2023-07-31T12:26:00.774585Z",
     "shell.execute_reply": "2023-07-31T12:26:00.773543Z",
     "shell.execute_reply.started": "2023-07-31T12:26:00.672619Z"
    },
    "papermill": {
     "duration": null,
     "end_time": null,
     "exception": null,
     "start_time": null,
     "status": "pending"
    },
    "tags": []
   },
   "outputs": [],
   "source": [
    "# Read the CSV files into pandas dfs\n",
    "sentiment_data = pd.read_csv('/kaggle/input/df-sentiment-features-final/df_sentiment_features_final.csv')\n",
    "emotion_data = pd.read_csv('/kaggle/input/df-emotion-features-final/df_emotions_features_final.csv')"
   ]
  },
  {
   "cell_type": "code",
   "execution_count": null,
   "id": "40561883",
   "metadata": {
    "execution": {
     "iopub.execute_input": "2023-07-31T12:26:02.623547Z",
     "iopub.status.busy": "2023-07-31T12:26:02.622779Z",
     "iopub.status.idle": "2023-07-31T12:26:02.628897Z",
     "shell.execute_reply": "2023-07-31T12:26:02.627888Z",
     "shell.execute_reply.started": "2023-07-31T12:26:02.623498Z"
    },
    "papermill": {
     "duration": null,
     "end_time": null,
     "exception": null,
     "start_time": null,
     "status": "pending"
    },
    "tags": []
   },
   "outputs": [],
   "source": [
    "# Print the column names of sentiment_data\n",
    "print(sentiment_data.columns)"
   ]
  },
  {
   "cell_type": "markdown",
   "id": "cd920366",
   "metadata": {
    "papermill": {
     "duration": null,
     "end_time": null,
     "exception": null,
     "start_time": null,
     "status": "pending"
    },
    "tags": []
   },
   "source": [
    "### 4a. Data Standardization"
   ]
  },
  {
   "cell_type": "code",
   "execution_count": null,
   "id": "10d0b025",
   "metadata": {
    "execution": {
     "iopub.execute_input": "2023-07-31T12:26:05.433815Z",
     "iopub.status.busy": "2023-07-31T12:26:05.433452Z",
     "iopub.status.idle": "2023-07-31T12:26:05.466644Z",
     "shell.execute_reply": "2023-07-31T12:26:05.465711Z",
     "shell.execute_reply.started": "2023-07-31T12:26:05.433787Z"
    },
    "papermill": {
     "duration": null,
     "end_time": null,
     "exception": null,
     "start_time": null,
     "status": "pending"
    },
    "tags": []
   },
   "outputs": [],
   "source": [
    "# Specify the columns to be standardized\n",
    "columns_to_standardize = ['LexDens', 'TTR', 'CTTR', 'GTTR', 'MTLD', 'VerbVar', 'NounVar',\n",
    "       'AdjVar', 'AdvVar', 'non_standard', 'profanity_words',\n",
    "       'Articles', 'Prepositions', 'Conjunctions', 'Pronouns',\n",
    "       'Auxiliary Verbs', 'Modal Verbs', 'Determiners', 'Number of Phrases',\n",
    "       'NP Ratio', 'AdvP Ratio', 'AdjP Ratio', 'PrpP Ratio', 'VP Ratio',\n",
    "       'Complex Nominals', 'Subordinate Clauses', 'Relative Clauses',\n",
    "       'Number of Characters', 'Number of Words', 'Tree Depth', 'paren_count',\n",
    "       'nsubj', 'dobj', 'amod', 'Contrast Markers', 'Emphatic Markers',\n",
    "       'Concessive Markers', 'Summary Markers', 'Negative Affixes',\n",
    "       'Present Verbs', 'Past Verbs', 'Future Verbs', 'Infinitive Verbs',\n",
    "       'has_passive_voice', 'negative_polarity', 'positive_polarity',\n",
    "       'avg_synsets', 'mean_concreteness', 'Named Entity Count']\n",
    "\n",
    "\n",
    "# Initialize the scaler\n",
    "scaler = StandardScaler()\n",
    "\n",
    "# Standardize the columns in sentiment_data and emotion_data\n",
    "sentiment_data[columns_to_standardize] = scaler.fit_transform(sentiment_data[columns_to_standardize])\n",
    "emotion_data[columns_to_standardize] = scaler.transform(emotion_data[columns_to_standardize])"
   ]
  },
  {
   "cell_type": "markdown",
   "id": "6e257b81",
   "metadata": {
    "papermill": {
     "duration": null,
     "end_time": null,
     "exception": null,
     "start_time": null,
     "status": "pending"
    },
    "tags": []
   },
   "source": [
    "### 4b. Removing Outliers"
   ]
  },
  {
   "cell_type": "code",
   "execution_count": null,
   "id": "d4ac15f7",
   "metadata": {
    "execution": {
     "iopub.execute_input": "2023-07-31T12:26:08.118761Z",
     "iopub.status.busy": "2023-07-31T12:26:08.118350Z",
     "iopub.status.idle": "2023-07-31T12:26:08.133476Z",
     "shell.execute_reply": "2023-07-31T12:26:08.132259Z",
     "shell.execute_reply.started": "2023-07-31T12:26:08.118728Z"
    },
    "papermill": {
     "duration": null,
     "end_time": null,
     "exception": null,
     "start_time": null,
     "status": "pending"
    },
    "tags": []
   },
   "outputs": [],
   "source": [
    "# Remove outliers from sentiment_data using z-score method\n",
    "z_scores_sent = np.abs(zscore(sentiment_data[columns_to_standardize]))\n",
    "outlier_threshold = 3  # set the standard outlier_threshold\n",
    "outlier_mask_sent = (z_scores_sent > outlier_threshold).any(axis=1) # identify rows with at least one z-score greater than the specified outlier_threshold\n",
    "sentiment_data_no_outliers = sentiment_data[~outlier_mask_sent] #filter out the rows that are not outliers based on the calculated mask"
   ]
  },
  {
   "cell_type": "code",
   "execution_count": null,
   "id": "ecb4d887",
   "metadata": {
    "execution": {
     "iopub.execute_input": "2023-07-31T12:26:09.944594Z",
     "iopub.status.busy": "2023-07-31T12:26:09.944212Z",
     "iopub.status.idle": "2023-07-31T12:26:09.958503Z",
     "shell.execute_reply": "2023-07-31T12:26:09.957446Z",
     "shell.execute_reply.started": "2023-07-31T12:26:09.944563Z"
    },
    "papermill": {
     "duration": null,
     "end_time": null,
     "exception": null,
     "start_time": null,
     "status": "pending"
    },
    "tags": []
   },
   "outputs": [],
   "source": [
    "# Remove outliers from emotion_data using z-score method\n",
    "z_scores_em = np.abs(zscore(emotion_data[columns_to_standardize]))\n",
    "outlier_mask_em = (z_scores_em > outlier_threshold).any(axis=1)  # identify rows with at least one z-score greater than the specified outlier_threshold\n",
    "emotion_data_no_outliers = emotion_data[~outlier_mask_em]  #filter out the rows that are not outliers based on the calculated mask"
   ]
  },
  {
   "cell_type": "markdown",
   "id": "44ea9b9c",
   "metadata": {
    "papermill": {
     "duration": null,
     "end_time": null,
     "exception": null,
     "start_time": null,
     "status": "pending"
    },
    "tags": []
   },
   "source": [
    "### 4c. Drop Missing Values"
   ]
  },
  {
   "cell_type": "code",
   "execution_count": null,
   "id": "1d53167a",
   "metadata": {
    "execution": {
     "iopub.execute_input": "2023-07-31T12:26:12.243288Z",
     "iopub.status.busy": "2023-07-31T12:26:12.242827Z",
     "iopub.status.idle": "2023-07-31T12:26:12.257223Z",
     "shell.execute_reply": "2023-07-31T12:26:12.256241Z",
     "shell.execute_reply.started": "2023-07-31T12:26:12.243254Z"
    },
    "papermill": {
     "duration": null,
     "end_time": null,
     "exception": null,
     "start_time": null,
     "status": "pending"
    },
    "tags": []
   },
   "outputs": [],
   "source": [
    "# Drop NA values\n",
    "data = sentiment_data_no_outliers .dropna()\n",
    "data_em = emotion_data.dropna()"
   ]
  },
  {
   "cell_type": "code",
   "execution_count": null,
   "id": "b007109e",
   "metadata": {
    "execution": {
     "iopub.execute_input": "2023-07-31T12:26:14.061999Z",
     "iopub.status.busy": "2023-07-31T12:26:14.061562Z",
     "iopub.status.idle": "2023-07-31T12:26:14.076803Z",
     "shell.execute_reply": "2023-07-31T12:26:14.075687Z",
     "shell.execute_reply.started": "2023-07-31T12:26:14.061960Z"
    },
    "papermill": {
     "duration": null,
     "end_time": null,
     "exception": null,
     "start_time": null,
     "status": "pending"
    },
    "tags": []
   },
   "outputs": [],
   "source": [
    "# Inspect label distribution for data_sentiment\n",
    "label_distribution_data = data['Misprediction'].value_counts()\n",
    "print(label_distribution_data)"
   ]
  },
  {
   "cell_type": "code",
   "execution_count": null,
   "id": "ea30c070",
   "metadata": {
    "execution": {
     "iopub.execute_input": "2023-07-31T12:26:15.870840Z",
     "iopub.status.busy": "2023-07-31T12:26:15.870490Z",
     "iopub.status.idle": "2023-07-31T12:26:15.877898Z",
     "shell.execute_reply": "2023-07-31T12:26:15.876485Z",
     "shell.execute_reply.started": "2023-07-31T12:26:15.870812Z"
    },
    "papermill": {
     "duration": null,
     "end_time": null,
     "exception": null,
     "start_time": null,
     "status": "pending"
    },
    "tags": []
   },
   "outputs": [],
   "source": [
    "# Inspect label distribution for data_em\n",
    "label_distribution_data_em = data_em['Misprediction'].value_counts()\n",
    "print(label_distribution_data_em)"
   ]
  },
  {
   "cell_type": "markdown",
   "id": "1a597eb3",
   "metadata": {
    "papermill": {
     "duration": null,
     "end_time": null,
     "exception": null,
     "start_time": null,
     "status": "pending"
    },
    "tags": []
   },
   "source": [
    "# PART 5: \n",
    "## TEXT CLASSIFICATION\n",
    "### 5.1a Logistic Regression & Random Forest (Sentiment Analysis)"
   ]
  },
  {
   "cell_type": "code",
   "execution_count": null,
   "id": "dba7667f",
   "metadata": {
    "execution": {
     "iopub.execute_input": "2023-07-31T12:26:20.710125Z",
     "iopub.status.busy": "2023-07-31T12:26:20.709721Z",
     "iopub.status.idle": "2023-07-31T12:26:24.983683Z",
     "shell.execute_reply": "2023-07-31T12:26:24.982442Z",
     "shell.execute_reply.started": "2023-07-31T12:26:20.710093Z"
    },
    "papermill": {
     "duration": null,
     "end_time": null,
     "exception": null,
     "start_time": null,
     "status": "pending"
    },
    "tags": []
   },
   "outputs": [],
   "source": [
    "# Split the data into features (X) and target (y)\n",
    "X_all = data[['LexDens', 'TTR', 'CTTR', 'GTTR', 'MTLD', 'VerbVar', 'NounVar',\n",
    "       'AdjVar', 'AdvVar', 'non_standard', 'profanity_words',\n",
    "       'Articles', 'Prepositions', 'Conjunctions', 'Pronouns',\n",
    "       'Auxiliary Verbs', 'Modal Verbs', 'Determiners', 'Number of Phrases',\n",
    "       'NP Ratio', 'AdvP Ratio', 'AdjP Ratio', 'PrpP Ratio', 'VP Ratio',\n",
    "       'Complex Nominals', 'Subordinate Clauses', 'Relative Clauses',\n",
    "       'Number of Characters', 'Number of Words', 'Tree Depth', 'paren_count',\n",
    "       'nsubj', 'dobj', 'amod', 'Contrast Markers', 'Emphatic Markers',\n",
    "       'Concessive Markers', 'Summary Markers', 'Negative Affixes',\n",
    "       'Present Verbs', 'Past Verbs', 'Future Verbs', 'Infinitive Verbs',\n",
    "       'has_passive_voice', 'negative_polarity', 'positive_polarity',\n",
    "        'avg_synsets', 'mean_concreteness', 'Named Entity Count']]\n",
    "y_all = data['Misprediction']\n",
    "\n",
    "# Split the data into training and testing sets\n",
    "X_all_train, X_all_test, y_all_train, y_all_test = train_test_split(X_all, y_all, test_size=0.2, random_state=42)\n",
    "\n",
    "# Initialize Classifiers\n",
    "model_complex_log = LogisticRegression(max_iter=10000) # Create a logistic regression classifier\n",
    "model_complex_rf = RandomForestClassifier() # Create a Random Forest classifier\n",
    "\n",
    "# Fit the models to the training data\n",
    "model_complex_log.fit(X_all_train, y_all_train) # Logistic regression\n",
    "model_complex_rf.fit(X_all_train, y_all_train) # Random Forest\n",
    "\n",
    "# Set up k-fold cross-validation for logistic regression\n",
    "k = 10  # Number of folds\n",
    "scoring = {'accuracy': make_scorer(accuracy_score), 'f1': make_scorer(f1_score),\n",
    "           'precision': make_scorer(precision_score), 'recall': make_scorer(recall_score)}\n",
    "cv_results_log = cross_validate(model_complex_log, X_all_train, y_all_train, cv=k, scoring=scoring)\n",
    "\n",
    "# Set up k-fold cross-validation for random forest\n",
    "cv_results_rf = cross_validate(model_complex_rf, X_all_train, y_all_train, cv=k, scoring=scoring)\n",
    "\n",
    "# Extract the accuracy, F1, precision, and recall scores from the cross-validation results for logistic regression\n",
    "cv_accuracy_scores_log = cv_results_log['test_accuracy']\n",
    "cv_f1_scores_log = cv_results_log['test_f1']\n",
    "cv_precision_scores_log = cv_results_log['test_precision']\n",
    "cv_recall_scores_log = cv_results_log['test_recall']\n",
    "\n",
    "# Extract the accuracy, F1, precision, and recall scores from the cross-validation results for random forest\n",
    "cv_accuracy_scores_rf = cv_results_rf['test_accuracy']\n",
    "cv_f1_scores_rf = cv_results_rf['test_f1']\n",
    "cv_precision_scores_rf = cv_results_rf['test_precision']\n",
    "cv_recall_scores_rf = cv_results_rf['test_recall']\n",
    "\n",
    "# Create a DataFrame to store the results\n",
    "baseline_results_df = pd.DataFrame({\n",
    "    'Classifier': ['Logistic Regression', 'Random Forest'],\n",
    "    'Accuracy': [np.mean(cv_accuracy_scores_log), np.mean(cv_accuracy_scores_rf)],\n",
    "    'F1 Score': [np.mean(cv_f1_scores_log), np.mean(cv_f1_scores_rf)],\n",
    "    'Precision': [np.mean(cv_precision_scores_log), np.mean(cv_precision_scores_rf)],\n",
    "    'Recall': [np.mean(cv_recall_scores_log), np.mean(cv_recall_scores_rf)]\n",
    "})\n",
    "\n",
    "baseline_results_df"
   ]
  },
  {
   "cell_type": "markdown",
   "id": "c2043aff",
   "metadata": {
    "papermill": {
     "duration": null,
     "end_time": null,
     "exception": null,
     "start_time": null,
     "status": "pending"
    },
    "tags": []
   },
   "source": [
    "### 5.1b Logistic Regression & Random Forest (Emotion Analysis)"
   ]
  },
  {
   "cell_type": "code",
   "execution_count": null,
   "id": "30c548ae",
   "metadata": {
    "execution": {
     "iopub.execute_input": "2023-07-31T12:26:29.128049Z",
     "iopub.status.busy": "2023-07-31T12:26:29.127605Z",
     "iopub.status.idle": "2023-07-31T12:26:34.993501Z",
     "shell.execute_reply": "2023-07-31T12:26:34.992297Z",
     "shell.execute_reply.started": "2023-07-31T12:26:29.128011Z"
    },
    "papermill": {
     "duration": null,
     "end_time": null,
     "exception": null,
     "start_time": null,
     "status": "pending"
    },
    "tags": []
   },
   "outputs": [],
   "source": [
    "# Split the data into features (X) and target (y)\n",
    "X_all_em = data_em[['LexDens', 'TTR', 'CTTR', 'GTTR', 'MTLD', 'VerbVar', 'NounVar',\n",
    "       'AdjVar', 'AdvVar', 'non_standard', 'profanity_words',\n",
    "       'Articles', 'Prepositions', 'Conjunctions', 'Pronouns',\n",
    "       'Auxiliary Verbs', 'Modal Verbs', 'Determiners', 'Number of Phrases',\n",
    "       'NP Ratio', 'AdvP Ratio', 'AdjP Ratio', 'PrpP Ratio', 'VP Ratio',\n",
    "       'Complex Nominals', 'Subordinate Clauses', 'Relative Clauses',\n",
    "       'Number of Characters', 'Number of Words', 'Tree Depth', 'paren_count',\n",
    "        'Contrast Markers', 'Emphatic Markers', 'nsubj', 'dobj', 'amod',\n",
    "       'Concessive Markers', 'Summary Markers', 'Negative Affixes',\n",
    "       'Present Verbs', 'Past Verbs', 'Future Verbs', 'Infinitive Verbs',\n",
    "       'has_passive_voice', 'negative_polarity', 'positive_polarity',\n",
    "       'avg_synsets', 'mean_concreteness', 'Named Entity Count']]\n",
    "y_all_em = data_em['Misprediction']\n",
    "\n",
    "# Split the data into training and testing sets\n",
    "X_all_train_em, X_all_test_em, y_all_train_em, y_all_test_em = train_test_split(X_all_em, y_all_em, test_size=0.2, random_state=42)\n",
    "\n",
    "# Initialize Classifiers\n",
    "model_complex_log_em = LogisticRegression(max_iter=10000) # Create a logistic regression classifier\n",
    "model_complex_rf_em = RandomForestClassifier() # Create a Random Forest classifier\n",
    "\n",
    "# Fit the models to the training data\n",
    "model_complex_log_em.fit(X_all_train_em, y_all_train_em) # Logistic regression\n",
    "model_complex_rf_em.fit(X_all_train_em, y_all_train_em) # Random Forest\n",
    "\n",
    "# Set up k-fold cross-validation for logistic regression\n",
    "k = 10  # Number of folds\n",
    "scoring = {'accuracy': make_scorer(accuracy_score), 'f1': make_scorer(f1_score),\n",
    "           'precision': make_scorer(precision_score), 'recall': make_scorer(recall_score)}\n",
    "cv_results_log_em = cross_validate(model_complex_log_em, X_all_train_em, y_all_train_em, cv=k, scoring=scoring)\n",
    "\n",
    "# Set up k-fold cross-validation for random forest\n",
    "cv_results_rf_em = cross_validate(model_complex_rf_em, X_all_train_em, y_all_train_em, cv=k, scoring=scoring)\n",
    "\n",
    "# Extract evaluation metrics for Logistic Regression\n",
    "cv_accuracy_scores_log_em = cv_results_log_em['test_accuracy']\n",
    "cv_f1_scores_log_em = cv_results_log_em['test_f1']\n",
    "cv_precision_scores_log_em = cv_results_log_em['test_precision']\n",
    "cv_recall_scores_log_em = cv_results_log_em['test_recall']\n",
    "\n",
    "# Extract evaluation metrics for Random Forest\n",
    "cv_accuracy_scores_rf_em = cv_results_rf_em['test_accuracy']\n",
    "cv_f1_scores_rf_em = cv_results_rf_em['test_f1']\n",
    "cv_precision_scores_rf_em = cv_results_rf_em['test_precision']\n",
    "cv_recall_scores_rf_em = cv_results_rf_em['test_recall']\n",
    "\n",
    "# Store the results in a new dataframe\n",
    "baseline_results_df_em = pd.DataFrame({\n",
    "    'Classifier': ['Logistic Regression', 'Random Forest'],\n",
    "    'Accuracy': [np.mean(cv_accuracy_scores_log_em), np.mean(cv_accuracy_scores_rf_em)],\n",
    "    'F1 Score': [np.mean(cv_f1_scores_log_em), np.mean(cv_f1_scores_rf_em)],\n",
    "    'Precision': [np.mean(cv_precision_scores_log_em), np.mean(cv_precision_scores_rf_em)],\n",
    "    'Recall': [np.mean(cv_recall_scores_log_em), np.mean(cv_recall_scores_rf_em)]\n",
    "})\n",
    "\n",
    "baseline_results_df_em"
   ]
  },
  {
   "cell_type": "markdown",
   "id": "9fc7e2a6",
   "metadata": {
    "papermill": {
     "duration": null,
     "end_time": null,
     "exception": null,
     "start_time": null,
     "status": "pending"
    },
    "tags": []
   },
   "source": [
    "### 5.2a MLP Neural Network (Sentiment Analysis)"
   ]
  },
  {
   "cell_type": "code",
   "execution_count": null,
   "id": "f99ff531",
   "metadata": {
    "execution": {
     "iopub.execute_input": "2023-07-31T12:26:37.535973Z",
     "iopub.status.busy": "2023-07-31T12:26:37.535272Z",
     "iopub.status.idle": "2023-07-31T12:26:46.312120Z",
     "shell.execute_reply": "2023-07-31T12:26:46.311190Z",
     "shell.execute_reply.started": "2023-07-31T12:26:37.535937Z"
    },
    "papermill": {
     "duration": null,
     "end_time": null,
     "exception": null,
     "start_time": null,
     "status": "pending"
    },
    "tags": []
   },
   "outputs": [],
   "source": [
    "# Define the neural network architecture\n",
    "model_complex = keras.Sequential([\n",
    "    keras.layers.Dense(256, activation='relu', input_shape=(len(X_all.columns),)),\n",
    "    keras.layers.Dense(128, activation='relu'),\n",
    "    keras.layers.Dense(2, activation='softmax')\n",
    "])\n",
    "\n",
    "# Compile the model\n",
    "model_complex.compile(optimizer='adam', loss='sparse_categorical_crossentropy', metrics=['accuracy'])\n",
    "\n",
    "# Train the model with early stopping\n",
    "early_stopping = tf.keras.callbacks.EarlyStopping(monitor='val_loss', patience=3, restore_best_weights=True)\n",
    "model_complex.fit(X_all_train, y_all_train, epochs=20, batch_size=32, validation_split=0.2, callbacks=[early_stopping])\n",
    "\n",
    "# Evaluate the model on the test set\n",
    "test_loss, test_accuracy = model_complex.evaluate(X_all_test, y_all_test)\n",
    "print(f'Test Loss: {test_loss}, Test Accuracy: {test_accuracy}')"
   ]
  },
  {
   "cell_type": "code",
   "execution_count": null,
   "id": "7e274d07",
   "metadata": {
    "execution": {
     "iopub.execute_input": "2023-07-31T12:26:49.215284Z",
     "iopub.status.busy": "2023-07-31T12:26:49.214935Z",
     "iopub.status.idle": "2023-07-31T12:26:49.393465Z",
     "shell.execute_reply": "2023-07-31T12:26:49.392427Z",
     "shell.execute_reply.started": "2023-07-31T12:26:49.215255Z"
    },
    "papermill": {
     "duration": null,
     "end_time": null,
     "exception": null,
     "start_time": null,
     "status": "pending"
    },
    "tags": []
   },
   "outputs": [],
   "source": [
    "# Calculate the evaluation metrics for the neural network - sentiment analysis\n",
    "y_pred_nn_prob = model_complex.predict(X_all_test)\n",
    "y_pred_nn = np.argmax(y_pred_nn_prob, axis=1)\n",
    "f1_score_nn = f1_score(y_all_test, y_pred_nn)\n",
    "precision_nn = precision_score(y_all_test, y_pred_nn)\n",
    "recall_nn = recall_score(y_all_test, y_pred_nn)"
   ]
  },
  {
   "cell_type": "markdown",
   "id": "6f15702c",
   "metadata": {
    "papermill": {
     "duration": null,
     "end_time": null,
     "exception": null,
     "start_time": null,
     "status": "pending"
    },
    "tags": []
   },
   "source": [
    "### 5.2b MLP Neural Network (Emotion Analysis)"
   ]
  },
  {
   "cell_type": "code",
   "execution_count": null,
   "id": "2f6d360c",
   "metadata": {
    "execution": {
     "iopub.execute_input": "2023-07-31T12:26:52.588851Z",
     "iopub.status.busy": "2023-07-31T12:26:52.588494Z",
     "iopub.status.idle": "2023-07-31T12:26:54.688739Z",
     "shell.execute_reply": "2023-07-31T12:26:54.687315Z",
     "shell.execute_reply.started": "2023-07-31T12:26:52.588821Z"
    },
    "papermill": {
     "duration": null,
     "end_time": null,
     "exception": null,
     "start_time": null,
     "status": "pending"
    },
    "tags": []
   },
   "outputs": [],
   "source": [
    "# Define the neural network architecture\n",
    "model_complex_em = keras.Sequential([\n",
    "    keras.layers.Dense(256, activation='relu', input_shape=(len(X_all_em.columns),)),\n",
    "    keras.layers.Dense(128, activation='relu'),\n",
    "    keras.layers.Dense(2, activation='softmax')\n",
    "])\n",
    "\n",
    "# Compile the model\n",
    "model_complex_em.compile(optimizer='adam', loss='sparse_categorical_crossentropy', metrics=['accuracy'])\n",
    "\n",
    "# Train the model with early stopping\n",
    "early_stopping = tf.keras.callbacks.EarlyStopping(monitor='val_loss', patience=3, restore_best_weights=True)\n",
    "model_complex_em.fit(X_all_train_em, y_all_train_em, epochs=20, batch_size=32, validation_split=0.2, callbacks=[early_stopping])\n",
    "\n",
    "# Evaluate the model on the test set\n",
    "test_loss, test_accuracy = model_complex_em.evaluate(X_all_test_em, y_all_test_em)\n",
    "print(f'Test Loss: {test_loss}, Test Accuracy: {test_accuracy}')"
   ]
  },
  {
   "cell_type": "code",
   "execution_count": null,
   "id": "d7d4035a",
   "metadata": {
    "execution": {
     "iopub.execute_input": "2023-07-31T12:26:57.302695Z",
     "iopub.status.busy": "2023-07-31T12:26:57.302299Z",
     "iopub.status.idle": "2023-07-31T12:26:57.473067Z",
     "shell.execute_reply": "2023-07-31T12:26:57.472180Z",
     "shell.execute_reply.started": "2023-07-31T12:26:57.302662Z"
    },
    "papermill": {
     "duration": null,
     "end_time": null,
     "exception": null,
     "start_time": null,
     "status": "pending"
    },
    "tags": []
   },
   "outputs": [],
   "source": [
    "# Calculate the evaluation metrics for the neural network - emotion analysis\n",
    "y_pred_nn_prob_em = model_complex_em.predict(X_all_test_em)\n",
    "y_pred_nn_em = np.argmax(y_pred_nn_prob_em, axis=1)\n",
    "f1_score_nn_em = f1_score(y_all_test_em, y_pred_nn_em)\n",
    "precision_nn_em = precision_score(y_all_test_em, y_pred_nn_em)\n",
    "recall_nn_em = recall_score(y_all_test_em, y_pred_nn_em)"
   ]
  },
  {
   "cell_type": "markdown",
   "id": "944a6dd0",
   "metadata": {
    "papermill": {
     "duration": null,
     "end_time": null,
     "exception": null,
     "start_time": null,
     "status": "pending"
    },
    "tags": []
   },
   "source": [
    "### 5.3 Visualization of Evaluation Metrics"
   ]
  },
  {
   "cell_type": "code",
   "execution_count": null,
   "id": "520443a3",
   "metadata": {
    "execution": {
     "iopub.execute_input": "2023-07-31T12:26:59.845881Z",
     "iopub.status.busy": "2023-07-31T12:26:59.845521Z",
     "iopub.status.idle": "2023-07-31T12:27:00.429386Z",
     "shell.execute_reply": "2023-07-31T12:27:00.428517Z",
     "shell.execute_reply.started": "2023-07-31T12:26:59.845850Z"
    },
    "papermill": {
     "duration": null,
     "end_time": null,
     "exception": null,
     "start_time": null,
     "status": "pending"
    },
    "tags": []
   },
   "outputs": [],
   "source": [
    "# Create function to visualize the evaluation metrics in a bar plot\n",
    "def plot_classification_results(quantities, model_scores, model_names, title):\n",
    "    # Set the width of the bars\n",
    "    bar_width = 0.25-*//\n",
    "    # Set the positions of the bars on the x-axis\n",
    "    index = np.arange(len(quantities))\n",
    "\n",
    "    # Create the bar plot\n",
    "    for i, scores in enumerate(model_scores):\n",
    "        plt.bar(index + i * bar_width, scores, bar_width, label=model_names[i], linewidth=0.20)\n",
    "\n",
    "    # Add labels and title\n",
    "    plt.xlabel('Evaluation Parameters')\n",
    "    plt.ylabel('Score')\n",
    "    plt.title(title)\n",
    "    plt.xticks(index + bar_width * (len(model_scores) - 1) / 2, quantities)\n",
    "    plt.legend()\n",
    "\n",
    "    # Show the plot\n",
    "    plt.show()\n",
    "\n",
    "# Sentiment Analysis Results\n",
    "quantities_sentiment = ['F1 Score', 'Precision', 'Recall']\n",
    "logistic_regression_scores_sentiment = [np.mean(cv_f1_scores_log), np.mean(cv_precision_scores_log), np.mean(cv_recall_scores_log)]\n",
    "random_forest_scores_sentiment = [np.mean(cv_f1_scores_rf), np.mean(cv_precision_scores_rf), np.mean(cv_recall_scores_rf)]\n",
    "neural_network_scores_sentiment = [f1_score_nn, precision_nn, recall_nn]\n",
    "\n",
    "model_scores_sentiment = [logistic_regression_scores_sentiment, random_forest_scores_sentiment, neural_network_scores_sentiment]\n",
    "model_names_sentiment = ['Logistic Regression', 'Random Forest', 'Neural Network']\n",
    "\n",
    "# Emotion Analysis Results\n",
    "quantities_emotion = ['F1 Score', 'Precision', 'Recall']\n",
    "logistic_regression_scores_emotion = [np.mean(cv_f1_scores_log_em), np.mean(cv_precision_scores_log_em), np.mean(cv_recall_scores_log_em)]\n",
    "random_forest_scores_emotion = [np.mean(cv_f1_scores_rf_em), np.mean(cv_precision_scores_rf_em), np.mean(cv_recall_scores_rf_em)]\n",
    "neural_network_scores_emotion = [f1_score_nn_em, precision_nn_em, recall_nn_em]\n",
    "\n",
    "model_scores_emotion = [logistic_regression_scores_emotion, random_forest_scores_emotion, neural_network_scores_emotion]\n",
    "model_names_emotion = ['Logistic Regression', 'Random Forest', 'Neural Network']\n",
    "\n",
    "# Create the bar plot for Sentiment Analysis Results\n",
    "plot_classification_results(quantities_sentiment, model_scores_sentiment, model_names_sentiment, 'Classification Results for Model with all Features (Sentiment Analysis)')\n",
    "\n",
    "# Create the bar plot for Emotion Analysis Results\n",
    "plot_classification_results(quantities_emotion, model_scores_emotion, model_names_emotion, 'Classification Results for Model with all Features (Emotion Analysis)')"
   ]
  },
  {
   "cell_type": "markdown",
   "id": "1ebb62f5",
   "metadata": {
    "papermill": {
     "duration": null,
     "end_time": null,
     "exception": null,
     "start_time": null,
     "status": "pending"
    },
    "tags": []
   },
   "source": [
    "# PART 6: \n",
    "## FEATURE SELECTION TECHNIQUES\n",
    "###  A. Variance Threshold\n",
    "#### A1.1) Logistic Regression and Random Forest (Sentiment Analysis)"
   ]
  },
  {
   "cell_type": "code",
   "execution_count": null,
   "id": "fa752fdf",
   "metadata": {
    "execution": {
     "iopub.execute_input": "2023-07-31T12:27:04.667827Z",
     "iopub.status.busy": "2023-07-31T12:27:04.666856Z",
     "iopub.status.idle": "2023-07-31T12:27:08.946506Z",
     "shell.execute_reply": "2023-07-31T12:27:08.945484Z",
     "shell.execute_reply.started": "2023-07-31T12:27:04.667785Z"
    },
    "papermill": {
     "duration": null,
     "end_time": null,
     "exception": null,
     "start_time": null,
     "status": "pending"
    },
    "tags": []
   },
   "outputs": [],
   "source": [
    "# Apply variance threshold to select features\n",
    "var_threshold = VarianceThreshold(threshold=0.2)\n",
    "X_all_selected = var_threshold.fit_transform(X_all)\n",
    "\n",
    "# Get the selected features\n",
    "selected_features = np.array(X_all.columns)[var_threshold.get_support()]\n",
    "\n",
    "# Split the data into training and testing sets\n",
    "X_all_train, X_all_test, y_all_train, y_all_test = train_test_split(X_all_selected, y_all, test_size=0.2, random_state=42)\n",
    "\n",
    "# Rest of the code remains unchanged\n",
    "\n",
    "# Initialize Classifiers\n",
    "model_var_log = LogisticRegression(max_iter=10000)\n",
    "model_var_rf = RandomForestClassifier()\n",
    "\n",
    "# Fit the models to the training data\n",
    "model_var_log.fit(X_all_train, y_all_train)\n",
    "model_var_rf.fit(X_all_train, y_all_train)\n",
    "\n",
    "# Set up k-fold cross-validation for logistic regression\n",
    "k = 10  # Number of folds\n",
    "scoring = {'accuracy': make_scorer(accuracy_score), 'f1': make_scorer(f1_score),\n",
    "           'precision': make_scorer(precision_score), 'recall': make_scorer(recall_score)}\n",
    "cv_results_var = cross_validate(model_var_log, X_all_train, y_all_train, cv=k, scoring=scoring)\n",
    "\n",
    "# Set up k-fold cross-validation for random forest\n",
    "cv_results_rf_var = cross_validate(model_var_rf, X_all_train, y_all_train, cv=k, scoring=scoring)\n",
    "\n",
    "# Extract the evaluation metrics for logistic regression\n",
    "cv_accuracy_scores_log_var = cv_results_var['test_accuracy']\n",
    "cv_f1_scores_log_var = cv_results_var['test_f1']\n",
    "cv_precision_scores_log_var = cv_results_var['test_precision']\n",
    "cv_recall_scores_log_var = cv_results_var['test_recall']\n",
    "\n",
    "# Extract the evaluation metrics for random forest\n",
    "cv_accuracy_scores_rf_var = cv_results_rf_var['test_accuracy']\n",
    "cv_f1_scores_rf_var = cv_results_rf_var['test_f1']\n",
    "cv_precision_scores_rf_var = cv_results_rf_var['test_precision']\n",
    "cv_recall_scores_rf_var = cv_results_rf_var['test_recall']\n",
    "\n",
    "# Store the results in a new dataset\n",
    "var_results_df = pd.DataFrame({\n",
    "    'Classifier': ['Logistic Regression', 'Random Forest'],\n",
    "    'Accuracy': [np.mean(cv_accuracy_scores_log_var), np.mean(cv_accuracy_scores_rf_var)],\n",
    "    'F1 Score': [np.mean(cv_f1_scores_log_var), np.mean(cv_f1_scores_rf_var)],\n",
    "    'Precision': [np.mean(cv_precision_scores_log_var), np.mean(cv_precision_scores_rf_var)],\n",
    "    'Recall': [np.mean(cv_recall_scores_log_var), np.mean(cv_recall_scores_rf_var)]\n",
    "})\n",
    "\n",
    "# Print the selected features\n",
    "print(\"Selected Features:\")\n",
    "print(selected_features)\n",
    "\n",
    "# Display the results \n",
    "var_results_df"
   ]
  },
  {
   "cell_type": "markdown",
   "id": "cb538519",
   "metadata": {
    "papermill": {
     "duration": null,
     "end_time": null,
     "exception": null,
     "start_time": null,
     "status": "pending"
    },
    "tags": []
   },
   "source": [
    "#### A1.2) Logistic Regression and Random Forest (Emotion Analysis)"
   ]
  },
  {
   "cell_type": "code",
   "execution_count": null,
   "id": "82e0b408",
   "metadata": {
    "execution": {
     "iopub.execute_input": "2023-07-31T12:27:11.537249Z",
     "iopub.status.busy": "2023-07-31T12:27:11.536895Z",
     "iopub.status.idle": "2023-07-31T12:27:15.918539Z",
     "shell.execute_reply": "2023-07-31T12:27:15.916360Z",
     "shell.execute_reply.started": "2023-07-31T12:27:11.537219Z"
    },
    "papermill": {
     "duration": null,
     "end_time": null,
     "exception": null,
     "start_time": null,
     "status": "pending"
    },
    "tags": []
   },
   "outputs": [],
   "source": [
    "# Apply variance threshold to select features\n",
    "var_threshold_em = VarianceThreshold(threshold=0.01)\n",
    "X_all_selected_em = var_threshold_em.fit_transform(X_all_em)\n",
    "\n",
    "# Get the selected features\n",
    "selected_features_em = np.array(X_all_em.columns)[var_threshold_em.get_support()]\n",
    "\n",
    "# Split the data into training and testing sets\n",
    "X_all_train_em, X_all_test_em, y_all_train_em, y_all_test_em = train_test_split(X_all_selected_em, y_all_em, test_size=0.2, random_state=42)\n",
    "\n",
    "# Rest of the code remains unchanged\n",
    "\n",
    "# Initialize Classifiers\n",
    "model_var_log_em = LogisticRegression(max_iter=10000)\n",
    "model_var_rf_em = RandomForestClassifier()\n",
    "\n",
    "# Fit the models to the training data\n",
    "model_var_log_em.fit(X_all_train_em, y_all_train_em)\n",
    "model_var_rf_em.fit(X_all_train_em, y_all_train_em)\n",
    "\n",
    "# Set up k-fold cross-validation for logistic regression\n",
    "k_em = 10  # Number of folds\n",
    "scoring_em = {'accuracy': make_scorer(accuracy_score), 'f1': make_scorer(f1_score),\n",
    "           'precision': make_scorer(precision_score), 'recall': make_scorer(recall_score)}\n",
    "cv_results_var_em = cross_validate(model_var_log_em, X_all_train_em, y_all_train_em, cv=k_em, scoring=scoring_em)\n",
    "\n",
    "# Set up k-fold cross-validation for random forest\n",
    "cv_results_rf_var_em = cross_validate(model_var_rf_em, X_all_train_em, y_all_train_em, cv=k_em, scoring=scoring_em)\n",
    "\n",
    "# Extract the evaluation metrics for logistic regression\n",
    "cv_accuracy_scores_log_var_em = cv_results_var_em['test_accuracy']\n",
    "cv_f1_scores_log_var_em = cv_results_var_em['test_f1']\n",
    "cv_precision_scores_log_var_em = cv_results_var_em['test_precision']\n",
    "cv_recall_scores_log_var_em = cv_results_var_em['test_recall']\n",
    "\n",
    "# Extract the evaluation metrics for random forest\n",
    "cv_accuracy_scores_rf_var_em = cv_results_rf_var_em['test_accuracy']\n",
    "cv_f1_scores_rf_var_em = cv_results_rf_var_em['test_f1']\n",
    "cv_precision_scores_rf_var_em = cv_results_rf_var_em['test_precision']\n",
    "cv_recall_scores_rf_var_em = cv_results_rf_var_em['test_recall']\n",
    "\n",
    "# Store the results in a new dataset\n",
    "var_results_df_em = pd.DataFrame({\n",
    "    'Classifier': ['Logistic Regression', 'Random Forest'],\n",
    "    'Accuracy': [np.mean(cv_accuracy_scores_log_var_em), np.mean(cv_accuracy_scores_rf_var_em)],\n",
    "    'F1 Score': [np.mean(cv_f1_scores_log_var_em), np.mean(cv_f1_scores_rf_var_em)],\n",
    "    'Precision': [np.mean(cv_precision_scores_log_var_em), np.mean(cv_precision_scores_rf_var_em)],\n",
    "    'Recall': [np.mean(cv_recall_scores_log_var_em), np.mean(cv_recall_scores_rf_var_em)]\n",
    "})\n",
    "\n",
    "# Print the selected features\n",
    "print(\"Selected Features:\")\n",
    "print(selected_features_em)\n",
    "\n",
    "# Display the results \n",
    "var_results_df_em"
   ]
  },
  {
   "cell_type": "markdown",
   "id": "677966a2",
   "metadata": {
    "papermill": {
     "duration": null,
     "end_time": null,
     "exception": null,
     "start_time": null,
     "status": "pending"
    },
    "tags": []
   },
   "source": [
    "#### A2.1) MLP Neural Network (Sentiment Analysis)"
   ]
  },
  {
   "cell_type": "code",
   "execution_count": null,
   "id": "152d3294",
   "metadata": {
    "execution": {
     "iopub.execute_input": "2023-07-31T12:27:19.457159Z",
     "iopub.status.busy": "2023-07-31T12:27:19.456790Z",
     "iopub.status.idle": "2023-07-31T12:27:22.677075Z",
     "shell.execute_reply": "2023-07-31T12:27:22.676099Z",
     "shell.execute_reply.started": "2023-07-31T12:27:19.457128Z"
    },
    "papermill": {
     "duration": null,
     "end_time": null,
     "exception": null,
     "start_time": null,
     "status": "pending"
    },
    "tags": []
   },
   "outputs": [],
   "source": [
    "# Define the neural network architecture\n",
    "model_var = keras.Sequential([\n",
    "    keras.layers.Dense(256, activation='relu', input_shape=(X_all_selected.shape[1],)),\n",
    "    keras.layers.Dense(128, activation='relu'),\n",
    "    keras.layers.Dense(2, activation='softmax')\n",
    "])\n",
    "\n",
    "# Compile the model\n",
    "model_var.compile(optimizer='adam', loss='sparse_categorical_crossentropy', metrics=['accuracy'])\n",
    "\n",
    "# Train the model with early stopping\n",
    "early_stopping = tf.keras.callbacks.EarlyStopping(monitor='val_loss', patience=3, restore_best_weights=True)\n",
    "model_var.fit(X_all_train, y_all_train, epochs=20, batch_size=32, validation_split=0.2, callbacks=[early_stopping])\n",
    "\n",
    "# Evaluate the model on the test set\n",
    "test_loss, test_accuracy = model_var.evaluate(X_all_test, y_all_test)\n",
    "print(f'Test Loss: {test_loss}, Test Accuracy: {test_accuracy}')"
   ]
  },
  {
   "cell_type": "markdown",
   "id": "9514ebac",
   "metadata": {
    "papermill": {
     "duration": null,
     "end_time": null,
     "exception": null,
     "start_time": null,
     "status": "pending"
    },
    "tags": []
   },
   "source": [
    "#### A2.2) MLP Neural Network (Emotion Analysis)"
   ]
  },
  {
   "cell_type": "code",
   "execution_count": null,
   "id": "ba0a251d",
   "metadata": {
    "execution": {
     "iopub.execute_input": "2023-07-31T12:27:25.154296Z",
     "iopub.status.busy": "2023-07-31T12:27:25.153615Z",
     "iopub.status.idle": "2023-07-31T12:27:28.636252Z",
     "shell.execute_reply": "2023-07-31T12:27:28.635193Z",
     "shell.execute_reply.started": "2023-07-31T12:27:25.154248Z"
    },
    "papermill": {
     "duration": null,
     "end_time": null,
     "exception": null,
     "start_time": null,
     "status": "pending"
    },
    "tags": []
   },
   "outputs": [],
   "source": [
    "# Define the neural network architecture\n",
    "model_var_em = keras.Sequential([\n",
    "    keras.layers.Dense(256, activation='relu', input_shape=(X_all_selected_em.shape[1],)),\n",
    "    keras.layers.Dense(128, activation='relu'),\n",
    "    keras.layers.Dense(2, activation='softmax')\n",
    "])\n",
    "\n",
    "# Compile the model\n",
    "model_var_em.compile(optimizer='adam', loss='sparse_categorical_crossentropy', metrics=['accuracy'])\n",
    "\n",
    "# Train the model with early stopping\n",
    "early_stopping_em = tf.keras.callbacks.EarlyStopping(monitor='val_loss', patience=3, restore_best_weights=True)\n",
    "model_var_em.fit(X_all_train_em, y_all_train_em, epochs=20, batch_size=32, validation_split=0.2, callbacks=[early_stopping_em])\n",
    "\n",
    "# Evaluate the model on the test set\n",
    "test_loss_em, test_accuracy_em = model_var_em.evaluate(X_all_test_em, y_all_test_em)\n",
    "print(f'Test Loss: {test_loss_em}, Test Accuracy: {test_accuracy_em}')"
   ]
  },
  {
   "cell_type": "markdown",
   "id": "3e940e13",
   "metadata": {
    "papermill": {
     "duration": null,
     "end_time": null,
     "exception": null,
     "start_time": null,
     "status": "pending"
    },
    "tags": []
   },
   "source": [
    "###  B. Correlation\n",
    "#### B1.1) Logistic Regression and Random Forest (Sentiment Analysis)"
   ]
  },
  {
   "cell_type": "code",
   "execution_count": null,
   "id": "112804e7",
   "metadata": {
    "execution": {
     "iopub.execute_input": "2023-07-31T12:27:33.586981Z",
     "iopub.status.busy": "2023-07-31T12:27:33.586613Z",
     "iopub.status.idle": "2023-07-31T12:27:33.603169Z",
     "shell.execute_reply": "2023-07-31T12:27:33.602188Z",
     "shell.execute_reply.started": "2023-07-31T12:27:33.586951Z"
    },
    "papermill": {
     "duration": null,
     "end_time": null,
     "exception": null,
     "start_time": null,
     "status": "pending"
    },
    "tags": []
   },
   "outputs": [],
   "source": [
    "# Select specific columns from the 'data' df\n",
    "X = data[['LexDens', 'TTR', 'CTTR', 'GTTR', 'MTLD', 'VerbVar', 'NounVar',\n",
    "       'AdjVar', 'AdvVar', 'non_standard', 'profanity_words',\n",
    "       'Articles', 'Prepositions', 'Conjunctions', 'Pronouns',\n",
    "       'Auxiliary Verbs', 'Modal Verbs', 'Determiners', 'Number of Phrases',\n",
    "       'NP Ratio', 'AdvP Ratio', 'AdjP Ratio', 'PrpP Ratio', 'VP Ratio',\n",
    "       'Complex Nominals', 'Subordinate Clauses', 'Relative Clauses',\n",
    "       'Number of Characters', 'Number of Words', 'Tree Depth', 'paren_count',\n",
    "       'nsubj', 'dobj', 'amod', 'Contrast Markers', 'Emphatic Markers',\n",
    "       'Concessive Markers', 'Summary Markers', 'Negative Affixes',\n",
    "       'Present Verbs', 'Past Verbs', 'Future Verbs', 'Infinitive Verbs',\n",
    "       'has_passive_voice', 'negative_polarity', 'positive_polarity',\n",
    "       'avg_synsets', 'mean_concreteness', 'Named Entity Count']]\n",
    "\n",
    "# Calculate the correlation matrix for the selected columns\n",
    "correlations = X.corr()"
   ]
  },
  {
   "cell_type": "code",
   "execution_count": null,
   "id": "5060781f",
   "metadata": {
    "execution": {
     "iopub.execute_input": "2023-07-31T12:27:36.197901Z",
     "iopub.status.busy": "2023-07-31T12:27:36.197401Z",
     "iopub.status.idle": "2023-07-31T12:27:36.285863Z",
     "shell.execute_reply": "2023-07-31T12:27:36.284395Z",
     "shell.execute_reply.started": "2023-07-31T12:27:36.197862Z"
    },
    "papermill": {
     "duration": null,
     "end_time": null,
     "exception": null,
     "start_time": null,
     "status": "pending"
    },
    "tags": []
   },
   "outputs": [],
   "source": [
    "# Get correlations of each feature in the dataset\n",
    "correlations = X.corr()\n",
    "\n",
    "# Set the standard threshold for correlation\n",
    "threshold = 0.6\n",
    "\n",
    "# Create a set to store the correlated feature pairs\n",
    "correlated_pairs = set()\n",
    "\n",
    "# Iterate over the correlation matrix and find the correlated pairs\n",
    "for i in range(len(correlations.columns)):\n",
    "    for j in range(i+1, len(correlations.columns)):\n",
    "        if abs(correlations.iloc[i, j]) > threshold:\n",
    "            correlated_pairs.add((correlations.columns[i], correlations.columns[j]))\n",
    "\n",
    "# Print the correlated feature pairs\n",
    "for pair in correlated_pairs:\n",
    "    print(f\"{pair[0]} and {pair[1]} are correlated.\")"
   ]
  },
  {
   "cell_type": "code",
   "execution_count": null,
   "id": "c7e296dd",
   "metadata": {
    "execution": {
     "iopub.execute_input": "2023-07-31T12:27:38.734856Z",
     "iopub.status.busy": "2023-07-31T12:27:38.734494Z",
     "iopub.status.idle": "2023-07-31T12:27:38.742837Z",
     "shell.execute_reply": "2023-07-31T12:27:38.741660Z",
     "shell.execute_reply.started": "2023-07-31T12:27:38.734829Z"
    },
    "papermill": {
     "duration": null,
     "end_time": null,
     "exception": null,
     "start_time": null,
     "status": "pending"
    },
    "tags": []
   },
   "outputs": [],
   "source": [
    "# Create a list to store the non-correlated feature names\n",
    "non_correlated_features = list(X.columns)\n",
    "\n",
    "# Iterate over the correlated feature pairs\n",
    "for feature_1, feature_2 in correlated_pairs:\n",
    "    # Check if the features are still in the non-correlated features list\n",
    "    if feature_1 in non_correlated_features and feature_2 in non_correlated_features:\n",
    "        # Remove one of the correlated features from the list\n",
    "        non_correlated_features.remove(feature_2)\n",
    "\n",
    "# Create a new dataset with non-correlated features\n",
    "new_data = X[non_correlated_features]"
   ]
  },
  {
   "cell_type": "code",
   "execution_count": null,
   "id": "500face4",
   "metadata": {
    "execution": {
     "iopub.execute_input": "2023-07-31T12:27:41.791879Z",
     "iopub.status.busy": "2023-07-31T12:27:41.791532Z",
     "iopub.status.idle": "2023-07-31T12:27:45.602713Z",
     "shell.execute_reply": "2023-07-31T12:27:45.601565Z",
     "shell.execute_reply.started": "2023-07-31T12:27:41.791852Z"
    },
    "papermill": {
     "duration": null,
     "end_time": null,
     "exception": null,
     "start_time": null,
     "status": "pending"
    },
    "tags": []
   },
   "outputs": [],
   "source": [
    "# Split the data into features (X) and target (y)\n",
    "X_cor = data[['LexDens', 'TTR', 'CTTR', 'MTLD', 'VerbVar', 'NounVar', 'AdjVar', 'AdvVar',\n",
    "              'profanity_words', 'Conjunctions','Pronouns', 'Articles', 'Auxiliary Verbs', 'Modal Verbs', 'Number of Phrases',\n",
    "              'NP Ratio', 'AdjP Ratio', 'PrpP Ratio', 'VP Ratio', 'Subordinate Clauses', 'Complex Nominals',\n",
    "              'Relative Clauses', 'paren_count','nsubj', 'amod', 'Contrast Markers', 'Emphatic Markers',\n",
    "              'Concessive Markers', 'Summary Markers','Present Verbs','Past Verbs', 'Future Verbs', 'has_passive_voice',\n",
    "              'negative_polarity', 'positive_polarity', 'avg_synsets', 'mean_concreteness',\n",
    "              'Named Entity Count']]\n",
    "\n",
    "y_cor = data['Misprediction']\n",
    "\n",
    "# Split the data into training and testing sets\n",
    "X_cor_train, X_cor_test, y_cor_train, y_cor_test = train_test_split(X_cor, y_cor, test_size=0.2, random_state=42)\n",
    "\n",
    "# Initialize Classifiers\n",
    "model_cor_log = LogisticRegression(max_iter=10000) # Create a logistic regression classifier\n",
    "model_cor_rf = RandomForestClassifier() # Create a Random Forest classifier\n",
    "\n",
    "# Fit the models to the training data\n",
    "model_cor_log.fit(X_cor_train, y_cor_train) # Logistic regression\n",
    "model_cor_rf.fit(X_cor_train, y_cor_train) # Random Forest\n",
    "\n",
    "# Set up k-fold cross-validation for logistic regression\n",
    "k = 10  # Number of folds\n",
    "scoring = {'accuracy': make_scorer(accuracy_score), 'f1': make_scorer(f1_score)}\n",
    "cv_results_log_cor = cross_validate(model_cor_log, X_cor_train, y_cor_train, cv=k, scoring=scoring)\n",
    "\n",
    "# Set up k-fold cross-validation for random forest\n",
    "cv_results_rf_cor = cross_validate(model_cor_rf, X_cor_train, y_cor_train, cv=k, scoring=scoring)\n",
    "\n",
    "# Extract the evaluation metrics for logistic regression\n",
    "cv_accuracy_scores_log_cor = cv_results_log_cor['test_accuracy']\n",
    "cv_f1_scores_log_cor = cv_results_log_cor['test_f1']\n",
    "\n",
    "# Extract the evaluation metrics for random forest\n",
    "cv_accuracy_scores_rf_cor = cv_results_rf_cor['test_accuracy']\n",
    "cv_f1_scores_rf_cor = cv_results_rf_cor['test_f1']\n",
    "\n",
    "# Calculate evaluation metrics for logistic regression on the test set\n",
    "precision_log_cor = precision_score(y_cor_test, model_cor_log.predict(X_cor_test))\n",
    "recall_log_cor = recall_score(y_cor_test, model_cor_log.predict(X_cor_test))\n",
    "\n",
    "# Calculate evaluation metrics for random forest on the test set\n",
    "precision_rf_cor = precision_score(y_cor_test, model_cor_rf.predict(X_cor_test))\n",
    "recall_rf_cor = recall_score(y_cor_test, model_cor_rf.predict(X_cor_test))\n",
    "\n",
    "# Store the results in a new df\n",
    "results_cor = pd.DataFrame({\n",
    "    'Classifier': ['Logistic Regression', 'Random Forest'],\n",
    "    'Accuracy': [np.mean(cv_accuracy_scores_log_cor), np.mean(cv_accuracy_scores_rf_cor)],\n",
    "    'F1 Score': [np.mean(cv_f1_scores_log_cor), np.mean(cv_f1_scores_rf_cor)],\n",
    "    'Precision': [precision_log_cor, precision_rf_cor],\n",
    "    'Recall': [recall_log_cor, recall_rf_cor]\n",
    "})\n",
    "\n",
    "results_cor"
   ]
  },
  {
   "cell_type": "markdown",
   "id": "40ace30f",
   "metadata": {
    "papermill": {
     "duration": null,
     "end_time": null,
     "exception": null,
     "start_time": null,
     "status": "pending"
    },
    "tags": []
   },
   "source": [
    "#### B1.2) Logistic Regression and Random Forest (Emotion Analysis)"
   ]
  },
  {
   "cell_type": "code",
   "execution_count": null,
   "id": "7efeba3d",
   "metadata": {
    "execution": {
     "iopub.execute_input": "2023-07-31T13:21:47.164124Z",
     "iopub.status.busy": "2023-07-31T13:21:47.163733Z",
     "iopub.status.idle": "2023-07-31T13:21:47.182979Z",
     "shell.execute_reply": "2023-07-31T13:21:47.182016Z",
     "shell.execute_reply.started": "2023-07-31T13:21:47.164092Z"
    },
    "papermill": {
     "duration": null,
     "end_time": null,
     "exception": null,
     "start_time": null,
     "status": "pending"
    },
    "tags": []
   },
   "outputs": [],
   "source": [
    "# Select specific columns from the 'data_em' df\n",
    "X_em = data_em[['LexDens', 'TTR', 'CTTR', 'GTTR', 'MTLD', 'VerbVar', 'NounVar',\n",
    "       'AdjVar', 'AdvVar', 'non_standard', 'profanity_words',\n",
    "       'Articles', 'Prepositions', 'Conjunctions', 'Pronouns',\n",
    "       'Auxiliary Verbs', 'Modal Verbs', 'Determiners', 'Number of Phrases',\n",
    "       'NP Ratio', 'AdvP Ratio', 'AdjP Ratio', 'PrpP Ratio', 'VP Ratio',\n",
    "       'Complex Nominals', 'Subordinate Clauses', 'Relative Clauses',  'nsubj', 'dobj', 'amod',\n",
    "       'Number of Characters', 'Number of Words', 'Tree Depth', 'paren_count',\n",
    "        'Contrast Markers', 'Emphatic Markers', 'nsubj', 'dobj', 'amod',\n",
    "       'Concessive Markers', 'Summary Markers', 'Negative Affixes',\n",
    "       'Present Verbs', 'Past Verbs', 'Future Verbs', 'Infinitive Verbs',\n",
    "       'has_passive_voice', 'negative_polarity', 'positive_polarity',\n",
    "       'avg_synsets', 'mean_concreteness', 'Named Entity Count']]\n",
    "\n",
    "\n",
    "# Calculate the correlation matrix for the selected columns\n",
    "correlations_em = X_em.corr()"
   ]
  },
  {
   "cell_type": "code",
   "execution_count": null,
   "id": "72c4fe91",
   "metadata": {
    "execution": {
     "iopub.execute_input": "2023-07-31T13:21:50.132481Z",
     "iopub.status.busy": "2023-07-31T13:21:50.132091Z",
     "iopub.status.idle": "2023-07-31T13:21:50.190165Z",
     "shell.execute_reply": "2023-07-31T13:21:50.189109Z",
     "shell.execute_reply.started": "2023-07-31T13:21:50.132444Z"
    },
    "papermill": {
     "duration": null,
     "end_time": null,
     "exception": null,
     "start_time": null,
     "status": "pending"
    },
    "tags": []
   },
   "outputs": [],
   "source": [
    "# Get correlations of each feature in the dataset\n",
    "correlations_em = X_em.corr()\n",
    "\n",
    "# Set the standard threshold for correlation\n",
    "threshold = 0.6\n",
    "\n",
    "# Create a set to store the correlated feature pairs\n",
    "correlated_pairs_em = set()\n",
    "\n",
    "# Iterate over the correlation matrix and find the correlated pairs\n",
    "for i in range(len(correlations_em.columns)):\n",
    "    for j in range(i+1, len(correlations_em.columns)):\n",
    "        if abs(correlations_em.iloc[i, j]) > threshold:\n",
    "            correlated_pairs_em.add((correlations_em.columns[i], correlations_em.columns[j]))\n",
    "\n",
    "# Print the correlated feature pairs\n",
    "for pair in correlated_pairs_em:\n",
    "    print(f\"{pair[0]} and {pair[1]} are correlated.\")"
   ]
  },
  {
   "cell_type": "code",
   "execution_count": null,
   "id": "bd6ec2a8",
   "metadata": {
    "execution": {
     "iopub.execute_input": "2023-07-31T13:21:53.152998Z",
     "iopub.status.busy": "2023-07-31T13:21:53.152378Z",
     "iopub.status.idle": "2023-07-31T13:21:53.162240Z",
     "shell.execute_reply": "2023-07-31T13:21:53.160980Z",
     "shell.execute_reply.started": "2023-07-31T13:21:53.152964Z"
    },
    "papermill": {
     "duration": null,
     "end_time": null,
     "exception": null,
     "start_time": null,
     "status": "pending"
    },
    "tags": []
   },
   "outputs": [],
   "source": [
    "# Create a list to store the non-correlated feature names\n",
    "non_correlated_features_em = list(X_em.columns)\n",
    "\n",
    "# Iterate over the correlated feature pairs\n",
    "for feature_1, feature_2 in correlated_pairs_em:\n",
    "    # Check if the features are still in the non-correlated features list\n",
    "    if feature_1 in non_correlated_features_em and feature_2 in non_correlated_features_em:\n",
    "        # Remove one of the correlated features from the list\n",
    "        non_correlated_features_em.remove(feature_2)\n",
    "\n",
    "# Create a new dataset with non-correlated features\n",
    "new_data_em = X_em[non_correlated_features_em]"
   ]
  },
  {
   "cell_type": "code",
   "execution_count": null,
   "id": "1532ee6e",
   "metadata": {
    "execution": {
     "iopub.execute_input": "2023-07-31T13:21:56.299872Z",
     "iopub.status.busy": "2023-07-31T13:21:56.299505Z",
     "iopub.status.idle": "2023-07-31T13:21:56.305750Z",
     "shell.execute_reply": "2023-07-31T13:21:56.304497Z",
     "shell.execute_reply.started": "2023-07-31T13:21:56.299844Z"
    },
    "papermill": {
     "duration": null,
     "end_time": null,
     "exception": null,
     "start_time": null,
     "status": "pending"
    },
    "tags": []
   },
   "outputs": [],
   "source": [
    "# Print the non-correlated feature names\n",
    "print(\"Non-correlated features:\")\n",
    "for feature in non_correlated_features_em:\n",
    "    print(feature)"
   ]
  },
  {
   "cell_type": "code",
   "execution_count": null,
   "id": "61814ca7",
   "metadata": {
    "execution": {
     "iopub.execute_input": "2023-07-31T13:21:58.575351Z",
     "iopub.status.busy": "2023-07-31T13:21:58.574903Z",
     "iopub.status.idle": "2023-07-31T13:22:02.552085Z",
     "shell.execute_reply": "2023-07-31T13:22:02.551009Z",
     "shell.execute_reply.started": "2023-07-31T13:21:58.575313Z"
    },
    "papermill": {
     "duration": null,
     "end_time": null,
     "exception": null,
     "start_time": null,
     "status": "pending"
    },
    "tags": []
   },
   "outputs": [],
   "source": [
    "# Split the data into features (X) and target (y)\n",
    "X_cor_em = data_em[['LexDens', 'TTR', 'MTLD', 'VerbVar', 'NounVar', 'AdjVar', 'profanity_words', 'Number of Phrases', 'Auxiliary Verbs',\n",
    "              'NP Ratio', 'AdjP Ratio', 'AdvP Ratio', 'VP Ratio', 'Subordinate Clauses', 'Relative Clauses', 'Contrast Markers',\n",
    "              'Emphatic Markers', 'Concessive Markers','Summary Markers', 'positive_polarity', 'negative_polarity','has_passive_voice', 'avg_synsets', 'mean_concreteness']]\n",
    "y_cor_em = data_em['Misprediction']\n",
    "\n",
    "# Split the data into training and testing sets\n",
    "X_cor_train_em, X_cor_test_em, y_cor_train_em, y_cor_test_em = train_test_split(X_cor_em, y_cor_em, test_size=0.2, random_state=42)\n",
    "\n",
    "# Initialize Classifiers\n",
    "model_cor_log_em = LogisticRegression(max_iter=10000) # Create a logistic regression classifier\n",
    "model_cor_rf_em = RandomForestClassifier() # Create a Random Forest classifier\n",
    "\n",
    "# Fit the models to the training data\n",
    "model_cor_log_em.fit(X_cor_train_em, y_cor_train_em) # Logistic regression\n",
    "model_cor_rf_em.fit(X_cor_train_em, y_cor_train_em) # Random Forest\n",
    "\n",
    "# Set up k-fold cross-validation for logistic regression\n",
    "k_em = 10  # Number of folds\n",
    "scoring_em = {'accuracy': make_scorer(accuracy_score), 'f1': make_scorer(f1_score)}\n",
    "cv_results_log_cor_em = cross_validate(model_cor_log_em, X_cor_train_em, y_cor_train_em, cv=k_em, scoring=scoring_em)\n",
    "\n",
    "# Set up k-fold cross-validation for random forest\n",
    "cv_results_rf_cor_em = cross_validate(model_cor_rf_em, X_cor_train_em, y_cor_train_em, cv=k_em, scoring=scoring_em)\n",
    "\n",
    "# Extract the evaluation metrics for logistic regression\n",
    "cv_accuracy_scores_log_cor_em = cv_results_log_cor_em['test_accuracy']\n",
    "cv_f1_scores_log_cor_em = cv_results_log_cor_em['test_f1']\n",
    "\n",
    "# Extract the evaluation metrics for random forest\n",
    "cv_accuracy_scores_rf_cor_em = cv_results_rf_cor_em['test_accuracy']\n",
    "cv_f1_scores_rf_cor_em = cv_results_rf_cor_em['test_f1']\n",
    "\n",
    "# Calculate the evaluation metrics for logistic regression on the test set\n",
    "precision_log_cor_em = precision_score(y_cor_test_em, model_cor_log_em.predict(X_cor_test_em))\n",
    "recall_log_cor_em = recall_score(y_cor_test_em, model_cor_log_em.predict(X_cor_test_em))\n",
    "\n",
    "# Calculate the evaluation metrics for random forest on the test set\n",
    "precision_rf_cor_em = precision_score(y_cor_test_em, model_cor_rf_em.predict(X_cor_test_em))\n",
    "recall_rf_cor_em = recall_score(y_cor_test_em, model_cor_rf_em.predict(X_cor_test_em))\n",
    "\n",
    "# Store the results in a new dataset\n",
    "results_cor_em = pd.DataFrame({\n",
    "    'Classifier': ['Logistic Regression', 'Random Forest'],\n",
    "    'Accuracy': [np.mean(cv_accuracy_scores_log_cor_em), np.mean(cv_accuracy_scores_rf_cor_em)],\n",
    "    'F1 Score': [np.mean(cv_f1_scores_log_cor_em), np.mean(cv_f1_scores_rf_cor_em)],\n",
    "    'Precision': [precision_log_cor_em, precision_rf_cor_em],\n",
    "    'Recall': [recall_log_cor_em, recall_rf_cor_em]\n",
    "})\n",
    "\n",
    "results_cor_em"
   ]
  },
  {
   "cell_type": "markdown",
   "id": "66100d84",
   "metadata": {
    "papermill": {
     "duration": null,
     "end_time": null,
     "exception": null,
     "start_time": null,
     "status": "pending"
    },
    "tags": []
   },
   "source": [
    "#### B2.1) MLP Neural Network (Sentiment Analysis)"
   ]
  },
  {
   "cell_type": "code",
   "execution_count": null,
   "id": "a07208aa",
   "metadata": {
    "execution": {
     "iopub.execute_input": "2023-07-31T12:28:06.882060Z",
     "iopub.status.busy": "2023-07-31T12:28:06.881342Z",
     "iopub.status.idle": "2023-07-31T12:28:10.131175Z",
     "shell.execute_reply": "2023-07-31T12:28:10.130095Z",
     "shell.execute_reply.started": "2023-07-31T12:28:06.882025Z"
    },
    "papermill": {
     "duration": null,
     "end_time": null,
     "exception": null,
     "start_time": null,
     "status": "pending"
    },
    "tags": []
   },
   "outputs": [],
   "source": [
    "# Define the neural network architecture\n",
    "model_cor = keras.Sequential([\n",
    "    keras.layers.Dense(256, activation='relu', input_shape=(len(X_cor.columns),)),\n",
    "    keras.layers.Dense(128, activation='relu'),\n",
    "    keras.layers.Dense(2, activation='softmax')\n",
    "])\n",
    "\n",
    "# Compile the model\n",
    "model_cor.compile(optimizer='adam', loss='sparse_categorical_crossentropy', metrics=['accuracy'])\n",
    "\n",
    "# Train the model with early stopping\n",
    "early_stopping = tf.keras.callbacks.EarlyStopping(monitor='val_loss', patience=3, restore_best_weights=True)\n",
    "model_cor.fit(X_cor_train, y_cor_train, epochs=20, batch_size=32, validation_split=0.2, callbacks=[early_stopping])\n",
    "\n",
    "# Evaluate the model on the test set\n",
    "test_loss, test_accuracy = model_cor.evaluate(X_cor_test, y_cor_test)\n",
    "print(f'Test Loss: {test_loss}, Test Accuracy: {test_accuracy}')"
   ]
  },
  {
   "cell_type": "markdown",
   "id": "92af7604",
   "metadata": {
    "papermill": {
     "duration": null,
     "end_time": null,
     "exception": null,
     "start_time": null,
     "status": "pending"
    },
    "tags": []
   },
   "source": [
    "#### B2.2) MLP Neural Network (Emotion Analysis)"
   ]
  },
  {
   "cell_type": "code",
   "execution_count": null,
   "id": "90b5447d",
   "metadata": {
    "execution": {
     "iopub.execute_input": "2023-07-31T12:28:11.854735Z",
     "iopub.status.busy": "2023-07-31T12:28:11.854365Z",
     "iopub.status.idle": "2023-07-31T12:28:15.389834Z",
     "shell.execute_reply": "2023-07-31T12:28:15.388749Z",
     "shell.execute_reply.started": "2023-07-31T12:28:11.854705Z"
    },
    "papermill": {
     "duration": null,
     "end_time": null,
     "exception": null,
     "start_time": null,
     "status": "pending"
    },
    "tags": []
   },
   "outputs": [],
   "source": [
    "# Define the neural network architecture\n",
    "model_cor_em = keras.Sequential([\n",
    "    keras.layers.Dense(256, activation='relu', input_shape=(len(X_cor_em.columns),)),\n",
    "    keras.layers.Dense(128, activation='relu'),\n",
    "    keras.layers.Dense(2, activation='softmax')\n",
    "])\n",
    "\n",
    "# Compile the model\n",
    "model_cor_em.compile(optimizer='adam', loss='sparse_categorical_crossentropy', metrics=['accuracy'])\n",
    "\n",
    "# Train the model with early stopping\n",
    "early_stopping_em = tf.keras.callbacks.EarlyStopping(monitor='val_loss', patience=3, restore_best_weights=True)\n",
    "model_cor_em.fit(X_cor_train_em, y_cor_train_em, epochs=20, batch_size=32, validation_split=0.2, callbacks=[early_stopping_em])\n",
    "\n",
    "# Evaluate the model on the test set\n",
    "test_loss_em, test_accuracy_em = model_cor_em.evaluate(X_cor_test_em, y_cor_test_em)\n",
    "print(f'Test Loss: {test_loss_em}, Test Accuracy: {test_accuracy_em}')"
   ]
  },
  {
   "cell_type": "markdown",
   "id": "e15fb759",
   "metadata": {
    "papermill": {
     "duration": null,
     "end_time": null,
     "exception": null,
     "start_time": null,
     "status": "pending"
    },
    "tags": []
   },
   "source": [
    "###  C. Relief\n",
    "#### C1.1) Logistic Regression and Random Forest (Sentiment Analysis)"
   ]
  },
  {
   "cell_type": "code",
   "execution_count": null,
   "id": "5569cf7b",
   "metadata": {
    "execution": {
     "iopub.execute_input": "2023-07-31T12:28:18.320260Z",
     "iopub.status.busy": "2023-07-31T12:28:18.319259Z",
     "iopub.status.idle": "2023-07-31T12:28:18.537056Z",
     "shell.execute_reply": "2023-07-31T12:28:18.536054Z",
     "shell.execute_reply.started": "2023-07-31T12:28:18.320224Z"
    },
    "papermill": {
     "duration": null,
     "end_time": null,
     "exception": null,
     "start_time": null,
     "status": "pending"
    },
    "tags": []
   },
   "outputs": [],
   "source": [
    "# Perform feature selection using Relief\n",
    "selector = SelectKBest(score_func=f_regression, k=10)  # Adjust the k value as desired\n",
    "X_selected = selector.fit_transform(X_all, y_all)\n",
    "\n",
    "# Get the selected feature names\n",
    "selected_feature_names = X_all.columns[selector.get_support()]\n",
    "\n",
    "# Split the data into training and testing sets\n",
    "X_selected_train, X_selected_test, y_all_train, y_all_test = train_test_split(X_selected, y_all, test_size=0.2, random_state=42)\n",
    "\n",
    "# Initialize Classifier\n",
    "model_complex_log_relief = LogisticRegression(max_iter=10000)  # Create a logistic regression classifier\n",
    "\n",
    "# Fit the model to the training data with the selected features\n",
    "model_complex_log_relief.fit(X_selected_train, y_all_train)  # Logistic regression\n",
    "\n",
    "# Set up k-fold cross-validation for logistic regression with the selected features\n",
    "cv_results_log_relief = cross_validate(model_complex_log_relief, X_selected_train, y_all_train, cv=k, scoring=scoring)\n",
    "\n",
    "# Define the scoring metrics you want to evaluate\n",
    "scoring = {\n",
    "    'accuracy': make_scorer(accuracy_score),\n",
    "    'precision': make_scorer(precision_score),\n",
    "    'recall': make_scorer(recall_score),\n",
    "    'f1_score': make_scorer(f1_score)\n",
    "}\n",
    "\n",
    "# Set k value for k-fold cross-validation\n",
    "k = 5  # Adjust k as desired\n",
    "\n",
    "# Perform k-fold cross-validation for logistic regression with the selected features\n",
    "cv_results_log_relief = cross_validate(model_complex_log_relief, X_selected_train, y_all_train, cv=k, scoring=scoring)\n",
    "\n",
    "# Print the evaluation metrics\n",
    "print(\"Accuracy:\", np.mean(cv_results_log_relief['test_accuracy']))\n",
    "print(\"Precision:\", np.mean(cv_results_log_relief['test_precision']))\n",
    "print(\"Recall:\", np.mean(cv_results_log_relief['test_recall']))\n",
    "print(\"F1 Score:\", np.mean(cv_results_log_relief['test_f1_score']))"
   ]
  },
  {
   "cell_type": "markdown",
   "id": "661a628b",
   "metadata": {
    "papermill": {
     "duration": null,
     "end_time": null,
     "exception": null,
     "start_time": null,
     "status": "pending"
    },
    "tags": []
   },
   "source": [
    "# PART 7: \n",
    "## DIAGNOSTIC ASSESSMENT OF FEATURES\n",
    "### A. Regression Analysis \n",
    "#### 7A1. Sentiment Analysis Task"
   ]
  },
  {
   "cell_type": "code",
   "execution_count": null,
   "id": "d02288ca",
   "metadata": {
    "execution": {
     "iopub.execute_input": "2023-07-31T12:28:25.316696Z",
     "iopub.status.busy": "2023-07-31T12:28:25.316306Z",
     "iopub.status.idle": "2023-07-31T12:28:25.458470Z",
     "shell.execute_reply": "2023-07-31T12:28:25.457321Z",
     "shell.execute_reply.started": "2023-07-31T12:28:25.316666Z"
    },
    "papermill": {
     "duration": null,
     "end_time": null,
     "exception": null,
     "start_time": null,
     "status": "pending"
    },
    "tags": []
   },
   "outputs": [],
   "source": [
    "# Select features from X_cor dataset\n",
    "X_selected = data[['LexDens','TTR' , 'CTTR','MTLD' ,'VerbVar', 'NounVar' ,'AdjVar',\n",
    " 'AdvVar' ,'profanity_words' ,'Articles','Conjunctions', 'Pronouns', 'Auxiliary Verbs',\n",
    " 'Modal Verbs' ,'Determiners' ,'Number of Phrases' ,'NP Ratio' ,'AdvP Ratio',\n",
    " 'AdjP Ratio' ,'PrpP Ratio' ,'VP Ratio', 'Complex Nominals',\n",
    " 'Subordinate Clauses', 'Relative Clauses', 'nsubj',\n",
    " 'amod' ,'Contrast Markers' ,'Negative Affixes' ,'Past Verbs',\n",
    " 'Infinitive Verbs', 'has_passive_voice' ,'negative_polarity',\n",
    " 'positive_polarity', 'avg_synsets' ,'mean_concreteness',\n",
    " 'Named Entity Count']]\n",
    "\n",
    "\n",
    "# Add constant term to the feature matrix\n",
    "X_selected = sm.add_constant(X_selected)\n",
    "\n",
    "# Fit logistic regression model\n",
    "logit_model = sm.Logit(y_cor, X_selected)\n",
    "result = logit_model.fit()\n",
    "\n",
    "# Print the summary of the logistic regression model\n",
    "print(result.summary())"
   ]
  },
  {
   "cell_type": "code",
   "execution_count": null,
   "id": "cf4e0a97",
   "metadata": {
    "execution": {
     "iopub.execute_input": "2023-07-31T12:28:28.368800Z",
     "iopub.status.busy": "2023-07-31T12:28:28.368400Z",
     "iopub.status.idle": "2023-07-31T12:28:28.384409Z",
     "shell.execute_reply": "2023-07-31T12:28:28.383282Z",
     "shell.execute_reply.started": "2023-07-31T12:28:28.368769Z"
    },
    "papermill": {
     "duration": null,
     "end_time": null,
     "exception": null,
     "start_time": null,
     "status": "pending"
    },
    "tags": []
   },
   "outputs": [],
   "source": [
    "# Get the absolute values of the coefficients\n",
    "coefs_abs = np.abs(result.params)\n",
    "\n",
    "# Create a new df storing the coefficients and their absolute values\n",
    "coefs_df = pd.DataFrame({'Coefficient': result.params, 'Absolute Value': coefs_abs}, index=X_selected.columns)\n",
    "\n",
    "# Sort the df by the absolute values in descending order\n",
    "coefs_df_sorted = coefs_df.sort_values('Absolute Value', ascending=False)\n",
    "\n",
    "# Select the specific features\n",
    "selected_features = ['CTTR', 'Relative Clauses', 'Contrast Markers', 'AdvP Ratio','positive_polarity', 'nsubj', 'amod']\n",
    "\n",
    "# Filter the df to include only the selected features\n",
    "selected_coefs = coefs_df_sorted.loc[selected_features]\n",
    "\n",
    "selected_coefs"
   ]
  },
  {
   "cell_type": "code",
   "execution_count": null,
   "id": "e64787df",
   "metadata": {
    "execution": {
     "iopub.execute_input": "2023-07-31T12:28:30.666192Z",
     "iopub.status.busy": "2023-07-31T12:28:30.665350Z",
     "iopub.status.idle": "2023-07-31T12:28:30.991058Z",
     "shell.execute_reply": "2023-07-31T12:28:30.990096Z",
     "shell.execute_reply.started": "2023-07-31T12:28:30.666147Z"
    },
    "papermill": {
     "duration": null,
     "end_time": null,
     "exception": null,
     "start_time": null,
     "status": "pending"
    },
    "tags": []
   },
   "outputs": [],
   "source": [
    "# Filter the df to include only the selected features\n",
    "coefs_df_filtered = coefs_df_sorted.loc[selected_features]\n",
    "\n",
    "# Set the width of the bars\n",
    "bar_width = 0.5\n",
    "\n",
    "# Set the positions of the bars on the y-axis\n",
    "index = np.arange(len(coefs_df_filtered))\n",
    "\n",
    "# Create the bar plot\n",
    "plt.barh(index, coefs_df_filtered['Coefficient'], bar_width, color=['tab:red' if c < 0 else 'tab:cyan' for c in coefs_df_filtered['Coefficient']])\n",
    "\n",
    "# Add labels and title\n",
    "plt.xlabel('Coefficient')\n",
    "plt.ylabel('Feature')\n",
    "plt.title('Direction of Relationship between Coefficients and Misprediction')\n",
    "\n",
    "# Add y-axis labels\n",
    "plt.yticks(index, coefs_df_filtered.index)\n",
    "\n",
    "# Show the plot\n",
    "plt.show()"
   ]
  },
  {
   "cell_type": "markdown",
   "id": "88f474af",
   "metadata": {
    "papermill": {
     "duration": null,
     "end_time": null,
     "exception": null,
     "start_time": null,
     "status": "pending"
    },
    "tags": []
   },
   "source": [
    "#### 7A2. Emotion Analysis Task"
   ]
  },
  {
   "cell_type": "code",
   "execution_count": null,
   "id": "aa14d8a4",
   "metadata": {
    "execution": {
     "iopub.execute_input": "2023-07-31T12:30:08.687932Z",
     "iopub.status.busy": "2023-07-31T12:30:08.687567Z",
     "iopub.status.idle": "2023-07-31T12:30:08.855966Z",
     "shell.execute_reply": "2023-07-31T12:30:08.853701Z",
     "shell.execute_reply.started": "2023-07-31T12:30:08.687903Z"
    },
    "papermill": {
     "duration": null,
     "end_time": null,
     "exception": null,
     "start_time": null,
     "status": "pending"
    },
    "tags": []
   },
   "outputs": [],
   "source": [
    "# Select the desired features from X_cor\n",
    "X_selected_em = data_em[['LexDens', 'TTR', 'CTTR', 'VerbVar', 'NounVar', 'AdjVar', 'AdvVar', 'profanity_words', 'Conjunctions', 'Pronouns', 'Auxiliary Verbs', 'Modal Verbs', 'Determiners', 'Number of Phrases', 'NP Ratio', 'AdvP Ratio', 'AdjP Ratio', 'PrpP Ratio', 'VP Ratio', 'Complex Nominals', 'Subordinate Clauses', 'Relative Clauses', 'Contrast Markers', 'Emphatic Markers', 'nsubj', 'amod', 'Concessive Markers', 'Summary Markers', 'Negative Affixes', 'Present Verbs', 'Past Verbs', 'Future Verbs', 'Infinitive Verbs', 'has_passive_voice', 'negative_polarity', 'positive_polarity', 'avg_synsets', 'mean_concreteness', 'Named Entity Count']]\n",
    "\n",
    "\n",
    "# Add constant term to the feature matrix\n",
    "X_selected_em = sm.add_constant(X_selected_em)\n",
    "\n",
    "# Fit logistic regression model\n",
    "logit_model_em = sm.Logit(y_cor_em, X_selected_em)\n",
    "result_em = logit_model_em.fit()\n",
    "\n",
    "# Print the summary of the logistic regression model\n",
    "print(result_em.summary())"
   ]
  },
  {
   "cell_type": "code",
   "execution_count": null,
   "id": "969ce697",
   "metadata": {
    "execution": {
     "iopub.execute_input": "2023-07-31T12:30:19.694510Z",
     "iopub.status.busy": "2023-07-31T12:30:19.694129Z",
     "iopub.status.idle": "2023-07-31T12:30:19.709796Z",
     "shell.execute_reply": "2023-07-31T12:30:19.708660Z",
     "shell.execute_reply.started": "2023-07-31T12:30:19.694479Z"
    },
    "papermill": {
     "duration": null,
     "end_time": null,
     "exception": null,
     "start_time": null,
     "status": "pending"
    },
    "tags": []
   },
   "outputs": [],
   "source": [
    "# Get the absolute values of the coefficients\n",
    "coefs_abs_em = np.abs(result_em.params)\n",
    "\n",
    "# Create a df to store the coefficients and their absolute values\n",
    "coefs_df_em = pd.DataFrame({'Coefficient': result_em.params, 'Absolute Value': coefs_abs_em}, index=X_selected_em.columns)\n",
    "\n",
    "# Sort the df by the absolute values in descending order\n",
    "coefs_df_sorted_em = coefs_df_em.sort_values('Absolute Value', ascending=False)\n",
    "\n",
    "# Select the specific features\n",
    "selected_features_em = ['VerbVar', 'Number of Phrases', 'AdvP Ratio', 'nsubj', 'amod', 'avg_synsets']\n",
    "\n",
    "# Filter the DataFrame to include only the selected features\n",
    "selected_coefs_em = coefs_df_sorted_em.loc[selected_features_em]\n",
    "\n",
    "selected_coefs_em"
   ]
  },
  {
   "cell_type": "code",
   "execution_count": null,
   "id": "e69967b4",
   "metadata": {
    "execution": {
     "iopub.execute_input": "2023-07-31T12:30:32.066052Z",
     "iopub.status.busy": "2023-07-31T12:30:32.065372Z",
     "iopub.status.idle": "2023-07-31T12:30:32.381799Z",
     "shell.execute_reply": "2023-07-31T12:30:32.379641Z",
     "shell.execute_reply.started": "2023-07-31T12:30:32.066019Z"
    },
    "papermill": {
     "duration": null,
     "end_time": null,
     "exception": null,
     "start_time": null,
     "status": "pending"
    },
    "tags": []
   },
   "outputs": [],
   "source": [
    "# Filter the df to include only the selected features\n",
    "coefs_df_filtered_em = coefs_df_sorted_em.loc[selected_features_em]\n",
    "\n",
    "# Set the width of the bars\n",
    "bar_width = 0.5\n",
    "\n",
    "# Set the positions of the bars on the y-axis\n",
    "index = np.arange(len(coefs_df_filtered_em))\n",
    "\n",
    "# Create the bar plot\n",
    "plt.barh(index, coefs_df_filtered_em['Coefficient'], bar_width, color=['tab:red' if c < 0 else 'tab:cyan' for c in coefs_df_filtered_em['Coefficient']])\n",
    "\n",
    "# Add labels and title\n",
    "plt.xlabel('Coefficient')\n",
    "plt.ylabel('Feature')\n",
    "plt.title('Direction of Relationship between Coefficients and Misprediction (Emotion Analysis)')\n",
    "\n",
    "# Add y-axis labels\n",
    "plt.yticks(index, coefs_df_filtered_em.index)\n",
    "\n",
    "# Show the plot\n",
    "plt.show()"
   ]
  },
  {
   "cell_type": "markdown",
   "id": "8203f654",
   "metadata": {
    "papermill": {
     "duration": null,
     "end_time": null,
     "exception": null,
     "start_time": null,
     "status": "pending"
    },
    "tags": []
   },
   "source": [
    "### B. SHAP Values\n",
    "#### 7B1. Sentiment Analysis Task"
   ]
  },
  {
   "cell_type": "code",
   "execution_count": null,
   "id": "d06815f0",
   "metadata": {
    "execution": {
     "iopub.execute_input": "2023-07-31T12:32:22.588244Z",
     "iopub.status.busy": "2023-07-31T12:32:22.587775Z",
     "iopub.status.idle": "2023-07-31T12:32:27.559495Z",
     "shell.execute_reply": "2023-07-31T12:32:27.558378Z",
     "shell.execute_reply.started": "2023-07-31T12:32:22.588205Z"
    },
    "papermill": {
     "duration": null,
     "end_time": null,
     "exception": null,
     "start_time": null,
     "status": "pending"
    },
    "tags": []
   },
   "outputs": [],
   "source": [
    "# Split the data into features (X) and target (y)\n",
    "X_final = data[['LexDens','TTR' , 'CTTR','MTLD' ,'VerbVar', 'NounVar' ,'AdjVar',\n",
    " 'AdvVar' ,'profanity_words' ,'Articles','Conjunctions', 'Pronouns', 'Auxiliary Verbs',\n",
    " 'Modal Verbs' ,'Determiners' ,'Number of Phrases' ,'NP Ratio' ,'AdvP Ratio',\n",
    " 'AdjP Ratio' ,'PrpP Ratio' ,'VP Ratio', 'Complex Nominals',\n",
    " 'Subordinate Clauses', 'Relative Clauses', 'nsubj',\n",
    " 'amod' ,'Contrast Markers' ,'Negative Affixes' ,'Past Verbs',\n",
    " 'Infinitive Verbs', 'has_passive_voice' ,'negative_polarity',\n",
    " 'positive_polarity', 'avg_synsets' ,'mean_concreteness',\n",
    " 'Named Entity Count']]\n",
    "y_final = data['Misprediction']\n",
    "\n",
    "# Split the data into training and testing sets\n",
    "X_final_train, X_final_test, y_final_train, y_final_test = train_test_split(X_final, y_final, test_size=0.2, random_state=42)\n",
    "\n",
    "# Initialize Classifiers\n",
    "model_final_log = LogisticRegression(max_iter=10000) # Create a logistic regression classifier\n",
    "model_final_rf = RandomForestClassifier() # Create a Random Forest classifier\n",
    "\n",
    "# Fit the models to the training data\n",
    "model_final_log.fit(X_final_train, y_final_train) # Logistic regression\n",
    "model_final_rf.fit(X_final_train, y_final_train) # Random Forest\n",
    "\n",
    "# Set up k-fold cross-validation for logistic regression\n",
    "k = 10  # Number of folds\n",
    "scoring = {'accuracy': make_scorer(accuracy_score), 'f1': make_scorer(f1_score),\n",
    "           'precision': make_scorer(precision_score), 'recall': make_scorer(recall_score)}\n",
    "cv_results_log_final = cross_validate(model_final_log, X_final_train, y_final_train, cv=k, scoring=scoring)\n",
    "\n",
    "# Set up k-fold cross-validation for random forest\n",
    "cv_results_rf_final = cross_validate(model_final_rf, X_final_train, y_final_train, cv=k, scoring=scoring)\n",
    "\n",
    "# Extract the evaluation metrics from the cross-validation results for logistic regression\n",
    "cv_accuracy_scores_log_final = cv_results_log_final['test_accuracy']\n",
    "cv_f1_scores_log_final = cv_results_log_final['test_f1']\n",
    "cv_precision_scores_log_final = cv_results_log_final['test_precision']\n",
    "cv_recall_scores_log_final = cv_results_log_final['test_recall']\n",
    "\n",
    "# Extract the the evaluation metrics from the cross-validation results for random forest\n",
    "cv_accuracy_scores_rf_final = cv_results_rf_final['test_accuracy']\n",
    "cv_f1_scores_rf_final = cv_results_rf_final['test_f1']\n",
    "cv_precision_scores_rf_final = cv_results_rf_final['test_precision']\n",
    "cv_recall_scores_rf_final = cv_results_rf_final['test_recall']\n",
    "\n",
    "# Store the results in a new df\n",
    "final_results_df = pd.DataFrame({\n",
    "    'Classifier': ['Logistic Regression', 'Random Forest'],\n",
    "    'Accuracy': [np.mean(cv_accuracy_scores_log_final), np.mean(cv_accuracy_scores_rf_final)],\n",
    "    'F1 Score': [np.mean(cv_f1_scores_log_final), np.mean(cv_f1_scores_rf_final)],\n",
    "    'Precision': [np.mean(cv_precision_scores_log_final), np.mean(cv_precision_scores_rf_final)],\n",
    "    'Recall': [np.mean(cv_recall_scores_log_final), np.mean(cv_recall_scores_rf_final)]\n",
    "})\n",
    "\n",
    "final_results_df"
   ]
  },
  {
   "cell_type": "code",
   "execution_count": null,
   "id": "f6590113",
   "metadata": {
    "execution": {
     "iopub.execute_input": "2023-07-31T12:33:42.181032Z",
     "iopub.status.busy": "2023-07-31T12:33:42.178392Z",
     "iopub.status.idle": "2023-07-31T12:33:53.173590Z",
     "shell.execute_reply": "2023-07-31T12:33:53.172298Z",
     "shell.execute_reply.started": "2023-07-31T12:33:42.180982Z"
    },
    "papermill": {
     "duration": null,
     "end_time": null,
     "exception": null,
     "start_time": null,
     "status": "pending"
    },
    "tags": []
   },
   "outputs": [],
   "source": [
    "# Fit the explainer\n",
    "explainer = shap.Explainer(model_final_log.predict, X_final_test)\n",
    "\n",
    "# Calculate the SHAP values \n",
    "shap_values = explainer(X_final_test)"
   ]
  },
  {
   "cell_type": "code",
   "execution_count": null,
   "id": "a6d2d8f3",
   "metadata": {
    "execution": {
     "iopub.execute_input": "2023-07-31T12:34:08.975331Z",
     "iopub.status.busy": "2023-07-31T12:34:08.974971Z",
     "iopub.status.idle": "2023-07-31T12:34:11.002560Z",
     "shell.execute_reply": "2023-07-31T12:34:11.001488Z",
     "shell.execute_reply.started": "2023-07-31T12:34:08.975300Z"
    },
    "papermill": {
     "duration": null,
     "end_time": null,
     "exception": null,
     "start_time": null,
     "status": "pending"
    },
    "tags": []
   },
   "outputs": [],
   "source": [
    "# Create a violin plot summarizing the SHAP values\n",
    "shap.summary_plot(shap_values, plot_type='violin', max_display=10)"
   ]
  },
  {
   "cell_type": "markdown",
   "id": "44a600cd",
   "metadata": {
    "papermill": {
     "duration": null,
     "end_time": null,
     "exception": null,
     "start_time": null,
     "status": "pending"
    },
    "tags": []
   },
   "source": [
    "#### 7B2. Emotion Analysis Task"
   ]
  },
  {
   "cell_type": "code",
   "execution_count": null,
   "id": "f75a3966",
   "metadata": {
    "execution": {
     "iopub.execute_input": "2023-07-31T12:34:33.935646Z",
     "iopub.status.busy": "2023-07-31T12:34:33.935244Z",
     "iopub.status.idle": "2023-07-31T12:34:38.687481Z",
     "shell.execute_reply": "2023-07-31T12:34:38.686381Z",
     "shell.execute_reply.started": "2023-07-31T12:34:33.935615Z"
    },
    "papermill": {
     "duration": null,
     "end_time": null,
     "exception": null,
     "start_time": null,
     "status": "pending"
    },
    "tags": []
   },
   "outputs": [],
   "source": [
    "# Split the data into features (X) and target (y)\n",
    "X_final_em = data_em[['LexDens', 'TTR', 'CTTR', 'VerbVar', 'NounVar', 'AdjVar', 'AdvVar', 'profanity_words', 'Conjunctions', 'Pronouns', 'Auxiliary Verbs', 'Modal Verbs', 'Determiners', 'Number of Phrases', 'NP Ratio', 'AdvP Ratio', 'AdjP Ratio', 'PrpP Ratio', 'VP Ratio', 'Complex Nominals', 'Subordinate Clauses', 'Relative Clauses', 'Contrast Markers', 'Emphatic Markers', 'nsubj', 'amod', 'Concessive Markers', 'Summary Markers', 'Negative Affixes', 'Present Verbs', 'Past Verbs', 'Future Verbs', 'Infinitive Verbs', 'has_passive_voice', 'negative_polarity', 'positive_polarity', 'avg_synsets', 'mean_concreteness', 'Named Entity Count']]\n",
    "y_final_em = data_em['Misprediction']\n",
    "\n",
    "# Split the data into training and testing sets\n",
    "X_final_train_em, X_final_test_em, y_final_train_em, y_final_test_em = train_test_split(X_final_em, y_final_em, test_size=0.2, random_state=42)\n",
    "\n",
    "# Initialize Classifiers\n",
    "model_final_log_em = LogisticRegression(max_iter=10000) # Create a logistic regression classifier\n",
    "model_final_rf_em = RandomForestClassifier() # Create a Random Forest classifier\n",
    "\n",
    "# Fit the models to the training data\n",
    "model_final_log_em.fit(X_final_train_em, y_final_train_em) # Logistic regression\n",
    "model_final_rf_em.fit(X_final_train_em, y_final_train_em) # Random Forest\n",
    "\n",
    "# Set up k-fold cross-validation for logistic regression\n",
    "k = 10  # Number of folds\n",
    "scoring = {'accuracy': make_scorer(accuracy_score), 'f1': make_scorer(f1_score),\n",
    "           'precision': make_scorer(precision_score), 'recall': make_scorer(recall_score)}\n",
    "cv_results_log_final_em = cross_validate(model_final_log_em, X_final_train_em, y_final_train_em, cv=k, scoring=scoring)\n",
    "\n",
    "# Set up k-fold cross-validation for random forest\n",
    "cv_results_rf_final_em = cross_validate(model_final_rf_em, X_final_train_em, y_final_train_em, cv=k, scoring=scoring)\n",
    "\n",
    "# Extract the evaluation metrics results for logistic regression\n",
    "cv_accuracy_scores_log_final_em = cv_results_log_final_em['test_accuracy']\n",
    "cv_f1_scores_log_final_em = cv_results_log_final_em['test_f1']\n",
    "cv_precision_scores_log_final_em = cv_results_log_final_em['test_precision']\n",
    "cv_recall_scores_log_final_em = cv_results_log_final_em['test_recall']\n",
    "\n",
    "# Extract the evaluation metrics from the cross-validation results for random forest\n",
    "cv_accuracy_scores_rf_final_em = cv_results_rf_final_em['test_accuracy']\n",
    "cv_f1_scores_rf_final_em = cv_results_rf_final_em['test_f1']\n",
    "cv_precision_scores_rf_final_em = cv_results_rf_final_em['test_precision']\n",
    "cv_recall_scores_rf_final_em = cv_results_rf_final_em['test_recall']\n",
    "\n",
    "# Store the results in a new df\n",
    "final_results_df_em = pd.DataFrame({\n",
    "    'Classifier': ['Logistic Regression', 'Random Forest'],\n",
    "    'Accuracy': [np.mean(cv_accuracy_scores_log_final_em), np.mean(cv_accuracy_scores_rf_final_em)],\n",
    "    'F1 Score': [np.mean(cv_f1_scores_log_final_em), np.mean(cv_f1_scores_rf_final_em)],\n",
    "    'Precision': [np.mean(cv_precision_scores_log_final_em), np.mean(cv_precision_scores_rf_final_em)],\n",
    "    'Recall': [np.mean(cv_recall_scores_log_final_em), np.mean(cv_recall_scores_rf_final_em)]\n",
    "})\n",
    "\n",
    "final_results_df_em"
   ]
  },
  {
   "cell_type": "code",
   "execution_count": null,
   "id": "b112c41b",
   "metadata": {
    "execution": {
     "iopub.execute_input": "2023-07-31T12:35:01.460497Z",
     "iopub.status.busy": "2023-07-31T12:35:01.460120Z",
     "iopub.status.idle": "2023-07-31T12:35:13.496705Z",
     "shell.execute_reply": "2023-07-31T12:35:13.495256Z",
     "shell.execute_reply.started": "2023-07-31T12:35:01.460466Z"
    },
    "papermill": {
     "duration": null,
     "end_time": null,
     "exception": null,
     "start_time": null,
     "status": "pending"
    },
    "tags": []
   },
   "outputs": [],
   "source": [
    "# Fit the explainer\n",
    "explainer = shap.Explainer(model_final_log_em.predict, X_final_test_em)\n",
    "# Calculate the SHAP values \n",
    "shap_values = explainer(X_final_test_em)\n",
    "\n",
    "# Create a violin plot summarizing the SHAP values\n",
    "shap.summary_plot(shap_values, plot_type='violin', max_display=10)"
   ]
  },
  {
   "cell_type": "markdown",
   "id": "97396a70",
   "metadata": {
    "papermill": {
     "duration": null,
     "end_time": null,
     "exception": null,
     "start_time": null,
     "status": "pending"
    },
    "tags": []
   },
   "source": [
    "### C. Feature Ablation\n",
    "#### C1. Sentiment Analysis Task"
   ]
  },
  {
   "cell_type": "code",
   "execution_count": null,
   "id": "8b9bea8d",
   "metadata": {
    "execution": {
     "iopub.execute_input": "2023-07-31T12:37:17.884755Z",
     "iopub.status.busy": "2023-07-31T12:37:17.884338Z",
     "iopub.status.idle": "2023-07-31T12:37:39.720214Z",
     "shell.execute_reply": "2023-07-31T12:37:39.719235Z",
     "shell.execute_reply.started": "2023-07-31T12:37:17.884725Z"
    },
    "papermill": {
     "duration": null,
     "end_time": null,
     "exception": null,
     "start_time": null,
     "status": "pending"
    },
    "tags": []
   },
   "outputs": [],
   "source": [
    "# Split the data into features (X) and target (y)\n",
    "X_cor = data[['LexDens', 'TTR', 'CTTR', 'VerbVar', 'NounVar', 'AdjVar', 'AdvVar', 'profanity_words', 'Conjunctions', 'Pronouns', 'Auxiliary Verbs', 'Modal Verbs', 'Determiners', 'Number of Phrases', 'NP Ratio', 'AdvP Ratio', 'AdjP Ratio', 'PrpP Ratio', 'VP Ratio', 'Complex Nominals', 'Subordinate Clauses', 'Relative Clauses', 'Contrast Markers', 'Emphatic Markers', 'nsubj', 'amod', 'Concessive Markers', 'Summary Markers', 'Negative Affixes', 'Present Verbs', 'Past Verbs', 'Future Verbs', 'Infinitive Verbs', 'has_passive_voice', 'negative_polarity', 'positive_polarity', 'avg_synsets', 'mean_concreteness', 'Named Entity Count']]\n",
    "\n",
    "y_cor = data['Misprediction']\n",
    "\n",
    "# Split the data into training and testing sets\n",
    "X_cor_train, X_cor_test, y_cor_train, y_cor_test = train_test_split(X_cor, y_cor, test_size=0.2, random_state=42)\n",
    "\n",
    "# Initialize Classifiers\n",
    "model_cor_log = LogisticRegression(max_iter=10000) # Create a logistic regression classifier\n",
    "model_cor_rf = RandomForestClassifier() # Create a Random Forest classifier\n",
    "\n",
    "# Fit the models to the training data\n",
    "model_cor_log.fit(X_cor_train, y_cor_train) # Logistic regression\n",
    "model_cor_rf.fit(X_cor_train, y_cor_train) # Random Forest\n",
    "\n",
    "# Set up k-fold cross-validation for logistic regression\n",
    "k = 10  # Number of folds\n",
    "scoring = {'accuracy': make_scorer(accuracy_score), 'f1': make_scorer(f1_score)}\n",
    "cv_results_log_cor = cross_validate(model_cor_log, X_cor_train, y_cor_train, cv=k, scoring=scoring)\n",
    "\n",
    "# Set up k-fold cross-validation for random forest\n",
    "cv_results_rf_cor = cross_validate(model_cor_rf, X_cor_train, y_cor_train, cv=k, scoring=scoring)\n",
    "\n",
    "# Extract the evaluation metrics from the cross-validation results for logistic regression\n",
    "cv_accuracy_scores_log_cor = cv_results_log_cor['test_accuracy']\n",
    "cv_f1_scores_log_cor = cv_results_log_cor['test_f1']\n",
    "\n",
    "# Extract the evaluation metrics from the cross-validation results for random forest\n",
    "cv_accuracy_scores_rf_cor = cv_results_rf_cor['test_accuracy']\n",
    "cv_f1_scores_rf_cor = cv_results_rf_cor['test_f1']\n",
    "\n",
    "# Calculate evaluation metrics for logistic regression on the test set\n",
    "precision_log_cor = precision_score(y_cor_test, model_cor_log.predict(X_cor_test))\n",
    "recall_log_cor = recall_score(y_cor_test, model_cor_log.predict(X_cor_test))\n",
    "\n",
    "# Calculate evaluation metric scores for random forest on the test set\n",
    "precision_rf_cor = precision_score(y_cor_test, model_cor_rf.predict(X_cor_test))\n",
    "recall_rf_cor = recall_score(y_cor_test, model_cor_rf.predict(X_cor_test))\n",
    "\n",
    "# Store the results in a new df\n",
    "results_cor = pd.DataFrame({\n",
    "    'Classifier': ['Logistic Regression', 'Random Forest'],\n",
    "    'Accuracy': [np.mean(cv_accuracy_scores_log_cor), np.mean(cv_accuracy_scores_rf_cor)],\n",
    "    'F1 Score': [np.mean(cv_f1_scores_log_cor), np.mean(cv_f1_scores_rf_cor)],\n",
    "    'Precision': [precision_log_cor, precision_rf_cor],\n",
    "    'Recall': [recall_log_cor, recall_rf_cor]\n",
    "})\n",
    "\n",
    "# List of feature names\n",
    "feature_names = X_cor.columns.tolist()\n",
    "\n",
    "# Dictionary to store the results\n",
    "feature_results = {}\n",
    "\n",
    "# Iterate over each feature to ablate\n",
    "for feature in feature_names:\n",
    "    # Iterate over each classifier\n",
    "    for classifier, model in zip(['Logistic Regression', 'Random Forest'], [model_cor_log, model_cor_rf]):\n",
    "        # Create a new model for each ablated feature using clone()\n",
    "        model = clone(model)\n",
    "        \n",
    "        # Check if the feature exists in the input data\n",
    "        if feature not in X_cor_train.columns:\n",
    "            continue\n",
    "\n",
    "        # Remove the feature from the input data\n",
    "        X_train_ablated = X_cor_train.drop(feature, axis=1)\n",
    "        X_test_ablated = X_cor_test.drop(feature, axis=1)\n",
    "\n",
    "        # Train the model\n",
    "        model.fit(X_train_ablated, y_cor_train)\n",
    "\n",
    "        # Evaluate the model on the test set\n",
    "        y_pred = model.predict(X_test_ablated)\n",
    "        classification_rep = classification_report(y_cor_test, y_pred, output_dict=True)\n",
    "        f1_measure = classification_rep['weighted avg']['f1-score']\n",
    "        delta_value = f1_measure - results_cor.loc[results_cor['Classifier'] == classifier, 'F1 Score'].values[0]\n",
    "\n",
    "        # Store the results\n",
    "        if feature not in feature_results:\n",
    "            feature_results[feature] = {}\n",
    "        feature_results[feature][classifier] = {'F1 Measure': f1_measure, 'Delta Value': delta_value}\n",
    "\n",
    "\n",
    "# Create empty lists to store the results\n",
    "feature_list = []\n",
    "classifier_list = []\n",
    "f1_measure_list = []\n",
    "delta_value_list = []\n",
    "\n",
    "# Iterate over the results dictionary\n",
    "for feature, classifier_results in feature_results.items():\n",
    "    for classifier, result in classifier_results.items():\n",
    "        # Append the feature, classifier, F1 measure, and delta value to the respective lists\n",
    "        feature_list.append(feature)\n",
    "        classifier_list.append(classifier)\n",
    "        f1_measure_list.append(result['F1 Measure'])\n",
    "        delta_value_list.append(result['Delta Value'])\n",
    "\n",
    "# Create a dictionary to store the data\n",
    "data_feat_abl = {\n",
    "    'Feature': feature_list,\n",
    "    'Classifier': classifier_list,\n",
    "    'F1 Measure': f1_measure_list,\n",
    "    'Delta Value': delta_value_list\n",
    "}\n",
    "\n",
    "df_ablation = pd.DataFrame(data_feat_abl)\n",
    "df_ablation"
   ]
  },
  {
   "cell_type": "code",
   "execution_count": null,
   "id": "2b7139c3",
   "metadata": {
    "execution": {
     "iopub.execute_input": "2023-07-31T12:38:36.754548Z",
     "iopub.status.busy": "2023-07-31T12:38:36.753622Z",
     "iopub.status.idle": "2023-07-31T12:38:38.083175Z",
     "shell.execute_reply": "2023-07-31T12:38:38.082214Z",
     "shell.execute_reply.started": "2023-07-31T12:38:36.754512Z"
    },
    "papermill": {
     "duration": null,
     "end_time": null,
     "exception": null,
     "start_time": null,
     "status": "pending"
    },
    "tags": []
   },
   "outputs": [],
   "source": [
    "# Sort the features by their delta value in ascending order\n",
    "df_sorted = df_ablation.sort_values(by='Delta Value', ascending=True)\n",
    "\n",
    "# Set the style of the plot\n",
    "sns.set_style(\"whitegrid\")\n",
    "\n",
    "# Plot the F1 scores for each classifier\n",
    "plt.figure(figsize=(10, 6))\n",
    "sns.barplot(data=df_sorted, x=\"Delta Value\", y=\"Feature\", hue=\"Classifier\", palette=\"Set2\")\n",
    "plt.xlabel('Delta Value')\n",
    "plt.ylabel('Feature')\n",
    "plt.title('F1 Scores for Each Classifier (Sorted by Delta Value)')\n",
    "plt.legend(title='Classifier', loc='lower right')\n",
    "\n",
    "# Adjust spacing between y-axis labels\n",
    "plt.subplots_adjust(hspace=0.4)\n",
    "\n",
    "plt.tight_layout()\n",
    "plt.show()"
   ]
  },
  {
   "cell_type": "markdown",
   "id": "2bee622b",
   "metadata": {
    "papermill": {
     "duration": null,
     "end_time": null,
     "exception": null,
     "start_time": null,
     "status": "pending"
    },
    "tags": []
   },
   "source": [
    "#### C2. Emotion Task"
   ]
  },
  {
   "cell_type": "code",
   "execution_count": null,
   "id": "33cbdf97",
   "metadata": {
    "execution": {
     "iopub.execute_input": "2023-07-31T12:40:10.888356Z",
     "iopub.status.busy": "2023-07-31T12:40:10.887982Z",
     "iopub.status.idle": "2023-07-31T12:40:33.466441Z",
     "shell.execute_reply": "2023-07-31T12:40:33.465370Z",
     "shell.execute_reply.started": "2023-07-31T12:40:10.888324Z"
    },
    "papermill": {
     "duration": null,
     "end_time": null,
     "exception": null,
     "start_time": null,
     "status": "pending"
    },
    "tags": []
   },
   "outputs": [],
   "source": [
    "# Split the data into features (X) and target (y)\n",
    "X_cor_em = data[['LexDens', 'TTR', 'CTTR', 'VerbVar', 'NounVar', 'AdjVar', 'AdvVar', 'profanity_words', 'Conjunctions', 'Pronouns', 'Auxiliary Verbs', 'Modal Verbs', 'Determiners', 'Number of Phrases', 'NP Ratio', 'AdvP Ratio', 'AdjP Ratio', 'PrpP Ratio', 'VP Ratio', 'Complex Nominals', 'Subordinate Clauses', 'Relative Clauses', 'Contrast Markers', 'Emphatic Markers', 'nsubj', 'amod', 'Concessive Markers', 'Summary Markers', 'Negative Affixes', 'Present Verbs', 'Past Verbs', 'Future Verbs', 'Infinitive Verbs', 'has_passive_voice', 'negative_polarity', 'positive_polarity', 'avg_synsets', 'mean_concreteness', 'Named Entity Count']]\n",
    "y_cor_em = data['Misprediction']\n",
    "\n",
    "# Split the data into training and testing sets\n",
    "X_cor_train_em, X_cor_test_em, y_cor_train_em, y_cor_test_em = train_test_split(X_cor_em, y_cor_em, test_size=0.2, random_state=42)\n",
    "\n",
    "# Initialize Classifiers\n",
    "model_cor_log_em = LogisticRegression(max_iter=10000) # Create a logistic regression classifier\n",
    "model_cor_rf_em = RandomForestClassifier() # Create a Random Forest classifier\n",
    "\n",
    "# Fit the models to the training data\n",
    "model_cor_log_em.fit(X_cor_train_em, y_cor_train_em) # Logistic regression\n",
    "model_cor_rf_em.fit(X_cor_train_em, y_cor_train_em) # Random Forest\n",
    "\n",
    "# Set up k-fold cross-validation for logistic regression\n",
    "k = 10  # Number of folds\n",
    "scoring = {'accuracy': make_scorer(accuracy_score), 'f1': make_scorer(f1_score)}\n",
    "cv_results_log_cor_em = cross_validate(model_cor_log_em, X_cor_train_em, y_cor_train_em, cv=k, scoring=scoring)\n",
    "\n",
    "# Set up k-fold cross-validation for random forest\n",
    "cv_results_rf_cor_em = cross_validate(model_cor_rf_em, X_cor_train_em, y_cor_train_em, cv=k, scoring=scoring)\n",
    "\n",
    "# Extract evaluation metrics from the cross-validation results for logistic regression\n",
    "cv_accuracy_scores_log_cor_em = cv_results_log_cor_em['test_accuracy']\n",
    "cv_f1_scores_log_cor_em = cv_results_log_cor_em['test_f1']\n",
    "\n",
    "# Extract evaluation metrics from the cross-validation results for random forest\n",
    "cv_accuracy_scores_rf_cor_em = cv_results_rf_cor_em['test_accuracy']\n",
    "cv_f1_scores_rf_cor_em = cv_results_rf_cor_em['test_f1']\n",
    "\n",
    "# Calculate evaluation metrics for logistic regression on the test set\n",
    "precision_log_cor_em = precision_score(y_cor_test_em, model_cor_log_em.predict(X_cor_test_em))\n",
    "recall_log_cor_em = recall_score(y_cor_test_em, model_cor_log_em.predict(X_cor_test_em))\n",
    "\n",
    "# Calculate evaluation metric scores for random forest on the test set\n",
    "precision_rf_cor_em = precision_score(y_cor_test_em, model_cor_rf_em.predict(X_cor_test_em))\n",
    "recall_rf_cor_em = recall_score(y_cor_test_em, model_cor_rf_em.predict(X_cor_test_em))\n",
    "\n",
    "# Store the resutls in a new df\n",
    "results_cor_em = pd.DataFrame({\n",
    "    'Classifier': ['Logistic Regression', 'Random Forest'],\n",
    "    'Accuracy': [np.mean(cv_accuracy_scores_log_cor_em), np.mean(cv_accuracy_scores_rf_cor_em)],\n",
    "    'F1 Score': [np.mean(cv_f1_scores_log_cor_em), np.mean(cv_f1_scores_rf_cor_em)],\n",
    "    'Precision': [precision_log_cor_em, precision_rf_cor_em],\n",
    "    'Recall': [recall_log_cor_em, recall_rf_cor_em]\n",
    "})\n",
    "\n",
    "# List of feature names\n",
    "feature_names_em = X_cor_em.columns.tolist()\n",
    "\n",
    "# Dictionary to store the results\n",
    "feature_results_em = {}\n",
    "\n",
    "# Iterate over each feature to ablate\n",
    "for feature in feature_names_em:\n",
    "    # Iterate over each classifier\n",
    "    for classifier, model in zip(['Logistic Regression', 'Random Forest'], [model_cor_log_em, model_cor_rf_em]):\n",
    "        # Create a new model for each ablated feature\n",
    "        model = deepcopy(model)\n",
    "        \n",
    "        # Check if the feature exists in the input data\n",
    "        if feature not in X_cor_train_em.columns:\n",
    "            continue\n",
    "\n",
    "        # Remove the feature from the input data\n",
    "        X_train_ablated_em = X_cor_train_em.drop(feature, axis=1)\n",
    "        X_test_ablated_em = X_cor_test_em.drop(feature, axis=1)\n",
    "\n",
    "        # Train the model\n",
    "        model.fit(X_train_ablated_em, y_cor_train_em)\n",
    "\n",
    "        # Evaluate the model on the test set\n",
    "        y_pred_em = model.predict(X_test_ablated_em)\n",
    "        classification_rep_em = classification_report(y_cor_test_em, y_pred_em, output_dict=True)\n",
    "        f1_measure_em = classification_rep_em['weighted avg']['f1-score']\n",
    "        delta_value_em = f1_measure_em - results_cor_em.loc[results_cor_em['Classifier'] == classifier, 'F1 Score'].values[0]\n",
    "\n",
    "        # Store the results\n",
    "        if feature not in feature_results_em:\n",
    "            feature_results_em[feature] = {}\n",
    "        feature_results_em[feature][classifier] = {'F1 Measure': f1_measure_em, 'Delta Value': delta_value_em}\n",
    "\n",
    "# Create empty lists to store the results\n",
    "feature_list_em = []\n",
    "classifier_list_em = []\n",
    "f1_measure_list_em = []\n",
    "delta_value_list_em = []\n",
    "\n",
    "# Iterate over the results dictionary\n",
    "for feature, classifier_results in feature_results_em.items():\n",
    "    for classifier, result in classifier_results.items():\n",
    "        # Append the feature, classifier, F1 measure, and delta value to the respective lists\n",
    "        feature_list_em.append(feature)\n",
    "        classifier_list_em.append(classifier)\n",
    "        f1_measure_list_em.append(result['F1 Measure'])\n",
    "        delta_value_list_em.append(result['Delta Value'])\n",
    "\n",
    "# Create a dictionary to store the data\n",
    "data_feat_abl_em = {\n",
    "    'Feature': feature_list_em,\n",
    "    'Classifier': classifier_list_em,\n",
    "    'F1 Measure': f1_measure_list_em,\n",
    "    'Delta Value': delta_value_list_em\n",
    "}\n",
    "\n",
    "df_ablation_em = pd.DataFrame(data_feat_abl_em)\n",
    "df_ablation_em"
   ]
  },
  {
   "cell_type": "code",
   "execution_count": null,
   "id": "64cc2f12",
   "metadata": {
    "execution": {
     "iopub.execute_input": "2023-07-31T12:43:39.788823Z",
     "iopub.status.busy": "2023-07-31T12:43:39.788403Z",
     "iopub.status.idle": "2023-07-31T12:43:40.842535Z",
     "shell.execute_reply": "2023-07-31T12:43:40.841346Z",
     "shell.execute_reply.started": "2023-07-31T12:43:39.788790Z"
    },
    "papermill": {
     "duration": null,
     "end_time": null,
     "exception": null,
     "start_time": null,
     "status": "pending"
    },
    "tags": []
   },
   "outputs": [],
   "source": [
    "# Sort the features by their delta value in ascending order\n",
    "df_sorted_em = df_ablation_em.sort_values(by='Delta Value', ascending=True)\n",
    "\n",
    "# Set the style of the plot\n",
    "sns.set_style(\"whitegrid\")\n",
    "\n",
    "# Plot the F1 scores for each classifier\n",
    "plt.figure(figsize=(10, 6))\n",
    "sns.barplot(data=df_sorted_em, x=\"Delta Value\", y=\"Feature\", hue=\"Classifier\", palette=\"Set2\")\n",
    "plt.xlabel('Delta Value')\n",
    "plt.ylabel('Feature')\n",
    "plt.title('F1 Scores for Each Classifier (Sorted by Delta Value)')\n",
    "plt.legend(title='Classifier', loc='lower right')\n",
    "\n",
    "# Adjust spacing between y-axis labels\n",
    "plt.subplots_adjust(hspace=0.4)\n",
    "\n",
    "plt.tight_layout()\n",
    "plt.show()"
   ]
  },
  {
   "cell_type": "markdown",
   "id": "427bcfb3",
   "metadata": {
    "papermill": {
     "duration": null,
     "end_time": null,
     "exception": null,
     "start_time": null,
     "status": "pending"
    },
    "tags": []
   },
   "source": [
    "# PART 8: \n",
    "## INSIGHTS INTO MODEL'S UNCERTAINTY\n",
    "### Linear Regression\n",
    "#### 8.1) Sentiment Analysis Task"
   ]
  },
  {
   "cell_type": "code",
   "execution_count": null,
   "id": "879aacdf",
   "metadata": {
    "execution": {
     "iopub.execute_input": "2023-07-31T12:48:51.410145Z",
     "iopub.status.busy": "2023-07-31T12:48:51.409779Z",
     "iopub.status.idle": "2023-07-31T12:48:51.425407Z",
     "shell.execute_reply": "2023-07-31T12:48:51.424266Z",
     "shell.execute_reply.started": "2023-07-31T12:48:51.410115Z"
    },
    "papermill": {
     "duration": null,
     "end_time": null,
     "exception": null,
     "start_time": null,
     "status": "pending"
    },
    "tags": []
   },
   "outputs": [],
   "source": [
    "# Extract only the mispredicted examples (labeled with 1)\n",
    "df_prob = data[data['Misprediction'] == 1]\n",
    "\n",
    "# Specify specific features from df_prob\n",
    "X = df_prob[['Relative Clauses', 'Contrast Markers','CTTR', 'Number of Phrases','nsubj', 'amod', 'VP Ratio', 'LexDens', 'TTR']]\n",
    "\n",
    "y = df_prob['Probability']\n",
    "\n",
    "# Create a linear regression model\n",
    "model = LinearRegression()\n",
    "\n",
    "# Fit the linear regression model to the training data\n",
    "model.fit(X, y)\n",
    "\n",
    "# Extract the coefficients and intercept\n",
    "coefficients = model.coef_\n",
    "intercept = model.intercept_\n",
    "\n",
    "# Print the coefficients and intercept\n",
    "print(\"Coefficients:\", coefficients)\n",
    "print(\"Intercept:\", intercept)"
   ]
  },
  {
   "cell_type": "code",
   "execution_count": null,
   "id": "e5c8167b",
   "metadata": {
    "execution": {
     "iopub.execute_input": "2023-07-31T12:48:59.088243Z",
     "iopub.status.busy": "2023-07-31T12:48:59.087874Z",
     "iopub.status.idle": "2023-07-31T12:48:59.113960Z",
     "shell.execute_reply": "2023-07-31T12:48:59.113039Z",
     "shell.execute_reply.started": "2023-07-31T12:48:59.088214Z"
    },
    "papermill": {
     "duration": null,
     "end_time": null,
     "exception": null,
     "start_time": null,
     "status": "pending"
    },
    "tags": []
   },
   "outputs": [],
   "source": [
    "# Add a constant column to the feature matrix\n",
    "X = sm.add_constant(X)\n",
    "\n",
    "# Create a model\n",
    "model = sm.OLS(y, X)\n",
    "\n",
    "# Fit the model to the data\n",
    "results = model.fit()\n",
    "\n",
    "# Print the summary report\n",
    "print(results.summary())"
   ]
  },
  {
   "cell_type": "markdown",
   "id": "b9cde678",
   "metadata": {
    "papermill": {
     "duration": null,
     "end_time": null,
     "exception": null,
     "start_time": null,
     "status": "pending"
    },
    "tags": []
   },
   "source": [
    "#### 8.2) Emotion Analysis Task"
   ]
  },
  {
   "cell_type": "code",
   "execution_count": null,
   "id": "b0f757cd",
   "metadata": {
    "execution": {
     "iopub.execute_input": "2023-07-31T12:49:20.420691Z",
     "iopub.status.busy": "2023-07-31T12:49:20.420081Z",
     "iopub.status.idle": "2023-07-31T12:49:20.438460Z",
     "shell.execute_reply": "2023-07-31T12:49:20.437265Z",
     "shell.execute_reply.started": "2023-07-31T12:49:20.420648Z"
    },
    "papermill": {
     "duration": null,
     "end_time": null,
     "exception": null,
     "start_time": null,
     "status": "pending"
    },
    "tags": []
   },
   "outputs": [],
   "source": [
    "# Extract only the mispredicted examples (labeled with 1) from df_prob_em\n",
    "df_prob_em = data_em[data_em['Misprediction'] == 1]\n",
    "\n",
    "# Specify specific features from df_prob_em\n",
    "X_em = df_prob_em[['negative_polarity','VerbVar', 'NounVar', 'Past Verbs', 'PrpP Ratio', 'AdvP Ratio','avg_synsets', 'nsubj', 'amod']]\n",
    "\n",
    "y_em = df_prob_em['Probability']\n",
    "\n",
    "# Create an instance of LinearRegression\n",
    "model_em = LinearRegression()\n",
    "\n",
    "# Fit the model to the training data\n",
    "model_em.fit(X_em, y_em)\n",
    "\n",
    "# Extract the coefficients and intercept\n",
    "coefficients_em = model_em.coef_\n",
    "intercept_em = model_em.intercept_\n",
    "\n",
    "# Print the coefficients and intercept\n",
    "print(\"Coefficients:\", coefficients_em)\n",
    "print(\"Intercept:\", intercept_em)"
   ]
  },
  {
   "cell_type": "code",
   "execution_count": null,
   "id": "cf092e80",
   "metadata": {
    "execution": {
     "iopub.execute_input": "2023-07-31T12:49:26.841162Z",
     "iopub.status.busy": "2023-07-31T12:49:26.840792Z",
     "iopub.status.idle": "2023-07-31T12:49:27.163487Z",
     "shell.execute_reply": "2023-07-31T12:49:27.162356Z",
     "shell.execute_reply.started": "2023-07-31T12:49:26.841131Z"
    },
    "papermill": {
     "duration": null,
     "end_time": null,
     "exception": null,
     "start_time": null,
     "status": "pending"
    },
    "tags": []
   },
   "outputs": [],
   "source": [
    "# Fit the linear regression model\n",
    "X_em = sm.add_constant(X_em)\n",
    "model_em = sm.OLS(y_em, X_em)\n",
    "results_em = model_em.fit()\n",
    "\n",
    "# Extract significant coefficients\n",
    "significant_coeffs_em = results_em.params[results_em.pvalues < 0.05]\n",
    "\n",
    "# Exclude the constant term from the plot\n",
    "significant_coeffs_em = significant_coeffs_em[1:]\n",
    "\n",
    "# Determine colors based on coefficient direction\n",
    "colors = ['tab:red' if c < 0 else 'tab:cyan' for c in significant_coeffs_em]\n",
    "\n",
    "# Plot significant coefficients with colors\n",
    "plt.figure(figsize=(8, 6))\n",
    "plt.barh(significant_coeffs_em.index, significant_coeffs_em.values, color=colors)\n",
    "plt.xlabel('Coefficient Value')\n",
    "plt.ylabel('Variable')\n",
    "plt.title('Significant Coefficients')\n",
    "plt.show()"
   ]
  },
  {
   "cell_type": "markdown",
   "id": "3ffa4144",
   "metadata": {
    "papermill": {
     "duration": null,
     "end_time": null,
     "exception": null,
     "start_time": null,
     "status": "pending"
    },
    "tags": []
   },
   "source": [
    "# PART 9: \n",
    "## IMPROVING MODEL'S ACCURACY\n",
    "#### 9.1) Sentiment Analysis Task"
   ]
  },
  {
   "cell_type": "code",
   "execution_count": null,
   "id": "bd7f0ead",
   "metadata": {
    "papermill": {
     "duration": null,
     "end_time": null,
     "exception": null,
     "start_time": null,
     "status": "pending"
    },
    "tags": []
   },
   "outputs": [],
   "source": [
    "# List of words to remove\n",
    "words_to_remove = ['however', 'nevertheless', 'yet', 'in contrast',\n",
    "                   'despite', 'although', 'even though', 'but']\n",
    "\n",
    "# Function for removing the specified contrast markers using regex\n",
    "def remove_words(text):\n",
    "    for word in words_to_remove:\n",
    "        pattern = r'\\b' + re.escape(word) + r'\\b'  # Create regex pattern with word boundaries\n",
    "        text = re.sub(pattern, '', text, flags=re.IGNORECASE)  # Remove the word from the text\n",
    "    return text"
   ]
  },
  {
   "cell_type": "markdown",
   "id": "6499304f",
   "metadata": {
    "papermill": {
     "duration": null,
     "end_time": null,
     "exception": null,
     "start_time": null,
     "status": "pending"
    },
    "tags": []
   },
   "source": [
    "#### 9.2) Emotion Analysis Task"
   ]
  },
  {
   "cell_type": "code",
   "execution_count": null,
   "id": "347c4a64",
   "metadata": {
    "papermill": {
     "duration": null,
     "end_time": null,
     "exception": null,
     "start_time": null,
     "status": "pending"
    },
    "tags": []
   },
   "outputs": [],
   "source": [
    "# Function for substituting nouns with their most basic sysnonym in WordNet\n",
    "def substitute_words_with_easier(text):\n",
    "    tokens = nltk.word_tokenize(text)\n",
    "    pos_tags = nltk.pos_tag(tokens)\n",
    "    \n",
    "    modified_tokens = []\n",
    "    for token, pos in pos_tags:\n",
    "        if pos.startswith('NN'):\n",
    "            synsets = wordnet.synsets(token, pos='n')\n",
    "            if synsets:\n",
    "                easy_word = synsets[0].lemmas()[0].name()\n",
    "                modified_tokens.append(easy_word)\n",
    "            else:\n",
    "                modified_tokens.append(token)\n",
    "        elif pos.startswith('VB'):\n",
    "            synsets = wordnet.synsets(token, pos='v')\n",
    "            if synsets:\n",
    "                easy_word = synsets[0].lemmas()[0].name()\n",
    "                modified_tokens.append(easy_word)\n",
    "            else:\n",
    "                modified_tokens.append(token)\n",
    "        else:\n",
    "            modified_tokens.append(token)\n",
    "    \n",
    "    modified_text = ' '.join(modified_tokens)\n",
    "    return modified_text"
   ]
  }
 ],
 "metadata": {
  "kernelspec": {
   "display_name": "Python 3",
   "language": "python",
   "name": "python3"
  },
  "language_info": {
   "codemirror_mode": {
    "name": "ipython",
    "version": 3
   },
   "file_extension": ".py",
   "mimetype": "text/x-python",
   "name": "python",
   "nbconvert_exporter": "python",
   "pygments_lexer": "ipython3",
   "version": "3.10.12"
  },
  "papermill": {
   "default_parameters": {},
   "duration": 128.887847,
   "end_time": "2023-07-31T15:05:59.821410",
   "environment_variables": {},
   "exception": true,
   "input_path": "__notebook__.ipynb",
   "output_path": "__notebook__.ipynb",
   "parameters": {},
   "start_time": "2023-07-31T15:03:50.933563",
   "version": "2.4.0"
  },
  "widgets": {
   "application/vnd.jupyter.widget-state+json": {
    "state": {
     "05a9ef2d8d9949408500bc2404c5eb4c": {
      "model_module": "@jupyter-widgets/base",
      "model_module_version": "1.2.0",
      "model_name": "LayoutModel",
      "state": {
       "_model_module": "@jupyter-widgets/base",
       "_model_module_version": "1.2.0",
       "_model_name": "LayoutModel",
       "_view_count": null,
       "_view_module": "@jupyter-widgets/base",
       "_view_module_version": "1.2.0",
       "_view_name": "LayoutView",
       "align_content": null,
       "align_items": null,
       "align_self": null,
       "border": null,
       "bottom": null,
       "display": null,
       "flex": null,
       "flex_flow": null,
       "grid_area": null,
       "grid_auto_columns": null,
       "grid_auto_flow": null,
       "grid_auto_rows": null,
       "grid_column": null,
       "grid_gap": null,
       "grid_row": null,
       "grid_template_areas": null,
       "grid_template_columns": null,
       "grid_template_rows": null,
       "height": null,
       "justify_content": null,
       "justify_items": null,
       "left": null,
       "margin": null,
       "max_height": null,
       "max_width": null,
       "min_height": null,
       "min_width": null,
       "object_fit": null,
       "object_position": null,
       "order": null,
       "overflow": null,
       "overflow_x": null,
       "overflow_y": null,
       "padding": null,
       "right": null,
       "top": null,
       "visibility": null,
       "width": null
      }
     },
     "069f6f184ae145bdac3fc11515db607c": {
      "model_module": "@jupyter-widgets/controls",
      "model_module_version": "1.5.0",
      "model_name": "DescriptionStyleModel",
      "state": {
       "_model_module": "@jupyter-widgets/controls",
       "_model_module_version": "1.5.0",
       "_model_name": "DescriptionStyleModel",
       "_view_count": null,
       "_view_module": "@jupyter-widgets/base",
       "_view_module_version": "1.2.0",
       "_view_name": "StyleView",
       "description_width": ""
      }
     },
     "097fae5228ab40cd94d442251ba751aa": {
      "model_module": "@jupyter-widgets/base",
      "model_module_version": "1.2.0",
      "model_name": "LayoutModel",
      "state": {
       "_model_module": "@jupyter-widgets/base",
       "_model_module_version": "1.2.0",
       "_model_name": "LayoutModel",
       "_view_count": null,
       "_view_module": "@jupyter-widgets/base",
       "_view_module_version": "1.2.0",
       "_view_name": "LayoutView",
       "align_content": null,
       "align_items": null,
       "align_self": null,
       "border": null,
       "bottom": null,
       "display": null,
       "flex": null,
       "flex_flow": null,
       "grid_area": null,
       "grid_auto_columns": null,
       "grid_auto_flow": null,
       "grid_auto_rows": null,
       "grid_column": null,
       "grid_gap": null,
       "grid_row": null,
       "grid_template_areas": null,
       "grid_template_columns": null,
       "grid_template_rows": null,
       "height": null,
       "justify_content": null,
       "justify_items": null,
       "left": null,
       "margin": null,
       "max_height": null,
       "max_width": null,
       "min_height": null,
       "min_width": null,
       "object_fit": null,
       "object_position": null,
       "order": null,
       "overflow": null,
       "overflow_x": null,
       "overflow_y": null,
       "padding": null,
       "right": null,
       "top": null,
       "visibility": null,
       "width": null
      }
     },
     "0a6c52332e9c40c79db946a0aba55569": {
      "model_module": "@jupyter-widgets/controls",
      "model_module_version": "1.5.0",
      "model_name": "HTMLModel",
      "state": {
       "_dom_classes": [],
       "_model_module": "@jupyter-widgets/controls",
       "_model_module_version": "1.5.0",
       "_model_name": "HTMLModel",
       "_view_count": null,
       "_view_module": "@jupyter-widgets/controls",
       "_view_module_version": "1.5.0",
       "_view_name": "HTMLView",
       "description": "",
       "description_tooltip": null,
       "layout": "IPY_MODEL_0b406644d47248afbdf7b410d28e40f2",
       "placeholder": "​",
       "style": "IPY_MODEL_27b1f98fbe95426ba39f9cfd5c93a1fa",
       "value": " 440M/440M [00:01&lt;00:00, 309MB/s]"
      }
     },
     "0b406644d47248afbdf7b410d28e40f2": {
      "model_module": "@jupyter-widgets/base",
      "model_module_version": "1.2.0",
      "model_name": "LayoutModel",
      "state": {
       "_model_module": "@jupyter-widgets/base",
       "_model_module_version": "1.2.0",
       "_model_name": "LayoutModel",
       "_view_count": null,
       "_view_module": "@jupyter-widgets/base",
       "_view_module_version": "1.2.0",
       "_view_name": "LayoutView",
       "align_content": null,
       "align_items": null,
       "align_self": null,
       "border": null,
       "bottom": null,
       "display": null,
       "flex": null,
       "flex_flow": null,
       "grid_area": null,
       "grid_auto_columns": null,
       "grid_auto_flow": null,
       "grid_auto_rows": null,
       "grid_column": null,
       "grid_gap": null,
       "grid_row": null,
       "grid_template_areas": null,
       "grid_template_columns": null,
       "grid_template_rows": null,
       "height": null,
       "justify_content": null,
       "justify_items": null,
       "left": null,
       "margin": null,
       "max_height": null,
       "max_width": null,
       "min_height": null,
       "min_width": null,
       "object_fit": null,
       "object_position": null,
       "order": null,
       "overflow": null,
       "overflow_x": null,
       "overflow_y": null,
       "padding": null,
       "right": null,
       "top": null,
       "visibility": null,
       "width": null
      }
     },
     "0c4b90acc7c6471c8ddd06b0f0d40627": {
      "model_module": "@jupyter-widgets/controls",
      "model_module_version": "1.5.0",
      "model_name": "DescriptionStyleModel",
      "state": {
       "_model_module": "@jupyter-widgets/controls",
       "_model_module_version": "1.5.0",
       "_model_name": "DescriptionStyleModel",
       "_view_count": null,
       "_view_module": "@jupyter-widgets/base",
       "_view_module_version": "1.2.0",
       "_view_name": "StyleView",
       "description_width": ""
      }
     },
     "0caa0d888f844e958c20db90af230fd2": {
      "model_module": "@jupyter-widgets/base",
      "model_module_version": "1.2.0",
      "model_name": "LayoutModel",
      "state": {
       "_model_module": "@jupyter-widgets/base",
       "_model_module_version": "1.2.0",
       "_model_name": "LayoutModel",
       "_view_count": null,
       "_view_module": "@jupyter-widgets/base",
       "_view_module_version": "1.2.0",
       "_view_name": "LayoutView",
       "align_content": null,
       "align_items": null,
       "align_self": null,
       "border": null,
       "bottom": null,
       "display": null,
       "flex": null,
       "flex_flow": null,
       "grid_area": null,
       "grid_auto_columns": null,
       "grid_auto_flow": null,
       "grid_auto_rows": null,
       "grid_column": null,
       "grid_gap": null,
       "grid_row": null,
       "grid_template_areas": null,
       "grid_template_columns": null,
       "grid_template_rows": null,
       "height": null,
       "justify_content": null,
       "justify_items": null,
       "left": null,
       "margin": null,
       "max_height": null,
       "max_width": null,
       "min_height": null,
       "min_width": null,
       "object_fit": null,
       "object_position": null,
       "order": null,
       "overflow": null,
       "overflow_x": null,
       "overflow_y": null,
       "padding": null,
       "right": null,
       "top": null,
       "visibility": null,
       "width": null
      }
     },
     "0fa935c853eb4db7be0c70d81c9227e2": {
      "model_module": "@jupyter-widgets/base",
      "model_module_version": "1.2.0",
      "model_name": "LayoutModel",
      "state": {
       "_model_module": "@jupyter-widgets/base",
       "_model_module_version": "1.2.0",
       "_model_name": "LayoutModel",
       "_view_count": null,
       "_view_module": "@jupyter-widgets/base",
       "_view_module_version": "1.2.0",
       "_view_name": "LayoutView",
       "align_content": null,
       "align_items": null,
       "align_self": null,
       "border": null,
       "bottom": null,
       "display": null,
       "flex": null,
       "flex_flow": null,
       "grid_area": null,
       "grid_auto_columns": null,
       "grid_auto_flow": null,
       "grid_auto_rows": null,
       "grid_column": null,
       "grid_gap": null,
       "grid_row": null,
       "grid_template_areas": null,
       "grid_template_columns": null,
       "grid_template_rows": null,
       "height": null,
       "justify_content": null,
       "justify_items": null,
       "left": null,
       "margin": null,
       "max_height": null,
       "max_width": null,
       "min_height": null,
       "min_width": null,
       "object_fit": null,
       "object_position": null,
       "order": null,
       "overflow": null,
       "overflow_x": null,
       "overflow_y": null,
       "padding": null,
       "right": null,
       "top": null,
       "visibility": null,
       "width": null
      }
     },
     "12a9eb10ab7843b1a801fe759453637d": {
      "model_module": "@jupyter-widgets/controls",
      "model_module_version": "1.5.0",
      "model_name": "DescriptionStyleModel",
      "state": {
       "_model_module": "@jupyter-widgets/controls",
       "_model_module_version": "1.5.0",
       "_model_name": "DescriptionStyleModel",
       "_view_count": null,
       "_view_module": "@jupyter-widgets/base",
       "_view_module_version": "1.2.0",
       "_view_name": "StyleView",
       "description_width": ""
      }
     },
     "16db85331bab4ebda525ddd284753afb": {
      "model_module": "@jupyter-widgets/base",
      "model_module_version": "1.2.0",
      "model_name": "LayoutModel",
      "state": {
       "_model_module": "@jupyter-widgets/base",
       "_model_module_version": "1.2.0",
       "_model_name": "LayoutModel",
       "_view_count": null,
       "_view_module": "@jupyter-widgets/base",
       "_view_module_version": "1.2.0",
       "_view_name": "LayoutView",
       "align_content": null,
       "align_items": null,
       "align_self": null,
       "border": null,
       "bottom": null,
       "display": null,
       "flex": null,
       "flex_flow": null,
       "grid_area": null,
       "grid_auto_columns": null,
       "grid_auto_flow": null,
       "grid_auto_rows": null,
       "grid_column": null,
       "grid_gap": null,
       "grid_row": null,
       "grid_template_areas": null,
       "grid_template_columns": null,
       "grid_template_rows": null,
       "height": null,
       "justify_content": null,
       "justify_items": null,
       "left": null,
       "margin": null,
       "max_height": null,
       "max_width": null,
       "min_height": null,
       "min_width": null,
       "object_fit": null,
       "object_position": null,
       "order": null,
       "overflow": null,
       "overflow_x": null,
       "overflow_y": null,
       "padding": null,
       "right": null,
       "top": null,
       "visibility": null,
       "width": null
      }
     },
     "1a67e83f1bce466abb283d04e9acc257": {
      "model_module": "@jupyter-widgets/base",
      "model_module_version": "1.2.0",
      "model_name": "LayoutModel",
      "state": {
       "_model_module": "@jupyter-widgets/base",
       "_model_module_version": "1.2.0",
       "_model_name": "LayoutModel",
       "_view_count": null,
       "_view_module": "@jupyter-widgets/base",
       "_view_module_version": "1.2.0",
       "_view_name": "LayoutView",
       "align_content": null,
       "align_items": null,
       "align_self": null,
       "border": null,
       "bottom": null,
       "display": null,
       "flex": null,
       "flex_flow": null,
       "grid_area": null,
       "grid_auto_columns": null,
       "grid_auto_flow": null,
       "grid_auto_rows": null,
       "grid_column": null,
       "grid_gap": null,
       "grid_row": null,
       "grid_template_areas": null,
       "grid_template_columns": null,
       "grid_template_rows": null,
       "height": null,
       "justify_content": null,
       "justify_items": null,
       "left": null,
       "margin": null,
       "max_height": null,
       "max_width": null,
       "min_height": null,
       "min_width": null,
       "object_fit": null,
       "object_position": null,
       "order": null,
       "overflow": null,
       "overflow_x": null,
       "overflow_y": null,
       "padding": null,
       "right": null,
       "top": null,
       "visibility": null,
       "width": null
      }
     },
     "1f9e8e956d2d4cc9a30e55eef55eae91": {
      "model_module": "@jupyter-widgets/base",
      "model_module_version": "1.2.0",
      "model_name": "LayoutModel",
      "state": {
       "_model_module": "@jupyter-widgets/base",
       "_model_module_version": "1.2.0",
       "_model_name": "LayoutModel",
       "_view_count": null,
       "_view_module": "@jupyter-widgets/base",
       "_view_module_version": "1.2.0",
       "_view_name": "LayoutView",
       "align_content": null,
       "align_items": null,
       "align_self": null,
       "border": null,
       "bottom": null,
       "display": null,
       "flex": null,
       "flex_flow": null,
       "grid_area": null,
       "grid_auto_columns": null,
       "grid_auto_flow": null,
       "grid_auto_rows": null,
       "grid_column": null,
       "grid_gap": null,
       "grid_row": null,
       "grid_template_areas": null,
       "grid_template_columns": null,
       "grid_template_rows": null,
       "height": null,
       "justify_content": null,
       "justify_items": null,
       "left": null,
       "margin": null,
       "max_height": null,
       "max_width": null,
       "min_height": null,
       "min_width": null,
       "object_fit": null,
       "object_position": null,
       "order": null,
       "overflow": null,
       "overflow_x": null,
       "overflow_y": null,
       "padding": null,
       "right": null,
       "top": null,
       "visibility": null,
       "width": null
      }
     },
     "208036ddbe6d48c198d37a60192dbebb": {
      "model_module": "@jupyter-widgets/controls",
      "model_module_version": "1.5.0",
      "model_name": "ProgressStyleModel",
      "state": {
       "_model_module": "@jupyter-widgets/controls",
       "_model_module_version": "1.5.0",
       "_model_name": "ProgressStyleModel",
       "_view_count": null,
       "_view_module": "@jupyter-widgets/base",
       "_view_module_version": "1.2.0",
       "_view_name": "StyleView",
       "bar_color": null,
       "description_width": ""
      }
     },
     "240820257cc346ce959e3660ee231e72": {
      "model_module": "@jupyter-widgets/controls",
      "model_module_version": "1.5.0",
      "model_name": "DescriptionStyleModel",
      "state": {
       "_model_module": "@jupyter-widgets/controls",
       "_model_module_version": "1.5.0",
       "_model_name": "DescriptionStyleModel",
       "_view_count": null,
       "_view_module": "@jupyter-widgets/base",
       "_view_module_version": "1.2.0",
       "_view_name": "StyleView",
       "description_width": ""
      }
     },
     "244916094cff463c89beec9497837e51": {
      "model_module": "@jupyter-widgets/controls",
      "model_module_version": "1.5.0",
      "model_name": "HTMLModel",
      "state": {
       "_dom_classes": [],
       "_model_module": "@jupyter-widgets/controls",
       "_model_module_version": "1.5.0",
       "_model_name": "HTMLModel",
       "_view_count": null,
       "_view_module": "@jupyter-widgets/controls",
       "_view_module_version": "1.5.0",
       "_view_name": "HTMLView",
       "description": "",
       "description_tooltip": null,
       "layout": "IPY_MODEL_fee6ca9e091a4037a2f0fed662b57ddd",
       "placeholder": "​",
       "style": "IPY_MODEL_12a9eb10ab7843b1a801fe759453637d",
       "value": "100%"
      }
     },
     "27b1f98fbe95426ba39f9cfd5c93a1fa": {
      "model_module": "@jupyter-widgets/controls",
      "model_module_version": "1.5.0",
      "model_name": "DescriptionStyleModel",
      "state": {
       "_model_module": "@jupyter-widgets/controls",
       "_model_module_version": "1.5.0",
       "_model_name": "DescriptionStyleModel",
       "_view_count": null,
       "_view_module": "@jupyter-widgets/base",
       "_view_module_version": "1.2.0",
       "_view_name": "StyleView",
       "description_width": ""
      }
     },
     "28f82c7890974aafbd5b8db170e016aa": {
      "model_module": "@jupyter-widgets/controls",
      "model_module_version": "1.5.0",
      "model_name": "ProgressStyleModel",
      "state": {
       "_model_module": "@jupyter-widgets/controls",
       "_model_module_version": "1.5.0",
       "_model_name": "ProgressStyleModel",
       "_view_count": null,
       "_view_module": "@jupyter-widgets/base",
       "_view_module_version": "1.2.0",
       "_view_name": "StyleView",
       "bar_color": null,
       "description_width": ""
      }
     },
     "2a49768eb0734913b8d2d9aea8900d23": {
      "model_module": "@jupyter-widgets/controls",
      "model_module_version": "1.5.0",
      "model_name": "HBoxModel",
      "state": {
       "_dom_classes": [],
       "_model_module": "@jupyter-widgets/controls",
       "_model_module_version": "1.5.0",
       "_model_name": "HBoxModel",
       "_view_count": null,
       "_view_module": "@jupyter-widgets/controls",
       "_view_module_version": "1.5.0",
       "_view_name": "HBoxView",
       "box_style": "",
       "children": [
        "IPY_MODEL_834e88698ad44f77931de02aa9dba9bf",
        "IPY_MODEL_7b69cf484f6446eb9c8818e1adf0a14a",
        "IPY_MODEL_eb17d24cbc4c42c4b5b66b08ecfd5ec2"
       ],
       "layout": "IPY_MODEL_3c8265c04a2145d2a1704743013a1306"
      }
     },
     "2b792060f1764ab0a142f13a232fe273": {
      "model_module": "@jupyter-widgets/base",
      "model_module_version": "1.2.0",
      "model_name": "LayoutModel",
      "state": {
       "_model_module": "@jupyter-widgets/base",
       "_model_module_version": "1.2.0",
       "_model_name": "LayoutModel",
       "_view_count": null,
       "_view_module": "@jupyter-widgets/base",
       "_view_module_version": "1.2.0",
       "_view_name": "LayoutView",
       "align_content": null,
       "align_items": null,
       "align_self": null,
       "border": null,
       "bottom": null,
       "display": null,
       "flex": null,
       "flex_flow": null,
       "grid_area": null,
       "grid_auto_columns": null,
       "grid_auto_flow": null,
       "grid_auto_rows": null,
       "grid_column": null,
       "grid_gap": null,
       "grid_row": null,
       "grid_template_areas": null,
       "grid_template_columns": null,
       "grid_template_rows": null,
       "height": null,
       "justify_content": null,
       "justify_items": null,
       "left": null,
       "margin": null,
       "max_height": null,
       "max_width": null,
       "min_height": null,
       "min_width": null,
       "object_fit": null,
       "object_position": null,
       "order": null,
       "overflow": null,
       "overflow_x": null,
       "overflow_y": null,
       "padding": null,
       "right": null,
       "top": null,
       "visibility": null,
       "width": null
      }
     },
     "3004c94fca2a4786b30df20462d9b631": {
      "model_module": "@jupyter-widgets/controls",
      "model_module_version": "1.5.0",
      "model_name": "ProgressStyleModel",
      "state": {
       "_model_module": "@jupyter-widgets/controls",
       "_model_module_version": "1.5.0",
       "_model_name": "ProgressStyleModel",
       "_view_count": null,
       "_view_module": "@jupyter-widgets/base",
       "_view_module_version": "1.2.0",
       "_view_name": "StyleView",
       "bar_color": null,
       "description_width": ""
      }
     },
     "33b68b38ae2d45eaa175f4f5ec4cd8de": {
      "model_module": "@jupyter-widgets/base",
      "model_module_version": "1.2.0",
      "model_name": "LayoutModel",
      "state": {
       "_model_module": "@jupyter-widgets/base",
       "_model_module_version": "1.2.0",
       "_model_name": "LayoutModel",
       "_view_count": null,
       "_view_module": "@jupyter-widgets/base",
       "_view_module_version": "1.2.0",
       "_view_name": "LayoutView",
       "align_content": null,
       "align_items": null,
       "align_self": null,
       "border": null,
       "bottom": null,
       "display": null,
       "flex": null,
       "flex_flow": null,
       "grid_area": null,
       "grid_auto_columns": null,
       "grid_auto_flow": null,
       "grid_auto_rows": null,
       "grid_column": null,
       "grid_gap": null,
       "grid_row": null,
       "grid_template_areas": null,
       "grid_template_columns": null,
       "grid_template_rows": null,
       "height": null,
       "justify_content": null,
       "justify_items": null,
       "left": null,
       "margin": null,
       "max_height": null,
       "max_width": null,
       "min_height": null,
       "min_width": null,
       "object_fit": null,
       "object_position": null,
       "order": null,
       "overflow": null,
       "overflow_x": null,
       "overflow_y": null,
       "padding": null,
       "right": null,
       "top": null,
       "visibility": null,
       "width": null
      }
     },
     "3c8265c04a2145d2a1704743013a1306": {
      "model_module": "@jupyter-widgets/base",
      "model_module_version": "1.2.0",
      "model_name": "LayoutModel",
      "state": {
       "_model_module": "@jupyter-widgets/base",
       "_model_module_version": "1.2.0",
       "_model_name": "LayoutModel",
       "_view_count": null,
       "_view_module": "@jupyter-widgets/base",
       "_view_module_version": "1.2.0",
       "_view_name": "LayoutView",
       "align_content": null,
       "align_items": null,
       "align_self": null,
       "border": null,
       "bottom": null,
       "display": null,
       "flex": null,
       "flex_flow": null,
       "grid_area": null,
       "grid_auto_columns": null,
       "grid_auto_flow": null,
       "grid_auto_rows": null,
       "grid_column": null,
       "grid_gap": null,
       "grid_row": null,
       "grid_template_areas": null,
       "grid_template_columns": null,
       "grid_template_rows": null,
       "height": null,
       "justify_content": null,
       "justify_items": null,
       "left": null,
       "margin": null,
       "max_height": null,
       "max_width": null,
       "min_height": null,
       "min_width": null,
       "object_fit": null,
       "object_position": null,
       "order": null,
       "overflow": null,
       "overflow_x": null,
       "overflow_y": null,
       "padding": null,
       "right": null,
       "top": null,
       "visibility": null,
       "width": null
      }
     },
     "4572d25153e148f8a5bcb9f44655b04e": {
      "model_module": "@jupyter-widgets/controls",
      "model_module_version": "1.5.0",
      "model_name": "HTMLModel",
      "state": {
       "_dom_classes": [],
       "_model_module": "@jupyter-widgets/controls",
       "_model_module_version": "1.5.0",
       "_model_name": "HTMLModel",
       "_view_count": null,
       "_view_module": "@jupyter-widgets/controls",
       "_view_module_version": "1.5.0",
       "_view_name": "HTMLView",
       "description": "",
       "description_tooltip": null,
       "layout": "IPY_MODEL_05a9ef2d8d9949408500bc2404c5eb4c",
       "placeholder": "​",
       "style": "IPY_MODEL_d73601b2ebbe48eab0d002bffa5cfb70",
       "value": " 28.0/28.0 [00:00&lt;00:00, 1.52kB/s]"
      }
     },
     "45dc99c8e8f847c18ac6230f94e6b2bb": {
      "model_module": "@jupyter-widgets/controls",
      "model_module_version": "1.5.0",
      "model_name": "FloatProgressModel",
      "state": {
       "_dom_classes": [],
       "_model_module": "@jupyter-widgets/controls",
       "_model_module_version": "1.5.0",
       "_model_name": "FloatProgressModel",
       "_view_count": null,
       "_view_module": "@jupyter-widgets/controls",
       "_view_module_version": "1.5.0",
       "_view_name": "ProgressView",
       "bar_style": "success",
       "description": "",
       "description_tooltip": null,
       "layout": "IPY_MODEL_cacae152e87448469739e6e06f0da696",
       "max": 6438.0,
       "min": 0.0,
       "orientation": "horizontal",
       "style": "IPY_MODEL_3004c94fca2a4786b30df20462d9b631",
       "value": 6438.0
      }
     },
     "4a194e8fcd48483aa5b446fbcea70b80": {
      "model_module": "@jupyter-widgets/controls",
      "model_module_version": "1.5.0",
      "model_name": "HTMLModel",
      "state": {
       "_dom_classes": [],
       "_model_module": "@jupyter-widgets/controls",
       "_model_module_version": "1.5.0",
       "_model_name": "HTMLModel",
       "_view_count": null,
       "_view_module": "@jupyter-widgets/controls",
       "_view_module_version": "1.5.0",
       "_view_name": "HTMLView",
       "description": "",
       "description_tooltip": null,
       "layout": "IPY_MODEL_e8a0b0f808284d08806daf3cc1f78312",
       "placeholder": "​",
       "style": "IPY_MODEL_639a7cc71840466492edf5ea462be027",
       "value": " 570/570 [00:00&lt;00:00, 40.8kB/s]"
      }
     },
     "4ba4e73bf3a642b5a731fd3d87e683cd": {
      "model_module": "@jupyter-widgets/controls",
      "model_module_version": "1.5.0",
      "model_name": "HTMLModel",
      "state": {
       "_dom_classes": [],
       "_model_module": "@jupyter-widgets/controls",
       "_model_module_version": "1.5.0",
       "_model_name": "HTMLModel",
       "_view_count": null,
       "_view_module": "@jupyter-widgets/controls",
       "_view_module_version": "1.5.0",
       "_view_name": "HTMLView",
       "description": "",
       "description_tooltip": null,
       "layout": "IPY_MODEL_1a67e83f1bce466abb283d04e9acc257",
       "placeholder": "​",
       "style": "IPY_MODEL_6bc57f6e8b0e496686367d8e5fda8626",
       "value": " 15021/15021 [00:14&lt;00:00, 1028.58ex/s]"
      }
     },
     "4d9d2054b3d548afa4d2ccaf22d0a50e": {
      "model_module": "@jupyter-widgets/controls",
      "model_module_version": "1.5.0",
      "model_name": "HTMLModel",
      "state": {
       "_dom_classes": [],
       "_model_module": "@jupyter-widgets/controls",
       "_model_module_version": "1.5.0",
       "_model_name": "HTMLModel",
       "_view_count": null,
       "_view_module": "@jupyter-widgets/controls",
       "_view_module_version": "1.5.0",
       "_view_name": "HTMLView",
       "description": "",
       "description_tooltip": null,
       "layout": "IPY_MODEL_33b68b38ae2d45eaa175f4f5ec4cd8de",
       "placeholder": "​",
       "style": "IPY_MODEL_7e4fe48a1c124c60848c5a6752eaac57",
       "value": "Downloading (…)solve/main/vocab.txt: 100%"
      }
     },
     "5207b05fc70a4db0974a7e483e8e1710": {
      "model_module": "@jupyter-widgets/controls",
      "model_module_version": "1.5.0",
      "model_name": "FloatProgressModel",
      "state": {
       "_dom_classes": [],
       "_model_module": "@jupyter-widgets/controls",
       "_model_module_version": "1.5.0",
       "_model_name": "FloatProgressModel",
       "_view_count": null,
       "_view_module": "@jupyter-widgets/controls",
       "_view_module_version": "1.5.0",
       "_view_name": "ProgressView",
       "bar_style": "success",
       "description": "",
       "description_tooltip": null,
       "layout": "IPY_MODEL_7aa49b1b5308409aac4d1429a17d55d1",
       "max": 440449768.0,
       "min": 0.0,
       "orientation": "horizontal",
       "style": "IPY_MODEL_208036ddbe6d48c198d37a60192dbebb",
       "value": 440449768.0
      }
     },
     "54cd9266192c4b1a8a53bc38df85bf07": {
      "model_module": "@jupyter-widgets/controls",
      "model_module_version": "1.5.0",
      "model_name": "DescriptionStyleModel",
      "state": {
       "_model_module": "@jupyter-widgets/controls",
       "_model_module_version": "1.5.0",
       "_model_name": "DescriptionStyleModel",
       "_view_count": null,
       "_view_module": "@jupyter-widgets/base",
       "_view_module_version": "1.2.0",
       "_view_name": "StyleView",
       "description_width": ""
      }
     },
     "5c7f140b7eb542e9b0d936a9d4c5b66b": {
      "model_module": "@jupyter-widgets/controls",
      "model_module_version": "1.5.0",
      "model_name": "ProgressStyleModel",
      "state": {
       "_model_module": "@jupyter-widgets/controls",
       "_model_module_version": "1.5.0",
       "_model_name": "ProgressStyleModel",
       "_view_count": null,
       "_view_module": "@jupyter-widgets/base",
       "_view_module_version": "1.2.0",
       "_view_name": "StyleView",
       "bar_color": null,
       "description_width": ""
      }
     },
     "639a7cc71840466492edf5ea462be027": {
      "model_module": "@jupyter-widgets/controls",
      "model_module_version": "1.5.0",
      "model_name": "DescriptionStyleModel",
      "state": {
       "_model_module": "@jupyter-widgets/controls",
       "_model_module_version": "1.5.0",
       "_model_name": "DescriptionStyleModel",
       "_view_count": null,
       "_view_module": "@jupyter-widgets/base",
       "_view_module_version": "1.2.0",
       "_view_name": "StyleView",
       "description_width": ""
      }
     },
     "692453da302c43d7bd5f2368bb56a527": {
      "model_module": "@jupyter-widgets/base",
      "model_module_version": "1.2.0",
      "model_name": "LayoutModel",
      "state": {
       "_model_module": "@jupyter-widgets/base",
       "_model_module_version": "1.2.0",
       "_model_name": "LayoutModel",
       "_view_count": null,
       "_view_module": "@jupyter-widgets/base",
       "_view_module_version": "1.2.0",
       "_view_name": "LayoutView",
       "align_content": null,
       "align_items": null,
       "align_self": null,
       "border": null,
       "bottom": null,
       "display": null,
       "flex": null,
       "flex_flow": null,
       "grid_area": null,
       "grid_auto_columns": null,
       "grid_auto_flow": null,
       "grid_auto_rows": null,
       "grid_column": null,
       "grid_gap": null,
       "grid_row": null,
       "grid_template_areas": null,
       "grid_template_columns": null,
       "grid_template_rows": null,
       "height": null,
       "justify_content": null,
       "justify_items": null,
       "left": null,
       "margin": null,
       "max_height": null,
       "max_width": null,
       "min_height": null,
       "min_width": null,
       "object_fit": null,
       "object_position": null,
       "order": null,
       "overflow": null,
       "overflow_x": null,
       "overflow_y": null,
       "padding": null,
       "right": null,
       "top": null,
       "visibility": null,
       "width": null
      }
     },
     "6a05272638904f84b4673a1b663c0e15": {
      "model_module": "@jupyter-widgets/controls",
      "model_module_version": "1.5.0",
      "model_name": "FloatProgressModel",
      "state": {
       "_dom_classes": [],
       "_model_module": "@jupyter-widgets/controls",
       "_model_module_version": "1.5.0",
       "_model_name": "FloatProgressModel",
       "_view_count": null,
       "_view_module": "@jupyter-widgets/controls",
       "_view_module_version": "1.5.0",
       "_view_name": "ProgressView",
       "bar_style": "success",
       "description": "",
       "description_tooltip": null,
       "layout": "IPY_MODEL_097fae5228ab40cd94d442251ba751aa",
       "max": 19459.0,
       "min": 0.0,
       "orientation": "horizontal",
       "style": "IPY_MODEL_6ff816e3a3474c6bb65929961724b621",
       "value": 19459.0
      }
     },
     "6bc57f6e8b0e496686367d8e5fda8626": {
      "model_module": "@jupyter-widgets/controls",
      "model_module_version": "1.5.0",
      "model_name": "DescriptionStyleModel",
      "state": {
       "_model_module": "@jupyter-widgets/controls",
       "_model_module_version": "1.5.0",
       "_model_name": "DescriptionStyleModel",
       "_view_count": null,
       "_view_module": "@jupyter-widgets/base",
       "_view_module_version": "1.2.0",
       "_view_name": "StyleView",
       "description_width": ""
      }
     },
     "6f6b18d0aaca4ff1bbfad4d797a919d0": {
      "model_module": "@jupyter-widgets/controls",
      "model_module_version": "1.5.0",
      "model_name": "HTMLModel",
      "state": {
       "_dom_classes": [],
       "_model_module": "@jupyter-widgets/controls",
       "_model_module_version": "1.5.0",
       "_model_name": "HTMLModel",
       "_view_count": null,
       "_view_module": "@jupyter-widgets/controls",
       "_view_module_version": "1.5.0",
       "_view_name": "HTMLView",
       "description": "",
       "description_tooltip": null,
       "layout": "IPY_MODEL_986f8d04611c467db26d9359377393d6",
       "placeholder": "​",
       "style": "IPY_MODEL_d710e789ecba4083a6567dd277a5826b",
       "value": "100%"
      }
     },
     "6ff816e3a3474c6bb65929961724b621": {
      "model_module": "@jupyter-widgets/controls",
      "model_module_version": "1.5.0",
      "model_name": "ProgressStyleModel",
      "state": {
       "_model_module": "@jupyter-widgets/controls",
       "_model_module_version": "1.5.0",
       "_model_name": "ProgressStyleModel",
       "_view_count": null,
       "_view_module": "@jupyter-widgets/base",
       "_view_module_version": "1.2.0",
       "_view_name": "StyleView",
       "bar_color": null,
       "description_width": ""
      }
     },
     "703b9f69e2104179b1947e893513e181": {
      "model_module": "@jupyter-widgets/controls",
      "model_module_version": "1.5.0",
      "model_name": "DescriptionStyleModel",
      "state": {
       "_model_module": "@jupyter-widgets/controls",
       "_model_module_version": "1.5.0",
       "_model_name": "DescriptionStyleModel",
       "_view_count": null,
       "_view_module": "@jupyter-widgets/base",
       "_view_module_version": "1.2.0",
       "_view_name": "StyleView",
       "description_width": ""
      }
     },
     "705b26bccac44c188c9c9f3decc99334": {
      "model_module": "@jupyter-widgets/base",
      "model_module_version": "1.2.0",
      "model_name": "LayoutModel",
      "state": {
       "_model_module": "@jupyter-widgets/base",
       "_model_module_version": "1.2.0",
       "_model_name": "LayoutModel",
       "_view_count": null,
       "_view_module": "@jupyter-widgets/base",
       "_view_module_version": "1.2.0",
       "_view_name": "LayoutView",
       "align_content": null,
       "align_items": null,
       "align_self": null,
       "border": null,
       "bottom": null,
       "display": null,
       "flex": null,
       "flex_flow": null,
       "grid_area": null,
       "grid_auto_columns": null,
       "grid_auto_flow": null,
       "grid_auto_rows": null,
       "grid_column": null,
       "grid_gap": null,
       "grid_row": null,
       "grid_template_areas": null,
       "grid_template_columns": null,
       "grid_template_rows": null,
       "height": null,
       "justify_content": null,
       "justify_items": null,
       "left": null,
       "margin": null,
       "max_height": null,
       "max_width": null,
       "min_height": null,
       "min_width": null,
       "object_fit": null,
       "object_position": null,
       "order": null,
       "overflow": null,
       "overflow_x": null,
       "overflow_y": null,
       "padding": null,
       "right": null,
       "top": null,
       "visibility": null,
       "width": null
      }
     },
     "7066b8c4ec574b178ee89a1e36c49afe": {
      "model_module": "@jupyter-widgets/controls",
      "model_module_version": "1.5.0",
      "model_name": "ProgressStyleModel",
      "state": {
       "_model_module": "@jupyter-widgets/controls",
       "_model_module_version": "1.5.0",
       "_model_name": "ProgressStyleModel",
       "_view_count": null,
       "_view_module": "@jupyter-widgets/base",
       "_view_module_version": "1.2.0",
       "_view_name": "StyleView",
       "bar_color": null,
       "description_width": ""
      }
     },
     "70e911533c4247b29032792f88b3f231": {
      "model_module": "@jupyter-widgets/controls",
      "model_module_version": "1.5.0",
      "model_name": "HTMLModel",
      "state": {
       "_dom_classes": [],
       "_model_module": "@jupyter-widgets/controls",
       "_model_module_version": "1.5.0",
       "_model_name": "HTMLModel",
       "_view_count": null,
       "_view_module": "@jupyter-widgets/controls",
       "_view_module_version": "1.5.0",
       "_view_name": "HTMLView",
       "description": "",
       "description_tooltip": null,
       "layout": "IPY_MODEL_692453da302c43d7bd5f2368bb56a527",
       "placeholder": "​",
       "style": "IPY_MODEL_069f6f184ae145bdac3fc11515db607c",
       "value": "Downloading (…)okenizer_config.json: 100%"
      }
     },
     "7370aa89e8004f4c8ca5dd0095c466fa": {
      "model_module": "@jupyter-widgets/base",
      "model_module_version": "1.2.0",
      "model_name": "LayoutModel",
      "state": {
       "_model_module": "@jupyter-widgets/base",
       "_model_module_version": "1.2.0",
       "_model_name": "LayoutModel",
       "_view_count": null,
       "_view_module": "@jupyter-widgets/base",
       "_view_module_version": "1.2.0",
       "_view_name": "LayoutView",
       "align_content": null,
       "align_items": null,
       "align_self": null,
       "border": null,
       "bottom": null,
       "display": null,
       "flex": null,
       "flex_flow": null,
       "grid_area": null,
       "grid_auto_columns": null,
       "grid_auto_flow": null,
       "grid_auto_rows": null,
       "grid_column": null,
       "grid_gap": null,
       "grid_row": null,
       "grid_template_areas": null,
       "grid_template_columns": null,
       "grid_template_rows": null,
       "height": null,
       "justify_content": null,
       "justify_items": null,
       "left": null,
       "margin": null,
       "max_height": null,
       "max_width": null,
       "min_height": null,
       "min_width": null,
       "object_fit": null,
       "object_position": null,
       "order": null,
       "overflow": null,
       "overflow_x": null,
       "overflow_y": null,
       "padding": null,
       "right": null,
       "top": null,
       "visibility": null,
       "width": null
      }
     },
     "787244cfdbe742ceb2f3552e350404b6": {
      "model_module": "@jupyter-widgets/controls",
      "model_module_version": "1.5.0",
      "model_name": "HTMLModel",
      "state": {
       "_dom_classes": [],
       "_model_module": "@jupyter-widgets/controls",
       "_model_module_version": "1.5.0",
       "_model_name": "HTMLModel",
       "_view_count": null,
       "_view_module": "@jupyter-widgets/controls",
       "_view_module_version": "1.5.0",
       "_view_name": "HTMLView",
       "description": "",
       "description_tooltip": null,
       "layout": "IPY_MODEL_80c6c0ac81af4e139f94071761726e4a",
       "placeholder": "​",
       "style": "IPY_MODEL_54cd9266192c4b1a8a53bc38df85bf07",
       "value": " 6438/6438 [00:06&lt;00:00, 1020.52ex/s]"
      }
     },
     "7aa49b1b5308409aac4d1429a17d55d1": {
      "model_module": "@jupyter-widgets/base",
      "model_module_version": "1.2.0",
      "model_name": "LayoutModel",
      "state": {
       "_model_module": "@jupyter-widgets/base",
       "_model_module_version": "1.2.0",
       "_model_name": "LayoutModel",
       "_view_count": null,
       "_view_module": "@jupyter-widgets/base",
       "_view_module_version": "1.2.0",
       "_view_name": "LayoutView",
       "align_content": null,
       "align_items": null,
       "align_self": null,
       "border": null,
       "bottom": null,
       "display": null,
       "flex": null,
       "flex_flow": null,
       "grid_area": null,
       "grid_auto_columns": null,
       "grid_auto_flow": null,
       "grid_auto_rows": null,
       "grid_column": null,
       "grid_gap": null,
       "grid_row": null,
       "grid_template_areas": null,
       "grid_template_columns": null,
       "grid_template_rows": null,
       "height": null,
       "justify_content": null,
       "justify_items": null,
       "left": null,
       "margin": null,
       "max_height": null,
       "max_width": null,
       "min_height": null,
       "min_width": null,
       "object_fit": null,
       "object_position": null,
       "order": null,
       "overflow": null,
       "overflow_x": null,
       "overflow_y": null,
       "padding": null,
       "right": null,
       "top": null,
       "visibility": null,
       "width": null
      }
     },
     "7b69cf484f6446eb9c8818e1adf0a14a": {
      "model_module": "@jupyter-widgets/controls",
      "model_module_version": "1.5.0",
      "model_name": "FloatProgressModel",
      "state": {
       "_dom_classes": [],
       "_model_module": "@jupyter-widgets/controls",
       "_model_module_version": "1.5.0",
       "_model_name": "FloatProgressModel",
       "_view_count": null,
       "_view_module": "@jupyter-widgets/controls",
       "_view_module_version": "1.5.0",
       "_view_name": "ProgressView",
       "bar_style": "success",
       "description": "",
       "description_tooltip": null,
       "layout": "IPY_MODEL_ee448b994b93468eb2f926d054baef37",
       "max": 8339.0,
       "min": 0.0,
       "orientation": "horizontal",
       "style": "IPY_MODEL_5c7f140b7eb542e9b0d936a9d4c5b66b",
       "value": 8339.0
      }
     },
     "7cfe3d8c7440403596e8d2ab4ef99b69": {
      "model_module": "@jupyter-widgets/controls",
      "model_module_version": "1.5.0",
      "model_name": "FloatProgressModel",
      "state": {
       "_dom_classes": [],
       "_model_module": "@jupyter-widgets/controls",
       "_model_module_version": "1.5.0",
       "_model_name": "FloatProgressModel",
       "_view_count": null,
       "_view_module": "@jupyter-widgets/controls",
       "_view_module_version": "1.5.0",
       "_view_name": "ProgressView",
       "bar_style": "success",
       "description": "",
       "description_tooltip": null,
       "layout": "IPY_MODEL_1f9e8e956d2d4cc9a30e55eef55eae91",
       "max": 231508.0,
       "min": 0.0,
       "orientation": "horizontal",
       "style": "IPY_MODEL_7066b8c4ec574b178ee89a1e36c49afe",
       "value": 231508.0
      }
     },
     "7d015a3e49b94af7b99c7422cf9a1464": {
      "model_module": "@jupyter-widgets/base",
      "model_module_version": "1.2.0",
      "model_name": "LayoutModel",
      "state": {
       "_model_module": "@jupyter-widgets/base",
       "_model_module_version": "1.2.0",
       "_model_name": "LayoutModel",
       "_view_count": null,
       "_view_module": "@jupyter-widgets/base",
       "_view_module_version": "1.2.0",
       "_view_name": "LayoutView",
       "align_content": null,
       "align_items": null,
       "align_self": null,
       "border": null,
       "bottom": null,
       "display": null,
       "flex": null,
       "flex_flow": null,
       "grid_area": null,
       "grid_auto_columns": null,
       "grid_auto_flow": null,
       "grid_auto_rows": null,
       "grid_column": null,
       "grid_gap": null,
       "grid_row": null,
       "grid_template_areas": null,
       "grid_template_columns": null,
       "grid_template_rows": null,
       "height": null,
       "justify_content": null,
       "justify_items": null,
       "left": null,
       "margin": null,
       "max_height": null,
       "max_width": null,
       "min_height": null,
       "min_width": null,
       "object_fit": null,
       "object_position": null,
       "order": null,
       "overflow": null,
       "overflow_x": null,
       "overflow_y": null,
       "padding": null,
       "right": null,
       "top": null,
       "visibility": null,
       "width": null
      }
     },
     "7e4fe48a1c124c60848c5a6752eaac57": {
      "model_module": "@jupyter-widgets/controls",
      "model_module_version": "1.5.0",
      "model_name": "DescriptionStyleModel",
      "state": {
       "_model_module": "@jupyter-widgets/controls",
       "_model_module_version": "1.5.0",
       "_model_name": "DescriptionStyleModel",
       "_view_count": null,
       "_view_module": "@jupyter-widgets/base",
       "_view_module_version": "1.2.0",
       "_view_name": "StyleView",
       "description_width": ""
      }
     },
     "80c6c0ac81af4e139f94071761726e4a": {
      "model_module": "@jupyter-widgets/base",
      "model_module_version": "1.2.0",
      "model_name": "LayoutModel",
      "state": {
       "_model_module": "@jupyter-widgets/base",
       "_model_module_version": "1.2.0",
       "_model_name": "LayoutModel",
       "_view_count": null,
       "_view_module": "@jupyter-widgets/base",
       "_view_module_version": "1.2.0",
       "_view_name": "LayoutView",
       "align_content": null,
       "align_items": null,
       "align_self": null,
       "border": null,
       "bottom": null,
       "display": null,
       "flex": null,
       "flex_flow": null,
       "grid_area": null,
       "grid_auto_columns": null,
       "grid_auto_flow": null,
       "grid_auto_rows": null,
       "grid_column": null,
       "grid_gap": null,
       "grid_row": null,
       "grid_template_areas": null,
       "grid_template_columns": null,
       "grid_template_rows": null,
       "height": null,
       "justify_content": null,
       "justify_items": null,
       "left": null,
       "margin": null,
       "max_height": null,
       "max_width": null,
       "min_height": null,
       "min_width": null,
       "object_fit": null,
       "object_position": null,
       "order": null,
       "overflow": null,
       "overflow_x": null,
       "overflow_y": null,
       "padding": null,
       "right": null,
       "top": null,
       "visibility": null,
       "width": null
      }
     },
     "834e88698ad44f77931de02aa9dba9bf": {
      "model_module": "@jupyter-widgets/controls",
      "model_module_version": "1.5.0",
      "model_name": "HTMLModel",
      "state": {
       "_dom_classes": [],
       "_model_module": "@jupyter-widgets/controls",
       "_model_module_version": "1.5.0",
       "_model_name": "HTMLModel",
       "_view_count": null,
       "_view_module": "@jupyter-widgets/controls",
       "_view_module_version": "1.5.0",
       "_view_name": "HTMLView",
       "description": "",
       "description_tooltip": null,
       "layout": "IPY_MODEL_acf609c84a384f149729d6db335e4c5b",
       "placeholder": "​",
       "style": "IPY_MODEL_959ea1a5f507483cb80819034ccad211",
       "value": "100%"
      }
     },
     "86defdd0c9344905b4b6708d3741448f": {
      "model_module": "@jupyter-widgets/base",
      "model_module_version": "1.2.0",
      "model_name": "LayoutModel",
      "state": {
       "_model_module": "@jupyter-widgets/base",
       "_model_module_version": "1.2.0",
       "_model_name": "LayoutModel",
       "_view_count": null,
       "_view_module": "@jupyter-widgets/base",
       "_view_module_version": "1.2.0",
       "_view_name": "LayoutView",
       "align_content": null,
       "align_items": null,
       "align_self": null,
       "border": null,
       "bottom": null,
       "display": null,
       "flex": null,
       "flex_flow": null,
       "grid_area": null,
       "grid_auto_columns": null,
       "grid_auto_flow": null,
       "grid_auto_rows": null,
       "grid_column": null,
       "grid_gap": null,
       "grid_row": null,
       "grid_template_areas": null,
       "grid_template_columns": null,
       "grid_template_rows": null,
       "height": null,
       "justify_content": null,
       "justify_items": null,
       "left": null,
       "margin": null,
       "max_height": null,
       "max_width": null,
       "min_height": null,
       "min_width": null,
       "object_fit": null,
       "object_position": null,
       "order": null,
       "overflow": null,
       "overflow_x": null,
       "overflow_y": null,
       "padding": null,
       "right": null,
       "top": null,
       "visibility": null,
       "width": null
      }
     },
     "8831b5a1c9b64524a96696b33aad15ad": {
      "model_module": "@jupyter-widgets/controls",
      "model_module_version": "1.5.0",
      "model_name": "DescriptionStyleModel",
      "state": {
       "_model_module": "@jupyter-widgets/controls",
       "_model_module_version": "1.5.0",
       "_model_name": "DescriptionStyleModel",
       "_view_count": null,
       "_view_module": "@jupyter-widgets/base",
       "_view_module_version": "1.2.0",
       "_view_name": "StyleView",
       "description_width": ""
      }
     },
     "886982ac5eff44479fed530cde150715": {
      "model_module": "@jupyter-widgets/controls",
      "model_module_version": "1.5.0",
      "model_name": "ProgressStyleModel",
      "state": {
       "_model_module": "@jupyter-widgets/controls",
       "_model_module_version": "1.5.0",
       "_model_name": "ProgressStyleModel",
       "_view_count": null,
       "_view_module": "@jupyter-widgets/base",
       "_view_module_version": "1.2.0",
       "_view_name": "StyleView",
       "bar_color": null,
       "description_width": ""
      }
     },
     "89743b10c11146c7acbbd66f84dc7430": {
      "model_module": "@jupyter-widgets/base",
      "model_module_version": "1.2.0",
      "model_name": "LayoutModel",
      "state": {
       "_model_module": "@jupyter-widgets/base",
       "_model_module_version": "1.2.0",
       "_model_name": "LayoutModel",
       "_view_count": null,
       "_view_module": "@jupyter-widgets/base",
       "_view_module_version": "1.2.0",
       "_view_name": "LayoutView",
       "align_content": null,
       "align_items": null,
       "align_self": null,
       "border": null,
       "bottom": null,
       "display": null,
       "flex": null,
       "flex_flow": null,
       "grid_area": null,
       "grid_auto_columns": null,
       "grid_auto_flow": null,
       "grid_auto_rows": null,
       "grid_column": null,
       "grid_gap": null,
       "grid_row": null,
       "grid_template_areas": null,
       "grid_template_columns": null,
       "grid_template_rows": null,
       "height": null,
       "justify_content": null,
       "justify_items": null,
       "left": null,
       "margin": null,
       "max_height": null,
       "max_width": null,
       "min_height": null,
       "min_width": null,
       "object_fit": null,
       "object_position": null,
       "order": null,
       "overflow": null,
       "overflow_x": null,
       "overflow_y": null,
       "padding": null,
       "right": null,
       "top": null,
       "visibility": null,
       "width": null
      }
     },
     "8b1821c39d6b40138d35041a041310ae": {
      "model_module": "@jupyter-widgets/controls",
      "model_module_version": "1.5.0",
      "model_name": "HTMLModel",
      "state": {
       "_dom_classes": [],
       "_model_module": "@jupyter-widgets/controls",
       "_model_module_version": "1.5.0",
       "_model_name": "HTMLModel",
       "_view_count": null,
       "_view_module": "@jupyter-widgets/controls",
       "_view_module_version": "1.5.0",
       "_view_name": "HTMLView",
       "description": "",
       "description_tooltip": null,
       "layout": "IPY_MODEL_bd8403dd208e48bb9eeca86fea44d782",
       "placeholder": "​",
       "style": "IPY_MODEL_240820257cc346ce959e3660ee231e72",
       "value": " 232k/232k [00:00&lt;00:00, 1.77MB/s]"
      }
     },
     "915bd75fdbc64d878076753c832ef14f": {
      "model_module": "@jupyter-widgets/controls",
      "model_module_version": "1.5.0",
      "model_name": "HBoxModel",
      "state": {
       "_dom_classes": [],
       "_model_module": "@jupyter-widgets/controls",
       "_model_module_version": "1.5.0",
       "_model_name": "HBoxModel",
       "_view_count": null,
       "_view_module": "@jupyter-widgets/controls",
       "_view_module_version": "1.5.0",
       "_view_name": "HBoxView",
       "box_style": "",
       "children": [
        "IPY_MODEL_b167096ec35247238bcd5755f46921ce",
        "IPY_MODEL_f93f21678a8746c489148f3e15ac4f07",
        "IPY_MODEL_4a194e8fcd48483aa5b446fbcea70b80"
       ],
       "layout": "IPY_MODEL_f7472d8adaf54fbeba0ef98001a185e5"
      }
     },
     "91975c3d79ba40c0a4ba16c04e28ea9d": {
      "model_module": "@jupyter-widgets/controls",
      "model_module_version": "1.5.0",
      "model_name": "HBoxModel",
      "state": {
       "_dom_classes": [],
       "_model_module": "@jupyter-widgets/controls",
       "_model_module_version": "1.5.0",
       "_model_name": "HBoxModel",
       "_view_count": null,
       "_view_module": "@jupyter-widgets/controls",
       "_view_module_version": "1.5.0",
       "_view_name": "HBoxView",
       "box_style": "",
       "children": [
        "IPY_MODEL_70e911533c4247b29032792f88b3f231",
        "IPY_MODEL_b51c61404a3d462dac347710ef929742",
        "IPY_MODEL_4572d25153e148f8a5bcb9f44655b04e"
       ],
       "layout": "IPY_MODEL_fbc9247c516e4c75add5b045e19f921a"
      }
     },
     "924929685ae1497eac0a6ab9186581c6": {
      "model_module": "@jupyter-widgets/base",
      "model_module_version": "1.2.0",
      "model_name": "LayoutModel",
      "state": {
       "_model_module": "@jupyter-widgets/base",
       "_model_module_version": "1.2.0",
       "_model_name": "LayoutModel",
       "_view_count": null,
       "_view_module": "@jupyter-widgets/base",
       "_view_module_version": "1.2.0",
       "_view_name": "LayoutView",
       "align_content": null,
       "align_items": null,
       "align_self": null,
       "border": null,
       "bottom": null,
       "display": null,
       "flex": null,
       "flex_flow": null,
       "grid_area": null,
       "grid_auto_columns": null,
       "grid_auto_flow": null,
       "grid_auto_rows": null,
       "grid_column": null,
       "grid_gap": null,
       "grid_row": null,
       "grid_template_areas": null,
       "grid_template_columns": null,
       "grid_template_rows": null,
       "height": null,
       "justify_content": null,
       "justify_items": null,
       "left": null,
       "margin": null,
       "max_height": null,
       "max_width": null,
       "min_height": null,
       "min_width": null,
       "object_fit": null,
       "object_position": null,
       "order": null,
       "overflow": null,
       "overflow_x": null,
       "overflow_y": null,
       "padding": null,
       "right": null,
       "top": null,
       "visibility": null,
       "width": null
      }
     },
     "94b987764ead4828a9fad654f2f8a3d1": {
      "model_module": "@jupyter-widgets/controls",
      "model_module_version": "1.5.0",
      "model_name": "HBoxModel",
      "state": {
       "_dom_classes": [],
       "_model_module": "@jupyter-widgets/controls",
       "_model_module_version": "1.5.0",
       "_model_name": "HBoxModel",
       "_view_count": null,
       "_view_module": "@jupyter-widgets/controls",
       "_view_module_version": "1.5.0",
       "_view_name": "HBoxView",
       "box_style": "",
       "children": [
        "IPY_MODEL_6f6b18d0aaca4ff1bbfad4d797a919d0",
        "IPY_MODEL_cbe07108d0d34e5086652ad6192806f7",
        "IPY_MODEL_4ba4e73bf3a642b5a731fd3d87e683cd"
       ],
       "layout": "IPY_MODEL_924929685ae1497eac0a6ab9186581c6"
      }
     },
     "959ea1a5f507483cb80819034ccad211": {
      "model_module": "@jupyter-widgets/controls",
      "model_module_version": "1.5.0",
      "model_name": "DescriptionStyleModel",
      "state": {
       "_model_module": "@jupyter-widgets/controls",
       "_model_module_version": "1.5.0",
       "_model_name": "DescriptionStyleModel",
       "_view_count": null,
       "_view_module": "@jupyter-widgets/base",
       "_view_module_version": "1.2.0",
       "_view_name": "StyleView",
       "description_width": ""
      }
     },
     "973818fff2804f449ba7d5c7667f078c": {
      "model_module": "@jupyter-widgets/controls",
      "model_module_version": "1.5.0",
      "model_name": "HBoxModel",
      "state": {
       "_dom_classes": [],
       "_model_module": "@jupyter-widgets/controls",
       "_model_module_version": "1.5.0",
       "_model_name": "HBoxModel",
       "_view_count": null,
       "_view_module": "@jupyter-widgets/controls",
       "_view_module_version": "1.5.0",
       "_view_name": "HBoxView",
       "box_style": "",
       "children": [
        "IPY_MODEL_4d9d2054b3d548afa4d2ccaf22d0a50e",
        "IPY_MODEL_7cfe3d8c7440403596e8d2ab4ef99b69",
        "IPY_MODEL_8b1821c39d6b40138d35041a041310ae"
       ],
       "layout": "IPY_MODEL_9ed0f1953df14a02bfa0465858140347"
      }
     },
     "986f8d04611c467db26d9359377393d6": {
      "model_module": "@jupyter-widgets/base",
      "model_module_version": "1.2.0",
      "model_name": "LayoutModel",
      "state": {
       "_model_module": "@jupyter-widgets/base",
       "_model_module_version": "1.2.0",
       "_model_name": "LayoutModel",
       "_view_count": null,
       "_view_module": "@jupyter-widgets/base",
       "_view_module_version": "1.2.0",
       "_view_name": "LayoutView",
       "align_content": null,
       "align_items": null,
       "align_self": null,
       "border": null,
       "bottom": null,
       "display": null,
       "flex": null,
       "flex_flow": null,
       "grid_area": null,
       "grid_auto_columns": null,
       "grid_auto_flow": null,
       "grid_auto_rows": null,
       "grid_column": null,
       "grid_gap": null,
       "grid_row": null,
       "grid_template_areas": null,
       "grid_template_columns": null,
       "grid_template_rows": null,
       "height": null,
       "justify_content": null,
       "justify_items": null,
       "left": null,
       "margin": null,
       "max_height": null,
       "max_width": null,
       "min_height": null,
       "min_width": null,
       "object_fit": null,
       "object_position": null,
       "order": null,
       "overflow": null,
       "overflow_x": null,
       "overflow_y": null,
       "padding": null,
       "right": null,
       "top": null,
       "visibility": null,
       "width": null
      }
     },
     "991eb976880a4c7aa63f61acba0e7917": {
      "model_module": "@jupyter-widgets/controls",
      "model_module_version": "1.5.0",
      "model_name": "DescriptionStyleModel",
      "state": {
       "_model_module": "@jupyter-widgets/controls",
       "_model_module_version": "1.5.0",
       "_model_name": "DescriptionStyleModel",
       "_view_count": null,
       "_view_module": "@jupyter-widgets/base",
       "_view_module_version": "1.2.0",
       "_view_name": "StyleView",
       "description_width": ""
      }
     },
     "9ed0f1953df14a02bfa0465858140347": {
      "model_module": "@jupyter-widgets/base",
      "model_module_version": "1.2.0",
      "model_name": "LayoutModel",
      "state": {
       "_model_module": "@jupyter-widgets/base",
       "_model_module_version": "1.2.0",
       "_model_name": "LayoutModel",
       "_view_count": null,
       "_view_module": "@jupyter-widgets/base",
       "_view_module_version": "1.2.0",
       "_view_name": "LayoutView",
       "align_content": null,
       "align_items": null,
       "align_self": null,
       "border": null,
       "bottom": null,
       "display": null,
       "flex": null,
       "flex_flow": null,
       "grid_area": null,
       "grid_auto_columns": null,
       "grid_auto_flow": null,
       "grid_auto_rows": null,
       "grid_column": null,
       "grid_gap": null,
       "grid_row": null,
       "grid_template_areas": null,
       "grid_template_columns": null,
       "grid_template_rows": null,
       "height": null,
       "justify_content": null,
       "justify_items": null,
       "left": null,
       "margin": null,
       "max_height": null,
       "max_width": null,
       "min_height": null,
       "min_width": null,
       "object_fit": null,
       "object_position": null,
       "order": null,
       "overflow": null,
       "overflow_x": null,
       "overflow_y": null,
       "padding": null,
       "right": null,
       "top": null,
       "visibility": null,
       "width": null
      }
     },
     "9fd9dfbbb02a4bb49e6a6a40db2b9464": {
      "model_module": "@jupyter-widgets/controls",
      "model_module_version": "1.5.0",
      "model_name": "HBoxModel",
      "state": {
       "_dom_classes": [],
       "_model_module": "@jupyter-widgets/controls",
       "_model_module_version": "1.5.0",
       "_model_name": "HBoxModel",
       "_view_count": null,
       "_view_module": "@jupyter-widgets/controls",
       "_view_module_version": "1.5.0",
       "_view_name": "HBoxView",
       "box_style": "",
       "children": [
        "IPY_MODEL_f612e791e47d417fa65e1030a2af329c",
        "IPY_MODEL_5207b05fc70a4db0974a7e483e8e1710",
        "IPY_MODEL_0a6c52332e9c40c79db946a0aba55569"
       ],
       "layout": "IPY_MODEL_89743b10c11146c7acbbd66f84dc7430"
      }
     },
     "acf609c84a384f149729d6db335e4c5b": {
      "model_module": "@jupyter-widgets/base",
      "model_module_version": "1.2.0",
      "model_name": "LayoutModel",
      "state": {
       "_model_module": "@jupyter-widgets/base",
       "_model_module_version": "1.2.0",
       "_model_name": "LayoutModel",
       "_view_count": null,
       "_view_module": "@jupyter-widgets/base",
       "_view_module_version": "1.2.0",
       "_view_name": "LayoutView",
       "align_content": null,
       "align_items": null,
       "align_self": null,
       "border": null,
       "bottom": null,
       "display": null,
       "flex": null,
       "flex_flow": null,
       "grid_area": null,
       "grid_auto_columns": null,
       "grid_auto_flow": null,
       "grid_auto_rows": null,
       "grid_column": null,
       "grid_gap": null,
       "grid_row": null,
       "grid_template_areas": null,
       "grid_template_columns": null,
       "grid_template_rows": null,
       "height": null,
       "justify_content": null,
       "justify_items": null,
       "left": null,
       "margin": null,
       "max_height": null,
       "max_width": null,
       "min_height": null,
       "min_width": null,
       "object_fit": null,
       "object_position": null,
       "order": null,
       "overflow": null,
       "overflow_x": null,
       "overflow_y": null,
       "padding": null,
       "right": null,
       "top": null,
       "visibility": null,
       "width": null
      }
     },
     "ad3eeabd24e649e3838222d5dfe209fb": {
      "model_module": "@jupyter-widgets/controls",
      "model_module_version": "1.5.0",
      "model_name": "HBoxModel",
      "state": {
       "_dom_classes": [],
       "_model_module": "@jupyter-widgets/controls",
       "_model_module_version": "1.5.0",
       "_model_name": "HBoxModel",
       "_view_count": null,
       "_view_module": "@jupyter-widgets/controls",
       "_view_module_version": "1.5.0",
       "_view_name": "HBoxView",
       "box_style": "",
       "children": [
        "IPY_MODEL_244916094cff463c89beec9497837e51",
        "IPY_MODEL_45dc99c8e8f847c18ac6230f94e6b2bb",
        "IPY_MODEL_787244cfdbe742ceb2f3552e350404b6"
       ],
       "layout": "IPY_MODEL_7d015a3e49b94af7b99c7422cf9a1464"
      }
     },
     "b167096ec35247238bcd5755f46921ce": {
      "model_module": "@jupyter-widgets/controls",
      "model_module_version": "1.5.0",
      "model_name": "HTMLModel",
      "state": {
       "_dom_classes": [],
       "_model_module": "@jupyter-widgets/controls",
       "_model_module_version": "1.5.0",
       "_model_name": "HTMLModel",
       "_view_count": null,
       "_view_module": "@jupyter-widgets/controls",
       "_view_module_version": "1.5.0",
       "_view_name": "HTMLView",
       "description": "",
       "description_tooltip": null,
       "layout": "IPY_MODEL_2b792060f1764ab0a142f13a232fe273",
       "placeholder": "​",
       "style": "IPY_MODEL_bd892968ed2043749e28a571cefaa2e4",
       "value": "Downloading (…)lve/main/config.json: 100%"
      }
     },
     "b51c61404a3d462dac347710ef929742": {
      "model_module": "@jupyter-widgets/controls",
      "model_module_version": "1.5.0",
      "model_name": "FloatProgressModel",
      "state": {
       "_dom_classes": [],
       "_model_module": "@jupyter-widgets/controls",
       "_model_module_version": "1.5.0",
       "_model_name": "FloatProgressModel",
       "_view_count": null,
       "_view_module": "@jupyter-widgets/controls",
       "_view_module_version": "1.5.0",
       "_view_name": "ProgressView",
       "bar_style": "success",
       "description": "",
       "description_tooltip": null,
       "layout": "IPY_MODEL_16db85331bab4ebda525ddd284753afb",
       "max": 28.0,
       "min": 0.0,
       "orientation": "horizontal",
       "style": "IPY_MODEL_28f82c7890974aafbd5b8db170e016aa",
       "value": 28.0
      }
     },
     "bd8403dd208e48bb9eeca86fea44d782": {
      "model_module": "@jupyter-widgets/base",
      "model_module_version": "1.2.0",
      "model_name": "LayoutModel",
      "state": {
       "_model_module": "@jupyter-widgets/base",
       "_model_module_version": "1.2.0",
       "_model_name": "LayoutModel",
       "_view_count": null,
       "_view_module": "@jupyter-widgets/base",
       "_view_module_version": "1.2.0",
       "_view_name": "LayoutView",
       "align_content": null,
       "align_items": null,
       "align_self": null,
       "border": null,
       "bottom": null,
       "display": null,
       "flex": null,
       "flex_flow": null,
       "grid_area": null,
       "grid_auto_columns": null,
       "grid_auto_flow": null,
       "grid_auto_rows": null,
       "grid_column": null,
       "grid_gap": null,
       "grid_row": null,
       "grid_template_areas": null,
       "grid_template_columns": null,
       "grid_template_rows": null,
       "height": null,
       "justify_content": null,
       "justify_items": null,
       "left": null,
       "margin": null,
       "max_height": null,
       "max_width": null,
       "min_height": null,
       "min_width": null,
       "object_fit": null,
       "object_position": null,
       "order": null,
       "overflow": null,
       "overflow_x": null,
       "overflow_y": null,
       "padding": null,
       "right": null,
       "top": null,
       "visibility": null,
       "width": null
      }
     },
     "bd892968ed2043749e28a571cefaa2e4": {
      "model_module": "@jupyter-widgets/controls",
      "model_module_version": "1.5.0",
      "model_name": "DescriptionStyleModel",
      "state": {
       "_model_module": "@jupyter-widgets/controls",
       "_model_module_version": "1.5.0",
       "_model_name": "DescriptionStyleModel",
       "_view_count": null,
       "_view_module": "@jupyter-widgets/base",
       "_view_module_version": "1.2.0",
       "_view_name": "StyleView",
       "description_width": ""
      }
     },
     "c17fcad2d5fc4bf4b37a96f4515f64d9": {
      "model_module": "@jupyter-widgets/base",
      "model_module_version": "1.2.0",
      "model_name": "LayoutModel",
      "state": {
       "_model_module": "@jupyter-widgets/base",
       "_model_module_version": "1.2.0",
       "_model_name": "LayoutModel",
       "_view_count": null,
       "_view_module": "@jupyter-widgets/base",
       "_view_module_version": "1.2.0",
       "_view_name": "LayoutView",
       "align_content": null,
       "align_items": null,
       "align_self": null,
       "border": null,
       "bottom": null,
       "display": null,
       "flex": null,
       "flex_flow": null,
       "grid_area": null,
       "grid_auto_columns": null,
       "grid_auto_flow": null,
       "grid_auto_rows": null,
       "grid_column": null,
       "grid_gap": null,
       "grid_row": null,
       "grid_template_areas": null,
       "grid_template_columns": null,
       "grid_template_rows": null,
       "height": null,
       "justify_content": null,
       "justify_items": null,
       "left": null,
       "margin": null,
       "max_height": null,
       "max_width": null,
       "min_height": null,
       "min_width": null,
       "object_fit": null,
       "object_position": null,
       "order": null,
       "overflow": null,
       "overflow_x": null,
       "overflow_y": null,
       "padding": null,
       "right": null,
       "top": null,
       "visibility": null,
       "width": null
      }
     },
     "cacae152e87448469739e6e06f0da696": {
      "model_module": "@jupyter-widgets/base",
      "model_module_version": "1.2.0",
      "model_name": "LayoutModel",
      "state": {
       "_model_module": "@jupyter-widgets/base",
       "_model_module_version": "1.2.0",
       "_model_name": "LayoutModel",
       "_view_count": null,
       "_view_module": "@jupyter-widgets/base",
       "_view_module_version": "1.2.0",
       "_view_name": "LayoutView",
       "align_content": null,
       "align_items": null,
       "align_self": null,
       "border": null,
       "bottom": null,
       "display": null,
       "flex": null,
       "flex_flow": null,
       "grid_area": null,
       "grid_auto_columns": null,
       "grid_auto_flow": null,
       "grid_auto_rows": null,
       "grid_column": null,
       "grid_gap": null,
       "grid_row": null,
       "grid_template_areas": null,
       "grid_template_columns": null,
       "grid_template_rows": null,
       "height": null,
       "justify_content": null,
       "justify_items": null,
       "left": null,
       "margin": null,
       "max_height": null,
       "max_width": null,
       "min_height": null,
       "min_width": null,
       "object_fit": null,
       "object_position": null,
       "order": null,
       "overflow": null,
       "overflow_x": null,
       "overflow_y": null,
       "padding": null,
       "right": null,
       "top": null,
       "visibility": null,
       "width": null
      }
     },
     "cbe07108d0d34e5086652ad6192806f7": {
      "model_module": "@jupyter-widgets/controls",
      "model_module_version": "1.5.0",
      "model_name": "FloatProgressModel",
      "state": {
       "_dom_classes": [],
       "_model_module": "@jupyter-widgets/controls",
       "_model_module_version": "1.5.0",
       "_model_name": "FloatProgressModel",
       "_view_count": null,
       "_view_module": "@jupyter-widgets/controls",
       "_view_module_version": "1.5.0",
       "_view_name": "ProgressView",
       "bar_style": "success",
       "description": "",
       "description_tooltip": null,
       "layout": "IPY_MODEL_f05e0f4eac2b4f7da4c0370e6b5a466d",
       "max": 15021.0,
       "min": 0.0,
       "orientation": "horizontal",
       "style": "IPY_MODEL_886982ac5eff44479fed530cde150715",
       "value": 15021.0
      }
     },
     "d16597e02eb8427f9dd11504ca974b70": {
      "model_module": "@jupyter-widgets/controls",
      "model_module_version": "1.5.0",
      "model_name": "ProgressStyleModel",
      "state": {
       "_model_module": "@jupyter-widgets/controls",
       "_model_module_version": "1.5.0",
       "_model_name": "ProgressStyleModel",
       "_view_count": null,
       "_view_module": "@jupyter-widgets/base",
       "_view_module_version": "1.2.0",
       "_view_name": "StyleView",
       "bar_color": null,
       "description_width": ""
      }
     },
     "d50944a748284206b6ba83340c25534b": {
      "model_module": "@jupyter-widgets/controls",
      "model_module_version": "1.5.0",
      "model_name": "HTMLModel",
      "state": {
       "_dom_classes": [],
       "_model_module": "@jupyter-widgets/controls",
       "_model_module_version": "1.5.0",
       "_model_name": "HTMLModel",
       "_view_count": null,
       "_view_module": "@jupyter-widgets/controls",
       "_view_module_version": "1.5.0",
       "_view_name": "HTMLView",
       "description": "",
       "description_tooltip": null,
       "layout": "IPY_MODEL_705b26bccac44c188c9c9f3decc99334",
       "placeholder": "​",
       "style": "IPY_MODEL_703b9f69e2104179b1947e893513e181",
       "value": "100%"
      }
     },
     "d710e789ecba4083a6567dd277a5826b": {
      "model_module": "@jupyter-widgets/controls",
      "model_module_version": "1.5.0",
      "model_name": "DescriptionStyleModel",
      "state": {
       "_model_module": "@jupyter-widgets/controls",
       "_model_module_version": "1.5.0",
       "_model_name": "DescriptionStyleModel",
       "_view_count": null,
       "_view_module": "@jupyter-widgets/base",
       "_view_module_version": "1.2.0",
       "_view_name": "StyleView",
       "description_width": ""
      }
     },
     "d73601b2ebbe48eab0d002bffa5cfb70": {
      "model_module": "@jupyter-widgets/controls",
      "model_module_version": "1.5.0",
      "model_name": "DescriptionStyleModel",
      "state": {
       "_model_module": "@jupyter-widgets/controls",
       "_model_module_version": "1.5.0",
       "_model_name": "DescriptionStyleModel",
       "_view_count": null,
       "_view_module": "@jupyter-widgets/base",
       "_view_module_version": "1.2.0",
       "_view_name": "StyleView",
       "description_width": ""
      }
     },
     "dc2a1e2043384acd876306ad87824bc7": {
      "model_module": "@jupyter-widgets/controls",
      "model_module_version": "1.5.0",
      "model_name": "HBoxModel",
      "state": {
       "_dom_classes": [],
       "_model_module": "@jupyter-widgets/controls",
       "_model_module_version": "1.5.0",
       "_model_name": "HBoxModel",
       "_view_count": null,
       "_view_module": "@jupyter-widgets/controls",
       "_view_module_version": "1.5.0",
       "_view_name": "HBoxView",
       "box_style": "",
       "children": [
        "IPY_MODEL_d50944a748284206b6ba83340c25534b",
        "IPY_MODEL_6a05272638904f84b4673a1b663c0e15",
        "IPY_MODEL_f9743dd9fe194fe495d8ee7ae7a80d29"
       ],
       "layout": "IPY_MODEL_86defdd0c9344905b4b6708d3741448f"
      }
     },
     "e8a0b0f808284d08806daf3cc1f78312": {
      "model_module": "@jupyter-widgets/base",
      "model_module_version": "1.2.0",
      "model_name": "LayoutModel",
      "state": {
       "_model_module": "@jupyter-widgets/base",
       "_model_module_version": "1.2.0",
       "_model_name": "LayoutModel",
       "_view_count": null,
       "_view_module": "@jupyter-widgets/base",
       "_view_module_version": "1.2.0",
       "_view_name": "LayoutView",
       "align_content": null,
       "align_items": null,
       "align_self": null,
       "border": null,
       "bottom": null,
       "display": null,
       "flex": null,
       "flex_flow": null,
       "grid_area": null,
       "grid_auto_columns": null,
       "grid_auto_flow": null,
       "grid_auto_rows": null,
       "grid_column": null,
       "grid_gap": null,
       "grid_row": null,
       "grid_template_areas": null,
       "grid_template_columns": null,
       "grid_template_rows": null,
       "height": null,
       "justify_content": null,
       "justify_items": null,
       "left": null,
       "margin": null,
       "max_height": null,
       "max_width": null,
       "min_height": null,
       "min_width": null,
       "object_fit": null,
       "object_position": null,
       "order": null,
       "overflow": null,
       "overflow_x": null,
       "overflow_y": null,
       "padding": null,
       "right": null,
       "top": null,
       "visibility": null,
       "width": null
      }
     },
     "eb17d24cbc4c42c4b5b66b08ecfd5ec2": {
      "model_module": "@jupyter-widgets/controls",
      "model_module_version": "1.5.0",
      "model_name": "HTMLModel",
      "state": {
       "_dom_classes": [],
       "_model_module": "@jupyter-widgets/controls",
       "_model_module_version": "1.5.0",
       "_model_name": "HTMLModel",
       "_view_count": null,
       "_view_module": "@jupyter-widgets/controls",
       "_view_module_version": "1.5.0",
       "_view_name": "HTMLView",
       "description": "",
       "description_tooltip": null,
       "layout": "IPY_MODEL_0caa0d888f844e958c20db90af230fd2",
       "placeholder": "​",
       "style": "IPY_MODEL_0c4b90acc7c6471c8ddd06b0f0d40627",
       "value": " 8339/8339 [00:13&lt;00:00, 411.08ex/s]"
      }
     },
     "ee448b994b93468eb2f926d054baef37": {
      "model_module": "@jupyter-widgets/base",
      "model_module_version": "1.2.0",
      "model_name": "LayoutModel",
      "state": {
       "_model_module": "@jupyter-widgets/base",
       "_model_module_version": "1.2.0",
       "_model_name": "LayoutModel",
       "_view_count": null,
       "_view_module": "@jupyter-widgets/base",
       "_view_module_version": "1.2.0",
       "_view_name": "LayoutView",
       "align_content": null,
       "align_items": null,
       "align_self": null,
       "border": null,
       "bottom": null,
       "display": null,
       "flex": null,
       "flex_flow": null,
       "grid_area": null,
       "grid_auto_columns": null,
       "grid_auto_flow": null,
       "grid_auto_rows": null,
       "grid_column": null,
       "grid_gap": null,
       "grid_row": null,
       "grid_template_areas": null,
       "grid_template_columns": null,
       "grid_template_rows": null,
       "height": null,
       "justify_content": null,
       "justify_items": null,
       "left": null,
       "margin": null,
       "max_height": null,
       "max_width": null,
       "min_height": null,
       "min_width": null,
       "object_fit": null,
       "object_position": null,
       "order": null,
       "overflow": null,
       "overflow_x": null,
       "overflow_y": null,
       "padding": null,
       "right": null,
       "top": null,
       "visibility": null,
       "width": null
      }
     },
     "f05e0f4eac2b4f7da4c0370e6b5a466d": {
      "model_module": "@jupyter-widgets/base",
      "model_module_version": "1.2.0",
      "model_name": "LayoutModel",
      "state": {
       "_model_module": "@jupyter-widgets/base",
       "_model_module_version": "1.2.0",
       "_model_name": "LayoutModel",
       "_view_count": null,
       "_view_module": "@jupyter-widgets/base",
       "_view_module_version": "1.2.0",
       "_view_name": "LayoutView",
       "align_content": null,
       "align_items": null,
       "align_self": null,
       "border": null,
       "bottom": null,
       "display": null,
       "flex": null,
       "flex_flow": null,
       "grid_area": null,
       "grid_auto_columns": null,
       "grid_auto_flow": null,
       "grid_auto_rows": null,
       "grid_column": null,
       "grid_gap": null,
       "grid_row": null,
       "grid_template_areas": null,
       "grid_template_columns": null,
       "grid_template_rows": null,
       "height": null,
       "justify_content": null,
       "justify_items": null,
       "left": null,
       "margin": null,
       "max_height": null,
       "max_width": null,
       "min_height": null,
       "min_width": null,
       "object_fit": null,
       "object_position": null,
       "order": null,
       "overflow": null,
       "overflow_x": null,
       "overflow_y": null,
       "padding": null,
       "right": null,
       "top": null,
       "visibility": null,
       "width": null
      }
     },
     "f612e791e47d417fa65e1030a2af329c": {
      "model_module": "@jupyter-widgets/controls",
      "model_module_version": "1.5.0",
      "model_name": "HTMLModel",
      "state": {
       "_dom_classes": [],
       "_model_module": "@jupyter-widgets/controls",
       "_model_module_version": "1.5.0",
       "_model_name": "HTMLModel",
       "_view_count": null,
       "_view_module": "@jupyter-widgets/controls",
       "_view_module_version": "1.5.0",
       "_view_name": "HTMLView",
       "description": "",
       "description_tooltip": null,
       "layout": "IPY_MODEL_0fa935c853eb4db7be0c70d81c9227e2",
       "placeholder": "​",
       "style": "IPY_MODEL_8831b5a1c9b64524a96696b33aad15ad",
       "value": "Downloading model.safetensors: 100%"
      }
     },
     "f7472d8adaf54fbeba0ef98001a185e5": {
      "model_module": "@jupyter-widgets/base",
      "model_module_version": "1.2.0",
      "model_name": "LayoutModel",
      "state": {
       "_model_module": "@jupyter-widgets/base",
       "_model_module_version": "1.2.0",
       "_model_name": "LayoutModel",
       "_view_count": null,
       "_view_module": "@jupyter-widgets/base",
       "_view_module_version": "1.2.0",
       "_view_name": "LayoutView",
       "align_content": null,
       "align_items": null,
       "align_self": null,
       "border": null,
       "bottom": null,
       "display": null,
       "flex": null,
       "flex_flow": null,
       "grid_area": null,
       "grid_auto_columns": null,
       "grid_auto_flow": null,
       "grid_auto_rows": null,
       "grid_column": null,
       "grid_gap": null,
       "grid_row": null,
       "grid_template_areas": null,
       "grid_template_columns": null,
       "grid_template_rows": null,
       "height": null,
       "justify_content": null,
       "justify_items": null,
       "left": null,
       "margin": null,
       "max_height": null,
       "max_width": null,
       "min_height": null,
       "min_width": null,
       "object_fit": null,
       "object_position": null,
       "order": null,
       "overflow": null,
       "overflow_x": null,
       "overflow_y": null,
       "padding": null,
       "right": null,
       "top": null,
       "visibility": null,
       "width": null
      }
     },
     "f93f21678a8746c489148f3e15ac4f07": {
      "model_module": "@jupyter-widgets/controls",
      "model_module_version": "1.5.0",
      "model_name": "FloatProgressModel",
      "state": {
       "_dom_classes": [],
       "_model_module": "@jupyter-widgets/controls",
       "_model_module_version": "1.5.0",
       "_model_name": "FloatProgressModel",
       "_view_count": null,
       "_view_module": "@jupyter-widgets/controls",
       "_view_module_version": "1.5.0",
       "_view_name": "ProgressView",
       "bar_style": "success",
       "description": "",
       "description_tooltip": null,
       "layout": "IPY_MODEL_7370aa89e8004f4c8ca5dd0095c466fa",
       "max": 570.0,
       "min": 0.0,
       "orientation": "horizontal",
       "style": "IPY_MODEL_d16597e02eb8427f9dd11504ca974b70",
       "value": 570.0
      }
     },
     "f9743dd9fe194fe495d8ee7ae7a80d29": {
      "model_module": "@jupyter-widgets/controls",
      "model_module_version": "1.5.0",
      "model_name": "HTMLModel",
      "state": {
       "_dom_classes": [],
       "_model_module": "@jupyter-widgets/controls",
       "_model_module_version": "1.5.0",
       "_model_name": "HTMLModel",
       "_view_count": null,
       "_view_module": "@jupyter-widgets/controls",
       "_view_module_version": "1.5.0",
       "_view_name": "HTMLView",
       "description": "",
       "description_tooltip": null,
       "layout": "IPY_MODEL_c17fcad2d5fc4bf4b37a96f4515f64d9",
       "placeholder": "​",
       "style": "IPY_MODEL_991eb976880a4c7aa63f61acba0e7917",
       "value": " 19459/19459 [00:30&lt;00:00, 594.03ex/s]"
      }
     },
     "fbc9247c516e4c75add5b045e19f921a": {
      "model_module": "@jupyter-widgets/base",
      "model_module_version": "1.2.0",
      "model_name": "LayoutModel",
      "state": {
       "_model_module": "@jupyter-widgets/base",
       "_model_module_version": "1.2.0",
       "_model_name": "LayoutModel",
       "_view_count": null,
       "_view_module": "@jupyter-widgets/base",
       "_view_module_version": "1.2.0",
       "_view_name": "LayoutView",
       "align_content": null,
       "align_items": null,
       "align_self": null,
       "border": null,
       "bottom": null,
       "display": null,
       "flex": null,
       "flex_flow": null,
       "grid_area": null,
       "grid_auto_columns": null,
       "grid_auto_flow": null,
       "grid_auto_rows": null,
       "grid_column": null,
       "grid_gap": null,
       "grid_row": null,
       "grid_template_areas": null,
       "grid_template_columns": null,
       "grid_template_rows": null,
       "height": null,
       "justify_content": null,
       "justify_items": null,
       "left": null,
       "margin": null,
       "max_height": null,
       "max_width": null,
       "min_height": null,
       "min_width": null,
       "object_fit": null,
       "object_position": null,
       "order": null,
       "overflow": null,
       "overflow_x": null,
       "overflow_y": null,
       "padding": null,
       "right": null,
       "top": null,
       "visibility": null,
       "width": null
      }
     },
     "fee6ca9e091a4037a2f0fed662b57ddd": {
      "model_module": "@jupyter-widgets/base",
      "model_module_version": "1.2.0",
      "model_name": "LayoutModel",
      "state": {
       "_model_module": "@jupyter-widgets/base",
       "_model_module_version": "1.2.0",
       "_model_name": "LayoutModel",
       "_view_count": null,
       "_view_module": "@jupyter-widgets/base",
       "_view_module_version": "1.2.0",
       "_view_name": "LayoutView",
       "align_content": null,
       "align_items": null,
       "align_self": null,
       "border": null,
       "bottom": null,
       "display": null,
       "flex": null,
       "flex_flow": null,
       "grid_area": null,
       "grid_auto_columns": null,
       "grid_auto_flow": null,
       "grid_auto_rows": null,
       "grid_column": null,
       "grid_gap": null,
       "grid_row": null,
       "grid_template_areas": null,
       "grid_template_columns": null,
       "grid_template_rows": null,
       "height": null,
       "justify_content": null,
       "justify_items": null,
       "left": null,
       "margin": null,
       "max_height": null,
       "max_width": null,
       "min_height": null,
       "min_width": null,
       "object_fit": null,
       "object_position": null,
       "order": null,
       "overflow": null,
       "overflow_x": null,
       "overflow_y": null,
       "padding": null,
       "right": null,
       "top": null,
       "visibility": null,
       "width": null
      }
     }
    },
    "version_major": 2,
    "version_minor": 0
   }
  }
 },
 "nbformat": 4,
 "nbformat_minor": 5
}
