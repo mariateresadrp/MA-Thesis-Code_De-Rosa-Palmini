{
 "cells": [
  {
   "cell_type": "markdown",
   "id": "ee7ec67d",
   "metadata": {
    "papermill": {
     "duration": 0.042183,
     "end_time": "2023-07-31T15:19:13.567361",
     "exception": false,
     "start_time": "2023-07-31T15:19:13.525178",
     "status": "completed"
    },
    "tags": []
   },
   "source": [
    "# PART 1: \n",
    "## Analysis, Manipulation and Splitting of Data"
   ]
  },
  {
   "cell_type": "code",
   "execution_count": 1,
   "id": "ca765a38",
   "metadata": {
    "collapsed": true,
    "execution": {
     "iopub.execute_input": "2023-07-31T15:19:13.647853Z",
     "iopub.status.busy": "2023-07-31T15:19:13.646899Z",
     "iopub.status.idle": "2023-07-31T15:19:26.419385Z",
     "shell.execute_reply": "2023-07-31T15:19:26.418254Z"
    },
    "jupyter": {
     "outputs_hidden": true
    },
    "papermill": {
     "duration": 12.815053,
     "end_time": "2023-07-31T15:19:26.421892",
     "exception": false,
     "start_time": "2023-07-31T15:19:13.606839",
     "status": "completed"
    },
    "tags": []
   },
   "outputs": [
    {
     "name": "stdout",
     "output_type": "stream",
     "text": [
      "Requirement already satisfied: transformers in /opt/conda/lib/python3.10/site-packages (4.30.2)\r\n",
      "Requirement already satisfied: datasets in /opt/conda/lib/python3.10/site-packages (2.1.0)\r\n",
      "Collecting evaluate\r\n",
      "  Downloading evaluate-0.4.0-py3-none-any.whl (81 kB)\r\n",
      "\u001b[2K     \u001b[90m━━━━━━━━━━━━━━━━━━━━━━━━━━━━━━━━━━━━━━━━\u001b[0m \u001b[32m81.4/81.4 kB\u001b[0m \u001b[31m3.8 MB/s\u001b[0m eta \u001b[36m0:00:00\u001b[0m\r\n",
      "\u001b[?25hRequirement already satisfied: filelock in /opt/conda/lib/python3.10/site-packages (from transformers) (3.12.2)\r\n",
      "Requirement already satisfied: huggingface-hub<1.0,>=0.14.1 in /opt/conda/lib/python3.10/site-packages (from transformers) (0.16.4)\r\n",
      "Requirement already satisfied: numpy>=1.17 in /opt/conda/lib/python3.10/site-packages (from transformers) (1.23.5)\r\n",
      "Requirement already satisfied: packaging>=20.0 in /opt/conda/lib/python3.10/site-packages (from transformers) (21.3)\r\n",
      "Requirement already satisfied: pyyaml>=5.1 in /opt/conda/lib/python3.10/site-packages (from transformers) (6.0)\r\n",
      "Requirement already satisfied: regex!=2019.12.17 in /opt/conda/lib/python3.10/site-packages (from transformers) (2023.6.3)\r\n",
      "Requirement already satisfied: requests in /opt/conda/lib/python3.10/site-packages (from transformers) (2.31.0)\r\n",
      "Requirement already satisfied: tokenizers!=0.11.3,<0.14,>=0.11.1 in /opt/conda/lib/python3.10/site-packages (from transformers) (0.13.3)\r\n",
      "Requirement already satisfied: safetensors>=0.3.1 in /opt/conda/lib/python3.10/site-packages (from transformers) (0.3.1)\r\n",
      "Requirement already satisfied: tqdm>=4.27 in /opt/conda/lib/python3.10/site-packages (from transformers) (4.65.0)\r\n",
      "Requirement already satisfied: pyarrow>=5.0.0 in /opt/conda/lib/python3.10/site-packages (from datasets) (11.0.0)\r\n",
      "Requirement already satisfied: dill in /opt/conda/lib/python3.10/site-packages (from datasets) (0.3.6)\r\n",
      "Requirement already satisfied: pandas in /opt/conda/lib/python3.10/site-packages (from datasets) (1.5.3)\r\n",
      "Requirement already satisfied: xxhash in /opt/conda/lib/python3.10/site-packages (from datasets) (3.2.0)\r\n",
      "Requirement already satisfied: multiprocess in /opt/conda/lib/python3.10/site-packages (from datasets) (0.70.14)\r\n",
      "Requirement already satisfied: fsspec[http]>=2021.05.0 in /opt/conda/lib/python3.10/site-packages (from datasets) (2023.6.0)\r\n",
      "Requirement already satisfied: aiohttp in /opt/conda/lib/python3.10/site-packages (from datasets) (3.8.4)\r\n",
      "Requirement already satisfied: responses<0.19 in /opt/conda/lib/python3.10/site-packages (from datasets) (0.18.0)\r\n",
      "Requirement already satisfied: attrs>=17.3.0 in /opt/conda/lib/python3.10/site-packages (from aiohttp->datasets) (23.1.0)\r\n",
      "Requirement already satisfied: charset-normalizer<4.0,>=2.0 in /opt/conda/lib/python3.10/site-packages (from aiohttp->datasets) (3.1.0)\r\n",
      "Requirement already satisfied: multidict<7.0,>=4.5 in /opt/conda/lib/python3.10/site-packages (from aiohttp->datasets) (6.0.4)\r\n",
      "Requirement already satisfied: async-timeout<5.0,>=4.0.0a3 in /opt/conda/lib/python3.10/site-packages (from aiohttp->datasets) (4.0.2)\r\n",
      "Requirement already satisfied: yarl<2.0,>=1.0 in /opt/conda/lib/python3.10/site-packages (from aiohttp->datasets) (1.9.2)\r\n",
      "Requirement already satisfied: frozenlist>=1.1.1 in /opt/conda/lib/python3.10/site-packages (from aiohttp->datasets) (1.3.3)\r\n",
      "Requirement already satisfied: aiosignal>=1.1.2 in /opt/conda/lib/python3.10/site-packages (from aiohttp->datasets) (1.3.1)\r\n",
      "Requirement already satisfied: typing-extensions>=3.7.4.3 in /opt/conda/lib/python3.10/site-packages (from huggingface-hub<1.0,>=0.14.1->transformers) (4.6.3)\r\n",
      "Requirement already satisfied: pyparsing!=3.0.5,>=2.0.2 in /opt/conda/lib/python3.10/site-packages (from packaging>=20.0->transformers) (3.0.9)\r\n",
      "Requirement already satisfied: idna<4,>=2.5 in /opt/conda/lib/python3.10/site-packages (from requests->transformers) (3.4)\r\n",
      "Requirement already satisfied: urllib3<3,>=1.21.1 in /opt/conda/lib/python3.10/site-packages (from requests->transformers) (1.26.15)\r\n",
      "Requirement already satisfied: certifi>=2017.4.17 in /opt/conda/lib/python3.10/site-packages (from requests->transformers) (2023.5.7)\r\n",
      "Requirement already satisfied: python-dateutil>=2.8.1 in /opt/conda/lib/python3.10/site-packages (from pandas->datasets) (2.8.2)\r\n",
      "Requirement already satisfied: pytz>=2020.1 in /opt/conda/lib/python3.10/site-packages (from pandas->datasets) (2023.3)\r\n",
      "Requirement already satisfied: six>=1.5 in /opt/conda/lib/python3.10/site-packages (from python-dateutil>=2.8.1->pandas->datasets) (1.16.0)\r\n",
      "Installing collected packages: evaluate\r\n",
      "Successfully installed evaluate-0.4.0\r\n"
     ]
    }
   ],
   "source": [
    "!pip install transformers datasets evaluate"
   ]
  },
  {
   "cell_type": "code",
   "execution_count": 2,
   "id": "b2edb668",
   "metadata": {
    "execution": {
     "iopub.execute_input": "2023-07-31T15:19:26.508104Z",
     "iopub.status.busy": "2023-07-31T15:19:26.507091Z",
     "iopub.status.idle": "2023-07-31T15:19:31.559962Z",
     "shell.execute_reply": "2023-07-31T15:19:31.559006Z"
    },
    "papermill": {
     "duration": 5.098777,
     "end_time": "2023-07-31T15:19:31.562642",
     "exception": false,
     "start_time": "2023-07-31T15:19:26.463865",
     "status": "completed"
    },
    "tags": []
   },
   "outputs": [
    {
     "name": "stderr",
     "output_type": "stream",
     "text": [
      "/opt/conda/lib/python3.10/site-packages/scipy/__init__.py:146: UserWarning: A NumPy version >=1.16.5 and <1.23.0 is required for this version of SciPy (detected version 1.23.5\n",
      "  warnings.warn(f\"A NumPy version >={np_minversion} and <{np_maxversion}\"\n"
     ]
    }
   ],
   "source": [
    "# Import necessary libraries\n",
    "\n",
    "# data processing\n",
    "import pandas as pd\n",
    "import numpy as np\n",
    "\n",
    "# tensors\n",
    "import torch\n",
    "\n",
    "# other\n",
    "import json\n",
    "import re\n",
    "\n",
    "# sklearn\n",
    "from sklearn.preprocessing import LabelEncoder\n",
    "\n",
    "# hugging face dataset\n",
    "from datasets import Dataset"
   ]
  },
  {
   "cell_type": "code",
   "execution_count": 3,
   "id": "762d73ff",
   "metadata": {
    "execution": {
     "iopub.execute_input": "2023-07-31T15:19:31.646812Z",
     "iopub.status.busy": "2023-07-31T15:19:31.645969Z",
     "iopub.status.idle": "2023-07-31T15:19:35.051967Z",
     "shell.execute_reply": "2023-07-31T15:19:35.051038Z"
    },
    "papermill": {
     "duration": 3.449753,
     "end_time": "2023-07-31T15:19:35.054298",
     "exception": false,
     "start_time": "2023-07-31T15:19:31.604545",
     "status": "completed"
    },
    "tags": []
   },
   "outputs": [
    {
     "name": "stderr",
     "output_type": "stream",
     "text": [
      "\u001b[34m\u001b[1mwandb\u001b[0m: W&B API key is configured. Use \u001b[1m`wandb login --relogin`\u001b[0m to force relogin\n",
      "\u001b[34m\u001b[1mwandb\u001b[0m: \u001b[33mWARNING\u001b[0m If you're specifying your api key in code, ensure this code is not shared publicly.\n",
      "\u001b[34m\u001b[1mwandb\u001b[0m: \u001b[33mWARNING\u001b[0m Consider setting the WANDB_API_KEY environment variable, or running `wandb login` from the command line.\n",
      "\u001b[34m\u001b[1mwandb\u001b[0m: Appending key for api.wandb.ai to your netrc file: /root/.netrc\n"
     ]
    },
    {
     "data": {
      "text/plain": [
       "True"
      ]
     },
     "execution_count": 3,
     "metadata": {},
     "output_type": "execute_result"
    }
   ],
   "source": [
    "import wandb\n",
    "from kaggle_secrets import UserSecretsClient\n",
    "\n",
    "# Load the API key from Kaggle's secrets\n",
    "user_secrets = UserSecretsClient()\n",
    "wandb_api_key = user_secrets.get_secret(\"WANDB_API_KEY\")\n",
    "\n",
    "# Set up the API key for wandb\n",
    "wandb.login(key=wandb_api_key)"
   ]
  },
  {
   "cell_type": "markdown",
   "id": "811ea87d",
   "metadata": {
    "papermill": {
     "duration": 0.041539,
     "end_time": "2023-07-31T15:19:35.138911",
     "exception": false,
     "start_time": "2023-07-31T15:19:35.097372",
     "status": "completed"
    },
    "tags": []
   },
   "source": [
    "### 1.1 Importing the datasets"
   ]
  },
  {
   "cell_type": "code",
   "execution_count": 4,
   "id": "2b15a57b",
   "metadata": {
    "execution": {
     "iopub.execute_input": "2023-07-31T15:19:35.222322Z",
     "iopub.status.busy": "2023-07-31T15:19:35.221981Z",
     "iopub.status.idle": "2023-07-31T15:19:35.228000Z",
     "shell.execute_reply": "2023-07-31T15:19:35.226924Z"
    },
    "papermill": {
     "duration": 0.05062,
     "end_time": "2023-07-31T15:19:35.230535",
     "exception": false,
     "start_time": "2023-07-31T15:19:35.179915",
     "status": "completed"
    },
    "tags": []
   },
   "outputs": [],
   "source": [
    "# Read a file containing a list of JSON objects\n",
    "\n",
    "def load_json_list(file_name):\n",
    "    data = []\n",
    "    with open(file_name, 'r') as f:\n",
    "        for line in f:\n",
    "            try:\n",
    "                dat = json.loads(line)\n",
    "                # Avoid empty dictionaries\n",
    "                if dat:\n",
    "                    data.append(dat)\n",
    "            except JSONDecodeError:\n",
    "                pass\n",
    "\n",
    "    return data"
   ]
  },
  {
   "cell_type": "code",
   "execution_count": 5,
   "id": "3cabe6a0",
   "metadata": {
    "execution": {
     "iopub.execute_input": "2023-07-31T15:19:35.314607Z",
     "iopub.status.busy": "2023-07-31T15:19:35.314280Z",
     "iopub.status.idle": "2023-07-31T15:19:35.718504Z",
     "shell.execute_reply": "2023-07-31T15:19:35.717498Z"
    },
    "papermill": {
     "duration": 0.449016,
     "end_time": "2023-07-31T15:19:35.720952",
     "exception": false,
     "start_time": "2023-07-31T15:19:35.271936",
     "status": "completed"
    },
    "tags": []
   },
   "outputs": [],
   "source": [
    "# Load audience and critics reviews from the Rotten Tomatoes dataset\n",
    "\n",
    "audience_reviews = load_json_list('/kaggle/input/rotten-tomatoes-reviews/movie_reviews/audience_reviews_short.json')\n",
    "critics_reviews = load_json_list('/kaggle/input/rotten-tomatoes-reviews/movie_reviews/critics_reviews_short.json')"
   ]
  },
  {
   "cell_type": "code",
   "execution_count": 6,
   "id": "824c433c",
   "metadata": {
    "execution": {
     "iopub.execute_input": "2023-07-31T15:19:35.807916Z",
     "iopub.status.busy": "2023-07-31T15:19:35.806301Z",
     "iopub.status.idle": "2023-07-31T15:19:35.872939Z",
     "shell.execute_reply": "2023-07-31T15:19:35.872026Z"
    },
    "papermill": {
     "duration": 0.111913,
     "end_time": "2023-07-31T15:19:35.875397",
     "exception": false,
     "start_time": "2023-07-31T15:19:35.763484",
     "status": "completed"
    },
    "tags": []
   },
   "outputs": [],
   "source": [
    "# Read the CSV file into a pandas Dataframe\n",
    "\n",
    "df_emotions = pd.read_csv('/kaggle/input/emotions-in-text/Emotion_final.csv')"
   ]
  },
  {
   "cell_type": "markdown",
   "id": "1c2ab966",
   "metadata": {
    "papermill": {
     "duration": 0.041207,
     "end_time": "2023-07-31T15:19:35.959090",
     "exception": false,
     "start_time": "2023-07-31T15:19:35.917883",
     "status": "completed"
    },
    "tags": []
   },
   "source": [
    "### 1.2 Dropping unecessary information"
   ]
  },
  {
   "cell_type": "code",
   "execution_count": 7,
   "id": "915eb628",
   "metadata": {
    "execution": {
     "iopub.execute_input": "2023-07-31T15:19:36.043308Z",
     "iopub.status.busy": "2023-07-31T15:19:36.042377Z",
     "iopub.status.idle": "2023-07-31T15:19:36.062019Z",
     "shell.execute_reply": "2023-07-31T15:19:36.061128Z"
    },
    "papermill": {
     "duration": 0.063984,
     "end_time": "2023-07-31T15:19:36.064094",
     "exception": false,
     "start_time": "2023-07-31T15:19:36.000110",
     "status": "completed"
    },
    "tags": []
   },
   "outputs": [
    {
     "name": "stdout",
     "output_type": "stream",
     "text": [
      "[{'rating': 3, 'text': 'It ended leaving u hanging'}, {'rating': 2.5, 'text': 'Good story. Dragged a little, but interesting.'}, {'rating': 5, 'text': 'Put this one in the plus column for M Night Shyamalan.'}, {'rating': 5, 'text': 'Very good movie. Kept us on the edge of our seat the whole time.'}, {'rating': 5, 'text': 'This movie definitely had alot of suspense, kept you guessing.  Definitely one of M. Night Shyamalan better movies along with Sixth sense.'}]\n"
     ]
    }
   ],
   "source": [
    "# Extract rating and review text from audience reviews\n",
    "\n",
    "data_audience = [{'rating': review['rating'], 'text': review['review']} \n",
    "                 for dat in audience_reviews if dat.get('reviews') for review in dat['reviews']]\n",
    "\n",
    "print(data_audience[:5])"
   ]
  },
  {
   "cell_type": "code",
   "execution_count": 8,
   "id": "0685f185",
   "metadata": {
    "execution": {
     "iopub.execute_input": "2023-07-31T15:19:36.149669Z",
     "iopub.status.busy": "2023-07-31T15:19:36.149389Z",
     "iopub.status.idle": "2023-07-31T15:19:36.154918Z",
     "shell.execute_reply": "2023-07-31T15:19:36.153937Z"
    },
    "papermill": {
     "duration": 0.051758,
     "end_time": "2023-07-31T15:19:36.157242",
     "exception": false,
     "start_time": "2023-07-31T15:19:36.105484",
     "status": "completed"
    },
    "tags": []
   },
   "outputs": [
    {
     "name": "stdout",
     "output_type": "stream",
     "text": [
      "Before 19391\n"
     ]
    }
   ],
   "source": [
    "# Define a classifier function based on the rating score\n",
    "\n",
    "classifier = lambda score: 1 if score >= 4.0 else 0 if score <= 1.5 else -1\n",
    "print('Before', len(data_audience))"
   ]
  },
  {
   "cell_type": "code",
   "execution_count": 9,
   "id": "04ed5ff3",
   "metadata": {
    "execution": {
     "iopub.execute_input": "2023-07-31T15:19:36.241747Z",
     "iopub.status.busy": "2023-07-31T15:19:36.240997Z",
     "iopub.status.idle": "2023-07-31T15:19:36.266186Z",
     "shell.execute_reply": "2023-07-31T15:19:36.265310Z"
    },
    "papermill": {
     "duration": 0.069356,
     "end_time": "2023-07-31T15:19:36.268186",
     "exception": false,
     "start_time": "2023-07-31T15:19:36.198830",
     "status": "completed"
    },
    "tags": []
   },
   "outputs": [
    {
     "name": "stdout",
     "output_type": "stream",
     "text": [
      "After removing neutral reviews 14931\n",
      "[{'text': 'Put this one in the plus column for M Night Shyamalan.', 'sentiment': 1}, {'text': 'Very good movie. Kept us on the edge of our seat the whole time.', 'sentiment': 1}, {'text': 'This movie definitely had alot of suspense, kept you guessing.  Definitely one of M. Night Shyamalan better movies along with Sixth sense.', 'sentiment': 1}, {'text': 'Oh no A movie I didn’t like. It was twisted and weird. The worst M. Night Shyamalan movie ever. This was 100% Bad', 'sentiment': 0}, {'text': \"Great movie…..wasn't expecting that.\", 'sentiment': 1}]\n"
     ]
    }
   ],
   "source": [
    "# Filter out neutral reviews and keep only text and sentiment columns\n",
    "\n",
    "data_audience = [{'text': review['text'], 'sentiment': classifier(review['rating'])} \n",
    "                 for review in data_audience \n",
    "                 if classifier(review['rating']) != -1]\n",
    "\n",
    "print('After removing neutral reviews', len(data_audience))\n",
    "print(data_audience[:5])"
   ]
  },
  {
   "cell_type": "code",
   "execution_count": 10,
   "id": "b3e5efa1",
   "metadata": {
    "execution": {
     "iopub.execute_input": "2023-07-31T15:19:36.352859Z",
     "iopub.status.busy": "2023-07-31T15:19:36.352559Z",
     "iopub.status.idle": "2023-07-31T15:19:36.382273Z",
     "shell.execute_reply": "2023-07-31T15:19:36.380729Z"
    },
    "papermill": {
     "duration": 0.074624,
     "end_time": "2023-07-31T15:19:36.384368",
     "exception": false,
     "start_time": "2023-07-31T15:19:36.309744",
     "status": "completed"
    },
    "tags": []
   },
   "outputs": [
    {
     "name": "stdout",
     "output_type": "stream",
     "text": [
      "                                                text  sentiment\n",
      "0  Put this one in the plus column for M Night Sh...          1\n",
      "1  Very good movie. Kept us on the edge of our se...          1\n",
      "2  This movie definitely had alot of suspense, ke...          1\n",
      "3  Oh no A movie I didn’t like. It was twisted an...          0\n",
      "4               Great movie…..wasn't expecting that.          1\n"
     ]
    }
   ],
   "source": [
    "# Create a DataFrame for audience reviews\n",
    "df_audience = pd.DataFrame(data_audience)\n",
    "print(df_audience[:5])"
   ]
  },
  {
   "cell_type": "code",
   "execution_count": 11,
   "id": "9cd03fba",
   "metadata": {
    "execution": {
     "iopub.execute_input": "2023-07-31T15:19:36.473590Z",
     "iopub.status.busy": "2023-07-31T15:19:36.472721Z",
     "iopub.status.idle": "2023-07-31T15:19:36.488671Z",
     "shell.execute_reply": "2023-07-31T15:19:36.487793Z"
    },
    "papermill": {
     "duration": 0.062903,
     "end_time": "2023-07-31T15:19:36.490869",
     "exception": false,
     "start_time": "2023-07-31T15:19:36.427966",
     "status": "completed"
    },
    "tags": []
   },
   "outputs": [
    {
     "name": "stdout",
     "output_type": "stream",
     "text": [
      "Number of samples 12867\n"
     ]
    }
   ],
   "source": [
    "# Extract text, fresh, and rotten from critics_reviews\n",
    "\n",
    "data_critics = [{'text': review.get('quote'), \n",
    "                 'fresh': review['isFresh'], 'rotten': review['isRotten']} \n",
    "                for dat in critics_reviews if dat.get('reviews') for review in dat['reviews']]\n",
    "\n",
    "print('Number of samples', len(data_critics))"
   ]
  },
  {
   "cell_type": "code",
   "execution_count": 12,
   "id": "94b7d237",
   "metadata": {
    "execution": {
     "iopub.execute_input": "2023-07-31T15:19:36.580550Z",
     "iopub.status.busy": "2023-07-31T15:19:36.579502Z",
     "iopub.status.idle": "2023-07-31T15:19:36.595281Z",
     "shell.execute_reply": "2023-07-31T15:19:36.594180Z"
    },
    "papermill": {
     "duration": 0.06219,
     "end_time": "2023-07-31T15:19:36.597716",
     "exception": false,
     "start_time": "2023-07-31T15:19:36.535526",
     "status": "completed"
    },
    "tags": []
   },
   "outputs": [
    {
     "name": "stdout",
     "output_type": "stream",
     "text": [
      "[{'text': '[Shyamalan is] as strong a visual craftsman as ever, a master manipulator who toys with his audience with the winking acerbity of his idol Hitchcock. ', 'sentiment': 1}, {'text': 'There is only one thing worse than an M&#46; Night Shyamalan movie with a twist ending&#46; And that is one without a twist ending&#46; Feels like a faith-based movie trying to sneak in under a disingenuous wire&#46;', 'sentiment': 0}, {'text': 'Though at times you want it to deliver more on its promise&#44; the conclusion sticks the landing in ways few Shayamalan films of late have managed to', 'sentiment': 1}, {'text': 'While its questions about what we choose to put our faith in and why are as obvious as one late easy reveal&#44; Knock at the Cabin earns two firm beliefs&#58; in Shyamalan messing with vacations again&#44; and in Bautista at his best&#46;', 'sentiment': 1}, {'text': 'An artless film without the guts to bring the apocalyptic threat to life onscreen&#46;', 'sentiment': 0}]\n"
     ]
    }
   ],
   "source": [
    "# Keep only fresh reviews and transform fresh/rotten labels to sentiment labels (1=positive, 0=negative)\n",
    "data_critics = [{'text': dat['text'], 'sentiment': int(dat['fresh'])} for dat in data_critics]\n",
    "print(data_critics[:5])"
   ]
  },
  {
   "cell_type": "code",
   "execution_count": 13,
   "id": "5858393e",
   "metadata": {
    "execution": {
     "iopub.execute_input": "2023-07-31T15:19:36.688190Z",
     "iopub.status.busy": "2023-07-31T15:19:36.687837Z",
     "iopub.status.idle": "2023-07-31T15:19:36.708402Z",
     "shell.execute_reply": "2023-07-31T15:19:36.707564Z"
    },
    "papermill": {
     "duration": 0.06833,
     "end_time": "2023-07-31T15:19:36.710492",
     "exception": false,
     "start_time": "2023-07-31T15:19:36.642162",
     "status": "completed"
    },
    "tags": []
   },
   "outputs": [],
   "source": [
    "# Create a DataFrame for critics reviews\n",
    "df_critics = pd.DataFrame(data_critics)"
   ]
  },
  {
   "cell_type": "code",
   "execution_count": 14,
   "id": "c8a1faf0",
   "metadata": {
    "execution": {
     "iopub.execute_input": "2023-07-31T15:19:36.796330Z",
     "iopub.status.busy": "2023-07-31T15:19:36.795510Z",
     "iopub.status.idle": "2023-07-31T15:19:36.908013Z",
     "shell.execute_reply": "2023-07-31T15:19:36.906415Z"
    },
    "papermill": {
     "duration": 0.157797,
     "end_time": "2023-07-31T15:19:36.910168",
     "exception": false,
     "start_time": "2023-07-31T15:19:36.752371",
     "status": "completed"
    },
    "tags": []
   },
   "outputs": [
    {
     "name": "stdout",
     "output_type": "stream",
     "text": [
      "27798\n"
     ]
    }
   ],
   "source": [
    "# Remove special characters starting with '&' from the text\n",
    "pattern = re.compile(r'\\&\\S+;')\n",
    "df_critics['text'] = df_critics.text.apply(lambda x: pattern.sub(' ', str(x)))\n",
    "\n",
    "# Remove extra spaces from the text\n",
    "pattern_spaces = re.compile('\\s{2,}')\n",
    "df_critics['text'] = df_critics.text.apply(lambda x: pattern_spaces.sub(' ', str(x))).str.strip()\n",
    "\n",
    "# Concatenate the critics and audience DataFrames\n",
    "df_concat = pd.concat([df_critics, df_audience], ignore_index=True)\n",
    "\n",
    "print(len(df_concat))"
   ]
  },
  {
   "cell_type": "markdown",
   "id": "814d553d",
   "metadata": {
    "papermill": {
     "duration": 0.042075,
     "end_time": "2023-07-31T15:19:36.994815",
     "exception": false,
     "start_time": "2023-07-31T15:19:36.952740",
     "status": "completed"
    },
    "tags": []
   },
   "source": [
    "### 1.3 Renaming the Columns"
   ]
  },
  {
   "cell_type": "code",
   "execution_count": 15,
   "id": "394f1654",
   "metadata": {
    "execution": {
     "iopub.execute_input": "2023-07-31T15:19:37.080046Z",
     "iopub.status.busy": "2023-07-31T15:19:37.079722Z",
     "iopub.status.idle": "2023-07-31T15:19:37.093877Z",
     "shell.execute_reply": "2023-07-31T15:19:37.092659Z"
    },
    "papermill": {
     "duration": 0.060672,
     "end_time": "2023-07-31T15:19:37.097329",
     "exception": false,
     "start_time": "2023-07-31T15:19:37.036657",
     "status": "completed"
    },
    "tags": []
   },
   "outputs": [
    {
     "name": "stdout",
     "output_type": "stream",
     "text": [
      "                                                sentence  label\n",
      "0      [Shyamalan is] as strong a visual craftsman as...      1\n",
      "1      There is only one thing worse than an M Night ...      0\n",
      "2      Though at times you want it to deliver more on...      1\n",
      "3      While its questions about what we choose to pu...      1\n",
      "4      An artless film without the guts to bring the ...      0\n",
      "...                                                  ...    ...\n",
      "27793  This movie saved the Shrek saga. A Spin-Off of...      1\n",
      "27794  A great idea to tell the story of Puss in Boot...      0\n",
      "27795  Dreamworks has been inconsistent for me. I lov...      1\n",
      "27796  Honestly an unexpectedly really good movie. At...      1\n",
      "27797  I'm glad that I was raised with that kind of a...      1\n",
      "\n",
      "[27798 rows x 2 columns]\n",
      "                                                sentence    label\n",
      "0                                i didnt feel humiliated  sadness\n",
      "1      i can go from feeling so hopeless to so damned...  sadness\n",
      "2       im grabbing a minute to post i feel greedy wrong    anger\n",
      "3      i am ever feeling nostalgic about the fireplac...     love\n",
      "4                                   i am feeling grouchy    anger\n",
      "...                                                  ...      ...\n",
      "21454               Melissa stared at her friend in dism     fear\n",
      "21455  Successive state elections have seen the gover...     fear\n",
      "21456               Vincent was irritated but not dismay     fear\n",
      "21457  Kendall-Hume turned back to face the dismayed ...     fear\n",
      "21458                    I am dismayed , but not surpris     fear\n",
      "\n",
      "[21459 rows x 2 columns]\n"
     ]
    }
   ],
   "source": [
    "# Rename columns\n",
    "reviews_df = df_concat.rename(columns={'text': 'sentence', 'sentiment': 'label'})\n",
    "emotions_df = df_emotions.rename(columns={'Text': 'sentence', 'Emotion': 'label'})\n",
    "\n",
    "# Print the updated DataFrame\n",
    "print(reviews_df)\n",
    "print(emotions_df)"
   ]
  },
  {
   "cell_type": "markdown",
   "id": "52d4a3f1",
   "metadata": {
    "papermill": {
     "duration": 0.041766,
     "end_time": "2023-07-31T15:19:37.183630",
     "exception": false,
     "start_time": "2023-07-31T15:19:37.141864",
     "status": "completed"
    },
    "tags": []
   },
   "source": [
    "### 1.4 Manipulation of Labels"
   ]
  },
  {
   "cell_type": "code",
   "execution_count": 16,
   "id": "92369f2d",
   "metadata": {
    "execution": {
     "iopub.execute_input": "2023-07-31T15:19:37.269534Z",
     "iopub.status.busy": "2023-07-31T15:19:37.269244Z",
     "iopub.status.idle": "2023-07-31T15:19:37.279198Z",
     "shell.execute_reply": "2023-07-31T15:19:37.278007Z"
    },
    "papermill": {
     "duration": 0.055551,
     "end_time": "2023-07-31T15:19:37.281128",
     "exception": false,
     "start_time": "2023-07-31T15:19:37.225577",
     "status": "completed"
    },
    "tags": []
   },
   "outputs": [
    {
     "name": "stdout",
     "output_type": "stream",
     "text": [
      "['sadness' 'anger' 'love' 'surprise' 'fear' 'happy']\n"
     ]
    }
   ],
   "source": [
    "# Print the different values in the \"label\" column\n",
    "unique_labels = emotions_df['label'].unique()\n",
    "print(unique_labels)"
   ]
  },
  {
   "cell_type": "code",
   "execution_count": 17,
   "id": "fd909b83",
   "metadata": {
    "execution": {
     "iopub.execute_input": "2023-07-31T15:19:37.366403Z",
     "iopub.status.busy": "2023-07-31T15:19:37.366079Z",
     "iopub.status.idle": "2023-07-31T15:19:37.381080Z",
     "shell.execute_reply": "2023-07-31T15:19:37.380143Z"
    },
    "papermill": {
     "duration": 0.060213,
     "end_time": "2023-07-31T15:19:37.383366",
     "exception": false,
     "start_time": "2023-07-31T15:19:37.323153",
     "status": "completed"
    },
    "tags": []
   },
   "outputs": [
    {
     "name": "stdout",
     "output_type": "stream",
     "text": [
      "[4 0 3 5 1 2]\n"
     ]
    }
   ],
   "source": [
    "# Initialize the LabelEncoder\n",
    "label_encoder = LabelEncoder()\n",
    "\n",
    "# Apply label transformation\n",
    "emotions_df['label'] = label_encoder.fit_transform(emotions_df['label'])\n",
    "\n",
    "# Print the encoded labels\n",
    "encoded_labels = emotions_df['label'].unique()\n",
    "print(encoded_labels)"
   ]
  },
  {
   "cell_type": "markdown",
   "id": "a3905ff4",
   "metadata": {
    "papermill": {
     "duration": 0.045716,
     "end_time": "2023-07-31T15:19:37.473081",
     "exception": false,
     "start_time": "2023-07-31T15:19:37.427365",
     "status": "completed"
    },
    "tags": []
   },
   "source": [
    "### 1.5 Data Splitting"
   ]
  },
  {
   "cell_type": "code",
   "execution_count": 18,
   "id": "d7eb981c",
   "metadata": {
    "execution": {
     "iopub.execute_input": "2023-07-31T15:19:37.559462Z",
     "iopub.status.busy": "2023-07-31T15:19:37.559161Z",
     "iopub.status.idle": "2023-07-31T15:19:37.579427Z",
     "shell.execute_reply": "2023-07-31T15:19:37.578437Z"
    },
    "papermill": {
     "duration": 0.065275,
     "end_time": "2023-07-31T15:19:37.581462",
     "exception": false,
     "start_time": "2023-07-31T15:19:37.516187",
     "status": "completed"
    },
    "tags": []
   },
   "outputs": [
    {
     "name": "stdout",
     "output_type": "stream",
     "text": [
      "The training dataset of movie reviews has 19459 records.\n",
      "The training dataset of emotion tweets has 15021 records.\n",
      "The testing dataset of movie reviews has 8339 records.\n",
      "The testing dataset of emotion tweets has 6438 records.\n"
     ]
    }
   ],
   "source": [
    "# Training dataset\n",
    "train_reviews =  reviews_df.sample(frac=0.7, random_state=42)\n",
    "train_emotions = emotions_df.sample(frac=0.7, random_state=42)\n",
    "\n",
    "# Testing dataset\n",
    "test_reviews =  reviews_df.drop(train_reviews .index)\n",
    "test_emotions = emotions_df.drop(train_emotions.index)\n",
    "\n",
    "# Determine the count of records in the training and testing datasets.\n",
    "print(f'The training dataset of movie reviews has {len(train_reviews)} records.')\n",
    "print(f'The training dataset of emotion tweets has {len(train_emotions)} records.')\n",
    "print(f'The testing dataset of movie reviews has {len(test_reviews)} records.')\n",
    "print(f'The testing dataset of emotion tweets has {len(test_emotions)} records.')"
   ]
  },
  {
   "cell_type": "markdown",
   "id": "c813cc2c",
   "metadata": {
    "papermill": {
     "duration": 0.041997,
     "end_time": "2023-07-31T15:19:37.666693",
     "exception": false,
     "start_time": "2023-07-31T15:19:37.624696",
     "status": "completed"
    },
    "tags": []
   },
   "source": [
    "### 1.6 Data preprocessing for text classification using BERT"
   ]
  },
  {
   "cell_type": "code",
   "execution_count": 19,
   "id": "01e05253",
   "metadata": {
    "execution": {
     "iopub.execute_input": "2023-07-31T15:19:37.753750Z",
     "iopub.status.busy": "2023-07-31T15:19:37.752827Z",
     "iopub.status.idle": "2023-07-31T15:19:37.794593Z",
     "shell.execute_reply": "2023-07-31T15:19:37.793601Z"
    },
    "papermill": {
     "duration": 0.088015,
     "end_time": "2023-07-31T15:19:37.797019",
     "exception": false,
     "start_time": "2023-07-31T15:19:37.709004",
     "status": "completed"
    },
    "tags": []
   },
   "outputs": [],
   "source": [
    "# Transform dataset into a HG dataset\n",
    "hg_train_sentiment = Dataset.from_pandas(train_reviews)\n",
    "hg_test_sentiment = Dataset.from_pandas(test_reviews)\n",
    "hg_train_emotion = Dataset.from_pandas(train_emotions)\n",
    "hg_test_emotion = Dataset.from_pandas(test_emotions)"
   ]
  },
  {
   "cell_type": "code",
   "execution_count": 20,
   "id": "cdeae525",
   "metadata": {
    "execution": {
     "iopub.execute_input": "2023-07-31T15:19:37.883862Z",
     "iopub.status.busy": "2023-07-31T15:19:37.882987Z",
     "iopub.status.idle": "2023-07-31T15:19:37.893804Z",
     "shell.execute_reply": "2023-07-31T15:19:37.892449Z"
    },
    "papermill": {
     "duration": 0.056043,
     "end_time": "2023-07-31T15:19:37.895841",
     "exception": false,
     "start_time": "2023-07-31T15:19:37.839798",
     "status": "completed"
    },
    "tags": []
   },
   "outputs": [
    {
     "name": "stdout",
     "output_type": "stream",
     "text": [
      "The length of hg_train_data is 19459.\n",
      "\n"
     ]
    },
    {
     "data": {
      "text/plain": [
       "{'sentence': 'Not a perfect movie but if you love movie making, Wolf of Wall Street and Boogie Nights this is a great pick',\n",
       " 'label': 1,\n",
       " '__index_level_0__': 18168}"
      ]
     },
     "execution_count": 20,
     "metadata": {},
     "output_type": "execute_result"
    }
   ],
   "source": [
    "# Inspect the length of the dataset\n",
    "print(f'The length of hg_train_data is {len(hg_train_sentiment)}.\\n')\n",
    "\n",
    "# check one review\n",
    "hg_train_sentiment[0]"
   ]
  },
  {
   "cell_type": "code",
   "execution_count": 21,
   "id": "959ed048",
   "metadata": {
    "execution": {
     "iopub.execute_input": "2023-07-31T15:19:37.984510Z",
     "iopub.status.busy": "2023-07-31T15:19:37.983929Z",
     "iopub.status.idle": "2023-07-31T15:19:37.995375Z",
     "shell.execute_reply": "2023-07-31T15:19:37.994166Z"
    },
    "papermill": {
     "duration": 0.059005,
     "end_time": "2023-07-31T15:19:37.997839",
     "exception": false,
     "start_time": "2023-07-31T15:19:37.938834",
     "status": "completed"
    },
    "tags": []
   },
   "outputs": [
    {
     "data": {
      "text/html": [
       "<div>\n",
       "<style scoped>\n",
       "    .dataframe tbody tr th:only-of-type {\n",
       "        vertical-align: middle;\n",
       "    }\n",
       "\n",
       "    .dataframe tbody tr th {\n",
       "        vertical-align: top;\n",
       "    }\n",
       "\n",
       "    .dataframe thead th {\n",
       "        text-align: right;\n",
       "    }\n",
       "</style>\n",
       "<table border=\"1\" class=\"dataframe\">\n",
       "  <thead>\n",
       "    <tr style=\"text-align: right;\">\n",
       "      <th></th>\n",
       "      <th>sentence</th>\n",
       "      <th>label</th>\n",
       "    </tr>\n",
       "  </thead>\n",
       "  <tbody>\n",
       "    <tr>\n",
       "      <th>18168</th>\n",
       "      <td>Not a perfect movie but if you love movie maki...</td>\n",
       "      <td>1</td>\n",
       "    </tr>\n",
       "  </tbody>\n",
       "</table>\n",
       "</div>"
      ],
      "text/plain": [
       "                                                sentence  label\n",
       "18168  Not a perfect movie but if you love movie maki...      1"
      ]
     },
     "execution_count": 21,
     "metadata": {},
     "output_type": "execute_result"
    }
   ],
   "source": [
    "# Verify the data entry in a Pandas DataFrame\n",
    "reviews_df.iloc[[18168]]"
   ]
  },
  {
   "cell_type": "markdown",
   "id": "c62f79c7",
   "metadata": {
    "papermill": {
     "duration": 0.042047,
     "end_time": "2023-07-31T15:19:38.083365",
     "exception": false,
     "start_time": "2023-07-31T15:19:38.041318",
     "status": "completed"
    },
    "tags": []
   },
   "source": [
    "# PART 2: \n",
    "## BERT Fine-Tuning"
   ]
  },
  {
   "cell_type": "markdown",
   "id": "a01eb071",
   "metadata": {
    "papermill": {
     "duration": 0.042599,
     "end_time": "2023-07-31T15:19:38.168433",
     "exception": false,
     "start_time": "2023-07-31T15:19:38.125834",
     "status": "completed"
    },
    "tags": []
   },
   "source": [
    "### 2.1 Tokenenization"
   ]
  },
  {
   "cell_type": "code",
   "execution_count": 22,
   "id": "8ca37e2c",
   "metadata": {
    "execution": {
     "iopub.execute_input": "2023-07-31T15:19:38.254815Z",
     "iopub.status.busy": "2023-07-31T15:19:38.254444Z",
     "iopub.status.idle": "2023-07-31T15:19:48.736906Z",
     "shell.execute_reply": "2023-07-31T15:19:48.735962Z"
    },
    "papermill": {
     "duration": 10.52829,
     "end_time": "2023-07-31T15:19:48.739391",
     "exception": false,
     "start_time": "2023-07-31T15:19:38.211101",
     "status": "completed"
    },
    "tags": []
   },
   "outputs": [
    {
     "name": "stderr",
     "output_type": "stream",
     "text": [
      "/opt/conda/lib/python3.10/site-packages/tensorflow_io/python/ops/__init__.py:98: UserWarning: unable to load libtensorflow_io_plugins.so: unable to open file: libtensorflow_io_plugins.so, from paths: ['/opt/conda/lib/python3.10/site-packages/tensorflow_io/python/ops/libtensorflow_io_plugins.so']\n",
      "caused by: ['/opt/conda/lib/python3.10/site-packages/tensorflow_io/python/ops/libtensorflow_io_plugins.so: undefined symbol: _ZN3tsl6StatusC1EN10tensorflow5error4CodeESt17basic_string_viewIcSt11char_traitsIcEENS_14SourceLocationE']\n",
      "  warnings.warn(f\"unable to load libtensorflow_io_plugins.so: {e}\")\n",
      "/opt/conda/lib/python3.10/site-packages/tensorflow_io/python/ops/__init__.py:104: UserWarning: file system plugins are not loaded: unable to open file: libtensorflow_io.so, from paths: ['/opt/conda/lib/python3.10/site-packages/tensorflow_io/python/ops/libtensorflow_io.so']\n",
      "caused by: ['/opt/conda/lib/python3.10/site-packages/tensorflow_io/python/ops/libtensorflow_io.so: undefined symbol: _ZTVN10tensorflow13GcsFileSystemE']\n",
      "  warnings.warn(f\"file system plugins are not loaded: {e}\")\n"
     ]
    }
   ],
   "source": [
    "# Import necessary libraries\n",
    "\n",
    "# tensorflow\n",
    "import tensorflow as tf\n",
    "\n",
    "# BERT\n",
    "from transformers import BertTokenizer, BertForSequenceClassification, TrainingArguments, Trainer, EarlyStoppingCallback, TextClassificationPipeline\n",
    "\n",
    "# model performance evaluation\n",
    "import evaluate"
   ]
  },
  {
   "cell_type": "code",
   "execution_count": 23,
   "id": "79ce099d",
   "metadata": {
    "execution": {
     "iopub.execute_input": "2023-07-31T15:19:48.827882Z",
     "iopub.status.busy": "2023-07-31T15:19:48.825910Z",
     "iopub.status.idle": "2023-07-31T15:19:49.771605Z",
     "shell.execute_reply": "2023-07-31T15:19:49.770271Z"
    },
    "papermill": {
     "duration": 0.991101,
     "end_time": "2023-07-31T15:19:49.773787",
     "exception": false,
     "start_time": "2023-07-31T15:19:48.782686",
     "status": "completed"
    },
    "tags": []
   },
   "outputs": [
    {
     "data": {
      "application/vnd.jupyter.widget-view+json": {
       "model_id": "01ed9847a6854c2cbcae88d7fde7d851",
       "version_major": 2,
       "version_minor": 0
      },
      "text/plain": [
       "Downloading (…)solve/main/vocab.txt:   0%|          | 0.00/232k [00:00<?, ?B/s]"
      ]
     },
     "metadata": {},
     "output_type": "display_data"
    },
    {
     "data": {
      "application/vnd.jupyter.widget-view+json": {
       "model_id": "6273e2fe294f4bf59a524f251b2328c7",
       "version_major": 2,
       "version_minor": 0
      },
      "text/plain": [
       "Downloading (…)okenizer_config.json:   0%|          | 0.00/28.0 [00:00<?, ?B/s]"
      ]
     },
     "metadata": {},
     "output_type": "display_data"
    },
    {
     "data": {
      "application/vnd.jupyter.widget-view+json": {
       "model_id": "032fb280b1e3452ba6eebfa3eb7bddb7",
       "version_major": 2,
       "version_minor": 0
      },
      "text/plain": [
       "Downloading (…)lve/main/config.json:   0%|          | 0.00/570 [00:00<?, ?B/s]"
      ]
     },
     "metadata": {},
     "output_type": "display_data"
    },
    {
     "data": {
      "text/plain": [
       "BertTokenizer(name_or_path='bert-base-uncased', vocab_size=30522, model_max_length=512, is_fast=False, padding_side='right', truncation_side='right', special_tokens={'unk_token': '[UNK]', 'sep_token': '[SEP]', 'pad_token': '[PAD]', 'cls_token': '[CLS]', 'mask_token': '[MASK]'}, clean_up_tokenization_spaces=True)"
      ]
     },
     "execution_count": 23,
     "metadata": {},
     "output_type": "execute_result"
    }
   ],
   "source": [
    "# Tokenizer from a pretrained model\n",
    "tokenizer = BertTokenizer.from_pretrained(\"bert-base-uncased\")\n",
    "\n",
    "# Take a look at the tokenizer\n",
    "tokenizer"
   ]
  },
  {
   "cell_type": "code",
   "execution_count": 24,
   "id": "b4e25563",
   "metadata": {
    "execution": {
     "iopub.execute_input": "2023-07-31T15:19:49.862166Z",
     "iopub.status.busy": "2023-07-31T15:19:49.861826Z",
     "iopub.status.idle": "2023-07-31T15:20:55.347101Z",
     "shell.execute_reply": "2023-07-31T15:20:55.346285Z"
    },
    "papermill": {
     "duration": 65.566253,
     "end_time": "2023-07-31T15:20:55.383549",
     "exception": false,
     "start_time": "2023-07-31T15:19:49.817296",
     "status": "completed"
    },
    "tags": []
   },
   "outputs": [
    {
     "data": {
      "application/vnd.jupyter.widget-view+json": {
       "model_id": "8a6ce27586724605b27081f10e2a8e4b",
       "version_major": 2,
       "version_minor": 0
      },
      "text/plain": [
       "  0%|          | 0/19459 [00:00<?, ?ex/s]"
      ]
     },
     "metadata": {},
     "output_type": "display_data"
    },
    {
     "data": {
      "application/vnd.jupyter.widget-view+json": {
       "model_id": "3b91876222394bf6a94e376d911be707",
       "version_major": 2,
       "version_minor": 0
      },
      "text/plain": [
       "  0%|          | 0/8339 [00:00<?, ?ex/s]"
      ]
     },
     "metadata": {},
     "output_type": "display_data"
    },
    {
     "data": {
      "application/vnd.jupyter.widget-view+json": {
       "model_id": "e478dc2b900745c7936446ad03030464",
       "version_major": 2,
       "version_minor": 0
      },
      "text/plain": [
       "  0%|          | 0/15021 [00:00<?, ?ex/s]"
      ]
     },
     "metadata": {},
     "output_type": "display_data"
    },
    {
     "data": {
      "application/vnd.jupyter.widget-view+json": {
       "model_id": "9c8f89c341cb47d0978c7d4e3d95fcb3",
       "version_major": 2,
       "version_minor": 0
      },
      "text/plain": [
       "  0%|          | 0/6438 [00:00<?, ?ex/s]"
      ]
     },
     "metadata": {},
     "output_type": "display_data"
    }
   ],
   "source": [
    "# Funtion to tokenize data\n",
    "def tokenize_dataset(data):\n",
    "    return tokenizer(data[\"sentence\"], \n",
    "                     max_length=32, \n",
    "                     truncation=True, \n",
    "                     padding=\"max_length\")\n",
    "\n",
    "# Tokenize the dataset for Sentiment Analysis\n",
    "dataset_train_sent = hg_train_sentiment.map(tokenize_dataset)\n",
    "dataset_test_sent = hg_test_sentiment.map(tokenize_dataset)\n",
    "\n",
    "# Tokenize the dataset for Emotion Analysis\n",
    "dataset_train_em = hg_train_emotion.map(tokenize_dataset)\n",
    "dataset_test_em = hg_test_emotion.map(tokenize_dataset)"
   ]
  },
  {
   "cell_type": "code",
   "execution_count": 25,
   "id": "36c11904",
   "metadata": {
    "execution": {
     "iopub.execute_input": "2023-07-31T15:20:55.478078Z",
     "iopub.status.busy": "2023-07-31T15:20:55.477723Z",
     "iopub.status.idle": "2023-07-31T15:20:55.482917Z",
     "shell.execute_reply": "2023-07-31T15:20:55.482032Z"
    },
    "papermill": {
     "duration": 0.056442,
     "end_time": "2023-07-31T15:20:55.485621",
     "exception": false,
     "start_time": "2023-07-31T15:20:55.429179",
     "status": "completed"
    },
    "tags": []
   },
   "outputs": [
    {
     "name": "stdout",
     "output_type": "stream",
     "text": [
      "Dataset({\n",
      "    features: ['sentence', 'label', '__index_level_0__', 'input_ids', 'token_type_ids', 'attention_mask'],\n",
      "    num_rows: 19459\n",
      "})\n",
      "Dataset({\n",
      "    features: ['sentence', 'label', '__index_level_0__', 'input_ids', 'token_type_ids', 'attention_mask'],\n",
      "    num_rows: 8339\n",
      "})\n"
     ]
    }
   ],
   "source": [
    "# Inspect the dataset\n",
    "print(dataset_train_sent)\n",
    "print(dataset_test_sent)"
   ]
  },
  {
   "cell_type": "markdown",
   "id": "15164c0b",
   "metadata": {
    "papermill": {
     "duration": 0.044066,
     "end_time": "2023-07-31T15:20:55.575703",
     "exception": false,
     "start_time": "2023-07-31T15:20:55.531637",
     "status": "completed"
    },
    "tags": []
   },
   "source": [
    "### 2.2 Training Phase"
   ]
  },
  {
   "cell_type": "code",
   "execution_count": 26,
   "id": "61187fc2",
   "metadata": {
    "execution": {
     "iopub.execute_input": "2023-07-31T15:20:55.666313Z",
     "iopub.status.busy": "2023-07-31T15:20:55.664611Z",
     "iopub.status.idle": "2023-07-31T15:21:01.406535Z",
     "shell.execute_reply": "2023-07-31T15:21:01.405597Z"
    },
    "papermill": {
     "duration": 5.789449,
     "end_time": "2023-07-31T15:21:01.408732",
     "exception": false,
     "start_time": "2023-07-31T15:20:55.619283",
     "status": "completed"
    },
    "tags": []
   },
   "outputs": [
    {
     "data": {
      "application/vnd.jupyter.widget-view+json": {
       "model_id": "79ae13ec84b44d8fa150b8eb617567f3",
       "version_major": 2,
       "version_minor": 0
      },
      "text/plain": [
       "Downloading model.safetensors:   0%|          | 0.00/440M [00:00<?, ?B/s]"
      ]
     },
     "metadata": {},
     "output_type": "display_data"
    },
    {
     "name": "stderr",
     "output_type": "stream",
     "text": [
      "Some weights of the model checkpoint at bert-base-uncased were not used when initializing BertForSequenceClassification: ['cls.predictions.bias', 'cls.predictions.transform.dense.weight', 'cls.seq_relationship.bias', 'cls.predictions.transform.LayerNorm.bias', 'cls.seq_relationship.weight', 'cls.predictions.transform.dense.bias', 'cls.predictions.transform.LayerNorm.weight']\n",
      "- This IS expected if you are initializing BertForSequenceClassification from the checkpoint of a model trained on another task or with another architecture (e.g. initializing a BertForSequenceClassification model from a BertForPreTraining model).\n",
      "- This IS NOT expected if you are initializing BertForSequenceClassification from the checkpoint of a model that you expect to be exactly identical (initializing a BertForSequenceClassification model from a BertForSequenceClassification model).\n",
      "Some weights of BertForSequenceClassification were not initialized from the model checkpoint at bert-base-uncased and are newly initialized: ['classifier.bias', 'classifier.weight']\n",
      "You should probably TRAIN this model on a down-stream task to be able to use it for predictions and inference.\n",
      "Some weights of the model checkpoint at bert-base-uncased were not used when initializing BertForSequenceClassification: ['cls.predictions.bias', 'cls.predictions.transform.dense.weight', 'cls.seq_relationship.bias', 'cls.predictions.transform.LayerNorm.bias', 'cls.seq_relationship.weight', 'cls.predictions.transform.dense.bias', 'cls.predictions.transform.LayerNorm.weight']\n",
      "- This IS expected if you are initializing BertForSequenceClassification from the checkpoint of a model trained on another task or with another architecture (e.g. initializing a BertForSequenceClassification model from a BertForPreTraining model).\n",
      "- This IS NOT expected if you are initializing BertForSequenceClassification from the checkpoint of a model that you expect to be exactly identical (initializing a BertForSequenceClassification model from a BertForSequenceClassification model).\n",
      "Some weights of BertForSequenceClassification were not initialized from the model checkpoint at bert-base-uncased and are newly initialized: ['classifier.bias', 'classifier.weight']\n",
      "You should probably TRAIN this model on a down-stream task to be able to use it for predictions and inference.\n"
     ]
    }
   ],
   "source": [
    "# Load models\n",
    "model_sent = BertForSequenceClassification.from_pretrained(\"bert-base-uncased\", num_labels=2) #sentiment analysis\n",
    "model_em = BertForSequenceClassification.from_pretrained(\"bert-base-uncased\", num_labels=6)  #emotion analysis"
   ]
  },
  {
   "cell_type": "code",
   "execution_count": 27,
   "id": "6cd4f60a",
   "metadata": {
    "execution": {
     "iopub.execute_input": "2023-07-31T15:21:01.504768Z",
     "iopub.status.busy": "2023-07-31T15:21:01.503583Z",
     "iopub.status.idle": "2023-07-31T15:21:01.594422Z",
     "shell.execute_reply": "2023-07-31T15:21:01.593332Z"
    },
    "papermill": {
     "duration": 0.143279,
     "end_time": "2023-07-31T15:21:01.596764",
     "exception": false,
     "start_time": "2023-07-31T15:21:01.453485",
     "status": "completed"
    },
    "tags": []
   },
   "outputs": [],
   "source": [
    "# Set up training arguments\n",
    "training_args = TrainingArguments(\n",
    "    output_dir=\"./sentiment_transfer_learning_transformer/\",          \n",
    "    logging_dir='./sentiment_transfer_learning_transformer/logs',            \n",
    "    logging_strategy='epoch',\n",
    "    logging_steps=100,    \n",
    "    num_train_epochs=2,              \n",
    "    per_device_train_batch_size=4,  \n",
    "    per_device_eval_batch_size=4,  \n",
    "    learning_rate=5e-6,\n",
    "    seed=42,\n",
    "    save_strategy='epoch',\n",
    "    save_steps=100,\n",
    "    evaluation_strategy='epoch',\n",
    "    eval_steps=100,\n",
    "    load_best_model_at_end=True\n",
    ")"
   ]
  },
  {
   "cell_type": "code",
   "execution_count": 28,
   "id": "7ed001d3",
   "metadata": {
    "execution": {
     "iopub.execute_input": "2023-07-31T15:21:01.689244Z",
     "iopub.status.busy": "2023-07-31T15:21:01.688573Z",
     "iopub.status.idle": "2023-07-31T15:21:01.693957Z",
     "shell.execute_reply": "2023-07-31T15:21:01.692913Z"
    },
    "papermill": {
     "duration": 0.054125,
     "end_time": "2023-07-31T15:21:01.696363",
     "exception": false,
     "start_time": "2023-07-31T15:21:01.642238",
     "status": "completed"
    },
    "tags": []
   },
   "outputs": [],
   "source": [
    "# Function to compute the metric\n",
    "def compute_metrics(eval_pred):\n",
    "    metric = evaluate.load(\"accuracy\")\n",
    "    logits, labels = eval_pred\n",
    "    # probabilities = tf.nn.softmax(logits)\n",
    "    predictions = np.argmax(logits, axis=1)\n",
    "    return metric.compute(predictions=predictions, references=labels)"
   ]
  },
  {
   "cell_type": "code",
   "execution_count": 29,
   "id": "7d9871a7",
   "metadata": {
    "execution": {
     "iopub.execute_input": "2023-07-31T15:21:01.790142Z",
     "iopub.status.busy": "2023-07-31T15:21:01.789758Z",
     "iopub.status.idle": "2023-07-31T15:30:30.226040Z",
     "shell.execute_reply": "2023-07-31T15:30:30.224920Z"
    },
    "papermill": {
     "duration": 568.487074,
     "end_time": "2023-07-31T15:30:30.229543",
     "exception": false,
     "start_time": "2023-07-31T15:21:01.742469",
     "status": "completed"
    },
    "tags": []
   },
   "outputs": [
    {
     "name": "stderr",
     "output_type": "stream",
     "text": [
      "/opt/conda/lib/python3.10/site-packages/transformers/optimization.py:411: FutureWarning: This implementation of AdamW is deprecated and will be removed in a future version. Use the PyTorch implementation torch.optim.AdamW instead, or set `no_deprecation_warning=True` to disable this warning\n",
      "  warnings.warn(\n",
      "\u001b[34m\u001b[1mwandb\u001b[0m: Currently logged in as: \u001b[33mmariateresadrp\u001b[0m (\u001b[33mmariateresadrp99\u001b[0m). Use \u001b[1m`wandb login --relogin`\u001b[0m to force relogin\n",
      "\u001b[34m\u001b[1mwandb\u001b[0m: wandb version 0.15.7 is available!  To upgrade, please run:\n",
      "\u001b[34m\u001b[1mwandb\u001b[0m:  $ pip install wandb --upgrade\n",
      "\u001b[34m\u001b[1mwandb\u001b[0m: Tracking run with wandb version 0.15.5\n",
      "\u001b[34m\u001b[1mwandb\u001b[0m: Run data is saved locally in \u001b[35m\u001b[1m/kaggle/working/wandb/run-20230731_152107-05vnwdwx\u001b[0m\n",
      "\u001b[34m\u001b[1mwandb\u001b[0m: Run \u001b[1m`wandb offline`\u001b[0m to turn off syncing.\n",
      "\u001b[34m\u001b[1mwandb\u001b[0m: Syncing run \u001b[33mvague-frost-32\u001b[0m\n",
      "\u001b[34m\u001b[1mwandb\u001b[0m: ⭐️ View project at \u001b[34m\u001b[4mhttps://wandb.ai/mariateresadrp99/huggingface\u001b[0m\n",
      "\u001b[34m\u001b[1mwandb\u001b[0m: 🚀 View run at \u001b[34m\u001b[4mhttps://wandb.ai/mariateresadrp99/huggingface/runs/05vnwdwx\u001b[0m\n"
     ]
    },
    {
     "data": {
      "text/html": [
       "\n",
       "    <div>\n",
       "      \n",
       "      <progress value='9730' max='9730' style='width:300px; height:20px; vertical-align: middle;'></progress>\n",
       "      [9730/9730 08:49, Epoch 2/2]\n",
       "    </div>\n",
       "    <table border=\"1\" class=\"dataframe\">\n",
       "  <thead>\n",
       " <tr style=\"text-align: left;\">\n",
       "      <th>Epoch</th>\n",
       "      <th>Training Loss</th>\n",
       "      <th>Validation Loss</th>\n",
       "      <th>Accuracy</th>\n",
       "    </tr>\n",
       "  </thead>\n",
       "  <tbody>\n",
       "    <tr>\n",
       "      <td>1</td>\n",
       "      <td>0.392000</td>\n",
       "      <td>0.326839</td>\n",
       "      <td>0.910301</td>\n",
       "    </tr>\n",
       "    <tr>\n",
       "      <td>2</td>\n",
       "      <td>0.278900</td>\n",
       "      <td>0.388759</td>\n",
       "      <td>0.914018</td>\n",
       "    </tr>\n",
       "  </tbody>\n",
       "</table><p>"
      ],
      "text/plain": [
       "<IPython.core.display.HTML object>"
      ]
     },
     "metadata": {},
     "output_type": "display_data"
    },
    {
     "data": {
      "application/vnd.jupyter.widget-view+json": {
       "model_id": "3d2d82e081bb461080052a7d41b38511",
       "version_major": 2,
       "version_minor": 0
      },
      "text/plain": [
       "Downloading builder script:   0%|          | 0.00/4.20k [00:00<?, ?B/s]"
      ]
     },
     "metadata": {},
     "output_type": "display_data"
    },
    {
     "data": {
      "text/plain": [
       "TrainOutput(global_step=9730, training_loss=0.33545369758880395, metrics={'train_runtime': 562.6543, 'train_samples_per_second': 69.169, 'train_steps_per_second': 17.293, 'total_flos': 639984753281280.0, 'train_loss': 0.33545369758880395, 'epoch': 2.0})"
      ]
     },
     "execution_count": 29,
     "metadata": {},
     "output_type": "execute_result"
    }
   ],
   "source": [
    "# Train the model for Sentiment Analysis task\n",
    "\n",
    "trainer = Trainer(\n",
    "    model=model_sent,\n",
    "    args=training_args,\n",
    "    train_dataset=dataset_train_sent,\n",
    "    eval_dataset=dataset_test_sent,\n",
    "    compute_metrics=compute_metrics,\n",
    "    callbacks=[EarlyStoppingCallback(early_stopping_patience=1)]\n",
    ")\n",
    "\n",
    "trainer.train()"
   ]
  },
  {
   "cell_type": "code",
   "execution_count": 30,
   "id": "003b0c4b",
   "metadata": {
    "execution": {
     "iopub.execute_input": "2023-07-31T15:30:30.405935Z",
     "iopub.status.busy": "2023-07-31T15:30:30.405575Z",
     "iopub.status.idle": "2023-07-31T15:37:14.854915Z",
     "shell.execute_reply": "2023-07-31T15:37:14.853677Z"
    },
    "papermill": {
     "duration": 404.509097,
     "end_time": "2023-07-31T15:37:14.858299",
     "exception": false,
     "start_time": "2023-07-31T15:30:30.349202",
     "status": "completed"
    },
    "tags": []
   },
   "outputs": [
    {
     "name": "stderr",
     "output_type": "stream",
     "text": [
      "/opt/conda/lib/python3.10/site-packages/transformers/optimization.py:411: FutureWarning: This implementation of AdamW is deprecated and will be removed in a future version. Use the PyTorch implementation torch.optim.AdamW instead, or set `no_deprecation_warning=True` to disable this warning\n",
      "  warnings.warn(\n"
     ]
    },
    {
     "data": {
      "text/html": [
       "\n",
       "    <div>\n",
       "      \n",
       "      <progress value='7512' max='7512' style='width:300px; height:20px; vertical-align: middle;'></progress>\n",
       "      [7512/7512 06:43, Epoch 2/2]\n",
       "    </div>\n",
       "    <table border=\"1\" class=\"dataframe\">\n",
       "  <thead>\n",
       " <tr style=\"text-align: left;\">\n",
       "      <th>Epoch</th>\n",
       "      <th>Training Loss</th>\n",
       "      <th>Validation Loss</th>\n",
       "      <th>Accuracy</th>\n",
       "    </tr>\n",
       "  </thead>\n",
       "  <tbody>\n",
       "    <tr>\n",
       "      <td>1</td>\n",
       "      <td>0.776100</td>\n",
       "      <td>0.437658</td>\n",
       "      <td>0.887077</td>\n",
       "    </tr>\n",
       "    <tr>\n",
       "      <td>2</td>\n",
       "      <td>0.356100</td>\n",
       "      <td>0.419662</td>\n",
       "      <td>0.893290</td>\n",
       "    </tr>\n",
       "  </tbody>\n",
       "</table><p>"
      ],
      "text/plain": [
       "<IPython.core.display.HTML object>"
      ]
     },
     "metadata": {},
     "output_type": "display_data"
    },
    {
     "data": {
      "text/plain": [
       "TrainOutput(global_step=7512, training_loss=0.5660911616933739, metrics={'train_runtime': 403.8681, 'train_samples_per_second': 74.386, 'train_steps_per_second': 18.6, 'total_flos': 494041637885184.0, 'train_loss': 0.5660911616933739, 'epoch': 2.0})"
      ]
     },
     "execution_count": 30,
     "metadata": {},
     "output_type": "execute_result"
    }
   ],
   "source": [
    "# Train the model for Emotion Analysis task\n",
    "\n",
    "trainer_em = Trainer(\n",
    "    model=model_em,\n",
    "    args=training_args,\n",
    "    train_dataset=dataset_train_em,\n",
    "    eval_dataset=dataset_test_em,\n",
    "    compute_metrics=compute_metrics,\n",
    "    callbacks=[EarlyStoppingCallback(early_stopping_patience=1)]\n",
    ")\n",
    "\n",
    "trainer_em.train()"
   ]
  },
  {
   "cell_type": "markdown",
   "id": "339e249d",
   "metadata": {
    "papermill": {
     "duration": 0.118026,
     "end_time": "2023-07-31T15:37:15.073109",
     "exception": false,
     "start_time": "2023-07-31T15:37:14.955083",
     "status": "completed"
    },
    "tags": []
   },
   "source": [
    "### 2.3 Evaluation and Inspection of Predictions"
   ]
  },
  {
   "cell_type": "code",
   "execution_count": 31,
   "id": "6321a4bb",
   "metadata": {
    "execution": {
     "iopub.execute_input": "2023-07-31T15:37:15.301631Z",
     "iopub.status.busy": "2023-07-31T15:37:15.301259Z",
     "iopub.status.idle": "2023-07-31T15:38:00.837239Z",
     "shell.execute_reply": "2023-07-31T15:38:00.836173Z"
    },
    "papermill": {
     "duration": 45.645357,
     "end_time": "2023-07-31T15:38:00.839443",
     "exception": false,
     "start_time": "2023-07-31T15:37:15.194086",
     "status": "completed"
    },
    "tags": []
   },
   "outputs": [
    {
     "data": {
      "text/html": [],
      "text/plain": [
       "<IPython.core.display.HTML object>"
      ]
     },
     "metadata": {},
     "output_type": "display_data"
    },
    {
     "data": {
      "text/html": [],
      "text/plain": [
       "<IPython.core.display.HTML object>"
      ]
     },
     "metadata": {},
     "output_type": "display_data"
    }
   ],
   "source": [
    "# Perform predictions using the 'trainer' object.\n",
    "predict_test_sent = trainer.predict(dataset_test_sent)\n",
    "predict_test_em = trainer_em.predict(dataset_test_em)"
   ]
  },
  {
   "cell_type": "code",
   "execution_count": 32,
   "id": "a7cf253e",
   "metadata": {
    "execution": {
     "iopub.execute_input": "2023-07-31T15:38:00.942658Z",
     "iopub.status.busy": "2023-07-31T15:38:00.941612Z",
     "iopub.status.idle": "2023-07-31T15:38:00.950532Z",
     "shell.execute_reply": "2023-07-31T15:38:00.949300Z"
    },
    "papermill": {
     "duration": 0.06456,
     "end_time": "2023-07-31T15:38:00.953524",
     "exception": false,
     "start_time": "2023-07-31T15:38:00.888964",
     "status": "completed"
    },
    "tags": []
   },
   "outputs": [
    {
     "data": {
      "text/plain": [
       "array([[ 2.4452684 , -1.9540396 ],\n",
       "       [ 1.5986093 , -1.2683821 ],\n",
       "       [ 0.70327425, -0.55900276],\n",
       "       [ 0.8177115 , -0.46324536],\n",
       "       [-3.0356154 ,  2.6137848 ]], dtype=float32)"
      ]
     },
     "execution_count": 32,
     "metadata": {},
     "output_type": "execute_result"
    }
   ],
   "source": [
    "# Obtained model predictions as logits\n",
    "logits_sent = predict_test_sent.predictions\n",
    "logits_em = predict_test_em.predictions\n",
    "\n",
    "# Inspect first 5 predicted probabilities\n",
    "logits_sent[:5]"
   ]
  },
  {
   "cell_type": "code",
   "execution_count": 33,
   "id": "f1d8d3eb",
   "metadata": {
    "execution": {
     "iopub.execute_input": "2023-07-31T15:38:01.060468Z",
     "iopub.status.busy": "2023-07-31T15:38:01.059484Z",
     "iopub.status.idle": "2023-07-31T15:38:01.503654Z",
     "shell.execute_reply": "2023-07-31T15:38:01.502583Z"
    },
    "papermill": {
     "duration": 0.497983,
     "end_time": "2023-07-31T15:38:01.506593",
     "exception": false,
     "start_time": "2023-07-31T15:38:01.008610",
     "status": "completed"
    },
    "tags": []
   },
   "outputs": [
    {
     "data": {
      "text/plain": [
       "<tf.Tensor: shape=(5, 2), dtype=float32, numpy=\n",
       "array([[0.9878633 , 0.01213673],\n",
       "       [0.9461904 , 0.05380962],\n",
       "       [0.7794179 , 0.22058217],\n",
       "       [0.7826126 , 0.2173874 ],\n",
       "       [0.00350728, 0.9964927 ]], dtype=float32)>"
      ]
     },
     "execution_count": 33,
     "metadata": {},
     "output_type": "execute_result"
    }
   ],
   "source": [
    "# Obtained model predictions as probabilities\n",
    "probabilities_sent = tf.nn.softmax(logits_sent)\n",
    "probabilities_em = tf.nn.softmax(logits_em)\n",
    "\n",
    "# Inspect first 5 predicted logits\n",
    "\n",
    "probabilities_sent[:5]"
   ]
  },
  {
   "cell_type": "code",
   "execution_count": 34,
   "id": "0126c363",
   "metadata": {
    "execution": {
     "iopub.execute_input": "2023-07-31T15:38:01.608583Z",
     "iopub.status.busy": "2023-07-31T15:38:01.608240Z",
     "iopub.status.idle": "2023-07-31T15:38:01.617048Z",
     "shell.execute_reply": "2023-07-31T15:38:01.616156Z"
    },
    "papermill": {
     "duration": 0.059789,
     "end_time": "2023-07-31T15:38:01.619163",
     "exception": false,
     "start_time": "2023-07-31T15:38:01.559374",
     "status": "completed"
    },
    "tags": []
   },
   "outputs": [
    {
     "data": {
      "text/plain": [
       "array([0, 0, 0, 0, 1])"
      ]
     },
     "execution_count": 34,
     "metadata": {},
     "output_type": "execute_result"
    }
   ],
   "source": [
    "# Obtained model predictions as class labels\n",
    "pred_labels_sent = np.argmax(probabilities_sent, axis=1)\n",
    "pred_labels_em = np.argmax(probabilities_em, axis=1)\n",
    "\n",
    "# Inspect first 5 predicted probabilities\n",
    "pred_labels_sent[:5]"
   ]
  },
  {
   "cell_type": "code",
   "execution_count": 35,
   "id": "e294708b",
   "metadata": {
    "execution": {
     "iopub.execute_input": "2023-07-31T15:38:01.715658Z",
     "iopub.status.busy": "2023-07-31T15:38:01.715304Z",
     "iopub.status.idle": "2023-07-31T15:38:01.731272Z",
     "shell.execute_reply": "2023-07-31T15:38:01.730340Z"
    },
    "papermill": {
     "duration": 0.066247,
     "end_time": "2023-07-31T15:38:01.733273",
     "exception": false,
     "start_time": "2023-07-31T15:38:01.667026",
     "status": "completed"
    },
    "tags": []
   },
   "outputs": [
    {
     "data": {
      "text/plain": [
       "[0, 0, 1, 1, 1]"
      ]
     },
     "execution_count": 35,
     "metadata": {},
     "output_type": "execute_result"
    }
   ],
   "source": [
    "# Actual labels\n",
    "actual_labels_sent = dataset_test_sent['label'] \n",
    "actual_labels_em = dataset_test_em['label'] \n",
    "\n",
    "# Inspect first 5 predicted probabilities\n",
    "actual_labels_sent[:5]"
   ]
  },
  {
   "cell_type": "markdown",
   "id": "c68a8c6d",
   "metadata": {
    "papermill": {
     "duration": 0.0486,
     "end_time": "2023-07-31T15:38:01.830326",
     "exception": false,
     "start_time": "2023-07-31T15:38:01.781726",
     "status": "completed"
    },
    "tags": []
   },
   "source": [
    "### 2.4 Creation of the new dataset consisting of Mispredictions and Correct Predictions"
   ]
  },
  {
   "cell_type": "code",
   "execution_count": 36,
   "id": "2f83dde0",
   "metadata": {
    "execution": {
     "iopub.execute_input": "2023-07-31T15:38:01.933137Z",
     "iopub.status.busy": "2023-07-31T15:38:01.932735Z",
     "iopub.status.idle": "2023-07-31T15:38:01.955739Z",
     "shell.execute_reply": "2023-07-31T15:38:01.954623Z"
    },
    "papermill": {
     "duration": 0.078089,
     "end_time": "2023-07-31T15:38:01.958377",
     "exception": false,
     "start_time": "2023-07-31T15:38:01.880288",
     "status": "completed"
    },
    "tags": []
   },
   "outputs": [],
   "source": [
    "# Access predicted labels \n",
    "predicted_labels_sent = tf.argmax(probabilities_sent, axis=1)\n",
    "predicted_labels_em = tf.argmax(probabilities_em , axis=1)\n",
    "\n",
    "# Access predicted probabilities\n",
    "probab_labels_sent = tf.reduce_max(probabilities_sent, axis=1)\n",
    "probab_labels_em = tf.reduce_max(probabilities_em, axis=1)"
   ]
  },
  {
   "cell_type": "code",
   "execution_count": 37,
   "id": "193592d8",
   "metadata": {
    "execution": {
     "iopub.execute_input": "2023-07-31T15:38:02.063592Z",
     "iopub.status.busy": "2023-07-31T15:38:02.062878Z",
     "iopub.status.idle": "2023-07-31T15:38:02.071747Z",
     "shell.execute_reply": "2023-07-31T15:38:02.070789Z"
    },
    "papermill": {
     "duration": 0.063805,
     "end_time": "2023-07-31T15:38:02.073987",
     "exception": false,
     "start_time": "2023-07-31T15:38:02.010182",
     "status": "completed"
    },
    "tags": []
   },
   "outputs": [],
   "source": [
    "# Create new columns in test data\n",
    "test_reviews['Predicted Label'] = predicted_labels_sent.numpy()\n",
    "test_emotions['Predicted Label'] = predicted_labels_em.numpy()\n",
    "\n",
    "test_reviews['Probability'] = probab_labels_sent.numpy()\n",
    "test_emotions['Probability'] = probab_labels_em.numpy()"
   ]
  },
  {
   "cell_type": "code",
   "execution_count": 38,
   "id": "d7c40844",
   "metadata": {
    "execution": {
     "iopub.execute_input": "2023-07-31T15:38:02.173968Z",
     "iopub.status.busy": "2023-07-31T15:38:02.173002Z",
     "iopub.status.idle": "2023-07-31T15:38:02.180917Z",
     "shell.execute_reply": "2023-07-31T15:38:02.180038Z"
    },
    "papermill": {
     "duration": 0.059622,
     "end_time": "2023-07-31T15:38:02.182917",
     "exception": false,
     "start_time": "2023-07-31T15:38:02.123295",
     "status": "completed"
    },
    "tags": []
   },
   "outputs": [],
   "source": [
    "# Create the Misprediction columns\n",
    "\n",
    "test_reviews['Misprediction'] = np.where(test_reviews['label'] != test_reviews['Predicted Label'], 1, 0)\n",
    "test_emotions['Misprediction'] = np.where(test_emotions['label'] != test_emotions['Predicted Label'], 1, 0)"
   ]
  },
  {
   "cell_type": "code",
   "execution_count": 39,
   "id": "328c0fc9",
   "metadata": {
    "execution": {
     "iopub.execute_input": "2023-07-31T15:38:02.282213Z",
     "iopub.status.busy": "2023-07-31T15:38:02.281266Z",
     "iopub.status.idle": "2023-07-31T15:38:02.291329Z",
     "shell.execute_reply": "2023-07-31T15:38:02.290393Z"
    },
    "papermill": {
     "duration": 0.062173,
     "end_time": "2023-07-31T15:38:02.293526",
     "exception": false,
     "start_time": "2023-07-31T15:38:02.231353",
     "status": "completed"
    },
    "tags": []
   },
   "outputs": [
    {
     "name": "stdout",
     "output_type": "stream",
     "text": [
      "748\n"
     ]
    }
   ],
   "source": [
    "# Inspect the number of mispredicted examples for Sentiment Analysis\n",
    "\n",
    "mismatched_examples_sent = test_reviews[test_reviews['Misprediction'] == 1]\n",
    "print(len(mismatched_examples_sent))"
   ]
  },
  {
   "cell_type": "code",
   "execution_count": 40,
   "id": "4b7f05c7",
   "metadata": {
    "execution": {
     "iopub.execute_input": "2023-07-31T15:38:02.393284Z",
     "iopub.status.busy": "2023-07-31T15:38:02.392880Z",
     "iopub.status.idle": "2023-07-31T15:38:02.402407Z",
     "shell.execute_reply": "2023-07-31T15:38:02.400881Z"
    },
    "papermill": {
     "duration": 0.062624,
     "end_time": "2023-07-31T15:38:02.404665",
     "exception": false,
     "start_time": "2023-07-31T15:38:02.342041",
     "status": "completed"
    },
    "tags": []
   },
   "outputs": [
    {
     "name": "stdout",
     "output_type": "stream",
     "text": [
      "687\n"
     ]
    }
   ],
   "source": [
    "# Inspect the number of mispredicted examples for Emotion Analysis\n",
    "\n",
    "mismatched_examples_em = test_emotions[test_emotions['Misprediction'] == 1]\n",
    "print(len(mismatched_examples_em))"
   ]
  },
  {
   "cell_type": "code",
   "execution_count": 41,
   "id": "716804b5",
   "metadata": {
    "execution": {
     "iopub.execute_input": "2023-07-31T15:38:02.508758Z",
     "iopub.status.busy": "2023-07-31T15:38:02.508394Z",
     "iopub.status.idle": "2023-07-31T15:38:02.517779Z",
     "shell.execute_reply": "2023-07-31T15:38:02.516893Z"
    },
    "papermill": {
     "duration": 0.064138,
     "end_time": "2023-07-31T15:38:02.519848",
     "exception": false,
     "start_time": "2023-07-31T15:38:02.455710",
     "status": "completed"
    },
    "tags": []
   },
   "outputs": [],
   "source": [
    "# Define an equivalent number of correct predictions\n",
    "\n",
    "matched_examples_sent = test_reviews[test_reviews['Misprediction'] == 0].sample(n=796)\n",
    "matched_examples_em = test_emotions[test_emotions['Misprediction'] == 0].sample(n=780)"
   ]
  },
  {
   "cell_type": "code",
   "execution_count": 42,
   "id": "9c8402f2",
   "metadata": {
    "execution": {
     "iopub.execute_input": "2023-07-31T15:38:02.621049Z",
     "iopub.status.busy": "2023-07-31T15:38:02.620367Z",
     "iopub.status.idle": "2023-07-31T15:38:02.627893Z",
     "shell.execute_reply": "2023-07-31T15:38:02.626952Z"
    },
    "papermill": {
     "duration": 0.06026,
     "end_time": "2023-07-31T15:38:02.630256",
     "exception": false,
     "start_time": "2023-07-31T15:38:02.569996",
     "status": "completed"
    },
    "tags": []
   },
   "outputs": [],
   "source": [
    "# Combine the mismatched and matched examples into a different dataset\n",
    "\n",
    "df_mispredictions_sent = pd.concat([mismatched_examples_sent, matched_examples_sent])\n",
    "df_mispredictions_em = pd.concat([mismatched_examples_em, matched_examples_em])"
   ]
  },
  {
   "cell_type": "code",
   "execution_count": 43,
   "id": "80cd24cc",
   "metadata": {
    "execution": {
     "iopub.execute_input": "2023-07-31T15:38:02.731457Z",
     "iopub.status.busy": "2023-07-31T15:38:02.730557Z",
     "iopub.status.idle": "2023-07-31T15:38:02.777179Z",
     "shell.execute_reply": "2023-07-31T15:38:02.776073Z"
    },
    "papermill": {
     "duration": 0.100503,
     "end_time": "2023-07-31T15:38:02.780132",
     "exception": false,
     "start_time": "2023-07-31T15:38:02.679629",
     "status": "completed"
    },
    "tags": []
   },
   "outputs": [],
   "source": [
    "#Export the datasets\n",
    "\n",
    "df_mispredictions_sent.to_csv('df_mispredictions_sent.csv', index=False)\n",
    "df_mispredictions_em.to_csv('df_mispredictions_em.csv', index=False)"
   ]
  },
  {
   "cell_type": "markdown",
   "id": "55bf45e4",
   "metadata": {
    "papermill": {
     "duration": 0.048734,
     "end_time": "2023-07-31T15:38:02.878923",
     "exception": false,
     "start_time": "2023-07-31T15:38:02.830189",
     "status": "completed"
    },
    "tags": []
   },
   "source": [
    "# PART 3: \n",
    "## Feature Extraction\n",
    "### 3.1 Some further Dataset Preprocessing"
   ]
  },
  {
   "cell_type": "code",
   "execution_count": 44,
   "id": "c5dd54a4",
   "metadata": {
    "collapsed": true,
    "execution": {
     "iopub.execute_input": "2023-07-31T15:38:02.986257Z",
     "iopub.status.busy": "2023-07-31T15:38:02.984973Z",
     "iopub.status.idle": "2023-07-31T15:39:30.771353Z",
     "shell.execute_reply": "2023-07-31T15:39:30.770108Z"
    },
    "jupyter": {
     "outputs_hidden": true
    },
    "papermill": {
     "duration": 87.841109,
     "end_time": "2023-07-31T15:39:30.774684",
     "exception": false,
     "start_time": "2023-07-31T15:38:02.933575",
     "status": "completed"
    },
    "tags": []
   },
   "outputs": [
    {
     "name": "stdout",
     "output_type": "stream",
     "text": [
      "Requirement already satisfied: nltk in /opt/conda/lib/python3.10/site-packages (3.2.4)\r\n",
      "Requirement already satisfied: six in /opt/conda/lib/python3.10/site-packages (from nltk) (1.16.0)\r\n",
      "Requirement already satisfied: spacy in /opt/conda/lib/python3.10/site-packages (3.5.4)\r\n",
      "Requirement already satisfied: spacy-legacy<3.1.0,>=3.0.11 in /opt/conda/lib/python3.10/site-packages (from spacy) (3.0.12)\r\n",
      "Requirement already satisfied: spacy-loggers<2.0.0,>=1.0.0 in /opt/conda/lib/python3.10/site-packages (from spacy) (1.0.4)\r\n",
      "Requirement already satisfied: murmurhash<1.1.0,>=0.28.0 in /opt/conda/lib/python3.10/site-packages (from spacy) (1.0.9)\r\n",
      "Requirement already satisfied: cymem<2.1.0,>=2.0.2 in /opt/conda/lib/python3.10/site-packages (from spacy) (2.0.7)\r\n",
      "Requirement already satisfied: preshed<3.1.0,>=3.0.2 in /opt/conda/lib/python3.10/site-packages (from spacy) (3.0.8)\r\n",
      "Requirement already satisfied: thinc<8.2.0,>=8.1.8 in /opt/conda/lib/python3.10/site-packages (from spacy) (8.1.10)\r\n",
      "Requirement already satisfied: wasabi<1.2.0,>=0.9.1 in /opt/conda/lib/python3.10/site-packages (from spacy) (1.1.2)\r\n",
      "Requirement already satisfied: srsly<3.0.0,>=2.4.3 in /opt/conda/lib/python3.10/site-packages (from spacy) (2.4.6)\r\n",
      "Requirement already satisfied: catalogue<2.1.0,>=2.0.6 in /opt/conda/lib/python3.10/site-packages (from spacy) (2.0.8)\r\n",
      "Requirement already satisfied: typer<0.10.0,>=0.3.0 in /opt/conda/lib/python3.10/site-packages (from spacy) (0.9.0)\r\n",
      "Requirement already satisfied: pathy>=0.10.0 in /opt/conda/lib/python3.10/site-packages (from spacy) (0.10.1)\r\n",
      "Requirement already satisfied: smart-open<7.0.0,>=5.2.1 in /opt/conda/lib/python3.10/site-packages (from spacy) (6.3.0)\r\n",
      "Requirement already satisfied: tqdm<5.0.0,>=4.38.0 in /opt/conda/lib/python3.10/site-packages (from spacy) (4.65.0)\r\n",
      "Requirement already satisfied: numpy>=1.15.0 in /opt/conda/lib/python3.10/site-packages (from spacy) (1.23.5)\r\n",
      "Requirement already satisfied: requests<3.0.0,>=2.13.0 in /opt/conda/lib/python3.10/site-packages (from spacy) (2.31.0)\r\n",
      "Requirement already satisfied: pydantic!=1.8,!=1.8.1,<1.11.0,>=1.7.4 in /opt/conda/lib/python3.10/site-packages (from spacy) (1.10.10)\r\n",
      "Requirement already satisfied: jinja2 in /opt/conda/lib/python3.10/site-packages (from spacy) (3.1.2)\r\n",
      "Requirement already satisfied: setuptools in /opt/conda/lib/python3.10/site-packages (from spacy) (59.8.0)\r\n",
      "Requirement already satisfied: packaging>=20.0 in /opt/conda/lib/python3.10/site-packages (from spacy) (21.3)\r\n",
      "Requirement already satisfied: langcodes<4.0.0,>=3.2.0 in /opt/conda/lib/python3.10/site-packages (from spacy) (3.3.0)\r\n",
      "Requirement already satisfied: pyparsing!=3.0.5,>=2.0.2 in /opt/conda/lib/python3.10/site-packages (from packaging>=20.0->spacy) (3.0.9)\r\n",
      "Requirement already satisfied: typing-extensions>=4.2.0 in /opt/conda/lib/python3.10/site-packages (from pydantic!=1.8,!=1.8.1,<1.11.0,>=1.7.4->spacy) (4.6.3)\r\n",
      "Requirement already satisfied: charset-normalizer<4,>=2 in /opt/conda/lib/python3.10/site-packages (from requests<3.0.0,>=2.13.0->spacy) (3.1.0)\r\n",
      "Requirement already satisfied: idna<4,>=2.5 in /opt/conda/lib/python3.10/site-packages (from requests<3.0.0,>=2.13.0->spacy) (3.4)\r\n",
      "Requirement already satisfied: urllib3<3,>=1.21.1 in /opt/conda/lib/python3.10/site-packages (from requests<3.0.0,>=2.13.0->spacy) (1.26.15)\r\n",
      "Requirement already satisfied: certifi>=2017.4.17 in /opt/conda/lib/python3.10/site-packages (from requests<3.0.0,>=2.13.0->spacy) (2023.5.7)\r\n",
      "Requirement already satisfied: blis<0.8.0,>=0.7.8 in /opt/conda/lib/python3.10/site-packages (from thinc<8.2.0,>=8.1.8->spacy) (0.7.9)\r\n",
      "Requirement already satisfied: confection<1.0.0,>=0.0.1 in /opt/conda/lib/python3.10/site-packages (from thinc<8.2.0,>=8.1.8->spacy) (0.1.0)\r\n",
      "Requirement already satisfied: click<9.0.0,>=7.1.1 in /opt/conda/lib/python3.10/site-packages (from typer<0.10.0,>=0.3.0->spacy) (8.1.3)\r\n",
      "Requirement already satisfied: MarkupSafe>=2.0 in /opt/conda/lib/python3.10/site-packages (from jinja2->spacy) (2.1.3)\r\n",
      "Requirement already satisfied: cmudict in /opt/conda/lib/python3.10/site-packages (1.0.13)\r\n",
      "Collecting importlib-metadata<6.0.0,>=5.1.0 (from cmudict)\r\n",
      "  Downloading importlib_metadata-5.2.0-py3-none-any.whl (21 kB)\r\n",
      "Requirement already satisfied: importlib-resources<6.0.0,>=5.10.1 in /opt/conda/lib/python3.10/site-packages (from cmudict) (5.12.0)\r\n",
      "Requirement already satisfied: zipp>=0.5 in /opt/conda/lib/python3.10/site-packages (from importlib-metadata<6.0.0,>=5.1.0->cmudict) (3.15.0)\r\n",
      "Installing collected packages: importlib-metadata\r\n",
      "  Attempting uninstall: importlib-metadata\r\n",
      "    Found existing installation: importlib-metadata 6.7.0\r\n",
      "    Uninstalling importlib-metadata-6.7.0:\r\n",
      "      Successfully uninstalled importlib-metadata-6.7.0\r\n",
      "\u001b[31mERROR: pip's dependency resolver does not currently take into account all the packages that are installed. This behaviour is the source of the following dependency conflicts.\r\n",
      "dask-cudf 23.6.1 requires cupy-cuda11x>=12.0.0, which is not installed.\r\n",
      "dask-cuda 23.6.0 requires dask==2023.3.2, but you have dask 2023.7.0 which is incompatible.\r\n",
      "dask-cudf 23.6.1 requires dask==2023.3.2, but you have dask 2023.7.0 which is incompatible.\r\n",
      "distributed 2023.3.2.1 requires dask==2023.3.2, but you have dask 2023.7.0 which is incompatible.\r\n",
      "opentelemetry-api 1.18.0 requires importlib-metadata~=6.0.0, but you have importlib-metadata 5.2.0 which is incompatible.\r\n",
      "raft-dask 23.6.2 requires dask==2023.3.2, but you have dask 2023.7.0 which is incompatible.\r\n",
      "yapf 0.40.1 requires importlib-metadata>=6.6.0, but you have importlib-metadata 5.2.0 which is incompatible.\u001b[0m\u001b[31m\r\n",
      "\u001b[0mSuccessfully installed importlib-metadata-5.2.0\r\n",
      "Collecting lexical-diversity\r\n",
      "  Downloading lexical_diversity-0.1.1-py3-none-any.whl (117 kB)\r\n",
      "\u001b[2K     \u001b[90m━━━━━━━━━━━━━━━━━━━━━━━━━━━━━━━━━━━━━━━\u001b[0m \u001b[32m117.8/117.8 kB\u001b[0m \u001b[31m5.1 MB/s\u001b[0m eta \u001b[36m0:00:00\u001b[0m\r\n",
      "\u001b[?25hInstalling collected packages: lexical-diversity\r\n",
      "Successfully installed lexical-diversity-0.1.1\r\n",
      "Collecting lexicalrichness\r\n",
      "  Downloading lexicalrichness-0.5.0.tar.gz (96 kB)\r\n",
      "\u001b[2K     \u001b[90m━━━━━━━━━━━━━━━━━━━━━━━━━━━━━━━━━━━━━━━━\u001b[0m \u001b[32m96.5/96.5 kB\u001b[0m \u001b[31m4.1 MB/s\u001b[0m eta \u001b[36m0:00:00\u001b[0m\r\n",
      "\u001b[?25h  Preparing metadata (setup.py) ... \u001b[?25l-\b \b\\\b \bdone\r\n",
      "\u001b[?25hRequirement already satisfied: scipy>=1.0.0 in /opt/conda/lib/python3.10/site-packages (from lexicalrichness) (1.11.1)\r\n",
      "Requirement already satisfied: textblob>=0.15.3 in /opt/conda/lib/python3.10/site-packages (from lexicalrichness) (0.17.1)\r\n",
      "Requirement already satisfied: pandas in /opt/conda/lib/python3.10/site-packages (from lexicalrichness) (1.5.3)\r\n",
      "Requirement already satisfied: matplotlib in /opt/conda/lib/python3.10/site-packages (from lexicalrichness) (3.7.1)\r\n",
      "Requirement already satisfied: numpy<1.28.0,>=1.21.6 in /opt/conda/lib/python3.10/site-packages (from scipy>=1.0.0->lexicalrichness) (1.23.5)\r\n",
      "Requirement already satisfied: nltk>=3.1 in /opt/conda/lib/python3.10/site-packages (from textblob>=0.15.3->lexicalrichness) (3.2.4)\r\n",
      "Requirement already satisfied: contourpy>=1.0.1 in /opt/conda/lib/python3.10/site-packages (from matplotlib->lexicalrichness) (1.1.0)\r\n",
      "Requirement already satisfied: cycler>=0.10 in /opt/conda/lib/python3.10/site-packages (from matplotlib->lexicalrichness) (0.11.0)\r\n",
      "Requirement already satisfied: fonttools>=4.22.0 in /opt/conda/lib/python3.10/site-packages (from matplotlib->lexicalrichness) (4.40.0)\r\n",
      "Requirement already satisfied: kiwisolver>=1.0.1 in /opt/conda/lib/python3.10/site-packages (from matplotlib->lexicalrichness) (1.4.4)\r\n",
      "Requirement already satisfied: packaging>=20.0 in /opt/conda/lib/python3.10/site-packages (from matplotlib->lexicalrichness) (21.3)\r\n",
      "Requirement already satisfied: pillow>=6.2.0 in /opt/conda/lib/python3.10/site-packages (from matplotlib->lexicalrichness) (9.5.0)\r\n",
      "Requirement already satisfied: pyparsing>=2.3.1 in /opt/conda/lib/python3.10/site-packages (from matplotlib->lexicalrichness) (3.0.9)\r\n",
      "Requirement already satisfied: python-dateutil>=2.7 in /opt/conda/lib/python3.10/site-packages (from matplotlib->lexicalrichness) (2.8.2)\r\n",
      "Requirement already satisfied: pytz>=2020.1 in /opt/conda/lib/python3.10/site-packages (from pandas->lexicalrichness) (2023.3)\r\n",
      "Requirement already satisfied: six in /opt/conda/lib/python3.10/site-packages (from nltk>=3.1->textblob>=0.15.3->lexicalrichness) (1.16.0)\r\n",
      "Building wheels for collected packages: lexicalrichness\r\n",
      "  Building wheel for lexicalrichness (setup.py) ... \u001b[?25l-\b \b\\\b \bdone\r\n",
      "\u001b[?25h  Created wheel for lexicalrichness: filename=lexicalrichness-0.5.0-py3-none-any.whl size=15534 sha256=0b92adec0363459907a174508fb36fbc41eb4d9617c3656a78248b2326b64d6e\r\n",
      "  Stored in directory: /root/.cache/pip/wheels/42/68/59/1edd70c2b91dc172fa208eb34799e90bc6c093bfbb862ff017\r\n",
      "Successfully built lexicalrichness\r\n",
      "Installing collected packages: lexicalrichness\r\n",
      "Successfully installed lexicalrichness-0.5.0\r\n",
      "Collecting benepar\r\n",
      "  Downloading benepar-0.2.0.tar.gz (33 kB)\r\n",
      "  Preparing metadata (setup.py) ... \u001b[?25l-\b \b\\\b \bdone\r\n",
      "\u001b[?25hRequirement already satisfied: nltk>=3.2 in /opt/conda/lib/python3.10/site-packages (from benepar) (3.2.4)\r\n",
      "Requirement already satisfied: spacy>=2.0.9 in /opt/conda/lib/python3.10/site-packages (from benepar) (3.5.4)\r\n",
      "Requirement already satisfied: torch>=1.6.0 in /opt/conda/lib/python3.10/site-packages (from benepar) (2.0.0)\r\n",
      "Collecting torch-struct>=0.5 (from benepar)\r\n",
      "  Downloading torch_struct-0.5-py3-none-any.whl (34 kB)\r\n",
      "Requirement already satisfied: tokenizers>=0.9.4 in /opt/conda/lib/python3.10/site-packages (from benepar) (0.13.3)\r\n",
      "Requirement already satisfied: transformers[tokenizers,torch]>=4.2.2 in /opt/conda/lib/python3.10/site-packages (from benepar) (4.30.2)\r\n",
      "Requirement already satisfied: protobuf in /opt/conda/lib/python3.10/site-packages (from benepar) (3.20.3)\r\n",
      "Requirement already satisfied: sentencepiece>=0.1.91 in /opt/conda/lib/python3.10/site-packages (from benepar) (0.1.99)\r\n",
      "Requirement already satisfied: six in /opt/conda/lib/python3.10/site-packages (from nltk>=3.2->benepar) (1.16.0)\r\n",
      "Requirement already satisfied: spacy-legacy<3.1.0,>=3.0.11 in /opt/conda/lib/python3.10/site-packages (from spacy>=2.0.9->benepar) (3.0.12)\r\n",
      "Requirement already satisfied: spacy-loggers<2.0.0,>=1.0.0 in /opt/conda/lib/python3.10/site-packages (from spacy>=2.0.9->benepar) (1.0.4)\r\n",
      "Requirement already satisfied: murmurhash<1.1.0,>=0.28.0 in /opt/conda/lib/python3.10/site-packages (from spacy>=2.0.9->benepar) (1.0.9)\r\n",
      "Requirement already satisfied: cymem<2.1.0,>=2.0.2 in /opt/conda/lib/python3.10/site-packages (from spacy>=2.0.9->benepar) (2.0.7)\r\n",
      "Requirement already satisfied: preshed<3.1.0,>=3.0.2 in /opt/conda/lib/python3.10/site-packages (from spacy>=2.0.9->benepar) (3.0.8)\r\n",
      "Requirement already satisfied: thinc<8.2.0,>=8.1.8 in /opt/conda/lib/python3.10/site-packages (from spacy>=2.0.9->benepar) (8.1.10)\r\n",
      "Requirement already satisfied: wasabi<1.2.0,>=0.9.1 in /opt/conda/lib/python3.10/site-packages (from spacy>=2.0.9->benepar) (1.1.2)\r\n",
      "Requirement already satisfied: srsly<3.0.0,>=2.4.3 in /opt/conda/lib/python3.10/site-packages (from spacy>=2.0.9->benepar) (2.4.6)\r\n",
      "Requirement already satisfied: catalogue<2.1.0,>=2.0.6 in /opt/conda/lib/python3.10/site-packages (from spacy>=2.0.9->benepar) (2.0.8)\r\n",
      "Requirement already satisfied: typer<0.10.0,>=0.3.0 in /opt/conda/lib/python3.10/site-packages (from spacy>=2.0.9->benepar) (0.9.0)\r\n",
      "Requirement already satisfied: pathy>=0.10.0 in /opt/conda/lib/python3.10/site-packages (from spacy>=2.0.9->benepar) (0.10.1)\r\n",
      "Requirement already satisfied: smart-open<7.0.0,>=5.2.1 in /opt/conda/lib/python3.10/site-packages (from spacy>=2.0.9->benepar) (6.3.0)\r\n",
      "Requirement already satisfied: tqdm<5.0.0,>=4.38.0 in /opt/conda/lib/python3.10/site-packages (from spacy>=2.0.9->benepar) (4.65.0)\r\n",
      "Requirement already satisfied: numpy>=1.15.0 in /opt/conda/lib/python3.10/site-packages (from spacy>=2.0.9->benepar) (1.23.5)\r\n",
      "Requirement already satisfied: requests<3.0.0,>=2.13.0 in /opt/conda/lib/python3.10/site-packages (from spacy>=2.0.9->benepar) (2.31.0)\r\n",
      "Requirement already satisfied: pydantic!=1.8,!=1.8.1,<1.11.0,>=1.7.4 in /opt/conda/lib/python3.10/site-packages (from spacy>=2.0.9->benepar) (1.10.10)\r\n",
      "Requirement already satisfied: jinja2 in /opt/conda/lib/python3.10/site-packages (from spacy>=2.0.9->benepar) (3.1.2)\r\n",
      "Requirement already satisfied: setuptools in /opt/conda/lib/python3.10/site-packages (from spacy>=2.0.9->benepar) (59.8.0)\r\n",
      "Requirement already satisfied: packaging>=20.0 in /opt/conda/lib/python3.10/site-packages (from spacy>=2.0.9->benepar) (21.3)\r\n",
      "Requirement already satisfied: langcodes<4.0.0,>=3.2.0 in /opt/conda/lib/python3.10/site-packages (from spacy>=2.0.9->benepar) (3.3.0)\r\n",
      "Requirement already satisfied: filelock in /opt/conda/lib/python3.10/site-packages (from torch>=1.6.0->benepar) (3.12.2)\r\n",
      "Requirement already satisfied: typing-extensions in /opt/conda/lib/python3.10/site-packages (from torch>=1.6.0->benepar) (4.6.3)\r\n",
      "Requirement already satisfied: sympy in /opt/conda/lib/python3.10/site-packages (from torch>=1.6.0->benepar) (1.12)\r\n",
      "Requirement already satisfied: networkx in /opt/conda/lib/python3.10/site-packages (from torch>=1.6.0->benepar) (3.1)\r\n",
      "Requirement already satisfied: huggingface-hub<1.0,>=0.14.1 in /opt/conda/lib/python3.10/site-packages (from transformers[tokenizers,torch]>=4.2.2->benepar) (0.16.4)\r\n",
      "Requirement already satisfied: pyyaml>=5.1 in /opt/conda/lib/python3.10/site-packages (from transformers[tokenizers,torch]>=4.2.2->benepar) (6.0)\r\n",
      "Requirement already satisfied: regex!=2019.12.17 in /opt/conda/lib/python3.10/site-packages (from transformers[tokenizers,torch]>=4.2.2->benepar) (2023.6.3)\r\n",
      "Requirement already satisfied: safetensors>=0.3.1 in /opt/conda/lib/python3.10/site-packages (from transformers[tokenizers,torch]>=4.2.2->benepar) (0.3.1)\r\n",
      "Requirement already satisfied: accelerate>=0.20.2 in /opt/conda/lib/python3.10/site-packages (from transformers[tokenizers,torch]>=4.2.2->benepar) (0.20.3)\r\n",
      "Requirement already satisfied: psutil in /opt/conda/lib/python3.10/site-packages (from accelerate>=0.20.2->transformers[tokenizers,torch]>=4.2.2->benepar) (5.9.3)\r\n",
      "Requirement already satisfied: fsspec in /opt/conda/lib/python3.10/site-packages (from huggingface-hub<1.0,>=0.14.1->transformers[tokenizers,torch]>=4.2.2->benepar) (2023.6.0)\r\n",
      "Requirement already satisfied: pyparsing!=3.0.5,>=2.0.2 in /opt/conda/lib/python3.10/site-packages (from packaging>=20.0->spacy>=2.0.9->benepar) (3.0.9)\r\n",
      "Requirement already satisfied: charset-normalizer<4,>=2 in /opt/conda/lib/python3.10/site-packages (from requests<3.0.0,>=2.13.0->spacy>=2.0.9->benepar) (3.1.0)\r\n",
      "Requirement already satisfied: idna<4,>=2.5 in /opt/conda/lib/python3.10/site-packages (from requests<3.0.0,>=2.13.0->spacy>=2.0.9->benepar) (3.4)\r\n",
      "Requirement already satisfied: urllib3<3,>=1.21.1 in /opt/conda/lib/python3.10/site-packages (from requests<3.0.0,>=2.13.0->spacy>=2.0.9->benepar) (1.26.15)\r\n",
      "Requirement already satisfied: certifi>=2017.4.17 in /opt/conda/lib/python3.10/site-packages (from requests<3.0.0,>=2.13.0->spacy>=2.0.9->benepar) (2023.5.7)\r\n",
      "Requirement already satisfied: blis<0.8.0,>=0.7.8 in /opt/conda/lib/python3.10/site-packages (from thinc<8.2.0,>=8.1.8->spacy>=2.0.9->benepar) (0.7.9)\r\n",
      "Requirement already satisfied: confection<1.0.0,>=0.0.1 in /opt/conda/lib/python3.10/site-packages (from thinc<8.2.0,>=8.1.8->spacy>=2.0.9->benepar) (0.1.0)\r\n",
      "Requirement already satisfied: click<9.0.0,>=7.1.1 in /opt/conda/lib/python3.10/site-packages (from typer<0.10.0,>=0.3.0->spacy>=2.0.9->benepar) (8.1.3)\r\n",
      "Requirement already satisfied: MarkupSafe>=2.0 in /opt/conda/lib/python3.10/site-packages (from jinja2->spacy>=2.0.9->benepar) (2.1.3)\r\n",
      "Requirement already satisfied: mpmath>=0.19 in /opt/conda/lib/python3.10/site-packages (from sympy->torch>=1.6.0->benepar) (1.3.0)\r\n",
      "Building wheels for collected packages: benepar\r\n",
      "  Building wheel for benepar (setup.py) ... \u001b[?25l-\b \b\\\b \b|\b \b/\b \bdone\r\n",
      "\u001b[?25h  Created wheel for benepar: filename=benepar-0.2.0-py3-none-any.whl size=37647 sha256=cee7ff53173cad823c385b516e43d12aa60856ad63f17d97a9075a7249b89715\r\n",
      "  Stored in directory: /root/.cache/pip/wheels/8d/4d/c1/a5af726368d5dbaaaa0b2dd36ed39b9da8cec46279a49bd6db\r\n",
      "Successfully built benepar\r\n",
      "Installing collected packages: torch-struct, benepar\r\n",
      "Successfully installed benepar-0.2.0 torch-struct-0.5\r\n",
      "Collecting vaderSentiment\r\n",
      "  Downloading vaderSentiment-3.3.2-py2.py3-none-any.whl (125 kB)\r\n",
      "\u001b[2K     \u001b[90m━━━━━━━━━━━━━━━━━━━━━━━━━━━━━━━━━━━━━━━\u001b[0m \u001b[32m126.0/126.0 kB\u001b[0m \u001b[31m5.8 MB/s\u001b[0m eta \u001b[36m0:00:00\u001b[0m\r\n",
      "\u001b[?25hRequirement already satisfied: requests in /opt/conda/lib/python3.10/site-packages (from vaderSentiment) (2.31.0)\r\n",
      "Requirement already satisfied: charset-normalizer<4,>=2 in /opt/conda/lib/python3.10/site-packages (from requests->vaderSentiment) (3.1.0)\r\n",
      "Requirement already satisfied: idna<4,>=2.5 in /opt/conda/lib/python3.10/site-packages (from requests->vaderSentiment) (3.4)\r\n",
      "Requirement already satisfied: urllib3<3,>=1.21.1 in /opt/conda/lib/python3.10/site-packages (from requests->vaderSentiment) (1.26.15)\r\n",
      "Requirement already satisfied: certifi>=2017.4.17 in /opt/conda/lib/python3.10/site-packages (from requests->vaderSentiment) (2023.5.7)\r\n",
      "Installing collected packages: vaderSentiment\r\n",
      "Successfully installed vaderSentiment-3.3.2\r\n"
     ]
    }
   ],
   "source": [
    "# Install necessary packages for natural language processing tasks\n",
    "\n",
    "!pip install nltk\n",
    "!pip install spacy\n",
    "!pip install cmudict\n",
    "!pip install lexical-diversity\n",
    "!pip install lexicalrichness\n",
    "!pip install benepar\n",
    "!pip install vaderSentiment"
   ]
  },
  {
   "cell_type": "code",
   "execution_count": 45,
   "id": "6b8e19f6",
   "metadata": {
    "collapsed": true,
    "execution": {
     "iopub.execute_input": "2023-07-31T15:39:30.930807Z",
     "iopub.status.busy": "2023-07-31T15:39:30.930370Z",
     "iopub.status.idle": "2023-07-31T15:39:38.916293Z",
     "shell.execute_reply": "2023-07-31T15:39:38.915257Z"
    },
    "jupyter": {
     "outputs_hidden": true
    },
    "papermill": {
     "duration": 8.064095,
     "end_time": "2023-07-31T15:39:38.918458",
     "exception": false,
     "start_time": "2023-07-31T15:39:30.854363",
     "status": "completed"
    },
    "tags": []
   },
   "outputs": [
    {
     "name": "stdout",
     "output_type": "stream",
     "text": [
      "[nltk_data] Downloading package punkt to /usr/share/nltk_data...\n",
      "[nltk_data]   Package punkt is already up-to-date!\n",
      "[nltk_data] Downloading package averaged_perceptron_tagger to\n",
      "[nltk_data]     /usr/share/nltk_data...\n",
      "[nltk_data]   Package averaged_perceptron_tagger is already up-to-\n",
      "[nltk_data]       date!\n",
      "[nltk_data] Downloading package benepar_en3 to /usr/share/nltk_data...\n",
      "[nltk_data]   Unzipping models/benepar_en3.zip.\n"
     ]
    },
    {
     "data": {
      "text/plain": [
       "<benepar.integrations.spacy_plugin.BeneparComponent at 0x7fd01390ce50>"
      ]
     },
     "execution_count": 45,
     "metadata": {},
     "output_type": "execute_result"
    }
   ],
   "source": [
    "# Import necessary libraries for natural language processing tasks\n",
    "\n",
    "# data processing\n",
    "import spacy\n",
    "import pandas as pd\n",
    "import string\n",
    "import re\n",
    "import string\n",
    "\n",
    "# nlp \n",
    "import nltk\n",
    "import math\n",
    "import spacy\n",
    "import sys\n",
    "import benepar\n",
    "import lexicalrichness\n",
    "from lexical_diversity import lex_div as ld\n",
    "from nltk.corpus import wordnet as wn\n",
    "from collections import Counter\n",
    "from nltk.corpus import wordnet as wn\n",
    "from nltk.tokenize import word_tokenize\n",
    "from vaderSentiment.vaderSentiment import SentimentIntensityAnalyzer\n",
    "\n",
    "# Download additional resources from NLTK\n",
    "nltk.download('punkt')  # Tokenization resources\n",
    "nltk.download('averaged_perceptron_tagger')  # POS tagging resources\n",
    "\n",
    "# Load the English language model for spaCy\n",
    "nlp = spacy.load('en_core_web_sm')\n",
    "\n",
    "# Download the pre-trained parser for constituency parsing\n",
    "benepar.download('benepar_en3')\n",
    "nlp.add_pipe('benepar', config={'model': 'benepar_en3'})"
   ]
  },
  {
   "cell_type": "code",
   "execution_count": 46,
   "id": "7e8ab14f",
   "metadata": {
    "collapsed": true,
    "execution": {
     "iopub.execute_input": "2023-07-31T15:39:39.025485Z",
     "iopub.status.busy": "2023-07-31T15:39:39.024609Z",
     "iopub.status.idle": "2023-07-31T15:39:40.371050Z",
     "shell.execute_reply": "2023-07-31T15:39:40.369760Z"
    },
    "jupyter": {
     "outputs_hidden": true
    },
    "papermill": {
     "duration": 1.401857,
     "end_time": "2023-07-31T15:39:40.373536",
     "exception": false,
     "start_time": "2023-07-31T15:39:38.971679",
     "status": "completed"
    },
    "tags": []
   },
   "outputs": [
    {
     "name": "stdout",
     "output_type": "stream",
     "text": [
      "Archive:  /usr/share/nltk_data/corpora/wordnet.zip\r\n",
      "   creating: /usr/share/nltk_data/corpora/wordnet/\r\n",
      "  inflating: /usr/share/nltk_data/corpora/wordnet/lexnames  \r\n",
      "  inflating: /usr/share/nltk_data/corpora/wordnet/data.verb  \r\n",
      "  inflating: /usr/share/nltk_data/corpora/wordnet/index.adv  \r\n",
      "  inflating: /usr/share/nltk_data/corpora/wordnet/adv.exc  \r\n",
      "  inflating: /usr/share/nltk_data/corpora/wordnet/index.verb  \r\n",
      "  inflating: /usr/share/nltk_data/corpora/wordnet/cntlist.rev  \r\n",
      "  inflating: /usr/share/nltk_data/corpora/wordnet/data.adj  \r\n",
      "  inflating: /usr/share/nltk_data/corpora/wordnet/index.adj  \r\n",
      "  inflating: /usr/share/nltk_data/corpora/wordnet/LICENSE  \r\n",
      "  inflating: /usr/share/nltk_data/corpora/wordnet/citation.bib  \r\n",
      "  inflating: /usr/share/nltk_data/corpora/wordnet/noun.exc  \r\n",
      "  inflating: /usr/share/nltk_data/corpora/wordnet/verb.exc  \r\n",
      "  inflating: /usr/share/nltk_data/corpora/wordnet/README  \r\n",
      "  inflating: /usr/share/nltk_data/corpora/wordnet/index.sense  \r\n",
      "  inflating: /usr/share/nltk_data/corpora/wordnet/data.noun  \r\n",
      "  inflating: /usr/share/nltk_data/corpora/wordnet/data.adv  \r\n",
      "  inflating: /usr/share/nltk_data/corpora/wordnet/index.noun  \r\n",
      "  inflating: /usr/share/nltk_data/corpora/wordnet/adj.exc  \r\n"
     ]
    }
   ],
   "source": [
    "# unzip the WordNet corpus data\n",
    "!unzip /usr/share/nltk_data/corpora/wordnet.zip -d /usr/share/nltk_data/corpora/"
   ]
  },
  {
   "cell_type": "code",
   "execution_count": 47,
   "id": "49311b16",
   "metadata": {
    "collapsed": true,
    "execution": {
     "iopub.execute_input": "2023-07-31T15:39:40.538480Z",
     "iopub.status.busy": "2023-07-31T15:39:40.538067Z",
     "iopub.status.idle": "2023-07-31T15:40:07.039679Z",
     "shell.execute_reply": "2023-07-31T15:40:07.038493Z"
    },
    "jupyter": {
     "outputs_hidden": true
    },
    "papermill": {
     "duration": 26.613294,
     "end_time": "2023-07-31T15:40:07.042516",
     "exception": false,
     "start_time": "2023-07-31T15:39:40.429222",
     "status": "completed"
    },
    "tags": []
   },
   "outputs": [
    {
     "name": "stdout",
     "output_type": "stream",
     "text": [
      "/opt/conda/lib/python3.10/site-packages/scipy/__init__.py:146: UserWarning: A NumPy version >=1.16.5 and <1.23.0 is required for this version of SciPy (detected version 1.23.5\r\n",
      "  warnings.warn(f\"A NumPy version >={np_minversion} and <{np_maxversion}\"\r\n",
      "/opt/conda/lib/python3.10/site-packages/tensorflow_io/python/ops/__init__.py:98: UserWarning: unable to load libtensorflow_io_plugins.so: unable to open file: libtensorflow_io_plugins.so, from paths: ['/opt/conda/lib/python3.10/site-packages/tensorflow_io/python/ops/libtensorflow_io_plugins.so']\r\n",
      "caused by: ['/opt/conda/lib/python3.10/site-packages/tensorflow_io/python/ops/libtensorflow_io_plugins.so: undefined symbol: _ZN3tsl6StatusC1EN10tensorflow5error4CodeESt17basic_string_viewIcSt11char_traitsIcEENS_14SourceLocationE']\r\n",
      "  warnings.warn(f\"unable to load libtensorflow_io_plugins.so: {e}\")\r\n",
      "/opt/conda/lib/python3.10/site-packages/tensorflow_io/python/ops/__init__.py:104: UserWarning: file system plugins are not loaded: unable to open file: libtensorflow_io.so, from paths: ['/opt/conda/lib/python3.10/site-packages/tensorflow_io/python/ops/libtensorflow_io.so']\r\n",
      "caused by: ['/opt/conda/lib/python3.10/site-packages/tensorflow_io/python/ops/libtensorflow_io.so: undefined symbol: _ZTVN10tensorflow13GcsFileSystemE']\r\n",
      "  warnings.warn(f\"file system plugins are not loaded: {e}\")\r\n",
      "Collecting en-core-web-md==3.5.0\r\n",
      "  Downloading https://github.com/explosion/spacy-models/releases/download/en_core_web_md-3.5.0/en_core_web_md-3.5.0-py3-none-any.whl (42.8 MB)\r\n",
      "\u001b[2K     \u001b[90m━━━━━━━━━━━━━━━━━━━━━━━━━━━━━━━━━━━━━━━━\u001b[0m \u001b[32m42.8/42.8 MB\u001b[0m \u001b[31m26.6 MB/s\u001b[0m eta \u001b[36m0:00:00\u001b[0m\r\n",
      "\u001b[?25hRequirement already satisfied: spacy<3.6.0,>=3.5.0 in /opt/conda/lib/python3.10/site-packages (from en-core-web-md==3.5.0) (3.5.4)\r\n",
      "Requirement already satisfied: spacy-legacy<3.1.0,>=3.0.11 in /opt/conda/lib/python3.10/site-packages (from spacy<3.6.0,>=3.5.0->en-core-web-md==3.5.0) (3.0.12)\r\n",
      "Requirement already satisfied: spacy-loggers<2.0.0,>=1.0.0 in /opt/conda/lib/python3.10/site-packages (from spacy<3.6.0,>=3.5.0->en-core-web-md==3.5.0) (1.0.4)\r\n",
      "Requirement already satisfied: murmurhash<1.1.0,>=0.28.0 in /opt/conda/lib/python3.10/site-packages (from spacy<3.6.0,>=3.5.0->en-core-web-md==3.5.0) (1.0.9)\r\n",
      "Requirement already satisfied: cymem<2.1.0,>=2.0.2 in /opt/conda/lib/python3.10/site-packages (from spacy<3.6.0,>=3.5.0->en-core-web-md==3.5.0) (2.0.7)\r\n",
      "Requirement already satisfied: preshed<3.1.0,>=3.0.2 in /opt/conda/lib/python3.10/site-packages (from spacy<3.6.0,>=3.5.0->en-core-web-md==3.5.0) (3.0.8)\r\n",
      "Requirement already satisfied: thinc<8.2.0,>=8.1.8 in /opt/conda/lib/python3.10/site-packages (from spacy<3.6.0,>=3.5.0->en-core-web-md==3.5.0) (8.1.10)\r\n",
      "Requirement already satisfied: wasabi<1.2.0,>=0.9.1 in /opt/conda/lib/python3.10/site-packages (from spacy<3.6.0,>=3.5.0->en-core-web-md==3.5.0) (1.1.2)\r\n",
      "Requirement already satisfied: srsly<3.0.0,>=2.4.3 in /opt/conda/lib/python3.10/site-packages (from spacy<3.6.0,>=3.5.0->en-core-web-md==3.5.0) (2.4.6)\r\n",
      "Requirement already satisfied: catalogue<2.1.0,>=2.0.6 in /opt/conda/lib/python3.10/site-packages (from spacy<3.6.0,>=3.5.0->en-core-web-md==3.5.0) (2.0.8)\r\n",
      "Requirement already satisfied: typer<0.10.0,>=0.3.0 in /opt/conda/lib/python3.10/site-packages (from spacy<3.6.0,>=3.5.0->en-core-web-md==3.5.0) (0.9.0)\r\n",
      "Requirement already satisfied: pathy>=0.10.0 in /opt/conda/lib/python3.10/site-packages (from spacy<3.6.0,>=3.5.0->en-core-web-md==3.5.0) (0.10.1)\r\n",
      "Requirement already satisfied: smart-open<7.0.0,>=5.2.1 in /opt/conda/lib/python3.10/site-packages (from spacy<3.6.0,>=3.5.0->en-core-web-md==3.5.0) (6.3.0)\r\n",
      "Requirement already satisfied: tqdm<5.0.0,>=4.38.0 in /opt/conda/lib/python3.10/site-packages (from spacy<3.6.0,>=3.5.0->en-core-web-md==3.5.0) (4.65.0)\r\n",
      "Requirement already satisfied: numpy>=1.15.0 in /opt/conda/lib/python3.10/site-packages (from spacy<3.6.0,>=3.5.0->en-core-web-md==3.5.0) (1.23.5)\r\n",
      "Requirement already satisfied: requests<3.0.0,>=2.13.0 in /opt/conda/lib/python3.10/site-packages (from spacy<3.6.0,>=3.5.0->en-core-web-md==3.5.0) (2.31.0)\r\n",
      "Requirement already satisfied: pydantic!=1.8,!=1.8.1,<1.11.0,>=1.7.4 in /opt/conda/lib/python3.10/site-packages (from spacy<3.6.0,>=3.5.0->en-core-web-md==3.5.0) (1.10.10)\r\n",
      "Requirement already satisfied: jinja2 in /opt/conda/lib/python3.10/site-packages (from spacy<3.6.0,>=3.5.0->en-core-web-md==3.5.0) (3.1.2)\r\n",
      "Requirement already satisfied: setuptools in /opt/conda/lib/python3.10/site-packages (from spacy<3.6.0,>=3.5.0->en-core-web-md==3.5.0) (59.8.0)\r\n",
      "Requirement already satisfied: packaging>=20.0 in /opt/conda/lib/python3.10/site-packages (from spacy<3.6.0,>=3.5.0->en-core-web-md==3.5.0) (21.3)\r\n",
      "Requirement already satisfied: langcodes<4.0.0,>=3.2.0 in /opt/conda/lib/python3.10/site-packages (from spacy<3.6.0,>=3.5.0->en-core-web-md==3.5.0) (3.3.0)\r\n",
      "Requirement already satisfied: pyparsing!=3.0.5,>=2.0.2 in /opt/conda/lib/python3.10/site-packages (from packaging>=20.0->spacy<3.6.0,>=3.5.0->en-core-web-md==3.5.0) (3.0.9)\r\n",
      "Requirement already satisfied: typing-extensions>=4.2.0 in /opt/conda/lib/python3.10/site-packages (from pydantic!=1.8,!=1.8.1,<1.11.0,>=1.7.4->spacy<3.6.0,>=3.5.0->en-core-web-md==3.5.0) (4.6.3)\r\n",
      "Requirement already satisfied: charset-normalizer<4,>=2 in /opt/conda/lib/python3.10/site-packages (from requests<3.0.0,>=2.13.0->spacy<3.6.0,>=3.5.0->en-core-web-md==3.5.0) (3.1.0)\r\n",
      "Requirement already satisfied: idna<4,>=2.5 in /opt/conda/lib/python3.10/site-packages (from requests<3.0.0,>=2.13.0->spacy<3.6.0,>=3.5.0->en-core-web-md==3.5.0) (3.4)\r\n",
      "Requirement already satisfied: urllib3<3,>=1.21.1 in /opt/conda/lib/python3.10/site-packages (from requests<3.0.0,>=2.13.0->spacy<3.6.0,>=3.5.0->en-core-web-md==3.5.0) (1.26.15)\r\n",
      "Requirement already satisfied: certifi>=2017.4.17 in /opt/conda/lib/python3.10/site-packages (from requests<3.0.0,>=2.13.0->spacy<3.6.0,>=3.5.0->en-core-web-md==3.5.0) (2023.5.7)\r\n",
      "Requirement already satisfied: blis<0.8.0,>=0.7.8 in /opt/conda/lib/python3.10/site-packages (from thinc<8.2.0,>=8.1.8->spacy<3.6.0,>=3.5.0->en-core-web-md==3.5.0) (0.7.9)\r\n",
      "Requirement already satisfied: confection<1.0.0,>=0.0.1 in /opt/conda/lib/python3.10/site-packages (from thinc<8.2.0,>=8.1.8->spacy<3.6.0,>=3.5.0->en-core-web-md==3.5.0) (0.1.0)\r\n",
      "Requirement already satisfied: click<9.0.0,>=7.1.1 in /opt/conda/lib/python3.10/site-packages (from typer<0.10.0,>=0.3.0->spacy<3.6.0,>=3.5.0->en-core-web-md==3.5.0) (8.1.3)\r\n",
      "Requirement already satisfied: MarkupSafe>=2.0 in /opt/conda/lib/python3.10/site-packages (from jinja2->spacy<3.6.0,>=3.5.0->en-core-web-md==3.5.0) (2.1.3)\r\n",
      "Installing collected packages: en-core-web-md\r\n",
      "Successfully installed en-core-web-md-3.5.0\r\n",
      "\u001b[38;5;2m✔ Download and installation successful\u001b[0m\r\n",
      "You can now load the package via spacy.load('en_core_web_md')\r\n"
     ]
    }
   ],
   "source": [
    "# download the \"en_core_web_md\" model for SpaCy\n",
    "!python -m spacy download en_core_web_md"
   ]
  },
  {
   "cell_type": "code",
   "execution_count": 48,
   "id": "6abc9cc6",
   "metadata": {
    "execution": {
     "iopub.execute_input": "2023-07-31T15:40:07.155032Z",
     "iopub.status.busy": "2023-07-31T15:40:07.154044Z",
     "iopub.status.idle": "2023-07-31T15:40:07.216974Z",
     "shell.execute_reply": "2023-07-31T15:40:07.216007Z"
    },
    "papermill": {
     "duration": 0.121444,
     "end_time": "2023-07-31T15:40:07.219286",
     "exception": false,
     "start_time": "2023-07-31T15:40:07.097842",
     "status": "completed"
    },
    "tags": []
   },
   "outputs": [],
   "source": [
    "# Read the CSV files into a pandas df\n",
    "df_emotions = pd.read_csv('/kaggle/input/df-mispredictions-em/df_mispredictions_em.csv')\n",
    "df_sentiment = pd.read_csv('/kaggle/input/df-mispredictions-sent/df_mispredictions_sent.csv')\n",
    "\n",
    "\n",
    "# Drop rows with missing values\n",
    "df_sentiment.dropna(inplace=True)\n",
    "df_emotions.dropna(inplace=True)\n",
    "\n",
    "\n",
    "# Drop unecessary columns\n",
    "df_sentiment.drop(['label', 'Predicted Label'], axis=1, inplace=True)\n",
    "df_emotions.drop(['label', 'Predicted Label'], axis=1, inplace=True)"
   ]
  },
  {
   "cell_type": "markdown",
   "id": "7f846eae",
   "metadata": {
    "papermill": {
     "duration": 0.053314,
     "end_time": "2023-07-31T15:40:07.329287",
     "exception": false,
     "start_time": "2023-07-31T15:40:07.275973",
     "status": "completed"
    },
    "tags": []
   },
   "source": [
    "### 3.2 Extraction of Lexical Features\n",
    "\n",
    "#### 3.2a. Lexical Density\n",
    "#### 3.2b. TTR\n",
    "- CTTR\n",
    "- GTTR\n",
    "#### 3.2c.MTLD\n",
    "#### 3.2d. Lexical Variation \n",
    "- Verb Variation\n",
    "- Adverb Variation\n",
    "- Noun Variation\n",
    "- Adjective Variation "
   ]
  },
  {
   "cell_type": "code",
   "execution_count": 49,
   "id": "4298f678",
   "metadata": {
    "execution": {
     "iopub.execute_input": "2023-07-31T15:40:07.439223Z",
     "iopub.status.busy": "2023-07-31T15:40:07.438873Z",
     "iopub.status.idle": "2023-07-31T15:44:52.760490Z",
     "shell.execute_reply": "2023-07-31T15:44:52.759470Z"
    },
    "papermill": {
     "duration": 285.38006,
     "end_time": "2023-07-31T15:44:52.763258",
     "exception": false,
     "start_time": "2023-07-31T15:40:07.383198",
     "status": "completed"
    },
    "tags": []
   },
   "outputs": [
    {
     "name": "stderr",
     "output_type": "stream",
     "text": [
      "You're using a T5TokenizerFast tokenizer. Please note that with a fast tokenizer, using the `__call__` method is faster than using a method to encode the text followed by a call to the `pad` method to get a padded encoding.\n",
      "/opt/conda/lib/python3.10/site-packages/torch/distributions/distribution.py:51: UserWarning: <class 'torch_struct.distributions.TreeCRF'> does not define `arg_constraints`. Please set `arg_constraints = {}` or initialize the distribution with `validate_args=False` to turn off validation.\n",
      "  warnings.warn(f'{self.__class__} does not define `arg_constraints`. ' +\n",
      "/opt/conda/lib/python3.10/site-packages/torch/distributions/distribution.py:51: UserWarning: <class 'torch_struct.distributions.TreeCRF'> does not define `arg_constraints`. Please set `arg_constraints = {}` or initialize the distribution with `validate_args=False` to turn off validation.\n",
      "  warnings.warn(f'{self.__class__} does not define `arg_constraints`. ' +\n"
     ]
    }
   ],
   "source": [
    "# Create a function for calculating lexical features\n",
    "\n",
    "def lexical_features(df):\n",
    "    # Token Count\n",
    "    def tokens_no_nums(txt): \n",
    "        txt = re.sub('\\d', '', txt) # remove digits from the text \n",
    "        tokens = nltk.word_tokenize(txt) # tokenize it into words\n",
    "        words = [word for word in tokens if word.isalpha()]\n",
    "        return words\n",
    "\n",
    "    def token_count(txt):  #calculate number of tokens \n",
    "        return len(tokens_no_nums(txt))\n",
    "\n",
    "    # Type Count\n",
    "    def type_count(txt):\n",
    "        counter = Counter(tokens_no_nums(txt))\n",
    "        return len(counter.keys())\n",
    "\n",
    "    # 1. Lexical Density\n",
    "    def lexical_density(text):\n",
    "        tokens = nltk.word_tokenize(text) # tokenize the text\n",
    "        tagged_tokens = nltk.pos_tag(tokens)  # tag each word with its corresponding POS tag\n",
    "        num_lexical_words = 0 # initialize a counter\n",
    "        # loop through each word and its corresponding POS tag\n",
    "        for word, tag in tagged_tokens:\n",
    "             # checking if the word is a verb, adverb, adjective, gerund, proper noun, or singular noun\n",
    "            if tag.startswith('VB') or tag.startswith('RB') or tag.startswith('JJ') or tag == 'VBG' or tag == 'VBN' or tag.startswith('NN') or tag == 'NNP':\n",
    "                # exclude modal verbs 'have' and 'be'\n",
    "                if not (tag == 'MD' and (word == 'have' or word == 'be')):\n",
    "                    num_lexical_words += 1\n",
    "            elif tag in ['RBR', 'RBS', 'JJR', 'JJS']:\n",
    "                num_lexical_words += 1\n",
    "\n",
    "        return num_lexical_words / len(tokens) #divide the number of lexical words by the total number of tokens\n",
    "\n",
    "    # 2. TTR, CTTR, GTTR\n",
    "    def ttr(text):\n",
    "        words = text.split()  # split the text into words\n",
    "        words = [word.translate(str.maketrans('', '', string.punctuation)) for word in words] # remove punctuation from words\n",
    "        unique_words = set(words)\n",
    "        ttr = len(unique_words) / len(words) # calculate ttr\n",
    "        if len(words) == len(unique_words):\n",
    "            cttr = 0 # calculate cttr\n",
    "        else:\n",
    "            cttr = ttr * ((2 * len(words)) / (len(unique_words) * (len(words) - 1)))\n",
    "        gttr = ttr / math.sqrt(2 * len(words))  # calculate gttr\n",
    "        return ttr, cttr, gttr\n",
    "\n",
    "    # 3. MTLD\n",
    "    def mtld(text):\n",
    "        sentences = re.split('[.!?]', text)  # split into sentences\n",
    "        words = []  # initialiaze an empty list to store words\n",
    "        # loop through each sentence \n",
    "        for sentence in sentences:\n",
    "            sentence_doc = nlp(sentence)\n",
    "            words += [token.lemma_.lower() for token in sentence_doc if not token.is_stop and token.is_alpha] # extract lemmatized tokens\n",
    "        if len(words) > 0:  # check for the existence of words after preprocessing\n",
    "            text_str = ' '.join(words)\n",
    "            return lexicalrichness.LexicalRichness(text_str).mtld(threshold=0.72)\n",
    "        else:\n",
    "            return 0\n",
    "\n",
    "    # 4. Verb Variation\n",
    "    def verb_variation(row):\n",
    "        tokens = nltk.word_tokenize(row['sentence'])\n",
    "        verb_tokens = len([token for token in tokens if nltk.pos_tag([token])[0][1] in {'VB', 'VBD', 'VBG', 'VBN', 'VBP', 'VBZ'}]) # count the number of verb tokens\n",
    "        # count the total number of lexical words \n",
    "        lexical_words = len([token for token in tokens if nltk.pos_tag([token])[0][1] in {'NN', 'NNS', 'NNP', 'NNPS', 'VB', 'VBD', 'VBG', 'VBN', 'VBP', 'VBZ', 'JJ', 'JJR', 'JJS', 'RB', 'RBR', 'RBS'}])\n",
    "        # divide the number of verb tokens by the total number of lexical words\n",
    "        if lexical_words > 0:\n",
    "            vv = verb_tokens / lexical_words\n",
    "        else:\n",
    "            vv = 0\n",
    "        return vv\n",
    "\n",
    "    # 5. Noun Variation\n",
    "    def noun_variation(row):\n",
    "        tokens = nltk.word_tokenize(row['sentence']) # tokenize the sentence\n",
    "        pos_tags = nltk.pos_tag(tokens) # obtain the pos tags for each token\n",
    "        noun_tokens = sum(1 for tag in pos_tags if tag[1] in ['NN', 'NNS', 'NNP', 'NNPS']) # count the number of nouns tokens\n",
    "        # count the number of noun tokens in the sentence\n",
    "        lexical_words = sum(1 for tag in pos_tags if tag[1] in ['NN', 'NNS', 'NNP', 'NNPS', 'VB', 'VBD', 'VBG', 'VBN', 'VBP', 'VBZ', 'JJ', 'JJR', 'JJS', 'RB', 'RBR', 'RBS'])\n",
    "        # calculate noun variation\n",
    "        if lexical_words > 0:\n",
    "            nv = noun_tokens / lexical_words\n",
    "        else:\n",
    "            nv = 0\n",
    "        return nv\n",
    "\n",
    "    # 6. Adverb Variation\n",
    "    def adverb_variation(row):\n",
    "        tokens = nltk.word_tokenize(row['sentence'])\n",
    "        pos_tags = nltk.pos_tag(tokens)\n",
    "        adverb_tokens = sum(1 for tag in pos_tags if tag[1] in ['RB', 'RBR', 'RBS'])\n",
    "        lexical_words = sum(1 for tag in pos_tags if tag[1] in ['NN', 'NNS', 'NNP', 'NNPS', 'VB', 'VBD', 'VBG', 'VBN', 'VBP', 'VBZ', 'JJ', 'JJR', 'JJS', 'RB', 'RBR', 'RBS'])\n",
    "        if lexical_words > 0:\n",
    "            av = adverb_tokens / lexical_words # divide the number of adverb tokens by the total number of lexical words\n",
    "        else:\n",
    "            av = 0\n",
    "        return av\n",
    "\n",
    "    # 7. Adjective Variation\n",
    "    def adjective_variation(row):\n",
    "        tokens = nltk.word_tokenize(row['sentence'])\n",
    "        pos_tags = nltk.pos_tag(tokens)\n",
    "        adj_tokens = sum(1 for tag in pos_tags if tag[1] in ['JJ', 'JJR', 'JJS'])\n",
    "        lexical_words = sum(1 for tag in pos_tags if tag[1] in ['NN', 'NNS', 'NNP', 'NNPS', 'VB', 'VBD', 'VBG', 'VBN', 'VBP', 'VBZ', 'JJ', 'JJR', 'JJS', 'RB', 'RBR', 'RBS'])\n",
    "        if lexical_words > 0:\n",
    "            av = adj_tokens / lexical_words # divide the number of adj tokens by the total number of lexical words\n",
    "        else:\n",
    "            av = 0\n",
    "        return av\n",
    "\n",
    "    # 8. Non-standard Words\n",
    "    coca = set(wn.words()) # variable containing words from the WordNet corpus\n",
    "\n",
    "    def nonstandard_words(text):\n",
    "        tokens = nltk.word_tokenize(text)  # tokenize the input text into words\n",
    "        count = sum(1 for token in tokens if token.lower() not in coca) # count the number of tokens that are not in the WordNet corpus\n",
    "        return count\n",
    "\n",
    "    # 9. Profanity Words\n",
    "    with open(\"/kaggle/input/profanity-list/profanity_list.txt\", \"r\") as file:  # read the file containing a list of profanity words\n",
    "        profanity_words = [word.strip() for word in file]\n",
    "\n",
    "    def prof_words(text):\n",
    "        count = 0\n",
    "        # loop through each word in the input text\n",
    "        for word in text.split():\n",
    "            if word.lower() in profanity_words:  #  checking if the lowercased word exists in the profanity list\n",
    "                count += 1\n",
    "        return count\n",
    "    \n",
    "\n",
    "    # Apply all functions to dataset\n",
    "    df['token_count'] = df['sentence'].apply(token_count)\n",
    "    df['type_count'] = df['sentence'].apply(lambda x: type_count(x))\n",
    "    df['LexDens'] = df['sentence'].apply(lexical_density)\n",
    "    df[['TTR', 'CTTR', 'GTTR']] = df['sentence'].dropna().apply(ttr).apply(pd.Series)\n",
    "    df['MTLD'] = df['sentence'].apply(mtld)\n",
    "    df['VerbVar'] = df.apply(verb_variation, axis=1)\n",
    "    df['NounVar'] = df.apply(noun_variation, axis=1)\n",
    "    df['AdjVar'] = df.apply(adjective_variation, axis=1)\n",
    "    df['AdvVar'] = df.apply(adverb_variation, axis=1)\n",
    "    df['non_standard'] = df['sentence'].apply(nonstandard_words)\n",
    "    df['profanity_words'] = df['sentence'].apply(prof_words)\n",
    "\n",
    "    return df\n",
    "\n",
    "# Call the function on both datasets\n",
    "df_sentiment = lexical_features(df_sentiment)\n",
    "df_emotions = lexical_features(df_emotions)"
   ]
  },
  {
   "cell_type": "markdown",
   "id": "1f27bb11",
   "metadata": {
    "papermill": {
     "duration": 0.055606,
     "end_time": "2023-07-31T15:44:52.877645",
     "exception": false,
     "start_time": "2023-07-31T15:44:52.822039",
     "status": "completed"
    },
    "tags": []
   },
   "source": [
    "#### 3.2e Function Words\n",
    "- Articles\n",
    "- Prepositions\n",
    "- Conjunctions\n",
    "- Pronouns\n",
    "- Auxiliary Verbs\n",
    "- Modal Verbs\n",
    "- Determiners"
   ]
  },
  {
   "cell_type": "code",
   "execution_count": 50,
   "id": "a0035751",
   "metadata": {
    "execution": {
     "iopub.execute_input": "2023-07-31T15:44:52.991887Z",
     "iopub.status.busy": "2023-07-31T15:44:52.991487Z",
     "iopub.status.idle": "2023-07-31T15:44:55.201586Z",
     "shell.execute_reply": "2023-07-31T15:44:55.200480Z"
    },
    "papermill": {
     "duration": 2.2716,
     "end_time": "2023-07-31T15:44:55.204007",
     "exception": false,
     "start_time": "2023-07-31T15:44:52.932407",
     "status": "completed"
    },
    "tags": []
   },
   "outputs": [],
   "source": [
    "# 10. Function Words\n",
    "def function_words(tokens, pattern):\n",
    "    matches = [token for token in tokens if re.match(pattern, token, flags=re.IGNORECASE)]  # usinge regex to match function words in tokens\n",
    "    return len(matches)\n",
    "\n",
    "# List of function word features and their corresponding patterns\n",
    "function_words_patterns = {\n",
    "    'Articles': r'\\b(a|an|the)\\b',\n",
    "    'Prepositions': r'\\b(in|on|at|over|under|with|of|to|from)\\b',\n",
    "    'Conjunctions': r'\\b(and|but|or|so|if|because|while|although)\\b',\n",
    "    'Pronouns': r'\\b(I|you|he|she|it|we|they|me|him|her|us|them)\\b',\n",
    "    'Auxiliary Verbs': r'\\b(be|do)\\b',\n",
    "    'Modal Verbs': r'\\b(can|could|may|might|shall|should|will|would|must)\\b',\n",
    "    'Determiners': r'\\b(this|that|these|those|some|any|no|every)\\b',\n",
    "}\n",
    "\n",
    "# Tokenize the text and convert tokens to lowercase\n",
    "df_sentiment['tokenized_text'] = df_sentiment['sentence'].apply(lambda x: word_tokenize(x.lower()))\n",
    "df_emotions['tokenized_text'] = df_emotions['sentence'].apply(lambda x: word_tokenize(x.lower()))\n",
    "\n",
    "# Create separate columns for each function \n",
    "for column in function_words_patterns.keys():\n",
    "    df_sentiment[column] = 0\n",
    "\n",
    "# Iterate over function word features and count their occurrences in each sentence\n",
    "for feature, pattern in function_words_patterns.items():\n",
    "    df_sentiment[feature] = df_sentiment['tokenized_text'].apply(lambda x: function_words(x, pattern))\n",
    "    df_emotions[feature] = df_emotions['tokenized_text'].apply(lambda x: function_words(x, pattern))"
   ]
  },
  {
   "cell_type": "markdown",
   "id": "ce409219",
   "metadata": {
    "papermill": {
     "duration": 0.054209,
     "end_time": "2023-07-31T15:44:55.313657",
     "exception": false,
     "start_time": "2023-07-31T15:44:55.259448",
     "status": "completed"
    },
    "tags": []
   },
   "source": [
    "### 3.3 Syntactic Features\n",
    "### Phrase Level\n",
    "#### 3.3a. Total Number of Phrases\n",
    "- Ratio Noun phrases\n",
    "- Adverb phrases,\n",
    "- Adjective phrases\n",
    "- Prepositional phrases\n",
    "- Verb phrases\n",
    "\n",
    "#### 3.3b. Complex Nominals"
   ]
  },
  {
   "cell_type": "code",
   "execution_count": 51,
   "id": "60a5e1d8",
   "metadata": {
    "execution": {
     "iopub.execute_input": "2023-07-31T15:44:55.423980Z",
     "iopub.status.busy": "2023-07-31T15:44:55.423640Z",
     "iopub.status.idle": "2023-07-31T15:44:55.440874Z",
     "shell.execute_reply": "2023-07-31T15:44:55.439954Z"
    },
    "papermill": {
     "duration": 0.075253,
     "end_time": "2023-07-31T15:44:55.443199",
     "exception": false,
     "start_time": "2023-07-31T15:44:55.367946",
     "status": "completed"
    },
    "tags": []
   },
   "outputs": [],
   "source": [
    "# 1. Total Number of Phrases\n",
    "def count_phrases(sentence):\n",
    "    doc = nlp(sentence[:512])\n",
    "    sent = list(doc.sents)[0]\n",
    "    counts = {'Noun phrase': 0, 'Adverb phrase': 0, 'Adjective phrase': 0, 'Prepositional phrase': 0, 'Verb phrase': 0}\n",
    "    for token in sent:\n",
    "        if token.dep_ == 'nsubj':  # check if token is a subject in NP\n",
    "            counts['Noun phrase'] += 1\n",
    "        elif token.pos_ == 'ADV':  # check if token is an adverb\n",
    "            counts['Adverb phrase'] += 1  \n",
    "        elif token.pos_ == 'ADJ':  # check if token is an adjective\n",
    "            counts['Adjective phrase'] += 1\n",
    "        elif token.dep_ == 'prep': # check if token is a preposition in a PRP\n",
    "            counts['Prepositional phrase'] += 1\n",
    "        elif token.pos_ == 'VERB':  # check if token is a verb\n",
    "            counts['Verb phrase'] += 1\n",
    "    total_count = sum(counts.values())  # calculate the total number of phrases\n",
    "    return total_count\n",
    "\n",
    "# 2. Number of NP, AdvP, AdjP, PrP, VP\n",
    "def count_specific_phrases(sentence):\n",
    "    doc = nlp(sentence[:512])\n",
    "    sent = list(doc.sents)[0]\n",
    "    counts = {'Noun phrase': 0, 'Adverb phrase': 0, 'Adjective phrase': 0, 'Prepositional phrase': 0, 'Verb phrase': 0}\n",
    "    for token in sent:\n",
    "        if token.dep_ == 'nsubj':\n",
    "            counts['Noun phrase'] += 1\n",
    "        elif token.pos_ == 'ADV':\n",
    "            counts['Adverb phrase'] += 1\n",
    "        elif token.pos_ == 'ADJ':\n",
    "            counts['Adjective phrase'] += 1\n",
    "        elif token.dep_ == 'prep':\n",
    "            counts['Prepositional phrase'] += 1\n",
    "        elif token.pos_ == 'VERB':\n",
    "            counts['Verb phrase'] += 1\n",
    "    total_phrases = sum(counts.values())\n",
    "    if total_phrases == 0:\n",
    "        return {'Noun phrase ratio': 0, 'Adverb phrase ratio': 0, 'Adjective phrase ratio': 0, 'Prepositional phrase ratio': 0, 'Verb phrase ratio': 0}\n",
    "    ratios = {\n",
    "        'Noun phrase ratio': counts['Noun phrase'] / total_phrases,\n",
    "        'Adverb phrase ratio': counts['Adverb phrase'] / total_phrases,\n",
    "        'Adjective phrase ratio': counts['Adjective phrase'] / total_phrases,\n",
    "        'Prepositional phrase ratio': counts['Prepositional phrase'] / total_phrases,\n",
    "        'Verb phrase ratio': counts['Verb phrase'] / total_phrases\n",
    "    }\n",
    "    return ratios\n",
    "\n",
    "\n",
    "# 3. Complex Nominals\n",
    "def compute_complex_nominals(text):\n",
    "    doc = nlp(text[:512])\n",
    "    count = 0\n",
    "    for token in doc:\n",
    "        if token.pos_ == 'NOUN' and token.dep_ != 'compound':  # check if token is a noun and not part of a compound word\n",
    "            if any(child.pos_ == 'NOUN' for child in token.children):   # check if the noun has child nouns\n",
    "                count += 1\n",
    "        elif token.pos_ == 'ADJ' or token.pos_ == 'PART' or (token.pos_ == 'NOUN' and token.dep_ == 'poss'):  # check for the existence of adjectives, particles, or possessive nouns\n",
    "            count += 1\n",
    "        elif token.pos_ == 'ADP':\n",
    "            for child in token.children:\n",
    "                if child.pos_ == 'NOUN' and child.dep_ != 'compound':\n",
    "                    count += 1\n",
    "        elif token.pos_ == 'VERB':\n",
    "            for child in token.children:\n",
    "                if child.dep_ == 'relcl' or child.dep_ == 'acl':\n",
    "                    count += 1\n",
    "    return count"
   ]
  },
  {
   "cell_type": "code",
   "execution_count": 52,
   "id": "b89a2d5c",
   "metadata": {
    "execution": {
     "iopub.execute_input": "2023-07-31T15:44:55.554951Z",
     "iopub.status.busy": "2023-07-31T15:44:55.554582Z",
     "iopub.status.idle": "2023-07-31T15:48:50.733840Z",
     "shell.execute_reply": "2023-07-31T15:48:50.732789Z"
    },
    "papermill": {
     "duration": 235.238367,
     "end_time": "2023-07-31T15:48:50.736351",
     "exception": false,
     "start_time": "2023-07-31T15:44:55.497984",
     "status": "completed"
    },
    "tags": []
   },
   "outputs": [
    {
     "name": "stderr",
     "output_type": "stream",
     "text": [
      "/opt/conda/lib/python3.10/site-packages/torch/distributions/distribution.py:51: UserWarning: <class 'torch_struct.distributions.TreeCRF'> does not define `arg_constraints`. Please set `arg_constraints = {}` or initialize the distribution with `validate_args=False` to turn off validation.\n",
      "  warnings.warn(f'{self.__class__} does not define `arg_constraints`. ' +\n",
      "/opt/conda/lib/python3.10/site-packages/torch/distributions/distribution.py:51: UserWarning: <class 'torch_struct.distributions.TreeCRF'> does not define `arg_constraints`. Please set `arg_constraints = {}` or initialize the distribution with `validate_args=False` to turn off validation.\n",
      "  warnings.warn(f'{self.__class__} does not define `arg_constraints`. ' +\n",
      "/opt/conda/lib/python3.10/site-packages/torch/distributions/distribution.py:51: UserWarning: <class 'torch_struct.distributions.TreeCRF'> does not define `arg_constraints`. Please set `arg_constraints = {}` or initialize the distribution with `validate_args=False` to turn off validation.\n",
      "  warnings.warn(f'{self.__class__} does not define `arg_constraints`. ' +\n"
     ]
    }
   ],
   "source": [
    "# Call the functions to df_sentiment\n",
    "df_sentiment['Number of Phrases'] = df_sentiment['sentence'].apply(count_phrases)\n",
    "df_sentiment[['NP Ratio', 'AdvP Ratio', 'AdjP Ratio', 'PrpP Ratio', 'VP Ratio']] = df_sentiment['sentence'].apply(count_specific_phrases).apply(pd.Series)\n",
    "df_sentiment['Complex Nominals'] = df_sentiment['sentence'].apply(compute_complex_nominals)"
   ]
  },
  {
   "cell_type": "code",
   "execution_count": 53,
   "id": "5082bb7d",
   "metadata": {
    "execution": {
     "iopub.execute_input": "2023-07-31T15:48:50.851385Z",
     "iopub.status.busy": "2023-07-31T15:48:50.850503Z",
     "iopub.status.idle": "2023-07-31T15:52:20.615167Z",
     "shell.execute_reply": "2023-07-31T15:52:20.614091Z"
    },
    "papermill": {
     "duration": 209.823335,
     "end_time": "2023-07-31T15:52:20.617784",
     "exception": false,
     "start_time": "2023-07-31T15:48:50.794449",
     "status": "completed"
    },
    "tags": []
   },
   "outputs": [
    {
     "name": "stderr",
     "output_type": "stream",
     "text": [
      "/opt/conda/lib/python3.10/site-packages/torch/distributions/distribution.py:51: UserWarning: <class 'torch_struct.distributions.TreeCRF'> does not define `arg_constraints`. Please set `arg_constraints = {}` or initialize the distribution with `validate_args=False` to turn off validation.\n",
      "  warnings.warn(f'{self.__class__} does not define `arg_constraints`. ' +\n",
      "/opt/conda/lib/python3.10/site-packages/torch/distributions/distribution.py:51: UserWarning: <class 'torch_struct.distributions.TreeCRF'> does not define `arg_constraints`. Please set `arg_constraints = {}` or initialize the distribution with `validate_args=False` to turn off validation.\n",
      "  warnings.warn(f'{self.__class__} does not define `arg_constraints`. ' +\n",
      "/opt/conda/lib/python3.10/site-packages/torch/distributions/distribution.py:51: UserWarning: <class 'torch_struct.distributions.TreeCRF'> does not define `arg_constraints`. Please set `arg_constraints = {}` or initialize the distribution with `validate_args=False` to turn off validation.\n",
      "  warnings.warn(f'{self.__class__} does not define `arg_constraints`. ' +\n"
     ]
    }
   ],
   "source": [
    "# Call the functions to df_emotions\n",
    "df_emotions['Number of Phrases'] = df_emotions['sentence'].apply(count_phrases)\n",
    "df_emotions[['NP Ratio', 'AdvP Ratio', 'AdjP Ratio', 'PrpP Ratio', 'VP Ratio']] = df_emotions['sentence'].apply(count_specific_phrases).apply(pd.Series)\n",
    "df_emotions['Complex Nominals'] = df_emotions['sentence'].apply(compute_complex_nominals)"
   ]
  },
  {
   "cell_type": "markdown",
   "id": "3ced171f",
   "metadata": {
    "papermill": {
     "duration": 0.055555,
     "end_time": "2023-07-31T15:52:20.730577",
     "exception": false,
     "start_time": "2023-07-31T15:52:20.675022",
     "status": "completed"
    },
    "tags": []
   },
   "source": [
    "### Sentence Level\n",
    "\n",
    "#### 3.3c. Sentence Length\n",
    "- Number of words in the sentence\n",
    "- Number of characters in the sentence\n",
    "\n",
    "#### 3.3d. Dependent Clauses\n",
    "- Number of Subordinate Clauses in a Sentence\n",
    "- Number of Relative Clauses in a sentence\n",
    "\n",
    "#### 3.3e. Tree Depth of Syntactic Parse Tree"
   ]
  },
  {
   "cell_type": "code",
   "execution_count": 54,
   "id": "06eb6761",
   "metadata": {
    "execution": {
     "iopub.execute_input": "2023-07-31T15:52:20.845717Z",
     "iopub.status.busy": "2023-07-31T15:52:20.844684Z",
     "iopub.status.idle": "2023-07-31T15:52:20.850597Z",
     "shell.execute_reply": "2023-07-31T15:52:20.849572Z"
    },
    "papermill": {
     "duration": 0.065018,
     "end_time": "2023-07-31T15:52:20.852702",
     "exception": false,
     "start_time": "2023-07-31T15:52:20.787684",
     "status": "completed"
    },
    "tags": []
   },
   "outputs": [],
   "source": [
    "# 1. Number of characters \n",
    "get_num_chars = lambda x: len(''.join(x.split()))\n",
    "\n",
    "# 2. Number of words \n",
    "get_num_words = lambda x: len(x.split())"
   ]
  },
  {
   "cell_type": "code",
   "execution_count": 55,
   "id": "80f67336",
   "metadata": {
    "execution": {
     "iopub.execute_input": "2023-07-31T15:52:20.965496Z",
     "iopub.status.busy": "2023-07-31T15:52:20.965169Z",
     "iopub.status.idle": "2023-07-31T15:52:20.977176Z",
     "shell.execute_reply": "2023-07-31T15:52:20.976181Z"
    },
    "papermill": {
     "duration": 0.071132,
     "end_time": "2023-07-31T15:52:20.979089",
     "exception": false,
     "start_time": "2023-07-31T15:52:20.907957",
     "status": "completed"
    },
    "tags": []
   },
   "outputs": [],
   "source": [
    "# 3. Subordinate Clauses\n",
    "def subord_clauses(sentence):\n",
    "    doc = nlp(sentence[:512])\n",
    "    subord_count = 0\n",
    "    for token in doc:\n",
    "        # Check if the token is a subordinating conjunction \n",
    "        if token.dep_ == \"mark\" and (token.text == \"that\" or token.text in [\"when\", \"where\", \"who\", \"whom\", \"whose\", \"which\", \"although\", \"because\", \"if\", \"since\", \"while\"]):\n",
    "            subord_count += 1\n",
    "    return subord_count\n",
    "\n",
    "\n",
    "# 4. Relative Clauses\n",
    "pattern = r\"(which|who|whom|whose|where|when)\"\n",
    "\n",
    "# define a function to count the number of matches of the pattern in a sentence\n",
    "def relative_clauses(sentence):\n",
    "    matches = re.findall(pattern, sentence)\n",
    "    return len(matches)\n",
    "\n",
    "\n",
    "# 5. Syntactic Tree Depth\n",
    "def tree_depth(sentence):\n",
    "    doc = nlp(sentence[:512]) # parse the sentence\n",
    "    root = [token for token in doc if token.head == token][0] # find the root of the synt tree\n",
    "    \n",
    "    def traverse(node, depth):\n",
    "        if not list(node.children): # ff the current node has no children, return its depth\n",
    "            return depth\n",
    "        else:\n",
    "            return max(traverse(child, depth+1) for child in node.children)\n",
    "    # start the tree traversal from the root with an initial depth of 0\n",
    "    return traverse(root, 0)\n",
    "\n",
    "\n",
    "# 6. Parenthetical Sentences\n",
    "# Define a regular expression to match parenthetical expressions\n",
    "paren_regex = r'[\\(\\[\\{].*?[\\)\\]\\}]'\n",
    "\n",
    "# Define a regular expression to match parenthetical expressions set within dashes\n",
    "dash_regex = r'--(.*?)--'\n",
    "\n",
    "# Define a regular expression to match parenthetical expressions within commas\n",
    "comma_regex = r',\\s*([^,()]+)\\s*,'\n",
    "\n",
    "# Count the number of parenthetical expressions in a sentence\n",
    "def parenthetical_sent(sentence):\n",
    "    # Find all parenthetical expressions in the sentence\n",
    "    paren_matches = re.findall(paren_regex, sentence)\n",
    "    dash_matches = re.findall(dash_regex, sentence)\n",
    "    comma_matches = re.findall(comma_regex, sentence)\n",
    "\n",
    "    # Combine all matches into a single list of parenthetical expressions\n",
    "    parentheticals = paren_matches + dash_matches + comma_matches\n",
    "\n",
    "    # Return the count of parenthetical expressions\n",
    "    return len(parentheticals)"
   ]
  },
  {
   "cell_type": "code",
   "execution_count": 56,
   "id": "1ac3ac0e",
   "metadata": {
    "execution": {
     "iopub.execute_input": "2023-07-31T15:52:21.092106Z",
     "iopub.status.busy": "2023-07-31T15:52:21.091767Z",
     "iopub.status.idle": "2023-07-31T15:54:57.492685Z",
     "shell.execute_reply": "2023-07-31T15:54:57.491582Z"
    },
    "papermill": {
     "duration": 156.459945,
     "end_time": "2023-07-31T15:54:57.495471",
     "exception": false,
     "start_time": "2023-07-31T15:52:21.035526",
     "status": "completed"
    },
    "tags": []
   },
   "outputs": [
    {
     "name": "stderr",
     "output_type": "stream",
     "text": [
      "/opt/conda/lib/python3.10/site-packages/torch/distributions/distribution.py:51: UserWarning: <class 'torch_struct.distributions.TreeCRF'> does not define `arg_constraints`. Please set `arg_constraints = {}` or initialize the distribution with `validate_args=False` to turn off validation.\n",
      "  warnings.warn(f'{self.__class__} does not define `arg_constraints`. ' +\n",
      "/opt/conda/lib/python3.10/site-packages/torch/distributions/distribution.py:51: UserWarning: <class 'torch_struct.distributions.TreeCRF'> does not define `arg_constraints`. Please set `arg_constraints = {}` or initialize the distribution with `validate_args=False` to turn off validation.\n",
      "  warnings.warn(f'{self.__class__} does not define `arg_constraints`. ' +\n"
     ]
    }
   ],
   "source": [
    "# Call functions to df_sentiment\n",
    "df_sentiment['Subordinate Clauses'] = df_sentiment['sentence'].apply(subord_clauses)   \n",
    "df_sentiment[\"Relative Clauses\"] = df_sentiment[\"sentence\"].apply(relative_clauses)\n",
    "df_sentiment['Number of Characters'] = df_sentiment['sentence'].apply(get_num_chars)\n",
    "df_sentiment['Number of Words'] = df_sentiment['sentence'].apply(get_num_words)\n",
    "\n",
    "# Join the list of words back into a string before applying the tree function\n",
    "df_sentiment[\"Tree Depth\"] = df_sentiment[\"sentence\"].apply(tree_depth)\n",
    "df_sentiment['paren_count'] = df_sentiment['sentence'].apply(parenthetical_sent)"
   ]
  },
  {
   "cell_type": "code",
   "execution_count": 57,
   "id": "f98df4db",
   "metadata": {
    "execution": {
     "iopub.execute_input": "2023-07-31T15:54:57.610435Z",
     "iopub.status.busy": "2023-07-31T15:54:57.610066Z",
     "iopub.status.idle": "2023-07-31T15:57:17.766714Z",
     "shell.execute_reply": "2023-07-31T15:57:17.765472Z"
    },
    "papermill": {
     "duration": 140.216433,
     "end_time": "2023-07-31T15:57:17.769392",
     "exception": false,
     "start_time": "2023-07-31T15:54:57.552959",
     "status": "completed"
    },
    "tags": []
   },
   "outputs": [
    {
     "name": "stderr",
     "output_type": "stream",
     "text": [
      "/opt/conda/lib/python3.10/site-packages/torch/distributions/distribution.py:51: UserWarning: <class 'torch_struct.distributions.TreeCRF'> does not define `arg_constraints`. Please set `arg_constraints = {}` or initialize the distribution with `validate_args=False` to turn off validation.\n",
      "  warnings.warn(f'{self.__class__} does not define `arg_constraints`. ' +\n",
      "/opt/conda/lib/python3.10/site-packages/torch/distributions/distribution.py:51: UserWarning: <class 'torch_struct.distributions.TreeCRF'> does not define `arg_constraints`. Please set `arg_constraints = {}` or initialize the distribution with `validate_args=False` to turn off validation.\n",
      "  warnings.warn(f'{self.__class__} does not define `arg_constraints`. ' +\n"
     ]
    }
   ],
   "source": [
    "# Call functions to df_emotions\n",
    "df_emotions['Subordinate Clauses'] = df_emotions['sentence'].apply(subord_clauses)   \n",
    "df_emotions[\"Relative Clauses\"] = df_emotions[\"sentence\"].apply(relative_clauses)\n",
    "df_emotions['Number of Characters'] = df_emotions['sentence'].apply(get_num_chars)\n",
    "df_emotions['Number of Words'] = df_emotions['sentence'].apply(get_num_words)\n",
    "\n",
    "# Join the list of words back into a string before applying the get_tree_depth function\n",
    "df_emotions[\"Tree Depth\"] = df_emotions[\"sentence\"].apply(tree_depth)\n",
    "df_emotions['paren_count'] = df_emotions['sentence'].apply(parenthetical_sent)"
   ]
  },
  {
   "cell_type": "markdown",
   "id": "8f6b1fec",
   "metadata": {
    "papermill": {
     "duration": 0.058855,
     "end_time": "2023-07-31T15:57:17.884564",
     "exception": false,
     "start_time": "2023-07-31T15:57:17.825709",
     "status": "completed"
    },
    "tags": []
   },
   "source": [
    "### Dependency Relations\n",
    "- Subject-Verb Agreement\n",
    "- Object-Verb Agreement\n",
    "- Adjective-Noun Agreement"
   ]
  },
  {
   "cell_type": "code",
   "execution_count": 58,
   "id": "66013bda",
   "metadata": {
    "execution": {
     "iopub.execute_input": "2023-07-31T15:57:17.999473Z",
     "iopub.status.busy": "2023-07-31T15:57:17.998574Z",
     "iopub.status.idle": "2023-07-31T15:57:18.006765Z",
     "shell.execute_reply": "2023-07-31T15:57:18.005628Z"
    },
    "papermill": {
     "duration": 0.067374,
     "end_time": "2023-07-31T15:57:18.008963",
     "exception": false,
     "start_time": "2023-07-31T15:57:17.941589",
     "status": "completed"
    },
    "tags": []
   },
   "outputs": [],
   "source": [
    "# 1. Dependency Relations\n",
    "def dependency_label_frequencies(sentences, relations_to_extract):\n",
    "    dependency_frequencies = []  # empty dictionary to  store dependency frequencies\n",
    "    for sentence in sentences: #iterate over each sentence\n",
    "        max_length = 512  # maximum supported length of tokens\n",
    "        chunks = [sentence[i:i + max_length] for i in range(0, len(sentence), max_length)]\n",
    "        sentence_dependency_labels = {}\n",
    "\n",
    "        for chunk in chunks: # process the sentence in chunks of maximum supported length\n",
    "            doc = nlp(chunk)\n",
    "            for token in doc: # iterate over each token\n",
    "                if token.dep_ in dep_rel: # check if the token's dependency label is included in the dep_rel variable\n",
    "                    if token.dep_ not in sentence_dependency_labels: # include the dependency label in the dictionary if it's not already included\n",
    "                        sentence_dependency_labels[token.dep_] = 0\n",
    "                    sentence_dependency_labels[token.dep_] += 1\n",
    "\n",
    "        dependency_frequencies.append(sentence_dependency_labels)\n",
    "\n",
    "    return dependency_frequencies  # return the list of dependency frequencies"
   ]
  },
  {
   "cell_type": "code",
   "execution_count": 59,
   "id": "482227e7",
   "metadata": {
    "execution": {
     "iopub.execute_input": "2023-07-31T15:57:18.122310Z",
     "iopub.status.busy": "2023-07-31T15:57:18.121938Z",
     "iopub.status.idle": "2023-07-31T15:59:54.279306Z",
     "shell.execute_reply": "2023-07-31T15:59:54.278154Z"
    },
    "papermill": {
     "duration": 156.217604,
     "end_time": "2023-07-31T15:59:54.282237",
     "exception": false,
     "start_time": "2023-07-31T15:57:18.064633",
     "status": "completed"
    },
    "tags": []
   },
   "outputs": [
    {
     "name": "stderr",
     "output_type": "stream",
     "text": [
      "/opt/conda/lib/python3.10/site-packages/torch/distributions/distribution.py:51: UserWarning: <class 'torch_struct.distributions.TreeCRF'> does not define `arg_constraints`. Please set `arg_constraints = {}` or initialize the distribution with `validate_args=False` to turn off validation.\n",
      "  warnings.warn(f'{self.__class__} does not define `arg_constraints`. ' +\n"
     ]
    }
   ],
   "source": [
    "# Define the dependency relations \n",
    "dep_rel = [\"nsubj\", \"dobj\", \"amod\"]\n",
    "\n",
    "# Extract the dependency label frequencies\n",
    "dependency_frequencies = dependency_label_frequencies(df_sentiment['sentence'], dep_rel)\n",
    "dependency_frequencies = dependency_label_frequencies(df_emotions['sentence'], dep_rel)\n",
    "\n",
    "# Create separate columns in the datasets for each dependency relation\n",
    "for relation in dep_rel:\n",
    "    df_sentiment[relation] = 0\n",
    "    df_emotions[relation] = 0\n",
    "\n",
    "# Update the corresponding columns in the datasets\n",
    "for i, frequencies in enumerate(dependency_frequencies):\n",
    "    for relation, frequency in frequencies.items():\n",
    "        df_sentiment.at[i, relation] = frequency\n",
    "        df_emotions.at[i, relation] = frequency"
   ]
  },
  {
   "cell_type": "code",
   "execution_count": 60,
   "id": "46b34cb2",
   "metadata": {
    "execution": {
     "iopub.execute_input": "2023-07-31T15:59:54.399739Z",
     "iopub.status.busy": "2023-07-31T15:59:54.398752Z",
     "iopub.status.idle": "2023-07-31T15:59:54.411477Z",
     "shell.execute_reply": "2023-07-31T15:59:54.410428Z"
    },
    "papermill": {
     "duration": 0.072419,
     "end_time": "2023-07-31T15:59:54.413644",
     "exception": false,
     "start_time": "2023-07-31T15:59:54.341225",
     "status": "completed"
    },
    "tags": []
   },
   "outputs": [],
   "source": [
    "# Remove NA values\n",
    "df_sentiment = df_sentiment.dropna(subset=['sentence'])\n",
    "df_emotions =  df_emotions.dropna(subset=['sentence'])"
   ]
  },
  {
   "cell_type": "markdown",
   "id": "d6747c48",
   "metadata": {
    "execution": {
     "iopub.execute_input": "2023-06-14T16:19:19.833776Z",
     "iopub.status.busy": "2023-06-14T16:19:19.832899Z",
     "iopub.status.idle": "2023-06-14T16:19:19.867352Z",
     "shell.execute_reply": "2023-06-14T16:19:19.865644Z",
     "shell.execute_reply.started": "2023-06-14T16:19:19.833731Z"
    },
    "papermill": {
     "duration": 0.0574,
     "end_time": "2023-07-31T15:59:54.527628",
     "exception": false,
     "start_time": "2023-07-31T15:59:54.470228",
     "status": "completed"
    },
    "tags": []
   },
   "source": [
    "### 3.4 Extraction of Discourse Coherence Features\n",
    "#### 3.4a. Discourse Markers\n",
    "- Constrast Markers\n",
    "- Emphatic Markers\n",
    "- Concessive Markers\n",
    "- Summary Markers"
   ]
  },
  {
   "cell_type": "code",
   "execution_count": 61,
   "id": "248e82dd",
   "metadata": {
    "execution": {
     "iopub.execute_input": "2023-07-31T15:59:54.643011Z",
     "iopub.status.busy": "2023-07-31T15:59:54.642624Z",
     "iopub.status.idle": "2023-07-31T15:59:54.655605Z",
     "shell.execute_reply": "2023-07-31T15:59:54.654559Z"
    },
    "papermill": {
     "duration": 0.072945,
     "end_time": "2023-07-31T15:59:54.657545",
     "exception": false,
     "start_time": "2023-07-31T15:59:54.584600",
     "status": "completed"
    },
    "tags": []
   },
   "outputs": [],
   "source": [
    "# list of discourse markers\n",
    "constrast_markers = [\"but\", \"however\", \"nevertheless\", \"yet\", \"despite\", \"although\"]\n",
    "# add multi-word expressions to the list with regex pattern\n",
    "constrast_markers.extend([\"all in all\", \"on the contrary\", \"by contrast\", \"in contrast\", \"even though\", \"on the other hand\"])\n",
    "\n",
    "# list of emphasic markers\n",
    "emphatic_markers = ['indeed', 'certainly', 'absolutely', 'clearly', 'obviously', 'notably', 'significantly', 'particularly', 'especially']\n",
    "emphatic_markers.extend([\"by all means\", \"of course\", \"without a doubt\", \"in fact\"])\n",
    "\n",
    "# list of concessive markers\n",
    "concessive_markers = [\"although\", \"while\", \"despite\", \"granted\", \"admittedly\", \"naturally\"]\n",
    "concessive_markers.extend([\"be that as it may\", \"at the same time\", \"regardless of\", \"notwithstanding that\"])\n",
    "\n",
    "# list of summary markers\n",
    "summary_markers = [\"overall\", \"briefly\", \"succinctly\", \"finally\"]\n",
    "summary_markers.extend([\"to summarize\", \"as a result\", \"in essence\", \"on the whole\", \"in conclusion\", \"to sum up\", \"all in all\", \"in summary\"])\n",
    "\n",
    "# 1. Number of Contrast Markers\n",
    "def count_contrast_markers(text):\n",
    "    text = str(text)  # convert to string if not already\n",
    "    count = 0\n",
    "    for marker in constrast_markers:  # check if the marker is present in the text\n",
    "        if re.search(rf\"\\b{re.escape(marker)}\\b\", text, flags=re.IGNORECASE):\n",
    "            count += 1\n",
    "    return count\n",
    "\n",
    "# 2. Number of Emphatic Markers\n",
    "def count_emphatic_markers(text):\n",
    "    text = str(text)  \n",
    "    count = 0\n",
    "    for marker in emphatic_markers:\n",
    "        if re.search(rf\"\\b{re.escape(marker)}\\b\", text, flags=re.IGNORECASE):\n",
    "            count += 1\n",
    "    return count\n",
    "\n",
    "# 3. Number of Concessive Markers\n",
    "def count_concessive_markers(text):\n",
    "    text = str(text)  \n",
    "    count = 0\n",
    "    for marker in concessive_markers:\n",
    "        if re.search(rf\"\\b{re.escape(marker)}\\b\", text, flags=re.IGNORECASE):\n",
    "            count += 1\n",
    "    return count\n",
    "\n",
    "# 4. Number of Summary Markers\n",
    "def count_summary_markers(text):\n",
    "    text = str(text)  # Convert to string if not already\n",
    "    count = 0\n",
    "    for marker in summary_markers:\n",
    "        if re.search(rf\"\\b{re.escape(marker)}\\b\", text, flags=re.IGNORECASE):\n",
    "            count += 1\n",
    "    return count"
   ]
  },
  {
   "cell_type": "code",
   "execution_count": 62,
   "id": "c1f7db8b",
   "metadata": {
    "collapsed": true,
    "execution": {
     "iopub.execute_input": "2023-07-31T15:59:54.774158Z",
     "iopub.status.busy": "2023-07-31T15:59:54.773779Z",
     "iopub.status.idle": "2023-07-31T15:59:55.508172Z",
     "shell.execute_reply": "2023-07-31T15:59:55.507168Z"
    },
    "jupyter": {
     "outputs_hidden": true
    },
    "papermill": {
     "duration": 0.796726,
     "end_time": "2023-07-31T15:59:55.510866",
     "exception": false,
     "start_time": "2023-07-31T15:59:54.714140",
     "status": "completed"
    },
    "tags": []
   },
   "outputs": [],
   "source": [
    "# Call the functions on the df_sentiment\n",
    "df_sentiment.loc[:, \"Contrast Markers\"] = df_sentiment[\"sentence\"].apply(count_contrast_markers)\n",
    "df_sentiment.loc[:, \"Emphatic Markers\"] = df_sentiment[\"sentence\"].apply(count_emphatic_markers)\n",
    "df_sentiment.loc[:, \"Concessive Markers\"] = df_sentiment[\"sentence\"].apply(count_concessive_markers)\n",
    "df_sentiment.loc[:, \"Summary Markers\"] = df_sentiment[\"sentence\"].apply(count_summary_markers)"
   ]
  },
  {
   "cell_type": "code",
   "execution_count": 63,
   "id": "6cc8d03a",
   "metadata": {
    "execution": {
     "iopub.execute_input": "2023-07-31T15:59:55.625048Z",
     "iopub.status.busy": "2023-07-31T15:59:55.624059Z",
     "iopub.status.idle": "2023-07-31T15:59:56.131991Z",
     "shell.execute_reply": "2023-07-31T15:59:56.130780Z"
    },
    "papermill": {
     "duration": 0.567518,
     "end_time": "2023-07-31T15:59:56.134549",
     "exception": false,
     "start_time": "2023-07-31T15:59:55.567031",
     "status": "completed"
    },
    "tags": []
   },
   "outputs": [],
   "source": [
    "# Call the functions on the df_emotions\n",
    "df_emotions.loc[:, \"Contrast Markers\"] = df_emotions[\"sentence\"].apply(count_contrast_markers)\n",
    "df_emotions.loc[:, \"Emphatic Markers\"] = df_emotions[\"sentence\"].apply(count_emphatic_markers)\n",
    "df_emotions.loc[:, \"Concessive Markers\"] = df_emotions[\"sentence\"].apply(count_concessive_markers)\n",
    "df_emotions.loc[:, \"Summary Markers\"] = df_emotions[\"sentence\"].apply(count_summary_markers)"
   ]
  },
  {
   "cell_type": "markdown",
   "id": "318f0030",
   "metadata": {
    "papermill": {
     "duration": 0.05498,
     "end_time": "2023-07-31T15:59:56.246165",
     "exception": false,
     "start_time": "2023-07-31T15:59:56.191185",
     "status": "completed"
    },
    "tags": []
   },
   "source": [
    "### 3.5 Extraction of Morphological Features\n",
    "#### 3.5a. Verb Tenses\n",
    "- Present Tense\n",
    "- Past Tense\n",
    "- Future Tense\n",
    "- Infinitive Form\n",
    "\n",
    "#### 3.5b. Negation suffixes"
   ]
  },
  {
   "cell_type": "code",
   "execution_count": 64,
   "id": "0825633b",
   "metadata": {
    "execution": {
     "iopub.execute_input": "2023-07-31T15:59:56.358949Z",
     "iopub.status.busy": "2023-07-31T15:59:56.358612Z",
     "iopub.status.idle": "2023-07-31T15:59:56.373422Z",
     "shell.execute_reply": "2023-07-31T15:59:56.372181Z"
    },
    "papermill": {
     "duration": 0.073442,
     "end_time": "2023-07-31T15:59:56.375211",
     "exception": false,
     "start_time": "2023-07-31T15:59:56.301769",
     "status": "completed"
    },
    "tags": []
   },
   "outputs": [],
   "source": [
    "# 1. Negative Words Count\n",
    "def count_negative_words(text):\n",
    "    if isinstance(text, str):  # Check if text is a string\n",
    "        prefix_pattern = re.compile(r'\\b(un|dis|non|in|im)\\w*\\b') # initiate regular expression for matching negative prefixes\n",
    "        suffix_pattern = re.compile(r'\\w*(less|void|lessness|n\\'t)\\b') # initiate regular expression for matching negative suffixes\n",
    "        count = 0\n",
    "        for word in text.split():\n",
    "            if prefix_pattern.search(word) or suffix_pattern.search(word):\n",
    "                count += 1\n",
    "        return count\n",
    "    else:\n",
    "        return 0\n",
    "\n",
    "    \n",
    "# 2. Count Verb Tenses\n",
    "def count_verbs(doc):   # initiate counters for present, past, future, and infinitive verbs\n",
    "    present_verbs = 0\n",
    "    past_verbs = 0\n",
    "    future_verbs = 0\n",
    "    infinitive_verbs = 0\n",
    "    \n",
    "    for token in doc:\n",
    "        if token.tag_.startswith('VB'): # Check if the token is a verb\n",
    "            if token.tag_ == 'VBZ' or token.tag_ == 'VBP':  # Present tense verbs\n",
    "                present_verbs += 1\n",
    "            elif token.tag_ == 'VBD':  # Past tense verbs\n",
    "                past_verbs += 1 \n",
    "            elif token.tag_ == 'VBG': # Gerund/present participle verbs\n",
    "                if 'will' in doc[token.i:token.i+5].text.lower():\n",
    "                    future_verbs += 1\n",
    "            elif token.tag_ == 'VBN':  # Past participle verbs\n",
    "                # check if \"will\" or \"shall\" appear within the next 5 tokens after the current token\n",
    "                if ('will' in doc[token.i:token.i+5].text.lower() or \n",
    "                    'shall' in doc[token.i:token.i+5].text.lower() or \n",
    "                    (token.tag_ == 'VBN' and 'have' in doc[token.i-3:token.i].text.lower() and \n",
    "                    ('will' in doc[token.i:token.i+5].text.lower() or 'shall' in doc[token.i:token.i+5].text.lower()) and \n",
    "                    'been' in doc[token.i:token.i+5].text.lower())):\n",
    "                    future_verbs += 1\n",
    "            elif token.tag_ == 'MD':  # Modal verbs \n",
    "                # counts as future verb if \"going\" or \"gonna\" appear within the next six tokens.\n",
    "                if ('going' in doc[token.i:token.i+6].text.lower() or \n",
    "                    'gonna' in doc[token.i:token.i+6].text.lower()):\n",
    "                    future_verbs += 1\n",
    "            elif token.tag_ == 'VB':  # Infinitive verbs\n",
    "                infinitive_verbs += 1\n",
    "    \n",
    "    return present_verbs, past_verbs, future_verbs, infinitive_verbs\n",
    "\n",
    "\n",
    "# 3. Check if a sentence has passive voice OR NOT\n",
    "def has_passive_voice(sentence):\n",
    "    doc = nlp(sentence)\n",
    "    for token in doc:\n",
    "        if token.dep_ == 'nsubjpass' and token.head.pos_ == 'VERB':\n",
    "            return 1\n",
    "    return 0"
   ]
  },
  {
   "cell_type": "code",
   "execution_count": 65,
   "id": "0e6cf91c",
   "metadata": {
    "collapsed": true,
    "execution": {
     "iopub.execute_input": "2023-07-31T15:59:56.489404Z",
     "iopub.status.busy": "2023-07-31T15:59:56.489083Z",
     "iopub.status.idle": "2023-07-31T16:02:40.134705Z",
     "shell.execute_reply": "2023-07-31T16:02:40.133626Z"
    },
    "jupyter": {
     "outputs_hidden": true
    },
    "papermill": {
     "duration": 163.706154,
     "end_time": "2023-07-31T16:02:40.137666",
     "exception": false,
     "start_time": "2023-07-31T15:59:56.431512",
     "status": "completed"
    },
    "tags": []
   },
   "outputs": [
    {
     "name": "stderr",
     "output_type": "stream",
     "text": [
      "/opt/conda/lib/python3.10/site-packages/torch/distributions/distribution.py:51: UserWarning: <class 'torch_struct.distributions.TreeCRF'> does not define `arg_constraints`. Please set `arg_constraints = {}` or initialize the distribution with `validate_args=False` to turn off validation.\n",
      "  warnings.warn(f'{self.__class__} does not define `arg_constraints`. ' +\n",
      "/opt/conda/lib/python3.10/site-packages/torch/distributions/distribution.py:51: UserWarning: <class 'torch_struct.distributions.TreeCRF'> does not define `arg_constraints`. Please set `arg_constraints = {}` or initialize the distribution with `validate_args=False` to turn off validation.\n",
      "  warnings.warn(f'{self.__class__} does not define `arg_constraints`. ' +\n"
     ]
    }
   ],
   "source": [
    "# Call function on df_sentiment\n",
    "df_sentiment['Negative Affixes'] = df_sentiment['sentence'].apply(count_negative_words)\n",
    "df_sentiment[['Present Verbs', 'Past Verbs', 'Future Verbs', 'Infinitive Verbs']] = df_sentiment['sentence'].apply(lambda x: pd.Series(count_verbs(nlp(x))))\n",
    "df_sentiment['has_passive_voice'] = df_sentiment['sentence'].apply(has_passive_voice)"
   ]
  },
  {
   "cell_type": "code",
   "execution_count": 66,
   "id": "a8646e54",
   "metadata": {
    "execution": {
     "iopub.execute_input": "2023-07-31T16:02:40.254893Z",
     "iopub.status.busy": "2023-07-31T16:02:40.254394Z",
     "iopub.status.idle": "2023-07-31T16:05:00.430813Z",
     "shell.execute_reply": "2023-07-31T16:05:00.429234Z"
    },
    "papermill": {
     "duration": 140.243543,
     "end_time": "2023-07-31T16:05:00.439225",
     "exception": false,
     "start_time": "2023-07-31T16:02:40.195682",
     "status": "completed"
    },
    "tags": []
   },
   "outputs": [
    {
     "name": "stderr",
     "output_type": "stream",
     "text": [
      "/opt/conda/lib/python3.10/site-packages/torch/distributions/distribution.py:51: UserWarning: <class 'torch_struct.distributions.TreeCRF'> does not define `arg_constraints`. Please set `arg_constraints = {}` or initialize the distribution with `validate_args=False` to turn off validation.\n",
      "  warnings.warn(f'{self.__class__} does not define `arg_constraints`. ' +\n",
      "/opt/conda/lib/python3.10/site-packages/torch/distributions/distribution.py:51: UserWarning: <class 'torch_struct.distributions.TreeCRF'> does not define `arg_constraints`. Please set `arg_constraints = {}` or initialize the distribution with `validate_args=False` to turn off validation.\n",
      "  warnings.warn(f'{self.__class__} does not define `arg_constraints`. ' +\n"
     ]
    }
   ],
   "source": [
    "# Call function on df_emotions\n",
    "df_emotions['Negative Affixes'] = df_emotions['sentence'].apply(count_negative_words)\n",
    "df_emotions[['Present Verbs', 'Past Verbs', 'Future Verbs', 'Infinitive Verbs']] = df_emotions['sentence'].apply(lambda x: pd.Series(count_verbs(nlp(x))))\n",
    "df_emotions['has_passive_voice'] = df_emotions['sentence'].apply(has_passive_voice)"
   ]
  },
  {
   "cell_type": "markdown",
   "id": "f542abca",
   "metadata": {
    "papermill": {
     "duration": 0.059775,
     "end_time": "2023-07-31T16:05:00.599489",
     "exception": false,
     "start_time": "2023-07-31T16:05:00.539714",
     "status": "completed"
    },
    "tags": []
   },
   "source": [
    "### 3.6 Conceptual Features\n",
    "#### 3.6a. Polarity Scores\n",
    "- Positive Polarity\n",
    "- Negative Polarity\n",
    "\n",
    "\n",
    "#### 3.6b. Word word ambiguity per sentence\n",
    "#### 3.6c. Mean word concreteness per sentence"
   ]
  },
  {
   "cell_type": "code",
   "execution_count": 67,
   "id": "35ddd0d1",
   "metadata": {
    "execution": {
     "iopub.execute_input": "2023-07-31T16:05:00.715339Z",
     "iopub.status.busy": "2023-07-31T16:05:00.714932Z",
     "iopub.status.idle": "2023-07-31T16:05:09.336829Z",
     "shell.execute_reply": "2023-07-31T16:05:09.335791Z"
    },
    "papermill": {
     "duration": 8.682907,
     "end_time": "2023-07-31T16:05:09.339329",
     "exception": false,
     "start_time": "2023-07-31T16:05:00.656422",
     "status": "completed"
    },
    "tags": []
   },
   "outputs": [],
   "source": [
    "# Create a SentimentIntensityAnalyzer variable\n",
    "analyzer = SentimentIntensityAnalyzer()\n",
    "\n",
    "# Load the concreteness lexicon\n",
    "concreteness_lexicon = pd.read_excel('/kaggle/input/concreteness-ratins/Concreteness_ratings_Brysbaert_et_al_BRM.xlsx')\n",
    "\n",
    "# Compute Conceptual Features\n",
    "def conceptual_features(df, text_column):\n",
    "    # Create new columns to store the negative and positive polarity scores\n",
    "    df['negative_polarity'] = df[text_column].apply(lambda x: analyzer.polarity_scores(x)['neg'])\n",
    "    df['positive_polarity'] = df[text_column].apply(lambda x: analyzer.polarity_scores(x)['pos'])\n",
    "    \n",
    "    # 1. Ambiguity\n",
    "    def count_synsets(word):\n",
    "        return len(wn.synsets(word))\n",
    "    \n",
    "    # Apply function to each word in the sentence and calculate the mean\n",
    "    df['word_ambiguity'] = df[text_column].apply(lambda x: sum(count_synsets(word) for sublist in x.split() for word in sublist.split()) / len(x.split()))\n",
    "    \n",
    "    # 2. Mean Concreteness\n",
    "    def calculate_mean_concreteness(sentence):\n",
    "        words = [word for sublist in sentence.split() for word in sublist.split()] # split the sentence into words and create a list of individual words\n",
    "        concreteness_scores = concreteness_lexicon.loc[concreteness_lexicon['Word'].isin(words)]['Conc.M'] # get concreteness scores for words in the sentence from the concreteness lexicon\n",
    "        return concreteness_scores.mean()\n",
    "    \n",
    "    # Calculate the mean concreteness for each sentence\n",
    "    df['mean_concreteness'] = df[text_column].apply(calculate_mean_concreteness)\n",
    "    \n",
    "    return df"
   ]
  },
  {
   "cell_type": "code",
   "execution_count": 68,
   "id": "e3d09a77",
   "metadata": {
    "collapsed": true,
    "execution": {
     "iopub.execute_input": "2023-07-31T16:05:09.458306Z",
     "iopub.status.busy": "2023-07-31T16:05:09.457529Z",
     "iopub.status.idle": "2023-07-31T16:05:27.730680Z",
     "shell.execute_reply": "2023-07-31T16:05:27.729613Z"
    },
    "jupyter": {
     "outputs_hidden": true
    },
    "papermill": {
     "duration": 18.332946,
     "end_time": "2023-07-31T16:05:27.733584",
     "exception": false,
     "start_time": "2023-07-31T16:05:09.400638",
     "status": "completed"
    },
    "tags": []
   },
   "outputs": [],
   "source": [
    "# Call the function for df_sentiment and df_emotions\n",
    "df_sentiment = conceptual_features(df_sentiment, 'sentence')\n",
    "df_emotions = conceptual_features(df_emotions, 'sentence')"
   ]
  },
  {
   "cell_type": "code",
   "execution_count": 69,
   "id": "85b8152e",
   "metadata": {
    "execution": {
     "iopub.execute_input": "2023-07-31T16:05:27.851984Z",
     "iopub.status.busy": "2023-07-31T16:05:27.851631Z",
     "iopub.status.idle": "2023-07-31T16:05:28.062296Z",
     "shell.execute_reply": "2023-07-31T16:05:28.061311Z"
    },
    "papermill": {
     "duration": 0.2726,
     "end_time": "2023-07-31T16:05:28.064818",
     "exception": false,
     "start_time": "2023-07-31T16:05:27.792218",
     "status": "completed"
    },
    "tags": []
   },
   "outputs": [],
   "source": [
    "# Extract feature datasets\n",
    "df_sentiment.to_csv('features_df_sentiment.csv', index=False)\n",
    "df_emotions.to_csv('features_df_emotions.csv', index=False)"
   ]
  },
  {
   "cell_type": "markdown",
   "id": "d8888f3b",
   "metadata": {
    "papermill": {
     "duration": 0.056866,
     "end_time": "2023-07-31T16:05:28.182837",
     "exception": false,
     "start_time": "2023-07-31T16:05:28.125971",
     "status": "completed"
    },
    "tags": []
   },
   "source": [
    "# PART 4: \n",
    "## Data Cleaning"
   ]
  },
  {
   "cell_type": "code",
   "execution_count": 70,
   "id": "2132b3aa",
   "metadata": {
    "execution": {
     "iopub.execute_input": "2023-07-31T16:05:28.298214Z",
     "iopub.status.busy": "2023-07-31T16:05:28.297220Z",
     "iopub.status.idle": "2023-07-31T16:05:29.346655Z",
     "shell.execute_reply": "2023-07-31T16:05:29.344942Z"
    },
    "papermill": {
     "duration": 1.108485,
     "end_time": "2023-07-31T16:05:29.347988",
     "exception": true,
     "start_time": "2023-07-31T16:05:28.239503",
     "status": "failed"
    },
    "tags": []
   },
   "outputs": [
    {
     "data": {
      "text/html": [
       "<pre style=\"white-space:pre;overflow-x:auto;line-height:normal;font-family:Menlo,'DejaVu Sans Mono',consolas,'Courier New',monospace\"><span style=\"color: #800000; text-decoration-color: #800000\">╭─────────────────────────────── </span><span style=\"color: #800000; text-decoration-color: #800000; font-weight: bold\">Traceback </span><span style=\"color: #bf7f7f; text-decoration-color: #bf7f7f; font-weight: bold\">(most recent call last)</span><span style=\"color: #800000; text-decoration-color: #800000\"> ────────────────────────────────╮</span>\n",
       "<span style=\"color: #800000; text-decoration-color: #800000\">│</span> in <span style=\"color: #00ff00; text-decoration-color: #00ff00\">&lt;module&gt;</span>:<span style=\"color: #0000ff; text-decoration-color: #0000ff\">10</span>                                                                                   <span style=\"color: #800000; text-decoration-color: #800000\">│</span>\n",
       "<span style=\"color: #800000; text-decoration-color: #800000\">│</span>                                                                                                  <span style=\"color: #800000; text-decoration-color: #800000\">│</span>\n",
       "<span style=\"color: #800000; text-decoration-color: #800000\">│</span>   <span style=\"color: #7f7f7f; text-decoration-color: #7f7f7f\"> 7 #sklearn</span>                                                                                    <span style=\"color: #800000; text-decoration-color: #800000\">│</span>\n",
       "<span style=\"color: #800000; text-decoration-color: #800000\">│</span>   <span style=\"color: #7f7f7f; text-decoration-color: #7f7f7f\"> 8 </span><span style=\"color: #0000ff; text-decoration-color: #0000ff\">from</span> <span style=\"color: #00ffff; text-decoration-color: #00ffff; text-decoration: underline\">sklearn.model_selection</span> <span style=\"color: #0000ff; text-decoration-color: #0000ff\">import</span> KFold, cross_val_predict, cross_val_score, train_tes    <span style=\"color: #800000; text-decoration-color: #800000\">│</span>\n",
       "<span style=\"color: #800000; text-decoration-color: #800000\">│</span>   <span style=\"color: #7f7f7f; text-decoration-color: #7f7f7f\"> 9 </span><span style=\"color: #0000ff; text-decoration-color: #0000ff\">from</span> <span style=\"color: #00ffff; text-decoration-color: #00ffff; text-decoration: underline\">sklearn.metrics</span> <span style=\"color: #0000ff; text-decoration-color: #0000ff\">import</span> confusion_matrix, f1_score, accuracy_score, make_scorer, r2_    <span style=\"color: #800000; text-decoration-color: #800000\">│</span>\n",
       "<span style=\"color: #800000; text-decoration-color: #800000\">│</span> <span style=\"color: #800000; text-decoration-color: #800000\">❱ </span>10 <span style=\"color: #0000ff; text-decoration-color: #0000ff\">from</span> <span style=\"color: #00ffff; text-decoration-color: #00ffff; text-decoration: underline\">sklearn.linear_model</span> <span style=\"color: #0000ff; text-decoration-color: #0000ff\">import</span> LogisticRegression, LineaRegression                        <span style=\"color: #800000; text-decoration-color: #800000\">│</span>\n",
       "<span style=\"color: #800000; text-decoration-color: #800000\">│</span>   <span style=\"color: #7f7f7f; text-decoration-color: #7f7f7f\">11 </span><span style=\"color: #0000ff; text-decoration-color: #0000ff\">from</span> <span style=\"color: #00ffff; text-decoration-color: #00ffff; text-decoration: underline\">sklearn.ensemble</span> <span style=\"color: #0000ff; text-decoration-color: #0000ff\">import</span> RandomForestClassifier                                         <span style=\"color: #800000; text-decoration-color: #800000\">│</span>\n",
       "<span style=\"color: #800000; text-decoration-color: #800000\">│</span>   <span style=\"color: #7f7f7f; text-decoration-color: #7f7f7f\">12 </span><span style=\"color: #0000ff; text-decoration-color: #0000ff\">from</span> <span style=\"color: #00ffff; text-decoration-color: #00ffff; text-decoration: underline\">sklearn.preprocessing</span> <span style=\"color: #0000ff; text-decoration-color: #0000ff\">import</span> StandardScaler                                            <span style=\"color: #800000; text-decoration-color: #800000\">│</span>\n",
       "<span style=\"color: #800000; text-decoration-color: #800000\">│</span>   <span style=\"color: #7f7f7f; text-decoration-color: #7f7f7f\">13 </span><span style=\"color: #0000ff; text-decoration-color: #0000ff\">from</span> <span style=\"color: #00ffff; text-decoration-color: #00ffff; text-decoration: underline\">sklearn.feature_selection</span> <span style=\"color: #0000ff; text-decoration-color: #0000ff\">import</span> SelectKBest, f_regression                             <span style=\"color: #800000; text-decoration-color: #800000\">│</span>\n",
       "<span style=\"color: #800000; text-decoration-color: #800000\">╰──────────────────────────────────────────────────────────────────────────────────────────────────╯</span>\n",
       "<span style=\"color: #ff0000; text-decoration-color: #ff0000; font-weight: bold\">ImportError: </span>cannot import name <span style=\"color: #008000; text-decoration-color: #008000\">'LineaRegression'</span> from <span style=\"color: #008000; text-decoration-color: #008000\">'sklearn.linear_model'</span> \n",
       "<span style=\"font-weight: bold\">(</span><span style=\"color: #800080; text-decoration-color: #800080\">/opt/conda/lib/python3.10/site-packages/sklearn/linear_model/</span><span style=\"color: #ff00ff; text-decoration-color: #ff00ff\">__init__.py</span><span style=\"font-weight: bold\">)</span>\n",
       "</pre>\n"
      ],
      "text/plain": [
       "\u001b[31m╭─\u001b[0m\u001b[31m──────────────────────────────\u001b[0m\u001b[31m \u001b[0m\u001b[1;31mTraceback \u001b[0m\u001b[1;2;31m(most recent call last)\u001b[0m\u001b[31m \u001b[0m\u001b[31m───────────────────────────────\u001b[0m\u001b[31m─╮\u001b[0m\n",
       "\u001b[31m│\u001b[0m in \u001b[92m<module>\u001b[0m:\u001b[94m10\u001b[0m                                                                                   \u001b[31m│\u001b[0m\n",
       "\u001b[31m│\u001b[0m                                                                                                  \u001b[31m│\u001b[0m\n",
       "\u001b[31m│\u001b[0m   \u001b[2m 7 \u001b[0m\u001b[2m#sklearn\u001b[0m                                                                                    \u001b[31m│\u001b[0m\n",
       "\u001b[31m│\u001b[0m   \u001b[2m 8 \u001b[0m\u001b[94mfrom\u001b[0m \u001b[4;96msklearn\u001b[0m\u001b[4;96m.\u001b[0m\u001b[4;96mmodel_selection\u001b[0m \u001b[94mimport\u001b[0m KFold, cross_val_predict, cross_val_score, train_tes    \u001b[31m│\u001b[0m\n",
       "\u001b[31m│\u001b[0m   \u001b[2m 9 \u001b[0m\u001b[94mfrom\u001b[0m \u001b[4;96msklearn\u001b[0m\u001b[4;96m.\u001b[0m\u001b[4;96mmetrics\u001b[0m \u001b[94mimport\u001b[0m confusion_matrix, f1_score, accuracy_score, make_scorer, r2_    \u001b[31m│\u001b[0m\n",
       "\u001b[31m│\u001b[0m \u001b[31m❱ \u001b[0m10 \u001b[94mfrom\u001b[0m \u001b[4;96msklearn\u001b[0m\u001b[4;96m.\u001b[0m\u001b[4;96mlinear_model\u001b[0m \u001b[94mimport\u001b[0m LogisticRegression, LineaRegression                        \u001b[31m│\u001b[0m\n",
       "\u001b[31m│\u001b[0m   \u001b[2m11 \u001b[0m\u001b[94mfrom\u001b[0m \u001b[4;96msklearn\u001b[0m\u001b[4;96m.\u001b[0m\u001b[4;96mensemble\u001b[0m \u001b[94mimport\u001b[0m RandomForestClassifier                                         \u001b[31m│\u001b[0m\n",
       "\u001b[31m│\u001b[0m   \u001b[2m12 \u001b[0m\u001b[94mfrom\u001b[0m \u001b[4;96msklearn\u001b[0m\u001b[4;96m.\u001b[0m\u001b[4;96mpreprocessing\u001b[0m \u001b[94mimport\u001b[0m StandardScaler                                            \u001b[31m│\u001b[0m\n",
       "\u001b[31m│\u001b[0m   \u001b[2m13 \u001b[0m\u001b[94mfrom\u001b[0m \u001b[4;96msklearn\u001b[0m\u001b[4;96m.\u001b[0m\u001b[4;96mfeature_selection\u001b[0m \u001b[94mimport\u001b[0m SelectKBest, f_regression                             \u001b[31m│\u001b[0m\n",
       "\u001b[31m╰──────────────────────────────────────────────────────────────────────────────────────────────────╯\u001b[0m\n",
       "\u001b[1;91mImportError: \u001b[0mcannot import name \u001b[32m'LineaRegression'\u001b[0m from \u001b[32m'sklearn.linear_model'\u001b[0m \n",
       "\u001b[1m(\u001b[0m\u001b[35m/opt/conda/lib/python3.10/site-packages/sklearn/linear_model/\u001b[0m\u001b[95m__init__.py\u001b[0m\u001b[1m)\u001b[0m\n"
      ]
     },
     "metadata": {},
     "output_type": "display_data"
    }
   ],
   "source": [
    "# Import necessary libraries for machine learning processes\n",
    "\n",
    "# data processing\n",
    "import numpy as np\n",
    "import pandas as pd\n",
    "\n",
    "#sklearn\n",
    "from sklearn.model_selection import KFold, cross_val_predict, cross_val_score, train_test_split, cross_validate\n",
    "from sklearn.metrics import confusion_matrix, f1_score, accuracy_score, make_scorer, r2_score,  precision_score, recall_score, classification_report\n",
    "from sklearn.linear_model import LogisticRegression, LineaRegression\n",
    "from sklearn.ensemble import RandomForestClassifier\n",
    "from sklearn.preprocessing import StandardScaler\n",
    "from sklearn.feature_selection import SelectKBest, f_regression\n",
    "from sklearn.feature_selection import VarianceThreshold\n",
    "from sklearn.feature_selection import SelectKBest, f_classif\n",
    "from sklearn.base import clone\n",
    "\n",
    "#tensors\n",
    "import tensorflow as tf\n",
    "from tensorflow import keras\n",
    "\n",
    "#visualizations\n",
    "import matplotlib.pyplot as plt\n",
    "import seaborn as sns\n",
    "\n",
    "#statistics\n",
    "from scipy.stats import zscore\n",
    "import statsmodels.api as sm\n",
    "\n",
    "#other\n",
    "from copy import deepcopy\n",
    "\n",
    "# shap\n",
    "import shap"
   ]
  },
  {
   "cell_type": "code",
   "execution_count": null,
   "id": "02b7cfaa",
   "metadata": {
    "execution": {
     "iopub.execute_input": "2023-07-31T12:26:00.672651Z",
     "iopub.status.busy": "2023-07-31T12:26:00.672244Z",
     "iopub.status.idle": "2023-07-31T12:26:00.774585Z",
     "shell.execute_reply": "2023-07-31T12:26:00.773543Z",
     "shell.execute_reply.started": "2023-07-31T12:26:00.672619Z"
    },
    "papermill": {
     "duration": null,
     "end_time": null,
     "exception": null,
     "start_time": null,
     "status": "pending"
    },
    "tags": []
   },
   "outputs": [],
   "source": [
    "# Read the CSV files into pandas dfs\n",
    "sentiment_data = pd.read_csv('/kaggle/input/df-sentiment-features-final/df_sentiment_features_final.csv')\n",
    "emotion_data = pd.read_csv('/kaggle/input/df-emotion-features-final/df_emotions_features_final.csv')"
   ]
  },
  {
   "cell_type": "code",
   "execution_count": null,
   "id": "66a5f9a2",
   "metadata": {
    "execution": {
     "iopub.execute_input": "2023-07-31T12:26:02.623547Z",
     "iopub.status.busy": "2023-07-31T12:26:02.622779Z",
     "iopub.status.idle": "2023-07-31T12:26:02.628897Z",
     "shell.execute_reply": "2023-07-31T12:26:02.627888Z",
     "shell.execute_reply.started": "2023-07-31T12:26:02.623498Z"
    },
    "papermill": {
     "duration": null,
     "end_time": null,
     "exception": null,
     "start_time": null,
     "status": "pending"
    },
    "tags": []
   },
   "outputs": [],
   "source": [
    "# Print the column names of sentiment_data\n",
    "print(sentiment_data.columns)"
   ]
  },
  {
   "cell_type": "markdown",
   "id": "cfb1c61b",
   "metadata": {
    "papermill": {
     "duration": null,
     "end_time": null,
     "exception": null,
     "start_time": null,
     "status": "pending"
    },
    "tags": []
   },
   "source": [
    "### 4a. Data Standardization"
   ]
  },
  {
   "cell_type": "code",
   "execution_count": null,
   "id": "3e345992",
   "metadata": {
    "execution": {
     "iopub.execute_input": "2023-07-31T12:26:05.433815Z",
     "iopub.status.busy": "2023-07-31T12:26:05.433452Z",
     "iopub.status.idle": "2023-07-31T12:26:05.466644Z",
     "shell.execute_reply": "2023-07-31T12:26:05.465711Z",
     "shell.execute_reply.started": "2023-07-31T12:26:05.433787Z"
    },
    "papermill": {
     "duration": null,
     "end_time": null,
     "exception": null,
     "start_time": null,
     "status": "pending"
    },
    "tags": []
   },
   "outputs": [],
   "source": [
    "# Specify the columns to be standardized\n",
    "columns_to_standardize = ['LexDens', 'TTR', 'CTTR', 'GTTR', 'MTLD', 'VerbVar', 'NounVar',\n",
    "       'AdjVar', 'AdvVar', 'non_standard', 'profanity_words',\n",
    "       'Articles', 'Prepositions', 'Conjunctions', 'Pronouns',\n",
    "       'Auxiliary Verbs', 'Modal Verbs', 'Determiners', 'Number of Phrases',\n",
    "       'NP Ratio', 'AdvP Ratio', 'AdjP Ratio', 'PrpP Ratio', 'VP Ratio',\n",
    "       'Complex Nominals', 'Subordinate Clauses', 'Relative Clauses',\n",
    "       'Number of Characters', 'Number of Words', 'Tree Depth', 'paren_count',\n",
    "       'nsubj', 'dobj', 'amod', 'Contrast Markers', 'Emphatic Markers',\n",
    "       'Concessive Markers', 'Summary Markers', 'Negative Affixes',\n",
    "       'Present Verbs', 'Past Verbs', 'Future Verbs', 'Infinitive Verbs',\n",
    "       'has_passive_voice', 'negative_polarity', 'positive_polarity',\n",
    "       'avg_synsets', 'mean_concreteness', 'Named Entity Count']\n",
    "\n",
    "\n",
    "# Initialize the scaler\n",
    "scaler = StandardScaler()\n",
    "\n",
    "# Standardize the columns in sentiment_data and emotion_data\n",
    "sentiment_data[columns_to_standardize] = scaler.fit_transform(sentiment_data[columns_to_standardize])\n",
    "emotion_data[columns_to_standardize] = scaler.transform(emotion_data[columns_to_standardize])"
   ]
  },
  {
   "cell_type": "markdown",
   "id": "f3bc2465",
   "metadata": {
    "papermill": {
     "duration": null,
     "end_time": null,
     "exception": null,
     "start_time": null,
     "status": "pending"
    },
    "tags": []
   },
   "source": [
    "### 4b. Removing Outliers"
   ]
  },
  {
   "cell_type": "code",
   "execution_count": null,
   "id": "fd3b70ee",
   "metadata": {
    "execution": {
     "iopub.execute_input": "2023-07-31T12:26:08.118761Z",
     "iopub.status.busy": "2023-07-31T12:26:08.118350Z",
     "iopub.status.idle": "2023-07-31T12:26:08.133476Z",
     "shell.execute_reply": "2023-07-31T12:26:08.132259Z",
     "shell.execute_reply.started": "2023-07-31T12:26:08.118728Z"
    },
    "papermill": {
     "duration": null,
     "end_time": null,
     "exception": null,
     "start_time": null,
     "status": "pending"
    },
    "tags": []
   },
   "outputs": [],
   "source": [
    "# Remove outliers from sentiment_data using z-score method\n",
    "z_scores_sent = np.abs(zscore(sentiment_data[columns_to_standardize]))\n",
    "outlier_threshold = 3  # set the standard outlier_threshold\n",
    "outlier_mask_sent = (z_scores_sent > outlier_threshold).any(axis=1) # identify rows with at least one z-score greater than the specified outlier_threshold\n",
    "sentiment_data_no_outliers = sentiment_data[~outlier_mask_sent] #filter out the rows that are not outliers based on the calculated mask"
   ]
  },
  {
   "cell_type": "code",
   "execution_count": null,
   "id": "b751d7d4",
   "metadata": {
    "execution": {
     "iopub.execute_input": "2023-07-31T12:26:09.944594Z",
     "iopub.status.busy": "2023-07-31T12:26:09.944212Z",
     "iopub.status.idle": "2023-07-31T12:26:09.958503Z",
     "shell.execute_reply": "2023-07-31T12:26:09.957446Z",
     "shell.execute_reply.started": "2023-07-31T12:26:09.944563Z"
    },
    "papermill": {
     "duration": null,
     "end_time": null,
     "exception": null,
     "start_time": null,
     "status": "pending"
    },
    "tags": []
   },
   "outputs": [],
   "source": [
    "# Remove outliers from emotion_data using z-score method\n",
    "z_scores_em = np.abs(zscore(emotion_data[columns_to_standardize]))\n",
    "outlier_mask_em = (z_scores_em > outlier_threshold).any(axis=1)  # identify rows with at least one z-score greater than the specified outlier_threshold\n",
    "emotion_data_no_outliers = emotion_data[~outlier_mask_em]  #filter out the rows that are not outliers based on the calculated mask"
   ]
  },
  {
   "cell_type": "markdown",
   "id": "79825669",
   "metadata": {
    "papermill": {
     "duration": null,
     "end_time": null,
     "exception": null,
     "start_time": null,
     "status": "pending"
    },
    "tags": []
   },
   "source": [
    "### 4c. Drop Missing Values"
   ]
  },
  {
   "cell_type": "code",
   "execution_count": null,
   "id": "dc697f4e",
   "metadata": {
    "execution": {
     "iopub.execute_input": "2023-07-31T12:26:12.243288Z",
     "iopub.status.busy": "2023-07-31T12:26:12.242827Z",
     "iopub.status.idle": "2023-07-31T12:26:12.257223Z",
     "shell.execute_reply": "2023-07-31T12:26:12.256241Z",
     "shell.execute_reply.started": "2023-07-31T12:26:12.243254Z"
    },
    "papermill": {
     "duration": null,
     "end_time": null,
     "exception": null,
     "start_time": null,
     "status": "pending"
    },
    "tags": []
   },
   "outputs": [],
   "source": [
    "# Drop NA values\n",
    "data = sentiment_data_no_outliers .dropna()\n",
    "data_em = emotion_data.dropna()"
   ]
  },
  {
   "cell_type": "code",
   "execution_count": null,
   "id": "4404ac60",
   "metadata": {
    "execution": {
     "iopub.execute_input": "2023-07-31T12:26:14.061999Z",
     "iopub.status.busy": "2023-07-31T12:26:14.061562Z",
     "iopub.status.idle": "2023-07-31T12:26:14.076803Z",
     "shell.execute_reply": "2023-07-31T12:26:14.075687Z",
     "shell.execute_reply.started": "2023-07-31T12:26:14.061960Z"
    },
    "papermill": {
     "duration": null,
     "end_time": null,
     "exception": null,
     "start_time": null,
     "status": "pending"
    },
    "tags": []
   },
   "outputs": [],
   "source": [
    "# Inspect label distribution for data_sentiment\n",
    "label_distribution_data = data['Misprediction'].value_counts()\n",
    "print(label_distribution_data)"
   ]
  },
  {
   "cell_type": "code",
   "execution_count": null,
   "id": "62ccf0ff",
   "metadata": {
    "execution": {
     "iopub.execute_input": "2023-07-31T12:26:15.870840Z",
     "iopub.status.busy": "2023-07-31T12:26:15.870490Z",
     "iopub.status.idle": "2023-07-31T12:26:15.877898Z",
     "shell.execute_reply": "2023-07-31T12:26:15.876485Z",
     "shell.execute_reply.started": "2023-07-31T12:26:15.870812Z"
    },
    "papermill": {
     "duration": null,
     "end_time": null,
     "exception": null,
     "start_time": null,
     "status": "pending"
    },
    "tags": []
   },
   "outputs": [],
   "source": [
    "# Inspect label distribution for data_em\n",
    "label_distribution_data_em = data_em['Misprediction'].value_counts()\n",
    "print(label_distribution_data_em)"
   ]
  },
  {
   "cell_type": "markdown",
   "id": "250948b6",
   "metadata": {
    "papermill": {
     "duration": null,
     "end_time": null,
     "exception": null,
     "start_time": null,
     "status": "pending"
    },
    "tags": []
   },
   "source": [
    "# PART 5: \n",
    "## TEXT CLASSIFICATION\n",
    "### 5.1a Logistic Regression & Random Forest (Sentiment Analysis)"
   ]
  },
  {
   "cell_type": "code",
   "execution_count": null,
   "id": "76c17098",
   "metadata": {
    "execution": {
     "iopub.execute_input": "2023-07-31T12:26:20.710125Z",
     "iopub.status.busy": "2023-07-31T12:26:20.709721Z",
     "iopub.status.idle": "2023-07-31T12:26:24.983683Z",
     "shell.execute_reply": "2023-07-31T12:26:24.982442Z",
     "shell.execute_reply.started": "2023-07-31T12:26:20.710093Z"
    },
    "papermill": {
     "duration": null,
     "end_time": null,
     "exception": null,
     "start_time": null,
     "status": "pending"
    },
    "tags": []
   },
   "outputs": [],
   "source": [
    "# Split the data into features (X) and target (y)\n",
    "X_all = data[['LexDens', 'TTR', 'CTTR', 'GTTR', 'MTLD', 'VerbVar', 'NounVar',\n",
    "       'AdjVar', 'AdvVar', 'non_standard', 'profanity_words',\n",
    "       'Articles', 'Prepositions', 'Conjunctions', 'Pronouns',\n",
    "       'Auxiliary Verbs', 'Modal Verbs', 'Determiners', 'Number of Phrases',\n",
    "       'NP Ratio', 'AdvP Ratio', 'AdjP Ratio', 'PrpP Ratio', 'VP Ratio',\n",
    "       'Complex Nominals', 'Subordinate Clauses', 'Relative Clauses',\n",
    "       'Number of Characters', 'Number of Words', 'Tree Depth', 'paren_count',\n",
    "       'nsubj', 'dobj', 'amod', 'Contrast Markers', 'Emphatic Markers',\n",
    "       'Concessive Markers', 'Summary Markers', 'Negative Affixes',\n",
    "       'Present Verbs', 'Past Verbs', 'Future Verbs', 'Infinitive Verbs',\n",
    "       'has_passive_voice', 'negative_polarity', 'positive_polarity',\n",
    "        'avg_synsets', 'mean_concreteness', 'Named Entity Count']]\n",
    "y_all = data['Misprediction']\n",
    "\n",
    "# Split the data into training and testing sets\n",
    "X_all_train, X_all_test, y_all_train, y_all_test = train_test_split(X_all, y_all, test_size=0.2, random_state=42)\n",
    "\n",
    "# Initialize Classifiers\n",
    "model_complex_log = LogisticRegression(max_iter=10000) # Create a logistic regression classifier\n",
    "model_complex_rf = RandomForestClassifier() # Create a Random Forest classifier\n",
    "\n",
    "# Fit the models to the training data\n",
    "model_complex_log.fit(X_all_train, y_all_train) # Logistic regression\n",
    "model_complex_rf.fit(X_all_train, y_all_train) # Random Forest\n",
    "\n",
    "# Set up k-fold cross-validation for logistic regression\n",
    "k = 10  # Number of folds\n",
    "scoring = {'accuracy': make_scorer(accuracy_score), 'f1': make_scorer(f1_score),\n",
    "           'precision': make_scorer(precision_score), 'recall': make_scorer(recall_score)}\n",
    "cv_results_log = cross_validate(model_complex_log, X_all_train, y_all_train, cv=k, scoring=scoring)\n",
    "\n",
    "# Set up k-fold cross-validation for random forest\n",
    "cv_results_rf = cross_validate(model_complex_rf, X_all_train, y_all_train, cv=k, scoring=scoring)\n",
    "\n",
    "# Extract the accuracy, F1, precision, and recall scores from the cross-validation results for logistic regression\n",
    "cv_accuracy_scores_log = cv_results_log['test_accuracy']\n",
    "cv_f1_scores_log = cv_results_log['test_f1']\n",
    "cv_precision_scores_log = cv_results_log['test_precision']\n",
    "cv_recall_scores_log = cv_results_log['test_recall']\n",
    "\n",
    "# Extract the accuracy, F1, precision, and recall scores from the cross-validation results for random forest\n",
    "cv_accuracy_scores_rf = cv_results_rf['test_accuracy']\n",
    "cv_f1_scores_rf = cv_results_rf['test_f1']\n",
    "cv_precision_scores_rf = cv_results_rf['test_precision']\n",
    "cv_recall_scores_rf = cv_results_rf['test_recall']\n",
    "\n",
    "# Create a DataFrame to store the results\n",
    "baseline_results_df = pd.DataFrame({\n",
    "    'Classifier': ['Logistic Regression', 'Random Forest'],\n",
    "    'Accuracy': [np.mean(cv_accuracy_scores_log), np.mean(cv_accuracy_scores_rf)],\n",
    "    'F1 Score': [np.mean(cv_f1_scores_log), np.mean(cv_f1_scores_rf)],\n",
    "    'Precision': [np.mean(cv_precision_scores_log), np.mean(cv_precision_scores_rf)],\n",
    "    'Recall': [np.mean(cv_recall_scores_log), np.mean(cv_recall_scores_rf)]\n",
    "})\n",
    "\n",
    "baseline_results_df"
   ]
  },
  {
   "cell_type": "markdown",
   "id": "ddb63e06",
   "metadata": {
    "papermill": {
     "duration": null,
     "end_time": null,
     "exception": null,
     "start_time": null,
     "status": "pending"
    },
    "tags": []
   },
   "source": [
    "### 5.1b Logistic Regression & Random Forest (Emotion Analysis)"
   ]
  },
  {
   "cell_type": "code",
   "execution_count": null,
   "id": "0aa1837e",
   "metadata": {
    "execution": {
     "iopub.execute_input": "2023-07-31T12:26:29.128049Z",
     "iopub.status.busy": "2023-07-31T12:26:29.127605Z",
     "iopub.status.idle": "2023-07-31T12:26:34.993501Z",
     "shell.execute_reply": "2023-07-31T12:26:34.992297Z",
     "shell.execute_reply.started": "2023-07-31T12:26:29.128011Z"
    },
    "papermill": {
     "duration": null,
     "end_time": null,
     "exception": null,
     "start_time": null,
     "status": "pending"
    },
    "tags": []
   },
   "outputs": [],
   "source": [
    "# Split the data into features (X) and target (y)\n",
    "X_all_em = data_em[['LexDens', 'TTR', 'CTTR', 'GTTR', 'MTLD', 'VerbVar', 'NounVar',\n",
    "       'AdjVar', 'AdvVar', 'non_standard', 'profanity_words',\n",
    "       'Articles', 'Prepositions', 'Conjunctions', 'Pronouns',\n",
    "       'Auxiliary Verbs', 'Modal Verbs', 'Determiners', 'Number of Phrases',\n",
    "       'NP Ratio', 'AdvP Ratio', 'AdjP Ratio', 'PrpP Ratio', 'VP Ratio',\n",
    "       'Complex Nominals', 'Subordinate Clauses', 'Relative Clauses',\n",
    "       'Number of Characters', 'Number of Words', 'Tree Depth', 'paren_count',\n",
    "        'Contrast Markers', 'Emphatic Markers', 'nsubj', 'dobj', 'amod',\n",
    "       'Concessive Markers', 'Summary Markers', 'Negative Affixes',\n",
    "       'Present Verbs', 'Past Verbs', 'Future Verbs', 'Infinitive Verbs',\n",
    "       'has_passive_voice', 'negative_polarity', 'positive_polarity',\n",
    "       'avg_synsets', 'mean_concreteness', 'Named Entity Count']]\n",
    "y_all_em = data_em['Misprediction']\n",
    "\n",
    "# Split the data into training and testing sets\n",
    "X_all_train_em, X_all_test_em, y_all_train_em, y_all_test_em = train_test_split(X_all_em, y_all_em, test_size=0.2, random_state=42)\n",
    "\n",
    "# Initialize Classifiers\n",
    "model_complex_log_em = LogisticRegression(max_iter=10000) # Create a logistic regression classifier\n",
    "model_complex_rf_em = RandomForestClassifier() # Create a Random Forest classifier\n",
    "\n",
    "# Fit the models to the training data\n",
    "model_complex_log_em.fit(X_all_train_em, y_all_train_em) # Logistic regression\n",
    "model_complex_rf_em.fit(X_all_train_em, y_all_train_em) # Random Forest\n",
    "\n",
    "# Set up k-fold cross-validation for logistic regression\n",
    "k = 10  # Number of folds\n",
    "scoring = {'accuracy': make_scorer(accuracy_score), 'f1': make_scorer(f1_score),\n",
    "           'precision': make_scorer(precision_score), 'recall': make_scorer(recall_score)}\n",
    "cv_results_log_em = cross_validate(model_complex_log_em, X_all_train_em, y_all_train_em, cv=k, scoring=scoring)\n",
    "\n",
    "# Set up k-fold cross-validation for random forest\n",
    "cv_results_rf_em = cross_validate(model_complex_rf_em, X_all_train_em, y_all_train_em, cv=k, scoring=scoring)\n",
    "\n",
    "# Extract evaluation metrics for Logistic Regression\n",
    "cv_accuracy_scores_log_em = cv_results_log_em['test_accuracy']\n",
    "cv_f1_scores_log_em = cv_results_log_em['test_f1']\n",
    "cv_precision_scores_log_em = cv_results_log_em['test_precision']\n",
    "cv_recall_scores_log_em = cv_results_log_em['test_recall']\n",
    "\n",
    "# Extract evaluation metrics for Random Forest\n",
    "cv_accuracy_scores_rf_em = cv_results_rf_em['test_accuracy']\n",
    "cv_f1_scores_rf_em = cv_results_rf_em['test_f1']\n",
    "cv_precision_scores_rf_em = cv_results_rf_em['test_precision']\n",
    "cv_recall_scores_rf_em = cv_results_rf_em['test_recall']\n",
    "\n",
    "# Store the results in a new dataframe\n",
    "baseline_results_df_em = pd.DataFrame({\n",
    "    'Classifier': ['Logistic Regression', 'Random Forest'],\n",
    "    'Accuracy': [np.mean(cv_accuracy_scores_log_em), np.mean(cv_accuracy_scores_rf_em)],\n",
    "    'F1 Score': [np.mean(cv_f1_scores_log_em), np.mean(cv_f1_scores_rf_em)],\n",
    "    'Precision': [np.mean(cv_precision_scores_log_em), np.mean(cv_precision_scores_rf_em)],\n",
    "    'Recall': [np.mean(cv_recall_scores_log_em), np.mean(cv_recall_scores_rf_em)]\n",
    "})\n",
    "\n",
    "baseline_results_df_em"
   ]
  },
  {
   "cell_type": "markdown",
   "id": "d393b956",
   "metadata": {
    "papermill": {
     "duration": null,
     "end_time": null,
     "exception": null,
     "start_time": null,
     "status": "pending"
    },
    "tags": []
   },
   "source": [
    "### 5.2a MLP Neural Network (Sentiment Analysis)"
   ]
  },
  {
   "cell_type": "code",
   "execution_count": null,
   "id": "c6aeb579",
   "metadata": {
    "execution": {
     "iopub.execute_input": "2023-07-31T12:26:37.535973Z",
     "iopub.status.busy": "2023-07-31T12:26:37.535272Z",
     "iopub.status.idle": "2023-07-31T12:26:46.312120Z",
     "shell.execute_reply": "2023-07-31T12:26:46.311190Z",
     "shell.execute_reply.started": "2023-07-31T12:26:37.535937Z"
    },
    "papermill": {
     "duration": null,
     "end_time": null,
     "exception": null,
     "start_time": null,
     "status": "pending"
    },
    "tags": []
   },
   "outputs": [],
   "source": [
    "# Define the neural network architecture\n",
    "model_complex = keras.Sequential([\n",
    "    keras.layers.Dense(256, activation='relu', input_shape=(len(X_all.columns),)),\n",
    "    keras.layers.Dense(128, activation='relu'),\n",
    "    keras.layers.Dense(2, activation='softmax')\n",
    "])\n",
    "\n",
    "# Compile the model\n",
    "model_complex.compile(optimizer='adam', loss='sparse_categorical_crossentropy', metrics=['accuracy'])\n",
    "\n",
    "# Train the model with early stopping\n",
    "early_stopping = tf.keras.callbacks.EarlyStopping(monitor='val_loss', patience=3, restore_best_weights=True)\n",
    "model_complex.fit(X_all_train, y_all_train, epochs=20, batch_size=32, validation_split=0.2, callbacks=[early_stopping])\n",
    "\n",
    "# Evaluate the model on the test set\n",
    "test_loss, test_accuracy = model_complex.evaluate(X_all_test, y_all_test)\n",
    "print(f'Test Loss: {test_loss}, Test Accuracy: {test_accuracy}')"
   ]
  },
  {
   "cell_type": "code",
   "execution_count": null,
   "id": "04b3d4f4",
   "metadata": {
    "execution": {
     "iopub.execute_input": "2023-07-31T12:26:49.215284Z",
     "iopub.status.busy": "2023-07-31T12:26:49.214935Z",
     "iopub.status.idle": "2023-07-31T12:26:49.393465Z",
     "shell.execute_reply": "2023-07-31T12:26:49.392427Z",
     "shell.execute_reply.started": "2023-07-31T12:26:49.215255Z"
    },
    "papermill": {
     "duration": null,
     "end_time": null,
     "exception": null,
     "start_time": null,
     "status": "pending"
    },
    "tags": []
   },
   "outputs": [],
   "source": [
    "# Calculate the evaluation metrics for the neural network - sentiment analysis\n",
    "y_pred_nn_prob = model_complex.predict(X_all_test)\n",
    "y_pred_nn = np.argmax(y_pred_nn_prob, axis=1)\n",
    "f1_score_nn = f1_score(y_all_test, y_pred_nn)\n",
    "precision_nn = precision_score(y_all_test, y_pred_nn)\n",
    "recall_nn = recall_score(y_all_test, y_pred_nn)"
   ]
  },
  {
   "cell_type": "markdown",
   "id": "92199ae3",
   "metadata": {
    "papermill": {
     "duration": null,
     "end_time": null,
     "exception": null,
     "start_time": null,
     "status": "pending"
    },
    "tags": []
   },
   "source": [
    "### 5.2b MLP Neural Network (Emotion Analysis)"
   ]
  },
  {
   "cell_type": "code",
   "execution_count": null,
   "id": "ba9590b4",
   "metadata": {
    "execution": {
     "iopub.execute_input": "2023-07-31T12:26:52.588851Z",
     "iopub.status.busy": "2023-07-31T12:26:52.588494Z",
     "iopub.status.idle": "2023-07-31T12:26:54.688739Z",
     "shell.execute_reply": "2023-07-31T12:26:54.687315Z",
     "shell.execute_reply.started": "2023-07-31T12:26:52.588821Z"
    },
    "papermill": {
     "duration": null,
     "end_time": null,
     "exception": null,
     "start_time": null,
     "status": "pending"
    },
    "tags": []
   },
   "outputs": [],
   "source": [
    "# Define the neural network architecture\n",
    "model_complex_em = keras.Sequential([\n",
    "    keras.layers.Dense(256, activation='relu', input_shape=(len(X_all_em.columns),)),\n",
    "    keras.layers.Dense(128, activation='relu'),\n",
    "    keras.layers.Dense(2, activation='softmax')\n",
    "])\n",
    "\n",
    "# Compile the model\n",
    "model_complex_em.compile(optimizer='adam', loss='sparse_categorical_crossentropy', metrics=['accuracy'])\n",
    "\n",
    "# Train the model with early stopping\n",
    "early_stopping = tf.keras.callbacks.EarlyStopping(monitor='val_loss', patience=3, restore_best_weights=True)\n",
    "model_complex_em.fit(X_all_train_em, y_all_train_em, epochs=20, batch_size=32, validation_split=0.2, callbacks=[early_stopping])\n",
    "\n",
    "# Evaluate the model on the test set\n",
    "test_loss, test_accuracy = model_complex_em.evaluate(X_all_test_em, y_all_test_em)\n",
    "print(f'Test Loss: {test_loss}, Test Accuracy: {test_accuracy}')"
   ]
  },
  {
   "cell_type": "code",
   "execution_count": null,
   "id": "8aabbba7",
   "metadata": {
    "execution": {
     "iopub.execute_input": "2023-07-31T12:26:57.302695Z",
     "iopub.status.busy": "2023-07-31T12:26:57.302299Z",
     "iopub.status.idle": "2023-07-31T12:26:57.473067Z",
     "shell.execute_reply": "2023-07-31T12:26:57.472180Z",
     "shell.execute_reply.started": "2023-07-31T12:26:57.302662Z"
    },
    "papermill": {
     "duration": null,
     "end_time": null,
     "exception": null,
     "start_time": null,
     "status": "pending"
    },
    "tags": []
   },
   "outputs": [],
   "source": [
    "# Calculate the evaluation metrics for the neural network - emotion analysis\n",
    "y_pred_nn_prob_em = model_complex_em.predict(X_all_test_em)\n",
    "y_pred_nn_em = np.argmax(y_pred_nn_prob_em, axis=1)\n",
    "f1_score_nn_em = f1_score(y_all_test_em, y_pred_nn_em)\n",
    "precision_nn_em = precision_score(y_all_test_em, y_pred_nn_em)\n",
    "recall_nn_em = recall_score(y_all_test_em, y_pred_nn_em)"
   ]
  },
  {
   "cell_type": "markdown",
   "id": "cb114abe",
   "metadata": {
    "papermill": {
     "duration": null,
     "end_time": null,
     "exception": null,
     "start_time": null,
     "status": "pending"
    },
    "tags": []
   },
   "source": [
    "### 5.3 Visualization of Evaluation Metrics"
   ]
  },
  {
   "cell_type": "code",
   "execution_count": null,
   "id": "d48c2e3e",
   "metadata": {
    "execution": {
     "iopub.execute_input": "2023-07-31T12:26:59.845881Z",
     "iopub.status.busy": "2023-07-31T12:26:59.845521Z",
     "iopub.status.idle": "2023-07-31T12:27:00.429386Z",
     "shell.execute_reply": "2023-07-31T12:27:00.428517Z",
     "shell.execute_reply.started": "2023-07-31T12:26:59.845850Z"
    },
    "papermill": {
     "duration": null,
     "end_time": null,
     "exception": null,
     "start_time": null,
     "status": "pending"
    },
    "tags": []
   },
   "outputs": [],
   "source": [
    "# Create function to visualize the evaluation metrics in a bar plot\n",
    "def plot_classification_results(quantities, model_scores, model_names, title):\n",
    "    # Set the width of the bars\n",
    "    bar_width = 0.25-*//\n",
    "    # Set the positions of the bars on the x-axis\n",
    "    index = np.arange(len(quantities))\n",
    "\n",
    "    # Create the bar plot\n",
    "    for i, scores in enumerate(model_scores):\n",
    "        plt.bar(index + i * bar_width, scores, bar_width, label=model_names[i], linewidth=0.20)\n",
    "\n",
    "    # Add labels and title\n",
    "    plt.xlabel('Evaluation Parameters')\n",
    "    plt.ylabel('Score')\n",
    "    plt.title(title)\n",
    "    plt.xticks(index + bar_width * (len(model_scores) - 1) / 2, quantities)\n",
    "    plt.legend()\n",
    "\n",
    "    # Show the plot\n",
    "    plt.show()\n",
    "\n",
    "# Sentiment Analysis Results\n",
    "quantities_sentiment = ['F1 Score', 'Precision', 'Recall']\n",
    "logistic_regression_scores_sentiment = [np.mean(cv_f1_scores_log), np.mean(cv_precision_scores_log), np.mean(cv_recall_scores_log)]\n",
    "random_forest_scores_sentiment = [np.mean(cv_f1_scores_rf), np.mean(cv_precision_scores_rf), np.mean(cv_recall_scores_rf)]\n",
    "neural_network_scores_sentiment = [f1_score_nn, precision_nn, recall_nn]\n",
    "\n",
    "model_scores_sentiment = [logistic_regression_scores_sentiment, random_forest_scores_sentiment, neural_network_scores_sentiment]\n",
    "model_names_sentiment = ['Logistic Regression', 'Random Forest', 'Neural Network']\n",
    "\n",
    "# Emotion Analysis Results\n",
    "quantities_emotion = ['F1 Score', 'Precision', 'Recall']\n",
    "logistic_regression_scores_emotion = [np.mean(cv_f1_scores_log_em), np.mean(cv_precision_scores_log_em), np.mean(cv_recall_scores_log_em)]\n",
    "random_forest_scores_emotion = [np.mean(cv_f1_scores_rf_em), np.mean(cv_precision_scores_rf_em), np.mean(cv_recall_scores_rf_em)]\n",
    "neural_network_scores_emotion = [f1_score_nn_em, precision_nn_em, recall_nn_em]\n",
    "\n",
    "model_scores_emotion = [logistic_regression_scores_emotion, random_forest_scores_emotion, neural_network_scores_emotion]\n",
    "model_names_emotion = ['Logistic Regression', 'Random Forest', 'Neural Network']\n",
    "\n",
    "# Create the bar plot for Sentiment Analysis Results\n",
    "plot_classification_results(quantities_sentiment, model_scores_sentiment, model_names_sentiment, 'Classification Results for Model with all Features (Sentiment Analysis)')\n",
    "\n",
    "# Create the bar plot for Emotion Analysis Results\n",
    "plot_classification_results(quantities_emotion, model_scores_emotion, model_names_emotion, 'Classification Results for Model with all Features (Emotion Analysis)')"
   ]
  },
  {
   "cell_type": "markdown",
   "id": "f9bcb6ee",
   "metadata": {
    "papermill": {
     "duration": null,
     "end_time": null,
     "exception": null,
     "start_time": null,
     "status": "pending"
    },
    "tags": []
   },
   "source": [
    "# PART 6: \n",
    "## FEATURE SELECTION TECHNIQUES\n",
    "###  A. Variance Threshold\n",
    "#### A1.1) Logistic Regression and Random Forest (Sentiment Analysis)"
   ]
  },
  {
   "cell_type": "code",
   "execution_count": null,
   "id": "312e42b9",
   "metadata": {
    "execution": {
     "iopub.execute_input": "2023-07-31T12:27:04.667827Z",
     "iopub.status.busy": "2023-07-31T12:27:04.666856Z",
     "iopub.status.idle": "2023-07-31T12:27:08.946506Z",
     "shell.execute_reply": "2023-07-31T12:27:08.945484Z",
     "shell.execute_reply.started": "2023-07-31T12:27:04.667785Z"
    },
    "papermill": {
     "duration": null,
     "end_time": null,
     "exception": null,
     "start_time": null,
     "status": "pending"
    },
    "tags": []
   },
   "outputs": [],
   "source": [
    "# Apply variance threshold to select features\n",
    "var_threshold = VarianceThreshold(threshold=0.2)\n",
    "X_all_selected = var_threshold.fit_transform(X_all)\n",
    "\n",
    "# Get the selected features\n",
    "selected_features = np.array(X_all.columns)[var_threshold.get_support()]\n",
    "\n",
    "# Split the data into training and testing sets\n",
    "X_all_train, X_all_test, y_all_train, y_all_test = train_test_split(X_all_selected, y_all, test_size=0.2, random_state=42)\n",
    "\n",
    "# Rest of the code remains unchanged\n",
    "\n",
    "# Initialize Classifiers\n",
    "model_var_log = LogisticRegression(max_iter=10000)\n",
    "model_var_rf = RandomForestClassifier()\n",
    "\n",
    "# Fit the models to the training data\n",
    "model_var_log.fit(X_all_train, y_all_train)\n",
    "model_var_rf.fit(X_all_train, y_all_train)\n",
    "\n",
    "# Set up k-fold cross-validation for logistic regression\n",
    "k = 10  # Number of folds\n",
    "scoring = {'accuracy': make_scorer(accuracy_score), 'f1': make_scorer(f1_score),\n",
    "           'precision': make_scorer(precision_score), 'recall': make_scorer(recall_score)}\n",
    "cv_results_var = cross_validate(model_var_log, X_all_train, y_all_train, cv=k, scoring=scoring)\n",
    "\n",
    "# Set up k-fold cross-validation for random forest\n",
    "cv_results_rf_var = cross_validate(model_var_rf, X_all_train, y_all_train, cv=k, scoring=scoring)\n",
    "\n",
    "# Extract the evaluation metrics for logistic regression\n",
    "cv_accuracy_scores_log_var = cv_results_var['test_accuracy']\n",
    "cv_f1_scores_log_var = cv_results_var['test_f1']\n",
    "cv_precision_scores_log_var = cv_results_var['test_precision']\n",
    "cv_recall_scores_log_var = cv_results_var['test_recall']\n",
    "\n",
    "# Extract the evaluation metrics for random forest\n",
    "cv_accuracy_scores_rf_var = cv_results_rf_var['test_accuracy']\n",
    "cv_f1_scores_rf_var = cv_results_rf_var['test_f1']\n",
    "cv_precision_scores_rf_var = cv_results_rf_var['test_precision']\n",
    "cv_recall_scores_rf_var = cv_results_rf_var['test_recall']\n",
    "\n",
    "# Store the results in a new dataset\n",
    "var_results_df = pd.DataFrame({\n",
    "    'Classifier': ['Logistic Regression', 'Random Forest'],\n",
    "    'Accuracy': [np.mean(cv_accuracy_scores_log_var), np.mean(cv_accuracy_scores_rf_var)],\n",
    "    'F1 Score': [np.mean(cv_f1_scores_log_var), np.mean(cv_f1_scores_rf_var)],\n",
    "    'Precision': [np.mean(cv_precision_scores_log_var), np.mean(cv_precision_scores_rf_var)],\n",
    "    'Recall': [np.mean(cv_recall_scores_log_var), np.mean(cv_recall_scores_rf_var)]\n",
    "})\n",
    "\n",
    "# Print the selected features\n",
    "print(\"Selected Features:\")\n",
    "print(selected_features)\n",
    "\n",
    "# Display the results \n",
    "var_results_df"
   ]
  },
  {
   "cell_type": "markdown",
   "id": "ceb0de2e",
   "metadata": {
    "papermill": {
     "duration": null,
     "end_time": null,
     "exception": null,
     "start_time": null,
     "status": "pending"
    },
    "tags": []
   },
   "source": [
    "#### A1.2) Logistic Regression and Random Forest (Emotion Analysis)"
   ]
  },
  {
   "cell_type": "code",
   "execution_count": null,
   "id": "62cb43dc",
   "metadata": {
    "execution": {
     "iopub.execute_input": "2023-07-31T12:27:11.537249Z",
     "iopub.status.busy": "2023-07-31T12:27:11.536895Z",
     "iopub.status.idle": "2023-07-31T12:27:15.918539Z",
     "shell.execute_reply": "2023-07-31T12:27:15.916360Z",
     "shell.execute_reply.started": "2023-07-31T12:27:11.537219Z"
    },
    "papermill": {
     "duration": null,
     "end_time": null,
     "exception": null,
     "start_time": null,
     "status": "pending"
    },
    "tags": []
   },
   "outputs": [],
   "source": [
    "# Apply variance threshold to select features\n",
    "var_threshold_em = VarianceThreshold(threshold=0.01)\n",
    "X_all_selected_em = var_threshold_em.fit_transform(X_all_em)\n",
    "\n",
    "# Get the selected features\n",
    "selected_features_em = np.array(X_all_em.columns)[var_threshold_em.get_support()]\n",
    "\n",
    "# Split the data into training and testing sets\n",
    "X_all_train_em, X_all_test_em, y_all_train_em, y_all_test_em = train_test_split(X_all_selected_em, y_all_em, test_size=0.2, random_state=42)\n",
    "\n",
    "# Rest of the code remains unchanged\n",
    "\n",
    "# Initialize Classifiers\n",
    "model_var_log_em = LogisticRegression(max_iter=10000)\n",
    "model_var_rf_em = RandomForestClassifier()\n",
    "\n",
    "# Fit the models to the training data\n",
    "model_var_log_em.fit(X_all_train_em, y_all_train_em)\n",
    "model_var_rf_em.fit(X_all_train_em, y_all_train_em)\n",
    "\n",
    "# Set up k-fold cross-validation for logistic regression\n",
    "k_em = 10  # Number of folds\n",
    "scoring_em = {'accuracy': make_scorer(accuracy_score), 'f1': make_scorer(f1_score),\n",
    "           'precision': make_scorer(precision_score), 'recall': make_scorer(recall_score)}\n",
    "cv_results_var_em = cross_validate(model_var_log_em, X_all_train_em, y_all_train_em, cv=k_em, scoring=scoring_em)\n",
    "\n",
    "# Set up k-fold cross-validation for random forest\n",
    "cv_results_rf_var_em = cross_validate(model_var_rf_em, X_all_train_em, y_all_train_em, cv=k_em, scoring=scoring_em)\n",
    "\n",
    "# Extract the evaluation metrics for logistic regression\n",
    "cv_accuracy_scores_log_var_em = cv_results_var_em['test_accuracy']\n",
    "cv_f1_scores_log_var_em = cv_results_var_em['test_f1']\n",
    "cv_precision_scores_log_var_em = cv_results_var_em['test_precision']\n",
    "cv_recall_scores_log_var_em = cv_results_var_em['test_recall']\n",
    "\n",
    "# Extract the evaluation metrics for random forest\n",
    "cv_accuracy_scores_rf_var_em = cv_results_rf_var_em['test_accuracy']\n",
    "cv_f1_scores_rf_var_em = cv_results_rf_var_em['test_f1']\n",
    "cv_precision_scores_rf_var_em = cv_results_rf_var_em['test_precision']\n",
    "cv_recall_scores_rf_var_em = cv_results_rf_var_em['test_recall']\n",
    "\n",
    "# Store the results in a new dataset\n",
    "var_results_df_em = pd.DataFrame({\n",
    "    'Classifier': ['Logistic Regression', 'Random Forest'],\n",
    "    'Accuracy': [np.mean(cv_accuracy_scores_log_var_em), np.mean(cv_accuracy_scores_rf_var_em)],\n",
    "    'F1 Score': [np.mean(cv_f1_scores_log_var_em), np.mean(cv_f1_scores_rf_var_em)],\n",
    "    'Precision': [np.mean(cv_precision_scores_log_var_em), np.mean(cv_precision_scores_rf_var_em)],\n",
    "    'Recall': [np.mean(cv_recall_scores_log_var_em), np.mean(cv_recall_scores_rf_var_em)]\n",
    "})\n",
    "\n",
    "# Print the selected features\n",
    "print(\"Selected Features:\")\n",
    "print(selected_features_em)\n",
    "\n",
    "# Display the results \n",
    "var_results_df_em"
   ]
  },
  {
   "cell_type": "markdown",
   "id": "55375117",
   "metadata": {
    "papermill": {
     "duration": null,
     "end_time": null,
     "exception": null,
     "start_time": null,
     "status": "pending"
    },
    "tags": []
   },
   "source": [
    "#### A2.1) MLP Neural Network (Sentiment Analysis)"
   ]
  },
  {
   "cell_type": "code",
   "execution_count": null,
   "id": "da3097fb",
   "metadata": {
    "execution": {
     "iopub.execute_input": "2023-07-31T12:27:19.457159Z",
     "iopub.status.busy": "2023-07-31T12:27:19.456790Z",
     "iopub.status.idle": "2023-07-31T12:27:22.677075Z",
     "shell.execute_reply": "2023-07-31T12:27:22.676099Z",
     "shell.execute_reply.started": "2023-07-31T12:27:19.457128Z"
    },
    "papermill": {
     "duration": null,
     "end_time": null,
     "exception": null,
     "start_time": null,
     "status": "pending"
    },
    "tags": []
   },
   "outputs": [],
   "source": [
    "# Define the neural network architecture\n",
    "model_var = keras.Sequential([\n",
    "    keras.layers.Dense(256, activation='relu', input_shape=(X_all_selected.shape[1],)),\n",
    "    keras.layers.Dense(128, activation='relu'),\n",
    "    keras.layers.Dense(2, activation='softmax')\n",
    "])\n",
    "\n",
    "# Compile the model\n",
    "model_var.compile(optimizer='adam', loss='sparse_categorical_crossentropy', metrics=['accuracy'])\n",
    "\n",
    "# Train the model with early stopping\n",
    "early_stopping = tf.keras.callbacks.EarlyStopping(monitor='val_loss', patience=3, restore_best_weights=True)\n",
    "model_var.fit(X_all_train, y_all_train, epochs=20, batch_size=32, validation_split=0.2, callbacks=[early_stopping])\n",
    "\n",
    "# Evaluate the model on the test set\n",
    "test_loss, test_accuracy = model_var.evaluate(X_all_test, y_all_test)\n",
    "print(f'Test Loss: {test_loss}, Test Accuracy: {test_accuracy}')"
   ]
  },
  {
   "cell_type": "markdown",
   "id": "6a14c5a4",
   "metadata": {
    "papermill": {
     "duration": null,
     "end_time": null,
     "exception": null,
     "start_time": null,
     "status": "pending"
    },
    "tags": []
   },
   "source": [
    "#### A2.2) MLP Neural Network (Emotion Analysis)"
   ]
  },
  {
   "cell_type": "code",
   "execution_count": null,
   "id": "b52ff239",
   "metadata": {
    "execution": {
     "iopub.execute_input": "2023-07-31T12:27:25.154296Z",
     "iopub.status.busy": "2023-07-31T12:27:25.153615Z",
     "iopub.status.idle": "2023-07-31T12:27:28.636252Z",
     "shell.execute_reply": "2023-07-31T12:27:28.635193Z",
     "shell.execute_reply.started": "2023-07-31T12:27:25.154248Z"
    },
    "papermill": {
     "duration": null,
     "end_time": null,
     "exception": null,
     "start_time": null,
     "status": "pending"
    },
    "tags": []
   },
   "outputs": [],
   "source": [
    "# Define the neural network architecture\n",
    "model_var_em = keras.Sequential([\n",
    "    keras.layers.Dense(256, activation='relu', input_shape=(X_all_selected_em.shape[1],)),\n",
    "    keras.layers.Dense(128, activation='relu'),\n",
    "    keras.layers.Dense(2, activation='softmax')\n",
    "])\n",
    "\n",
    "# Compile the model\n",
    "model_var_em.compile(optimizer='adam', loss='sparse_categorical_crossentropy', metrics=['accuracy'])\n",
    "\n",
    "# Train the model with early stopping\n",
    "early_stopping_em = tf.keras.callbacks.EarlyStopping(monitor='val_loss', patience=3, restore_best_weights=True)\n",
    "model_var_em.fit(X_all_train_em, y_all_train_em, epochs=20, batch_size=32, validation_split=0.2, callbacks=[early_stopping_em])\n",
    "\n",
    "# Evaluate the model on the test set\n",
    "test_loss_em, test_accuracy_em = model_var_em.evaluate(X_all_test_em, y_all_test_em)\n",
    "print(f'Test Loss: {test_loss_em}, Test Accuracy: {test_accuracy_em}')"
   ]
  },
  {
   "cell_type": "markdown",
   "id": "a7cd0950",
   "metadata": {
    "papermill": {
     "duration": null,
     "end_time": null,
     "exception": null,
     "start_time": null,
     "status": "pending"
    },
    "tags": []
   },
   "source": [
    "###  B. Correlation\n",
    "#### B1.1) Logistic Regression and Random Forest (Sentiment Analysis)"
   ]
  },
  {
   "cell_type": "code",
   "execution_count": null,
   "id": "50e71efc",
   "metadata": {
    "execution": {
     "iopub.execute_input": "2023-07-31T12:27:33.586981Z",
     "iopub.status.busy": "2023-07-31T12:27:33.586613Z",
     "iopub.status.idle": "2023-07-31T12:27:33.603169Z",
     "shell.execute_reply": "2023-07-31T12:27:33.602188Z",
     "shell.execute_reply.started": "2023-07-31T12:27:33.586951Z"
    },
    "papermill": {
     "duration": null,
     "end_time": null,
     "exception": null,
     "start_time": null,
     "status": "pending"
    },
    "tags": []
   },
   "outputs": [],
   "source": [
    "# Select specific columns from the 'data' df\n",
    "X = data[['LexDens', 'TTR', 'CTTR', 'GTTR', 'MTLD', 'VerbVar', 'NounVar',\n",
    "       'AdjVar', 'AdvVar', 'non_standard', 'profanity_words',\n",
    "       'Articles', 'Prepositions', 'Conjunctions', 'Pronouns',\n",
    "       'Auxiliary Verbs', 'Modal Verbs', 'Determiners', 'Number of Phrases',\n",
    "       'NP Ratio', 'AdvP Ratio', 'AdjP Ratio', 'PrpP Ratio', 'VP Ratio',\n",
    "       'Complex Nominals', 'Subordinate Clauses', 'Relative Clauses',\n",
    "       'Number of Characters', 'Number of Words', 'Tree Depth', 'paren_count',\n",
    "       'nsubj', 'dobj', 'amod', 'Contrast Markers', 'Emphatic Markers',\n",
    "       'Concessive Markers', 'Summary Markers', 'Negative Affixes',\n",
    "       'Present Verbs', 'Past Verbs', 'Future Verbs', 'Infinitive Verbs',\n",
    "       'has_passive_voice', 'negative_polarity', 'positive_polarity',\n",
    "       'avg_synsets', 'mean_concreteness', 'Named Entity Count']]\n",
    "\n",
    "# Calculate the correlation matrix for the selected columns\n",
    "correlations = X.corr()"
   ]
  },
  {
   "cell_type": "code",
   "execution_count": null,
   "id": "51d44b40",
   "metadata": {
    "execution": {
     "iopub.execute_input": "2023-07-31T12:27:36.197901Z",
     "iopub.status.busy": "2023-07-31T12:27:36.197401Z",
     "iopub.status.idle": "2023-07-31T12:27:36.285863Z",
     "shell.execute_reply": "2023-07-31T12:27:36.284395Z",
     "shell.execute_reply.started": "2023-07-31T12:27:36.197862Z"
    },
    "papermill": {
     "duration": null,
     "end_time": null,
     "exception": null,
     "start_time": null,
     "status": "pending"
    },
    "tags": []
   },
   "outputs": [],
   "source": [
    "# Get correlations of each feature in the dataset\n",
    "correlations = X.corr()\n",
    "\n",
    "# Set the standard threshold for correlation\n",
    "threshold = 0.6\n",
    "\n",
    "# Create a set to store the correlated feature pairs\n",
    "correlated_pairs = set()\n",
    "\n",
    "# Iterate over the correlation matrix and find the correlated pairs\n",
    "for i in range(len(correlations.columns)):\n",
    "    for j in range(i+1, len(correlations.columns)):\n",
    "        if abs(correlations.iloc[i, j]) > threshold:\n",
    "            correlated_pairs.add((correlations.columns[i], correlations.columns[j]))\n",
    "\n",
    "# Print the correlated feature pairs\n",
    "for pair in correlated_pairs:\n",
    "    print(f\"{pair[0]} and {pair[1]} are correlated.\")"
   ]
  },
  {
   "cell_type": "code",
   "execution_count": null,
   "id": "61ece261",
   "metadata": {
    "execution": {
     "iopub.execute_input": "2023-07-31T12:27:38.734856Z",
     "iopub.status.busy": "2023-07-31T12:27:38.734494Z",
     "iopub.status.idle": "2023-07-31T12:27:38.742837Z",
     "shell.execute_reply": "2023-07-31T12:27:38.741660Z",
     "shell.execute_reply.started": "2023-07-31T12:27:38.734829Z"
    },
    "papermill": {
     "duration": null,
     "end_time": null,
     "exception": null,
     "start_time": null,
     "status": "pending"
    },
    "tags": []
   },
   "outputs": [],
   "source": [
    "# Create a list to store the non-correlated feature names\n",
    "non_correlated_features = list(X.columns)\n",
    "\n",
    "# Iterate over the correlated feature pairs\n",
    "for feature_1, feature_2 in correlated_pairs:\n",
    "    # Check if the features are still in the non-correlated features list\n",
    "    if feature_1 in non_correlated_features and feature_2 in non_correlated_features:\n",
    "        # Remove one of the correlated features from the list\n",
    "        non_correlated_features.remove(feature_2)\n",
    "\n",
    "# Create a new dataset with non-correlated features\n",
    "new_data = X[non_correlated_features]"
   ]
  },
  {
   "cell_type": "code",
   "execution_count": null,
   "id": "bb454f61",
   "metadata": {
    "execution": {
     "iopub.execute_input": "2023-07-31T12:27:41.791879Z",
     "iopub.status.busy": "2023-07-31T12:27:41.791532Z",
     "iopub.status.idle": "2023-07-31T12:27:45.602713Z",
     "shell.execute_reply": "2023-07-31T12:27:45.601565Z",
     "shell.execute_reply.started": "2023-07-31T12:27:41.791852Z"
    },
    "papermill": {
     "duration": null,
     "end_time": null,
     "exception": null,
     "start_time": null,
     "status": "pending"
    },
    "tags": []
   },
   "outputs": [],
   "source": [
    "# Split the data into features (X) and target (y)\n",
    "X_cor = data[['LexDens', 'TTR', 'CTTR', 'MTLD', 'VerbVar', 'NounVar', 'AdjVar', 'AdvVar',\n",
    "              'profanity_words', 'Conjunctions','Pronouns', 'Articles', 'Auxiliary Verbs', 'Modal Verbs', 'Number of Phrases',\n",
    "              'NP Ratio', 'AdjP Ratio', 'PrpP Ratio', 'VP Ratio', 'Subordinate Clauses', 'Complex Nominals',\n",
    "              'Relative Clauses', 'paren_count','nsubj', 'amod', 'Contrast Markers', 'Emphatic Markers',\n",
    "              'Concessive Markers', 'Summary Markers','Present Verbs','Past Verbs', 'Future Verbs', 'has_passive_voice',\n",
    "              'negative_polarity', 'positive_polarity', 'avg_synsets', 'mean_concreteness',\n",
    "              'Named Entity Count']]\n",
    "\n",
    "y_cor = data['Misprediction']\n",
    "\n",
    "# Split the data into training and testing sets\n",
    "X_cor_train, X_cor_test, y_cor_train, y_cor_test = train_test_split(X_cor, y_cor, test_size=0.2, random_state=42)\n",
    "\n",
    "# Initialize Classifiers\n",
    "model_cor_log = LogisticRegression(max_iter=10000) # Create a logistic regression classifier\n",
    "model_cor_rf = RandomForestClassifier() # Create a Random Forest classifier\n",
    "\n",
    "# Fit the models to the training data\n",
    "model_cor_log.fit(X_cor_train, y_cor_train) # Logistic regression\n",
    "model_cor_rf.fit(X_cor_train, y_cor_train) # Random Forest\n",
    "\n",
    "# Set up k-fold cross-validation for logistic regression\n",
    "k = 10  # Number of folds\n",
    "scoring = {'accuracy': make_scorer(accuracy_score), 'f1': make_scorer(f1_score)}\n",
    "cv_results_log_cor = cross_validate(model_cor_log, X_cor_train, y_cor_train, cv=k, scoring=scoring)\n",
    "\n",
    "# Set up k-fold cross-validation for random forest\n",
    "cv_results_rf_cor = cross_validate(model_cor_rf, X_cor_train, y_cor_train, cv=k, scoring=scoring)\n",
    "\n",
    "# Extract the evaluation metrics for logistic regression\n",
    "cv_accuracy_scores_log_cor = cv_results_log_cor['test_accuracy']\n",
    "cv_f1_scores_log_cor = cv_results_log_cor['test_f1']\n",
    "\n",
    "# Extract the evaluation metrics for random forest\n",
    "cv_accuracy_scores_rf_cor = cv_results_rf_cor['test_accuracy']\n",
    "cv_f1_scores_rf_cor = cv_results_rf_cor['test_f1']\n",
    "\n",
    "# Calculate evaluation metrics for logistic regression on the test set\n",
    "precision_log_cor = precision_score(y_cor_test, model_cor_log.predict(X_cor_test))\n",
    "recall_log_cor = recall_score(y_cor_test, model_cor_log.predict(X_cor_test))\n",
    "\n",
    "# Calculate evaluation metrics for random forest on the test set\n",
    "precision_rf_cor = precision_score(y_cor_test, model_cor_rf.predict(X_cor_test))\n",
    "recall_rf_cor = recall_score(y_cor_test, model_cor_rf.predict(X_cor_test))\n",
    "\n",
    "# Store the results in a new df\n",
    "results_cor = pd.DataFrame({\n",
    "    'Classifier': ['Logistic Regression', 'Random Forest'],\n",
    "    'Accuracy': [np.mean(cv_accuracy_scores_log_cor), np.mean(cv_accuracy_scores_rf_cor)],\n",
    "    'F1 Score': [np.mean(cv_f1_scores_log_cor), np.mean(cv_f1_scores_rf_cor)],\n",
    "    'Precision': [precision_log_cor, precision_rf_cor],\n",
    "    'Recall': [recall_log_cor, recall_rf_cor]\n",
    "})\n",
    "\n",
    "results_cor"
   ]
  },
  {
   "cell_type": "markdown",
   "id": "104d3130",
   "metadata": {
    "papermill": {
     "duration": null,
     "end_time": null,
     "exception": null,
     "start_time": null,
     "status": "pending"
    },
    "tags": []
   },
   "source": [
    "#### B1.2) Logistic Regression and Random Forest (Emotion Analysis)"
   ]
  },
  {
   "cell_type": "code",
   "execution_count": null,
   "id": "108c874b",
   "metadata": {
    "execution": {
     "iopub.execute_input": "2023-07-31T13:21:47.164124Z",
     "iopub.status.busy": "2023-07-31T13:21:47.163733Z",
     "iopub.status.idle": "2023-07-31T13:21:47.182979Z",
     "shell.execute_reply": "2023-07-31T13:21:47.182016Z",
     "shell.execute_reply.started": "2023-07-31T13:21:47.164092Z"
    },
    "papermill": {
     "duration": null,
     "end_time": null,
     "exception": null,
     "start_time": null,
     "status": "pending"
    },
    "tags": []
   },
   "outputs": [],
   "source": [
    "# Select specific columns from the 'data_em' df\n",
    "X_em = data_em[['LexDens', 'TTR', 'CTTR', 'GTTR', 'MTLD', 'VerbVar', 'NounVar',\n",
    "       'AdjVar', 'AdvVar', 'non_standard', 'profanity_words',\n",
    "       'Articles', 'Prepositions', 'Conjunctions', 'Pronouns',\n",
    "       'Auxiliary Verbs', 'Modal Verbs', 'Determiners', 'Number of Phrases',\n",
    "       'NP Ratio', 'AdvP Ratio', 'AdjP Ratio', 'PrpP Ratio', 'VP Ratio',\n",
    "       'Complex Nominals', 'Subordinate Clauses', 'Relative Clauses',  'nsubj', 'dobj', 'amod',\n",
    "       'Number of Characters', 'Number of Words', 'Tree Depth', 'paren_count',\n",
    "        'Contrast Markers', 'Emphatic Markers', 'nsubj', 'dobj', 'amod',\n",
    "       'Concessive Markers', 'Summary Markers', 'Negative Affixes',\n",
    "       'Present Verbs', 'Past Verbs', 'Future Verbs', 'Infinitive Verbs',\n",
    "       'has_passive_voice', 'negative_polarity', 'positive_polarity',\n",
    "       'avg_synsets', 'mean_concreteness', 'Named Entity Count']]\n",
    "\n",
    "\n",
    "# Calculate the correlation matrix for the selected columns\n",
    "correlations_em = X_em.corr()"
   ]
  },
  {
   "cell_type": "code",
   "execution_count": null,
   "id": "4de470b6",
   "metadata": {
    "execution": {
     "iopub.execute_input": "2023-07-31T13:21:50.132481Z",
     "iopub.status.busy": "2023-07-31T13:21:50.132091Z",
     "iopub.status.idle": "2023-07-31T13:21:50.190165Z",
     "shell.execute_reply": "2023-07-31T13:21:50.189109Z",
     "shell.execute_reply.started": "2023-07-31T13:21:50.132444Z"
    },
    "papermill": {
     "duration": null,
     "end_time": null,
     "exception": null,
     "start_time": null,
     "status": "pending"
    },
    "tags": []
   },
   "outputs": [],
   "source": [
    "# Get correlations of each feature in the dataset\n",
    "correlations_em = X_em.corr()\n",
    "\n",
    "# Set the standard threshold for correlation\n",
    "threshold = 0.6\n",
    "\n",
    "# Create a set to store the correlated feature pairs\n",
    "correlated_pairs_em = set()\n",
    "\n",
    "# Iterate over the correlation matrix and find the correlated pairs\n",
    "for i in range(len(correlations_em.columns)):\n",
    "    for j in range(i+1, len(correlations_em.columns)):\n",
    "        if abs(correlations_em.iloc[i, j]) > threshold:\n",
    "            correlated_pairs_em.add((correlations_em.columns[i], correlations_em.columns[j]))\n",
    "\n",
    "# Print the correlated feature pairs\n",
    "for pair in correlated_pairs_em:\n",
    "    print(f\"{pair[0]} and {pair[1]} are correlated.\")"
   ]
  },
  {
   "cell_type": "code",
   "execution_count": null,
   "id": "0d124b52",
   "metadata": {
    "execution": {
     "iopub.execute_input": "2023-07-31T13:21:53.152998Z",
     "iopub.status.busy": "2023-07-31T13:21:53.152378Z",
     "iopub.status.idle": "2023-07-31T13:21:53.162240Z",
     "shell.execute_reply": "2023-07-31T13:21:53.160980Z",
     "shell.execute_reply.started": "2023-07-31T13:21:53.152964Z"
    },
    "papermill": {
     "duration": null,
     "end_time": null,
     "exception": null,
     "start_time": null,
     "status": "pending"
    },
    "tags": []
   },
   "outputs": [],
   "source": [
    "# Create a list to store the non-correlated feature names\n",
    "non_correlated_features_em = list(X_em.columns)\n",
    "\n",
    "# Iterate over the correlated feature pairs\n",
    "for feature_1, feature_2 in correlated_pairs_em:\n",
    "    # Check if the features are still in the non-correlated features list\n",
    "    if feature_1 in non_correlated_features_em and feature_2 in non_correlated_features_em:\n",
    "        # Remove one of the correlated features from the list\n",
    "        non_correlated_features_em.remove(feature_2)\n",
    "\n",
    "# Create a new dataset with non-correlated features\n",
    "new_data_em = X_em[non_correlated_features_em]"
   ]
  },
  {
   "cell_type": "code",
   "execution_count": null,
   "id": "76ab4891",
   "metadata": {
    "execution": {
     "iopub.execute_input": "2023-07-31T13:21:56.299872Z",
     "iopub.status.busy": "2023-07-31T13:21:56.299505Z",
     "iopub.status.idle": "2023-07-31T13:21:56.305750Z",
     "shell.execute_reply": "2023-07-31T13:21:56.304497Z",
     "shell.execute_reply.started": "2023-07-31T13:21:56.299844Z"
    },
    "papermill": {
     "duration": null,
     "end_time": null,
     "exception": null,
     "start_time": null,
     "status": "pending"
    },
    "tags": []
   },
   "outputs": [],
   "source": [
    "# Print the non-correlated feature names\n",
    "print(\"Non-correlated features:\")\n",
    "for feature in non_correlated_features_em:\n",
    "    print(feature)"
   ]
  },
  {
   "cell_type": "code",
   "execution_count": null,
   "id": "c6c79ea3",
   "metadata": {
    "execution": {
     "iopub.execute_input": "2023-07-31T13:21:58.575351Z",
     "iopub.status.busy": "2023-07-31T13:21:58.574903Z",
     "iopub.status.idle": "2023-07-31T13:22:02.552085Z",
     "shell.execute_reply": "2023-07-31T13:22:02.551009Z",
     "shell.execute_reply.started": "2023-07-31T13:21:58.575313Z"
    },
    "papermill": {
     "duration": null,
     "end_time": null,
     "exception": null,
     "start_time": null,
     "status": "pending"
    },
    "tags": []
   },
   "outputs": [],
   "source": [
    "# Split the data into features (X) and target (y)\n",
    "X_cor_em = data_em[['LexDens', 'TTR', 'MTLD', 'VerbVar', 'NounVar', 'AdjVar', 'profanity_words', 'Number of Phrases', 'Auxiliary Verbs',\n",
    "              'NP Ratio', 'AdjP Ratio', 'AdvP Ratio', 'VP Ratio', 'Subordinate Clauses', 'Relative Clauses', 'Contrast Markers',\n",
    "              'Emphatic Markers', 'Concessive Markers','Summary Markers', 'positive_polarity', 'negative_polarity','has_passive_voice', 'avg_synsets', 'mean_concreteness']]\n",
    "y_cor_em = data_em['Misprediction']\n",
    "\n",
    "# Split the data into training and testing sets\n",
    "X_cor_train_em, X_cor_test_em, y_cor_train_em, y_cor_test_em = train_test_split(X_cor_em, y_cor_em, test_size=0.2, random_state=42)\n",
    "\n",
    "# Initialize Classifiers\n",
    "model_cor_log_em = LogisticRegression(max_iter=10000) # Create a logistic regression classifier\n",
    "model_cor_rf_em = RandomForestClassifier() # Create a Random Forest classifier\n",
    "\n",
    "# Fit the models to the training data\n",
    "model_cor_log_em.fit(X_cor_train_em, y_cor_train_em) # Logistic regression\n",
    "model_cor_rf_em.fit(X_cor_train_em, y_cor_train_em) # Random Forest\n",
    "\n",
    "# Set up k-fold cross-validation for logistic regression\n",
    "k_em = 10  # Number of folds\n",
    "scoring_em = {'accuracy': make_scorer(accuracy_score), 'f1': make_scorer(f1_score)}\n",
    "cv_results_log_cor_em = cross_validate(model_cor_log_em, X_cor_train_em, y_cor_train_em, cv=k_em, scoring=scoring_em)\n",
    "\n",
    "# Set up k-fold cross-validation for random forest\n",
    "cv_results_rf_cor_em = cross_validate(model_cor_rf_em, X_cor_train_em, y_cor_train_em, cv=k_em, scoring=scoring_em)\n",
    "\n",
    "# Extract the evaluation metrics for logistic regression\n",
    "cv_accuracy_scores_log_cor_em = cv_results_log_cor_em['test_accuracy']\n",
    "cv_f1_scores_log_cor_em = cv_results_log_cor_em['test_f1']\n",
    "\n",
    "# Extract the evaluation metrics for random forest\n",
    "cv_accuracy_scores_rf_cor_em = cv_results_rf_cor_em['test_accuracy']\n",
    "cv_f1_scores_rf_cor_em = cv_results_rf_cor_em['test_f1']\n",
    "\n",
    "# Calculate the evaluation metrics for logistic regression on the test set\n",
    "precision_log_cor_em = precision_score(y_cor_test_em, model_cor_log_em.predict(X_cor_test_em))\n",
    "recall_log_cor_em = recall_score(y_cor_test_em, model_cor_log_em.predict(X_cor_test_em))\n",
    "\n",
    "# Calculate the evaluation metrics for random forest on the test set\n",
    "precision_rf_cor_em = precision_score(y_cor_test_em, model_cor_rf_em.predict(X_cor_test_em))\n",
    "recall_rf_cor_em = recall_score(y_cor_test_em, model_cor_rf_em.predict(X_cor_test_em))\n",
    "\n",
    "# Store the results in a new dataset\n",
    "results_cor_em = pd.DataFrame({\n",
    "    'Classifier': ['Logistic Regression', 'Random Forest'],\n",
    "    'Accuracy': [np.mean(cv_accuracy_scores_log_cor_em), np.mean(cv_accuracy_scores_rf_cor_em)],\n",
    "    'F1 Score': [np.mean(cv_f1_scores_log_cor_em), np.mean(cv_f1_scores_rf_cor_em)],\n",
    "    'Precision': [precision_log_cor_em, precision_rf_cor_em],\n",
    "    'Recall': [recall_log_cor_em, recall_rf_cor_em]\n",
    "})\n",
    "\n",
    "results_cor_em"
   ]
  },
  {
   "cell_type": "markdown",
   "id": "38ffb879",
   "metadata": {
    "papermill": {
     "duration": null,
     "end_time": null,
     "exception": null,
     "start_time": null,
     "status": "pending"
    },
    "tags": []
   },
   "source": [
    "#### B2.1) MLP Neural Network (Sentiment Analysis)"
   ]
  },
  {
   "cell_type": "code",
   "execution_count": null,
   "id": "dbe91aae",
   "metadata": {
    "execution": {
     "iopub.execute_input": "2023-07-31T12:28:06.882060Z",
     "iopub.status.busy": "2023-07-31T12:28:06.881342Z",
     "iopub.status.idle": "2023-07-31T12:28:10.131175Z",
     "shell.execute_reply": "2023-07-31T12:28:10.130095Z",
     "shell.execute_reply.started": "2023-07-31T12:28:06.882025Z"
    },
    "papermill": {
     "duration": null,
     "end_time": null,
     "exception": null,
     "start_time": null,
     "status": "pending"
    },
    "tags": []
   },
   "outputs": [],
   "source": [
    "# Define the neural network architecture\n",
    "model_cor = keras.Sequential([\n",
    "    keras.layers.Dense(256, activation='relu', input_shape=(len(X_cor.columns),)),\n",
    "    keras.layers.Dense(128, activation='relu'),\n",
    "    keras.layers.Dense(2, activation='softmax')\n",
    "])\n",
    "\n",
    "# Compile the model\n",
    "model_cor.compile(optimizer='adam', loss='sparse_categorical_crossentropy', metrics=['accuracy'])\n",
    "\n",
    "# Train the model with early stopping\n",
    "early_stopping = tf.keras.callbacks.EarlyStopping(monitor='val_loss', patience=3, restore_best_weights=True)\n",
    "model_cor.fit(X_cor_train, y_cor_train, epochs=20, batch_size=32, validation_split=0.2, callbacks=[early_stopping])\n",
    "\n",
    "# Evaluate the model on the test set\n",
    "test_loss, test_accuracy = model_cor.evaluate(X_cor_test, y_cor_test)\n",
    "print(f'Test Loss: {test_loss}, Test Accuracy: {test_accuracy}')"
   ]
  },
  {
   "cell_type": "markdown",
   "id": "768a5434",
   "metadata": {
    "papermill": {
     "duration": null,
     "end_time": null,
     "exception": null,
     "start_time": null,
     "status": "pending"
    },
    "tags": []
   },
   "source": [
    "#### B2.2) MLP Neural Network (Emotion Analysis)"
   ]
  },
  {
   "cell_type": "code",
   "execution_count": null,
   "id": "7dc57684",
   "metadata": {
    "execution": {
     "iopub.execute_input": "2023-07-31T12:28:11.854735Z",
     "iopub.status.busy": "2023-07-31T12:28:11.854365Z",
     "iopub.status.idle": "2023-07-31T12:28:15.389834Z",
     "shell.execute_reply": "2023-07-31T12:28:15.388749Z",
     "shell.execute_reply.started": "2023-07-31T12:28:11.854705Z"
    },
    "papermill": {
     "duration": null,
     "end_time": null,
     "exception": null,
     "start_time": null,
     "status": "pending"
    },
    "tags": []
   },
   "outputs": [],
   "source": [
    "# Define the neural network architecture\n",
    "model_cor_em = keras.Sequential([\n",
    "    keras.layers.Dense(256, activation='relu', input_shape=(len(X_cor_em.columns),)),\n",
    "    keras.layers.Dense(128, activation='relu'),\n",
    "    keras.layers.Dense(2, activation='softmax')\n",
    "])\n",
    "\n",
    "# Compile the model\n",
    "model_cor_em.compile(optimizer='adam', loss='sparse_categorical_crossentropy', metrics=['accuracy'])\n",
    "\n",
    "# Train the model with early stopping\n",
    "early_stopping_em = tf.keras.callbacks.EarlyStopping(monitor='val_loss', patience=3, restore_best_weights=True)\n",
    "model_cor_em.fit(X_cor_train_em, y_cor_train_em, epochs=20, batch_size=32, validation_split=0.2, callbacks=[early_stopping_em])\n",
    "\n",
    "# Evaluate the model on the test set\n",
    "test_loss_em, test_accuracy_em = model_cor_em.evaluate(X_cor_test_em, y_cor_test_em)\n",
    "print(f'Test Loss: {test_loss_em}, Test Accuracy: {test_accuracy_em}')"
   ]
  },
  {
   "cell_type": "markdown",
   "id": "f35f5d71",
   "metadata": {
    "papermill": {
     "duration": null,
     "end_time": null,
     "exception": null,
     "start_time": null,
     "status": "pending"
    },
    "tags": []
   },
   "source": [
    "###  C. Relief\n",
    "#### C1.1) Logistic Regression and Random Forest (Sentiment Analysis)"
   ]
  },
  {
   "cell_type": "code",
   "execution_count": null,
   "id": "ea1f6e9d",
   "metadata": {
    "execution": {
     "iopub.execute_input": "2023-07-31T12:28:18.320260Z",
     "iopub.status.busy": "2023-07-31T12:28:18.319259Z",
     "iopub.status.idle": "2023-07-31T12:28:18.537056Z",
     "shell.execute_reply": "2023-07-31T12:28:18.536054Z",
     "shell.execute_reply.started": "2023-07-31T12:28:18.320224Z"
    },
    "papermill": {
     "duration": null,
     "end_time": null,
     "exception": null,
     "start_time": null,
     "status": "pending"
    },
    "tags": []
   },
   "outputs": [],
   "source": [
    "# Perform feature selection using Relief\n",
    "selector = SelectKBest(score_func=f_regression, k=10)  # Adjust the k value as desired\n",
    "X_selected = selector.fit_transform(X_all, y_all)\n",
    "\n",
    "# Get the selected feature names\n",
    "selected_feature_names = X_all.columns[selector.get_support()]\n",
    "\n",
    "# Split the data into training and testing sets\n",
    "X_selected_train, X_selected_test, y_all_train, y_all_test = train_test_split(X_selected, y_all, test_size=0.2, random_state=42)\n",
    "\n",
    "# Initialize Classifier\n",
    "model_complex_log_relief = LogisticRegression(max_iter=10000)  # Create a logistic regression classifier\n",
    "\n",
    "# Fit the model to the training data with the selected features\n",
    "model_complex_log_relief.fit(X_selected_train, y_all_train)  # Logistic regression\n",
    "\n",
    "# Set up k-fold cross-validation for logistic regression with the selected features\n",
    "cv_results_log_relief = cross_validate(model_complex_log_relief, X_selected_train, y_all_train, cv=k, scoring=scoring)\n",
    "\n",
    "# Define the scoring metrics you want to evaluate\n",
    "scoring = {\n",
    "    'accuracy': make_scorer(accuracy_score),\n",
    "    'precision': make_scorer(precision_score),\n",
    "    'recall': make_scorer(recall_score),\n",
    "    'f1_score': make_scorer(f1_score)\n",
    "}\n",
    "\n",
    "# Set k value for k-fold cross-validation\n",
    "k = 5  # Adjust k as desired\n",
    "\n",
    "# Perform k-fold cross-validation for logistic regression with the selected features\n",
    "cv_results_log_relief = cross_validate(model_complex_log_relief, X_selected_train, y_all_train, cv=k, scoring=scoring)\n",
    "\n",
    "# Print the evaluation metrics\n",
    "print(\"Accuracy:\", np.mean(cv_results_log_relief['test_accuracy']))\n",
    "print(\"Precision:\", np.mean(cv_results_log_relief['test_precision']))\n",
    "print(\"Recall:\", np.mean(cv_results_log_relief['test_recall']))\n",
    "print(\"F1 Score:\", np.mean(cv_results_log_relief['test_f1_score']))"
   ]
  },
  {
   "cell_type": "markdown",
   "id": "af69a59c",
   "metadata": {
    "papermill": {
     "duration": null,
     "end_time": null,
     "exception": null,
     "start_time": null,
     "status": "pending"
    },
    "tags": []
   },
   "source": [
    "# PART 7: \n",
    "## DIAGNOSTIC ASSESSMENT OF FEATURES\n",
    "### A. Regression Analysis \n",
    "#### 7A1. Sentiment Analysis Task"
   ]
  },
  {
   "cell_type": "code",
   "execution_count": null,
   "id": "0c8edc98",
   "metadata": {
    "execution": {
     "iopub.execute_input": "2023-07-31T12:28:25.316696Z",
     "iopub.status.busy": "2023-07-31T12:28:25.316306Z",
     "iopub.status.idle": "2023-07-31T12:28:25.458470Z",
     "shell.execute_reply": "2023-07-31T12:28:25.457321Z",
     "shell.execute_reply.started": "2023-07-31T12:28:25.316666Z"
    },
    "papermill": {
     "duration": null,
     "end_time": null,
     "exception": null,
     "start_time": null,
     "status": "pending"
    },
    "tags": []
   },
   "outputs": [],
   "source": [
    "# Select features from X_cor dataset\n",
    "X_selected = data[['LexDens','TTR' , 'CTTR','MTLD' ,'VerbVar', 'NounVar' ,'AdjVar',\n",
    " 'AdvVar' ,'profanity_words' ,'Articles','Conjunctions', 'Pronouns', 'Auxiliary Verbs',\n",
    " 'Modal Verbs' ,'Determiners' ,'Number of Phrases' ,'NP Ratio' ,'AdvP Ratio',\n",
    " 'AdjP Ratio' ,'PrpP Ratio' ,'VP Ratio', 'Complex Nominals',\n",
    " 'Subordinate Clauses', 'Relative Clauses', 'nsubj',\n",
    " 'amod' ,'Contrast Markers' ,'Negative Affixes' ,'Past Verbs',\n",
    " 'Infinitive Verbs', 'has_passive_voice' ,'negative_polarity',\n",
    " 'positive_polarity', 'avg_synsets' ,'mean_concreteness',\n",
    " 'Named Entity Count']]\n",
    "\n",
    "\n",
    "# Add constant term to the feature matrix\n",
    "X_selected = sm.add_constant(X_selected)\n",
    "\n",
    "# Fit logistic regression model\n",
    "logit_model = sm.Logit(y_cor, X_selected)\n",
    "result = logit_model.fit()\n",
    "\n",
    "# Print the summary of the logistic regression model\n",
    "print(result.summary())"
   ]
  },
  {
   "cell_type": "code",
   "execution_count": null,
   "id": "eb2d69cc",
   "metadata": {
    "execution": {
     "iopub.execute_input": "2023-07-31T12:28:28.368800Z",
     "iopub.status.busy": "2023-07-31T12:28:28.368400Z",
     "iopub.status.idle": "2023-07-31T12:28:28.384409Z",
     "shell.execute_reply": "2023-07-31T12:28:28.383282Z",
     "shell.execute_reply.started": "2023-07-31T12:28:28.368769Z"
    },
    "papermill": {
     "duration": null,
     "end_time": null,
     "exception": null,
     "start_time": null,
     "status": "pending"
    },
    "tags": []
   },
   "outputs": [],
   "source": [
    "# Get the absolute values of the coefficients\n",
    "coefs_abs = np.abs(result.params)\n",
    "\n",
    "# Create a new df storing the coefficients and their absolute values\n",
    "coefs_df = pd.DataFrame({'Coefficient': result.params, 'Absolute Value': coefs_abs}, index=X_selected.columns)\n",
    "\n",
    "# Sort the df by the absolute values in descending order\n",
    "coefs_df_sorted = coefs_df.sort_values('Absolute Value', ascending=False)\n",
    "\n",
    "# Select the specific features\n",
    "selected_features = ['CTTR', 'Relative Clauses', 'Contrast Markers', 'AdvP Ratio','positive_polarity', 'nsubj', 'amod']\n",
    "\n",
    "# Filter the df to include only the selected features\n",
    "selected_coefs = coefs_df_sorted.loc[selected_features]\n",
    "\n",
    "selected_coefs"
   ]
  },
  {
   "cell_type": "code",
   "execution_count": null,
   "id": "7aae4519",
   "metadata": {
    "execution": {
     "iopub.execute_input": "2023-07-31T12:28:30.666192Z",
     "iopub.status.busy": "2023-07-31T12:28:30.665350Z",
     "iopub.status.idle": "2023-07-31T12:28:30.991058Z",
     "shell.execute_reply": "2023-07-31T12:28:30.990096Z",
     "shell.execute_reply.started": "2023-07-31T12:28:30.666147Z"
    },
    "papermill": {
     "duration": null,
     "end_time": null,
     "exception": null,
     "start_time": null,
     "status": "pending"
    },
    "tags": []
   },
   "outputs": [],
   "source": [
    "# Filter the df to include only the selected features\n",
    "coefs_df_filtered = coefs_df_sorted.loc[selected_features]\n",
    "\n",
    "# Set the width of the bars\n",
    "bar_width = 0.5\n",
    "\n",
    "# Set the positions of the bars on the y-axis\n",
    "index = np.arange(len(coefs_df_filtered))\n",
    "\n",
    "# Create the bar plot\n",
    "plt.barh(index, coefs_df_filtered['Coefficient'], bar_width, color=['tab:red' if c < 0 else 'tab:cyan' for c in coefs_df_filtered['Coefficient']])\n",
    "\n",
    "# Add labels and title\n",
    "plt.xlabel('Coefficient')\n",
    "plt.ylabel('Feature')\n",
    "plt.title('Direction of Relationship between Coefficients and Misprediction')\n",
    "\n",
    "# Add y-axis labels\n",
    "plt.yticks(index, coefs_df_filtered.index)\n",
    "\n",
    "# Show the plot\n",
    "plt.show()"
   ]
  },
  {
   "cell_type": "markdown",
   "id": "000eff44",
   "metadata": {
    "papermill": {
     "duration": null,
     "end_time": null,
     "exception": null,
     "start_time": null,
     "status": "pending"
    },
    "tags": []
   },
   "source": [
    "#### 7A2. Emotion Analysis Task"
   ]
  },
  {
   "cell_type": "code",
   "execution_count": null,
   "id": "3b73523e",
   "metadata": {
    "execution": {
     "iopub.execute_input": "2023-07-31T12:30:08.687932Z",
     "iopub.status.busy": "2023-07-31T12:30:08.687567Z",
     "iopub.status.idle": "2023-07-31T12:30:08.855966Z",
     "shell.execute_reply": "2023-07-31T12:30:08.853701Z",
     "shell.execute_reply.started": "2023-07-31T12:30:08.687903Z"
    },
    "papermill": {
     "duration": null,
     "end_time": null,
     "exception": null,
     "start_time": null,
     "status": "pending"
    },
    "tags": []
   },
   "outputs": [],
   "source": [
    "# Select the desired features from X_cor\n",
    "X_selected_em = data_em[['LexDens', 'TTR', 'CTTR', 'VerbVar', 'NounVar', 'AdjVar', 'AdvVar', 'profanity_words', 'Conjunctions', 'Pronouns', 'Auxiliary Verbs', 'Modal Verbs', 'Determiners', 'Number of Phrases', 'NP Ratio', 'AdvP Ratio', 'AdjP Ratio', 'PrpP Ratio', 'VP Ratio', 'Complex Nominals', 'Subordinate Clauses', 'Relative Clauses', 'Contrast Markers', 'Emphatic Markers', 'nsubj', 'amod', 'Concessive Markers', 'Summary Markers', 'Negative Affixes', 'Present Verbs', 'Past Verbs', 'Future Verbs', 'Infinitive Verbs', 'has_passive_voice', 'negative_polarity', 'positive_polarity', 'avg_synsets', 'mean_concreteness', 'Named Entity Count']]\n",
    "\n",
    "\n",
    "# Add constant term to the feature matrix\n",
    "X_selected_em = sm.add_constant(X_selected_em)\n",
    "\n",
    "# Fit logistic regression model\n",
    "logit_model_em = sm.Logit(y_cor_em, X_selected_em)\n",
    "result_em = logit_model_em.fit()\n",
    "\n",
    "# Print the summary of the logistic regression model\n",
    "print(result_em.summary())"
   ]
  },
  {
   "cell_type": "code",
   "execution_count": null,
   "id": "91c37a7c",
   "metadata": {
    "execution": {
     "iopub.execute_input": "2023-07-31T12:30:19.694510Z",
     "iopub.status.busy": "2023-07-31T12:30:19.694129Z",
     "iopub.status.idle": "2023-07-31T12:30:19.709796Z",
     "shell.execute_reply": "2023-07-31T12:30:19.708660Z",
     "shell.execute_reply.started": "2023-07-31T12:30:19.694479Z"
    },
    "papermill": {
     "duration": null,
     "end_time": null,
     "exception": null,
     "start_time": null,
     "status": "pending"
    },
    "tags": []
   },
   "outputs": [],
   "source": [
    "# Get the absolute values of the coefficients\n",
    "coefs_abs_em = np.abs(result_em.params)\n",
    "\n",
    "# Create a df to store the coefficients and their absolute values\n",
    "coefs_df_em = pd.DataFrame({'Coefficient': result_em.params, 'Absolute Value': coefs_abs_em}, index=X_selected_em.columns)\n",
    "\n",
    "# Sort the df by the absolute values in descending order\n",
    "coefs_df_sorted_em = coefs_df_em.sort_values('Absolute Value', ascending=False)\n",
    "\n",
    "# Select the specific features\n",
    "selected_features_em = ['VerbVar', 'Number of Phrases', 'AdvP Ratio', 'nsubj', 'amod', 'avg_synsets']\n",
    "\n",
    "# Filter the DataFrame to include only the selected features\n",
    "selected_coefs_em = coefs_df_sorted_em.loc[selected_features_em]\n",
    "\n",
    "selected_coefs_em"
   ]
  },
  {
   "cell_type": "code",
   "execution_count": null,
   "id": "50138938",
   "metadata": {
    "execution": {
     "iopub.execute_input": "2023-07-31T12:30:32.066052Z",
     "iopub.status.busy": "2023-07-31T12:30:32.065372Z",
     "iopub.status.idle": "2023-07-31T12:30:32.381799Z",
     "shell.execute_reply": "2023-07-31T12:30:32.379641Z",
     "shell.execute_reply.started": "2023-07-31T12:30:32.066019Z"
    },
    "papermill": {
     "duration": null,
     "end_time": null,
     "exception": null,
     "start_time": null,
     "status": "pending"
    },
    "tags": []
   },
   "outputs": [],
   "source": [
    "# Filter the df to include only the selected features\n",
    "coefs_df_filtered_em = coefs_df_sorted_em.loc[selected_features_em]\n",
    "\n",
    "# Set the width of the bars\n",
    "bar_width = 0.5\n",
    "\n",
    "# Set the positions of the bars on the y-axis\n",
    "index = np.arange(len(coefs_df_filtered_em))\n",
    "\n",
    "# Create the bar plot\n",
    "plt.barh(index, coefs_df_filtered_em['Coefficient'], bar_width, color=['tab:red' if c < 0 else 'tab:cyan' for c in coefs_df_filtered_em['Coefficient']])\n",
    "\n",
    "# Add labels and title\n",
    "plt.xlabel('Coefficient')\n",
    "plt.ylabel('Feature')\n",
    "plt.title('Direction of Relationship between Coefficients and Misprediction (Emotion Analysis)')\n",
    "\n",
    "# Add y-axis labels\n",
    "plt.yticks(index, coefs_df_filtered_em.index)\n",
    "\n",
    "# Show the plot\n",
    "plt.show()"
   ]
  },
  {
   "cell_type": "markdown",
   "id": "cce26deb",
   "metadata": {
    "papermill": {
     "duration": null,
     "end_time": null,
     "exception": null,
     "start_time": null,
     "status": "pending"
    },
    "tags": []
   },
   "source": [
    "### B. SHAP Values\n",
    "#### 7B1. Sentiment Analysis Task"
   ]
  },
  {
   "cell_type": "code",
   "execution_count": null,
   "id": "f082dffa",
   "metadata": {
    "execution": {
     "iopub.execute_input": "2023-07-31T12:32:22.588244Z",
     "iopub.status.busy": "2023-07-31T12:32:22.587775Z",
     "iopub.status.idle": "2023-07-31T12:32:27.559495Z",
     "shell.execute_reply": "2023-07-31T12:32:27.558378Z",
     "shell.execute_reply.started": "2023-07-31T12:32:22.588205Z"
    },
    "papermill": {
     "duration": null,
     "end_time": null,
     "exception": null,
     "start_time": null,
     "status": "pending"
    },
    "tags": []
   },
   "outputs": [],
   "source": [
    "# Split the data into features (X) and target (y)\n",
    "X_final = data[['LexDens','TTR' , 'CTTR','MTLD' ,'VerbVar', 'NounVar' ,'AdjVar',\n",
    " 'AdvVar' ,'profanity_words' ,'Articles','Conjunctions', 'Pronouns', 'Auxiliary Verbs',\n",
    " 'Modal Verbs' ,'Determiners' ,'Number of Phrases' ,'NP Ratio' ,'AdvP Ratio',\n",
    " 'AdjP Ratio' ,'PrpP Ratio' ,'VP Ratio', 'Complex Nominals',\n",
    " 'Subordinate Clauses', 'Relative Clauses', 'nsubj',\n",
    " 'amod' ,'Contrast Markers' ,'Negative Affixes' ,'Past Verbs',\n",
    " 'Infinitive Verbs', 'has_passive_voice' ,'negative_polarity',\n",
    " 'positive_polarity', 'avg_synsets' ,'mean_concreteness',\n",
    " 'Named Entity Count']]\n",
    "y_final = data['Misprediction']\n",
    "\n",
    "# Split the data into training and testing sets\n",
    "X_final_train, X_final_test, y_final_train, y_final_test = train_test_split(X_final, y_final, test_size=0.2, random_state=42)\n",
    "\n",
    "# Initialize Classifiers\n",
    "model_final_log = LogisticRegression(max_iter=10000) # Create a logistic regression classifier\n",
    "model_final_rf = RandomForestClassifier() # Create a Random Forest classifier\n",
    "\n",
    "# Fit the models to the training data\n",
    "model_final_log.fit(X_final_train, y_final_train) # Logistic regression\n",
    "model_final_rf.fit(X_final_train, y_final_train) # Random Forest\n",
    "\n",
    "# Set up k-fold cross-validation for logistic regression\n",
    "k = 10  # Number of folds\n",
    "scoring = {'accuracy': make_scorer(accuracy_score), 'f1': make_scorer(f1_score),\n",
    "           'precision': make_scorer(precision_score), 'recall': make_scorer(recall_score)}\n",
    "cv_results_log_final = cross_validate(model_final_log, X_final_train, y_final_train, cv=k, scoring=scoring)\n",
    "\n",
    "# Set up k-fold cross-validation for random forest\n",
    "cv_results_rf_final = cross_validate(model_final_rf, X_final_train, y_final_train, cv=k, scoring=scoring)\n",
    "\n",
    "# Extract the evaluation metrics from the cross-validation results for logistic regression\n",
    "cv_accuracy_scores_log_final = cv_results_log_final['test_accuracy']\n",
    "cv_f1_scores_log_final = cv_results_log_final['test_f1']\n",
    "cv_precision_scores_log_final = cv_results_log_final['test_precision']\n",
    "cv_recall_scores_log_final = cv_results_log_final['test_recall']\n",
    "\n",
    "# Extract the the evaluation metrics from the cross-validation results for random forest\n",
    "cv_accuracy_scores_rf_final = cv_results_rf_final['test_accuracy']\n",
    "cv_f1_scores_rf_final = cv_results_rf_final['test_f1']\n",
    "cv_precision_scores_rf_final = cv_results_rf_final['test_precision']\n",
    "cv_recall_scores_rf_final = cv_results_rf_final['test_recall']\n",
    "\n",
    "# Store the results in a new df\n",
    "final_results_df = pd.DataFrame({\n",
    "    'Classifier': ['Logistic Regression', 'Random Forest'],\n",
    "    'Accuracy': [np.mean(cv_accuracy_scores_log_final), np.mean(cv_accuracy_scores_rf_final)],\n",
    "    'F1 Score': [np.mean(cv_f1_scores_log_final), np.mean(cv_f1_scores_rf_final)],\n",
    "    'Precision': [np.mean(cv_precision_scores_log_final), np.mean(cv_precision_scores_rf_final)],\n",
    "    'Recall': [np.mean(cv_recall_scores_log_final), np.mean(cv_recall_scores_rf_final)]\n",
    "})\n",
    "\n",
    "final_results_df"
   ]
  },
  {
   "cell_type": "code",
   "execution_count": null,
   "id": "8b5e1d4f",
   "metadata": {
    "execution": {
     "iopub.execute_input": "2023-07-31T12:33:42.181032Z",
     "iopub.status.busy": "2023-07-31T12:33:42.178392Z",
     "iopub.status.idle": "2023-07-31T12:33:53.173590Z",
     "shell.execute_reply": "2023-07-31T12:33:53.172298Z",
     "shell.execute_reply.started": "2023-07-31T12:33:42.180982Z"
    },
    "papermill": {
     "duration": null,
     "end_time": null,
     "exception": null,
     "start_time": null,
     "status": "pending"
    },
    "tags": []
   },
   "outputs": [],
   "source": [
    "# Fit the explainer\n",
    "explainer = shap.Explainer(model_final_log.predict, X_final_test)\n",
    "\n",
    "# Calculate the SHAP values \n",
    "shap_values = explainer(X_final_test)"
   ]
  },
  {
   "cell_type": "code",
   "execution_count": null,
   "id": "b6384838",
   "metadata": {
    "execution": {
     "iopub.execute_input": "2023-07-31T12:34:08.975331Z",
     "iopub.status.busy": "2023-07-31T12:34:08.974971Z",
     "iopub.status.idle": "2023-07-31T12:34:11.002560Z",
     "shell.execute_reply": "2023-07-31T12:34:11.001488Z",
     "shell.execute_reply.started": "2023-07-31T12:34:08.975300Z"
    },
    "papermill": {
     "duration": null,
     "end_time": null,
     "exception": null,
     "start_time": null,
     "status": "pending"
    },
    "tags": []
   },
   "outputs": [],
   "source": [
    "# Create a violin plot summarizing the SHAP values\n",
    "shap.summary_plot(shap_values, plot_type='violin', max_display=10)"
   ]
  },
  {
   "cell_type": "markdown",
   "id": "8edfb88d",
   "metadata": {
    "papermill": {
     "duration": null,
     "end_time": null,
     "exception": null,
     "start_time": null,
     "status": "pending"
    },
    "tags": []
   },
   "source": [
    "#### 7B2. Emotion Analysis Task"
   ]
  },
  {
   "cell_type": "code",
   "execution_count": null,
   "id": "5572ae95",
   "metadata": {
    "execution": {
     "iopub.execute_input": "2023-07-31T12:34:33.935646Z",
     "iopub.status.busy": "2023-07-31T12:34:33.935244Z",
     "iopub.status.idle": "2023-07-31T12:34:38.687481Z",
     "shell.execute_reply": "2023-07-31T12:34:38.686381Z",
     "shell.execute_reply.started": "2023-07-31T12:34:33.935615Z"
    },
    "papermill": {
     "duration": null,
     "end_time": null,
     "exception": null,
     "start_time": null,
     "status": "pending"
    },
    "tags": []
   },
   "outputs": [],
   "source": [
    "# Split the data into features (X) and target (y)\n",
    "X_final_em = data_em[['LexDens', 'TTR', 'CTTR', 'VerbVar', 'NounVar', 'AdjVar', 'AdvVar', 'profanity_words', 'Conjunctions', 'Pronouns', 'Auxiliary Verbs', 'Modal Verbs', 'Determiners', 'Number of Phrases', 'NP Ratio', 'AdvP Ratio', 'AdjP Ratio', 'PrpP Ratio', 'VP Ratio', 'Complex Nominals', 'Subordinate Clauses', 'Relative Clauses', 'Contrast Markers', 'Emphatic Markers', 'nsubj', 'amod', 'Concessive Markers', 'Summary Markers', 'Negative Affixes', 'Present Verbs', 'Past Verbs', 'Future Verbs', 'Infinitive Verbs', 'has_passive_voice', 'negative_polarity', 'positive_polarity', 'avg_synsets', 'mean_concreteness', 'Named Entity Count']]\n",
    "y_final_em = data_em['Misprediction']\n",
    "\n",
    "# Split the data into training and testing sets\n",
    "X_final_train_em, X_final_test_em, y_final_train_em, y_final_test_em = train_test_split(X_final_em, y_final_em, test_size=0.2, random_state=42)\n",
    "\n",
    "# Initialize Classifiers\n",
    "model_final_log_em = LogisticRegression(max_iter=10000) # Create a logistic regression classifier\n",
    "model_final_rf_em = RandomForestClassifier() # Create a Random Forest classifier\n",
    "\n",
    "# Fit the models to the training data\n",
    "model_final_log_em.fit(X_final_train_em, y_final_train_em) # Logistic regression\n",
    "model_final_rf_em.fit(X_final_train_em, y_final_train_em) # Random Forest\n",
    "\n",
    "# Set up k-fold cross-validation for logistic regression\n",
    "k = 10  # Number of folds\n",
    "scoring = {'accuracy': make_scorer(accuracy_score), 'f1': make_scorer(f1_score),\n",
    "           'precision': make_scorer(precision_score), 'recall': make_scorer(recall_score)}\n",
    "cv_results_log_final_em = cross_validate(model_final_log_em, X_final_train_em, y_final_train_em, cv=k, scoring=scoring)\n",
    "\n",
    "# Set up k-fold cross-validation for random forest\n",
    "cv_results_rf_final_em = cross_validate(model_final_rf_em, X_final_train_em, y_final_train_em, cv=k, scoring=scoring)\n",
    "\n",
    "# Extract the evaluation metrics results for logistic regression\n",
    "cv_accuracy_scores_log_final_em = cv_results_log_final_em['test_accuracy']\n",
    "cv_f1_scores_log_final_em = cv_results_log_final_em['test_f1']\n",
    "cv_precision_scores_log_final_em = cv_results_log_final_em['test_precision']\n",
    "cv_recall_scores_log_final_em = cv_results_log_final_em['test_recall']\n",
    "\n",
    "# Extract the evaluation metrics from the cross-validation results for random forest\n",
    "cv_accuracy_scores_rf_final_em = cv_results_rf_final_em['test_accuracy']\n",
    "cv_f1_scores_rf_final_em = cv_results_rf_final_em['test_f1']\n",
    "cv_precision_scores_rf_final_em = cv_results_rf_final_em['test_precision']\n",
    "cv_recall_scores_rf_final_em = cv_results_rf_final_em['test_recall']\n",
    "\n",
    "# Store the results in a new df\n",
    "final_results_df_em = pd.DataFrame({\n",
    "    'Classifier': ['Logistic Regression', 'Random Forest'],\n",
    "    'Accuracy': [np.mean(cv_accuracy_scores_log_final_em), np.mean(cv_accuracy_scores_rf_final_em)],\n",
    "    'F1 Score': [np.mean(cv_f1_scores_log_final_em), np.mean(cv_f1_scores_rf_final_em)],\n",
    "    'Precision': [np.mean(cv_precision_scores_log_final_em), np.mean(cv_precision_scores_rf_final_em)],\n",
    "    'Recall': [np.mean(cv_recall_scores_log_final_em), np.mean(cv_recall_scores_rf_final_em)]\n",
    "})\n",
    "\n",
    "final_results_df_em"
   ]
  },
  {
   "cell_type": "code",
   "execution_count": null,
   "id": "8f637e35",
   "metadata": {
    "execution": {
     "iopub.execute_input": "2023-07-31T12:35:01.460497Z",
     "iopub.status.busy": "2023-07-31T12:35:01.460120Z",
     "iopub.status.idle": "2023-07-31T12:35:13.496705Z",
     "shell.execute_reply": "2023-07-31T12:35:13.495256Z",
     "shell.execute_reply.started": "2023-07-31T12:35:01.460466Z"
    },
    "papermill": {
     "duration": null,
     "end_time": null,
     "exception": null,
     "start_time": null,
     "status": "pending"
    },
    "tags": []
   },
   "outputs": [],
   "source": [
    "# Fit the explainer\n",
    "explainer = shap.Explainer(model_final_log_em.predict, X_final_test_em)\n",
    "# Calculate the SHAP values \n",
    "shap_values = explainer(X_final_test_em)\n",
    "\n",
    "# Create a violin plot summarizing the SHAP values\n",
    "shap.summary_plot(shap_values, plot_type='violin', max_display=10)"
   ]
  },
  {
   "cell_type": "markdown",
   "id": "759dd96c",
   "metadata": {
    "papermill": {
     "duration": null,
     "end_time": null,
     "exception": null,
     "start_time": null,
     "status": "pending"
    },
    "tags": []
   },
   "source": [
    "### C. Feature Ablation\n",
    "#### C1. Sentiment Analysis Task"
   ]
  },
  {
   "cell_type": "code",
   "execution_count": null,
   "id": "dd226196",
   "metadata": {
    "execution": {
     "iopub.execute_input": "2023-07-31T12:37:17.884755Z",
     "iopub.status.busy": "2023-07-31T12:37:17.884338Z",
     "iopub.status.idle": "2023-07-31T12:37:39.720214Z",
     "shell.execute_reply": "2023-07-31T12:37:39.719235Z",
     "shell.execute_reply.started": "2023-07-31T12:37:17.884725Z"
    },
    "papermill": {
     "duration": null,
     "end_time": null,
     "exception": null,
     "start_time": null,
     "status": "pending"
    },
    "tags": []
   },
   "outputs": [],
   "source": [
    "# Split the data into features (X) and target (y)\n",
    "X_cor = data[['LexDens', 'TTR', 'CTTR', 'VerbVar', 'NounVar', 'AdjVar', 'AdvVar', 'profanity_words', 'Conjunctions', 'Pronouns', 'Auxiliary Verbs', 'Modal Verbs', 'Determiners', 'Number of Phrases', 'NP Ratio', 'AdvP Ratio', 'AdjP Ratio', 'PrpP Ratio', 'VP Ratio', 'Complex Nominals', 'Subordinate Clauses', 'Relative Clauses', 'Contrast Markers', 'Emphatic Markers', 'nsubj', 'amod', 'Concessive Markers', 'Summary Markers', 'Negative Affixes', 'Present Verbs', 'Past Verbs', 'Future Verbs', 'Infinitive Verbs', 'has_passive_voice', 'negative_polarity', 'positive_polarity', 'avg_synsets', 'mean_concreteness', 'Named Entity Count']]\n",
    "\n",
    "y_cor = data['Misprediction']\n",
    "\n",
    "# Split the data into training and testing sets\n",
    "X_cor_train, X_cor_test, y_cor_train, y_cor_test = train_test_split(X_cor, y_cor, test_size=0.2, random_state=42)\n",
    "\n",
    "# Initialize Classifiers\n",
    "model_cor_log = LogisticRegression(max_iter=10000) # Create a logistic regression classifier\n",
    "model_cor_rf = RandomForestClassifier() # Create a Random Forest classifier\n",
    "\n",
    "# Fit the models to the training data\n",
    "model_cor_log.fit(X_cor_train, y_cor_train) # Logistic regression\n",
    "model_cor_rf.fit(X_cor_train, y_cor_train) # Random Forest\n",
    "\n",
    "# Set up k-fold cross-validation for logistic regression\n",
    "k = 10  # Number of folds\n",
    "scoring = {'accuracy': make_scorer(accuracy_score), 'f1': make_scorer(f1_score)}\n",
    "cv_results_log_cor = cross_validate(model_cor_log, X_cor_train, y_cor_train, cv=k, scoring=scoring)\n",
    "\n",
    "# Set up k-fold cross-validation for random forest\n",
    "cv_results_rf_cor = cross_validate(model_cor_rf, X_cor_train, y_cor_train, cv=k, scoring=scoring)\n",
    "\n",
    "# Extract the evaluation metrics from the cross-validation results for logistic regression\n",
    "cv_accuracy_scores_log_cor = cv_results_log_cor['test_accuracy']\n",
    "cv_f1_scores_log_cor = cv_results_log_cor['test_f1']\n",
    "\n",
    "# Extract the evaluation metrics from the cross-validation results for random forest\n",
    "cv_accuracy_scores_rf_cor = cv_results_rf_cor['test_accuracy']\n",
    "cv_f1_scores_rf_cor = cv_results_rf_cor['test_f1']\n",
    "\n",
    "# Calculate evaluation metrics for logistic regression on the test set\n",
    "precision_log_cor = precision_score(y_cor_test, model_cor_log.predict(X_cor_test))\n",
    "recall_log_cor = recall_score(y_cor_test, model_cor_log.predict(X_cor_test))\n",
    "\n",
    "# Calculate evaluation metric scores for random forest on the test set\n",
    "precision_rf_cor = precision_score(y_cor_test, model_cor_rf.predict(X_cor_test))\n",
    "recall_rf_cor = recall_score(y_cor_test, model_cor_rf.predict(X_cor_test))\n",
    "\n",
    "# Store the results in a new df\n",
    "results_cor = pd.DataFrame({\n",
    "    'Classifier': ['Logistic Regression', 'Random Forest'],\n",
    "    'Accuracy': [np.mean(cv_accuracy_scores_log_cor), np.mean(cv_accuracy_scores_rf_cor)],\n",
    "    'F1 Score': [np.mean(cv_f1_scores_log_cor), np.mean(cv_f1_scores_rf_cor)],\n",
    "    'Precision': [precision_log_cor, precision_rf_cor],\n",
    "    'Recall': [recall_log_cor, recall_rf_cor]\n",
    "})\n",
    "\n",
    "# List of feature names\n",
    "feature_names = X_cor.columns.tolist()\n",
    "\n",
    "# Dictionary to store the results\n",
    "feature_results = {}\n",
    "\n",
    "# Iterate over each feature to ablate\n",
    "for feature in feature_names:\n",
    "    # Iterate over each classifier\n",
    "    for classifier, model in zip(['Logistic Regression', 'Random Forest'], [model_cor_log, model_cor_rf]):\n",
    "        # Create a new model for each ablated feature using clone()\n",
    "        model = clone(model)\n",
    "        \n",
    "        # Check if the feature exists in the input data\n",
    "        if feature not in X_cor_train.columns:\n",
    "            continue\n",
    "\n",
    "        # Remove the feature from the input data\n",
    "        X_train_ablated = X_cor_train.drop(feature, axis=1)\n",
    "        X_test_ablated = X_cor_test.drop(feature, axis=1)\n",
    "\n",
    "        # Train the model\n",
    "        model.fit(X_train_ablated, y_cor_train)\n",
    "\n",
    "        # Evaluate the model on the test set\n",
    "        y_pred = model.predict(X_test_ablated)\n",
    "        classification_rep = classification_report(y_cor_test, y_pred, output_dict=True)\n",
    "        f1_measure = classification_rep['weighted avg']['f1-score']\n",
    "        delta_value = f1_measure - results_cor.loc[results_cor['Classifier'] == classifier, 'F1 Score'].values[0]\n",
    "\n",
    "        # Store the results\n",
    "        if feature not in feature_results:\n",
    "            feature_results[feature] = {}\n",
    "        feature_results[feature][classifier] = {'F1 Measure': f1_measure, 'Delta Value': delta_value}\n",
    "\n",
    "\n",
    "# Create empty lists to store the results\n",
    "feature_list = []\n",
    "classifier_list = []\n",
    "f1_measure_list = []\n",
    "delta_value_list = []\n",
    "\n",
    "# Iterate over the results dictionary\n",
    "for feature, classifier_results in feature_results.items():\n",
    "    for classifier, result in classifier_results.items():\n",
    "        # Append the feature, classifier, F1 measure, and delta value to the respective lists\n",
    "        feature_list.append(feature)\n",
    "        classifier_list.append(classifier)\n",
    "        f1_measure_list.append(result['F1 Measure'])\n",
    "        delta_value_list.append(result['Delta Value'])\n",
    "\n",
    "# Create a dictionary to store the data\n",
    "data_feat_abl = {\n",
    "    'Feature': feature_list,\n",
    "    'Classifier': classifier_list,\n",
    "    'F1 Measure': f1_measure_list,\n",
    "    'Delta Value': delta_value_list\n",
    "}\n",
    "\n",
    "df_ablation = pd.DataFrame(data_feat_abl)\n",
    "df_ablation"
   ]
  },
  {
   "cell_type": "code",
   "execution_count": null,
   "id": "394b1fc0",
   "metadata": {
    "execution": {
     "iopub.execute_input": "2023-07-31T12:38:36.754548Z",
     "iopub.status.busy": "2023-07-31T12:38:36.753622Z",
     "iopub.status.idle": "2023-07-31T12:38:38.083175Z",
     "shell.execute_reply": "2023-07-31T12:38:38.082214Z",
     "shell.execute_reply.started": "2023-07-31T12:38:36.754512Z"
    },
    "papermill": {
     "duration": null,
     "end_time": null,
     "exception": null,
     "start_time": null,
     "status": "pending"
    },
    "tags": []
   },
   "outputs": [],
   "source": [
    "# Sort the features by their delta value in ascending order\n",
    "df_sorted = df_ablation.sort_values(by='Delta Value', ascending=True)\n",
    "\n",
    "# Set the style of the plot\n",
    "sns.set_style(\"whitegrid\")\n",
    "\n",
    "# Plot the F1 scores for each classifier\n",
    "plt.figure(figsize=(10, 6))\n",
    "sns.barplot(data=df_sorted, x=\"Delta Value\", y=\"Feature\", hue=\"Classifier\", palette=\"Set2\")\n",
    "plt.xlabel('Delta Value')\n",
    "plt.ylabel('Feature')\n",
    "plt.title('F1 Scores for Each Classifier (Sorted by Delta Value)')\n",
    "plt.legend(title='Classifier', loc='lower right')\n",
    "\n",
    "# Adjust spacing between y-axis labels\n",
    "plt.subplots_adjust(hspace=0.4)\n",
    "\n",
    "plt.tight_layout()\n",
    "plt.show()"
   ]
  },
  {
   "cell_type": "markdown",
   "id": "ded420cf",
   "metadata": {
    "papermill": {
     "duration": null,
     "end_time": null,
     "exception": null,
     "start_time": null,
     "status": "pending"
    },
    "tags": []
   },
   "source": [
    "#### C2. Emotion Task"
   ]
  },
  {
   "cell_type": "code",
   "execution_count": null,
   "id": "94bf3cc8",
   "metadata": {
    "execution": {
     "iopub.execute_input": "2023-07-31T12:40:10.888356Z",
     "iopub.status.busy": "2023-07-31T12:40:10.887982Z",
     "iopub.status.idle": "2023-07-31T12:40:33.466441Z",
     "shell.execute_reply": "2023-07-31T12:40:33.465370Z",
     "shell.execute_reply.started": "2023-07-31T12:40:10.888324Z"
    },
    "papermill": {
     "duration": null,
     "end_time": null,
     "exception": null,
     "start_time": null,
     "status": "pending"
    },
    "tags": []
   },
   "outputs": [],
   "source": [
    "# Split the data into features (X) and target (y)\n",
    "X_cor_em = data[['LexDens', 'TTR', 'CTTR', 'VerbVar', 'NounVar', 'AdjVar', 'AdvVar', 'profanity_words', 'Conjunctions', 'Pronouns', 'Auxiliary Verbs', 'Modal Verbs', 'Determiners', 'Number of Phrases', 'NP Ratio', 'AdvP Ratio', 'AdjP Ratio', 'PrpP Ratio', 'VP Ratio', 'Complex Nominals', 'Subordinate Clauses', 'Relative Clauses', 'Contrast Markers', 'Emphatic Markers', 'nsubj', 'amod', 'Concessive Markers', 'Summary Markers', 'Negative Affixes', 'Present Verbs', 'Past Verbs', 'Future Verbs', 'Infinitive Verbs', 'has_passive_voice', 'negative_polarity', 'positive_polarity', 'avg_synsets', 'mean_concreteness', 'Named Entity Count']]\n",
    "y_cor_em = data['Misprediction']\n",
    "\n",
    "# Split the data into training and testing sets\n",
    "X_cor_train_em, X_cor_test_em, y_cor_train_em, y_cor_test_em = train_test_split(X_cor_em, y_cor_em, test_size=0.2, random_state=42)\n",
    "\n",
    "# Initialize Classifiers\n",
    "model_cor_log_em = LogisticRegression(max_iter=10000) # Create a logistic regression classifier\n",
    "model_cor_rf_em = RandomForestClassifier() # Create a Random Forest classifier\n",
    "\n",
    "# Fit the models to the training data\n",
    "model_cor_log_em.fit(X_cor_train_em, y_cor_train_em) # Logistic regression\n",
    "model_cor_rf_em.fit(X_cor_train_em, y_cor_train_em) # Random Forest\n",
    "\n",
    "# Set up k-fold cross-validation for logistic regression\n",
    "k = 10  # Number of folds\n",
    "scoring = {'accuracy': make_scorer(accuracy_score), 'f1': make_scorer(f1_score)}\n",
    "cv_results_log_cor_em = cross_validate(model_cor_log_em, X_cor_train_em, y_cor_train_em, cv=k, scoring=scoring)\n",
    "\n",
    "# Set up k-fold cross-validation for random forest\n",
    "cv_results_rf_cor_em = cross_validate(model_cor_rf_em, X_cor_train_em, y_cor_train_em, cv=k, scoring=scoring)\n",
    "\n",
    "# Extract evaluation metrics from the cross-validation results for logistic regression\n",
    "cv_accuracy_scores_log_cor_em = cv_results_log_cor_em['test_accuracy']\n",
    "cv_f1_scores_log_cor_em = cv_results_log_cor_em['test_f1']\n",
    "\n",
    "# Extract evaluation metrics from the cross-validation results for random forest\n",
    "cv_accuracy_scores_rf_cor_em = cv_results_rf_cor_em['test_accuracy']\n",
    "cv_f1_scores_rf_cor_em = cv_results_rf_cor_em['test_f1']\n",
    "\n",
    "# Calculate evaluation metrics for logistic regression on the test set\n",
    "precision_log_cor_em = precision_score(y_cor_test_em, model_cor_log_em.predict(X_cor_test_em))\n",
    "recall_log_cor_em = recall_score(y_cor_test_em, model_cor_log_em.predict(X_cor_test_em))\n",
    "\n",
    "# Calculate evaluation metric scores for random forest on the test set\n",
    "precision_rf_cor_em = precision_score(y_cor_test_em, model_cor_rf_em.predict(X_cor_test_em))\n",
    "recall_rf_cor_em = recall_score(y_cor_test_em, model_cor_rf_em.predict(X_cor_test_em))\n",
    "\n",
    "# Store the resutls in a new df\n",
    "results_cor_em = pd.DataFrame({\n",
    "    'Classifier': ['Logistic Regression', 'Random Forest'],\n",
    "    'Accuracy': [np.mean(cv_accuracy_scores_log_cor_em), np.mean(cv_accuracy_scores_rf_cor_em)],\n",
    "    'F1 Score': [np.mean(cv_f1_scores_log_cor_em), np.mean(cv_f1_scores_rf_cor_em)],\n",
    "    'Precision': [precision_log_cor_em, precision_rf_cor_em],\n",
    "    'Recall': [recall_log_cor_em, recall_rf_cor_em]\n",
    "})\n",
    "\n",
    "# List of feature names\n",
    "feature_names_em = X_cor_em.columns.tolist()\n",
    "\n",
    "# Dictionary to store the results\n",
    "feature_results_em = {}\n",
    "\n",
    "# Iterate over each feature to ablate\n",
    "for feature in feature_names_em:\n",
    "    # Iterate over each classifier\n",
    "    for classifier, model in zip(['Logistic Regression', 'Random Forest'], [model_cor_log_em, model_cor_rf_em]):\n",
    "        # Create a new model for each ablated feature\n",
    "        model = deepcopy(model)\n",
    "        \n",
    "        # Check if the feature exists in the input data\n",
    "        if feature not in X_cor_train_em.columns:\n",
    "            continue\n",
    "\n",
    "        # Remove the feature from the input data\n",
    "        X_train_ablated_em = X_cor_train_em.drop(feature, axis=1)\n",
    "        X_test_ablated_em = X_cor_test_em.drop(feature, axis=1)\n",
    "\n",
    "        # Train the model\n",
    "        model.fit(X_train_ablated_em, y_cor_train_em)\n",
    "\n",
    "        # Evaluate the model on the test set\n",
    "        y_pred_em = model.predict(X_test_ablated_em)\n",
    "        classification_rep_em = classification_report(y_cor_test_em, y_pred_em, output_dict=True)\n",
    "        f1_measure_em = classification_rep_em['weighted avg']['f1-score']\n",
    "        delta_value_em = f1_measure_em - results_cor_em.loc[results_cor_em['Classifier'] == classifier, 'F1 Score'].values[0]\n",
    "\n",
    "        # Store the results\n",
    "        if feature not in feature_results_em:\n",
    "            feature_results_em[feature] = {}\n",
    "        feature_results_em[feature][classifier] = {'F1 Measure': f1_measure_em, 'Delta Value': delta_value_em}\n",
    "\n",
    "# Create empty lists to store the results\n",
    "feature_list_em = []\n",
    "classifier_list_em = []\n",
    "f1_measure_list_em = []\n",
    "delta_value_list_em = []\n",
    "\n",
    "# Iterate over the results dictionary\n",
    "for feature, classifier_results in feature_results_em.items():\n",
    "    for classifier, result in classifier_results.items():\n",
    "        # Append the feature, classifier, F1 measure, and delta value to the respective lists\n",
    "        feature_list_em.append(feature)\n",
    "        classifier_list_em.append(classifier)\n",
    "        f1_measure_list_em.append(result['F1 Measure'])\n",
    "        delta_value_list_em.append(result['Delta Value'])\n",
    "\n",
    "# Create a dictionary to store the data\n",
    "data_feat_abl_em = {\n",
    "    'Feature': feature_list_em,\n",
    "    'Classifier': classifier_list_em,\n",
    "    'F1 Measure': f1_measure_list_em,\n",
    "    'Delta Value': delta_value_list_em\n",
    "}\n",
    "\n",
    "df_ablation_em = pd.DataFrame(data_feat_abl_em)\n",
    "df_ablation_em"
   ]
  },
  {
   "cell_type": "code",
   "execution_count": null,
   "id": "cbd165e3",
   "metadata": {
    "execution": {
     "iopub.execute_input": "2023-07-31T12:43:39.788823Z",
     "iopub.status.busy": "2023-07-31T12:43:39.788403Z",
     "iopub.status.idle": "2023-07-31T12:43:40.842535Z",
     "shell.execute_reply": "2023-07-31T12:43:40.841346Z",
     "shell.execute_reply.started": "2023-07-31T12:43:39.788790Z"
    },
    "papermill": {
     "duration": null,
     "end_time": null,
     "exception": null,
     "start_time": null,
     "status": "pending"
    },
    "tags": []
   },
   "outputs": [],
   "source": [
    "# Sort the features by their delta value in ascending order\n",
    "df_sorted_em = df_ablation_em.sort_values(by='Delta Value', ascending=True)\n",
    "\n",
    "# Set the style of the plot\n",
    "sns.set_style(\"whitegrid\")\n",
    "\n",
    "# Plot the F1 scores for each classifier\n",
    "plt.figure(figsize=(10, 6))\n",
    "sns.barplot(data=df_sorted_em, x=\"Delta Value\", y=\"Feature\", hue=\"Classifier\", palette=\"Set2\")\n",
    "plt.xlabel('Delta Value')\n",
    "plt.ylabel('Feature')\n",
    "plt.title('F1 Scores for Each Classifier (Sorted by Delta Value)')\n",
    "plt.legend(title='Classifier', loc='lower right')\n",
    "\n",
    "# Adjust spacing between y-axis labels\n",
    "plt.subplots_adjust(hspace=0.4)\n",
    "\n",
    "plt.tight_layout()\n",
    "plt.show()"
   ]
  },
  {
   "cell_type": "markdown",
   "id": "45c9b23b",
   "metadata": {
    "papermill": {
     "duration": null,
     "end_time": null,
     "exception": null,
     "start_time": null,
     "status": "pending"
    },
    "tags": []
   },
   "source": [
    "# PART 8: \n",
    "## INSIGHTS INTO MODEL'S UNCERTAINTY\n",
    "### Linear Regression\n",
    "#### 8.1) Sentiment Analysis Task"
   ]
  },
  {
   "cell_type": "code",
   "execution_count": null,
   "id": "81fbecbe",
   "metadata": {
    "execution": {
     "iopub.execute_input": "2023-07-31T12:48:51.410145Z",
     "iopub.status.busy": "2023-07-31T12:48:51.409779Z",
     "iopub.status.idle": "2023-07-31T12:48:51.425407Z",
     "shell.execute_reply": "2023-07-31T12:48:51.424266Z",
     "shell.execute_reply.started": "2023-07-31T12:48:51.410115Z"
    },
    "papermill": {
     "duration": null,
     "end_time": null,
     "exception": null,
     "start_time": null,
     "status": "pending"
    },
    "tags": []
   },
   "outputs": [],
   "source": [
    "# Extract only the mispredicted examples (labeled with 1)\n",
    "df_prob = data[data['Misprediction'] == 1]\n",
    "\n",
    "# Specify specific features from df_prob\n",
    "X = df_prob[['Relative Clauses', 'Contrast Markers','CTTR', 'Number of Phrases','nsubj', 'amod', 'VP Ratio', 'LexDens', 'TTR']]\n",
    "\n",
    "y = df_prob['Probability']\n",
    "\n",
    "# Create a linear regression model\n",
    "model = LinearRegression()\n",
    "\n",
    "# Fit the linear regression model to the training data\n",
    "model.fit(X, y)\n",
    "\n",
    "# Extract the coefficients and intercept\n",
    "coefficients = model.coef_\n",
    "intercept = model.intercept_\n",
    "\n",
    "# Print the coefficients and intercept\n",
    "print(\"Coefficients:\", coefficients)\n",
    "print(\"Intercept:\", intercept)"
   ]
  },
  {
   "cell_type": "code",
   "execution_count": null,
   "id": "19076ebf",
   "metadata": {
    "execution": {
     "iopub.execute_input": "2023-07-31T12:48:59.088243Z",
     "iopub.status.busy": "2023-07-31T12:48:59.087874Z",
     "iopub.status.idle": "2023-07-31T12:48:59.113960Z",
     "shell.execute_reply": "2023-07-31T12:48:59.113039Z",
     "shell.execute_reply.started": "2023-07-31T12:48:59.088214Z"
    },
    "papermill": {
     "duration": null,
     "end_time": null,
     "exception": null,
     "start_time": null,
     "status": "pending"
    },
    "tags": []
   },
   "outputs": [],
   "source": [
    "# Add a constant column to the feature matrix\n",
    "X = sm.add_constant(X)\n",
    "\n",
    "# Create a model\n",
    "model = sm.OLS(y, X)\n",
    "\n",
    "# Fit the model to the data\n",
    "results = model.fit()\n",
    "\n",
    "# Print the summary report\n",
    "print(results.summary())"
   ]
  },
  {
   "cell_type": "markdown",
   "id": "b6f2baa5",
   "metadata": {
    "papermill": {
     "duration": null,
     "end_time": null,
     "exception": null,
     "start_time": null,
     "status": "pending"
    },
    "tags": []
   },
   "source": [
    "#### 8.2) Emotion Analysis Task"
   ]
  },
  {
   "cell_type": "code",
   "execution_count": null,
   "id": "80d2e740",
   "metadata": {
    "execution": {
     "iopub.execute_input": "2023-07-31T12:49:20.420691Z",
     "iopub.status.busy": "2023-07-31T12:49:20.420081Z",
     "iopub.status.idle": "2023-07-31T12:49:20.438460Z",
     "shell.execute_reply": "2023-07-31T12:49:20.437265Z",
     "shell.execute_reply.started": "2023-07-31T12:49:20.420648Z"
    },
    "papermill": {
     "duration": null,
     "end_time": null,
     "exception": null,
     "start_time": null,
     "status": "pending"
    },
    "tags": []
   },
   "outputs": [],
   "source": [
    "# Extract only the mispredicted examples (labeled with 1) from df_prob_em\n",
    "df_prob_em = data_em[data_em['Misprediction'] == 1]\n",
    "\n",
    "# Specify specific features from df_prob_em\n",
    "X_em = df_prob_em[['negative_polarity','VerbVar', 'NounVar', 'Past Verbs', 'PrpP Ratio', 'AdvP Ratio','avg_synsets', 'nsubj', 'amod']]\n",
    "\n",
    "y_em = df_prob_em['Probability']\n",
    "\n",
    "# Create an instance of LinearRegression\n",
    "model_em = LinearRegression()\n",
    "\n",
    "# Fit the model to the training data\n",
    "model_em.fit(X_em, y_em)\n",
    "\n",
    "# Extract the coefficients and intercept\n",
    "coefficients_em = model_em.coef_\n",
    "intercept_em = model_em.intercept_\n",
    "\n",
    "# Print the coefficients and intercept\n",
    "print(\"Coefficients:\", coefficients_em)\n",
    "print(\"Intercept:\", intercept_em)"
   ]
  },
  {
   "cell_type": "code",
   "execution_count": null,
   "id": "5fbb5908",
   "metadata": {
    "execution": {
     "iopub.execute_input": "2023-07-31T12:49:26.841162Z",
     "iopub.status.busy": "2023-07-31T12:49:26.840792Z",
     "iopub.status.idle": "2023-07-31T12:49:27.163487Z",
     "shell.execute_reply": "2023-07-31T12:49:27.162356Z",
     "shell.execute_reply.started": "2023-07-31T12:49:26.841131Z"
    },
    "papermill": {
     "duration": null,
     "end_time": null,
     "exception": null,
     "start_time": null,
     "status": "pending"
    },
    "tags": []
   },
   "outputs": [],
   "source": [
    "# Fit the linear regression model\n",
    "X_em = sm.add_constant(X_em)\n",
    "model_em = sm.OLS(y_em, X_em)\n",
    "results_em = model_em.fit()\n",
    "\n",
    "# Extract significant coefficients\n",
    "significant_coeffs_em = results_em.params[results_em.pvalues < 0.05]\n",
    "\n",
    "# Exclude the constant term from the plot\n",
    "significant_coeffs_em = significant_coeffs_em[1:]\n",
    "\n",
    "# Determine colors based on coefficient direction\n",
    "colors = ['tab:red' if c < 0 else 'tab:cyan' for c in significant_coeffs_em]\n",
    "\n",
    "# Plot significant coefficients with colors\n",
    "plt.figure(figsize=(8, 6))\n",
    "plt.barh(significant_coeffs_em.index, significant_coeffs_em.values, color=colors)\n",
    "plt.xlabel('Coefficient Value')\n",
    "plt.ylabel('Variable')\n",
    "plt.title('Significant Coefficients')\n",
    "plt.show()"
   ]
  },
  {
   "cell_type": "markdown",
   "id": "a10ab6d3",
   "metadata": {
    "papermill": {
     "duration": null,
     "end_time": null,
     "exception": null,
     "start_time": null,
     "status": "pending"
    },
    "tags": []
   },
   "source": [
    "# PART 9: \n",
    "## IMPROVING MODEL'S ACCURACY\n",
    "#### 9.1) Sentiment Analysis Task"
   ]
  },
  {
   "cell_type": "code",
   "execution_count": null,
   "id": "42e3ed47",
   "metadata": {
    "papermill": {
     "duration": null,
     "end_time": null,
     "exception": null,
     "start_time": null,
     "status": "pending"
    },
    "tags": []
   },
   "outputs": [],
   "source": [
    "# List of words to remove\n",
    "words_to_remove = ['however', 'nevertheless', 'yet', 'in contrast',\n",
    "                   'despite', 'although', 'even though', 'but']\n",
    "\n",
    "# Function for removing the specified contrast markers using regex\n",
    "def remove_words(text):\n",
    "    for word in words_to_remove:\n",
    "        pattern = r'\\b' + re.escape(word) + r'\\b'  # Create regex pattern with word boundaries\n",
    "        text = re.sub(pattern, '', text, flags=re.IGNORECASE)  # Remove the word from the text\n",
    "    return text"
   ]
  },
  {
   "cell_type": "markdown",
   "id": "06e9c4e9",
   "metadata": {
    "papermill": {
     "duration": null,
     "end_time": null,
     "exception": null,
     "start_time": null,
     "status": "pending"
    },
    "tags": []
   },
   "source": [
    "#### 9.2) Emotion Analysis Task"
   ]
  },
  {
   "cell_type": "code",
   "execution_count": null,
   "id": "4f693c46",
   "metadata": {
    "papermill": {
     "duration": null,
     "end_time": null,
     "exception": null,
     "start_time": null,
     "status": "pending"
    },
    "tags": []
   },
   "outputs": [],
   "source": [
    "# Function for substituting nouns with their most basic sysnonym in WordNet\n",
    "def substitute_words_with_easier(text):\n",
    "    tokens = nltk.word_tokenize(text)\n",
    "    pos_tags = nltk.pos_tag(tokens)\n",
    "    \n",
    "    modified_tokens = []\n",
    "    for token, pos in pos_tags:\n",
    "        if pos.startswith('NN'):\n",
    "            synsets = wordnet.synsets(token, pos='n')\n",
    "            if synsets:\n",
    "                easy_word = synsets[0].lemmas()[0].name()\n",
    "                modified_tokens.append(easy_word)\n",
    "            else:\n",
    "                modified_tokens.append(token)\n",
    "        elif pos.startswith('VB'):\n",
    "            synsets = wordnet.synsets(token, pos='v')\n",
    "            if synsets:\n",
    "                easy_word = synsets[0].lemmas()[0].name()\n",
    "                modified_tokens.append(easy_word)\n",
    "            else:\n",
    "                modified_tokens.append(token)\n",
    "        else:\n",
    "            modified_tokens.append(token)\n",
    "    \n",
    "    modified_text = ' '.join(modified_tokens)\n",
    "    return modified_text"
   ]
  }
 ],
 "metadata": {
  "kernelspec": {
   "display_name": "Python 3",
   "language": "python",
   "name": "python3"
  },
  "language_info": {
   "codemirror_mode": {
    "name": "ipython",
    "version": 3
   },
   "file_extension": ".py",
   "mimetype": "text/x-python",
   "name": "python",
   "nbconvert_exporter": "python",
   "pygments_lexer": "ipython3",
   "version": "3.10.12"
  },
  "papermill": {
   "default_parameters": {},
   "duration": 2788.848168,
   "end_time": "2023-07-31T16:05:32.334458",
   "environment_variables": {},
   "exception": true,
   "input_path": "__notebook__.ipynb",
   "output_path": "__notebook__.ipynb",
   "parameters": {},
   "start_time": "2023-07-31T15:19:03.486290",
   "version": "2.4.0"
  },
  "widgets": {
   "application/vnd.jupyter.widget-state+json": {
    "state": {
     "01e4c9a8d08d407bbe88b8a5490bddea": {
      "model_module": "@jupyter-widgets/controls",
      "model_module_version": "1.5.0",
      "model_name": "ProgressStyleModel",
      "state": {
       "_model_module": "@jupyter-widgets/controls",
       "_model_module_version": "1.5.0",
       "_model_name": "ProgressStyleModel",
       "_view_count": null,
       "_view_module": "@jupyter-widgets/base",
       "_view_module_version": "1.2.0",
       "_view_name": "StyleView",
       "bar_color": null,
       "description_width": ""
      }
     },
     "01ed9847a6854c2cbcae88d7fde7d851": {
      "model_module": "@jupyter-widgets/controls",
      "model_module_version": "1.5.0",
      "model_name": "HBoxModel",
      "state": {
       "_dom_classes": [],
       "_model_module": "@jupyter-widgets/controls",
       "_model_module_version": "1.5.0",
       "_model_name": "HBoxModel",
       "_view_count": null,
       "_view_module": "@jupyter-widgets/controls",
       "_view_module_version": "1.5.0",
       "_view_name": "HBoxView",
       "box_style": "",
       "children": [
        "IPY_MODEL_da149ab0317e415d8853bfc0775a05ac",
        "IPY_MODEL_a7faae780da2455ab3db911f0e5b82d8",
        "IPY_MODEL_2344d45f065b490883d208db827ce9d6"
       ],
       "layout": "IPY_MODEL_d2850e73b245495cb204fc97098837d2"
      }
     },
     "032fb280b1e3452ba6eebfa3eb7bddb7": {
      "model_module": "@jupyter-widgets/controls",
      "model_module_version": "1.5.0",
      "model_name": "HBoxModel",
      "state": {
       "_dom_classes": [],
       "_model_module": "@jupyter-widgets/controls",
       "_model_module_version": "1.5.0",
       "_model_name": "HBoxModel",
       "_view_count": null,
       "_view_module": "@jupyter-widgets/controls",
       "_view_module_version": "1.5.0",
       "_view_name": "HBoxView",
       "box_style": "",
       "children": [
        "IPY_MODEL_1b0576f462aa4bba8286f564d98188e3",
        "IPY_MODEL_896e3ce8c13646b6a5c613c3c557420c",
        "IPY_MODEL_b819a2d1d1f843ebabc8c40aabac63e9"
       ],
       "layout": "IPY_MODEL_de008d729ab8431b8a514030f377bd9e"
      }
     },
     "074835bcf9154df591a611c7078a8d96": {
      "model_module": "@jupyter-widgets/base",
      "model_module_version": "1.2.0",
      "model_name": "LayoutModel",
      "state": {
       "_model_module": "@jupyter-widgets/base",
       "_model_module_version": "1.2.0",
       "_model_name": "LayoutModel",
       "_view_count": null,
       "_view_module": "@jupyter-widgets/base",
       "_view_module_version": "1.2.0",
       "_view_name": "LayoutView",
       "align_content": null,
       "align_items": null,
       "align_self": null,
       "border": null,
       "bottom": null,
       "display": null,
       "flex": null,
       "flex_flow": null,
       "grid_area": null,
       "grid_auto_columns": null,
       "grid_auto_flow": null,
       "grid_auto_rows": null,
       "grid_column": null,
       "grid_gap": null,
       "grid_row": null,
       "grid_template_areas": null,
       "grid_template_columns": null,
       "grid_template_rows": null,
       "height": null,
       "justify_content": null,
       "justify_items": null,
       "left": null,
       "margin": null,
       "max_height": null,
       "max_width": null,
       "min_height": null,
       "min_width": null,
       "object_fit": null,
       "object_position": null,
       "order": null,
       "overflow": null,
       "overflow_x": null,
       "overflow_y": null,
       "padding": null,
       "right": null,
       "top": null,
       "visibility": null,
       "width": null
      }
     },
     "074eee2671dc4262a263ea1225748f9c": {
      "model_module": "@jupyter-widgets/controls",
      "model_module_version": "1.5.0",
      "model_name": "DescriptionStyleModel",
      "state": {
       "_model_module": "@jupyter-widgets/controls",
       "_model_module_version": "1.5.0",
       "_model_name": "DescriptionStyleModel",
       "_view_count": null,
       "_view_module": "@jupyter-widgets/base",
       "_view_module_version": "1.2.0",
       "_view_name": "StyleView",
       "description_width": ""
      }
     },
     "0d77efff683742dc94fb7d0559e0fcdf": {
      "model_module": "@jupyter-widgets/base",
      "model_module_version": "1.2.0",
      "model_name": "LayoutModel",
      "state": {
       "_model_module": "@jupyter-widgets/base",
       "_model_module_version": "1.2.0",
       "_model_name": "LayoutModel",
       "_view_count": null,
       "_view_module": "@jupyter-widgets/base",
       "_view_module_version": "1.2.0",
       "_view_name": "LayoutView",
       "align_content": null,
       "align_items": null,
       "align_self": null,
       "border": null,
       "bottom": null,
       "display": null,
       "flex": null,
       "flex_flow": null,
       "grid_area": null,
       "grid_auto_columns": null,
       "grid_auto_flow": null,
       "grid_auto_rows": null,
       "grid_column": null,
       "grid_gap": null,
       "grid_row": null,
       "grid_template_areas": null,
       "grid_template_columns": null,
       "grid_template_rows": null,
       "height": null,
       "justify_content": null,
       "justify_items": null,
       "left": null,
       "margin": null,
       "max_height": null,
       "max_width": null,
       "min_height": null,
       "min_width": null,
       "object_fit": null,
       "object_position": null,
       "order": null,
       "overflow": null,
       "overflow_x": null,
       "overflow_y": null,
       "padding": null,
       "right": null,
       "top": null,
       "visibility": null,
       "width": null
      }
     },
     "0f99199e7b734ace80a6762f0653e9ac": {
      "model_module": "@jupyter-widgets/controls",
      "model_module_version": "1.5.0",
      "model_name": "HTMLModel",
      "state": {
       "_dom_classes": [],
       "_model_module": "@jupyter-widgets/controls",
       "_model_module_version": "1.5.0",
       "_model_name": "HTMLModel",
       "_view_count": null,
       "_view_module": "@jupyter-widgets/controls",
       "_view_module_version": "1.5.0",
       "_view_name": "HTMLView",
       "description": "",
       "description_tooltip": null,
       "layout": "IPY_MODEL_5cb2b23771254f0993ff0e87a853fdff",
       "placeholder": "​",
       "style": "IPY_MODEL_7291a23c1fee486eb40925c9e5e48779",
       "value": " 15021/15021 [00:15&lt;00:00, 1063.30ex/s]"
      }
     },
     "187e06b888224508b6068b3302b3fb03": {
      "model_module": "@jupyter-widgets/controls",
      "model_module_version": "1.5.0",
      "model_name": "DescriptionStyleModel",
      "state": {
       "_model_module": "@jupyter-widgets/controls",
       "_model_module_version": "1.5.0",
       "_model_name": "DescriptionStyleModel",
       "_view_count": null,
       "_view_module": "@jupyter-widgets/base",
       "_view_module_version": "1.2.0",
       "_view_name": "StyleView",
       "description_width": ""
      }
     },
     "1b0576f462aa4bba8286f564d98188e3": {
      "model_module": "@jupyter-widgets/controls",
      "model_module_version": "1.5.0",
      "model_name": "HTMLModel",
      "state": {
       "_dom_classes": [],
       "_model_module": "@jupyter-widgets/controls",
       "_model_module_version": "1.5.0",
       "_model_name": "HTMLModel",
       "_view_count": null,
       "_view_module": "@jupyter-widgets/controls",
       "_view_module_version": "1.5.0",
       "_view_name": "HTMLView",
       "description": "",
       "description_tooltip": null,
       "layout": "IPY_MODEL_dbc0131350964167b07428d91f147225",
       "placeholder": "​",
       "style": "IPY_MODEL_bd7b544648e9429b91a65d5db10e1e3c",
       "value": "Downloading (…)lve/main/config.json: 100%"
      }
     },
     "1c5968f8bf70468db0a8e804461e0d73": {
      "model_module": "@jupyter-widgets/base",
      "model_module_version": "1.2.0",
      "model_name": "LayoutModel",
      "state": {
       "_model_module": "@jupyter-widgets/base",
       "_model_module_version": "1.2.0",
       "_model_name": "LayoutModel",
       "_view_count": null,
       "_view_module": "@jupyter-widgets/base",
       "_view_module_version": "1.2.0",
       "_view_name": "LayoutView",
       "align_content": null,
       "align_items": null,
       "align_self": null,
       "border": null,
       "bottom": null,
       "display": null,
       "flex": null,
       "flex_flow": null,
       "grid_area": null,
       "grid_auto_columns": null,
       "grid_auto_flow": null,
       "grid_auto_rows": null,
       "grid_column": null,
       "grid_gap": null,
       "grid_row": null,
       "grid_template_areas": null,
       "grid_template_columns": null,
       "grid_template_rows": null,
       "height": null,
       "justify_content": null,
       "justify_items": null,
       "left": null,
       "margin": null,
       "max_height": null,
       "max_width": null,
       "min_height": null,
       "min_width": null,
       "object_fit": null,
       "object_position": null,
       "order": null,
       "overflow": null,
       "overflow_x": null,
       "overflow_y": null,
       "padding": null,
       "right": null,
       "top": null,
       "visibility": null,
       "width": null
      }
     },
     "1e6e70ac75c24798a22061a11293742d": {
      "model_module": "@jupyter-widgets/controls",
      "model_module_version": "1.5.0",
      "model_name": "HTMLModel",
      "state": {
       "_dom_classes": [],
       "_model_module": "@jupyter-widgets/controls",
       "_model_module_version": "1.5.0",
       "_model_name": "HTMLModel",
       "_view_count": null,
       "_view_module": "@jupyter-widgets/controls",
       "_view_module_version": "1.5.0",
       "_view_name": "HTMLView",
       "description": "",
       "description_tooltip": null,
       "layout": "IPY_MODEL_91fba9a8b7ff4b40a637d912b81179f4",
       "placeholder": "​",
       "style": "IPY_MODEL_aac6cda36bcb4762938035b13583734d",
       "value": " 28.0/28.0 [00:00&lt;00:00, 2.17kB/s]"
      }
     },
     "20719b1bbf554755a14852e6814de9cf": {
      "model_module": "@jupyter-widgets/controls",
      "model_module_version": "1.5.0",
      "model_name": "DescriptionStyleModel",
      "state": {
       "_model_module": "@jupyter-widgets/controls",
       "_model_module_version": "1.5.0",
       "_model_name": "DescriptionStyleModel",
       "_view_count": null,
       "_view_module": "@jupyter-widgets/base",
       "_view_module_version": "1.2.0",
       "_view_name": "StyleView",
       "description_width": ""
      }
     },
     "20f546aa6fe344099a4081200cbdcd01": {
      "model_module": "@jupyter-widgets/base",
      "model_module_version": "1.2.0",
      "model_name": "LayoutModel",
      "state": {
       "_model_module": "@jupyter-widgets/base",
       "_model_module_version": "1.2.0",
       "_model_name": "LayoutModel",
       "_view_count": null,
       "_view_module": "@jupyter-widgets/base",
       "_view_module_version": "1.2.0",
       "_view_name": "LayoutView",
       "align_content": null,
       "align_items": null,
       "align_self": null,
       "border": null,
       "bottom": null,
       "display": null,
       "flex": null,
       "flex_flow": null,
       "grid_area": null,
       "grid_auto_columns": null,
       "grid_auto_flow": null,
       "grid_auto_rows": null,
       "grid_column": null,
       "grid_gap": null,
       "grid_row": null,
       "grid_template_areas": null,
       "grid_template_columns": null,
       "grid_template_rows": null,
       "height": null,
       "justify_content": null,
       "justify_items": null,
       "left": null,
       "margin": null,
       "max_height": null,
       "max_width": null,
       "min_height": null,
       "min_width": null,
       "object_fit": null,
       "object_position": null,
       "order": null,
       "overflow": null,
       "overflow_x": null,
       "overflow_y": null,
       "padding": null,
       "right": null,
       "top": null,
       "visibility": null,
       "width": null
      }
     },
     "2155cb14516449b98b9842eea5ba8b2c": {
      "model_module": "@jupyter-widgets/base",
      "model_module_version": "1.2.0",
      "model_name": "LayoutModel",
      "state": {
       "_model_module": "@jupyter-widgets/base",
       "_model_module_version": "1.2.0",
       "_model_name": "LayoutModel",
       "_view_count": null,
       "_view_module": "@jupyter-widgets/base",
       "_view_module_version": "1.2.0",
       "_view_name": "LayoutView",
       "align_content": null,
       "align_items": null,
       "align_self": null,
       "border": null,
       "bottom": null,
       "display": null,
       "flex": null,
       "flex_flow": null,
       "grid_area": null,
       "grid_auto_columns": null,
       "grid_auto_flow": null,
       "grid_auto_rows": null,
       "grid_column": null,
       "grid_gap": null,
       "grid_row": null,
       "grid_template_areas": null,
       "grid_template_columns": null,
       "grid_template_rows": null,
       "height": null,
       "justify_content": null,
       "justify_items": null,
       "left": null,
       "margin": null,
       "max_height": null,
       "max_width": null,
       "min_height": null,
       "min_width": null,
       "object_fit": null,
       "object_position": null,
       "order": null,
       "overflow": null,
       "overflow_x": null,
       "overflow_y": null,
       "padding": null,
       "right": null,
       "top": null,
       "visibility": null,
       "width": null
      }
     },
     "2344d45f065b490883d208db827ce9d6": {
      "model_module": "@jupyter-widgets/controls",
      "model_module_version": "1.5.0",
      "model_name": "HTMLModel",
      "state": {
       "_dom_classes": [],
       "_model_module": "@jupyter-widgets/controls",
       "_model_module_version": "1.5.0",
       "_model_name": "HTMLModel",
       "_view_count": null,
       "_view_module": "@jupyter-widgets/controls",
       "_view_module_version": "1.5.0",
       "_view_name": "HTMLView",
       "description": "",
       "description_tooltip": null,
       "layout": "IPY_MODEL_20f546aa6fe344099a4081200cbdcd01",
       "placeholder": "​",
       "style": "IPY_MODEL_de58421185e84549907161a9760a9f62",
       "value": " 232k/232k [00:00&lt;00:00, 3.69MB/s]"
      }
     },
     "254116a5e9864b158dab281a069217cd": {
      "model_module": "@jupyter-widgets/controls",
      "model_module_version": "1.5.0",
      "model_name": "ProgressStyleModel",
      "state": {
       "_model_module": "@jupyter-widgets/controls",
       "_model_module_version": "1.5.0",
       "_model_name": "ProgressStyleModel",
       "_view_count": null,
       "_view_module": "@jupyter-widgets/base",
       "_view_module_version": "1.2.0",
       "_view_name": "StyleView",
       "bar_color": null,
       "description_width": ""
      }
     },
     "2b1965fda1154f7fb8df01cd088264da": {
      "model_module": "@jupyter-widgets/controls",
      "model_module_version": "1.5.0",
      "model_name": "DescriptionStyleModel",
      "state": {
       "_model_module": "@jupyter-widgets/controls",
       "_model_module_version": "1.5.0",
       "_model_name": "DescriptionStyleModel",
       "_view_count": null,
       "_view_module": "@jupyter-widgets/base",
       "_view_module_version": "1.2.0",
       "_view_name": "StyleView",
       "description_width": ""
      }
     },
     "2c42260dda974342a5bde3fe0f24f1df": {
      "model_module": "@jupyter-widgets/controls",
      "model_module_version": "1.5.0",
      "model_name": "ProgressStyleModel",
      "state": {
       "_model_module": "@jupyter-widgets/controls",
       "_model_module_version": "1.5.0",
       "_model_name": "ProgressStyleModel",
       "_view_count": null,
       "_view_module": "@jupyter-widgets/base",
       "_view_module_version": "1.2.0",
       "_view_name": "StyleView",
       "bar_color": null,
       "description_width": ""
      }
     },
     "2c5662f14cb64485ad6ab036eccc3752": {
      "model_module": "@jupyter-widgets/controls",
      "model_module_version": "1.5.0",
      "model_name": "FloatProgressModel",
      "state": {
       "_dom_classes": [],
       "_model_module": "@jupyter-widgets/controls",
       "_model_module_version": "1.5.0",
       "_model_name": "FloatProgressModel",
       "_view_count": null,
       "_view_module": "@jupyter-widgets/controls",
       "_view_module_version": "1.5.0",
       "_view_name": "ProgressView",
       "bar_style": "success",
       "description": "",
       "description_tooltip": null,
       "layout": "IPY_MODEL_4db093f469f6478d82f5b22966c88848",
       "max": 15021.0,
       "min": 0.0,
       "orientation": "horizontal",
       "style": "IPY_MODEL_41589be0d4e44ca6b50b9ef6bebc1e34",
       "value": 15021.0
      }
     },
     "2d8517e28a68418587c1f326ccdf70ff": {
      "model_module": "@jupyter-widgets/base",
      "model_module_version": "1.2.0",
      "model_name": "LayoutModel",
      "state": {
       "_model_module": "@jupyter-widgets/base",
       "_model_module_version": "1.2.0",
       "_model_name": "LayoutModel",
       "_view_count": null,
       "_view_module": "@jupyter-widgets/base",
       "_view_module_version": "1.2.0",
       "_view_name": "LayoutView",
       "align_content": null,
       "align_items": null,
       "align_self": null,
       "border": null,
       "bottom": null,
       "display": null,
       "flex": null,
       "flex_flow": null,
       "grid_area": null,
       "grid_auto_columns": null,
       "grid_auto_flow": null,
       "grid_auto_rows": null,
       "grid_column": null,
       "grid_gap": null,
       "grid_row": null,
       "grid_template_areas": null,
       "grid_template_columns": null,
       "grid_template_rows": null,
       "height": null,
       "justify_content": null,
       "justify_items": null,
       "left": null,
       "margin": null,
       "max_height": null,
       "max_width": null,
       "min_height": null,
       "min_width": null,
       "object_fit": null,
       "object_position": null,
       "order": null,
       "overflow": null,
       "overflow_x": null,
       "overflow_y": null,
       "padding": null,
       "right": null,
       "top": null,
       "visibility": null,
       "width": null
      }
     },
     "2f434ce6934241e083e7f1e8c61883be": {
      "model_module": "@jupyter-widgets/base",
      "model_module_version": "1.2.0",
      "model_name": "LayoutModel",
      "state": {
       "_model_module": "@jupyter-widgets/base",
       "_model_module_version": "1.2.0",
       "_model_name": "LayoutModel",
       "_view_count": null,
       "_view_module": "@jupyter-widgets/base",
       "_view_module_version": "1.2.0",
       "_view_name": "LayoutView",
       "align_content": null,
       "align_items": null,
       "align_self": null,
       "border": null,
       "bottom": null,
       "display": null,
       "flex": null,
       "flex_flow": null,
       "grid_area": null,
       "grid_auto_columns": null,
       "grid_auto_flow": null,
       "grid_auto_rows": null,
       "grid_column": null,
       "grid_gap": null,
       "grid_row": null,
       "grid_template_areas": null,
       "grid_template_columns": null,
       "grid_template_rows": null,
       "height": null,
       "justify_content": null,
       "justify_items": null,
       "left": null,
       "margin": null,
       "max_height": null,
       "max_width": null,
       "min_height": null,
       "min_width": null,
       "object_fit": null,
       "object_position": null,
       "order": null,
       "overflow": null,
       "overflow_x": null,
       "overflow_y": null,
       "padding": null,
       "right": null,
       "top": null,
       "visibility": null,
       "width": null
      }
     },
     "307ca46f029049aa83c5dcb2831f868f": {
      "model_module": "@jupyter-widgets/controls",
      "model_module_version": "1.5.0",
      "model_name": "DescriptionStyleModel",
      "state": {
       "_model_module": "@jupyter-widgets/controls",
       "_model_module_version": "1.5.0",
       "_model_name": "DescriptionStyleModel",
       "_view_count": null,
       "_view_module": "@jupyter-widgets/base",
       "_view_module_version": "1.2.0",
       "_view_name": "StyleView",
       "description_width": ""
      }
     },
     "3213bac6311f4e4ebdcf1c4463de8053": {
      "model_module": "@jupyter-widgets/controls",
      "model_module_version": "1.5.0",
      "model_name": "DescriptionStyleModel",
      "state": {
       "_model_module": "@jupyter-widgets/controls",
       "_model_module_version": "1.5.0",
       "_model_name": "DescriptionStyleModel",
       "_view_count": null,
       "_view_module": "@jupyter-widgets/base",
       "_view_module_version": "1.2.0",
       "_view_name": "StyleView",
       "description_width": ""
      }
     },
     "321fcd83a89d400695a5fe8fc05aca5d": {
      "model_module": "@jupyter-widgets/controls",
      "model_module_version": "1.5.0",
      "model_name": "DescriptionStyleModel",
      "state": {
       "_model_module": "@jupyter-widgets/controls",
       "_model_module_version": "1.5.0",
       "_model_name": "DescriptionStyleModel",
       "_view_count": null,
       "_view_module": "@jupyter-widgets/base",
       "_view_module_version": "1.2.0",
       "_view_name": "StyleView",
       "description_width": ""
      }
     },
     "34bcda8b972d4c56a18c49b9038a1611": {
      "model_module": "@jupyter-widgets/base",
      "model_module_version": "1.2.0",
      "model_name": "LayoutModel",
      "state": {
       "_model_module": "@jupyter-widgets/base",
       "_model_module_version": "1.2.0",
       "_model_name": "LayoutModel",
       "_view_count": null,
       "_view_module": "@jupyter-widgets/base",
       "_view_module_version": "1.2.0",
       "_view_name": "LayoutView",
       "align_content": null,
       "align_items": null,
       "align_self": null,
       "border": null,
       "bottom": null,
       "display": null,
       "flex": null,
       "flex_flow": null,
       "grid_area": null,
       "grid_auto_columns": null,
       "grid_auto_flow": null,
       "grid_auto_rows": null,
       "grid_column": null,
       "grid_gap": null,
       "grid_row": null,
       "grid_template_areas": null,
       "grid_template_columns": null,
       "grid_template_rows": null,
       "height": null,
       "justify_content": null,
       "justify_items": null,
       "left": null,
       "margin": null,
       "max_height": null,
       "max_width": null,
       "min_height": null,
       "min_width": null,
       "object_fit": null,
       "object_position": null,
       "order": null,
       "overflow": null,
       "overflow_x": null,
       "overflow_y": null,
       "padding": null,
       "right": null,
       "top": null,
       "visibility": null,
       "width": null
      }
     },
     "35be20df3b344a8e9b57cd3c5066c145": {
      "model_module": "@jupyter-widgets/base",
      "model_module_version": "1.2.0",
      "model_name": "LayoutModel",
      "state": {
       "_model_module": "@jupyter-widgets/base",
       "_model_module_version": "1.2.0",
       "_model_name": "LayoutModel",
       "_view_count": null,
       "_view_module": "@jupyter-widgets/base",
       "_view_module_version": "1.2.0",
       "_view_name": "LayoutView",
       "align_content": null,
       "align_items": null,
       "align_self": null,
       "border": null,
       "bottom": null,
       "display": null,
       "flex": null,
       "flex_flow": null,
       "grid_area": null,
       "grid_auto_columns": null,
       "grid_auto_flow": null,
       "grid_auto_rows": null,
       "grid_column": null,
       "grid_gap": null,
       "grid_row": null,
       "grid_template_areas": null,
       "grid_template_columns": null,
       "grid_template_rows": null,
       "height": null,
       "justify_content": null,
       "justify_items": null,
       "left": null,
       "margin": null,
       "max_height": null,
       "max_width": null,
       "min_height": null,
       "min_width": null,
       "object_fit": null,
       "object_position": null,
       "order": null,
       "overflow": null,
       "overflow_x": null,
       "overflow_y": null,
       "padding": null,
       "right": null,
       "top": null,
       "visibility": null,
       "width": null
      }
     },
     "36ec118c3fce4b7bbf8f8d26231f71b5": {
      "model_module": "@jupyter-widgets/controls",
      "model_module_version": "1.5.0",
      "model_name": "DescriptionStyleModel",
      "state": {
       "_model_module": "@jupyter-widgets/controls",
       "_model_module_version": "1.5.0",
       "_model_name": "DescriptionStyleModel",
       "_view_count": null,
       "_view_module": "@jupyter-widgets/base",
       "_view_module_version": "1.2.0",
       "_view_name": "StyleView",
       "description_width": ""
      }
     },
     "37618891d02d462ab0e16dcf75d551c1": {
      "model_module": "@jupyter-widgets/base",
      "model_module_version": "1.2.0",
      "model_name": "LayoutModel",
      "state": {
       "_model_module": "@jupyter-widgets/base",
       "_model_module_version": "1.2.0",
       "_model_name": "LayoutModel",
       "_view_count": null,
       "_view_module": "@jupyter-widgets/base",
       "_view_module_version": "1.2.0",
       "_view_name": "LayoutView",
       "align_content": null,
       "align_items": null,
       "align_self": null,
       "border": null,
       "bottom": null,
       "display": null,
       "flex": null,
       "flex_flow": null,
       "grid_area": null,
       "grid_auto_columns": null,
       "grid_auto_flow": null,
       "grid_auto_rows": null,
       "grid_column": null,
       "grid_gap": null,
       "grid_row": null,
       "grid_template_areas": null,
       "grid_template_columns": null,
       "grid_template_rows": null,
       "height": null,
       "justify_content": null,
       "justify_items": null,
       "left": null,
       "margin": null,
       "max_height": null,
       "max_width": null,
       "min_height": null,
       "min_width": null,
       "object_fit": null,
       "object_position": null,
       "order": null,
       "overflow": null,
       "overflow_x": null,
       "overflow_y": null,
       "padding": null,
       "right": null,
       "top": null,
       "visibility": null,
       "width": null
      }
     },
     "392870f9c74d49978905960d6ead9492": {
      "model_module": "@jupyter-widgets/controls",
      "model_module_version": "1.5.0",
      "model_name": "ProgressStyleModel",
      "state": {
       "_model_module": "@jupyter-widgets/controls",
       "_model_module_version": "1.5.0",
       "_model_name": "ProgressStyleModel",
       "_view_count": null,
       "_view_module": "@jupyter-widgets/base",
       "_view_module_version": "1.2.0",
       "_view_name": "StyleView",
       "bar_color": null,
       "description_width": ""
      }
     },
     "3b91876222394bf6a94e376d911be707": {
      "model_module": "@jupyter-widgets/controls",
      "model_module_version": "1.5.0",
      "model_name": "HBoxModel",
      "state": {
       "_dom_classes": [],
       "_model_module": "@jupyter-widgets/controls",
       "_model_module_version": "1.5.0",
       "_model_name": "HBoxModel",
       "_view_count": null,
       "_view_module": "@jupyter-widgets/controls",
       "_view_module_version": "1.5.0",
       "_view_name": "HBoxView",
       "box_style": "",
       "children": [
        "IPY_MODEL_bd394c9c8338473b8201d220fe2c3304",
        "IPY_MODEL_900fbabe3049470e98a0baacbc0b292a",
        "IPY_MODEL_ca411fd36f1f42d2be147e1b1d23cdbd"
       ],
       "layout": "IPY_MODEL_f4c9af80350f458bb755cda375f57717"
      }
     },
     "3d2d82e081bb461080052a7d41b38511": {
      "model_module": "@jupyter-widgets/controls",
      "model_module_version": "1.5.0",
      "model_name": "HBoxModel",
      "state": {
       "_dom_classes": [],
       "_model_module": "@jupyter-widgets/controls",
       "_model_module_version": "1.5.0",
       "_model_name": "HBoxModel",
       "_view_count": null,
       "_view_module": "@jupyter-widgets/controls",
       "_view_module_version": "1.5.0",
       "_view_name": "HBoxView",
       "box_style": "",
       "children": [
        "IPY_MODEL_992eed176b9e4110afe21f406502ccf2",
        "IPY_MODEL_d2fe1944d1b34c019f4e16882e3d2faf",
        "IPY_MODEL_b7b99b29b9ec47edb7b20a79727adbce"
       ],
       "layout": "IPY_MODEL_f90601c62c9841cea352f4b788cd921c"
      }
     },
     "41589be0d4e44ca6b50b9ef6bebc1e34": {
      "model_module": "@jupyter-widgets/controls",
      "model_module_version": "1.5.0",
      "model_name": "ProgressStyleModel",
      "state": {
       "_model_module": "@jupyter-widgets/controls",
       "_model_module_version": "1.5.0",
       "_model_name": "ProgressStyleModel",
       "_view_count": null,
       "_view_module": "@jupyter-widgets/base",
       "_view_module_version": "1.2.0",
       "_view_name": "StyleView",
       "bar_color": null,
       "description_width": ""
      }
     },
     "41fb8c11e8254344b923db940812df1c": {
      "model_module": "@jupyter-widgets/base",
      "model_module_version": "1.2.0",
      "model_name": "LayoutModel",
      "state": {
       "_model_module": "@jupyter-widgets/base",
       "_model_module_version": "1.2.0",
       "_model_name": "LayoutModel",
       "_view_count": null,
       "_view_module": "@jupyter-widgets/base",
       "_view_module_version": "1.2.0",
       "_view_name": "LayoutView",
       "align_content": null,
       "align_items": null,
       "align_self": null,
       "border": null,
       "bottom": null,
       "display": null,
       "flex": null,
       "flex_flow": null,
       "grid_area": null,
       "grid_auto_columns": null,
       "grid_auto_flow": null,
       "grid_auto_rows": null,
       "grid_column": null,
       "grid_gap": null,
       "grid_row": null,
       "grid_template_areas": null,
       "grid_template_columns": null,
       "grid_template_rows": null,
       "height": null,
       "justify_content": null,
       "justify_items": null,
       "left": null,
       "margin": null,
       "max_height": null,
       "max_width": null,
       "min_height": null,
       "min_width": null,
       "object_fit": null,
       "object_position": null,
       "order": null,
       "overflow": null,
       "overflow_x": null,
       "overflow_y": null,
       "padding": null,
       "right": null,
       "top": null,
       "visibility": null,
       "width": null
      }
     },
     "45af7be7a7c34f208e3b8024a9053891": {
      "model_module": "@jupyter-widgets/controls",
      "model_module_version": "1.5.0",
      "model_name": "FloatProgressModel",
      "state": {
       "_dom_classes": [],
       "_model_module": "@jupyter-widgets/controls",
       "_model_module_version": "1.5.0",
       "_model_name": "FloatProgressModel",
       "_view_count": null,
       "_view_module": "@jupyter-widgets/controls",
       "_view_module_version": "1.5.0",
       "_view_name": "ProgressView",
       "bar_style": "success",
       "description": "",
       "description_tooltip": null,
       "layout": "IPY_MODEL_a9f322b7e3fd4d7eacaf59b4d30f6f76",
       "max": 19459.0,
       "min": 0.0,
       "orientation": "horizontal",
       "style": "IPY_MODEL_392870f9c74d49978905960d6ead9492",
       "value": 19459.0
      }
     },
     "47c6745e92834c39907bc7d6125fc56a": {
      "model_module": "@jupyter-widgets/controls",
      "model_module_version": "1.5.0",
      "model_name": "FloatProgressModel",
      "state": {
       "_dom_classes": [],
       "_model_module": "@jupyter-widgets/controls",
       "_model_module_version": "1.5.0",
       "_model_name": "FloatProgressModel",
       "_view_count": null,
       "_view_module": "@jupyter-widgets/controls",
       "_view_module_version": "1.5.0",
       "_view_name": "ProgressView",
       "bar_style": "success",
       "description": "",
       "description_tooltip": null,
       "layout": "IPY_MODEL_9227dcf5396045e6836cac10276ee76d",
       "max": 440449768.0,
       "min": 0.0,
       "orientation": "horizontal",
       "style": "IPY_MODEL_92b9686d898543e7be361e2947553b53",
       "value": 440449768.0
      }
     },
     "48d2cd4443104aa3bb47dedf385bacbe": {
      "model_module": "@jupyter-widgets/controls",
      "model_module_version": "1.5.0",
      "model_name": "ProgressStyleModel",
      "state": {
       "_model_module": "@jupyter-widgets/controls",
       "_model_module_version": "1.5.0",
       "_model_name": "ProgressStyleModel",
       "_view_count": null,
       "_view_module": "@jupyter-widgets/base",
       "_view_module_version": "1.2.0",
       "_view_name": "StyleView",
       "bar_color": null,
       "description_width": ""
      }
     },
     "4c3ce46312944047b382cc1e1b212ea0": {
      "model_module": "@jupyter-widgets/controls",
      "model_module_version": "1.5.0",
      "model_name": "HTMLModel",
      "state": {
       "_dom_classes": [],
       "_model_module": "@jupyter-widgets/controls",
       "_model_module_version": "1.5.0",
       "_model_name": "HTMLModel",
       "_view_count": null,
       "_view_module": "@jupyter-widgets/controls",
       "_view_module_version": "1.5.0",
       "_view_name": "HTMLView",
       "description": "",
       "description_tooltip": null,
       "layout": "IPY_MODEL_34bcda8b972d4c56a18c49b9038a1611",
       "placeholder": "​",
       "style": "IPY_MODEL_074eee2671dc4262a263ea1225748f9c",
       "value": " 440M/440M [00:02&lt;00:00, 158MB/s]"
      }
     },
     "4db093f469f6478d82f5b22966c88848": {
      "model_module": "@jupyter-widgets/base",
      "model_module_version": "1.2.0",
      "model_name": "LayoutModel",
      "state": {
       "_model_module": "@jupyter-widgets/base",
       "_model_module_version": "1.2.0",
       "_model_name": "LayoutModel",
       "_view_count": null,
       "_view_module": "@jupyter-widgets/base",
       "_view_module_version": "1.2.0",
       "_view_name": "LayoutView",
       "align_content": null,
       "align_items": null,
       "align_self": null,
       "border": null,
       "bottom": null,
       "display": null,
       "flex": null,
       "flex_flow": null,
       "grid_area": null,
       "grid_auto_columns": null,
       "grid_auto_flow": null,
       "grid_auto_rows": null,
       "grid_column": null,
       "grid_gap": null,
       "grid_row": null,
       "grid_template_areas": null,
       "grid_template_columns": null,
       "grid_template_rows": null,
       "height": null,
       "justify_content": null,
       "justify_items": null,
       "left": null,
       "margin": null,
       "max_height": null,
       "max_width": null,
       "min_height": null,
       "min_width": null,
       "object_fit": null,
       "object_position": null,
       "order": null,
       "overflow": null,
       "overflow_x": null,
       "overflow_y": null,
       "padding": null,
       "right": null,
       "top": null,
       "visibility": null,
       "width": null
      }
     },
     "545d3e58581c4efda11610969391b76e": {
      "model_module": "@jupyter-widgets/controls",
      "model_module_version": "1.5.0",
      "model_name": "DescriptionStyleModel",
      "state": {
       "_model_module": "@jupyter-widgets/controls",
       "_model_module_version": "1.5.0",
       "_model_name": "DescriptionStyleModel",
       "_view_count": null,
       "_view_module": "@jupyter-widgets/base",
       "_view_module_version": "1.2.0",
       "_view_name": "StyleView",
       "description_width": ""
      }
     },
     "565d7a9046474fda9cfff2b3f9c826d2": {
      "model_module": "@jupyter-widgets/controls",
      "model_module_version": "1.5.0",
      "model_name": "DescriptionStyleModel",
      "state": {
       "_model_module": "@jupyter-widgets/controls",
       "_model_module_version": "1.5.0",
       "_model_name": "DescriptionStyleModel",
       "_view_count": null,
       "_view_module": "@jupyter-widgets/base",
       "_view_module_version": "1.2.0",
       "_view_name": "StyleView",
       "description_width": ""
      }
     },
     "5cb2b23771254f0993ff0e87a853fdff": {
      "model_module": "@jupyter-widgets/base",
      "model_module_version": "1.2.0",
      "model_name": "LayoutModel",
      "state": {
       "_model_module": "@jupyter-widgets/base",
       "_model_module_version": "1.2.0",
       "_model_name": "LayoutModel",
       "_view_count": null,
       "_view_module": "@jupyter-widgets/base",
       "_view_module_version": "1.2.0",
       "_view_name": "LayoutView",
       "align_content": null,
       "align_items": null,
       "align_self": null,
       "border": null,
       "bottom": null,
       "display": null,
       "flex": null,
       "flex_flow": null,
       "grid_area": null,
       "grid_auto_columns": null,
       "grid_auto_flow": null,
       "grid_auto_rows": null,
       "grid_column": null,
       "grid_gap": null,
       "grid_row": null,
       "grid_template_areas": null,
       "grid_template_columns": null,
       "grid_template_rows": null,
       "height": null,
       "justify_content": null,
       "justify_items": null,
       "left": null,
       "margin": null,
       "max_height": null,
       "max_width": null,
       "min_height": null,
       "min_width": null,
       "object_fit": null,
       "object_position": null,
       "order": null,
       "overflow": null,
       "overflow_x": null,
       "overflow_y": null,
       "padding": null,
       "right": null,
       "top": null,
       "visibility": null,
       "width": null
      }
     },
     "6273e2fe294f4bf59a524f251b2328c7": {
      "model_module": "@jupyter-widgets/controls",
      "model_module_version": "1.5.0",
      "model_name": "HBoxModel",
      "state": {
       "_dom_classes": [],
       "_model_module": "@jupyter-widgets/controls",
       "_model_module_version": "1.5.0",
       "_model_name": "HBoxModel",
       "_view_count": null,
       "_view_module": "@jupyter-widgets/controls",
       "_view_module_version": "1.5.0",
       "_view_name": "HBoxView",
       "box_style": "",
       "children": [
        "IPY_MODEL_844acf85be3f46e5a8309f1b388b17c5",
        "IPY_MODEL_b037098290ce415da54f881d2dc90e8d",
        "IPY_MODEL_1e6e70ac75c24798a22061a11293742d"
       ],
       "layout": "IPY_MODEL_b4a32ca79e334451a5bfba73fe416a14"
      }
     },
     "632ce34e5adc483490e58eff421e280d": {
      "model_module": "@jupyter-widgets/base",
      "model_module_version": "1.2.0",
      "model_name": "LayoutModel",
      "state": {
       "_model_module": "@jupyter-widgets/base",
       "_model_module_version": "1.2.0",
       "_model_name": "LayoutModel",
       "_view_count": null,
       "_view_module": "@jupyter-widgets/base",
       "_view_module_version": "1.2.0",
       "_view_name": "LayoutView",
       "align_content": null,
       "align_items": null,
       "align_self": null,
       "border": null,
       "bottom": null,
       "display": null,
       "flex": null,
       "flex_flow": null,
       "grid_area": null,
       "grid_auto_columns": null,
       "grid_auto_flow": null,
       "grid_auto_rows": null,
       "grid_column": null,
       "grid_gap": null,
       "grid_row": null,
       "grid_template_areas": null,
       "grid_template_columns": null,
       "grid_template_rows": null,
       "height": null,
       "justify_content": null,
       "justify_items": null,
       "left": null,
       "margin": null,
       "max_height": null,
       "max_width": null,
       "min_height": null,
       "min_width": null,
       "object_fit": null,
       "object_position": null,
       "order": null,
       "overflow": null,
       "overflow_x": null,
       "overflow_y": null,
       "padding": null,
       "right": null,
       "top": null,
       "visibility": null,
       "width": null
      }
     },
     "640301855b0d41c1a617c2be6567461a": {
      "model_module": "@jupyter-widgets/controls",
      "model_module_version": "1.5.0",
      "model_name": "HTMLModel",
      "state": {
       "_dom_classes": [],
       "_model_module": "@jupyter-widgets/controls",
       "_model_module_version": "1.5.0",
       "_model_name": "HTMLModel",
       "_view_count": null,
       "_view_module": "@jupyter-widgets/controls",
       "_view_module_version": "1.5.0",
       "_view_name": "HTMLView",
       "description": "",
       "description_tooltip": null,
       "layout": "IPY_MODEL_d7d3ef06e735436c9611199c1a05ef54",
       "placeholder": "​",
       "style": "IPY_MODEL_36ec118c3fce4b7bbf8f8d26231f71b5",
       "value": "100%"
      }
     },
     "6d291df0eb034922a9d0a555b4061b08": {
      "model_module": "@jupyter-widgets/base",
      "model_module_version": "1.2.0",
      "model_name": "LayoutModel",
      "state": {
       "_model_module": "@jupyter-widgets/base",
       "_model_module_version": "1.2.0",
       "_model_name": "LayoutModel",
       "_view_count": null,
       "_view_module": "@jupyter-widgets/base",
       "_view_module_version": "1.2.0",
       "_view_name": "LayoutView",
       "align_content": null,
       "align_items": null,
       "align_self": null,
       "border": null,
       "bottom": null,
       "display": null,
       "flex": null,
       "flex_flow": null,
       "grid_area": null,
       "grid_auto_columns": null,
       "grid_auto_flow": null,
       "grid_auto_rows": null,
       "grid_column": null,
       "grid_gap": null,
       "grid_row": null,
       "grid_template_areas": null,
       "grid_template_columns": null,
       "grid_template_rows": null,
       "height": null,
       "justify_content": null,
       "justify_items": null,
       "left": null,
       "margin": null,
       "max_height": null,
       "max_width": null,
       "min_height": null,
       "min_width": null,
       "object_fit": null,
       "object_position": null,
       "order": null,
       "overflow": null,
       "overflow_x": null,
       "overflow_y": null,
       "padding": null,
       "right": null,
       "top": null,
       "visibility": null,
       "width": null
      }
     },
     "6dccaac58b084e34805d3a02b073383e": {
      "model_module": "@jupyter-widgets/base",
      "model_module_version": "1.2.0",
      "model_name": "LayoutModel",
      "state": {
       "_model_module": "@jupyter-widgets/base",
       "_model_module_version": "1.2.0",
       "_model_name": "LayoutModel",
       "_view_count": null,
       "_view_module": "@jupyter-widgets/base",
       "_view_module_version": "1.2.0",
       "_view_name": "LayoutView",
       "align_content": null,
       "align_items": null,
       "align_self": null,
       "border": null,
       "bottom": null,
       "display": null,
       "flex": null,
       "flex_flow": null,
       "grid_area": null,
       "grid_auto_columns": null,
       "grid_auto_flow": null,
       "grid_auto_rows": null,
       "grid_column": null,
       "grid_gap": null,
       "grid_row": null,
       "grid_template_areas": null,
       "grid_template_columns": null,
       "grid_template_rows": null,
       "height": null,
       "justify_content": null,
       "justify_items": null,
       "left": null,
       "margin": null,
       "max_height": null,
       "max_width": null,
       "min_height": null,
       "min_width": null,
       "object_fit": null,
       "object_position": null,
       "order": null,
       "overflow": null,
       "overflow_x": null,
       "overflow_y": null,
       "padding": null,
       "right": null,
       "top": null,
       "visibility": null,
       "width": null
      }
     },
     "7291a23c1fee486eb40925c9e5e48779": {
      "model_module": "@jupyter-widgets/controls",
      "model_module_version": "1.5.0",
      "model_name": "DescriptionStyleModel",
      "state": {
       "_model_module": "@jupyter-widgets/controls",
       "_model_module_version": "1.5.0",
       "_model_name": "DescriptionStyleModel",
       "_view_count": null,
       "_view_module": "@jupyter-widgets/base",
       "_view_module_version": "1.2.0",
       "_view_name": "StyleView",
       "description_width": ""
      }
     },
     "752a1974605c418ca2a8625fb56ac4a2": {
      "model_module": "@jupyter-widgets/base",
      "model_module_version": "1.2.0",
      "model_name": "LayoutModel",
      "state": {
       "_model_module": "@jupyter-widgets/base",
       "_model_module_version": "1.2.0",
       "_model_name": "LayoutModel",
       "_view_count": null,
       "_view_module": "@jupyter-widgets/base",
       "_view_module_version": "1.2.0",
       "_view_name": "LayoutView",
       "align_content": null,
       "align_items": null,
       "align_self": null,
       "border": null,
       "bottom": null,
       "display": null,
       "flex": null,
       "flex_flow": null,
       "grid_area": null,
       "grid_auto_columns": null,
       "grid_auto_flow": null,
       "grid_auto_rows": null,
       "grid_column": null,
       "grid_gap": null,
       "grid_row": null,
       "grid_template_areas": null,
       "grid_template_columns": null,
       "grid_template_rows": null,
       "height": null,
       "justify_content": null,
       "justify_items": null,
       "left": null,
       "margin": null,
       "max_height": null,
       "max_width": null,
       "min_height": null,
       "min_width": null,
       "object_fit": null,
       "object_position": null,
       "order": null,
       "overflow": null,
       "overflow_x": null,
       "overflow_y": null,
       "padding": null,
       "right": null,
       "top": null,
       "visibility": null,
       "width": null
      }
     },
     "79ae13ec84b44d8fa150b8eb617567f3": {
      "model_module": "@jupyter-widgets/controls",
      "model_module_version": "1.5.0",
      "model_name": "HBoxModel",
      "state": {
       "_dom_classes": [],
       "_model_module": "@jupyter-widgets/controls",
       "_model_module_version": "1.5.0",
       "_model_name": "HBoxModel",
       "_view_count": null,
       "_view_module": "@jupyter-widgets/controls",
       "_view_module_version": "1.5.0",
       "_view_name": "HBoxView",
       "box_style": "",
       "children": [
        "IPY_MODEL_93f7084bfad743d4b53b0f5accf9193b",
        "IPY_MODEL_47c6745e92834c39907bc7d6125fc56a",
        "IPY_MODEL_4c3ce46312944047b382cc1e1b212ea0"
       ],
       "layout": "IPY_MODEL_a9121ca25aae4aae96fb114937c0a917"
      }
     },
     "82444634c72a4c7eac3fd69aeddc5852": {
      "model_module": "@jupyter-widgets/base",
      "model_module_version": "1.2.0",
      "model_name": "LayoutModel",
      "state": {
       "_model_module": "@jupyter-widgets/base",
       "_model_module_version": "1.2.0",
       "_model_name": "LayoutModel",
       "_view_count": null,
       "_view_module": "@jupyter-widgets/base",
       "_view_module_version": "1.2.0",
       "_view_name": "LayoutView",
       "align_content": null,
       "align_items": null,
       "align_self": null,
       "border": null,
       "bottom": null,
       "display": null,
       "flex": null,
       "flex_flow": null,
       "grid_area": null,
       "grid_auto_columns": null,
       "grid_auto_flow": null,
       "grid_auto_rows": null,
       "grid_column": null,
       "grid_gap": null,
       "grid_row": null,
       "grid_template_areas": null,
       "grid_template_columns": null,
       "grid_template_rows": null,
       "height": null,
       "justify_content": null,
       "justify_items": null,
       "left": null,
       "margin": null,
       "max_height": null,
       "max_width": null,
       "min_height": null,
       "min_width": null,
       "object_fit": null,
       "object_position": null,
       "order": null,
       "overflow": null,
       "overflow_x": null,
       "overflow_y": null,
       "padding": null,
       "right": null,
       "top": null,
       "visibility": null,
       "width": null
      }
     },
     "832a1d5d63484ac4b3f2e34931b221db": {
      "model_module": "@jupyter-widgets/controls",
      "model_module_version": "1.5.0",
      "model_name": "FloatProgressModel",
      "state": {
       "_dom_classes": [],
       "_model_module": "@jupyter-widgets/controls",
       "_model_module_version": "1.5.0",
       "_model_name": "FloatProgressModel",
       "_view_count": null,
       "_view_module": "@jupyter-widgets/controls",
       "_view_module_version": "1.5.0",
       "_view_name": "ProgressView",
       "bar_style": "success",
       "description": "",
       "description_tooltip": null,
       "layout": "IPY_MODEL_632ce34e5adc483490e58eff421e280d",
       "max": 6438.0,
       "min": 0.0,
       "orientation": "horizontal",
       "style": "IPY_MODEL_48d2cd4443104aa3bb47dedf385bacbe",
       "value": 6438.0
      }
     },
     "844acf85be3f46e5a8309f1b388b17c5": {
      "model_module": "@jupyter-widgets/controls",
      "model_module_version": "1.5.0",
      "model_name": "HTMLModel",
      "state": {
       "_dom_classes": [],
       "_model_module": "@jupyter-widgets/controls",
       "_model_module_version": "1.5.0",
       "_model_name": "HTMLModel",
       "_view_count": null,
       "_view_module": "@jupyter-widgets/controls",
       "_view_module_version": "1.5.0",
       "_view_name": "HTMLView",
       "description": "",
       "description_tooltip": null,
       "layout": "IPY_MODEL_8a1a606fb08a48d0b5ab9ac75be0ccec",
       "placeholder": "​",
       "style": "IPY_MODEL_20719b1bbf554755a14852e6814de9cf",
       "value": "Downloading (…)okenizer_config.json: 100%"
      }
     },
     "865f7030c1c4489884fd0618d1106106": {
      "model_module": "@jupyter-widgets/base",
      "model_module_version": "1.2.0",
      "model_name": "LayoutModel",
      "state": {
       "_model_module": "@jupyter-widgets/base",
       "_model_module_version": "1.2.0",
       "_model_name": "LayoutModel",
       "_view_count": null,
       "_view_module": "@jupyter-widgets/base",
       "_view_module_version": "1.2.0",
       "_view_name": "LayoutView",
       "align_content": null,
       "align_items": null,
       "align_self": null,
       "border": null,
       "bottom": null,
       "display": null,
       "flex": null,
       "flex_flow": null,
       "grid_area": null,
       "grid_auto_columns": null,
       "grid_auto_flow": null,
       "grid_auto_rows": null,
       "grid_column": null,
       "grid_gap": null,
       "grid_row": null,
       "grid_template_areas": null,
       "grid_template_columns": null,
       "grid_template_rows": null,
       "height": null,
       "justify_content": null,
       "justify_items": null,
       "left": null,
       "margin": null,
       "max_height": null,
       "max_width": null,
       "min_height": null,
       "min_width": null,
       "object_fit": null,
       "object_position": null,
       "order": null,
       "overflow": null,
       "overflow_x": null,
       "overflow_y": null,
       "padding": null,
       "right": null,
       "top": null,
       "visibility": null,
       "width": null
      }
     },
     "8890eb878af040cdaa7c83fe3f23e4ae": {
      "model_module": "@jupyter-widgets/controls",
      "model_module_version": "1.5.0",
      "model_name": "DescriptionStyleModel",
      "state": {
       "_model_module": "@jupyter-widgets/controls",
       "_model_module_version": "1.5.0",
       "_model_name": "DescriptionStyleModel",
       "_view_count": null,
       "_view_module": "@jupyter-widgets/base",
       "_view_module_version": "1.2.0",
       "_view_name": "StyleView",
       "description_width": ""
      }
     },
     "896e3ce8c13646b6a5c613c3c557420c": {
      "model_module": "@jupyter-widgets/controls",
      "model_module_version": "1.5.0",
      "model_name": "FloatProgressModel",
      "state": {
       "_dom_classes": [],
       "_model_module": "@jupyter-widgets/controls",
       "_model_module_version": "1.5.0",
       "_model_name": "FloatProgressModel",
       "_view_count": null,
       "_view_module": "@jupyter-widgets/controls",
       "_view_module_version": "1.5.0",
       "_view_name": "ProgressView",
       "bar_style": "success",
       "description": "",
       "description_tooltip": null,
       "layout": "IPY_MODEL_37618891d02d462ab0e16dcf75d551c1",
       "max": 570.0,
       "min": 0.0,
       "orientation": "horizontal",
       "style": "IPY_MODEL_ae9c9ed810894b498cc25ddf54b5d412",
       "value": 570.0
      }
     },
     "8a1a606fb08a48d0b5ab9ac75be0ccec": {
      "model_module": "@jupyter-widgets/base",
      "model_module_version": "1.2.0",
      "model_name": "LayoutModel",
      "state": {
       "_model_module": "@jupyter-widgets/base",
       "_model_module_version": "1.2.0",
       "_model_name": "LayoutModel",
       "_view_count": null,
       "_view_module": "@jupyter-widgets/base",
       "_view_module_version": "1.2.0",
       "_view_name": "LayoutView",
       "align_content": null,
       "align_items": null,
       "align_self": null,
       "border": null,
       "bottom": null,
       "display": null,
       "flex": null,
       "flex_flow": null,
       "grid_area": null,
       "grid_auto_columns": null,
       "grid_auto_flow": null,
       "grid_auto_rows": null,
       "grid_column": null,
       "grid_gap": null,
       "grid_row": null,
       "grid_template_areas": null,
       "grid_template_columns": null,
       "grid_template_rows": null,
       "height": null,
       "justify_content": null,
       "justify_items": null,
       "left": null,
       "margin": null,
       "max_height": null,
       "max_width": null,
       "min_height": null,
       "min_width": null,
       "object_fit": null,
       "object_position": null,
       "order": null,
       "overflow": null,
       "overflow_x": null,
       "overflow_y": null,
       "padding": null,
       "right": null,
       "top": null,
       "visibility": null,
       "width": null
      }
     },
     "8a6ce27586724605b27081f10e2a8e4b": {
      "model_module": "@jupyter-widgets/controls",
      "model_module_version": "1.5.0",
      "model_name": "HBoxModel",
      "state": {
       "_dom_classes": [],
       "_model_module": "@jupyter-widgets/controls",
       "_model_module_version": "1.5.0",
       "_model_name": "HBoxModel",
       "_view_count": null,
       "_view_module": "@jupyter-widgets/controls",
       "_view_module_version": "1.5.0",
       "_view_name": "HBoxView",
       "box_style": "",
       "children": [
        "IPY_MODEL_ba51f4d895bf44cebd58b3888af990c2",
        "IPY_MODEL_45af7be7a7c34f208e3b8024a9053891",
        "IPY_MODEL_d0efe0d92b304f18a563e7e772d0772a"
       ],
       "layout": "IPY_MODEL_2155cb14516449b98b9842eea5ba8b2c"
      }
     },
     "8dfdac95311d4154ad0eeb43784ea4f6": {
      "model_module": "@jupyter-widgets/controls",
      "model_module_version": "1.5.0",
      "model_name": "HTMLModel",
      "state": {
       "_dom_classes": [],
       "_model_module": "@jupyter-widgets/controls",
       "_model_module_version": "1.5.0",
       "_model_name": "HTMLModel",
       "_view_count": null,
       "_view_module": "@jupyter-widgets/controls",
       "_view_module_version": "1.5.0",
       "_view_name": "HTMLView",
       "description": "",
       "description_tooltip": null,
       "layout": "IPY_MODEL_f47dc61a172c4594995eef08f27d74c7",
       "placeholder": "​",
       "style": "IPY_MODEL_3213bac6311f4e4ebdcf1c4463de8053",
       "value": " 6438/6438 [00:06&lt;00:00, 1049.63ex/s]"
      }
     },
     "900fbabe3049470e98a0baacbc0b292a": {
      "model_module": "@jupyter-widgets/controls",
      "model_module_version": "1.5.0",
      "model_name": "FloatProgressModel",
      "state": {
       "_dom_classes": [],
       "_model_module": "@jupyter-widgets/controls",
       "_model_module_version": "1.5.0",
       "_model_name": "FloatProgressModel",
       "_view_count": null,
       "_view_module": "@jupyter-widgets/controls",
       "_view_module_version": "1.5.0",
       "_view_name": "ProgressView",
       "bar_style": "success",
       "description": "",
       "description_tooltip": null,
       "layout": "IPY_MODEL_0d77efff683742dc94fb7d0559e0fcdf",
       "max": 8339.0,
       "min": 0.0,
       "orientation": "horizontal",
       "style": "IPY_MODEL_254116a5e9864b158dab281a069217cd",
       "value": 8339.0
      }
     },
     "91fba9a8b7ff4b40a637d912b81179f4": {
      "model_module": "@jupyter-widgets/base",
      "model_module_version": "1.2.0",
      "model_name": "LayoutModel",
      "state": {
       "_model_module": "@jupyter-widgets/base",
       "_model_module_version": "1.2.0",
       "_model_name": "LayoutModel",
       "_view_count": null,
       "_view_module": "@jupyter-widgets/base",
       "_view_module_version": "1.2.0",
       "_view_name": "LayoutView",
       "align_content": null,
       "align_items": null,
       "align_self": null,
       "border": null,
       "bottom": null,
       "display": null,
       "flex": null,
       "flex_flow": null,
       "grid_area": null,
       "grid_auto_columns": null,
       "grid_auto_flow": null,
       "grid_auto_rows": null,
       "grid_column": null,
       "grid_gap": null,
       "grid_row": null,
       "grid_template_areas": null,
       "grid_template_columns": null,
       "grid_template_rows": null,
       "height": null,
       "justify_content": null,
       "justify_items": null,
       "left": null,
       "margin": null,
       "max_height": null,
       "max_width": null,
       "min_height": null,
       "min_width": null,
       "object_fit": null,
       "object_position": null,
       "order": null,
       "overflow": null,
       "overflow_x": null,
       "overflow_y": null,
       "padding": null,
       "right": null,
       "top": null,
       "visibility": null,
       "width": null
      }
     },
     "9227dcf5396045e6836cac10276ee76d": {
      "model_module": "@jupyter-widgets/base",
      "model_module_version": "1.2.0",
      "model_name": "LayoutModel",
      "state": {
       "_model_module": "@jupyter-widgets/base",
       "_model_module_version": "1.2.0",
       "_model_name": "LayoutModel",
       "_view_count": null,
       "_view_module": "@jupyter-widgets/base",
       "_view_module_version": "1.2.0",
       "_view_name": "LayoutView",
       "align_content": null,
       "align_items": null,
       "align_self": null,
       "border": null,
       "bottom": null,
       "display": null,
       "flex": null,
       "flex_flow": null,
       "grid_area": null,
       "grid_auto_columns": null,
       "grid_auto_flow": null,
       "grid_auto_rows": null,
       "grid_column": null,
       "grid_gap": null,
       "grid_row": null,
       "grid_template_areas": null,
       "grid_template_columns": null,
       "grid_template_rows": null,
       "height": null,
       "justify_content": null,
       "justify_items": null,
       "left": null,
       "margin": null,
       "max_height": null,
       "max_width": null,
       "min_height": null,
       "min_width": null,
       "object_fit": null,
       "object_position": null,
       "order": null,
       "overflow": null,
       "overflow_x": null,
       "overflow_y": null,
       "padding": null,
       "right": null,
       "top": null,
       "visibility": null,
       "width": null
      }
     },
     "927d7cff8eef44e5b247ad7e67e213ac": {
      "model_module": "@jupyter-widgets/controls",
      "model_module_version": "1.5.0",
      "model_name": "DescriptionStyleModel",
      "state": {
       "_model_module": "@jupyter-widgets/controls",
       "_model_module_version": "1.5.0",
       "_model_name": "DescriptionStyleModel",
       "_view_count": null,
       "_view_module": "@jupyter-widgets/base",
       "_view_module_version": "1.2.0",
       "_view_name": "StyleView",
       "description_width": ""
      }
     },
     "92b9686d898543e7be361e2947553b53": {
      "model_module": "@jupyter-widgets/controls",
      "model_module_version": "1.5.0",
      "model_name": "ProgressStyleModel",
      "state": {
       "_model_module": "@jupyter-widgets/controls",
       "_model_module_version": "1.5.0",
       "_model_name": "ProgressStyleModel",
       "_view_count": null,
       "_view_module": "@jupyter-widgets/base",
       "_view_module_version": "1.2.0",
       "_view_name": "StyleView",
       "bar_color": null,
       "description_width": ""
      }
     },
     "93f7084bfad743d4b53b0f5accf9193b": {
      "model_module": "@jupyter-widgets/controls",
      "model_module_version": "1.5.0",
      "model_name": "HTMLModel",
      "state": {
       "_dom_classes": [],
       "_model_module": "@jupyter-widgets/controls",
       "_model_module_version": "1.5.0",
       "_model_name": "HTMLModel",
       "_view_count": null,
       "_view_module": "@jupyter-widgets/controls",
       "_view_module_version": "1.5.0",
       "_view_name": "HTMLView",
       "description": "",
       "description_tooltip": null,
       "layout": "IPY_MODEL_82444634c72a4c7eac3fd69aeddc5852",
       "placeholder": "​",
       "style": "IPY_MODEL_307ca46f029049aa83c5dcb2831f868f",
       "value": "Downloading model.safetensors: 100%"
      }
     },
     "992eed176b9e4110afe21f406502ccf2": {
      "model_module": "@jupyter-widgets/controls",
      "model_module_version": "1.5.0",
      "model_name": "HTMLModel",
      "state": {
       "_dom_classes": [],
       "_model_module": "@jupyter-widgets/controls",
       "_model_module_version": "1.5.0",
       "_model_name": "HTMLModel",
       "_view_count": null,
       "_view_module": "@jupyter-widgets/controls",
       "_view_module_version": "1.5.0",
       "_view_name": "HTMLView",
       "description": "",
       "description_tooltip": null,
       "layout": "IPY_MODEL_074835bcf9154df591a611c7078a8d96",
       "placeholder": "​",
       "style": "IPY_MODEL_565d7a9046474fda9cfff2b3f9c826d2",
       "value": "Downloading builder script: 100%"
      }
     },
     "9c8f89c341cb47d0978c7d4e3d95fcb3": {
      "model_module": "@jupyter-widgets/controls",
      "model_module_version": "1.5.0",
      "model_name": "HBoxModel",
      "state": {
       "_dom_classes": [],
       "_model_module": "@jupyter-widgets/controls",
       "_model_module_version": "1.5.0",
       "_model_name": "HBoxModel",
       "_view_count": null,
       "_view_module": "@jupyter-widgets/controls",
       "_view_module_version": "1.5.0",
       "_view_name": "HBoxView",
       "box_style": "",
       "children": [
        "IPY_MODEL_b7abd28bb385430d9ff8be28715c41bc",
        "IPY_MODEL_832a1d5d63484ac4b3f2e34931b221db",
        "IPY_MODEL_8dfdac95311d4154ad0eeb43784ea4f6"
       ],
       "layout": "IPY_MODEL_41fb8c11e8254344b923db940812df1c"
      }
     },
     "a346e318b98b4326beba76f091f9e4e9": {
      "model_module": "@jupyter-widgets/base",
      "model_module_version": "1.2.0",
      "model_name": "LayoutModel",
      "state": {
       "_model_module": "@jupyter-widgets/base",
       "_model_module_version": "1.2.0",
       "_model_name": "LayoutModel",
       "_view_count": null,
       "_view_module": "@jupyter-widgets/base",
       "_view_module_version": "1.2.0",
       "_view_name": "LayoutView",
       "align_content": null,
       "align_items": null,
       "align_self": null,
       "border": null,
       "bottom": null,
       "display": null,
       "flex": null,
       "flex_flow": null,
       "grid_area": null,
       "grid_auto_columns": null,
       "grid_auto_flow": null,
       "grid_auto_rows": null,
       "grid_column": null,
       "grid_gap": null,
       "grid_row": null,
       "grid_template_areas": null,
       "grid_template_columns": null,
       "grid_template_rows": null,
       "height": null,
       "justify_content": null,
       "justify_items": null,
       "left": null,
       "margin": null,
       "max_height": null,
       "max_width": null,
       "min_height": null,
       "min_width": null,
       "object_fit": null,
       "object_position": null,
       "order": null,
       "overflow": null,
       "overflow_x": null,
       "overflow_y": null,
       "padding": null,
       "right": null,
       "top": null,
       "visibility": null,
       "width": null
      }
     },
     "a7faae780da2455ab3db911f0e5b82d8": {
      "model_module": "@jupyter-widgets/controls",
      "model_module_version": "1.5.0",
      "model_name": "FloatProgressModel",
      "state": {
       "_dom_classes": [],
       "_model_module": "@jupyter-widgets/controls",
       "_model_module_version": "1.5.0",
       "_model_name": "FloatProgressModel",
       "_view_count": null,
       "_view_module": "@jupyter-widgets/controls",
       "_view_module_version": "1.5.0",
       "_view_name": "ProgressView",
       "bar_style": "success",
       "description": "",
       "description_tooltip": null,
       "layout": "IPY_MODEL_6dccaac58b084e34805d3a02b073383e",
       "max": 231508.0,
       "min": 0.0,
       "orientation": "horizontal",
       "style": "IPY_MODEL_2c42260dda974342a5bde3fe0f24f1df",
       "value": 231508.0
      }
     },
     "a9121ca25aae4aae96fb114937c0a917": {
      "model_module": "@jupyter-widgets/base",
      "model_module_version": "1.2.0",
      "model_name": "LayoutModel",
      "state": {
       "_model_module": "@jupyter-widgets/base",
       "_model_module_version": "1.2.0",
       "_model_name": "LayoutModel",
       "_view_count": null,
       "_view_module": "@jupyter-widgets/base",
       "_view_module_version": "1.2.0",
       "_view_name": "LayoutView",
       "align_content": null,
       "align_items": null,
       "align_self": null,
       "border": null,
       "bottom": null,
       "display": null,
       "flex": null,
       "flex_flow": null,
       "grid_area": null,
       "grid_auto_columns": null,
       "grid_auto_flow": null,
       "grid_auto_rows": null,
       "grid_column": null,
       "grid_gap": null,
       "grid_row": null,
       "grid_template_areas": null,
       "grid_template_columns": null,
       "grid_template_rows": null,
       "height": null,
       "justify_content": null,
       "justify_items": null,
       "left": null,
       "margin": null,
       "max_height": null,
       "max_width": null,
       "min_height": null,
       "min_width": null,
       "object_fit": null,
       "object_position": null,
       "order": null,
       "overflow": null,
       "overflow_x": null,
       "overflow_y": null,
       "padding": null,
       "right": null,
       "top": null,
       "visibility": null,
       "width": null
      }
     },
     "a9f322b7e3fd4d7eacaf59b4d30f6f76": {
      "model_module": "@jupyter-widgets/base",
      "model_module_version": "1.2.0",
      "model_name": "LayoutModel",
      "state": {
       "_model_module": "@jupyter-widgets/base",
       "_model_module_version": "1.2.0",
       "_model_name": "LayoutModel",
       "_view_count": null,
       "_view_module": "@jupyter-widgets/base",
       "_view_module_version": "1.2.0",
       "_view_name": "LayoutView",
       "align_content": null,
       "align_items": null,
       "align_self": null,
       "border": null,
       "bottom": null,
       "display": null,
       "flex": null,
       "flex_flow": null,
       "grid_area": null,
       "grid_auto_columns": null,
       "grid_auto_flow": null,
       "grid_auto_rows": null,
       "grid_column": null,
       "grid_gap": null,
       "grid_row": null,
       "grid_template_areas": null,
       "grid_template_columns": null,
       "grid_template_rows": null,
       "height": null,
       "justify_content": null,
       "justify_items": null,
       "left": null,
       "margin": null,
       "max_height": null,
       "max_width": null,
       "min_height": null,
       "min_width": null,
       "object_fit": null,
       "object_position": null,
       "order": null,
       "overflow": null,
       "overflow_x": null,
       "overflow_y": null,
       "padding": null,
       "right": null,
       "top": null,
       "visibility": null,
       "width": null
      }
     },
     "aac6cda36bcb4762938035b13583734d": {
      "model_module": "@jupyter-widgets/controls",
      "model_module_version": "1.5.0",
      "model_name": "DescriptionStyleModel",
      "state": {
       "_model_module": "@jupyter-widgets/controls",
       "_model_module_version": "1.5.0",
       "_model_name": "DescriptionStyleModel",
       "_view_count": null,
       "_view_module": "@jupyter-widgets/base",
       "_view_module_version": "1.2.0",
       "_view_name": "StyleView",
       "description_width": ""
      }
     },
     "ae9c9ed810894b498cc25ddf54b5d412": {
      "model_module": "@jupyter-widgets/controls",
      "model_module_version": "1.5.0",
      "model_name": "ProgressStyleModel",
      "state": {
       "_model_module": "@jupyter-widgets/controls",
       "_model_module_version": "1.5.0",
       "_model_name": "ProgressStyleModel",
       "_view_count": null,
       "_view_module": "@jupyter-widgets/base",
       "_view_module_version": "1.2.0",
       "_view_name": "StyleView",
       "bar_color": null,
       "description_width": ""
      }
     },
     "b037098290ce415da54f881d2dc90e8d": {
      "model_module": "@jupyter-widgets/controls",
      "model_module_version": "1.5.0",
      "model_name": "FloatProgressModel",
      "state": {
       "_dom_classes": [],
       "_model_module": "@jupyter-widgets/controls",
       "_model_module_version": "1.5.0",
       "_model_name": "FloatProgressModel",
       "_view_count": null,
       "_view_module": "@jupyter-widgets/controls",
       "_view_module_version": "1.5.0",
       "_view_name": "ProgressView",
       "bar_style": "success",
       "description": "",
       "description_tooltip": null,
       "layout": "IPY_MODEL_a346e318b98b4326beba76f091f9e4e9",
       "max": 28.0,
       "min": 0.0,
       "orientation": "horizontal",
       "style": "IPY_MODEL_c80c3eafc59d43dcb6e72ebdc3f2a7a9",
       "value": 28.0
      }
     },
     "b4a32ca79e334451a5bfba73fe416a14": {
      "model_module": "@jupyter-widgets/base",
      "model_module_version": "1.2.0",
      "model_name": "LayoutModel",
      "state": {
       "_model_module": "@jupyter-widgets/base",
       "_model_module_version": "1.2.0",
       "_model_name": "LayoutModel",
       "_view_count": null,
       "_view_module": "@jupyter-widgets/base",
       "_view_module_version": "1.2.0",
       "_view_name": "LayoutView",
       "align_content": null,
       "align_items": null,
       "align_self": null,
       "border": null,
       "bottom": null,
       "display": null,
       "flex": null,
       "flex_flow": null,
       "grid_area": null,
       "grid_auto_columns": null,
       "grid_auto_flow": null,
       "grid_auto_rows": null,
       "grid_column": null,
       "grid_gap": null,
       "grid_row": null,
       "grid_template_areas": null,
       "grid_template_columns": null,
       "grid_template_rows": null,
       "height": null,
       "justify_content": null,
       "justify_items": null,
       "left": null,
       "margin": null,
       "max_height": null,
       "max_width": null,
       "min_height": null,
       "min_width": null,
       "object_fit": null,
       "object_position": null,
       "order": null,
       "overflow": null,
       "overflow_x": null,
       "overflow_y": null,
       "padding": null,
       "right": null,
       "top": null,
       "visibility": null,
       "width": null
      }
     },
     "b755f8f5f1b94f259fa7b088b6d6cdaa": {
      "model_module": "@jupyter-widgets/controls",
      "model_module_version": "1.5.0",
      "model_name": "DescriptionStyleModel",
      "state": {
       "_model_module": "@jupyter-widgets/controls",
       "_model_module_version": "1.5.0",
       "_model_name": "DescriptionStyleModel",
       "_view_count": null,
       "_view_module": "@jupyter-widgets/base",
       "_view_module_version": "1.2.0",
       "_view_name": "StyleView",
       "description_width": ""
      }
     },
     "b7abd28bb385430d9ff8be28715c41bc": {
      "model_module": "@jupyter-widgets/controls",
      "model_module_version": "1.5.0",
      "model_name": "HTMLModel",
      "state": {
       "_dom_classes": [],
       "_model_module": "@jupyter-widgets/controls",
       "_model_module_version": "1.5.0",
       "_model_name": "HTMLModel",
       "_view_count": null,
       "_view_module": "@jupyter-widgets/controls",
       "_view_module_version": "1.5.0",
       "_view_name": "HTMLView",
       "description": "",
       "description_tooltip": null,
       "layout": "IPY_MODEL_edc35d2842174310a7d910c65675f6f9",
       "placeholder": "​",
       "style": "IPY_MODEL_b755f8f5f1b94f259fa7b088b6d6cdaa",
       "value": "100%"
      }
     },
     "b7b99b29b9ec47edb7b20a79727adbce": {
      "model_module": "@jupyter-widgets/controls",
      "model_module_version": "1.5.0",
      "model_name": "HTMLModel",
      "state": {
       "_dom_classes": [],
       "_model_module": "@jupyter-widgets/controls",
       "_model_module_version": "1.5.0",
       "_model_name": "HTMLModel",
       "_view_count": null,
       "_view_module": "@jupyter-widgets/controls",
       "_view_module_version": "1.5.0",
       "_view_name": "HTMLView",
       "description": "",
       "description_tooltip": null,
       "layout": "IPY_MODEL_c5cb0e180ba947c4b2e2e4064a36e27b",
       "placeholder": "​",
       "style": "IPY_MODEL_321fcd83a89d400695a5fe8fc05aca5d",
       "value": " 4.20k/4.20k [00:00&lt;00:00, 264kB/s]"
      }
     },
     "b819a2d1d1f843ebabc8c40aabac63e9": {
      "model_module": "@jupyter-widgets/controls",
      "model_module_version": "1.5.0",
      "model_name": "HTMLModel",
      "state": {
       "_dom_classes": [],
       "_model_module": "@jupyter-widgets/controls",
       "_model_module_version": "1.5.0",
       "_model_name": "HTMLModel",
       "_view_count": null,
       "_view_module": "@jupyter-widgets/controls",
       "_view_module_version": "1.5.0",
       "_view_name": "HTMLView",
       "description": "",
       "description_tooltip": null,
       "layout": "IPY_MODEL_2f434ce6934241e083e7f1e8c61883be",
       "placeholder": "​",
       "style": "IPY_MODEL_187e06b888224508b6068b3302b3fb03",
       "value": " 570/570 [00:00&lt;00:00, 40.8kB/s]"
      }
     },
     "ba51f4d895bf44cebd58b3888af990c2": {
      "model_module": "@jupyter-widgets/controls",
      "model_module_version": "1.5.0",
      "model_name": "HTMLModel",
      "state": {
       "_dom_classes": [],
       "_model_module": "@jupyter-widgets/controls",
       "_model_module_version": "1.5.0",
       "_model_name": "HTMLModel",
       "_view_count": null,
       "_view_module": "@jupyter-widgets/controls",
       "_view_module_version": "1.5.0",
       "_view_name": "HTMLView",
       "description": "",
       "description_tooltip": null,
       "layout": "IPY_MODEL_6d291df0eb034922a9d0a555b4061b08",
       "placeholder": "​",
       "style": "IPY_MODEL_cb3b38b8adb04121bd87610089cc7b6a",
       "value": "100%"
      }
     },
     "bd394c9c8338473b8201d220fe2c3304": {
      "model_module": "@jupyter-widgets/controls",
      "model_module_version": "1.5.0",
      "model_name": "HTMLModel",
      "state": {
       "_dom_classes": [],
       "_model_module": "@jupyter-widgets/controls",
       "_model_module_version": "1.5.0",
       "_model_name": "HTMLModel",
       "_view_count": null,
       "_view_module": "@jupyter-widgets/controls",
       "_view_module_version": "1.5.0",
       "_view_name": "HTMLView",
       "description": "",
       "description_tooltip": null,
       "layout": "IPY_MODEL_2d8517e28a68418587c1f326ccdf70ff",
       "placeholder": "​",
       "style": "IPY_MODEL_545d3e58581c4efda11610969391b76e",
       "value": "100%"
      }
     },
     "bd7b544648e9429b91a65d5db10e1e3c": {
      "model_module": "@jupyter-widgets/controls",
      "model_module_version": "1.5.0",
      "model_name": "DescriptionStyleModel",
      "state": {
       "_model_module": "@jupyter-widgets/controls",
       "_model_module_version": "1.5.0",
       "_model_name": "DescriptionStyleModel",
       "_view_count": null,
       "_view_module": "@jupyter-widgets/base",
       "_view_module_version": "1.2.0",
       "_view_name": "StyleView",
       "description_width": ""
      }
     },
     "c59f3bb3107840589138e8b5cd9d36ec": {
      "model_module": "@jupyter-widgets/base",
      "model_module_version": "1.2.0",
      "model_name": "LayoutModel",
      "state": {
       "_model_module": "@jupyter-widgets/base",
       "_model_module_version": "1.2.0",
       "_model_name": "LayoutModel",
       "_view_count": null,
       "_view_module": "@jupyter-widgets/base",
       "_view_module_version": "1.2.0",
       "_view_name": "LayoutView",
       "align_content": null,
       "align_items": null,
       "align_self": null,
       "border": null,
       "bottom": null,
       "display": null,
       "flex": null,
       "flex_flow": null,
       "grid_area": null,
       "grid_auto_columns": null,
       "grid_auto_flow": null,
       "grid_auto_rows": null,
       "grid_column": null,
       "grid_gap": null,
       "grid_row": null,
       "grid_template_areas": null,
       "grid_template_columns": null,
       "grid_template_rows": null,
       "height": null,
       "justify_content": null,
       "justify_items": null,
       "left": null,
       "margin": null,
       "max_height": null,
       "max_width": null,
       "min_height": null,
       "min_width": null,
       "object_fit": null,
       "object_position": null,
       "order": null,
       "overflow": null,
       "overflow_x": null,
       "overflow_y": null,
       "padding": null,
       "right": null,
       "top": null,
       "visibility": null,
       "width": null
      }
     },
     "c5cb0e180ba947c4b2e2e4064a36e27b": {
      "model_module": "@jupyter-widgets/base",
      "model_module_version": "1.2.0",
      "model_name": "LayoutModel",
      "state": {
       "_model_module": "@jupyter-widgets/base",
       "_model_module_version": "1.2.0",
       "_model_name": "LayoutModel",
       "_view_count": null,
       "_view_module": "@jupyter-widgets/base",
       "_view_module_version": "1.2.0",
       "_view_name": "LayoutView",
       "align_content": null,
       "align_items": null,
       "align_self": null,
       "border": null,
       "bottom": null,
       "display": null,
       "flex": null,
       "flex_flow": null,
       "grid_area": null,
       "grid_auto_columns": null,
       "grid_auto_flow": null,
       "grid_auto_rows": null,
       "grid_column": null,
       "grid_gap": null,
       "grid_row": null,
       "grid_template_areas": null,
       "grid_template_columns": null,
       "grid_template_rows": null,
       "height": null,
       "justify_content": null,
       "justify_items": null,
       "left": null,
       "margin": null,
       "max_height": null,
       "max_width": null,
       "min_height": null,
       "min_width": null,
       "object_fit": null,
       "object_position": null,
       "order": null,
       "overflow": null,
       "overflow_x": null,
       "overflow_y": null,
       "padding": null,
       "right": null,
       "top": null,
       "visibility": null,
       "width": null
      }
     },
     "c80c3eafc59d43dcb6e72ebdc3f2a7a9": {
      "model_module": "@jupyter-widgets/controls",
      "model_module_version": "1.5.0",
      "model_name": "ProgressStyleModel",
      "state": {
       "_model_module": "@jupyter-widgets/controls",
       "_model_module_version": "1.5.0",
       "_model_name": "ProgressStyleModel",
       "_view_count": null,
       "_view_module": "@jupyter-widgets/base",
       "_view_module_version": "1.2.0",
       "_view_name": "StyleView",
       "bar_color": null,
       "description_width": ""
      }
     },
     "ca411fd36f1f42d2be147e1b1d23cdbd": {
      "model_module": "@jupyter-widgets/controls",
      "model_module_version": "1.5.0",
      "model_name": "HTMLModel",
      "state": {
       "_dom_classes": [],
       "_model_module": "@jupyter-widgets/controls",
       "_model_module_version": "1.5.0",
       "_model_name": "HTMLModel",
       "_view_count": null,
       "_view_module": "@jupyter-widgets/controls",
       "_view_module_version": "1.5.0",
       "_view_name": "HTMLView",
       "description": "",
       "description_tooltip": null,
       "layout": "IPY_MODEL_35be20df3b344a8e9b57cd3c5066c145",
       "placeholder": "​",
       "style": "IPY_MODEL_8890eb878af040cdaa7c83fe3f23e4ae",
       "value": " 8339/8339 [00:13&lt;00:00, 396.19ex/s]"
      }
     },
     "cb3b38b8adb04121bd87610089cc7b6a": {
      "model_module": "@jupyter-widgets/controls",
      "model_module_version": "1.5.0",
      "model_name": "DescriptionStyleModel",
      "state": {
       "_model_module": "@jupyter-widgets/controls",
       "_model_module_version": "1.5.0",
       "_model_name": "DescriptionStyleModel",
       "_view_count": null,
       "_view_module": "@jupyter-widgets/base",
       "_view_module_version": "1.2.0",
       "_view_name": "StyleView",
       "description_width": ""
      }
     },
     "d0efe0d92b304f18a563e7e772d0772a": {
      "model_module": "@jupyter-widgets/controls",
      "model_module_version": "1.5.0",
      "model_name": "HTMLModel",
      "state": {
       "_dom_classes": [],
       "_model_module": "@jupyter-widgets/controls",
       "_model_module_version": "1.5.0",
       "_model_name": "HTMLModel",
       "_view_count": null,
       "_view_module": "@jupyter-widgets/controls",
       "_view_module_version": "1.5.0",
       "_view_name": "HTMLView",
       "description": "",
       "description_tooltip": null,
       "layout": "IPY_MODEL_1c5968f8bf70468db0a8e804461e0d73",
       "placeholder": "​",
       "style": "IPY_MODEL_927d7cff8eef44e5b247ad7e67e213ac",
       "value": " 19459/19459 [00:30&lt;00:00, 574.72ex/s]"
      }
     },
     "d2850e73b245495cb204fc97098837d2": {
      "model_module": "@jupyter-widgets/base",
      "model_module_version": "1.2.0",
      "model_name": "LayoutModel",
      "state": {
       "_model_module": "@jupyter-widgets/base",
       "_model_module_version": "1.2.0",
       "_model_name": "LayoutModel",
       "_view_count": null,
       "_view_module": "@jupyter-widgets/base",
       "_view_module_version": "1.2.0",
       "_view_name": "LayoutView",
       "align_content": null,
       "align_items": null,
       "align_self": null,
       "border": null,
       "bottom": null,
       "display": null,
       "flex": null,
       "flex_flow": null,
       "grid_area": null,
       "grid_auto_columns": null,
       "grid_auto_flow": null,
       "grid_auto_rows": null,
       "grid_column": null,
       "grid_gap": null,
       "grid_row": null,
       "grid_template_areas": null,
       "grid_template_columns": null,
       "grid_template_rows": null,
       "height": null,
       "justify_content": null,
       "justify_items": null,
       "left": null,
       "margin": null,
       "max_height": null,
       "max_width": null,
       "min_height": null,
       "min_width": null,
       "object_fit": null,
       "object_position": null,
       "order": null,
       "overflow": null,
       "overflow_x": null,
       "overflow_y": null,
       "padding": null,
       "right": null,
       "top": null,
       "visibility": null,
       "width": null
      }
     },
     "d2fe1944d1b34c019f4e16882e3d2faf": {
      "model_module": "@jupyter-widgets/controls",
      "model_module_version": "1.5.0",
      "model_name": "FloatProgressModel",
      "state": {
       "_dom_classes": [],
       "_model_module": "@jupyter-widgets/controls",
       "_model_module_version": "1.5.0",
       "_model_name": "FloatProgressModel",
       "_view_count": null,
       "_view_module": "@jupyter-widgets/controls",
       "_view_module_version": "1.5.0",
       "_view_name": "ProgressView",
       "bar_style": "success",
       "description": "",
       "description_tooltip": null,
       "layout": "IPY_MODEL_c59f3bb3107840589138e8b5cd9d36ec",
       "max": 4203.0,
       "min": 0.0,
       "orientation": "horizontal",
       "style": "IPY_MODEL_01e4c9a8d08d407bbe88b8a5490bddea",
       "value": 4203.0
      }
     },
     "d7d3ef06e735436c9611199c1a05ef54": {
      "model_module": "@jupyter-widgets/base",
      "model_module_version": "1.2.0",
      "model_name": "LayoutModel",
      "state": {
       "_model_module": "@jupyter-widgets/base",
       "_model_module_version": "1.2.0",
       "_model_name": "LayoutModel",
       "_view_count": null,
       "_view_module": "@jupyter-widgets/base",
       "_view_module_version": "1.2.0",
       "_view_name": "LayoutView",
       "align_content": null,
       "align_items": null,
       "align_self": null,
       "border": null,
       "bottom": null,
       "display": null,
       "flex": null,
       "flex_flow": null,
       "grid_area": null,
       "grid_auto_columns": null,
       "grid_auto_flow": null,
       "grid_auto_rows": null,
       "grid_column": null,
       "grid_gap": null,
       "grid_row": null,
       "grid_template_areas": null,
       "grid_template_columns": null,
       "grid_template_rows": null,
       "height": null,
       "justify_content": null,
       "justify_items": null,
       "left": null,
       "margin": null,
       "max_height": null,
       "max_width": null,
       "min_height": null,
       "min_width": null,
       "object_fit": null,
       "object_position": null,
       "order": null,
       "overflow": null,
       "overflow_x": null,
       "overflow_y": null,
       "padding": null,
       "right": null,
       "top": null,
       "visibility": null,
       "width": null
      }
     },
     "da149ab0317e415d8853bfc0775a05ac": {
      "model_module": "@jupyter-widgets/controls",
      "model_module_version": "1.5.0",
      "model_name": "HTMLModel",
      "state": {
       "_dom_classes": [],
       "_model_module": "@jupyter-widgets/controls",
       "_model_module_version": "1.5.0",
       "_model_name": "HTMLModel",
       "_view_count": null,
       "_view_module": "@jupyter-widgets/controls",
       "_view_module_version": "1.5.0",
       "_view_name": "HTMLView",
       "description": "",
       "description_tooltip": null,
       "layout": "IPY_MODEL_865f7030c1c4489884fd0618d1106106",
       "placeholder": "​",
       "style": "IPY_MODEL_2b1965fda1154f7fb8df01cd088264da",
       "value": "Downloading (…)solve/main/vocab.txt: 100%"
      }
     },
     "dbc0131350964167b07428d91f147225": {
      "model_module": "@jupyter-widgets/base",
      "model_module_version": "1.2.0",
      "model_name": "LayoutModel",
      "state": {
       "_model_module": "@jupyter-widgets/base",
       "_model_module_version": "1.2.0",
       "_model_name": "LayoutModel",
       "_view_count": null,
       "_view_module": "@jupyter-widgets/base",
       "_view_module_version": "1.2.0",
       "_view_name": "LayoutView",
       "align_content": null,
       "align_items": null,
       "align_self": null,
       "border": null,
       "bottom": null,
       "display": null,
       "flex": null,
       "flex_flow": null,
       "grid_area": null,
       "grid_auto_columns": null,
       "grid_auto_flow": null,
       "grid_auto_rows": null,
       "grid_column": null,
       "grid_gap": null,
       "grid_row": null,
       "grid_template_areas": null,
       "grid_template_columns": null,
       "grid_template_rows": null,
       "height": null,
       "justify_content": null,
       "justify_items": null,
       "left": null,
       "margin": null,
       "max_height": null,
       "max_width": null,
       "min_height": null,
       "min_width": null,
       "object_fit": null,
       "object_position": null,
       "order": null,
       "overflow": null,
       "overflow_x": null,
       "overflow_y": null,
       "padding": null,
       "right": null,
       "top": null,
       "visibility": null,
       "width": null
      }
     },
     "de008d729ab8431b8a514030f377bd9e": {
      "model_module": "@jupyter-widgets/base",
      "model_module_version": "1.2.0",
      "model_name": "LayoutModel",
      "state": {
       "_model_module": "@jupyter-widgets/base",
       "_model_module_version": "1.2.0",
       "_model_name": "LayoutModel",
       "_view_count": null,
       "_view_module": "@jupyter-widgets/base",
       "_view_module_version": "1.2.0",
       "_view_name": "LayoutView",
       "align_content": null,
       "align_items": null,
       "align_self": null,
       "border": null,
       "bottom": null,
       "display": null,
       "flex": null,
       "flex_flow": null,
       "grid_area": null,
       "grid_auto_columns": null,
       "grid_auto_flow": null,
       "grid_auto_rows": null,
       "grid_column": null,
       "grid_gap": null,
       "grid_row": null,
       "grid_template_areas": null,
       "grid_template_columns": null,
       "grid_template_rows": null,
       "height": null,
       "justify_content": null,
       "justify_items": null,
       "left": null,
       "margin": null,
       "max_height": null,
       "max_width": null,
       "min_height": null,
       "min_width": null,
       "object_fit": null,
       "object_position": null,
       "order": null,
       "overflow": null,
       "overflow_x": null,
       "overflow_y": null,
       "padding": null,
       "right": null,
       "top": null,
       "visibility": null,
       "width": null
      }
     },
     "de58421185e84549907161a9760a9f62": {
      "model_module": "@jupyter-widgets/controls",
      "model_module_version": "1.5.0",
      "model_name": "DescriptionStyleModel",
      "state": {
       "_model_module": "@jupyter-widgets/controls",
       "_model_module_version": "1.5.0",
       "_model_name": "DescriptionStyleModel",
       "_view_count": null,
       "_view_module": "@jupyter-widgets/base",
       "_view_module_version": "1.2.0",
       "_view_name": "StyleView",
       "description_width": ""
      }
     },
     "e478dc2b900745c7936446ad03030464": {
      "model_module": "@jupyter-widgets/controls",
      "model_module_version": "1.5.0",
      "model_name": "HBoxModel",
      "state": {
       "_dom_classes": [],
       "_model_module": "@jupyter-widgets/controls",
       "_model_module_version": "1.5.0",
       "_model_name": "HBoxModel",
       "_view_count": null,
       "_view_module": "@jupyter-widgets/controls",
       "_view_module_version": "1.5.0",
       "_view_name": "HBoxView",
       "box_style": "",
       "children": [
        "IPY_MODEL_640301855b0d41c1a617c2be6567461a",
        "IPY_MODEL_2c5662f14cb64485ad6ab036eccc3752",
        "IPY_MODEL_0f99199e7b734ace80a6762f0653e9ac"
       ],
       "layout": "IPY_MODEL_752a1974605c418ca2a8625fb56ac4a2"
      }
     },
     "edc35d2842174310a7d910c65675f6f9": {
      "model_module": "@jupyter-widgets/base",
      "model_module_version": "1.2.0",
      "model_name": "LayoutModel",
      "state": {
       "_model_module": "@jupyter-widgets/base",
       "_model_module_version": "1.2.0",
       "_model_name": "LayoutModel",
       "_view_count": null,
       "_view_module": "@jupyter-widgets/base",
       "_view_module_version": "1.2.0",
       "_view_name": "LayoutView",
       "align_content": null,
       "align_items": null,
       "align_self": null,
       "border": null,
       "bottom": null,
       "display": null,
       "flex": null,
       "flex_flow": null,
       "grid_area": null,
       "grid_auto_columns": null,
       "grid_auto_flow": null,
       "grid_auto_rows": null,
       "grid_column": null,
       "grid_gap": null,
       "grid_row": null,
       "grid_template_areas": null,
       "grid_template_columns": null,
       "grid_template_rows": null,
       "height": null,
       "justify_content": null,
       "justify_items": null,
       "left": null,
       "margin": null,
       "max_height": null,
       "max_width": null,
       "min_height": null,
       "min_width": null,
       "object_fit": null,
       "object_position": null,
       "order": null,
       "overflow": null,
       "overflow_x": null,
       "overflow_y": null,
       "padding": null,
       "right": null,
       "top": null,
       "visibility": null,
       "width": null
      }
     },
     "f47dc61a172c4594995eef08f27d74c7": {
      "model_module": "@jupyter-widgets/base",
      "model_module_version": "1.2.0",
      "model_name": "LayoutModel",
      "state": {
       "_model_module": "@jupyter-widgets/base",
       "_model_module_version": "1.2.0",
       "_model_name": "LayoutModel",
       "_view_count": null,
       "_view_module": "@jupyter-widgets/base",
       "_view_module_version": "1.2.0",
       "_view_name": "LayoutView",
       "align_content": null,
       "align_items": null,
       "align_self": null,
       "border": null,
       "bottom": null,
       "display": null,
       "flex": null,
       "flex_flow": null,
       "grid_area": null,
       "grid_auto_columns": null,
       "grid_auto_flow": null,
       "grid_auto_rows": null,
       "grid_column": null,
       "grid_gap": null,
       "grid_row": null,
       "grid_template_areas": null,
       "grid_template_columns": null,
       "grid_template_rows": null,
       "height": null,
       "justify_content": null,
       "justify_items": null,
       "left": null,
       "margin": null,
       "max_height": null,
       "max_width": null,
       "min_height": null,
       "min_width": null,
       "object_fit": null,
       "object_position": null,
       "order": null,
       "overflow": null,
       "overflow_x": null,
       "overflow_y": null,
       "padding": null,
       "right": null,
       "top": null,
       "visibility": null,
       "width": null
      }
     },
     "f4c9af80350f458bb755cda375f57717": {
      "model_module": "@jupyter-widgets/base",
      "model_module_version": "1.2.0",
      "model_name": "LayoutModel",
      "state": {
       "_model_module": "@jupyter-widgets/base",
       "_model_module_version": "1.2.0",
       "_model_name": "LayoutModel",
       "_view_count": null,
       "_view_module": "@jupyter-widgets/base",
       "_view_module_version": "1.2.0",
       "_view_name": "LayoutView",
       "align_content": null,
       "align_items": null,
       "align_self": null,
       "border": null,
       "bottom": null,
       "display": null,
       "flex": null,
       "flex_flow": null,
       "grid_area": null,
       "grid_auto_columns": null,
       "grid_auto_flow": null,
       "grid_auto_rows": null,
       "grid_column": null,
       "grid_gap": null,
       "grid_row": null,
       "grid_template_areas": null,
       "grid_template_columns": null,
       "grid_template_rows": null,
       "height": null,
       "justify_content": null,
       "justify_items": null,
       "left": null,
       "margin": null,
       "max_height": null,
       "max_width": null,
       "min_height": null,
       "min_width": null,
       "object_fit": null,
       "object_position": null,
       "order": null,
       "overflow": null,
       "overflow_x": null,
       "overflow_y": null,
       "padding": null,
       "right": null,
       "top": null,
       "visibility": null,
       "width": null
      }
     },
     "f90601c62c9841cea352f4b788cd921c": {
      "model_module": "@jupyter-widgets/base",
      "model_module_version": "1.2.0",
      "model_name": "LayoutModel",
      "state": {
       "_model_module": "@jupyter-widgets/base",
       "_model_module_version": "1.2.0",
       "_model_name": "LayoutModel",
       "_view_count": null,
       "_view_module": "@jupyter-widgets/base",
       "_view_module_version": "1.2.0",
       "_view_name": "LayoutView",
       "align_content": null,
       "align_items": null,
       "align_self": null,
       "border": null,
       "bottom": null,
       "display": null,
       "flex": null,
       "flex_flow": null,
       "grid_area": null,
       "grid_auto_columns": null,
       "grid_auto_flow": null,
       "grid_auto_rows": null,
       "grid_column": null,
       "grid_gap": null,
       "grid_row": null,
       "grid_template_areas": null,
       "grid_template_columns": null,
       "grid_template_rows": null,
       "height": null,
       "justify_content": null,
       "justify_items": null,
       "left": null,
       "margin": null,
       "max_height": null,
       "max_width": null,
       "min_height": null,
       "min_width": null,
       "object_fit": null,
       "object_position": null,
       "order": null,
       "overflow": null,
       "overflow_x": null,
       "overflow_y": null,
       "padding": null,
       "right": null,
       "top": null,
       "visibility": null,
       "width": null
      }
     }
    },
    "version_major": 2,
    "version_minor": 0
   }
  }
 },
 "nbformat": 4,
 "nbformat_minor": 5
}
