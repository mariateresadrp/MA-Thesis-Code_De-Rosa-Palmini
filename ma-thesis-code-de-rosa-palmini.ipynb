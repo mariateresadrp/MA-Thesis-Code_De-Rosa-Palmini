{
 "cells": [
  {
   "cell_type": "markdown",
   "id": "0f673654",
   "metadata": {
    "papermill": {
     "duration": 0.041805,
     "end_time": "2023-08-01T09:32:12.615623",
     "exception": false,
     "start_time": "2023-08-01T09:32:12.573818",
     "status": "completed"
    },
    "tags": []
   },
   "source": [
    "# PART 1: \n",
    "## Analysis, Manipulation and Splitting of Data"
   ]
  },
  {
   "cell_type": "code",
   "execution_count": 1,
   "id": "90ab5229",
   "metadata": {
    "collapsed": true,
    "execution": {
     "iopub.execute_input": "2023-08-01T09:32:12.698237Z",
     "iopub.status.busy": "2023-08-01T09:32:12.697173Z",
     "iopub.status.idle": "2023-08-01T09:32:26.243343Z",
     "shell.execute_reply": "2023-08-01T09:32:26.242176Z"
    },
    "jupyter": {
     "outputs_hidden": true
    },
    "papermill": {
     "duration": 13.590523,
     "end_time": "2023-08-01T09:32:26.246019",
     "exception": false,
     "start_time": "2023-08-01T09:32:12.655496",
     "status": "completed"
    },
    "tags": []
   },
   "outputs": [
    {
     "name": "stdout",
     "output_type": "stream",
     "text": [
      "Requirement already satisfied: transformers in /opt/conda/lib/python3.10/site-packages (4.30.2)\r\n",
      "Requirement already satisfied: datasets in /opt/conda/lib/python3.10/site-packages (2.1.0)\r\n",
      "Collecting evaluate\r\n",
      "  Downloading evaluate-0.4.0-py3-none-any.whl (81 kB)\r\n",
      "\u001b[2K     \u001b[90m━━━━━━━━━━━━━━━━━━━━━━━━━━━━━━━━━━━━━━━━\u001b[0m \u001b[32m81.4/81.4 kB\u001b[0m \u001b[31m2.3 MB/s\u001b[0m eta \u001b[36m0:00:00\u001b[0m\r\n",
      "\u001b[?25hRequirement already satisfied: filelock in /opt/conda/lib/python3.10/site-packages (from transformers) (3.12.2)\r\n",
      "Requirement already satisfied: huggingface-hub<1.0,>=0.14.1 in /opt/conda/lib/python3.10/site-packages (from transformers) (0.16.4)\r\n",
      "Requirement already satisfied: numpy>=1.17 in /opt/conda/lib/python3.10/site-packages (from transformers) (1.23.5)\r\n",
      "Requirement already satisfied: packaging>=20.0 in /opt/conda/lib/python3.10/site-packages (from transformers) (21.3)\r\n",
      "Requirement already satisfied: pyyaml>=5.1 in /opt/conda/lib/python3.10/site-packages (from transformers) (6.0)\r\n",
      "Requirement already satisfied: regex!=2019.12.17 in /opt/conda/lib/python3.10/site-packages (from transformers) (2023.6.3)\r\n",
      "Requirement already satisfied: requests in /opt/conda/lib/python3.10/site-packages (from transformers) (2.31.0)\r\n",
      "Requirement already satisfied: tokenizers!=0.11.3,<0.14,>=0.11.1 in /opt/conda/lib/python3.10/site-packages (from transformers) (0.13.3)\r\n",
      "Requirement already satisfied: safetensors>=0.3.1 in /opt/conda/lib/python3.10/site-packages (from transformers) (0.3.1)\r\n",
      "Requirement already satisfied: tqdm>=4.27 in /opt/conda/lib/python3.10/site-packages (from transformers) (4.65.0)\r\n",
      "Requirement already satisfied: pyarrow>=5.0.0 in /opt/conda/lib/python3.10/site-packages (from datasets) (11.0.0)\r\n",
      "Requirement already satisfied: dill in /opt/conda/lib/python3.10/site-packages (from datasets) (0.3.6)\r\n",
      "Requirement already satisfied: pandas in /opt/conda/lib/python3.10/site-packages (from datasets) (1.5.3)\r\n",
      "Requirement already satisfied: xxhash in /opt/conda/lib/python3.10/site-packages (from datasets) (3.2.0)\r\n",
      "Requirement already satisfied: multiprocess in /opt/conda/lib/python3.10/site-packages (from datasets) (0.70.14)\r\n",
      "Requirement already satisfied: fsspec[http]>=2021.05.0 in /opt/conda/lib/python3.10/site-packages (from datasets) (2023.6.0)\r\n",
      "Requirement already satisfied: aiohttp in /opt/conda/lib/python3.10/site-packages (from datasets) (3.8.4)\r\n",
      "Requirement already satisfied: responses<0.19 in /opt/conda/lib/python3.10/site-packages (from datasets) (0.18.0)\r\n",
      "Requirement already satisfied: attrs>=17.3.0 in /opt/conda/lib/python3.10/site-packages (from aiohttp->datasets) (23.1.0)\r\n",
      "Requirement already satisfied: charset-normalizer<4.0,>=2.0 in /opt/conda/lib/python3.10/site-packages (from aiohttp->datasets) (3.1.0)\r\n",
      "Requirement already satisfied: multidict<7.0,>=4.5 in /opt/conda/lib/python3.10/site-packages (from aiohttp->datasets) (6.0.4)\r\n",
      "Requirement already satisfied: async-timeout<5.0,>=4.0.0a3 in /opt/conda/lib/python3.10/site-packages (from aiohttp->datasets) (4.0.2)\r\n",
      "Requirement already satisfied: yarl<2.0,>=1.0 in /opt/conda/lib/python3.10/site-packages (from aiohttp->datasets) (1.9.2)\r\n",
      "Requirement already satisfied: frozenlist>=1.1.1 in /opt/conda/lib/python3.10/site-packages (from aiohttp->datasets) (1.3.3)\r\n",
      "Requirement already satisfied: aiosignal>=1.1.2 in /opt/conda/lib/python3.10/site-packages (from aiohttp->datasets) (1.3.1)\r\n",
      "Requirement already satisfied: typing-extensions>=3.7.4.3 in /opt/conda/lib/python3.10/site-packages (from huggingface-hub<1.0,>=0.14.1->transformers) (4.6.3)\r\n",
      "Requirement already satisfied: pyparsing!=3.0.5,>=2.0.2 in /opt/conda/lib/python3.10/site-packages (from packaging>=20.0->transformers) (3.0.9)\r\n",
      "Requirement already satisfied: idna<4,>=2.5 in /opt/conda/lib/python3.10/site-packages (from requests->transformers) (3.4)\r\n",
      "Requirement already satisfied: urllib3<3,>=1.21.1 in /opt/conda/lib/python3.10/site-packages (from requests->transformers) (1.26.15)\r\n",
      "Requirement already satisfied: certifi>=2017.4.17 in /opt/conda/lib/python3.10/site-packages (from requests->transformers) (2023.5.7)\r\n",
      "Requirement already satisfied: python-dateutil>=2.8.1 in /opt/conda/lib/python3.10/site-packages (from pandas->datasets) (2.8.2)\r\n",
      "Requirement already satisfied: pytz>=2020.1 in /opt/conda/lib/python3.10/site-packages (from pandas->datasets) (2023.3)\r\n",
      "Requirement already satisfied: six>=1.5 in /opt/conda/lib/python3.10/site-packages (from python-dateutil>=2.8.1->pandas->datasets) (1.16.0)\r\n",
      "Installing collected packages: evaluate\r\n",
      "Successfully installed evaluate-0.4.0\r\n"
     ]
    }
   ],
   "source": [
    "!pip install transformers datasets evaluate"
   ]
  },
  {
   "cell_type": "code",
   "execution_count": 2,
   "id": "bb8309a2",
   "metadata": {
    "execution": {
     "iopub.execute_input": "2023-08-01T09:32:26.333252Z",
     "iopub.status.busy": "2023-08-01T09:32:26.332857Z",
     "iopub.status.idle": "2023-08-01T09:32:31.294324Z",
     "shell.execute_reply": "2023-08-01T09:32:31.293331Z"
    },
    "papermill": {
     "duration": 5.006998,
     "end_time": "2023-08-01T09:32:31.297023",
     "exception": false,
     "start_time": "2023-08-01T09:32:26.290025",
     "status": "completed"
    },
    "tags": []
   },
   "outputs": [
    {
     "name": "stderr",
     "output_type": "stream",
     "text": [
      "/opt/conda/lib/python3.10/site-packages/scipy/__init__.py:146: UserWarning: A NumPy version >=1.16.5 and <1.23.0 is required for this version of SciPy (detected version 1.23.5\n",
      "  warnings.warn(f\"A NumPy version >={np_minversion} and <{np_maxversion}\"\n"
     ]
    }
   ],
   "source": [
    "# Import necessary libraries\n",
    "\n",
    "# data processing\n",
    "import pandas as pd\n",
    "import numpy as np\n",
    "\n",
    "# tensors\n",
    "import torch\n",
    "\n",
    "# other\n",
    "import json\n",
    "import re\n",
    "\n",
    "# sklearn\n",
    "from sklearn.preprocessing import LabelEncoder\n",
    "\n",
    "# hugging face dataset\n",
    "from datasets import Dataset"
   ]
  },
  {
   "cell_type": "code",
   "execution_count": 3,
   "id": "b5f4b5be",
   "metadata": {
    "execution": {
     "iopub.execute_input": "2023-08-01T09:32:31.381498Z",
     "iopub.status.busy": "2023-08-01T09:32:31.380854Z",
     "iopub.status.idle": "2023-08-01T09:32:35.479104Z",
     "shell.execute_reply": "2023-08-01T09:32:35.478125Z"
    },
    "papermill": {
     "duration": 4.142082,
     "end_time": "2023-08-01T09:32:35.481152",
     "exception": false,
     "start_time": "2023-08-01T09:32:31.339070",
     "status": "completed"
    },
    "tags": []
   },
   "outputs": [
    {
     "name": "stderr",
     "output_type": "stream",
     "text": [
      "\u001b[34m\u001b[1mwandb\u001b[0m: W&B API key is configured. Use \u001b[1m`wandb login --relogin`\u001b[0m to force relogin\n",
      "\u001b[34m\u001b[1mwandb\u001b[0m: \u001b[33mWARNING\u001b[0m If you're specifying your api key in code, ensure this code is not shared publicly.\n",
      "\u001b[34m\u001b[1mwandb\u001b[0m: \u001b[33mWARNING\u001b[0m Consider setting the WANDB_API_KEY environment variable, or running `wandb login` from the command line.\n",
      "\u001b[34m\u001b[1mwandb\u001b[0m: Appending key for api.wandb.ai to your netrc file: /root/.netrc\n"
     ]
    },
    {
     "data": {
      "text/plain": [
       "True"
      ]
     },
     "execution_count": 3,
     "metadata": {},
     "output_type": "execute_result"
    }
   ],
   "source": [
    "import wandb\n",
    "from kaggle_secrets import UserSecretsClient\n",
    "\n",
    "# Load the API key from Kaggle's secrets\n",
    "user_secrets = UserSecretsClient()\n",
    "wandb_api_key = user_secrets.get_secret(\"WANDB_API_KEY\")\n",
    "\n",
    "# Set up the API key for wandb\n",
    "wandb.login(key=wandb_api_key)"
   ]
  },
  {
   "cell_type": "markdown",
   "id": "c4b539cb",
   "metadata": {
    "papermill": {
     "duration": 0.040792,
     "end_time": "2023-08-01T09:32:35.563528",
     "exception": false,
     "start_time": "2023-08-01T09:32:35.522736",
     "status": "completed"
    },
    "tags": []
   },
   "source": [
    "### 1.1 Importing the datasets"
   ]
  },
  {
   "cell_type": "code",
   "execution_count": 4,
   "id": "4df2a3c3",
   "metadata": {
    "execution": {
     "iopub.execute_input": "2023-08-01T09:32:35.647954Z",
     "iopub.status.busy": "2023-08-01T09:32:35.647599Z",
     "iopub.status.idle": "2023-08-01T09:32:35.653540Z",
     "shell.execute_reply": "2023-08-01T09:32:35.652599Z"
    },
    "papermill": {
     "duration": 0.050542,
     "end_time": "2023-08-01T09:32:35.655785",
     "exception": false,
     "start_time": "2023-08-01T09:32:35.605243",
     "status": "completed"
    },
    "tags": []
   },
   "outputs": [],
   "source": [
    "# Read a file containing a list of JSON objects\n",
    "\n",
    "def load_json_list(file_name):\n",
    "    data = []\n",
    "    with open(file_name, 'r') as f:\n",
    "        for line in f:\n",
    "            try:\n",
    "                dat = json.loads(line)\n",
    "                # Avoid empty dictionaries\n",
    "                if dat:\n",
    "                    data.append(dat)\n",
    "            except JSONDecodeError:\n",
    "                pass\n",
    "\n",
    "    return data"
   ]
  },
  {
   "cell_type": "code",
   "execution_count": 5,
   "id": "8ecf2c3e",
   "metadata": {
    "execution": {
     "iopub.execute_input": "2023-08-01T09:32:35.743292Z",
     "iopub.status.busy": "2023-08-01T09:32:35.742238Z",
     "iopub.status.idle": "2023-08-01T09:32:36.222232Z",
     "shell.execute_reply": "2023-08-01T09:32:36.221213Z"
    },
    "papermill": {
     "duration": 0.52708,
     "end_time": "2023-08-01T09:32:36.224637",
     "exception": false,
     "start_time": "2023-08-01T09:32:35.697557",
     "status": "completed"
    },
    "tags": []
   },
   "outputs": [],
   "source": [
    "# Load audience and critics reviews from the Rotten Tomatoes dataset\n",
    "\n",
    "audience_reviews = load_json_list('/kaggle/input/rotten-tomatoes-reviews/movie_reviews/audience_reviews_short.json')\n",
    "critics_reviews = load_json_list('/kaggle/input/rotten-tomatoes-reviews/movie_reviews/critics_reviews_short.json')"
   ]
  },
  {
   "cell_type": "code",
   "execution_count": 6,
   "id": "13f66484",
   "metadata": {
    "execution": {
     "iopub.execute_input": "2023-08-01T09:32:36.309972Z",
     "iopub.status.busy": "2023-08-01T09:32:36.309604Z",
     "iopub.status.idle": "2023-08-01T09:32:36.402509Z",
     "shell.execute_reply": "2023-08-01T09:32:36.401518Z"
    },
    "papermill": {
     "duration": 0.138529,
     "end_time": "2023-08-01T09:32:36.405056",
     "exception": false,
     "start_time": "2023-08-01T09:32:36.266527",
     "status": "completed"
    },
    "tags": []
   },
   "outputs": [],
   "source": [
    "# Read the CSV file into a pandas Dataframe\n",
    "\n",
    "df_emotions = pd.read_csv('/kaggle/input/emotions-in-text/Emotion_final.csv')"
   ]
  },
  {
   "cell_type": "markdown",
   "id": "d7cb4b65",
   "metadata": {
    "papermill": {
     "duration": 0.041917,
     "end_time": "2023-08-01T09:32:36.490619",
     "exception": false,
     "start_time": "2023-08-01T09:32:36.448702",
     "status": "completed"
    },
    "tags": []
   },
   "source": [
    "### 1.2 Dropping unecessary information"
   ]
  },
  {
   "cell_type": "code",
   "execution_count": 7,
   "id": "9d838806",
   "metadata": {
    "execution": {
     "iopub.execute_input": "2023-08-01T09:32:36.574789Z",
     "iopub.status.busy": "2023-08-01T09:32:36.574432Z",
     "iopub.status.idle": "2023-08-01T09:32:36.594872Z",
     "shell.execute_reply": "2023-08-01T09:32:36.593890Z"
    },
    "papermill": {
     "duration": 0.065433,
     "end_time": "2023-08-01T09:32:36.597604",
     "exception": false,
     "start_time": "2023-08-01T09:32:36.532171",
     "status": "completed"
    },
    "tags": []
   },
   "outputs": [
    {
     "name": "stdout",
     "output_type": "stream",
     "text": [
      "[{'rating': 3, 'text': 'It ended leaving u hanging'}, {'rating': 2.5, 'text': 'Good story. Dragged a little, but interesting.'}, {'rating': 5, 'text': 'Put this one in the plus column for M Night Shyamalan.'}, {'rating': 5, 'text': 'Very good movie. Kept us on the edge of our seat the whole time.'}, {'rating': 5, 'text': 'This movie definitely had alot of suspense, kept you guessing.  Definitely one of M. Night Shyamalan better movies along with Sixth sense.'}]\n"
     ]
    }
   ],
   "source": [
    "# Extract rating and review text from audience reviews\n",
    "\n",
    "data_audience = [{'rating': review['rating'], 'text': review['review']} \n",
    "                 for dat in audience_reviews if dat.get('reviews') for review in dat['reviews']]\n",
    "\n",
    "print(data_audience[:5])"
   ]
  },
  {
   "cell_type": "code",
   "execution_count": 8,
   "id": "8348ab2d",
   "metadata": {
    "execution": {
     "iopub.execute_input": "2023-08-01T09:32:36.681979Z",
     "iopub.status.busy": "2023-08-01T09:32:36.681626Z",
     "iopub.status.idle": "2023-08-01T09:32:36.687534Z",
     "shell.execute_reply": "2023-08-01T09:32:36.686480Z"
    },
    "papermill": {
     "duration": 0.052335,
     "end_time": "2023-08-01T09:32:36.691432",
     "exception": false,
     "start_time": "2023-08-01T09:32:36.639097",
     "status": "completed"
    },
    "tags": []
   },
   "outputs": [
    {
     "name": "stdout",
     "output_type": "stream",
     "text": [
      "Before 19391\n"
     ]
    }
   ],
   "source": [
    "# Define a classifier function based on the rating score\n",
    "\n",
    "classifier = lambda score: 1 if score >= 4.0 else 0 if score <= 1.5 else -1\n",
    "print('Before', len(data_audience))"
   ]
  },
  {
   "cell_type": "code",
   "execution_count": 9,
   "id": "f46e2886",
   "metadata": {
    "execution": {
     "iopub.execute_input": "2023-08-01T09:32:36.776255Z",
     "iopub.status.busy": "2023-08-01T09:32:36.775868Z",
     "iopub.status.idle": "2023-08-01T09:32:36.800658Z",
     "shell.execute_reply": "2023-08-01T09:32:36.799711Z"
    },
    "papermill": {
     "duration": 0.069871,
     "end_time": "2023-08-01T09:32:36.803013",
     "exception": false,
     "start_time": "2023-08-01T09:32:36.733142",
     "status": "completed"
    },
    "tags": []
   },
   "outputs": [
    {
     "name": "stdout",
     "output_type": "stream",
     "text": [
      "After removing neutral reviews 14931\n",
      "[{'text': 'Put this one in the plus column for M Night Shyamalan.', 'sentiment': 1}, {'text': 'Very good movie. Kept us on the edge of our seat the whole time.', 'sentiment': 1}, {'text': 'This movie definitely had alot of suspense, kept you guessing.  Definitely one of M. Night Shyamalan better movies along with Sixth sense.', 'sentiment': 1}, {'text': 'Oh no A movie I didn’t like. It was twisted and weird. The worst M. Night Shyamalan movie ever. This was 100% Bad', 'sentiment': 0}, {'text': \"Great movie…..wasn't expecting that.\", 'sentiment': 1}]\n"
     ]
    }
   ],
   "source": [
    "# Filter out neutral reviews and keep only text and sentiment columns\n",
    "\n",
    "data_audience = [{'text': review['text'], 'sentiment': classifier(review['rating'])} \n",
    "                 for review in data_audience \n",
    "                 if classifier(review['rating']) != -1]\n",
    "\n",
    "print('After removing neutral reviews', len(data_audience))\n",
    "print(data_audience[:5])"
   ]
  },
  {
   "cell_type": "code",
   "execution_count": 10,
   "id": "72257bee",
   "metadata": {
    "execution": {
     "iopub.execute_input": "2023-08-01T09:32:36.888458Z",
     "iopub.status.busy": "2023-08-01T09:32:36.888057Z",
     "iopub.status.idle": "2023-08-01T09:32:36.918868Z",
     "shell.execute_reply": "2023-08-01T09:32:36.917094Z"
    },
    "papermill": {
     "duration": 0.076239,
     "end_time": "2023-08-01T09:32:36.921231",
     "exception": false,
     "start_time": "2023-08-01T09:32:36.844992",
     "status": "completed"
    },
    "tags": []
   },
   "outputs": [
    {
     "name": "stdout",
     "output_type": "stream",
     "text": [
      "                                                text  sentiment\n",
      "0  Put this one in the plus column for M Night Sh...          1\n",
      "1  Very good movie. Kept us on the edge of our se...          1\n",
      "2  This movie definitely had alot of suspense, ke...          1\n",
      "3  Oh no A movie I didn’t like. It was twisted an...          0\n",
      "4               Great movie…..wasn't expecting that.          1\n"
     ]
    }
   ],
   "source": [
    "# Create a DataFrame for audience reviews\n",
    "df_audience = pd.DataFrame(data_audience)\n",
    "print(df_audience[:5])"
   ]
  },
  {
   "cell_type": "code",
   "execution_count": 11,
   "id": "c0e4824c",
   "metadata": {
    "execution": {
     "iopub.execute_input": "2023-08-01T09:32:37.017986Z",
     "iopub.status.busy": "2023-08-01T09:32:37.016976Z",
     "iopub.status.idle": "2023-08-01T09:32:37.033979Z",
     "shell.execute_reply": "2023-08-01T09:32:37.032844Z"
    },
    "papermill": {
     "duration": 0.067681,
     "end_time": "2023-08-01T09:32:37.037154",
     "exception": false,
     "start_time": "2023-08-01T09:32:36.969473",
     "status": "completed"
    },
    "tags": []
   },
   "outputs": [
    {
     "name": "stdout",
     "output_type": "stream",
     "text": [
      "Number of samples 12867\n"
     ]
    }
   ],
   "source": [
    "# Extract text, fresh, and rotten from critics_reviews\n",
    "\n",
    "data_critics = [{'text': review.get('quote'), \n",
    "                 'fresh': review['isFresh'], 'rotten': review['isRotten']} \n",
    "                for dat in critics_reviews if dat.get('reviews') for review in dat['reviews']]\n",
    "\n",
    "print('Number of samples', len(data_critics))"
   ]
  },
  {
   "cell_type": "code",
   "execution_count": 12,
   "id": "60e455f5",
   "metadata": {
    "execution": {
     "iopub.execute_input": "2023-08-01T09:32:37.123473Z",
     "iopub.status.busy": "2023-08-01T09:32:37.122472Z",
     "iopub.status.idle": "2023-08-01T09:32:37.138493Z",
     "shell.execute_reply": "2023-08-01T09:32:37.137401Z"
    },
    "papermill": {
     "duration": 0.062767,
     "end_time": "2023-08-01T09:32:37.141879",
     "exception": false,
     "start_time": "2023-08-01T09:32:37.079112",
     "status": "completed"
    },
    "tags": []
   },
   "outputs": [
    {
     "name": "stdout",
     "output_type": "stream",
     "text": [
      "[{'text': '[Shyamalan is] as strong a visual craftsman as ever, a master manipulator who toys with his audience with the winking acerbity of his idol Hitchcock. ', 'sentiment': 1}, {'text': 'There is only one thing worse than an M&#46; Night Shyamalan movie with a twist ending&#46; And that is one without a twist ending&#46; Feels like a faith-based movie trying to sneak in under a disingenuous wire&#46;', 'sentiment': 0}, {'text': 'Though at times you want it to deliver more on its promise&#44; the conclusion sticks the landing in ways few Shayamalan films of late have managed to', 'sentiment': 1}, {'text': 'While its questions about what we choose to put our faith in and why are as obvious as one late easy reveal&#44; Knock at the Cabin earns two firm beliefs&#58; in Shyamalan messing with vacations again&#44; and in Bautista at his best&#46;', 'sentiment': 1}, {'text': 'An artless film without the guts to bring the apocalyptic threat to life onscreen&#46;', 'sentiment': 0}]\n"
     ]
    }
   ],
   "source": [
    "# Keep only fresh reviews and transform fresh/rotten labels to sentiment labels (1=positive, 0=negative)\n",
    "data_critics = [{'text': dat['text'], 'sentiment': int(dat['fresh'])} for dat in data_critics]\n",
    "print(data_critics[:5])"
   ]
  },
  {
   "cell_type": "code",
   "execution_count": 13,
   "id": "4859d7f0",
   "metadata": {
    "execution": {
     "iopub.execute_input": "2023-08-01T09:32:37.227258Z",
     "iopub.status.busy": "2023-08-01T09:32:37.226887Z",
     "iopub.status.idle": "2023-08-01T09:32:37.247218Z",
     "shell.execute_reply": "2023-08-01T09:32:37.246187Z"
    },
    "papermill": {
     "duration": 0.065176,
     "end_time": "2023-08-01T09:32:37.249238",
     "exception": false,
     "start_time": "2023-08-01T09:32:37.184062",
     "status": "completed"
    },
    "tags": []
   },
   "outputs": [],
   "source": [
    "# Create a DataFrame for critics reviews\n",
    "df_critics = pd.DataFrame(data_critics)"
   ]
  },
  {
   "cell_type": "code",
   "execution_count": 14,
   "id": "aae7ccb7",
   "metadata": {
    "execution": {
     "iopub.execute_input": "2023-08-01T09:32:37.335055Z",
     "iopub.status.busy": "2023-08-01T09:32:37.334701Z",
     "iopub.status.idle": "2023-08-01T09:32:37.447651Z",
     "shell.execute_reply": "2023-08-01T09:32:37.446679Z"
    },
    "papermill": {
     "duration": 0.1594,
     "end_time": "2023-08-01T09:32:37.450386",
     "exception": false,
     "start_time": "2023-08-01T09:32:37.290986",
     "status": "completed"
    },
    "tags": []
   },
   "outputs": [
    {
     "name": "stdout",
     "output_type": "stream",
     "text": [
      "27798\n"
     ]
    }
   ],
   "source": [
    "# Remove special characters starting with '&' from the text\n",
    "pattern = re.compile(r'\\&\\S+;')\n",
    "df_critics['text'] = df_critics.text.apply(lambda x: pattern.sub(' ', str(x)))\n",
    "\n",
    "# Remove extra spaces from the text\n",
    "pattern_spaces = re.compile('\\s{2,}')\n",
    "df_critics['text'] = df_critics.text.apply(lambda x: pattern_spaces.sub(' ', str(x))).str.strip()\n",
    "\n",
    "# Concatenate the critics and audience DataFrames\n",
    "df_concat = pd.concat([df_critics, df_audience], ignore_index=True)\n",
    "\n",
    "print(len(df_concat))"
   ]
  },
  {
   "cell_type": "markdown",
   "id": "93a39dc3",
   "metadata": {
    "papermill": {
     "duration": 0.042002,
     "end_time": "2023-08-01T09:32:37.534946",
     "exception": false,
     "start_time": "2023-08-01T09:32:37.492944",
     "status": "completed"
    },
    "tags": []
   },
   "source": [
    "### 1.3 Renaming the Columns"
   ]
  },
  {
   "cell_type": "code",
   "execution_count": 15,
   "id": "cd37fa0a",
   "metadata": {
    "execution": {
     "iopub.execute_input": "2023-08-01T09:32:37.622085Z",
     "iopub.status.busy": "2023-08-01T09:32:37.621011Z",
     "iopub.status.idle": "2023-08-01T09:32:37.636145Z",
     "shell.execute_reply": "2023-08-01T09:32:37.635123Z"
    },
    "papermill": {
     "duration": 0.060603,
     "end_time": "2023-08-01T09:32:37.638430",
     "exception": false,
     "start_time": "2023-08-01T09:32:37.577827",
     "status": "completed"
    },
    "tags": []
   },
   "outputs": [
    {
     "name": "stdout",
     "output_type": "stream",
     "text": [
      "                                                sentence  label\n",
      "0      [Shyamalan is] as strong a visual craftsman as...      1\n",
      "1      There is only one thing worse than an M Night ...      0\n",
      "2      Though at times you want it to deliver more on...      1\n",
      "3      While its questions about what we choose to pu...      1\n",
      "4      An artless film without the guts to bring the ...      0\n",
      "...                                                  ...    ...\n",
      "27793  This movie saved the Shrek saga. A Spin-Off of...      1\n",
      "27794  A great idea to tell the story of Puss in Boot...      0\n",
      "27795  Dreamworks has been inconsistent for me. I lov...      1\n",
      "27796  Honestly an unexpectedly really good movie. At...      1\n",
      "27797  I'm glad that I was raised with that kind of a...      1\n",
      "\n",
      "[27798 rows x 2 columns]\n",
      "                                                sentence    label\n",
      "0                                i didnt feel humiliated  sadness\n",
      "1      i can go from feeling so hopeless to so damned...  sadness\n",
      "2       im grabbing a minute to post i feel greedy wrong    anger\n",
      "3      i am ever feeling nostalgic about the fireplac...     love\n",
      "4                                   i am feeling grouchy    anger\n",
      "...                                                  ...      ...\n",
      "21454               Melissa stared at her friend in dism     fear\n",
      "21455  Successive state elections have seen the gover...     fear\n",
      "21456               Vincent was irritated but not dismay     fear\n",
      "21457  Kendall-Hume turned back to face the dismayed ...     fear\n",
      "21458                    I am dismayed , but not surpris     fear\n",
      "\n",
      "[21459 rows x 2 columns]\n"
     ]
    }
   ],
   "source": [
    "# Rename columns\n",
    "reviews_df = df_concat.rename(columns={'text': 'sentence', 'sentiment': 'label'})\n",
    "emotions_df = df_emotions.rename(columns={'Text': 'sentence', 'Emotion': 'label'})\n",
    "\n",
    "# Print the updated DataFrame\n",
    "print(reviews_df)\n",
    "print(emotions_df)"
   ]
  },
  {
   "cell_type": "markdown",
   "id": "494db849",
   "metadata": {
    "papermill": {
     "duration": 0.042362,
     "end_time": "2023-08-01T09:32:37.726075",
     "exception": false,
     "start_time": "2023-08-01T09:32:37.683713",
     "status": "completed"
    },
    "tags": []
   },
   "source": [
    "### 1.4 Manipulation of Labels"
   ]
  },
  {
   "cell_type": "code",
   "execution_count": 16,
   "id": "f876fb51",
   "metadata": {
    "execution": {
     "iopub.execute_input": "2023-08-01T09:32:37.812824Z",
     "iopub.status.busy": "2023-08-01T09:32:37.811896Z",
     "iopub.status.idle": "2023-08-01T09:32:37.822468Z",
     "shell.execute_reply": "2023-08-01T09:32:37.821271Z"
    },
    "papermill": {
     "duration": 0.05551,
     "end_time": "2023-08-01T09:32:37.824561",
     "exception": false,
     "start_time": "2023-08-01T09:32:37.769051",
     "status": "completed"
    },
    "tags": []
   },
   "outputs": [
    {
     "name": "stdout",
     "output_type": "stream",
     "text": [
      "['sadness' 'anger' 'love' 'surprise' 'fear' 'happy']\n"
     ]
    }
   ],
   "source": [
    "# Print the different values in the \"label\" column\n",
    "unique_labels = emotions_df['label'].unique()\n",
    "print(unique_labels)"
   ]
  },
  {
   "cell_type": "code",
   "execution_count": 17,
   "id": "690416f8",
   "metadata": {
    "execution": {
     "iopub.execute_input": "2023-08-01T09:32:37.911468Z",
     "iopub.status.busy": "2023-08-01T09:32:37.910548Z",
     "iopub.status.idle": "2023-08-01T09:32:37.924875Z",
     "shell.execute_reply": "2023-08-01T09:32:37.923451Z"
    },
    "papermill": {
     "duration": 0.060063,
     "end_time": "2023-08-01T09:32:37.926959",
     "exception": false,
     "start_time": "2023-08-01T09:32:37.866896",
     "status": "completed"
    },
    "tags": []
   },
   "outputs": [
    {
     "name": "stdout",
     "output_type": "stream",
     "text": [
      "[4 0 3 5 1 2]\n"
     ]
    }
   ],
   "source": [
    "# Initialize the LabelEncoder\n",
    "label_encoder = LabelEncoder()\n",
    "\n",
    "# Apply label transformation\n",
    "emotions_df['label'] = label_encoder.fit_transform(emotions_df['label'])\n",
    "\n",
    "# Print the encoded labels\n",
    "encoded_labels = emotions_df['label'].unique()\n",
    "print(encoded_labels)"
   ]
  },
  {
   "cell_type": "markdown",
   "id": "5b880f18",
   "metadata": {
    "papermill": {
     "duration": 0.042879,
     "end_time": "2023-08-01T09:32:38.016235",
     "exception": false,
     "start_time": "2023-08-01T09:32:37.973356",
     "status": "completed"
    },
    "tags": []
   },
   "source": [
    "### 1.5 Data Splitting"
   ]
  },
  {
   "cell_type": "code",
   "execution_count": 18,
   "id": "a6f60a40",
   "metadata": {
    "execution": {
     "iopub.execute_input": "2023-08-01T09:32:38.108351Z",
     "iopub.status.busy": "2023-08-01T09:32:38.107397Z",
     "iopub.status.idle": "2023-08-01T09:32:38.127287Z",
     "shell.execute_reply": "2023-08-01T09:32:38.126254Z"
    },
    "papermill": {
     "duration": 0.066446,
     "end_time": "2023-08-01T09:32:38.129624",
     "exception": false,
     "start_time": "2023-08-01T09:32:38.063178",
     "status": "completed"
    },
    "tags": []
   },
   "outputs": [
    {
     "name": "stdout",
     "output_type": "stream",
     "text": [
      "The training dataset of movie reviews has 19459 records.\n",
      "The training dataset of emotion tweets has 15021 records.\n",
      "The testing dataset of movie reviews has 8339 records.\n",
      "The testing dataset of emotion tweets has 6438 records.\n"
     ]
    }
   ],
   "source": [
    "# Training dataset\n",
    "train_reviews =  reviews_df.sample(frac=0.7, random_state=42)\n",
    "train_emotions = emotions_df.sample(frac=0.7, random_state=42)\n",
    "\n",
    "# Testing dataset\n",
    "test_reviews =  reviews_df.drop(train_reviews .index)\n",
    "test_emotions = emotions_df.drop(train_emotions.index)\n",
    "\n",
    "# Determine the count of records in the training and testing datasets.\n",
    "print(f'The training dataset of movie reviews has {len(train_reviews)} records.')\n",
    "print(f'The training dataset of emotion tweets has {len(train_emotions)} records.')\n",
    "print(f'The testing dataset of movie reviews has {len(test_reviews)} records.')\n",
    "print(f'The testing dataset of emotion tweets has {len(test_emotions)} records.')"
   ]
  },
  {
   "cell_type": "markdown",
   "id": "386dace4",
   "metadata": {
    "papermill": {
     "duration": 0.042074,
     "end_time": "2023-08-01T09:32:38.217461",
     "exception": false,
     "start_time": "2023-08-01T09:32:38.175387",
     "status": "completed"
    },
    "tags": []
   },
   "source": [
    "### 1.6 Data preprocessing for text classification using BERT"
   ]
  },
  {
   "cell_type": "code",
   "execution_count": 19,
   "id": "81cc3627",
   "metadata": {
    "execution": {
     "iopub.execute_input": "2023-08-01T09:32:38.303061Z",
     "iopub.status.busy": "2023-08-01T09:32:38.302416Z",
     "iopub.status.idle": "2023-08-01T09:32:38.345901Z",
     "shell.execute_reply": "2023-08-01T09:32:38.344944Z"
    },
    "papermill": {
     "duration": 0.088957,
     "end_time": "2023-08-01T09:32:38.348430",
     "exception": false,
     "start_time": "2023-08-01T09:32:38.259473",
     "status": "completed"
    },
    "tags": []
   },
   "outputs": [],
   "source": [
    "# Transform dataset into a HG dataset\n",
    "hg_train_sentiment = Dataset.from_pandas(train_reviews)\n",
    "hg_test_sentiment = Dataset.from_pandas(test_reviews)\n",
    "hg_train_emotion = Dataset.from_pandas(train_emotions)\n",
    "hg_test_emotion = Dataset.from_pandas(test_emotions)"
   ]
  },
  {
   "cell_type": "code",
   "execution_count": 20,
   "id": "f995fbc0",
   "metadata": {
    "execution": {
     "iopub.execute_input": "2023-08-01T09:32:38.434687Z",
     "iopub.status.busy": "2023-08-01T09:32:38.434010Z",
     "iopub.status.idle": "2023-08-01T09:32:38.444132Z",
     "shell.execute_reply": "2023-08-01T09:32:38.443223Z"
    },
    "papermill": {
     "duration": 0.055603,
     "end_time": "2023-08-01T09:32:38.446063",
     "exception": false,
     "start_time": "2023-08-01T09:32:38.390460",
     "status": "completed"
    },
    "tags": []
   },
   "outputs": [
    {
     "name": "stdout",
     "output_type": "stream",
     "text": [
      "The length of hg_train_data is 19459.\n",
      "\n"
     ]
    },
    {
     "data": {
      "text/plain": [
       "{'sentence': 'Not a perfect movie but if you love movie making, Wolf of Wall Street and Boogie Nights this is a great pick',\n",
       " 'label': 1,\n",
       " '__index_level_0__': 18168}"
      ]
     },
     "execution_count": 20,
     "metadata": {},
     "output_type": "execute_result"
    }
   ],
   "source": [
    "# Inspect the length of the dataset\n",
    "print(f'The length of hg_train_data is {len(hg_train_sentiment)}.\\n')\n",
    "\n",
    "# check one review\n",
    "hg_train_sentiment[0]"
   ]
  },
  {
   "cell_type": "code",
   "execution_count": 21,
   "id": "b0e45fae",
   "metadata": {
    "execution": {
     "iopub.execute_input": "2023-08-01T09:32:38.536106Z",
     "iopub.status.busy": "2023-08-01T09:32:38.535141Z",
     "iopub.status.idle": "2023-08-01T09:32:38.546480Z",
     "shell.execute_reply": "2023-08-01T09:32:38.545490Z"
    },
    "papermill": {
     "duration": 0.056983,
     "end_time": "2023-08-01T09:32:38.548663",
     "exception": false,
     "start_time": "2023-08-01T09:32:38.491680",
     "status": "completed"
    },
    "tags": []
   },
   "outputs": [
    {
     "data": {
      "text/html": [
       "<div>\n",
       "<style scoped>\n",
       "    .dataframe tbody tr th:only-of-type {\n",
       "        vertical-align: middle;\n",
       "    }\n",
       "\n",
       "    .dataframe tbody tr th {\n",
       "        vertical-align: top;\n",
       "    }\n",
       "\n",
       "    .dataframe thead th {\n",
       "        text-align: right;\n",
       "    }\n",
       "</style>\n",
       "<table border=\"1\" class=\"dataframe\">\n",
       "  <thead>\n",
       "    <tr style=\"text-align: right;\">\n",
       "      <th></th>\n",
       "      <th>sentence</th>\n",
       "      <th>label</th>\n",
       "    </tr>\n",
       "  </thead>\n",
       "  <tbody>\n",
       "    <tr>\n",
       "      <th>18168</th>\n",
       "      <td>Not a perfect movie but if you love movie maki...</td>\n",
       "      <td>1</td>\n",
       "    </tr>\n",
       "  </tbody>\n",
       "</table>\n",
       "</div>"
      ],
      "text/plain": [
       "                                                sentence  label\n",
       "18168  Not a perfect movie but if you love movie maki...      1"
      ]
     },
     "execution_count": 21,
     "metadata": {},
     "output_type": "execute_result"
    }
   ],
   "source": [
    "# Verify the data entry in a Pandas DataFrame\n",
    "reviews_df.iloc[[18168]]"
   ]
  },
  {
   "cell_type": "markdown",
   "id": "46ca4ace",
   "metadata": {
    "papermill": {
     "duration": 0.042291,
     "end_time": "2023-08-01T09:32:38.634556",
     "exception": false,
     "start_time": "2023-08-01T09:32:38.592265",
     "status": "completed"
    },
    "tags": []
   },
   "source": [
    "# PART 2: \n",
    "## BERT Fine-Tuning"
   ]
  },
  {
   "cell_type": "markdown",
   "id": "1a5f1b1b",
   "metadata": {
    "papermill": {
     "duration": 0.041994,
     "end_time": "2023-08-01T09:32:38.719706",
     "exception": false,
     "start_time": "2023-08-01T09:32:38.677712",
     "status": "completed"
    },
    "tags": []
   },
   "source": [
    "### 2.1 Tokenenization"
   ]
  },
  {
   "cell_type": "code",
   "execution_count": 22,
   "id": "0a9e719b",
   "metadata": {
    "execution": {
     "iopub.execute_input": "2023-08-01T09:32:38.807044Z",
     "iopub.status.busy": "2023-08-01T09:32:38.805880Z",
     "iopub.status.idle": "2023-08-01T09:32:49.197432Z",
     "shell.execute_reply": "2023-08-01T09:32:49.196442Z"
    },
    "papermill": {
     "duration": 10.437611,
     "end_time": "2023-08-01T09:32:49.199848",
     "exception": false,
     "start_time": "2023-08-01T09:32:38.762237",
     "status": "completed"
    },
    "tags": []
   },
   "outputs": [
    {
     "name": "stderr",
     "output_type": "stream",
     "text": [
      "/opt/conda/lib/python3.10/site-packages/tensorflow_io/python/ops/__init__.py:98: UserWarning: unable to load libtensorflow_io_plugins.so: unable to open file: libtensorflow_io_plugins.so, from paths: ['/opt/conda/lib/python3.10/site-packages/tensorflow_io/python/ops/libtensorflow_io_plugins.so']\n",
      "caused by: ['/opt/conda/lib/python3.10/site-packages/tensorflow_io/python/ops/libtensorflow_io_plugins.so: undefined symbol: _ZN3tsl6StatusC1EN10tensorflow5error4CodeESt17basic_string_viewIcSt11char_traitsIcEENS_14SourceLocationE']\n",
      "  warnings.warn(f\"unable to load libtensorflow_io_plugins.so: {e}\")\n",
      "/opt/conda/lib/python3.10/site-packages/tensorflow_io/python/ops/__init__.py:104: UserWarning: file system plugins are not loaded: unable to open file: libtensorflow_io.so, from paths: ['/opt/conda/lib/python3.10/site-packages/tensorflow_io/python/ops/libtensorflow_io.so']\n",
      "caused by: ['/opt/conda/lib/python3.10/site-packages/tensorflow_io/python/ops/libtensorflow_io.so: undefined symbol: _ZTVN10tensorflow13GcsFileSystemE']\n",
      "  warnings.warn(f\"file system plugins are not loaded: {e}\")\n"
     ]
    }
   ],
   "source": [
    "# Import necessary libraries\n",
    "\n",
    "# tensorflow\n",
    "import tensorflow as tf\n",
    "\n",
    "# BERT\n",
    "from transformers import BertTokenizer, BertForSequenceClassification, TrainingArguments, Trainer, EarlyStoppingCallback, TextClassificationPipeline\n",
    "\n",
    "# model performance evaluation\n",
    "import evaluate"
   ]
  },
  {
   "cell_type": "code",
   "execution_count": 23,
   "id": "8df4bfdf",
   "metadata": {
    "execution": {
     "iopub.execute_input": "2023-08-01T09:32:49.292140Z",
     "iopub.status.busy": "2023-08-01T09:32:49.291336Z",
     "iopub.status.idle": "2023-08-01T09:32:52.731756Z",
     "shell.execute_reply": "2023-08-01T09:32:52.730835Z"
    },
    "papermill": {
     "duration": 3.486545,
     "end_time": "2023-08-01T09:32:52.733978",
     "exception": false,
     "start_time": "2023-08-01T09:32:49.247433",
     "status": "completed"
    },
    "tags": []
   },
   "outputs": [
    {
     "data": {
      "application/vnd.jupyter.widget-view+json": {
       "model_id": "5bff0bbb788a4fa8a4b416c4543a577d",
       "version_major": 2,
       "version_minor": 0
      },
      "text/plain": [
       "Downloading (…)solve/main/vocab.txt:   0%|          | 0.00/232k [00:00<?, ?B/s]"
      ]
     },
     "metadata": {},
     "output_type": "display_data"
    },
    {
     "data": {
      "application/vnd.jupyter.widget-view+json": {
       "model_id": "6ddbbb4c34d4481f906e4e1fe7d0c69b",
       "version_major": 2,
       "version_minor": 0
      },
      "text/plain": [
       "Downloading (…)okenizer_config.json:   0%|          | 0.00/28.0 [00:00<?, ?B/s]"
      ]
     },
     "metadata": {},
     "output_type": "display_data"
    },
    {
     "data": {
      "application/vnd.jupyter.widget-view+json": {
       "model_id": "cc0240fff3464bd285546f77b4727c43",
       "version_major": 2,
       "version_minor": 0
      },
      "text/plain": [
       "Downloading (…)lve/main/config.json:   0%|          | 0.00/570 [00:00<?, ?B/s]"
      ]
     },
     "metadata": {},
     "output_type": "display_data"
    },
    {
     "data": {
      "text/plain": [
       "BertTokenizer(name_or_path='bert-base-uncased', vocab_size=30522, model_max_length=512, is_fast=False, padding_side='right', truncation_side='right', special_tokens={'unk_token': '[UNK]', 'sep_token': '[SEP]', 'pad_token': '[PAD]', 'cls_token': '[CLS]', 'mask_token': '[MASK]'}, clean_up_tokenization_spaces=True)"
      ]
     },
     "execution_count": 23,
     "metadata": {},
     "output_type": "execute_result"
    }
   ],
   "source": [
    "# Tokenizer from a pretrained model\n",
    "tokenizer = BertTokenizer.from_pretrained(\"bert-base-uncased\")\n",
    "\n",
    "# Take a look at the tokenizer\n",
    "tokenizer"
   ]
  },
  {
   "cell_type": "code",
   "execution_count": 24,
   "id": "fcf26370",
   "metadata": {
    "execution": {
     "iopub.execute_input": "2023-08-01T09:32:52.826278Z",
     "iopub.status.busy": "2023-08-01T09:32:52.825250Z",
     "iopub.status.idle": "2023-08-01T09:33:57.802427Z",
     "shell.execute_reply": "2023-08-01T09:33:57.801438Z"
    },
    "papermill": {
     "duration": 65.025904,
     "end_time": "2023-08-01T09:33:57.804621",
     "exception": false,
     "start_time": "2023-08-01T09:32:52.778717",
     "status": "completed"
    },
    "tags": []
   },
   "outputs": [
    {
     "data": {
      "application/vnd.jupyter.widget-view+json": {
       "model_id": "b3b75555ae59442b9f4eb091a7b65a28",
       "version_major": 2,
       "version_minor": 0
      },
      "text/plain": [
       "  0%|          | 0/19459 [00:00<?, ?ex/s]"
      ]
     },
     "metadata": {},
     "output_type": "display_data"
    },
    {
     "data": {
      "application/vnd.jupyter.widget-view+json": {
       "model_id": "7a6dc58208c94f69833bfe18fb9a75c7",
       "version_major": 2,
       "version_minor": 0
      },
      "text/plain": [
       "  0%|          | 0/8339 [00:00<?, ?ex/s]"
      ]
     },
     "metadata": {},
     "output_type": "display_data"
    },
    {
     "data": {
      "application/vnd.jupyter.widget-view+json": {
       "model_id": "5fe11c8f5d2544c79d055484bf0545cd",
       "version_major": 2,
       "version_minor": 0
      },
      "text/plain": [
       "  0%|          | 0/15021 [00:00<?, ?ex/s]"
      ]
     },
     "metadata": {},
     "output_type": "display_data"
    },
    {
     "data": {
      "application/vnd.jupyter.widget-view+json": {
       "model_id": "c6f96bbafebf443891ebf0bae339f07a",
       "version_major": 2,
       "version_minor": 0
      },
      "text/plain": [
       "  0%|          | 0/6438 [00:00<?, ?ex/s]"
      ]
     },
     "metadata": {},
     "output_type": "display_data"
    }
   ],
   "source": [
    "# Funtion to tokenize data\n",
    "def tokenize_dataset(data):\n",
    "    return tokenizer(data[\"sentence\"], \n",
    "                     max_length=32, \n",
    "                     truncation=True, \n",
    "                     padding=\"max_length\")\n",
    "\n",
    "# Tokenize the dataset for Sentiment Analysis\n",
    "dataset_train_sent = hg_train_sentiment.map(tokenize_dataset)\n",
    "dataset_test_sent = hg_test_sentiment.map(tokenize_dataset)\n",
    "\n",
    "# Tokenize the dataset for Emotion Analysis\n",
    "dataset_train_em = hg_train_emotion.map(tokenize_dataset)\n",
    "dataset_test_em = hg_test_emotion.map(tokenize_dataset)"
   ]
  },
  {
   "cell_type": "code",
   "execution_count": 25,
   "id": "8803236a",
   "metadata": {
    "execution": {
     "iopub.execute_input": "2023-08-01T09:33:57.894780Z",
     "iopub.status.busy": "2023-08-01T09:33:57.894421Z",
     "iopub.status.idle": "2023-08-01T09:33:57.899825Z",
     "shell.execute_reply": "2023-08-01T09:33:57.898762Z"
    },
    "papermill": {
     "duration": 0.054583,
     "end_time": "2023-08-01T09:33:57.903607",
     "exception": false,
     "start_time": "2023-08-01T09:33:57.849024",
     "status": "completed"
    },
    "tags": []
   },
   "outputs": [
    {
     "name": "stdout",
     "output_type": "stream",
     "text": [
      "Dataset({\n",
      "    features: ['sentence', 'label', '__index_level_0__', 'input_ids', 'token_type_ids', 'attention_mask'],\n",
      "    num_rows: 19459\n",
      "})\n",
      "Dataset({\n",
      "    features: ['sentence', 'label', '__index_level_0__', 'input_ids', 'token_type_ids', 'attention_mask'],\n",
      "    num_rows: 8339\n",
      "})\n"
     ]
    }
   ],
   "source": [
    "# Inspect the dataset\n",
    "print(dataset_train_sent)\n",
    "print(dataset_test_sent)"
   ]
  },
  {
   "cell_type": "markdown",
   "id": "e5974d7f",
   "metadata": {
    "papermill": {
     "duration": 0.044571,
     "end_time": "2023-08-01T09:33:57.993302",
     "exception": false,
     "start_time": "2023-08-01T09:33:57.948731",
     "status": "completed"
    },
    "tags": []
   },
   "source": [
    "### 2.2 Training Phase"
   ]
  },
  {
   "cell_type": "code",
   "execution_count": 26,
   "id": "1f6e8927",
   "metadata": {
    "execution": {
     "iopub.execute_input": "2023-08-01T09:33:58.087726Z",
     "iopub.status.busy": "2023-08-01T09:33:58.087360Z",
     "iopub.status.idle": "2023-08-01T09:34:02.745850Z",
     "shell.execute_reply": "2023-08-01T09:34:02.744852Z"
    },
    "papermill": {
     "duration": 4.70614,
     "end_time": "2023-08-01T09:34:02.748389",
     "exception": false,
     "start_time": "2023-08-01T09:33:58.042249",
     "status": "completed"
    },
    "tags": []
   },
   "outputs": [
    {
     "data": {
      "application/vnd.jupyter.widget-view+json": {
       "model_id": "3c798721a3fa481db20188b5ef60151a",
       "version_major": 2,
       "version_minor": 0
      },
      "text/plain": [
       "Downloading model.safetensors:   0%|          | 0.00/440M [00:00<?, ?B/s]"
      ]
     },
     "metadata": {},
     "output_type": "display_data"
    },
    {
     "name": "stderr",
     "output_type": "stream",
     "text": [
      "Some weights of the model checkpoint at bert-base-uncased were not used when initializing BertForSequenceClassification: ['cls.predictions.transform.LayerNorm.bias', 'cls.predictions.transform.LayerNorm.weight', 'cls.predictions.transform.dense.weight', 'cls.predictions.bias', 'cls.predictions.transform.dense.bias', 'cls.seq_relationship.weight', 'cls.seq_relationship.bias']\n",
      "- This IS expected if you are initializing BertForSequenceClassification from the checkpoint of a model trained on another task or with another architecture (e.g. initializing a BertForSequenceClassification model from a BertForPreTraining model).\n",
      "- This IS NOT expected if you are initializing BertForSequenceClassification from the checkpoint of a model that you expect to be exactly identical (initializing a BertForSequenceClassification model from a BertForSequenceClassification model).\n",
      "Some weights of BertForSequenceClassification were not initialized from the model checkpoint at bert-base-uncased and are newly initialized: ['classifier.weight', 'classifier.bias']\n",
      "You should probably TRAIN this model on a down-stream task to be able to use it for predictions and inference.\n",
      "Some weights of the model checkpoint at bert-base-uncased were not used when initializing BertForSequenceClassification: ['cls.predictions.transform.LayerNorm.bias', 'cls.predictions.transform.LayerNorm.weight', 'cls.predictions.transform.dense.weight', 'cls.predictions.bias', 'cls.predictions.transform.dense.bias', 'cls.seq_relationship.weight', 'cls.seq_relationship.bias']\n",
      "- This IS expected if you are initializing BertForSequenceClassification from the checkpoint of a model trained on another task or with another architecture (e.g. initializing a BertForSequenceClassification model from a BertForPreTraining model).\n",
      "- This IS NOT expected if you are initializing BertForSequenceClassification from the checkpoint of a model that you expect to be exactly identical (initializing a BertForSequenceClassification model from a BertForSequenceClassification model).\n",
      "Some weights of BertForSequenceClassification were not initialized from the model checkpoint at bert-base-uncased and are newly initialized: ['classifier.weight', 'classifier.bias']\n",
      "You should probably TRAIN this model on a down-stream task to be able to use it for predictions and inference.\n"
     ]
    }
   ],
   "source": [
    "# Load models\n",
    "model_sent = BertForSequenceClassification.from_pretrained(\"bert-base-uncased\", num_labels=2) #sentiment analysis\n",
    "model_em = BertForSequenceClassification.from_pretrained(\"bert-base-uncased\", num_labels=6)  #emotion analysis"
   ]
  },
  {
   "cell_type": "code",
   "execution_count": 27,
   "id": "d2546888",
   "metadata": {
    "execution": {
     "iopub.execute_input": "2023-08-01T09:34:02.839631Z",
     "iopub.status.busy": "2023-08-01T09:34:02.839278Z",
     "iopub.status.idle": "2023-08-01T09:34:02.920482Z",
     "shell.execute_reply": "2023-08-01T09:34:02.919473Z"
    },
    "papermill": {
     "duration": 0.129481,
     "end_time": "2023-08-01T09:34:02.922622",
     "exception": false,
     "start_time": "2023-08-01T09:34:02.793141",
     "status": "completed"
    },
    "tags": []
   },
   "outputs": [],
   "source": [
    "# Set up training arguments\n",
    "training_args = TrainingArguments(\n",
    "    output_dir=\"./sentiment_transfer_learning_transformer/\",          \n",
    "    logging_dir='./sentiment_transfer_learning_transformer/logs',            \n",
    "    logging_strategy='epoch',\n",
    "    logging_steps=100,    \n",
    "    num_train_epochs=2,              \n",
    "    per_device_train_batch_size=4,  \n",
    "    per_device_eval_batch_size=4,  \n",
    "    learning_rate=5e-6,\n",
    "    seed=42,\n",
    "    save_strategy='epoch',\n",
    "    save_steps=100,\n",
    "    evaluation_strategy='epoch',\n",
    "    eval_steps=100,\n",
    "    load_best_model_at_end=True\n",
    ")"
   ]
  },
  {
   "cell_type": "code",
   "execution_count": 28,
   "id": "1f5ab456",
   "metadata": {
    "execution": {
     "iopub.execute_input": "2023-08-01T09:34:03.051281Z",
     "iopub.status.busy": "2023-08-01T09:34:03.050906Z",
     "iopub.status.idle": "2023-08-01T09:34:03.056318Z",
     "shell.execute_reply": "2023-08-01T09:34:03.055273Z"
    },
    "papermill": {
     "duration": 0.074447,
     "end_time": "2023-08-01T09:34:03.058295",
     "exception": false,
     "start_time": "2023-08-01T09:34:02.983848",
     "status": "completed"
    },
    "tags": []
   },
   "outputs": [],
   "source": [
    "# Function to compute the metric\n",
    "def compute_metrics(eval_pred):\n",
    "    metric = evaluate.load(\"accuracy\")\n",
    "    logits, labels = eval_pred\n",
    "    # probabilities = tf.nn.softmax(logits)\n",
    "    predictions = np.argmax(logits, axis=1)\n",
    "    return metric.compute(predictions=predictions, references=labels)"
   ]
  },
  {
   "cell_type": "code",
   "execution_count": 29,
   "id": "00b6f977",
   "metadata": {
    "execution": {
     "iopub.execute_input": "2023-08-01T09:34:03.151471Z",
     "iopub.status.busy": "2023-08-01T09:34:03.149670Z",
     "iopub.status.idle": "2023-08-01T09:44:33.129292Z",
     "shell.execute_reply": "2023-08-01T09:44:33.128306Z"
    },
    "papermill": {
     "duration": 630.030371,
     "end_time": "2023-08-01T09:44:33.133554",
     "exception": false,
     "start_time": "2023-08-01T09:34:03.103183",
     "status": "completed"
    },
    "tags": []
   },
   "outputs": [
    {
     "name": "stderr",
     "output_type": "stream",
     "text": [
      "/opt/conda/lib/python3.10/site-packages/transformers/optimization.py:411: FutureWarning: This implementation of AdamW is deprecated and will be removed in a future version. Use the PyTorch implementation torch.optim.AdamW instead, or set `no_deprecation_warning=True` to disable this warning\n",
      "  warnings.warn(\n",
      "\u001b[34m\u001b[1mwandb\u001b[0m: Currently logged in as: \u001b[33mmariateresadrp\u001b[0m (\u001b[33mmariateresadrp99\u001b[0m). Use \u001b[1m`wandb login --relogin`\u001b[0m to force relogin\n",
      "\u001b[34m\u001b[1mwandb\u001b[0m: wandb version 0.15.7 is available!  To upgrade, please run:\n",
      "\u001b[34m\u001b[1mwandb\u001b[0m:  $ pip install wandb --upgrade\n",
      "\u001b[34m\u001b[1mwandb\u001b[0m: Tracking run with wandb version 0.15.5\n",
      "\u001b[34m\u001b[1mwandb\u001b[0m: Run data is saved locally in \u001b[35m\u001b[1m/kaggle/working/wandb/run-20230801_093408-a2plhpuw\u001b[0m\n",
      "\u001b[34m\u001b[1mwandb\u001b[0m: Run \u001b[1m`wandb offline`\u001b[0m to turn off syncing.\n",
      "\u001b[34m\u001b[1mwandb\u001b[0m: Syncing run \u001b[33mgenerous-universe-34\u001b[0m\n",
      "\u001b[34m\u001b[1mwandb\u001b[0m: ⭐️ View project at \u001b[34m\u001b[4mhttps://wandb.ai/mariateresadrp99/huggingface\u001b[0m\n",
      "\u001b[34m\u001b[1mwandb\u001b[0m: 🚀 View run at \u001b[34m\u001b[4mhttps://wandb.ai/mariateresadrp99/huggingface/runs/a2plhpuw\u001b[0m\n"
     ]
    },
    {
     "data": {
      "text/html": [
       "\n",
       "    <div>\n",
       "      \n",
       "      <progress value='9730' max='9730' style='width:300px; height:20px; vertical-align: middle;'></progress>\n",
       "      [9730/9730 09:51, Epoch 2/2]\n",
       "    </div>\n",
       "    <table border=\"1\" class=\"dataframe\">\n",
       "  <thead>\n",
       " <tr style=\"text-align: left;\">\n",
       "      <th>Epoch</th>\n",
       "      <th>Training Loss</th>\n",
       "      <th>Validation Loss</th>\n",
       "      <th>Accuracy</th>\n",
       "    </tr>\n",
       "  </thead>\n",
       "  <tbody>\n",
       "    <tr>\n",
       "      <td>1</td>\n",
       "      <td>0.387200</td>\n",
       "      <td>0.324300</td>\n",
       "      <td>0.909581</td>\n",
       "    </tr>\n",
       "    <tr>\n",
       "      <td>2</td>\n",
       "      <td>0.272300</td>\n",
       "      <td>0.385128</td>\n",
       "      <td>0.912939</td>\n",
       "    </tr>\n",
       "  </tbody>\n",
       "</table><p>"
      ],
      "text/plain": [
       "<IPython.core.display.HTML object>"
      ]
     },
     "metadata": {},
     "output_type": "display_data"
    },
    {
     "data": {
      "application/vnd.jupyter.widget-view+json": {
       "model_id": "9ed8d99f1f8545f98f224fe501053774",
       "version_major": 2,
       "version_minor": 0
      },
      "text/plain": [
       "Downloading builder script:   0%|          | 0.00/4.20k [00:00<?, ?B/s]"
      ]
     },
     "metadata": {},
     "output_type": "display_data"
    },
    {
     "data": {
      "text/plain": [
       "TrainOutput(global_step=9730, training_loss=0.3297333798697649, metrics={'train_runtime': 624.2323, 'train_samples_per_second': 62.345, 'train_steps_per_second': 15.587, 'total_flos': 639984753281280.0, 'train_loss': 0.3297333798697649, 'epoch': 2.0})"
      ]
     },
     "execution_count": 29,
     "metadata": {},
     "output_type": "execute_result"
    }
   ],
   "source": [
    "# Train the model for Sentiment Analysis task\n",
    "\n",
    "trainer = Trainer(\n",
    "    model=model_sent,\n",
    "    args=training_args,\n",
    "    train_dataset=dataset_train_sent,\n",
    "    eval_dataset=dataset_test_sent,\n",
    "    compute_metrics=compute_metrics,\n",
    "    callbacks=[EarlyStoppingCallback(early_stopping_patience=1)]\n",
    ")\n",
    "\n",
    "trainer.train()"
   ]
  },
  {
   "cell_type": "code",
   "execution_count": 30,
   "id": "5fff40fe",
   "metadata": {
    "execution": {
     "iopub.execute_input": "2023-08-01T09:44:33.333814Z",
     "iopub.status.busy": "2023-08-01T09:44:33.333438Z",
     "iopub.status.idle": "2023-08-01T09:52:05.346315Z",
     "shell.execute_reply": "2023-08-01T09:52:05.345025Z"
    },
    "papermill": {
     "duration": 452.113117,
     "end_time": "2023-08-01T09:52:05.350895",
     "exception": false,
     "start_time": "2023-08-01T09:44:33.237778",
     "status": "completed"
    },
    "tags": []
   },
   "outputs": [
    {
     "name": "stderr",
     "output_type": "stream",
     "text": [
      "/opt/conda/lib/python3.10/site-packages/transformers/optimization.py:411: FutureWarning: This implementation of AdamW is deprecated and will be removed in a future version. Use the PyTorch implementation torch.optim.AdamW instead, or set `no_deprecation_warning=True` to disable this warning\n",
      "  warnings.warn(\n"
     ]
    },
    {
     "data": {
      "text/html": [
       "\n",
       "    <div>\n",
       "      \n",
       "      <progress value='7512' max='7512' style='width:300px; height:20px; vertical-align: middle;'></progress>\n",
       "      [7512/7512 07:31, Epoch 2/2]\n",
       "    </div>\n",
       "    <table border=\"1\" class=\"dataframe\">\n",
       "  <thead>\n",
       " <tr style=\"text-align: left;\">\n",
       "      <th>Epoch</th>\n",
       "      <th>Training Loss</th>\n",
       "      <th>Validation Loss</th>\n",
       "      <th>Accuracy</th>\n",
       "    </tr>\n",
       "  </thead>\n",
       "  <tbody>\n",
       "    <tr>\n",
       "      <td>1</td>\n",
       "      <td>0.745600</td>\n",
       "      <td>0.410762</td>\n",
       "      <td>0.885057</td>\n",
       "    </tr>\n",
       "    <tr>\n",
       "      <td>2</td>\n",
       "      <td>0.341300</td>\n",
       "      <td>0.406727</td>\n",
       "      <td>0.897484</td>\n",
       "    </tr>\n",
       "  </tbody>\n",
       "</table><p>"
      ],
      "text/plain": [
       "<IPython.core.display.HTML object>"
      ]
     },
     "metadata": {},
     "output_type": "display_data"
    },
    {
     "data": {
      "text/plain": [
       "TrainOutput(global_step=7512, training_loss=0.5434149923923806, metrics={'train_runtime': 451.4421, 'train_samples_per_second': 66.547, 'train_steps_per_second': 16.64, 'total_flos': 494041637885184.0, 'train_loss': 0.5434149923923806, 'epoch': 2.0})"
      ]
     },
     "execution_count": 30,
     "metadata": {},
     "output_type": "execute_result"
    }
   ],
   "source": [
    "# Train the model for Emotion Analysis task\n",
    "\n",
    "trainer_em = Trainer(\n",
    "    model=model_em,\n",
    "    args=training_args,\n",
    "    train_dataset=dataset_train_em,\n",
    "    eval_dataset=dataset_test_em,\n",
    "    compute_metrics=compute_metrics,\n",
    "    callbacks=[EarlyStoppingCallback(early_stopping_patience=1)]\n",
    ")\n",
    "\n",
    "trainer_em.train()"
   ]
  },
  {
   "cell_type": "markdown",
   "id": "6a153e04",
   "metadata": {
    "papermill": {
     "duration": 0.063264,
     "end_time": "2023-08-01T09:52:05.529836",
     "exception": false,
     "start_time": "2023-08-01T09:52:05.466572",
     "status": "completed"
    },
    "tags": []
   },
   "source": [
    "### 2.3 Evaluation and Inspection of Predictions"
   ]
  },
  {
   "cell_type": "code",
   "execution_count": 31,
   "id": "5c3bc5ac",
   "metadata": {
    "execution": {
     "iopub.execute_input": "2023-08-01T09:52:05.630186Z",
     "iopub.status.busy": "2023-08-01T09:52:05.629190Z",
     "iopub.status.idle": "2023-08-01T09:52:55.250946Z",
     "shell.execute_reply": "2023-08-01T09:52:55.249974Z"
    },
    "papermill": {
     "duration": 49.675267,
     "end_time": "2023-08-01T09:52:55.253370",
     "exception": false,
     "start_time": "2023-08-01T09:52:05.578103",
     "status": "completed"
    },
    "tags": []
   },
   "outputs": [
    {
     "data": {
      "text/html": [],
      "text/plain": [
       "<IPython.core.display.HTML object>"
      ]
     },
     "metadata": {},
     "output_type": "display_data"
    },
    {
     "data": {
      "text/html": [],
      "text/plain": [
       "<IPython.core.display.HTML object>"
      ]
     },
     "metadata": {},
     "output_type": "display_data"
    }
   ],
   "source": [
    "# Perform predictions using the 'trainer' object.\n",
    "predict_test_sent = trainer.predict(dataset_test_sent)\n",
    "predict_test_em = trainer_em.predict(dataset_test_em)"
   ]
  },
  {
   "cell_type": "code",
   "execution_count": 32,
   "id": "d2aba1e9",
   "metadata": {
    "execution": {
     "iopub.execute_input": "2023-08-01T09:52:55.351655Z",
     "iopub.status.busy": "2023-08-01T09:52:55.351252Z",
     "iopub.status.idle": "2023-08-01T09:52:55.358811Z",
     "shell.execute_reply": "2023-08-01T09:52:55.357753Z"
    },
    "papermill": {
     "duration": 0.057777,
     "end_time": "2023-08-01T09:52:55.361013",
     "exception": false,
     "start_time": "2023-08-01T09:52:55.303236",
     "status": "completed"
    },
    "tags": []
   },
   "outputs": [
    {
     "data": {
      "text/plain": [
       "array([[ 2.3938522 , -1.81447   ],\n",
       "       [ 1.6971332 , -1.3578998 ],\n",
       "       [ 0.85616285, -0.6402217 ],\n",
       "       [-0.27899453,  0.3095236 ],\n",
       "       [-3.090743  ,  2.7828383 ]], dtype=float32)"
      ]
     },
     "execution_count": 32,
     "metadata": {},
     "output_type": "execute_result"
    }
   ],
   "source": [
    "# Obtained model predictions as logits\n",
    "logits_sent = predict_test_sent.predictions\n",
    "logits_em = predict_test_em.predictions\n",
    "\n",
    "# Inspect first 5 predicted probabilities\n",
    "logits_sent[:5]"
   ]
  },
  {
   "cell_type": "code",
   "execution_count": 33,
   "id": "e4974628",
   "metadata": {
    "execution": {
     "iopub.execute_input": "2023-08-01T09:52:55.464437Z",
     "iopub.status.busy": "2023-08-01T09:52:55.462580Z",
     "iopub.status.idle": "2023-08-01T09:52:55.913143Z",
     "shell.execute_reply": "2023-08-01T09:52:55.912114Z"
    },
    "papermill": {
     "duration": 0.501619,
     "end_time": "2023-08-01T09:52:55.915492",
     "exception": false,
     "start_time": "2023-08-01T09:52:55.413873",
     "status": "completed"
    },
    "tags": []
   },
   "outputs": [
    {
     "data": {
      "text/plain": [
       "<tf.Tensor: shape=(5, 2), dtype=float32, numpy=\n",
       "array([[0.9853467 , 0.01465338],\n",
       "       [0.9549993 , 0.04500068],\n",
       "       [0.8170346 , 0.18296535],\n",
       "       [0.35697493, 0.6430251 ],\n",
       "       [0.00280489, 0.9971951 ]], dtype=float32)>"
      ]
     },
     "execution_count": 33,
     "metadata": {},
     "output_type": "execute_result"
    }
   ],
   "source": [
    "# Obtained model predictions as probabilities\n",
    "probabilities_sent = tf.nn.softmax(logits_sent)\n",
    "probabilities_em = tf.nn.softmax(logits_em)\n",
    "\n",
    "# Inspect first 5 predicted logits\n",
    "\n",
    "probabilities_sent[:5]"
   ]
  },
  {
   "cell_type": "code",
   "execution_count": 34,
   "id": "d4dbc0a6",
   "metadata": {
    "execution": {
     "iopub.execute_input": "2023-08-01T09:52:56.016879Z",
     "iopub.status.busy": "2023-08-01T09:52:56.016306Z",
     "iopub.status.idle": "2023-08-01T09:52:56.026159Z",
     "shell.execute_reply": "2023-08-01T09:52:56.025241Z"
    },
    "papermill": {
     "duration": 0.062548,
     "end_time": "2023-08-01T09:52:56.028197",
     "exception": false,
     "start_time": "2023-08-01T09:52:55.965649",
     "status": "completed"
    },
    "tags": []
   },
   "outputs": [
    {
     "data": {
      "text/plain": [
       "array([0, 0, 0, 1, 1])"
      ]
     },
     "execution_count": 34,
     "metadata": {},
     "output_type": "execute_result"
    }
   ],
   "source": [
    "# Obtained model predictions as class labels\n",
    "pred_labels_sent = np.argmax(probabilities_sent, axis=1)\n",
    "pred_labels_em = np.argmax(probabilities_em, axis=1)\n",
    "\n",
    "# Inspect first 5 predicted probabilities\n",
    "pred_labels_sent[:5]"
   ]
  },
  {
   "cell_type": "code",
   "execution_count": 35,
   "id": "1bfbc99f",
   "metadata": {
    "execution": {
     "iopub.execute_input": "2023-08-01T09:52:56.125694Z",
     "iopub.status.busy": "2023-08-01T09:52:56.125332Z",
     "iopub.status.idle": "2023-08-01T09:52:56.143222Z",
     "shell.execute_reply": "2023-08-01T09:52:56.142195Z"
    },
    "papermill": {
     "duration": 0.068847,
     "end_time": "2023-08-01T09:52:56.145531",
     "exception": false,
     "start_time": "2023-08-01T09:52:56.076684",
     "status": "completed"
    },
    "tags": []
   },
   "outputs": [
    {
     "data": {
      "text/plain": [
       "[0, 0, 1, 1, 1]"
      ]
     },
     "execution_count": 35,
     "metadata": {},
     "output_type": "execute_result"
    }
   ],
   "source": [
    "# Actual labels\n",
    "actual_labels_sent = dataset_test_sent['label'] \n",
    "actual_labels_em = dataset_test_em['label'] \n",
    "\n",
    "# Inspect first 5 predicted probabilities\n",
    "actual_labels_sent[:5]"
   ]
  },
  {
   "cell_type": "markdown",
   "id": "2dafd3ee",
   "metadata": {
    "papermill": {
     "duration": 0.047122,
     "end_time": "2023-08-01T09:52:56.240948",
     "exception": false,
     "start_time": "2023-08-01T09:52:56.193826",
     "status": "completed"
    },
    "tags": []
   },
   "source": [
    "### 2.4 Creation of the new dataset consisting of Mispredictions and Correct Predictions"
   ]
  },
  {
   "cell_type": "code",
   "execution_count": 36,
   "id": "19b62ae1",
   "metadata": {
    "execution": {
     "iopub.execute_input": "2023-08-01T09:52:56.338982Z",
     "iopub.status.busy": "2023-08-01T09:52:56.338305Z",
     "iopub.status.idle": "2023-08-01T09:52:56.360468Z",
     "shell.execute_reply": "2023-08-01T09:52:56.359523Z"
    },
    "papermill": {
     "duration": 0.072784,
     "end_time": "2023-08-01T09:52:56.362573",
     "exception": false,
     "start_time": "2023-08-01T09:52:56.289789",
     "status": "completed"
    },
    "tags": []
   },
   "outputs": [],
   "source": [
    "# Access predicted labels \n",
    "predicted_labels_sent = tf.argmax(probabilities_sent, axis=1)\n",
    "predicted_labels_em = tf.argmax(probabilities_em , axis=1)\n",
    "\n",
    "# Access predicted probabilities\n",
    "probab_labels_sent = tf.reduce_max(probabilities_sent, axis=1)\n",
    "probab_labels_em = tf.reduce_max(probabilities_em, axis=1)"
   ]
  },
  {
   "cell_type": "code",
   "execution_count": 37,
   "id": "5493dc36",
   "metadata": {
    "execution": {
     "iopub.execute_input": "2023-08-01T09:52:56.458891Z",
     "iopub.status.busy": "2023-08-01T09:52:56.458528Z",
     "iopub.status.idle": "2023-08-01T09:52:56.466688Z",
     "shell.execute_reply": "2023-08-01T09:52:56.465760Z"
    },
    "papermill": {
     "duration": 0.058672,
     "end_time": "2023-08-01T09:52:56.468892",
     "exception": false,
     "start_time": "2023-08-01T09:52:56.410220",
     "status": "completed"
    },
    "tags": []
   },
   "outputs": [],
   "source": [
    "# Create new columns in test data\n",
    "test_reviews['Predicted Label'] = predicted_labels_sent.numpy()\n",
    "test_emotions['Predicted Label'] = predicted_labels_em.numpy()\n",
    "\n",
    "test_reviews['Probability'] = probab_labels_sent.numpy()\n",
    "test_emotions['Probability'] = probab_labels_em.numpy()"
   ]
  },
  {
   "cell_type": "code",
   "execution_count": 38,
   "id": "bdd014f3",
   "metadata": {
    "execution": {
     "iopub.execute_input": "2023-08-01T09:52:56.565109Z",
     "iopub.status.busy": "2023-08-01T09:52:56.564742Z",
     "iopub.status.idle": "2023-08-01T09:52:56.572851Z",
     "shell.execute_reply": "2023-08-01T09:52:56.571926Z"
    },
    "papermill": {
     "duration": 0.058248,
     "end_time": "2023-08-01T09:52:56.574927",
     "exception": false,
     "start_time": "2023-08-01T09:52:56.516679",
     "status": "completed"
    },
    "tags": []
   },
   "outputs": [],
   "source": [
    "# Create the Misprediction columns\n",
    "\n",
    "test_reviews['Misprediction'] = np.where(test_reviews['label'] != test_reviews['Predicted Label'], 1, 0)\n",
    "test_emotions['Misprediction'] = np.where(test_emotions['label'] != test_emotions['Predicted Label'], 1, 0)"
   ]
  },
  {
   "cell_type": "code",
   "execution_count": 39,
   "id": "6811a825",
   "metadata": {
    "execution": {
     "iopub.execute_input": "2023-08-01T09:52:56.671306Z",
     "iopub.status.busy": "2023-08-01T09:52:56.670928Z",
     "iopub.status.idle": "2023-08-01T09:52:56.680371Z",
     "shell.execute_reply": "2023-08-01T09:52:56.679404Z"
    },
    "papermill": {
     "duration": 0.060156,
     "end_time": "2023-08-01T09:52:56.682432",
     "exception": false,
     "start_time": "2023-08-01T09:52:56.622276",
     "status": "completed"
    },
    "tags": []
   },
   "outputs": [
    {
     "name": "stdout",
     "output_type": "stream",
     "text": [
      "754\n"
     ]
    }
   ],
   "source": [
    "# Inspect the number of mispredicted examples for Sentiment Analysis\n",
    "\n",
    "mismatched_examples_sent = test_reviews[test_reviews['Misprediction'] == 1]\n",
    "print(len(mismatched_examples_sent))"
   ]
  },
  {
   "cell_type": "code",
   "execution_count": 40,
   "id": "2f1bbdc9",
   "metadata": {
    "execution": {
     "iopub.execute_input": "2023-08-01T09:52:56.779900Z",
     "iopub.status.busy": "2023-08-01T09:52:56.779538Z",
     "iopub.status.idle": "2023-08-01T09:52:56.788225Z",
     "shell.execute_reply": "2023-08-01T09:52:56.786896Z"
    },
    "papermill": {
     "duration": 0.059992,
     "end_time": "2023-08-01T09:52:56.790266",
     "exception": false,
     "start_time": "2023-08-01T09:52:56.730274",
     "status": "completed"
    },
    "tags": []
   },
   "outputs": [
    {
     "name": "stdout",
     "output_type": "stream",
     "text": [
      "660\n"
     ]
    }
   ],
   "source": [
    "# Inspect the number of mispredicted examples for Emotion Analysis\n",
    "\n",
    "mismatched_examples_em = test_emotions[test_emotions['Misprediction'] == 1]\n",
    "print(len(mismatched_examples_em))"
   ]
  },
  {
   "cell_type": "code",
   "execution_count": 41,
   "id": "1d5290bc",
   "metadata": {
    "execution": {
     "iopub.execute_input": "2023-08-01T09:52:56.890730Z",
     "iopub.status.busy": "2023-08-01T09:52:56.889733Z",
     "iopub.status.idle": "2023-08-01T09:52:56.898937Z",
     "shell.execute_reply": "2023-08-01T09:52:56.898030Z"
    },
    "papermill": {
     "duration": 0.061128,
     "end_time": "2023-08-01T09:52:56.901045",
     "exception": false,
     "start_time": "2023-08-01T09:52:56.839917",
     "status": "completed"
    },
    "tags": []
   },
   "outputs": [],
   "source": [
    "# Define an equivalent number of correct predictions\n",
    "\n",
    "matched_examples_sent = test_reviews[test_reviews['Misprediction'] == 0].sample(n=796)\n",
    "matched_examples_em = test_emotions[test_emotions['Misprediction'] == 0].sample(n=780)"
   ]
  },
  {
   "cell_type": "code",
   "execution_count": 42,
   "id": "c6cf2b1b",
   "metadata": {
    "execution": {
     "iopub.execute_input": "2023-08-01T09:52:57.000589Z",
     "iopub.status.busy": "2023-08-01T09:52:56.999526Z",
     "iopub.status.idle": "2023-08-01T09:52:57.007076Z",
     "shell.execute_reply": "2023-08-01T09:52:57.006118Z"
    },
    "papermill": {
     "duration": 0.059357,
     "end_time": "2023-08-01T09:52:57.009074",
     "exception": false,
     "start_time": "2023-08-01T09:52:56.949717",
     "status": "completed"
    },
    "tags": []
   },
   "outputs": [],
   "source": [
    "# Combine the mismatched and matched examples into a different dataset\n",
    "\n",
    "df_mispredictions_sent = pd.concat([mismatched_examples_sent, matched_examples_sent])\n",
    "df_mispredictions_em = pd.concat([mismatched_examples_em, matched_examples_em])"
   ]
  },
  {
   "cell_type": "code",
   "execution_count": 43,
   "id": "80116150",
   "metadata": {
    "execution": {
     "iopub.execute_input": "2023-08-01T09:52:57.105744Z",
     "iopub.status.busy": "2023-08-01T09:52:57.105378Z",
     "iopub.status.idle": "2023-08-01T09:52:57.150000Z",
     "shell.execute_reply": "2023-08-01T09:52:57.148842Z"
    },
    "papermill": {
     "duration": 0.095974,
     "end_time": "2023-08-01T09:52:57.152671",
     "exception": false,
     "start_time": "2023-08-01T09:52:57.056697",
     "status": "completed"
    },
    "tags": []
   },
   "outputs": [],
   "source": [
    "#Export the datasets\n",
    "\n",
    "df_mispredictions_sent.to_csv('df_mispredictions_sent.csv', index=False)\n",
    "df_mispredictions_em.to_csv('df_mispredictions_em.csv', index=False)"
   ]
  },
  {
   "cell_type": "markdown",
   "id": "85fd53f1",
   "metadata": {
    "papermill": {
     "duration": 0.047161,
     "end_time": "2023-08-01T09:52:57.251388",
     "exception": false,
     "start_time": "2023-08-01T09:52:57.204227",
     "status": "completed"
    },
    "tags": []
   },
   "source": [
    "# PART 3: \n",
    "## Feature Extraction\n",
    "### 3.1 Some further Dataset Preprocessing"
   ]
  },
  {
   "cell_type": "code",
   "execution_count": 44,
   "id": "6ed9627e",
   "metadata": {
    "collapsed": true,
    "execution": {
     "iopub.execute_input": "2023-08-01T09:52:57.351633Z",
     "iopub.status.busy": "2023-08-01T09:52:57.349846Z",
     "iopub.status.idle": "2023-08-01T09:54:27.288902Z",
     "shell.execute_reply": "2023-08-01T09:54:27.287613Z"
    },
    "jupyter": {
     "outputs_hidden": true
    },
    "papermill": {
     "duration": 89.990876,
     "end_time": "2023-08-01T09:54:27.291573",
     "exception": false,
     "start_time": "2023-08-01T09:52:57.300697",
     "status": "completed"
    },
    "tags": []
   },
   "outputs": [
    {
     "name": "stdout",
     "output_type": "stream",
     "text": [
      "Requirement already satisfied: nltk in /opt/conda/lib/python3.10/site-packages (3.2.4)\r\n",
      "Requirement already satisfied: six in /opt/conda/lib/python3.10/site-packages (from nltk) (1.16.0)\r\n",
      "Requirement already satisfied: spacy in /opt/conda/lib/python3.10/site-packages (3.5.4)\r\n",
      "Requirement already satisfied: spacy-legacy<3.1.0,>=3.0.11 in /opt/conda/lib/python3.10/site-packages (from spacy) (3.0.12)\r\n",
      "Requirement already satisfied: spacy-loggers<2.0.0,>=1.0.0 in /opt/conda/lib/python3.10/site-packages (from spacy) (1.0.4)\r\n",
      "Requirement already satisfied: murmurhash<1.1.0,>=0.28.0 in /opt/conda/lib/python3.10/site-packages (from spacy) (1.0.9)\r\n",
      "Requirement already satisfied: cymem<2.1.0,>=2.0.2 in /opt/conda/lib/python3.10/site-packages (from spacy) (2.0.7)\r\n",
      "Requirement already satisfied: preshed<3.1.0,>=3.0.2 in /opt/conda/lib/python3.10/site-packages (from spacy) (3.0.8)\r\n",
      "Requirement already satisfied: thinc<8.2.0,>=8.1.8 in /opt/conda/lib/python3.10/site-packages (from spacy) (8.1.10)\r\n",
      "Requirement already satisfied: wasabi<1.2.0,>=0.9.1 in /opt/conda/lib/python3.10/site-packages (from spacy) (1.1.2)\r\n",
      "Requirement already satisfied: srsly<3.0.0,>=2.4.3 in /opt/conda/lib/python3.10/site-packages (from spacy) (2.4.6)\r\n",
      "Requirement already satisfied: catalogue<2.1.0,>=2.0.6 in /opt/conda/lib/python3.10/site-packages (from spacy) (2.0.8)\r\n",
      "Requirement already satisfied: typer<0.10.0,>=0.3.0 in /opt/conda/lib/python3.10/site-packages (from spacy) (0.9.0)\r\n",
      "Requirement already satisfied: pathy>=0.10.0 in /opt/conda/lib/python3.10/site-packages (from spacy) (0.10.1)\r\n",
      "Requirement already satisfied: smart-open<7.0.0,>=5.2.1 in /opt/conda/lib/python3.10/site-packages (from spacy) (6.3.0)\r\n",
      "Requirement already satisfied: tqdm<5.0.0,>=4.38.0 in /opt/conda/lib/python3.10/site-packages (from spacy) (4.65.0)\r\n",
      "Requirement already satisfied: numpy>=1.15.0 in /opt/conda/lib/python3.10/site-packages (from spacy) (1.23.5)\r\n",
      "Requirement already satisfied: requests<3.0.0,>=2.13.0 in /opt/conda/lib/python3.10/site-packages (from spacy) (2.31.0)\r\n",
      "Requirement already satisfied: pydantic!=1.8,!=1.8.1,<1.11.0,>=1.7.4 in /opt/conda/lib/python3.10/site-packages (from spacy) (1.10.10)\r\n",
      "Requirement already satisfied: jinja2 in /opt/conda/lib/python3.10/site-packages (from spacy) (3.1.2)\r\n",
      "Requirement already satisfied: setuptools in /opt/conda/lib/python3.10/site-packages (from spacy) (59.8.0)\r\n",
      "Requirement already satisfied: packaging>=20.0 in /opt/conda/lib/python3.10/site-packages (from spacy) (21.3)\r\n",
      "Requirement already satisfied: langcodes<4.0.0,>=3.2.0 in /opt/conda/lib/python3.10/site-packages (from spacy) (3.3.0)\r\n",
      "Requirement already satisfied: pyparsing!=3.0.5,>=2.0.2 in /opt/conda/lib/python3.10/site-packages (from packaging>=20.0->spacy) (3.0.9)\r\n",
      "Requirement already satisfied: typing-extensions>=4.2.0 in /opt/conda/lib/python3.10/site-packages (from pydantic!=1.8,!=1.8.1,<1.11.0,>=1.7.4->spacy) (4.6.3)\r\n",
      "Requirement already satisfied: charset-normalizer<4,>=2 in /opt/conda/lib/python3.10/site-packages (from requests<3.0.0,>=2.13.0->spacy) (3.1.0)\r\n",
      "Requirement already satisfied: idna<4,>=2.5 in /opt/conda/lib/python3.10/site-packages (from requests<3.0.0,>=2.13.0->spacy) (3.4)\r\n",
      "Requirement already satisfied: urllib3<3,>=1.21.1 in /opt/conda/lib/python3.10/site-packages (from requests<3.0.0,>=2.13.0->spacy) (1.26.15)\r\n",
      "Requirement already satisfied: certifi>=2017.4.17 in /opt/conda/lib/python3.10/site-packages (from requests<3.0.0,>=2.13.0->spacy) (2023.5.7)\r\n",
      "Requirement already satisfied: blis<0.8.0,>=0.7.8 in /opt/conda/lib/python3.10/site-packages (from thinc<8.2.0,>=8.1.8->spacy) (0.7.9)\r\n",
      "Requirement already satisfied: confection<1.0.0,>=0.0.1 in /opt/conda/lib/python3.10/site-packages (from thinc<8.2.0,>=8.1.8->spacy) (0.1.0)\r\n",
      "Requirement already satisfied: click<9.0.0,>=7.1.1 in /opt/conda/lib/python3.10/site-packages (from typer<0.10.0,>=0.3.0->spacy) (8.1.3)\r\n",
      "Requirement already satisfied: MarkupSafe>=2.0 in /opt/conda/lib/python3.10/site-packages (from jinja2->spacy) (2.1.3)\r\n",
      "Requirement already satisfied: cmudict in /opt/conda/lib/python3.10/site-packages (1.0.13)\r\n",
      "Collecting importlib-metadata<6.0.0,>=5.1.0 (from cmudict)\r\n",
      "  Downloading importlib_metadata-5.2.0-py3-none-any.whl (21 kB)\r\n",
      "Requirement already satisfied: importlib-resources<6.0.0,>=5.10.1 in /opt/conda/lib/python3.10/site-packages (from cmudict) (5.12.0)\r\n",
      "Requirement already satisfied: zipp>=0.5 in /opt/conda/lib/python3.10/site-packages (from importlib-metadata<6.0.0,>=5.1.0->cmudict) (3.15.0)\r\n",
      "Installing collected packages: importlib-metadata\r\n",
      "  Attempting uninstall: importlib-metadata\r\n",
      "    Found existing installation: importlib-metadata 6.7.0\r\n",
      "    Uninstalling importlib-metadata-6.7.0:\r\n",
      "      Successfully uninstalled importlib-metadata-6.7.0\r\n",
      "\u001b[31mERROR: pip's dependency resolver does not currently take into account all the packages that are installed. This behaviour is the source of the following dependency conflicts.\r\n",
      "dask-cudf 23.6.1 requires cupy-cuda11x>=12.0.0, which is not installed.\r\n",
      "dask-cuda 23.6.0 requires dask==2023.3.2, but you have dask 2023.7.0 which is incompatible.\r\n",
      "dask-cudf 23.6.1 requires dask==2023.3.2, but you have dask 2023.7.0 which is incompatible.\r\n",
      "distributed 2023.3.2.1 requires dask==2023.3.2, but you have dask 2023.7.0 which is incompatible.\r\n",
      "opentelemetry-api 1.18.0 requires importlib-metadata~=6.0.0, but you have importlib-metadata 5.2.0 which is incompatible.\r\n",
      "raft-dask 23.6.2 requires dask==2023.3.2, but you have dask 2023.7.0 which is incompatible.\r\n",
      "yapf 0.40.1 requires importlib-metadata>=6.6.0, but you have importlib-metadata 5.2.0 which is incompatible.\u001b[0m\u001b[31m\r\n",
      "\u001b[0mSuccessfully installed importlib-metadata-5.2.0\r\n",
      "Collecting lexical-diversity\r\n",
      "  Downloading lexical_diversity-0.1.1-py3-none-any.whl (117 kB)\r\n",
      "\u001b[2K     \u001b[90m━━━━━━━━━━━━━━━━━━━━━━━━━━━━━━━━━━━━━━━\u001b[0m \u001b[32m117.8/117.8 kB\u001b[0m \u001b[31m3.8 MB/s\u001b[0m eta \u001b[36m0:00:00\u001b[0m\r\n",
      "\u001b[?25hInstalling collected packages: lexical-diversity\r\n",
      "Successfully installed lexical-diversity-0.1.1\r\n",
      "Collecting lexicalrichness\r\n",
      "  Downloading lexicalrichness-0.5.0.tar.gz (96 kB)\r\n",
      "\u001b[2K     \u001b[90m━━━━━━━━━━━━━━━━━━━━━━━━━━━━━━━━━━━━━━━━\u001b[0m \u001b[32m96.5/96.5 kB\u001b[0m \u001b[31m3.4 MB/s\u001b[0m eta \u001b[36m0:00:00\u001b[0m\r\n",
      "\u001b[?25h  Preparing metadata (setup.py) ... \u001b[?25l-\b \b\\\b \bdone\r\n",
      "\u001b[?25hRequirement already satisfied: scipy>=1.0.0 in /opt/conda/lib/python3.10/site-packages (from lexicalrichness) (1.11.1)\r\n",
      "Requirement already satisfied: textblob>=0.15.3 in /opt/conda/lib/python3.10/site-packages (from lexicalrichness) (0.17.1)\r\n",
      "Requirement already satisfied: pandas in /opt/conda/lib/python3.10/site-packages (from lexicalrichness) (1.5.3)\r\n",
      "Requirement already satisfied: matplotlib in /opt/conda/lib/python3.10/site-packages (from lexicalrichness) (3.7.1)\r\n",
      "Requirement already satisfied: numpy<1.28.0,>=1.21.6 in /opt/conda/lib/python3.10/site-packages (from scipy>=1.0.0->lexicalrichness) (1.23.5)\r\n",
      "Requirement already satisfied: nltk>=3.1 in /opt/conda/lib/python3.10/site-packages (from textblob>=0.15.3->lexicalrichness) (3.2.4)\r\n",
      "Requirement already satisfied: contourpy>=1.0.1 in /opt/conda/lib/python3.10/site-packages (from matplotlib->lexicalrichness) (1.1.0)\r\n",
      "Requirement already satisfied: cycler>=0.10 in /opt/conda/lib/python3.10/site-packages (from matplotlib->lexicalrichness) (0.11.0)\r\n",
      "Requirement already satisfied: fonttools>=4.22.0 in /opt/conda/lib/python3.10/site-packages (from matplotlib->lexicalrichness) (4.40.0)\r\n",
      "Requirement already satisfied: kiwisolver>=1.0.1 in /opt/conda/lib/python3.10/site-packages (from matplotlib->lexicalrichness) (1.4.4)\r\n",
      "Requirement already satisfied: packaging>=20.0 in /opt/conda/lib/python3.10/site-packages (from matplotlib->lexicalrichness) (21.3)\r\n",
      "Requirement already satisfied: pillow>=6.2.0 in /opt/conda/lib/python3.10/site-packages (from matplotlib->lexicalrichness) (9.5.0)\r\n",
      "Requirement already satisfied: pyparsing>=2.3.1 in /opt/conda/lib/python3.10/site-packages (from matplotlib->lexicalrichness) (3.0.9)\r\n",
      "Requirement already satisfied: python-dateutil>=2.7 in /opt/conda/lib/python3.10/site-packages (from matplotlib->lexicalrichness) (2.8.2)\r\n",
      "Requirement already satisfied: pytz>=2020.1 in /opt/conda/lib/python3.10/site-packages (from pandas->lexicalrichness) (2023.3)\r\n",
      "Requirement already satisfied: six in /opt/conda/lib/python3.10/site-packages (from nltk>=3.1->textblob>=0.15.3->lexicalrichness) (1.16.0)\r\n",
      "Building wheels for collected packages: lexicalrichness\r\n",
      "  Building wheel for lexicalrichness (setup.py) ... \u001b[?25l-\b \b\\\b \bdone\r\n",
      "\u001b[?25h  Created wheel for lexicalrichness: filename=lexicalrichness-0.5.0-py3-none-any.whl size=15534 sha256=0ef628aacd3ff9d884e619152c592fc2fe71b011f3dfc4d933112941c1731313\r\n",
      "  Stored in directory: /root/.cache/pip/wheels/42/68/59/1edd70c2b91dc172fa208eb34799e90bc6c093bfbb862ff017\r\n",
      "Successfully built lexicalrichness\r\n",
      "Installing collected packages: lexicalrichness\r\n",
      "Successfully installed lexicalrichness-0.5.0\r\n",
      "Collecting benepar\r\n",
      "  Downloading benepar-0.2.0.tar.gz (33 kB)\r\n",
      "  Preparing metadata (setup.py) ... \u001b[?25l-\b \b\\\b \bdone\r\n",
      "\u001b[?25hRequirement already satisfied: nltk>=3.2 in /opt/conda/lib/python3.10/site-packages (from benepar) (3.2.4)\r\n",
      "Requirement already satisfied: spacy>=2.0.9 in /opt/conda/lib/python3.10/site-packages (from benepar) (3.5.4)\r\n",
      "Requirement already satisfied: torch>=1.6.0 in /opt/conda/lib/python3.10/site-packages (from benepar) (2.0.0)\r\n",
      "Collecting torch-struct>=0.5 (from benepar)\r\n",
      "  Downloading torch_struct-0.5-py3-none-any.whl (34 kB)\r\n",
      "Requirement already satisfied: tokenizers>=0.9.4 in /opt/conda/lib/python3.10/site-packages (from benepar) (0.13.3)\r\n",
      "Requirement already satisfied: transformers[tokenizers,torch]>=4.2.2 in /opt/conda/lib/python3.10/site-packages (from benepar) (4.30.2)\r\n",
      "Requirement already satisfied: protobuf in /opt/conda/lib/python3.10/site-packages (from benepar) (3.20.3)\r\n",
      "Requirement already satisfied: sentencepiece>=0.1.91 in /opt/conda/lib/python3.10/site-packages (from benepar) (0.1.99)\r\n",
      "Requirement already satisfied: six in /opt/conda/lib/python3.10/site-packages (from nltk>=3.2->benepar) (1.16.0)\r\n",
      "Requirement already satisfied: spacy-legacy<3.1.0,>=3.0.11 in /opt/conda/lib/python3.10/site-packages (from spacy>=2.0.9->benepar) (3.0.12)\r\n",
      "Requirement already satisfied: spacy-loggers<2.0.0,>=1.0.0 in /opt/conda/lib/python3.10/site-packages (from spacy>=2.0.9->benepar) (1.0.4)\r\n",
      "Requirement already satisfied: murmurhash<1.1.0,>=0.28.0 in /opt/conda/lib/python3.10/site-packages (from spacy>=2.0.9->benepar) (1.0.9)\r\n",
      "Requirement already satisfied: cymem<2.1.0,>=2.0.2 in /opt/conda/lib/python3.10/site-packages (from spacy>=2.0.9->benepar) (2.0.7)\r\n",
      "Requirement already satisfied: preshed<3.1.0,>=3.0.2 in /opt/conda/lib/python3.10/site-packages (from spacy>=2.0.9->benepar) (3.0.8)\r\n",
      "Requirement already satisfied: thinc<8.2.0,>=8.1.8 in /opt/conda/lib/python3.10/site-packages (from spacy>=2.0.9->benepar) (8.1.10)\r\n",
      "Requirement already satisfied: wasabi<1.2.0,>=0.9.1 in /opt/conda/lib/python3.10/site-packages (from spacy>=2.0.9->benepar) (1.1.2)\r\n",
      "Requirement already satisfied: srsly<3.0.0,>=2.4.3 in /opt/conda/lib/python3.10/site-packages (from spacy>=2.0.9->benepar) (2.4.6)\r\n",
      "Requirement already satisfied: catalogue<2.1.0,>=2.0.6 in /opt/conda/lib/python3.10/site-packages (from spacy>=2.0.9->benepar) (2.0.8)\r\n",
      "Requirement already satisfied: typer<0.10.0,>=0.3.0 in /opt/conda/lib/python3.10/site-packages (from spacy>=2.0.9->benepar) (0.9.0)\r\n",
      "Requirement already satisfied: pathy>=0.10.0 in /opt/conda/lib/python3.10/site-packages (from spacy>=2.0.9->benepar) (0.10.1)\r\n",
      "Requirement already satisfied: smart-open<7.0.0,>=5.2.1 in /opt/conda/lib/python3.10/site-packages (from spacy>=2.0.9->benepar) (6.3.0)\r\n",
      "Requirement already satisfied: tqdm<5.0.0,>=4.38.0 in /opt/conda/lib/python3.10/site-packages (from spacy>=2.0.9->benepar) (4.65.0)\r\n",
      "Requirement already satisfied: numpy>=1.15.0 in /opt/conda/lib/python3.10/site-packages (from spacy>=2.0.9->benepar) (1.23.5)\r\n",
      "Requirement already satisfied: requests<3.0.0,>=2.13.0 in /opt/conda/lib/python3.10/site-packages (from spacy>=2.0.9->benepar) (2.31.0)\r\n",
      "Requirement already satisfied: pydantic!=1.8,!=1.8.1,<1.11.0,>=1.7.4 in /opt/conda/lib/python3.10/site-packages (from spacy>=2.0.9->benepar) (1.10.10)\r\n",
      "Requirement already satisfied: jinja2 in /opt/conda/lib/python3.10/site-packages (from spacy>=2.0.9->benepar) (3.1.2)\r\n",
      "Requirement already satisfied: setuptools in /opt/conda/lib/python3.10/site-packages (from spacy>=2.0.9->benepar) (59.8.0)\r\n",
      "Requirement already satisfied: packaging>=20.0 in /opt/conda/lib/python3.10/site-packages (from spacy>=2.0.9->benepar) (21.3)\r\n",
      "Requirement already satisfied: langcodes<4.0.0,>=3.2.0 in /opt/conda/lib/python3.10/site-packages (from spacy>=2.0.9->benepar) (3.3.0)\r\n",
      "Requirement already satisfied: filelock in /opt/conda/lib/python3.10/site-packages (from torch>=1.6.0->benepar) (3.12.2)\r\n",
      "Requirement already satisfied: typing-extensions in /opt/conda/lib/python3.10/site-packages (from torch>=1.6.0->benepar) (4.6.3)\r\n",
      "Requirement already satisfied: sympy in /opt/conda/lib/python3.10/site-packages (from torch>=1.6.0->benepar) (1.12)\r\n",
      "Requirement already satisfied: networkx in /opt/conda/lib/python3.10/site-packages (from torch>=1.6.0->benepar) (3.1)\r\n",
      "Requirement already satisfied: huggingface-hub<1.0,>=0.14.1 in /opt/conda/lib/python3.10/site-packages (from transformers[tokenizers,torch]>=4.2.2->benepar) (0.16.4)\r\n",
      "Requirement already satisfied: pyyaml>=5.1 in /opt/conda/lib/python3.10/site-packages (from transformers[tokenizers,torch]>=4.2.2->benepar) (6.0)\r\n",
      "Requirement already satisfied: regex!=2019.12.17 in /opt/conda/lib/python3.10/site-packages (from transformers[tokenizers,torch]>=4.2.2->benepar) (2023.6.3)\r\n",
      "Requirement already satisfied: safetensors>=0.3.1 in /opt/conda/lib/python3.10/site-packages (from transformers[tokenizers,torch]>=4.2.2->benepar) (0.3.1)\r\n",
      "Requirement already satisfied: accelerate>=0.20.2 in /opt/conda/lib/python3.10/site-packages (from transformers[tokenizers,torch]>=4.2.2->benepar) (0.20.3)\r\n",
      "Requirement already satisfied: psutil in /opt/conda/lib/python3.10/site-packages (from accelerate>=0.20.2->transformers[tokenizers,torch]>=4.2.2->benepar) (5.9.3)\r\n",
      "Requirement already satisfied: fsspec in /opt/conda/lib/python3.10/site-packages (from huggingface-hub<1.0,>=0.14.1->transformers[tokenizers,torch]>=4.2.2->benepar) (2023.6.0)\r\n",
      "Requirement already satisfied: pyparsing!=3.0.5,>=2.0.2 in /opt/conda/lib/python3.10/site-packages (from packaging>=20.0->spacy>=2.0.9->benepar) (3.0.9)\r\n",
      "Requirement already satisfied: charset-normalizer<4,>=2 in /opt/conda/lib/python3.10/site-packages (from requests<3.0.0,>=2.13.0->spacy>=2.0.9->benepar) (3.1.0)\r\n",
      "Requirement already satisfied: idna<4,>=2.5 in /opt/conda/lib/python3.10/site-packages (from requests<3.0.0,>=2.13.0->spacy>=2.0.9->benepar) (3.4)\r\n",
      "Requirement already satisfied: urllib3<3,>=1.21.1 in /opt/conda/lib/python3.10/site-packages (from requests<3.0.0,>=2.13.0->spacy>=2.0.9->benepar) (1.26.15)\r\n",
      "Requirement already satisfied: certifi>=2017.4.17 in /opt/conda/lib/python3.10/site-packages (from requests<3.0.0,>=2.13.0->spacy>=2.0.9->benepar) (2023.5.7)\r\n",
      "Requirement already satisfied: blis<0.8.0,>=0.7.8 in /opt/conda/lib/python3.10/site-packages (from thinc<8.2.0,>=8.1.8->spacy>=2.0.9->benepar) (0.7.9)\r\n",
      "Requirement already satisfied: confection<1.0.0,>=0.0.1 in /opt/conda/lib/python3.10/site-packages (from thinc<8.2.0,>=8.1.8->spacy>=2.0.9->benepar) (0.1.0)\r\n",
      "Requirement already satisfied: click<9.0.0,>=7.1.1 in /opt/conda/lib/python3.10/site-packages (from typer<0.10.0,>=0.3.0->spacy>=2.0.9->benepar) (8.1.3)\r\n",
      "Requirement already satisfied: MarkupSafe>=2.0 in /opt/conda/lib/python3.10/site-packages (from jinja2->spacy>=2.0.9->benepar) (2.1.3)\r\n",
      "Requirement already satisfied: mpmath>=0.19 in /opt/conda/lib/python3.10/site-packages (from sympy->torch>=1.6.0->benepar) (1.3.0)\r\n",
      "Building wheels for collected packages: benepar\r\n",
      "  Building wheel for benepar (setup.py) ... \u001b[?25l-\b \b\\\b \b|\b \b/\b \bdone\r\n",
      "\u001b[?25h  Created wheel for benepar: filename=benepar-0.2.0-py3-none-any.whl size=37647 sha256=3f9e09c80ce051d46c1e5d6e716a46da56d1c5492fa32e856b956de527ab098b\r\n",
      "  Stored in directory: /root/.cache/pip/wheels/8d/4d/c1/a5af726368d5dbaaaa0b2dd36ed39b9da8cec46279a49bd6db\r\n",
      "Successfully built benepar\r\n",
      "Installing collected packages: torch-struct, benepar\r\n",
      "Successfully installed benepar-0.2.0 torch-struct-0.5\r\n",
      "Collecting vaderSentiment\r\n",
      "  Downloading vaderSentiment-3.3.2-py2.py3-none-any.whl (125 kB)\r\n",
      "\u001b[2K     \u001b[90m━━━━━━━━━━━━━━━━━━━━━━━━━━━━━━━━━━━━━━━\u001b[0m \u001b[32m126.0/126.0 kB\u001b[0m \u001b[31m3.9 MB/s\u001b[0m eta \u001b[36m0:00:00\u001b[0m\r\n",
      "\u001b[?25hRequirement already satisfied: requests in /opt/conda/lib/python3.10/site-packages (from vaderSentiment) (2.31.0)\r\n",
      "Requirement already satisfied: charset-normalizer<4,>=2 in /opt/conda/lib/python3.10/site-packages (from requests->vaderSentiment) (3.1.0)\r\n",
      "Requirement already satisfied: idna<4,>=2.5 in /opt/conda/lib/python3.10/site-packages (from requests->vaderSentiment) (3.4)\r\n",
      "Requirement already satisfied: urllib3<3,>=1.21.1 in /opt/conda/lib/python3.10/site-packages (from requests->vaderSentiment) (1.26.15)\r\n",
      "Requirement already satisfied: certifi>=2017.4.17 in /opt/conda/lib/python3.10/site-packages (from requests->vaderSentiment) (2023.5.7)\r\n",
      "Installing collected packages: vaderSentiment\r\n",
      "Successfully installed vaderSentiment-3.3.2\r\n"
     ]
    }
   ],
   "source": [
    "# Install necessary packages for natural language processing tasks\n",
    "\n",
    "!pip install nltk\n",
    "!pip install spacy\n",
    "!pip install cmudict\n",
    "!pip install lexical-diversity\n",
    "!pip install lexicalrichness\n",
    "!pip install benepar\n",
    "!pip install vaderSentiment"
   ]
  },
  {
   "cell_type": "code",
   "execution_count": 45,
   "id": "68712d5b",
   "metadata": {
    "collapsed": true,
    "execution": {
     "iopub.execute_input": "2023-08-01T09:54:27.398720Z",
     "iopub.status.busy": "2023-08-01T09:54:27.398318Z",
     "iopub.status.idle": "2023-08-01T09:54:37.991284Z",
     "shell.execute_reply": "2023-08-01T09:54:37.984063Z"
    },
    "jupyter": {
     "outputs_hidden": true
    },
    "papermill": {
     "duration": 10.653523,
     "end_time": "2023-08-01T09:54:37.997745",
     "exception": false,
     "start_time": "2023-08-01T09:54:27.344222",
     "status": "completed"
    },
    "tags": []
   },
   "outputs": [
    {
     "name": "stdout",
     "output_type": "stream",
     "text": [
      "[nltk_data] Downloading package punkt to /usr/share/nltk_data...\n",
      "[nltk_data]   Package punkt is already up-to-date!\n",
      "[nltk_data] Downloading package averaged_perceptron_tagger to\n",
      "[nltk_data]     /usr/share/nltk_data...\n",
      "[nltk_data]   Package averaged_perceptron_tagger is already up-to-\n",
      "[nltk_data]       date!\n",
      "[nltk_data] Downloading package benepar_en3 to /usr/share/nltk_data...\n",
      "[nltk_data]   Unzipping models/benepar_en3.zip.\n"
     ]
    },
    {
     "data": {
      "text/plain": [
       "<benepar.integrations.spacy_plugin.BeneparComponent at 0x7961f905d630>"
      ]
     },
     "execution_count": 45,
     "metadata": {},
     "output_type": "execute_result"
    }
   ],
   "source": [
    "# Import necessary libraries for natural language processing tasks\n",
    "\n",
    "# data processing\n",
    "import spacy\n",
    "import pandas as pd\n",
    "import string\n",
    "import re\n",
    "import string\n",
    "\n",
    "# nlp \n",
    "import nltk\n",
    "import math\n",
    "import spacy\n",
    "import sys\n",
    "import benepar\n",
    "import lexicalrichness\n",
    "from lexical_diversity import lex_div as ld\n",
    "from nltk.corpus import wordnet as wn\n",
    "from collections import Counter\n",
    "from nltk.corpus import wordnet as wn\n",
    "from nltk.tokenize import word_tokenize\n",
    "from vaderSentiment.vaderSentiment import SentimentIntensityAnalyzer\n",
    "\n",
    "# Download additional resources from NLTK\n",
    "nltk.download('punkt')  # Tokenization resources\n",
    "nltk.download('averaged_perceptron_tagger')  # POS tagging resources\n",
    "\n",
    "# Load the English language model for spaCy\n",
    "nlp = spacy.load('en_core_web_sm')\n",
    "\n",
    "# Download the pre-trained parser for constituency parsing\n",
    "benepar.download('benepar_en3')\n",
    "nlp.add_pipe('benepar', config={'model': 'benepar_en3'})"
   ]
  },
  {
   "cell_type": "code",
   "execution_count": 46,
   "id": "ee32ff22",
   "metadata": {
    "collapsed": true,
    "execution": {
     "iopub.execute_input": "2023-08-01T09:54:38.168372Z",
     "iopub.status.busy": "2023-08-01T09:54:38.166143Z",
     "iopub.status.idle": "2023-08-01T09:54:39.769290Z",
     "shell.execute_reply": "2023-08-01T09:54:39.767998Z"
    },
    "jupyter": {
     "outputs_hidden": true
    },
    "papermill": {
     "duration": 1.685443,
     "end_time": "2023-08-01T09:54:39.771872",
     "exception": false,
     "start_time": "2023-08-01T09:54:38.086429",
     "status": "completed"
    },
    "tags": []
   },
   "outputs": [
    {
     "name": "stdout",
     "output_type": "stream",
     "text": [
      "Archive:  /usr/share/nltk_data/corpora/wordnet.zip\r\n",
      "   creating: /usr/share/nltk_data/corpora/wordnet/\r\n",
      "  inflating: /usr/share/nltk_data/corpora/wordnet/lexnames  \r\n",
      "  inflating: /usr/share/nltk_data/corpora/wordnet/data.verb  \r\n",
      "  inflating: /usr/share/nltk_data/corpora/wordnet/index.adv  \r\n",
      "  inflating: /usr/share/nltk_data/corpora/wordnet/adv.exc  \r\n",
      "  inflating: /usr/share/nltk_data/corpora/wordnet/index.verb  \r\n",
      "  inflating: /usr/share/nltk_data/corpora/wordnet/cntlist.rev  \r\n",
      "  inflating: /usr/share/nltk_data/corpora/wordnet/data.adj  \r\n",
      "  inflating: /usr/share/nltk_data/corpora/wordnet/index.adj  \r\n",
      "  inflating: /usr/share/nltk_data/corpora/wordnet/LICENSE  \r\n",
      "  inflating: /usr/share/nltk_data/corpora/wordnet/citation.bib  \r\n",
      "  inflating: /usr/share/nltk_data/corpora/wordnet/noun.exc  \r\n",
      "  inflating: /usr/share/nltk_data/corpora/wordnet/verb.exc  \r\n",
      "  inflating: /usr/share/nltk_data/corpora/wordnet/README  \r\n",
      "  inflating: /usr/share/nltk_data/corpora/wordnet/index.sense  \r\n",
      "  inflating: /usr/share/nltk_data/corpora/wordnet/data.noun  \r\n",
      "  inflating: /usr/share/nltk_data/corpora/wordnet/data.adv  \r\n",
      "  inflating: /usr/share/nltk_data/corpora/wordnet/index.noun  \r\n",
      "  inflating: /usr/share/nltk_data/corpora/wordnet/adj.exc  \r\n"
     ]
    }
   ],
   "source": [
    "# unzip the WordNet corpus data\n",
    "!unzip /usr/share/nltk_data/corpora/wordnet.zip -d /usr/share/nltk_data/corpora/"
   ]
  },
  {
   "cell_type": "code",
   "execution_count": 47,
   "id": "f0757556",
   "metadata": {
    "collapsed": true,
    "execution": {
     "iopub.execute_input": "2023-08-01T09:54:39.887588Z",
     "iopub.status.busy": "2023-08-01T09:54:39.887181Z",
     "iopub.status.idle": "2023-08-01T09:55:08.106525Z",
     "shell.execute_reply": "2023-08-01T09:55:08.105289Z"
    },
    "jupyter": {
     "outputs_hidden": true
    },
    "papermill": {
     "duration": 28.278046,
     "end_time": "2023-08-01T09:55:08.108967",
     "exception": false,
     "start_time": "2023-08-01T09:54:39.830921",
     "status": "completed"
    },
    "tags": []
   },
   "outputs": [
    {
     "name": "stdout",
     "output_type": "stream",
     "text": [
      "/opt/conda/lib/python3.10/site-packages/scipy/__init__.py:146: UserWarning: A NumPy version >=1.16.5 and <1.23.0 is required for this version of SciPy (detected version 1.23.5\r\n",
      "  warnings.warn(f\"A NumPy version >={np_minversion} and <{np_maxversion}\"\r\n",
      "/opt/conda/lib/python3.10/site-packages/tensorflow_io/python/ops/__init__.py:98: UserWarning: unable to load libtensorflow_io_plugins.so: unable to open file: libtensorflow_io_plugins.so, from paths: ['/opt/conda/lib/python3.10/site-packages/tensorflow_io/python/ops/libtensorflow_io_plugins.so']\r\n",
      "caused by: ['/opt/conda/lib/python3.10/site-packages/tensorflow_io/python/ops/libtensorflow_io_plugins.so: undefined symbol: _ZN3tsl6StatusC1EN10tensorflow5error4CodeESt17basic_string_viewIcSt11char_traitsIcEENS_14SourceLocationE']\r\n",
      "  warnings.warn(f\"unable to load libtensorflow_io_plugins.so: {e}\")\r\n",
      "/opt/conda/lib/python3.10/site-packages/tensorflow_io/python/ops/__init__.py:104: UserWarning: file system plugins are not loaded: unable to open file: libtensorflow_io.so, from paths: ['/opt/conda/lib/python3.10/site-packages/tensorflow_io/python/ops/libtensorflow_io.so']\r\n",
      "caused by: ['/opt/conda/lib/python3.10/site-packages/tensorflow_io/python/ops/libtensorflow_io.so: undefined symbol: _ZTVN10tensorflow13GcsFileSystemE']\r\n",
      "  warnings.warn(f\"file system plugins are not loaded: {e}\")\r\n",
      "Collecting en-core-web-md==3.5.0\r\n",
      "  Downloading https://github.com/explosion/spacy-models/releases/download/en_core_web_md-3.5.0/en_core_web_md-3.5.0-py3-none-any.whl (42.8 MB)\r\n",
      "\u001b[2K     \u001b[90m━━━━━━━━━━━━━━━━━━━━━━━━━━━━━━━━━━━━━━━━\u001b[0m \u001b[32m42.8/42.8 MB\u001b[0m \u001b[31m14.6 MB/s\u001b[0m eta \u001b[36m0:00:00\u001b[0m\r\n",
      "\u001b[?25hRequirement already satisfied: spacy<3.6.0,>=3.5.0 in /opt/conda/lib/python3.10/site-packages (from en-core-web-md==3.5.0) (3.5.4)\r\n",
      "Requirement already satisfied: spacy-legacy<3.1.0,>=3.0.11 in /opt/conda/lib/python3.10/site-packages (from spacy<3.6.0,>=3.5.0->en-core-web-md==3.5.0) (3.0.12)\r\n",
      "Requirement already satisfied: spacy-loggers<2.0.0,>=1.0.0 in /opt/conda/lib/python3.10/site-packages (from spacy<3.6.0,>=3.5.0->en-core-web-md==3.5.0) (1.0.4)\r\n",
      "Requirement already satisfied: murmurhash<1.1.0,>=0.28.0 in /opt/conda/lib/python3.10/site-packages (from spacy<3.6.0,>=3.5.0->en-core-web-md==3.5.0) (1.0.9)\r\n",
      "Requirement already satisfied: cymem<2.1.0,>=2.0.2 in /opt/conda/lib/python3.10/site-packages (from spacy<3.6.0,>=3.5.0->en-core-web-md==3.5.0) (2.0.7)\r\n",
      "Requirement already satisfied: preshed<3.1.0,>=3.0.2 in /opt/conda/lib/python3.10/site-packages (from spacy<3.6.0,>=3.5.0->en-core-web-md==3.5.0) (3.0.8)\r\n",
      "Requirement already satisfied: thinc<8.2.0,>=8.1.8 in /opt/conda/lib/python3.10/site-packages (from spacy<3.6.0,>=3.5.0->en-core-web-md==3.5.0) (8.1.10)\r\n",
      "Requirement already satisfied: wasabi<1.2.0,>=0.9.1 in /opt/conda/lib/python3.10/site-packages (from spacy<3.6.0,>=3.5.0->en-core-web-md==3.5.0) (1.1.2)\r\n",
      "Requirement already satisfied: srsly<3.0.0,>=2.4.3 in /opt/conda/lib/python3.10/site-packages (from spacy<3.6.0,>=3.5.0->en-core-web-md==3.5.0) (2.4.6)\r\n",
      "Requirement already satisfied: catalogue<2.1.0,>=2.0.6 in /opt/conda/lib/python3.10/site-packages (from spacy<3.6.0,>=3.5.0->en-core-web-md==3.5.0) (2.0.8)\r\n",
      "Requirement already satisfied: typer<0.10.0,>=0.3.0 in /opt/conda/lib/python3.10/site-packages (from spacy<3.6.0,>=3.5.0->en-core-web-md==3.5.0) (0.9.0)\r\n",
      "Requirement already satisfied: pathy>=0.10.0 in /opt/conda/lib/python3.10/site-packages (from spacy<3.6.0,>=3.5.0->en-core-web-md==3.5.0) (0.10.1)\r\n",
      "Requirement already satisfied: smart-open<7.0.0,>=5.2.1 in /opt/conda/lib/python3.10/site-packages (from spacy<3.6.0,>=3.5.0->en-core-web-md==3.5.0) (6.3.0)\r\n",
      "Requirement already satisfied: tqdm<5.0.0,>=4.38.0 in /opt/conda/lib/python3.10/site-packages (from spacy<3.6.0,>=3.5.0->en-core-web-md==3.5.0) (4.65.0)\r\n",
      "Requirement already satisfied: numpy>=1.15.0 in /opt/conda/lib/python3.10/site-packages (from spacy<3.6.0,>=3.5.0->en-core-web-md==3.5.0) (1.23.5)\r\n",
      "Requirement already satisfied: requests<3.0.0,>=2.13.0 in /opt/conda/lib/python3.10/site-packages (from spacy<3.6.0,>=3.5.0->en-core-web-md==3.5.0) (2.31.0)\r\n",
      "Requirement already satisfied: pydantic!=1.8,!=1.8.1,<1.11.0,>=1.7.4 in /opt/conda/lib/python3.10/site-packages (from spacy<3.6.0,>=3.5.0->en-core-web-md==3.5.0) (1.10.10)\r\n",
      "Requirement already satisfied: jinja2 in /opt/conda/lib/python3.10/site-packages (from spacy<3.6.0,>=3.5.0->en-core-web-md==3.5.0) (3.1.2)\r\n",
      "Requirement already satisfied: setuptools in /opt/conda/lib/python3.10/site-packages (from spacy<3.6.0,>=3.5.0->en-core-web-md==3.5.0) (59.8.0)\r\n",
      "Requirement already satisfied: packaging>=20.0 in /opt/conda/lib/python3.10/site-packages (from spacy<3.6.0,>=3.5.0->en-core-web-md==3.5.0) (21.3)\r\n",
      "Requirement already satisfied: langcodes<4.0.0,>=3.2.0 in /opt/conda/lib/python3.10/site-packages (from spacy<3.6.0,>=3.5.0->en-core-web-md==3.5.0) (3.3.0)\r\n",
      "Requirement already satisfied: pyparsing!=3.0.5,>=2.0.2 in /opt/conda/lib/python3.10/site-packages (from packaging>=20.0->spacy<3.6.0,>=3.5.0->en-core-web-md==3.5.0) (3.0.9)\r\n",
      "Requirement already satisfied: typing-extensions>=4.2.0 in /opt/conda/lib/python3.10/site-packages (from pydantic!=1.8,!=1.8.1,<1.11.0,>=1.7.4->spacy<3.6.0,>=3.5.0->en-core-web-md==3.5.0) (4.6.3)\r\n",
      "Requirement already satisfied: charset-normalizer<4,>=2 in /opt/conda/lib/python3.10/site-packages (from requests<3.0.0,>=2.13.0->spacy<3.6.0,>=3.5.0->en-core-web-md==3.5.0) (3.1.0)\r\n",
      "Requirement already satisfied: idna<4,>=2.5 in /opt/conda/lib/python3.10/site-packages (from requests<3.0.0,>=2.13.0->spacy<3.6.0,>=3.5.0->en-core-web-md==3.5.0) (3.4)\r\n",
      "Requirement already satisfied: urllib3<3,>=1.21.1 in /opt/conda/lib/python3.10/site-packages (from requests<3.0.0,>=2.13.0->spacy<3.6.0,>=3.5.0->en-core-web-md==3.5.0) (1.26.15)\r\n",
      "Requirement already satisfied: certifi>=2017.4.17 in /opt/conda/lib/python3.10/site-packages (from requests<3.0.0,>=2.13.0->spacy<3.6.0,>=3.5.0->en-core-web-md==3.5.0) (2023.5.7)\r\n",
      "Requirement already satisfied: blis<0.8.0,>=0.7.8 in /opt/conda/lib/python3.10/site-packages (from thinc<8.2.0,>=8.1.8->spacy<3.6.0,>=3.5.0->en-core-web-md==3.5.0) (0.7.9)\r\n",
      "Requirement already satisfied: confection<1.0.0,>=0.0.1 in /opt/conda/lib/python3.10/site-packages (from thinc<8.2.0,>=8.1.8->spacy<3.6.0,>=3.5.0->en-core-web-md==3.5.0) (0.1.0)\r\n",
      "Requirement already satisfied: click<9.0.0,>=7.1.1 in /opt/conda/lib/python3.10/site-packages (from typer<0.10.0,>=0.3.0->spacy<3.6.0,>=3.5.0->en-core-web-md==3.5.0) (8.1.3)\r\n",
      "Requirement already satisfied: MarkupSafe>=2.0 in /opt/conda/lib/python3.10/site-packages (from jinja2->spacy<3.6.0,>=3.5.0->en-core-web-md==3.5.0) (2.1.3)\r\n",
      "Installing collected packages: en-core-web-md\r\n",
      "Successfully installed en-core-web-md-3.5.0\r\n",
      "\u001b[38;5;2m✔ Download and installation successful\u001b[0m\r\n",
      "You can now load the package via spacy.load('en_core_web_md')\r\n"
     ]
    }
   ],
   "source": [
    "# download the \"en_core_web_md\" model for SpaCy\n",
    "!python -m spacy download en_core_web_md"
   ]
  },
  {
   "cell_type": "code",
   "execution_count": 48,
   "id": "c500fabd",
   "metadata": {
    "execution": {
     "iopub.execute_input": "2023-08-01T09:55:08.226338Z",
     "iopub.status.busy": "2023-08-01T09:55:08.225925Z",
     "iopub.status.idle": "2023-08-01T09:55:08.304093Z",
     "shell.execute_reply": "2023-08-01T09:55:08.303001Z"
    },
    "papermill": {
     "duration": 0.140124,
     "end_time": "2023-08-01T09:55:08.306697",
     "exception": false,
     "start_time": "2023-08-01T09:55:08.166573",
     "status": "completed"
    },
    "tags": []
   },
   "outputs": [],
   "source": [
    "# Read the CSV files into a pandas df\n",
    "df_emotions = pd.read_csv('/kaggle/input/df-mispredictions-em/df_mispredictions_em.csv')\n",
    "df_sentiment = pd.read_csv('/kaggle/input/df-mispredictions-sent/df_mispredictions_sent.csv')\n",
    "\n",
    "\n",
    "# Drop rows with missing values\n",
    "df_sentiment.dropna(inplace=True)\n",
    "df_emotions.dropna(inplace=True)\n",
    "\n",
    "\n",
    "# Drop unecessary columns\n",
    "df_sentiment.drop(['label', 'Predicted Label'], axis=1, inplace=True)\n",
    "df_emotions.drop(['label', 'Predicted Label'], axis=1, inplace=True)"
   ]
  },
  {
   "cell_type": "markdown",
   "id": "84785fc3",
   "metadata": {
    "papermill": {
     "duration": 0.056204,
     "end_time": "2023-08-01T09:55:08.423281",
     "exception": false,
     "start_time": "2023-08-01T09:55:08.367077",
     "status": "completed"
    },
    "tags": []
   },
   "source": [
    "### 3.2 Extraction of Lexical Features\n",
    "\n",
    "#### 3.2a. Lexical Density\n",
    "#### 3.2b. TTR\n",
    "- CTTR\n",
    "- GTTR\n",
    "#### 3.2c.MTLD\n",
    "#### 3.2d. Lexical Variation \n",
    "- Verb Variation\n",
    "- Adverb Variation\n",
    "- Noun Variation\n",
    "- Adjective Variation "
   ]
  },
  {
   "cell_type": "code",
   "execution_count": 49,
   "id": "ea40453d",
   "metadata": {
    "execution": {
     "iopub.execute_input": "2023-08-01T09:55:08.538472Z",
     "iopub.status.busy": "2023-08-01T09:55:08.538065Z",
     "iopub.status.idle": "2023-08-01T10:00:25.898398Z",
     "shell.execute_reply": "2023-08-01T10:00:25.897272Z"
    },
    "papermill": {
     "duration": 317.421502,
     "end_time": "2023-08-01T10:00:25.901047",
     "exception": false,
     "start_time": "2023-08-01T09:55:08.479545",
     "status": "completed"
    },
    "tags": []
   },
   "outputs": [
    {
     "name": "stderr",
     "output_type": "stream",
     "text": [
      "You're using a T5TokenizerFast tokenizer. Please note that with a fast tokenizer, using the `__call__` method is faster than using a method to encode the text followed by a call to the `pad` method to get a padded encoding.\n",
      "/opt/conda/lib/python3.10/site-packages/torch/distributions/distribution.py:51: UserWarning: <class 'torch_struct.distributions.TreeCRF'> does not define `arg_constraints`. Please set `arg_constraints = {}` or initialize the distribution with `validate_args=False` to turn off validation.\n",
      "  warnings.warn(f'{self.__class__} does not define `arg_constraints`. ' +\n",
      "/opt/conda/lib/python3.10/site-packages/torch/distributions/distribution.py:51: UserWarning: <class 'torch_struct.distributions.TreeCRF'> does not define `arg_constraints`. Please set `arg_constraints = {}` or initialize the distribution with `validate_args=False` to turn off validation.\n",
      "  warnings.warn(f'{self.__class__} does not define `arg_constraints`. ' +\n"
     ]
    }
   ],
   "source": [
    "# Create a function for calculating lexical features\n",
    "\n",
    "def lexical_features(df):\n",
    "    # Token Count\n",
    "    def tokens_no_nums(txt): \n",
    "        txt = re.sub('\\d', '', txt) # remove digits from the text \n",
    "        tokens = nltk.word_tokenize(txt) # tokenize it into words\n",
    "        words = [word for word in tokens if word.isalpha()]\n",
    "        return words\n",
    "\n",
    "    def token_count(txt):  #calculate number of tokens \n",
    "        return len(tokens_no_nums(txt))\n",
    "\n",
    "    # Type Count\n",
    "    def type_count(txt):\n",
    "        counter = Counter(tokens_no_nums(txt))\n",
    "        return len(counter.keys())\n",
    "\n",
    "    # 1. Lexical Density\n",
    "    def lexical_density(text):\n",
    "        tokens = nltk.word_tokenize(text) # tokenize the text\n",
    "        tagged_tokens = nltk.pos_tag(tokens)  # tag each word with its corresponding POS tag\n",
    "        num_lexical_words = 0 # initialize a counter\n",
    "        # loop through each word and its corresponding POS tag\n",
    "        for word, tag in tagged_tokens:\n",
    "             # checking if the word is a verb, adverb, adjective, gerund, proper noun, or singular noun\n",
    "            if tag.startswith('VB') or tag.startswith('RB') or tag.startswith('JJ') or tag == 'VBG' or tag == 'VBN' or tag.startswith('NN') or tag == 'NNP':\n",
    "                # exclude modal verbs 'have' and 'be'\n",
    "                if not (tag == 'MD' and (word == 'have' or word == 'be')):\n",
    "                    num_lexical_words += 1\n",
    "            elif tag in ['RBR', 'RBS', 'JJR', 'JJS']:\n",
    "                num_lexical_words += 1\n",
    "\n",
    "        return num_lexical_words / len(tokens) #divide the number of lexical words by the total number of tokens\n",
    "\n",
    "    # 2. TTR, CTTR, GTTR\n",
    "    def ttr(text):\n",
    "        words = text.split()  # split the text into words\n",
    "        words = [word.translate(str.maketrans('', '', string.punctuation)) for word in words] # remove punctuation from words\n",
    "        unique_words = set(words)\n",
    "        ttr = len(unique_words) / len(words) # calculate ttr\n",
    "        if len(words) == len(unique_words):\n",
    "            cttr = 0 # calculate cttr\n",
    "        else:\n",
    "            cttr = ttr * ((2 * len(words)) / (len(unique_words) * (len(words) - 1)))\n",
    "        gttr = ttr / math.sqrt(2 * len(words))  # calculate gttr\n",
    "        return ttr, cttr, gttr\n",
    "\n",
    "    # 3. MTLD\n",
    "    def mtld(text):\n",
    "        sentences = re.split('[.!?]', text)  # split into sentences\n",
    "        words = []  # initialiaze an empty list to store words\n",
    "        # loop through each sentence \n",
    "        for sentence in sentences:\n",
    "            sentence_doc = nlp(sentence)\n",
    "            words += [token.lemma_.lower() for token in sentence_doc if not token.is_stop and token.is_alpha] # extract lemmatized tokens\n",
    "        if len(words) > 0:  # check for the existence of words after preprocessing\n",
    "            text_str = ' '.join(words)\n",
    "            return lexicalrichness.LexicalRichness(text_str).mtld(threshold=0.72)\n",
    "        else:\n",
    "            return 0\n",
    "\n",
    "    # 4. Verb Variation\n",
    "    def verb_variation(row):\n",
    "        tokens = nltk.word_tokenize(row['sentence'])\n",
    "        verb_tokens = len([token for token in tokens if nltk.pos_tag([token])[0][1] in {'VB', 'VBD', 'VBG', 'VBN', 'VBP', 'VBZ'}]) # count the number of verb tokens\n",
    "        # count the total number of lexical words \n",
    "        lexical_words = len([token for token in tokens if nltk.pos_tag([token])[0][1] in {'NN', 'NNS', 'NNP', 'NNPS', 'VB', 'VBD', 'VBG', 'VBN', 'VBP', 'VBZ', 'JJ', 'JJR', 'JJS', 'RB', 'RBR', 'RBS'}])\n",
    "        # divide the number of verb tokens by the total number of lexical words\n",
    "        if lexical_words > 0:\n",
    "            vv = verb_tokens / lexical_words\n",
    "        else:\n",
    "            vv = 0\n",
    "        return vv\n",
    "\n",
    "    # 5. Noun Variation\n",
    "    def noun_variation(row):\n",
    "        tokens = nltk.word_tokenize(row['sentence']) # tokenize the sentence\n",
    "        pos_tags = nltk.pos_tag(tokens) # obtain the pos tags for each token\n",
    "        noun_tokens = sum(1 for tag in pos_tags if tag[1] in ['NN', 'NNS', 'NNP', 'NNPS']) # count the number of nouns tokens\n",
    "        # count the number of noun tokens in the sentence\n",
    "        lexical_words = sum(1 for tag in pos_tags if tag[1] in ['NN', 'NNS', 'NNP', 'NNPS', 'VB', 'VBD', 'VBG', 'VBN', 'VBP', 'VBZ', 'JJ', 'JJR', 'JJS', 'RB', 'RBR', 'RBS'])\n",
    "        # calculate noun variation\n",
    "        if lexical_words > 0:\n",
    "            nv = noun_tokens / lexical_words\n",
    "        else:\n",
    "            nv = 0\n",
    "        return nv\n",
    "\n",
    "    # 6. Adverb Variation\n",
    "    def adverb_variation(row):\n",
    "        tokens = nltk.word_tokenize(row['sentence'])\n",
    "        pos_tags = nltk.pos_tag(tokens)\n",
    "        adverb_tokens = sum(1 for tag in pos_tags if tag[1] in ['RB', 'RBR', 'RBS'])\n",
    "        lexical_words = sum(1 for tag in pos_tags if tag[1] in ['NN', 'NNS', 'NNP', 'NNPS', 'VB', 'VBD', 'VBG', 'VBN', 'VBP', 'VBZ', 'JJ', 'JJR', 'JJS', 'RB', 'RBR', 'RBS'])\n",
    "        if lexical_words > 0:\n",
    "            av = adverb_tokens / lexical_words # divide the number of adverb tokens by the total number of lexical words\n",
    "        else:\n",
    "            av = 0\n",
    "        return av\n",
    "\n",
    "    # 7. Adjective Variation\n",
    "    def adjective_variation(row):\n",
    "        tokens = nltk.word_tokenize(row['sentence'])\n",
    "        pos_tags = nltk.pos_tag(tokens)\n",
    "        adj_tokens = sum(1 for tag in pos_tags if tag[1] in ['JJ', 'JJR', 'JJS'])\n",
    "        lexical_words = sum(1 for tag in pos_tags if tag[1] in ['NN', 'NNS', 'NNP', 'NNPS', 'VB', 'VBD', 'VBG', 'VBN', 'VBP', 'VBZ', 'JJ', 'JJR', 'JJS', 'RB', 'RBR', 'RBS'])\n",
    "        if lexical_words > 0:\n",
    "            av = adj_tokens / lexical_words # divide the number of adj tokens by the total number of lexical words\n",
    "        else:\n",
    "            av = 0\n",
    "        return av\n",
    "\n",
    "    # 8. Non-standard Words\n",
    "    coca = set(wn.words()) # variable containing words from the WordNet corpus\n",
    "\n",
    "    def nonstandard_words(text):\n",
    "        tokens = nltk.word_tokenize(text)  # tokenize the input text into words\n",
    "        count = sum(1 for token in tokens if token.lower() not in coca) # count the number of tokens that are not in the WordNet corpus\n",
    "        return count\n",
    "\n",
    "    # 9. Profanity Words\n",
    "    with open(\"/kaggle/input/profanity-list/profanity_list.txt\", \"r\") as file:  # read the file containing a list of profanity words\n",
    "        profanity_words = [word.strip() for word in file]\n",
    "\n",
    "    def prof_words(text):\n",
    "        count = 0\n",
    "        # loop through each word in the input text\n",
    "        for word in text.split():\n",
    "            if word.lower() in profanity_words:  #  checking if the lowercased word exists in the profanity list\n",
    "                count += 1\n",
    "        return count\n",
    "    \n",
    "\n",
    "    # Apply all functions to dataset\n",
    "    df['token_count'] = df['sentence'].apply(token_count)\n",
    "    df['type_count'] = df['sentence'].apply(lambda x: type_count(x))\n",
    "    df['LexDens'] = df['sentence'].apply(lexical_density)\n",
    "    df[['TTR', 'CTTR', 'GTTR']] = df['sentence'].dropna().apply(ttr).apply(pd.Series)\n",
    "    df['MTLD'] = df['sentence'].apply(mtld)\n",
    "    df['VerbVar'] = df.apply(verb_variation, axis=1)\n",
    "    df['NounVar'] = df.apply(noun_variation, axis=1)\n",
    "    df['AdjVar'] = df.apply(adjective_variation, axis=1)\n",
    "    df['AdvVar'] = df.apply(adverb_variation, axis=1)\n",
    "    df['non_standard'] = df['sentence'].apply(nonstandard_words)\n",
    "    df['profanity_words'] = df['sentence'].apply(prof_words)\n",
    "\n",
    "    return df\n",
    "\n",
    "# Call the function on both datasets\n",
    "df_sentiment = lexical_features(df_sentiment)\n",
    "df_emotions = lexical_features(df_emotions)"
   ]
  },
  {
   "cell_type": "markdown",
   "id": "aaee3151",
   "metadata": {
    "papermill": {
     "duration": 0.059774,
     "end_time": "2023-08-01T10:00:26.019214",
     "exception": false,
     "start_time": "2023-08-01T10:00:25.959440",
     "status": "completed"
    },
    "tags": []
   },
   "source": [
    "#### 3.2e Function Words\n",
    "- Articles\n",
    "- Prepositions\n",
    "- Conjunctions\n",
    "- Pronouns\n",
    "- Auxiliary Verbs\n",
    "- Modal Verbs\n",
    "- Determiners"
   ]
  },
  {
   "cell_type": "code",
   "execution_count": 50,
   "id": "9197d0f8",
   "metadata": {
    "execution": {
     "iopub.execute_input": "2023-08-01T10:00:26.138196Z",
     "iopub.status.busy": "2023-08-01T10:00:26.137179Z",
     "iopub.status.idle": "2023-08-01T10:00:28.474286Z",
     "shell.execute_reply": "2023-08-01T10:00:28.473259Z"
    },
    "papermill": {
     "duration": 2.398401,
     "end_time": "2023-08-01T10:00:28.476778",
     "exception": false,
     "start_time": "2023-08-01T10:00:26.078377",
     "status": "completed"
    },
    "tags": []
   },
   "outputs": [],
   "source": [
    "# 10. Function Words\n",
    "def function_words(tokens, pattern):\n",
    "    matches = [token for token in tokens if re.match(pattern, token, flags=re.IGNORECASE)]  # usinge regex to match function words in tokens\n",
    "    return len(matches)\n",
    "\n",
    "# List of function word features and their corresponding patterns\n",
    "function_words_patterns = {\n",
    "    'Articles': r'\\b(a|an|the)\\b',\n",
    "    'Prepositions': r'\\b(in|on|at|over|under|with|of|to|from)\\b',\n",
    "    'Conjunctions': r'\\b(and|but|or|so|if|because|while|although)\\b',\n",
    "    'Pronouns': r'\\b(I|you|he|she|it|we|they|me|him|her|us|them)\\b',\n",
    "    'Auxiliary Verbs': r'\\b(be|do)\\b',\n",
    "    'Modal Verbs': r'\\b(can|could|may|might|shall|should|will|would|must)\\b',\n",
    "    'Determiners': r'\\b(this|that|these|those|some|any|no|every)\\b',\n",
    "}\n",
    "\n",
    "# Tokenize the text and convert tokens to lowercase\n",
    "df_sentiment['tokenized_text'] = df_sentiment['sentence'].apply(lambda x: word_tokenize(x.lower()))\n",
    "df_emotions['tokenized_text'] = df_emotions['sentence'].apply(lambda x: word_tokenize(x.lower()))\n",
    "\n",
    "# Create separate columns for each function \n",
    "for column in function_words_patterns.keys():\n",
    "    df_sentiment[column] = 0\n",
    "\n",
    "# Iterate over function word features and count their occurrences in each sentence\n",
    "for feature, pattern in function_words_patterns.items():\n",
    "    df_sentiment[feature] = df_sentiment['tokenized_text'].apply(lambda x: function_words(x, pattern))\n",
    "    df_emotions[feature] = df_emotions['tokenized_text'].apply(lambda x: function_words(x, pattern))"
   ]
  },
  {
   "cell_type": "markdown",
   "id": "6b0af4d8",
   "metadata": {
    "papermill": {
     "duration": 0.056387,
     "end_time": "2023-08-01T10:00:28.589858",
     "exception": false,
     "start_time": "2023-08-01T10:00:28.533471",
     "status": "completed"
    },
    "tags": []
   },
   "source": [
    "### 3.3 Syntactic Features\n",
    "### Phrase Level\n",
    "#### 3.3a. Total Number of Phrases\n",
    "- Ratio Noun phrases\n",
    "- Adverb phrases,\n",
    "- Adjective phrases\n",
    "- Prepositional phrases\n",
    "- Verb phrases\n",
    "\n",
    "#### 3.3b. Complex Nominals"
   ]
  },
  {
   "cell_type": "code",
   "execution_count": 51,
   "id": "076e3e78",
   "metadata": {
    "execution": {
     "iopub.execute_input": "2023-08-01T10:00:28.708771Z",
     "iopub.status.busy": "2023-08-01T10:00:28.708410Z",
     "iopub.status.idle": "2023-08-01T10:00:28.725499Z",
     "shell.execute_reply": "2023-08-01T10:00:28.724587Z"
    },
    "papermill": {
     "duration": 0.077773,
     "end_time": "2023-08-01T10:00:28.727787",
     "exception": false,
     "start_time": "2023-08-01T10:00:28.650014",
     "status": "completed"
    },
    "tags": []
   },
   "outputs": [],
   "source": [
    "# 1. Total Number of Phrases\n",
    "def count_phrases(sentence):\n",
    "    doc = nlp(sentence[:512])\n",
    "    sent = list(doc.sents)[0]\n",
    "    counts = {'Noun phrase': 0, 'Adverb phrase': 0, 'Adjective phrase': 0, 'Prepositional phrase': 0, 'Verb phrase': 0}\n",
    "    for token in sent:\n",
    "        if token.dep_ == 'nsubj':  # check if token is a subject in NP\n",
    "            counts['Noun phrase'] += 1\n",
    "        elif token.pos_ == 'ADV':  # check if token is an adverb\n",
    "            counts['Adverb phrase'] += 1  \n",
    "        elif token.pos_ == 'ADJ':  # check if token is an adjective\n",
    "            counts['Adjective phrase'] += 1\n",
    "        elif token.dep_ == 'prep': # check if token is a preposition in a PRP\n",
    "            counts['Prepositional phrase'] += 1\n",
    "        elif token.pos_ == 'VERB':  # check if token is a verb\n",
    "            counts['Verb phrase'] += 1\n",
    "    total_count = sum(counts.values())  # calculate the total number of phrases\n",
    "    return total_count\n",
    "\n",
    "# 2. Number of NP, AdvP, AdjP, PrP, VP\n",
    "def count_specific_phrases(sentence):\n",
    "    doc = nlp(sentence[:512])\n",
    "    sent = list(doc.sents)[0]\n",
    "    counts = {'Noun phrase': 0, 'Adverb phrase': 0, 'Adjective phrase': 0, 'Prepositional phrase': 0, 'Verb phrase': 0}\n",
    "    for token in sent:\n",
    "        if token.dep_ == 'nsubj':\n",
    "            counts['Noun phrase'] += 1\n",
    "        elif token.pos_ == 'ADV':\n",
    "            counts['Adverb phrase'] += 1\n",
    "        elif token.pos_ == 'ADJ':\n",
    "            counts['Adjective phrase'] += 1\n",
    "        elif token.dep_ == 'prep':\n",
    "            counts['Prepositional phrase'] += 1\n",
    "        elif token.pos_ == 'VERB':\n",
    "            counts['Verb phrase'] += 1\n",
    "    total_phrases = sum(counts.values())\n",
    "    if total_phrases == 0:\n",
    "        return {'Noun phrase ratio': 0, 'Adverb phrase ratio': 0, 'Adjective phrase ratio': 0, 'Prepositional phrase ratio': 0, 'Verb phrase ratio': 0}\n",
    "    ratios = {\n",
    "        'Noun phrase ratio': counts['Noun phrase'] / total_phrases,\n",
    "        'Adverb phrase ratio': counts['Adverb phrase'] / total_phrases,\n",
    "        'Adjective phrase ratio': counts['Adjective phrase'] / total_phrases,\n",
    "        'Prepositional phrase ratio': counts['Prepositional phrase'] / total_phrases,\n",
    "        'Verb phrase ratio': counts['Verb phrase'] / total_phrases\n",
    "    }\n",
    "    return ratios\n",
    "\n",
    "\n",
    "# 3. Complex Nominals\n",
    "def compute_complex_nominals(text):\n",
    "    doc = nlp(text[:512])\n",
    "    count = 0\n",
    "    for token in doc:\n",
    "        if token.pos_ == 'NOUN' and token.dep_ != 'compound':  # check if token is a noun and not part of a compound word\n",
    "            if any(child.pos_ == 'NOUN' for child in token.children):   # check if the noun has child nouns\n",
    "                count += 1\n",
    "        elif token.pos_ == 'ADJ' or token.pos_ == 'PART' or (token.pos_ == 'NOUN' and token.dep_ == 'poss'):  # check for the existence of adjectives, particles, or possessive nouns\n",
    "            count += 1\n",
    "        elif token.pos_ == 'ADP':\n",
    "            for child in token.children:\n",
    "                if child.pos_ == 'NOUN' and child.dep_ != 'compound':\n",
    "                    count += 1\n",
    "        elif token.pos_ == 'VERB':\n",
    "            for child in token.children:\n",
    "                if child.dep_ == 'relcl' or child.dep_ == 'acl':\n",
    "                    count += 1\n",
    "    return count"
   ]
  },
  {
   "cell_type": "code",
   "execution_count": 52,
   "id": "a24751b6",
   "metadata": {
    "execution": {
     "iopub.execute_input": "2023-08-01T10:00:28.846504Z",
     "iopub.status.busy": "2023-08-01T10:00:28.846092Z",
     "iopub.status.idle": "2023-08-01T10:04:56.445353Z",
     "shell.execute_reply": "2023-08-01T10:04:56.444267Z"
    },
    "papermill": {
     "duration": 267.660539,
     "end_time": "2023-08-01T10:04:56.447977",
     "exception": false,
     "start_time": "2023-08-01T10:00:28.787438",
     "status": "completed"
    },
    "tags": []
   },
   "outputs": [
    {
     "name": "stderr",
     "output_type": "stream",
     "text": [
      "/opt/conda/lib/python3.10/site-packages/torch/distributions/distribution.py:51: UserWarning: <class 'torch_struct.distributions.TreeCRF'> does not define `arg_constraints`. Please set `arg_constraints = {}` or initialize the distribution with `validate_args=False` to turn off validation.\n",
      "  warnings.warn(f'{self.__class__} does not define `arg_constraints`. ' +\n",
      "/opt/conda/lib/python3.10/site-packages/torch/distributions/distribution.py:51: UserWarning: <class 'torch_struct.distributions.TreeCRF'> does not define `arg_constraints`. Please set `arg_constraints = {}` or initialize the distribution with `validate_args=False` to turn off validation.\n",
      "  warnings.warn(f'{self.__class__} does not define `arg_constraints`. ' +\n",
      "/opt/conda/lib/python3.10/site-packages/torch/distributions/distribution.py:51: UserWarning: <class 'torch_struct.distributions.TreeCRF'> does not define `arg_constraints`. Please set `arg_constraints = {}` or initialize the distribution with `validate_args=False` to turn off validation.\n",
      "  warnings.warn(f'{self.__class__} does not define `arg_constraints`. ' +\n"
     ]
    }
   ],
   "source": [
    "# Call the functions to df_sentiment\n",
    "df_sentiment['Number of Phrases'] = df_sentiment['sentence'].apply(count_phrases)\n",
    "df_sentiment[['NP Ratio', 'AdvP Ratio', 'AdjP Ratio', 'PrpP Ratio', 'VP Ratio']] = df_sentiment['sentence'].apply(count_specific_phrases).apply(pd.Series)\n",
    "df_sentiment['Complex Nominals'] = df_sentiment['sentence'].apply(compute_complex_nominals)"
   ]
  },
  {
   "cell_type": "code",
   "execution_count": 53,
   "id": "ae9444b7",
   "metadata": {
    "execution": {
     "iopub.execute_input": "2023-08-01T10:04:56.565429Z",
     "iopub.status.busy": "2023-08-01T10:04:56.564347Z",
     "iopub.status.idle": "2023-08-01T10:08:54.585368Z",
     "shell.execute_reply": "2023-08-01T10:08:54.584267Z"
    },
    "papermill": {
     "duration": 238.081957,
     "end_time": "2023-08-01T10:08:54.587923",
     "exception": false,
     "start_time": "2023-08-01T10:04:56.505966",
     "status": "completed"
    },
    "tags": []
   },
   "outputs": [
    {
     "name": "stderr",
     "output_type": "stream",
     "text": [
      "/opt/conda/lib/python3.10/site-packages/torch/distributions/distribution.py:51: UserWarning: <class 'torch_struct.distributions.TreeCRF'> does not define `arg_constraints`. Please set `arg_constraints = {}` or initialize the distribution with `validate_args=False` to turn off validation.\n",
      "  warnings.warn(f'{self.__class__} does not define `arg_constraints`. ' +\n",
      "/opt/conda/lib/python3.10/site-packages/torch/distributions/distribution.py:51: UserWarning: <class 'torch_struct.distributions.TreeCRF'> does not define `arg_constraints`. Please set `arg_constraints = {}` or initialize the distribution with `validate_args=False` to turn off validation.\n",
      "  warnings.warn(f'{self.__class__} does not define `arg_constraints`. ' +\n",
      "/opt/conda/lib/python3.10/site-packages/torch/distributions/distribution.py:51: UserWarning: <class 'torch_struct.distributions.TreeCRF'> does not define `arg_constraints`. Please set `arg_constraints = {}` or initialize the distribution with `validate_args=False` to turn off validation.\n",
      "  warnings.warn(f'{self.__class__} does not define `arg_constraints`. ' +\n"
     ]
    }
   ],
   "source": [
    "# Call the functions to df_emotions\n",
    "df_emotions['Number of Phrases'] = df_emotions['sentence'].apply(count_phrases)\n",
    "df_emotions[['NP Ratio', 'AdvP Ratio', 'AdjP Ratio', 'PrpP Ratio', 'VP Ratio']] = df_emotions['sentence'].apply(count_specific_phrases).apply(pd.Series)\n",
    "df_emotions['Complex Nominals'] = df_emotions['sentence'].apply(compute_complex_nominals)"
   ]
  },
  {
   "cell_type": "markdown",
   "id": "adbc78ac",
   "metadata": {
    "papermill": {
     "duration": 0.057167,
     "end_time": "2023-08-01T10:08:54.703010",
     "exception": false,
     "start_time": "2023-08-01T10:08:54.645843",
     "status": "completed"
    },
    "tags": []
   },
   "source": [
    "### Sentence Level\n",
    "\n",
    "#### 3.3c. Sentence Length\n",
    "- Number of words in the sentence\n",
    "- Number of characters in the sentence\n",
    "\n",
    "#### 3.3d. Dependent Clauses\n",
    "- Number of Subordinate Clauses in a Sentence\n",
    "- Number of Relative Clauses in a sentence\n",
    "\n",
    "#### 3.3e. Tree Depth of Syntactic Parse Tree"
   ]
  },
  {
   "cell_type": "code",
   "execution_count": 54,
   "id": "2ac555e0",
   "metadata": {
    "execution": {
     "iopub.execute_input": "2023-08-01T10:08:54.819810Z",
     "iopub.status.busy": "2023-08-01T10:08:54.818828Z",
     "iopub.status.idle": "2023-08-01T10:08:54.824456Z",
     "shell.execute_reply": "2023-08-01T10:08:54.823450Z"
    },
    "papermill": {
     "duration": 0.066133,
     "end_time": "2023-08-01T10:08:54.826468",
     "exception": false,
     "start_time": "2023-08-01T10:08:54.760335",
     "status": "completed"
    },
    "tags": []
   },
   "outputs": [],
   "source": [
    "# 1. Number of characters \n",
    "get_num_chars = lambda x: len(''.join(x.split()))\n",
    "\n",
    "# 2. Number of words \n",
    "get_num_words = lambda x: len(x.split())"
   ]
  },
  {
   "cell_type": "code",
   "execution_count": 55,
   "id": "e483311e",
   "metadata": {
    "execution": {
     "iopub.execute_input": "2023-08-01T10:08:54.944497Z",
     "iopub.status.busy": "2023-08-01T10:08:54.944111Z",
     "iopub.status.idle": "2023-08-01T10:08:54.955956Z",
     "shell.execute_reply": "2023-08-01T10:08:54.954811Z"
    },
    "papermill": {
     "duration": 0.074754,
     "end_time": "2023-08-01T10:08:54.958552",
     "exception": false,
     "start_time": "2023-08-01T10:08:54.883798",
     "status": "completed"
    },
    "tags": []
   },
   "outputs": [],
   "source": [
    "# 3. Subordinate Clauses\n",
    "def subord_clauses(sentence):\n",
    "    doc = nlp(sentence[:512])\n",
    "    subord_count = 0\n",
    "    for token in doc:\n",
    "        # Check if the token is a subordinating conjunction \n",
    "        if token.dep_ == \"mark\" and (token.text == \"that\" or token.text in [\"when\", \"where\", \"who\", \"whom\", \"whose\", \"which\", \"although\", \"because\", \"if\", \"since\", \"while\"]):\n",
    "            subord_count += 1\n",
    "    return subord_count\n",
    "\n",
    "\n",
    "# 4. Relative Clauses\n",
    "pattern = r\"(which|who|whom|whose|where|when)\"\n",
    "\n",
    "# define a function to count the number of matches of the pattern in a sentence\n",
    "def relative_clauses(sentence):\n",
    "    matches = re.findall(pattern, sentence)\n",
    "    return len(matches)\n",
    "\n",
    "\n",
    "# 5. Syntactic Tree Depth\n",
    "def tree_depth(sentence):\n",
    "    doc = nlp(sentence[:512]) # parse the sentence\n",
    "    root = [token for token in doc if token.head == token][0] # find the root of the synt tree\n",
    "    \n",
    "    def traverse(node, depth):\n",
    "        if not list(node.children): # ff the current node has no children, return its depth\n",
    "            return depth\n",
    "        else:\n",
    "            return max(traverse(child, depth+1) for child in node.children)\n",
    "    # start the tree traversal from the root with an initial depth of 0\n",
    "    return traverse(root, 0)\n",
    "\n",
    "\n",
    "# 6. Parenthetical Sentences\n",
    "# Define a regular expression to match parenthetical expressions\n",
    "paren_regex = r'[\\(\\[\\{].*?[\\)\\]\\}]'\n",
    "\n",
    "# Define a regular expression to match parenthetical expressions set within dashes\n",
    "dash_regex = r'--(.*?)--'\n",
    "\n",
    "# Define a regular expression to match parenthetical expressions within commas\n",
    "comma_regex = r',\\s*([^,()]+)\\s*,'\n",
    "\n",
    "# Count the number of parenthetical expressions in a sentence\n",
    "def parenthetical_sent(sentence):\n",
    "    # Find all parenthetical expressions in the sentence\n",
    "    paren_matches = re.findall(paren_regex, sentence)\n",
    "    dash_matches = re.findall(dash_regex, sentence)\n",
    "    comma_matches = re.findall(comma_regex, sentence)\n",
    "\n",
    "    # Combine all matches into a single list of parenthetical expressions\n",
    "    parentheticals = paren_matches + dash_matches + comma_matches\n",
    "\n",
    "    # Return the count of parenthetical expressions\n",
    "    return len(parentheticals)"
   ]
  },
  {
   "cell_type": "code",
   "execution_count": 56,
   "id": "1e305e14",
   "metadata": {
    "execution": {
     "iopub.execute_input": "2023-08-01T10:08:55.076064Z",
     "iopub.status.busy": "2023-08-01T10:08:55.075702Z",
     "iopub.status.idle": "2023-08-01T10:11:53.163712Z",
     "shell.execute_reply": "2023-08-01T10:11:53.162599Z"
    },
    "papermill": {
     "duration": 178.149762,
     "end_time": "2023-08-01T10:11:53.166309",
     "exception": false,
     "start_time": "2023-08-01T10:08:55.016547",
     "status": "completed"
    },
    "tags": []
   },
   "outputs": [
    {
     "name": "stderr",
     "output_type": "stream",
     "text": [
      "/opt/conda/lib/python3.10/site-packages/torch/distributions/distribution.py:51: UserWarning: <class 'torch_struct.distributions.TreeCRF'> does not define `arg_constraints`. Please set `arg_constraints = {}` or initialize the distribution with `validate_args=False` to turn off validation.\n",
      "  warnings.warn(f'{self.__class__} does not define `arg_constraints`. ' +\n",
      "/opt/conda/lib/python3.10/site-packages/torch/distributions/distribution.py:51: UserWarning: <class 'torch_struct.distributions.TreeCRF'> does not define `arg_constraints`. Please set `arg_constraints = {}` or initialize the distribution with `validate_args=False` to turn off validation.\n",
      "  warnings.warn(f'{self.__class__} does not define `arg_constraints`. ' +\n"
     ]
    }
   ],
   "source": [
    "# Call functions to df_sentiment\n",
    "df_sentiment['Subordinate Clauses'] = df_sentiment['sentence'].apply(subord_clauses)   \n",
    "df_sentiment[\"Relative Clauses\"] = df_sentiment[\"sentence\"].apply(relative_clauses)\n",
    "df_sentiment['Number of Characters'] = df_sentiment['sentence'].apply(get_num_chars)\n",
    "df_sentiment['Number of Words'] = df_sentiment['sentence'].apply(get_num_words)\n",
    "\n",
    "# Join the list of words back into a string before applying the tree function\n",
    "df_sentiment[\"Tree Depth\"] = df_sentiment[\"sentence\"].apply(tree_depth)\n",
    "df_sentiment['paren_count'] = df_sentiment['sentence'].apply(parenthetical_sent)"
   ]
  },
  {
   "cell_type": "code",
   "execution_count": 57,
   "id": "5a598e7c",
   "metadata": {
    "execution": {
     "iopub.execute_input": "2023-08-01T10:11:53.286741Z",
     "iopub.status.busy": "2023-08-01T10:11:53.286364Z",
     "iopub.status.idle": "2023-08-01T10:14:32.027271Z",
     "shell.execute_reply": "2023-08-01T10:14:32.024997Z"
    },
    "papermill": {
     "duration": 158.803194,
     "end_time": "2023-08-01T10:14:32.030086",
     "exception": false,
     "start_time": "2023-08-01T10:11:53.226892",
     "status": "completed"
    },
    "tags": []
   },
   "outputs": [
    {
     "name": "stderr",
     "output_type": "stream",
     "text": [
      "/opt/conda/lib/python3.10/site-packages/torch/distributions/distribution.py:51: UserWarning: <class 'torch_struct.distributions.TreeCRF'> does not define `arg_constraints`. Please set `arg_constraints = {}` or initialize the distribution with `validate_args=False` to turn off validation.\n",
      "  warnings.warn(f'{self.__class__} does not define `arg_constraints`. ' +\n",
      "/opt/conda/lib/python3.10/site-packages/torch/distributions/distribution.py:51: UserWarning: <class 'torch_struct.distributions.TreeCRF'> does not define `arg_constraints`. Please set `arg_constraints = {}` or initialize the distribution with `validate_args=False` to turn off validation.\n",
      "  warnings.warn(f'{self.__class__} does not define `arg_constraints`. ' +\n"
     ]
    }
   ],
   "source": [
    "# Call functions to df_emotions\n",
    "df_emotions['Subordinate Clauses'] = df_emotions['sentence'].apply(subord_clauses)   \n",
    "df_emotions[\"Relative Clauses\"] = df_emotions[\"sentence\"].apply(relative_clauses)\n",
    "df_emotions['Number of Characters'] = df_emotions['sentence'].apply(get_num_chars)\n",
    "df_emotions['Number of Words'] = df_emotions['sentence'].apply(get_num_words)\n",
    "\n",
    "# Join the list of words back into a string before applying the get_tree_depth function\n",
    "df_emotions[\"Tree Depth\"] = df_emotions[\"sentence\"].apply(tree_depth)\n",
    "df_emotions['paren_count'] = df_emotions['sentence'].apply(parenthetical_sent)"
   ]
  },
  {
   "cell_type": "markdown",
   "id": "e4e863d7",
   "metadata": {
    "papermill": {
     "duration": 0.056689,
     "end_time": "2023-08-01T10:14:32.144781",
     "exception": false,
     "start_time": "2023-08-01T10:14:32.088092",
     "status": "completed"
    },
    "tags": []
   },
   "source": [
    "### Dependency Relations\n",
    "- Subject-Verb Agreement\n",
    "- Object-Verb Agreement\n",
    "- Adjective-Noun Agreement"
   ]
  },
  {
   "cell_type": "code",
   "execution_count": 58,
   "id": "516353ac",
   "metadata": {
    "execution": {
     "iopub.execute_input": "2023-08-01T10:14:32.262445Z",
     "iopub.status.busy": "2023-08-01T10:14:32.262051Z",
     "iopub.status.idle": "2023-08-01T10:14:32.269806Z",
     "shell.execute_reply": "2023-08-01T10:14:32.268769Z"
    },
    "papermill": {
     "duration": 0.068839,
     "end_time": "2023-08-01T10:14:32.271923",
     "exception": false,
     "start_time": "2023-08-01T10:14:32.203084",
     "status": "completed"
    },
    "tags": []
   },
   "outputs": [],
   "source": [
    "# 1. Dependency Relations\n",
    "def dependency_label_frequencies(sentences, relations_to_extract):\n",
    "    dependency_frequencies = []  # empty dictionary to  store dependency frequencies\n",
    "    for sentence in sentences: #iterate over each sentence\n",
    "        max_length = 512  # maximum supported length of tokens\n",
    "        chunks = [sentence[i:i + max_length] for i in range(0, len(sentence), max_length)]\n",
    "        sentence_dependency_labels = {}\n",
    "\n",
    "        for chunk in chunks: # process the sentence in chunks of maximum supported length\n",
    "            doc = nlp(chunk)\n",
    "            for token in doc: # iterate over each token\n",
    "                if token.dep_ in dep_rel: # check if the token's dependency label is included in the dep_rel variable\n",
    "                    if token.dep_ not in sentence_dependency_labels: # include the dependency label in the dictionary if it's not already included\n",
    "                        sentence_dependency_labels[token.dep_] = 0\n",
    "                    sentence_dependency_labels[token.dep_] += 1\n",
    "\n",
    "        dependency_frequencies.append(sentence_dependency_labels)\n",
    "\n",
    "    return dependency_frequencies  # return the list of dependency frequencies"
   ]
  },
  {
   "cell_type": "code",
   "execution_count": 59,
   "id": "0a6dc983",
   "metadata": {
    "execution": {
     "iopub.execute_input": "2023-08-01T10:14:32.388444Z",
     "iopub.status.busy": "2023-08-01T10:14:32.388053Z",
     "iopub.status.idle": "2023-08-01T10:17:26.318519Z",
     "shell.execute_reply": "2023-08-01T10:17:26.317386Z"
    },
    "papermill": {
     "duration": 173.991325,
     "end_time": "2023-08-01T10:17:26.321092",
     "exception": false,
     "start_time": "2023-08-01T10:14:32.329767",
     "status": "completed"
    },
    "tags": []
   },
   "outputs": [
    {
     "name": "stderr",
     "output_type": "stream",
     "text": [
      "/opt/conda/lib/python3.10/site-packages/torch/distributions/distribution.py:51: UserWarning: <class 'torch_struct.distributions.TreeCRF'> does not define `arg_constraints`. Please set `arg_constraints = {}` or initialize the distribution with `validate_args=False` to turn off validation.\n",
      "  warnings.warn(f'{self.__class__} does not define `arg_constraints`. ' +\n"
     ]
    }
   ],
   "source": [
    "# Define the dependency relations \n",
    "dep_rel = [\"nsubj\", \"dobj\", \"amod\"]\n",
    "\n",
    "# Extract the dependency label frequencies\n",
    "dependency_frequencies = dependency_label_frequencies(df_sentiment['sentence'], dep_rel)\n",
    "dependency_frequencies = dependency_label_frequencies(df_emotions['sentence'], dep_rel)\n",
    "\n",
    "# Create separate columns in the datasets for each dependency relation\n",
    "for relation in dep_rel:\n",
    "    df_sentiment[relation] = 0\n",
    "    df_emotions[relation] = 0\n",
    "\n",
    "# Update the corresponding columns in the datasets\n",
    "for i, frequencies in enumerate(dependency_frequencies):\n",
    "    for relation, frequency in frequencies.items():\n",
    "        df_sentiment.at[i, relation] = frequency\n",
    "        df_emotions.at[i, relation] = frequency"
   ]
  },
  {
   "cell_type": "code",
   "execution_count": 60,
   "id": "7de845b3",
   "metadata": {
    "execution": {
     "iopub.execute_input": "2023-08-01T10:17:26.441519Z",
     "iopub.status.busy": "2023-08-01T10:17:26.440034Z",
     "iopub.status.idle": "2023-08-01T10:17:26.452828Z",
     "shell.execute_reply": "2023-08-01T10:17:26.451879Z"
    },
    "papermill": {
     "duration": 0.073865,
     "end_time": "2023-08-01T10:17:26.455041",
     "exception": false,
     "start_time": "2023-08-01T10:17:26.381176",
     "status": "completed"
    },
    "tags": []
   },
   "outputs": [],
   "source": [
    "# Remove NA values\n",
    "df_sentiment = df_sentiment.dropna(subset=['sentence'])\n",
    "df_emotions =  df_emotions.dropna(subset=['sentence'])"
   ]
  },
  {
   "cell_type": "markdown",
   "id": "9bdb961c",
   "metadata": {
    "execution": {
     "iopub.execute_input": "2023-06-14T16:19:19.833776Z",
     "iopub.status.busy": "2023-06-14T16:19:19.832899Z",
     "iopub.status.idle": "2023-06-14T16:19:19.867352Z",
     "shell.execute_reply": "2023-06-14T16:19:19.865644Z",
     "shell.execute_reply.started": "2023-06-14T16:19:19.833731Z"
    },
    "papermill": {
     "duration": 0.057706,
     "end_time": "2023-08-01T10:17:26.569564",
     "exception": false,
     "start_time": "2023-08-01T10:17:26.511858",
     "status": "completed"
    },
    "tags": []
   },
   "source": [
    "### 3.4 Extraction of Discourse Coherence Features\n",
    "#### 3.4a. Discourse Markers\n",
    "- Constrast Markers\n",
    "- Emphatic Markers\n",
    "- Concessive Markers\n",
    "- Summary Markers"
   ]
  },
  {
   "cell_type": "code",
   "execution_count": 61,
   "id": "e0f7de0d",
   "metadata": {
    "execution": {
     "iopub.execute_input": "2023-08-01T10:17:26.686098Z",
     "iopub.status.busy": "2023-08-01T10:17:26.685077Z",
     "iopub.status.idle": "2023-08-01T10:17:26.697932Z",
     "shell.execute_reply": "2023-08-01T10:17:26.696876Z"
    },
    "papermill": {
     "duration": 0.073502,
     "end_time": "2023-08-01T10:17:26.700088",
     "exception": false,
     "start_time": "2023-08-01T10:17:26.626586",
     "status": "completed"
    },
    "tags": []
   },
   "outputs": [],
   "source": [
    "# list of discourse markers\n",
    "constrast_markers = [\"but\", \"however\", \"nevertheless\", \"yet\", \"despite\", \"although\"]\n",
    "# add multi-word expressions to the list with regex pattern\n",
    "constrast_markers.extend([\"all in all\", \"on the contrary\", \"by contrast\", \"in contrast\", \"even though\", \"on the other hand\"])\n",
    "\n",
    "# list of emphasic markers\n",
    "emphatic_markers = ['indeed', 'certainly', 'absolutely', 'clearly', 'obviously', 'notably', 'significantly', 'particularly', 'especially']\n",
    "emphatic_markers.extend([\"by all means\", \"of course\", \"without a doubt\", \"in fact\"])\n",
    "\n",
    "# list of concessive markers\n",
    "concessive_markers = [\"although\", \"while\", \"despite\", \"granted\", \"admittedly\", \"naturally\"]\n",
    "concessive_markers.extend([\"be that as it may\", \"at the same time\", \"regardless of\", \"notwithstanding that\"])\n",
    "\n",
    "# list of summary markers\n",
    "summary_markers = [\"overall\", \"briefly\", \"succinctly\", \"finally\"]\n",
    "summary_markers.extend([\"to summarize\", \"as a result\", \"in essence\", \"on the whole\", \"in conclusion\", \"to sum up\", \"all in all\", \"in summary\"])\n",
    "\n",
    "# 1. Number of Contrast Markers\n",
    "def count_contrast_markers(text):\n",
    "    text = str(text)  # convert to string if not already\n",
    "    count = 0\n",
    "    for marker in constrast_markers:  # check if the marker is present in the text\n",
    "        if re.search(rf\"\\b{re.escape(marker)}\\b\", text, flags=re.IGNORECASE):\n",
    "            count += 1\n",
    "    return count\n",
    "\n",
    "# 2. Number of Emphatic Markers\n",
    "def count_emphatic_markers(text):\n",
    "    text = str(text)  \n",
    "    count = 0\n",
    "    for marker in emphatic_markers:\n",
    "        if re.search(rf\"\\b{re.escape(marker)}\\b\", text, flags=re.IGNORECASE):\n",
    "            count += 1\n",
    "    return count\n",
    "\n",
    "# 3. Number of Concessive Markers\n",
    "def count_concessive_markers(text):\n",
    "    text = str(text)  \n",
    "    count = 0\n",
    "    for marker in concessive_markers:\n",
    "        if re.search(rf\"\\b{re.escape(marker)}\\b\", text, flags=re.IGNORECASE):\n",
    "            count += 1\n",
    "    return count\n",
    "\n",
    "# 4. Number of Summary Markers\n",
    "def count_summary_markers(text):\n",
    "    text = str(text)  # Convert to string if not already\n",
    "    count = 0\n",
    "    for marker in summary_markers:\n",
    "        if re.search(rf\"\\b{re.escape(marker)}\\b\", text, flags=re.IGNORECASE):\n",
    "            count += 1\n",
    "    return count"
   ]
  },
  {
   "cell_type": "code",
   "execution_count": 62,
   "id": "4613cd75",
   "metadata": {
    "collapsed": true,
    "execution": {
     "iopub.execute_input": "2023-08-01T10:17:26.817814Z",
     "iopub.status.busy": "2023-08-01T10:17:26.817452Z",
     "iopub.status.idle": "2023-08-01T10:17:27.544056Z",
     "shell.execute_reply": "2023-08-01T10:17:27.543031Z"
    },
    "jupyter": {
     "outputs_hidden": true
    },
    "papermill": {
     "duration": 0.787493,
     "end_time": "2023-08-01T10:17:27.546487",
     "exception": false,
     "start_time": "2023-08-01T10:17:26.758994",
     "status": "completed"
    },
    "tags": []
   },
   "outputs": [],
   "source": [
    "# Call the functions on the df_sentiment\n",
    "df_sentiment.loc[:, \"Contrast Markers\"] = df_sentiment[\"sentence\"].apply(count_contrast_markers)\n",
    "df_sentiment.loc[:, \"Emphatic Markers\"] = df_sentiment[\"sentence\"].apply(count_emphatic_markers)\n",
    "df_sentiment.loc[:, \"Concessive Markers\"] = df_sentiment[\"sentence\"].apply(count_concessive_markers)\n",
    "df_sentiment.loc[:, \"Summary Markers\"] = df_sentiment[\"sentence\"].apply(count_summary_markers)"
   ]
  },
  {
   "cell_type": "code",
   "execution_count": 63,
   "id": "0b723b6a",
   "metadata": {
    "execution": {
     "iopub.execute_input": "2023-08-01T10:17:27.663253Z",
     "iopub.status.busy": "2023-08-01T10:17:27.662872Z",
     "iopub.status.idle": "2023-08-01T10:17:28.160456Z",
     "shell.execute_reply": "2023-08-01T10:17:28.159406Z"
    },
    "papermill": {
     "duration": 0.558381,
     "end_time": "2023-08-01T10:17:28.162963",
     "exception": false,
     "start_time": "2023-08-01T10:17:27.604582",
     "status": "completed"
    },
    "tags": []
   },
   "outputs": [],
   "source": [
    "# Call the functions on the df_emotions\n",
    "df_emotions.loc[:, \"Contrast Markers\"] = df_emotions[\"sentence\"].apply(count_contrast_markers)\n",
    "df_emotions.loc[:, \"Emphatic Markers\"] = df_emotions[\"sentence\"].apply(count_emphatic_markers)\n",
    "df_emotions.loc[:, \"Concessive Markers\"] = df_emotions[\"sentence\"].apply(count_concessive_markers)\n",
    "df_emotions.loc[:, \"Summary Markers\"] = df_emotions[\"sentence\"].apply(count_summary_markers)"
   ]
  },
  {
   "cell_type": "markdown",
   "id": "62d9328c",
   "metadata": {
    "papermill": {
     "duration": 0.057309,
     "end_time": "2023-08-01T10:17:28.277962",
     "exception": false,
     "start_time": "2023-08-01T10:17:28.220653",
     "status": "completed"
    },
    "tags": []
   },
   "source": [
    "### 3.5 Extraction of Morphological Features\n",
    "#### 3.5a. Verb Tenses\n",
    "- Present Tense\n",
    "- Past Tense\n",
    "- Future Tense\n",
    "- Infinitive Form\n",
    "\n",
    "#### 3.5b. Negation suffixes"
   ]
  },
  {
   "cell_type": "code",
   "execution_count": 64,
   "id": "bab641a5",
   "metadata": {
    "execution": {
     "iopub.execute_input": "2023-08-01T10:17:28.393973Z",
     "iopub.status.busy": "2023-08-01T10:17:28.393612Z",
     "iopub.status.idle": "2023-08-01T10:17:28.408217Z",
     "shell.execute_reply": "2023-08-01T10:17:28.407149Z"
    },
    "papermill": {
     "duration": 0.0748,
     "end_time": "2023-08-01T10:17:28.410283",
     "exception": false,
     "start_time": "2023-08-01T10:17:28.335483",
     "status": "completed"
    },
    "tags": []
   },
   "outputs": [],
   "source": [
    "# 1. Negative Words Count\n",
    "def count_negative_words(text):\n",
    "    if isinstance(text, str):  # Check if text is a string\n",
    "        prefix_pattern = re.compile(r'\\b(un|dis|non|in|im)\\w*\\b') # initiate regular expression for matching negative prefixes\n",
    "        suffix_pattern = re.compile(r'\\w*(less|void|lessness|n\\'t)\\b') # initiate regular expression for matching negative suffixes\n",
    "        count = 0\n",
    "        for word in text.split():\n",
    "            if prefix_pattern.search(word) or suffix_pattern.search(word):\n",
    "                count += 1\n",
    "        return count\n",
    "    else:\n",
    "        return 0\n",
    "\n",
    "    \n",
    "# 2. Count Verb Tenses\n",
    "def count_verbs(doc):   # initiate counters for present, past, future, and infinitive verbs\n",
    "    present_verbs = 0\n",
    "    past_verbs = 0\n",
    "    future_verbs = 0\n",
    "    infinitive_verbs = 0\n",
    "    \n",
    "    for token in doc:\n",
    "        if token.tag_.startswith('VB'): # Check if the token is a verb\n",
    "            if token.tag_ == 'VBZ' or token.tag_ == 'VBP':  # Present tense verbs\n",
    "                present_verbs += 1\n",
    "            elif token.tag_ == 'VBD':  # Past tense verbs\n",
    "                past_verbs += 1 \n",
    "            elif token.tag_ == 'VBG': # Gerund/present participle verbs\n",
    "                if 'will' in doc[token.i:token.i+5].text.lower():\n",
    "                    future_verbs += 1\n",
    "            elif token.tag_ == 'VBN':  # Past participle verbs\n",
    "                # check if \"will\" or \"shall\" appear within the next 5 tokens after the current token\n",
    "                if ('will' in doc[token.i:token.i+5].text.lower() or \n",
    "                    'shall' in doc[token.i:token.i+5].text.lower() or \n",
    "                    (token.tag_ == 'VBN' and 'have' in doc[token.i-3:token.i].text.lower() and \n",
    "                    ('will' in doc[token.i:token.i+5].text.lower() or 'shall' in doc[token.i:token.i+5].text.lower()) and \n",
    "                    'been' in doc[token.i:token.i+5].text.lower())):\n",
    "                    future_verbs += 1\n",
    "            elif token.tag_ == 'MD':  # Modal verbs \n",
    "                # counts as future verb if \"going\" or \"gonna\" appear within the next six tokens.\n",
    "                if ('going' in doc[token.i:token.i+6].text.lower() or \n",
    "                    'gonna' in doc[token.i:token.i+6].text.lower()):\n",
    "                    future_verbs += 1\n",
    "            elif token.tag_ == 'VB':  # Infinitive verbs\n",
    "                infinitive_verbs += 1\n",
    "    \n",
    "    return present_verbs, past_verbs, future_verbs, infinitive_verbs\n",
    "\n",
    "\n",
    "# 3. Check if a sentence has passive voice OR NOT\n",
    "def has_passive_voice(sentence):\n",
    "    doc = nlp(sentence)\n",
    "    for token in doc:\n",
    "        if token.dep_ == 'nsubjpass' and token.head.pos_ == 'VERB':\n",
    "            return 1\n",
    "    return 0"
   ]
  },
  {
   "cell_type": "code",
   "execution_count": 65,
   "id": "d704a60e",
   "metadata": {
    "collapsed": true,
    "execution": {
     "iopub.execute_input": "2023-08-01T10:17:28.528689Z",
     "iopub.status.busy": "2023-08-01T10:17:28.527731Z",
     "iopub.status.idle": "2023-08-01T10:20:29.683151Z",
     "shell.execute_reply": "2023-08-01T10:20:29.682044Z"
    },
    "jupyter": {
     "outputs_hidden": true
    },
    "papermill": {
     "duration": 181.218083,
     "end_time": "2023-08-01T10:20:29.685790",
     "exception": false,
     "start_time": "2023-08-01T10:17:28.467707",
     "status": "completed"
    },
    "tags": []
   },
   "outputs": [
    {
     "name": "stderr",
     "output_type": "stream",
     "text": [
      "/opt/conda/lib/python3.10/site-packages/torch/distributions/distribution.py:51: UserWarning: <class 'torch_struct.distributions.TreeCRF'> does not define `arg_constraints`. Please set `arg_constraints = {}` or initialize the distribution with `validate_args=False` to turn off validation.\n",
      "  warnings.warn(f'{self.__class__} does not define `arg_constraints`. ' +\n",
      "/opt/conda/lib/python3.10/site-packages/torch/distributions/distribution.py:51: UserWarning: <class 'torch_struct.distributions.TreeCRF'> does not define `arg_constraints`. Please set `arg_constraints = {}` or initialize the distribution with `validate_args=False` to turn off validation.\n",
      "  warnings.warn(f'{self.__class__} does not define `arg_constraints`. ' +\n"
     ]
    }
   ],
   "source": [
    "# Call function on df_sentiment\n",
    "df_sentiment['Negative Affixes'] = df_sentiment['sentence'].apply(count_negative_words)\n",
    "df_sentiment[['Present Verbs', 'Past Verbs', 'Future Verbs', 'Infinitive Verbs']] = df_sentiment['sentence'].apply(lambda x: pd.Series(count_verbs(nlp(x))))\n",
    "df_sentiment['has_passive_voice'] = df_sentiment['sentence'].apply(has_passive_voice)"
   ]
  },
  {
   "cell_type": "code",
   "execution_count": 66,
   "id": "d91524f0",
   "metadata": {
    "execution": {
     "iopub.execute_input": "2023-08-01T10:20:29.804081Z",
     "iopub.status.busy": "2023-08-01T10:20:29.803069Z",
     "iopub.status.idle": "2023-08-01T10:23:05.584133Z",
     "shell.execute_reply": "2023-08-01T10:23:05.582883Z"
    },
    "papermill": {
     "duration": 155.84264,
     "end_time": "2023-08-01T10:23:05.586733",
     "exception": false,
     "start_time": "2023-08-01T10:20:29.744093",
     "status": "completed"
    },
    "tags": []
   },
   "outputs": [
    {
     "name": "stderr",
     "output_type": "stream",
     "text": [
      "/opt/conda/lib/python3.10/site-packages/torch/distributions/distribution.py:51: UserWarning: <class 'torch_struct.distributions.TreeCRF'> does not define `arg_constraints`. Please set `arg_constraints = {}` or initialize the distribution with `validate_args=False` to turn off validation.\n",
      "  warnings.warn(f'{self.__class__} does not define `arg_constraints`. ' +\n",
      "/opt/conda/lib/python3.10/site-packages/torch/distributions/distribution.py:51: UserWarning: <class 'torch_struct.distributions.TreeCRF'> does not define `arg_constraints`. Please set `arg_constraints = {}` or initialize the distribution with `validate_args=False` to turn off validation.\n",
      "  warnings.warn(f'{self.__class__} does not define `arg_constraints`. ' +\n"
     ]
    }
   ],
   "source": [
    "# Call function on df_emotions\n",
    "df_emotions['Negative Affixes'] = df_emotions['sentence'].apply(count_negative_words)\n",
    "df_emotions[['Present Verbs', 'Past Verbs', 'Future Verbs', 'Infinitive Verbs']] = df_emotions['sentence'].apply(lambda x: pd.Series(count_verbs(nlp(x))))\n",
    "df_emotions['has_passive_voice'] = df_emotions['sentence'].apply(has_passive_voice)"
   ]
  },
  {
   "cell_type": "markdown",
   "id": "c617bf42",
   "metadata": {
    "papermill": {
     "duration": 0.064114,
     "end_time": "2023-08-01T10:23:05.708790",
     "exception": false,
     "start_time": "2023-08-01T10:23:05.644676",
     "status": "completed"
    },
    "tags": []
   },
   "source": [
    "### 3.6 Conceptual Features\n",
    "#### 3.6a. Polarity Scores\n",
    "- Positive Polarity\n",
    "- Negative Polarity\n",
    "\n",
    "\n",
    "#### 3.6b. Word word ambiguity per sentence\n",
    "#### 3.6c. Mean word concreteness per sentence"
   ]
  },
  {
   "cell_type": "code",
   "execution_count": 67,
   "id": "56b2f530",
   "metadata": {
    "execution": {
     "iopub.execute_input": "2023-08-01T10:23:05.825974Z",
     "iopub.status.busy": "2023-08-01T10:23:05.825059Z",
     "iopub.status.idle": "2023-08-01T10:23:14.311439Z",
     "shell.execute_reply": "2023-08-01T10:23:14.310367Z"
    },
    "papermill": {
     "duration": 8.547607,
     "end_time": "2023-08-01T10:23:14.313976",
     "exception": false,
     "start_time": "2023-08-01T10:23:05.766369",
     "status": "completed"
    },
    "tags": []
   },
   "outputs": [],
   "source": [
    "# Create a SentimentIntensityAnalyzer variable\n",
    "analyzer = SentimentIntensityAnalyzer()\n",
    "\n",
    "# Load the concreteness lexicon\n",
    "concreteness_lexicon = pd.read_excel('/kaggle/input/concreteness-ratins/Concreteness_ratings_Brysbaert_et_al_BRM.xlsx')\n",
    "\n",
    "# Compute Conceptual Features\n",
    "def conceptual_features(df, text_column):\n",
    "    # Create new columns to store the negative and positive polarity scores\n",
    "    df['negative_polarity'] = df[text_column].apply(lambda x: analyzer.polarity_scores(x)['neg'])\n",
    "    df['positive_polarity'] = df[text_column].apply(lambda x: analyzer.polarity_scores(x)['pos'])\n",
    "    \n",
    "    # 1. Ambiguity\n",
    "    def count_synsets(word):\n",
    "        return len(wn.synsets(word))\n",
    "    \n",
    "    # Apply function to each word in the sentence and calculate the mean\n",
    "    df['word_ambiguity'] = df[text_column].apply(lambda x: sum(count_synsets(word) for sublist in x.split() for word in sublist.split()) / len(x.split()))\n",
    "    \n",
    "    # 2. Mean Concreteness\n",
    "    def calculate_mean_concreteness(sentence):\n",
    "        words = [word for sublist in sentence.split() for word in sublist.split()] # split the sentence into words and create a list of individual words\n",
    "        concreteness_scores = concreteness_lexicon.loc[concreteness_lexicon['Word'].isin(words)]['Conc.M'] # get concreteness scores for words in the sentence from the concreteness lexicon\n",
    "        return concreteness_scores.mean()\n",
    "    \n",
    "    # Calculate the mean concreteness for each sentence\n",
    "    df['mean_concreteness'] = df[text_column].apply(calculate_mean_concreteness)\n",
    "    \n",
    "    return df"
   ]
  },
  {
   "cell_type": "code",
   "execution_count": 68,
   "id": "86c90e9a",
   "metadata": {
    "collapsed": true,
    "execution": {
     "iopub.execute_input": "2023-08-01T10:23:14.432110Z",
     "iopub.status.busy": "2023-08-01T10:23:14.429956Z",
     "iopub.status.idle": "2023-08-01T10:23:32.725231Z",
     "shell.execute_reply": "2023-08-01T10:23:32.724130Z"
    },
    "jupyter": {
     "outputs_hidden": true
    },
    "papermill": {
     "duration": 18.35618,
     "end_time": "2023-08-01T10:23:32.727968",
     "exception": false,
     "start_time": "2023-08-01T10:23:14.371788",
     "status": "completed"
    },
    "tags": []
   },
   "outputs": [],
   "source": [
    "# Call the function for df_sentiment and df_emotions\n",
    "df_sentiment = conceptual_features(df_sentiment, 'sentence')\n",
    "df_emotions = conceptual_features(df_emotions, 'sentence')"
   ]
  },
  {
   "cell_type": "code",
   "execution_count": 69,
   "id": "a28cacc7",
   "metadata": {
    "execution": {
     "iopub.execute_input": "2023-08-01T10:23:32.854231Z",
     "iopub.status.busy": "2023-08-01T10:23:32.853842Z",
     "iopub.status.idle": "2023-08-01T10:23:33.088296Z",
     "shell.execute_reply": "2023-08-01T10:23:33.087236Z"
    },
    "papermill": {
     "duration": 0.302819,
     "end_time": "2023-08-01T10:23:33.091223",
     "exception": false,
     "start_time": "2023-08-01T10:23:32.788404",
     "status": "completed"
    },
    "tags": []
   },
   "outputs": [],
   "source": [
    "# Extract feature datasets\n",
    "df_sentiment.to_csv('features_df_sentiment.csv', index=False)\n",
    "df_emotions.to_csv('features_df_emotions.csv', index=False)"
   ]
  },
  {
   "cell_type": "markdown",
   "id": "a2b266dd",
   "metadata": {
    "papermill": {
     "duration": 0.057394,
     "end_time": "2023-08-01T10:23:33.208473",
     "exception": false,
     "start_time": "2023-08-01T10:23:33.151079",
     "status": "completed"
    },
    "tags": []
   },
   "source": [
    "# PART 4: \n",
    "## Data Cleaning"
   ]
  },
  {
   "cell_type": "code",
   "execution_count": 70,
   "id": "f7171535",
   "metadata": {
    "execution": {
     "iopub.execute_input": "2023-08-01T10:23:33.331793Z",
     "iopub.status.busy": "2023-08-01T10:23:33.331426Z",
     "iopub.status.idle": "2023-08-01T10:23:36.115005Z",
     "shell.execute_reply": "2023-08-01T10:23:36.113980Z"
    },
    "papermill": {
     "duration": 2.850977,
     "end_time": "2023-08-01T10:23:36.117811",
     "exception": false,
     "start_time": "2023-08-01T10:23:33.266834",
     "status": "completed"
    },
    "tags": []
   },
   "outputs": [],
   "source": [
    "# Import necessary libraries for machine learning processes\n",
    "\n",
    "# data processing\n",
    "import numpy as np\n",
    "import pandas as pd\n",
    "\n",
    "#sklearn\n",
    "from sklearn.model_selection import KFold, cross_val_predict, cross_val_score, train_test_split, cross_validate\n",
    "from sklearn.metrics import confusion_matrix, f1_score, accuracy_score, make_scorer, r2_score,  precision_score, recall_score, classification_report\n",
    "from sklearn.linear_model import LogisticRegression, LinearRegression\n",
    "from sklearn.ensemble import RandomForestClassifier\n",
    "from sklearn.preprocessing import StandardScaler\n",
    "from sklearn.feature_selection import SelectKBest, f_regression\n",
    "from sklearn.feature_selection import VarianceThreshold\n",
    "from sklearn.feature_selection import SelectKBest, f_classif\n",
    "from sklearn.base import clone\n",
    "\n",
    "#tensors\n",
    "import tensorflow as tf\n",
    "from tensorflow import keras\n",
    "\n",
    "#visualizations\n",
    "import matplotlib.pyplot as plt\n",
    "import seaborn as sns\n",
    "\n",
    "#statistics\n",
    "from scipy.stats import zscore\n",
    "import statsmodels.api as sm\n",
    "\n",
    "#other\n",
    "from copy import deepcopy\n",
    "\n",
    "# shap\n",
    "import shap"
   ]
  },
  {
   "cell_type": "code",
   "execution_count": 71,
   "id": "76279aed",
   "metadata": {
    "execution": {
     "iopub.execute_input": "2023-08-01T10:23:36.236682Z",
     "iopub.status.busy": "2023-08-01T10:23:36.235605Z",
     "iopub.status.idle": "2023-08-01T10:23:36.352879Z",
     "shell.execute_reply": "2023-08-01T10:23:36.351778Z"
    },
    "papermill": {
     "duration": 0.179117,
     "end_time": "2023-08-01T10:23:36.355531",
     "exception": false,
     "start_time": "2023-08-01T10:23:36.176414",
     "status": "completed"
    },
    "tags": []
   },
   "outputs": [],
   "source": [
    "# Read the CSV files into pandas dfs\n",
    "sentiment_data = pd.read_csv('/kaggle/input/df-sentiment-features-final/df_sentiment_features_final.csv')\n",
    "emotion_data = pd.read_csv('/kaggle/input/df-emotion-features-final/df_emotions_features_final.csv')"
   ]
  },
  {
   "cell_type": "code",
   "execution_count": 72,
   "id": "e45a49dd",
   "metadata": {
    "execution": {
     "iopub.execute_input": "2023-08-01T10:23:36.474440Z",
     "iopub.status.busy": "2023-08-01T10:23:36.473571Z",
     "iopub.status.idle": "2023-08-01T10:23:36.481325Z",
     "shell.execute_reply": "2023-08-01T10:23:36.480272Z"
    },
    "papermill": {
     "duration": 0.069768,
     "end_time": "2023-08-01T10:23:36.483690",
     "exception": false,
     "start_time": "2023-08-01T10:23:36.413922",
     "status": "completed"
    },
    "tags": []
   },
   "outputs": [
    {
     "name": "stdout",
     "output_type": "stream",
     "text": [
      "Index(['sentence', 'Probability', 'Misprediction', 'token_count', 'type_count',\n",
      "       'LexDens', 'TTR', 'CTTR', 'GTTR', 'MTLD', 'VerbVar', 'NounVar',\n",
      "       'AdjVar', 'AdvVar', 'non_standard', 'profanity_words', 'tokenized_text',\n",
      "       'Articles', 'Prepositions', 'Conjunctions', 'Pronouns',\n",
      "       'Auxiliary Verbs', 'Modal Verbs', 'Determiners', 'Number of Phrases',\n",
      "       'NP Ratio', 'AdvP Ratio', 'AdjP Ratio', 'PrpP Ratio', 'VP Ratio',\n",
      "       'Complex Nominals', 'Subordinate Clauses', 'Relative Clauses',\n",
      "       'Number of Characters', 'Number of Words', 'Tree Depth', 'paren_count',\n",
      "       'nsubj', 'dobj', 'amod', 'Contrast Markers', 'Emphatic Markers',\n",
      "       'Concessive Markers', 'Summary Markers', 'Negative Affixes',\n",
      "       'Present Verbs', 'Past Verbs', 'Future Verbs', 'Infinitive Verbs',\n",
      "       'has_passive_voice', 'negative_polarity', 'positive_polarity',\n",
      "       'synsets', 'avg_synsets', 'mean_concreteness', 'Named Entity Count'],\n",
      "      dtype='object')\n"
     ]
    }
   ],
   "source": [
    "# Print the column names of sentiment_data\n",
    "print(sentiment_data.columns)"
   ]
  },
  {
   "cell_type": "markdown",
   "id": "65e17271",
   "metadata": {
    "papermill": {
     "duration": 0.060665,
     "end_time": "2023-08-01T10:23:36.603080",
     "exception": false,
     "start_time": "2023-08-01T10:23:36.542415",
     "status": "completed"
    },
    "tags": []
   },
   "source": [
    "### 4a. Data Standardization"
   ]
  },
  {
   "cell_type": "code",
   "execution_count": 73,
   "id": "c7607592",
   "metadata": {
    "execution": {
     "iopub.execute_input": "2023-08-01T10:23:36.723119Z",
     "iopub.status.busy": "2023-08-01T10:23:36.721971Z",
     "iopub.status.idle": "2023-08-01T10:23:36.753088Z",
     "shell.execute_reply": "2023-08-01T10:23:36.752124Z"
    },
    "papermill": {
     "duration": 0.0935,
     "end_time": "2023-08-01T10:23:36.755358",
     "exception": false,
     "start_time": "2023-08-01T10:23:36.661858",
     "status": "completed"
    },
    "tags": []
   },
   "outputs": [],
   "source": [
    "# Specify the columns to be standardized\n",
    "columns_to_standardize = ['LexDens', 'TTR', 'CTTR', 'GTTR', 'MTLD', 'VerbVar', 'NounVar',\n",
    "       'AdjVar', 'AdvVar', 'non_standard', 'profanity_words',\n",
    "       'Articles', 'Prepositions', 'Conjunctions', 'Pronouns',\n",
    "       'Auxiliary Verbs', 'Modal Verbs', 'Determiners', 'Number of Phrases',\n",
    "       'NP Ratio', 'AdvP Ratio', 'AdjP Ratio', 'PrpP Ratio', 'VP Ratio',\n",
    "       'Complex Nominals', 'Subordinate Clauses', 'Relative Clauses',\n",
    "       'Number of Characters', 'Number of Words', 'Tree Depth', 'paren_count',\n",
    "       'nsubj', 'dobj', 'amod', 'Contrast Markers', 'Emphatic Markers',\n",
    "       'Concessive Markers', 'Summary Markers', 'Negative Affixes',\n",
    "       'Present Verbs', 'Past Verbs', 'Future Verbs', 'Infinitive Verbs',\n",
    "       'has_passive_voice', 'negative_polarity', 'positive_polarity',\n",
    "       'avg_synsets', 'mean_concreteness', 'Named Entity Count']\n",
    "\n",
    "\n",
    "# Initialize the scaler\n",
    "scaler = StandardScaler()\n",
    "\n",
    "# Standardize the columns in sentiment_data and emotion_data\n",
    "sentiment_data[columns_to_standardize] = scaler.fit_transform(sentiment_data[columns_to_standardize])\n",
    "emotion_data[columns_to_standardize] = scaler.transform(emotion_data[columns_to_standardize])"
   ]
  },
  {
   "cell_type": "markdown",
   "id": "717594b3",
   "metadata": {
    "papermill": {
     "duration": 0.061726,
     "end_time": "2023-08-01T10:23:36.879153",
     "exception": false,
     "start_time": "2023-08-01T10:23:36.817427",
     "status": "completed"
    },
    "tags": []
   },
   "source": [
    "### 4b. Removing Outliers"
   ]
  },
  {
   "cell_type": "code",
   "execution_count": 74,
   "id": "02918ebc",
   "metadata": {
    "execution": {
     "iopub.execute_input": "2023-08-01T10:23:37.000049Z",
     "iopub.status.busy": "2023-08-01T10:23:36.999340Z",
     "iopub.status.idle": "2023-08-01T10:23:37.012133Z",
     "shell.execute_reply": "2023-08-01T10:23:37.011240Z"
    },
    "papermill": {
     "duration": 0.075236,
     "end_time": "2023-08-01T10:23:37.014299",
     "exception": false,
     "start_time": "2023-08-01T10:23:36.939063",
     "status": "completed"
    },
    "tags": []
   },
   "outputs": [],
   "source": [
    "# Remove outliers from sentiment_data using z-score method\n",
    "z_scores_sent = np.abs(zscore(sentiment_data[columns_to_standardize]))\n",
    "outlier_threshold = 3  # set the standard outlier_threshold\n",
    "outlier_mask_sent = (z_scores_sent > outlier_threshold).any(axis=1) # identify rows with at least one z-score greater than the specified outlier_threshold\n",
    "sentiment_data_no_outliers = sentiment_data[~outlier_mask_sent] #filter out the rows that are not outliers based on the calculated mask"
   ]
  },
  {
   "cell_type": "code",
   "execution_count": 75,
   "id": "643328b2",
   "metadata": {
    "execution": {
     "iopub.execute_input": "2023-08-01T10:23:37.134840Z",
     "iopub.status.busy": "2023-08-01T10:23:37.134292Z",
     "iopub.status.idle": "2023-08-01T10:23:37.147261Z",
     "shell.execute_reply": "2023-08-01T10:23:37.146250Z"
    },
    "papermill": {
     "duration": 0.076705,
     "end_time": "2023-08-01T10:23:37.149504",
     "exception": false,
     "start_time": "2023-08-01T10:23:37.072799",
     "status": "completed"
    },
    "tags": []
   },
   "outputs": [],
   "source": [
    "# Remove outliers from emotion_data using z-score method\n",
    "z_scores_em = np.abs(zscore(emotion_data[columns_to_standardize]))\n",
    "outlier_mask_em = (z_scores_em > outlier_threshold).any(axis=1)  # identify rows with at least one z-score greater than the specified outlier_threshold\n",
    "emotion_data_no_outliers = emotion_data[~outlier_mask_em]  #filter out the rows that are not outliers based on the calculated mask"
   ]
  },
  {
   "cell_type": "markdown",
   "id": "958ca7be",
   "metadata": {
    "papermill": {
     "duration": 0.058121,
     "end_time": "2023-08-01T10:23:37.270963",
     "exception": false,
     "start_time": "2023-08-01T10:23:37.212842",
     "status": "completed"
    },
    "tags": []
   },
   "source": [
    "### 4c. Drop Missing Values"
   ]
  },
  {
   "cell_type": "code",
   "execution_count": 76,
   "id": "fb3066f3",
   "metadata": {
    "execution": {
     "iopub.execute_input": "2023-08-01T10:23:37.393112Z",
     "iopub.status.busy": "2023-08-01T10:23:37.392751Z",
     "iopub.status.idle": "2023-08-01T10:23:37.403926Z",
     "shell.execute_reply": "2023-08-01T10:23:37.402962Z"
    },
    "papermill": {
     "duration": 0.077285,
     "end_time": "2023-08-01T10:23:37.406345",
     "exception": false,
     "start_time": "2023-08-01T10:23:37.329060",
     "status": "completed"
    },
    "tags": []
   },
   "outputs": [],
   "source": [
    "# Drop NA values\n",
    "data = sentiment_data_no_outliers .dropna()\n",
    "data_em = emotion_data.dropna()"
   ]
  },
  {
   "cell_type": "code",
   "execution_count": 77,
   "id": "37b9ecd2",
   "metadata": {
    "execution": {
     "iopub.execute_input": "2023-08-01T10:23:37.539648Z",
     "iopub.status.busy": "2023-08-01T10:23:37.538623Z",
     "iopub.status.idle": "2023-08-01T10:23:37.550658Z",
     "shell.execute_reply": "2023-08-01T10:23:37.549433Z"
    },
    "papermill": {
     "duration": 0.079221,
     "end_time": "2023-08-01T10:23:37.553247",
     "exception": false,
     "start_time": "2023-08-01T10:23:37.474026",
     "status": "completed"
    },
    "tags": []
   },
   "outputs": [
    {
     "name": "stdout",
     "output_type": "stream",
     "text": [
      "1.0    478\n",
      "0.0    475\n",
      "Name: Misprediction, dtype: int64\n"
     ]
    }
   ],
   "source": [
    "# Inspect label distribution for data_sentiment\n",
    "label_distribution_data = data['Misprediction'].value_counts()\n",
    "print(label_distribution_data)"
   ]
  },
  {
   "cell_type": "code",
   "execution_count": 78,
   "id": "5a35641e",
   "metadata": {
    "execution": {
     "iopub.execute_input": "2023-08-01T10:23:37.697523Z",
     "iopub.status.busy": "2023-08-01T10:23:37.695590Z",
     "iopub.status.idle": "2023-08-01T10:23:37.705633Z",
     "shell.execute_reply": "2023-08-01T10:23:37.704272Z"
    },
    "papermill": {
     "duration": 0.080808,
     "end_time": "2023-08-01T10:23:37.707853",
     "exception": false,
     "start_time": "2023-08-01T10:23:37.627045",
     "status": "completed"
    },
    "tags": []
   },
   "outputs": [
    {
     "name": "stdout",
     "output_type": "stream",
     "text": [
      "0    562\n",
      "1    558\n",
      "Name: Misprediction, dtype: int64\n"
     ]
    }
   ],
   "source": [
    "# Inspect label distribution for data_em\n",
    "label_distribution_data_em = data_em['Misprediction'].value_counts()\n",
    "print(label_distribution_data_em)"
   ]
  },
  {
   "cell_type": "markdown",
   "id": "ab643c98",
   "metadata": {
    "papermill": {
     "duration": 0.070799,
     "end_time": "2023-08-01T10:23:37.844661",
     "exception": false,
     "start_time": "2023-08-01T10:23:37.773862",
     "status": "completed"
    },
    "tags": []
   },
   "source": [
    "# PART 5: \n",
    "## TEXT CLASSIFICATION\n",
    "### 5.1a Logistic Regression & Random Forest (Sentiment Analysis)"
   ]
  },
  {
   "cell_type": "code",
   "execution_count": 79,
   "id": "470a26f4",
   "metadata": {
    "execution": {
     "iopub.execute_input": "2023-08-01T10:23:37.977545Z",
     "iopub.status.busy": "2023-08-01T10:23:37.977144Z",
     "iopub.status.idle": "2023-08-01T10:23:42.427358Z",
     "shell.execute_reply": "2023-08-01T10:23:42.426184Z"
    },
    "papermill": {
     "duration": 4.519668,
     "end_time": "2023-08-01T10:23:42.429806",
     "exception": false,
     "start_time": "2023-08-01T10:23:37.910138",
     "status": "completed"
    },
    "tags": []
   },
   "outputs": [
    {
     "data": {
      "text/html": [
       "<div>\n",
       "<style scoped>\n",
       "    .dataframe tbody tr th:only-of-type {\n",
       "        vertical-align: middle;\n",
       "    }\n",
       "\n",
       "    .dataframe tbody tr th {\n",
       "        vertical-align: top;\n",
       "    }\n",
       "\n",
       "    .dataframe thead th {\n",
       "        text-align: right;\n",
       "    }\n",
       "</style>\n",
       "<table border=\"1\" class=\"dataframe\">\n",
       "  <thead>\n",
       "    <tr style=\"text-align: right;\">\n",
       "      <th></th>\n",
       "      <th>Classifier</th>\n",
       "      <th>Accuracy</th>\n",
       "      <th>F1 Score</th>\n",
       "      <th>Precision</th>\n",
       "      <th>Recall</th>\n",
       "    </tr>\n",
       "  </thead>\n",
       "  <tbody>\n",
       "    <tr>\n",
       "      <th>0</th>\n",
       "      <td>Logistic Regression</td>\n",
       "      <td>0.748018</td>\n",
       "      <td>0.751113</td>\n",
       "      <td>0.757343</td>\n",
       "      <td>0.746154</td>\n",
       "    </tr>\n",
       "    <tr>\n",
       "      <th>1</th>\n",
       "      <td>Random Forest</td>\n",
       "      <td>0.776880</td>\n",
       "      <td>0.798210</td>\n",
       "      <td>0.745075</td>\n",
       "      <td>0.861538</td>\n",
       "    </tr>\n",
       "  </tbody>\n",
       "</table>\n",
       "</div>"
      ],
      "text/plain": [
       "            Classifier  Accuracy  F1 Score  Precision    Recall\n",
       "0  Logistic Regression  0.748018  0.751113   0.757343  0.746154\n",
       "1        Random Forest  0.776880  0.798210   0.745075  0.861538"
      ]
     },
     "execution_count": 79,
     "metadata": {},
     "output_type": "execute_result"
    }
   ],
   "source": [
    "# Split the data into features (X) and target (y)\n",
    "X_all = data[['LexDens', 'TTR', 'CTTR', 'GTTR', 'MTLD', 'VerbVar', 'NounVar',\n",
    "       'AdjVar', 'AdvVar', 'non_standard', 'profanity_words',\n",
    "       'Articles', 'Prepositions', 'Conjunctions', 'Pronouns',\n",
    "       'Auxiliary Verbs', 'Modal Verbs', 'Determiners', 'Number of Phrases',\n",
    "       'NP Ratio', 'AdvP Ratio', 'AdjP Ratio', 'PrpP Ratio', 'VP Ratio',\n",
    "       'Complex Nominals', 'Subordinate Clauses', 'Relative Clauses',\n",
    "       'Number of Characters', 'Number of Words', 'Tree Depth', 'paren_count',\n",
    "       'nsubj', 'dobj', 'amod', 'Contrast Markers', 'Emphatic Markers',\n",
    "       'Concessive Markers', 'Summary Markers', 'Negative Affixes',\n",
    "       'Present Verbs', 'Past Verbs', 'Future Verbs', 'Infinitive Verbs',\n",
    "       'has_passive_voice', 'negative_polarity', 'positive_polarity',\n",
    "        'avg_synsets', 'mean_concreteness', 'Named Entity Count']]\n",
    "y_all = data['Misprediction']\n",
    "\n",
    "# Split the data into training and testing sets\n",
    "X_all_train, X_all_test, y_all_train, y_all_test = train_test_split(X_all, y_all, test_size=0.2, random_state=42)\n",
    "\n",
    "# Initialize Classifiers\n",
    "model_complex_log = LogisticRegression(max_iter=10000) # Create a logistic regression classifier\n",
    "model_complex_rf = RandomForestClassifier() # Create a Random Forest classifier\n",
    "\n",
    "# Fit the models to the training data\n",
    "model_complex_log.fit(X_all_train, y_all_train) # Logistic regression\n",
    "model_complex_rf.fit(X_all_train, y_all_train) # Random Forest\n",
    "\n",
    "# Set up k-fold cross-validation for logistic regression\n",
    "k = 10  # Number of folds\n",
    "scoring = {'accuracy': make_scorer(accuracy_score), 'f1': make_scorer(f1_score),\n",
    "           'precision': make_scorer(precision_score), 'recall': make_scorer(recall_score)}\n",
    "cv_results_log = cross_validate(model_complex_log, X_all_train, y_all_train, cv=k, scoring=scoring)\n",
    "\n",
    "# Set up k-fold cross-validation for random forest\n",
    "cv_results_rf = cross_validate(model_complex_rf, X_all_train, y_all_train, cv=k, scoring=scoring)\n",
    "\n",
    "# Extract the accuracy, F1, precision, and recall scores from the cross-validation results for logistic regression\n",
    "cv_accuracy_scores_log = cv_results_log['test_accuracy']\n",
    "cv_f1_scores_log = cv_results_log['test_f1']\n",
    "cv_precision_scores_log = cv_results_log['test_precision']\n",
    "cv_recall_scores_log = cv_results_log['test_recall']\n",
    "\n",
    "# Extract the accuracy, F1, precision, and recall scores from the cross-validation results for random forest\n",
    "cv_accuracy_scores_rf = cv_results_rf['test_accuracy']\n",
    "cv_f1_scores_rf = cv_results_rf['test_f1']\n",
    "cv_precision_scores_rf = cv_results_rf['test_precision']\n",
    "cv_recall_scores_rf = cv_results_rf['test_recall']\n",
    "\n",
    "# Create a DataFrame to store the results\n",
    "baseline_results_df = pd.DataFrame({\n",
    "    'Classifier': ['Logistic Regression', 'Random Forest'],\n",
    "    'Accuracy': [np.mean(cv_accuracy_scores_log), np.mean(cv_accuracy_scores_rf)],\n",
    "    'F1 Score': [np.mean(cv_f1_scores_log), np.mean(cv_f1_scores_rf)],\n",
    "    'Precision': [np.mean(cv_precision_scores_log), np.mean(cv_precision_scores_rf)],\n",
    "    'Recall': [np.mean(cv_recall_scores_log), np.mean(cv_recall_scores_rf)]\n",
    "})\n",
    "\n",
    "baseline_results_df"
   ]
  },
  {
   "cell_type": "markdown",
   "id": "f3ef07c7",
   "metadata": {
    "papermill": {
     "duration": 0.057174,
     "end_time": "2023-08-01T10:23:42.545941",
     "exception": false,
     "start_time": "2023-08-01T10:23:42.488767",
     "status": "completed"
    },
    "tags": []
   },
   "source": [
    "### 5.1b Logistic Regression & Random Forest (Emotion Analysis)"
   ]
  },
  {
   "cell_type": "code",
   "execution_count": 80,
   "id": "74a9bc27",
   "metadata": {
    "execution": {
     "iopub.execute_input": "2023-08-01T10:23:42.664170Z",
     "iopub.status.busy": "2023-08-01T10:23:42.663130Z",
     "iopub.status.idle": "2023-08-01T10:23:47.370431Z",
     "shell.execute_reply": "2023-08-01T10:23:47.369375Z"
    },
    "papermill": {
     "duration": 4.76905,
     "end_time": "2023-08-01T10:23:47.372716",
     "exception": false,
     "start_time": "2023-08-01T10:23:42.603666",
     "status": "completed"
    },
    "tags": []
   },
   "outputs": [
    {
     "data": {
      "text/html": [
       "<div>\n",
       "<style scoped>\n",
       "    .dataframe tbody tr th:only-of-type {\n",
       "        vertical-align: middle;\n",
       "    }\n",
       "\n",
       "    .dataframe tbody tr th {\n",
       "        vertical-align: top;\n",
       "    }\n",
       "\n",
       "    .dataframe thead th {\n",
       "        text-align: right;\n",
       "    }\n",
       "</style>\n",
       "<table border=\"1\" class=\"dataframe\">\n",
       "  <thead>\n",
       "    <tr style=\"text-align: right;\">\n",
       "      <th></th>\n",
       "      <th>Classifier</th>\n",
       "      <th>Accuracy</th>\n",
       "      <th>F1 Score</th>\n",
       "      <th>Precision</th>\n",
       "      <th>Recall</th>\n",
       "    </tr>\n",
       "  </thead>\n",
       "  <tbody>\n",
       "    <tr>\n",
       "      <th>0</th>\n",
       "      <td>Logistic Regression</td>\n",
       "      <td>0.637141</td>\n",
       "      <td>0.618985</td>\n",
       "      <td>0.629829</td>\n",
       "      <td>0.613161</td>\n",
       "    </tr>\n",
       "    <tr>\n",
       "      <th>1</th>\n",
       "      <td>Random Forest</td>\n",
       "      <td>0.663870</td>\n",
       "      <td>0.657245</td>\n",
       "      <td>0.644757</td>\n",
       "      <td>0.673309</td>\n",
       "    </tr>\n",
       "  </tbody>\n",
       "</table>\n",
       "</div>"
      ],
      "text/plain": [
       "            Classifier  Accuracy  F1 Score  Precision    Recall\n",
       "0  Logistic Regression  0.637141  0.618985   0.629829  0.613161\n",
       "1        Random Forest  0.663870  0.657245   0.644757  0.673309"
      ]
     },
     "execution_count": 80,
     "metadata": {},
     "output_type": "execute_result"
    }
   ],
   "source": [
    "# Split the data into features (X) and target (y)\n",
    "X_all_em = data_em[['LexDens', 'TTR', 'CTTR', 'GTTR', 'MTLD', 'VerbVar', 'NounVar',\n",
    "       'AdjVar', 'AdvVar', 'non_standard', 'profanity_words',\n",
    "       'Articles', 'Prepositions', 'Conjunctions', 'Pronouns',\n",
    "       'Auxiliary Verbs', 'Modal Verbs', 'Determiners', 'Number of Phrases',\n",
    "       'NP Ratio', 'AdvP Ratio', 'AdjP Ratio', 'PrpP Ratio', 'VP Ratio',\n",
    "       'Complex Nominals', 'Subordinate Clauses', 'Relative Clauses',\n",
    "       'Number of Characters', 'Number of Words', 'Tree Depth', 'paren_count',\n",
    "        'Contrast Markers', 'Emphatic Markers', 'nsubj', 'dobj', 'amod',\n",
    "       'Concessive Markers', 'Summary Markers', 'Negative Affixes',\n",
    "       'Present Verbs', 'Past Verbs', 'Future Verbs', 'Infinitive Verbs',\n",
    "       'has_passive_voice', 'negative_polarity', 'positive_polarity',\n",
    "       'avg_synsets', 'mean_concreteness', 'Named Entity Count']]\n",
    "y_all_em = data_em['Misprediction']\n",
    "\n",
    "# Split the data into training and testing sets\n",
    "X_all_train_em, X_all_test_em, y_all_train_em, y_all_test_em = train_test_split(X_all_em, y_all_em, test_size=0.2, random_state=42)\n",
    "\n",
    "# Initialize Classifiers\n",
    "model_complex_log_em = LogisticRegression(max_iter=10000) # Create a logistic regression classifier\n",
    "model_complex_rf_em = RandomForestClassifier() # Create a Random Forest classifier\n",
    "\n",
    "# Fit the models to the training data\n",
    "model_complex_log_em.fit(X_all_train_em, y_all_train_em) # Logistic regression\n",
    "model_complex_rf_em.fit(X_all_train_em, y_all_train_em) # Random Forest\n",
    "\n",
    "# Set up k-fold cross-validation for logistic regression\n",
    "k = 10  # Number of folds\n",
    "scoring = {'accuracy': make_scorer(accuracy_score), 'f1': make_scorer(f1_score),\n",
    "           'precision': make_scorer(precision_score), 'recall': make_scorer(recall_score)}\n",
    "cv_results_log_em = cross_validate(model_complex_log_em, X_all_train_em, y_all_train_em, cv=k, scoring=scoring)\n",
    "\n",
    "# Set up k-fold cross-validation for random forest\n",
    "cv_results_rf_em = cross_validate(model_complex_rf_em, X_all_train_em, y_all_train_em, cv=k, scoring=scoring)\n",
    "\n",
    "# Extract evaluation metrics for Logistic Regression\n",
    "cv_accuracy_scores_log_em = cv_results_log_em['test_accuracy']\n",
    "cv_f1_scores_log_em = cv_results_log_em['test_f1']\n",
    "cv_precision_scores_log_em = cv_results_log_em['test_precision']\n",
    "cv_recall_scores_log_em = cv_results_log_em['test_recall']\n",
    "\n",
    "# Extract evaluation metrics for Random Forest\n",
    "cv_accuracy_scores_rf_em = cv_results_rf_em['test_accuracy']\n",
    "cv_f1_scores_rf_em = cv_results_rf_em['test_f1']\n",
    "cv_precision_scores_rf_em = cv_results_rf_em['test_precision']\n",
    "cv_recall_scores_rf_em = cv_results_rf_em['test_recall']\n",
    "\n",
    "# Store the results in a new dataframe\n",
    "baseline_results_df_em = pd.DataFrame({\n",
    "    'Classifier': ['Logistic Regression', 'Random Forest'],\n",
    "    'Accuracy': [np.mean(cv_accuracy_scores_log_em), np.mean(cv_accuracy_scores_rf_em)],\n",
    "    'F1 Score': [np.mean(cv_f1_scores_log_em), np.mean(cv_f1_scores_rf_em)],\n",
    "    'Precision': [np.mean(cv_precision_scores_log_em), np.mean(cv_precision_scores_rf_em)],\n",
    "    'Recall': [np.mean(cv_recall_scores_log_em), np.mean(cv_recall_scores_rf_em)]\n",
    "})\n",
    "\n",
    "baseline_results_df_em"
   ]
  },
  {
   "cell_type": "markdown",
   "id": "7b2cbf0c",
   "metadata": {
    "papermill": {
     "duration": 0.057222,
     "end_time": "2023-08-01T10:23:47.490526",
     "exception": false,
     "start_time": "2023-08-01T10:23:47.433304",
     "status": "completed"
    },
    "tags": []
   },
   "source": [
    "### 5.2a MLP Neural Network (Sentiment Analysis)"
   ]
  },
  {
   "cell_type": "code",
   "execution_count": 81,
   "id": "cbff9211",
   "metadata": {
    "execution": {
     "iopub.execute_input": "2023-08-01T10:23:47.607736Z",
     "iopub.status.busy": "2023-08-01T10:23:47.607342Z",
     "iopub.status.idle": "2023-08-01T10:23:52.398885Z",
     "shell.execute_reply": "2023-08-01T10:23:52.397886Z"
    },
    "papermill": {
     "duration": 4.852507,
     "end_time": "2023-08-01T10:23:52.400961",
     "exception": false,
     "start_time": "2023-08-01T10:23:47.548454",
     "status": "completed"
    },
    "tags": []
   },
   "outputs": [
    {
     "name": "stdout",
     "output_type": "stream",
     "text": [
      "Epoch 1/20\n",
      "20/20 [==============================] - 3s 18ms/step - loss: 0.5992 - accuracy: 0.6683 - val_loss: 0.5860 - val_accuracy: 0.7451\n",
      "Epoch 2/20\n",
      "20/20 [==============================] - 0s 6ms/step - loss: 0.4681 - accuracy: 0.7898 - val_loss: 0.5992 - val_accuracy: 0.7255\n",
      "Epoch 3/20\n",
      "20/20 [==============================] - 0s 5ms/step - loss: 0.4280 - accuracy: 0.8128 - val_loss: 0.6425 - val_accuracy: 0.6797\n",
      "Epoch 4/20\n",
      "20/20 [==============================] - 0s 6ms/step - loss: 0.3841 - accuracy: 0.8424 - val_loss: 0.5745 - val_accuracy: 0.7386\n",
      "Epoch 5/20\n",
      "20/20 [==============================] - 0s 6ms/step - loss: 0.3477 - accuracy: 0.8670 - val_loss: 0.5803 - val_accuracy: 0.7320\n",
      "Epoch 6/20\n",
      "20/20 [==============================] - 0s 6ms/step - loss: 0.3326 - accuracy: 0.8571 - val_loss: 0.6090 - val_accuracy: 0.7059\n",
      "Epoch 7/20\n",
      "20/20 [==============================] - 0s 6ms/step - loss: 0.2938 - accuracy: 0.8900 - val_loss: 0.5874 - val_accuracy: 0.7255\n",
      "6/6 [==============================] - 0s 3ms/step - loss: 0.5869 - accuracy: 0.7435\n",
      "Test Loss: 0.5868772864341736, Test Accuracy: 0.7434554696083069\n"
     ]
    }
   ],
   "source": [
    "# Define the neural network architecture\n",
    "model_complex = keras.Sequential([\n",
    "    keras.layers.Dense(256, activation='relu', input_shape=(len(X_all.columns),)),\n",
    "    keras.layers.Dense(128, activation='relu'),\n",
    "    keras.layers.Dense(2, activation='softmax')\n",
    "])\n",
    "\n",
    "# Compile the model\n",
    "model_complex.compile(optimizer='adam', loss='sparse_categorical_crossentropy', metrics=['accuracy'])\n",
    "\n",
    "# Train the model with early stopping\n",
    "early_stopping = tf.keras.callbacks.EarlyStopping(monitor='val_loss', patience=3, restore_best_weights=True)\n",
    "model_complex.fit(X_all_train, y_all_train, epochs=20, batch_size=32, validation_split=0.2, callbacks=[early_stopping])\n",
    "\n",
    "# Evaluate the model on the test set\n",
    "test_loss, test_accuracy = model_complex.evaluate(X_all_test, y_all_test)\n",
    "print(f'Test Loss: {test_loss}, Test Accuracy: {test_accuracy}')"
   ]
  },
  {
   "cell_type": "code",
   "execution_count": 82,
   "id": "ec6c5978",
   "metadata": {
    "execution": {
     "iopub.execute_input": "2023-08-01T10:23:52.525678Z",
     "iopub.status.busy": "2023-08-01T10:23:52.525307Z",
     "iopub.status.idle": "2023-08-01T10:23:52.724776Z",
     "shell.execute_reply": "2023-08-01T10:23:52.723653Z"
    },
    "papermill": {
     "duration": 0.264282,
     "end_time": "2023-08-01T10:23:52.727575",
     "exception": false,
     "start_time": "2023-08-01T10:23:52.463293",
     "status": "completed"
    },
    "tags": []
   },
   "outputs": [
    {
     "name": "stdout",
     "output_type": "stream",
     "text": [
      "6/6 [==============================] - 0s 2ms/step\n"
     ]
    }
   ],
   "source": [
    "# Calculate the evaluation metrics for the neural network - sentiment analysis\n",
    "y_pred_nn_prob = model_complex.predict(X_all_test)\n",
    "y_pred_nn = np.argmax(y_pred_nn_prob, axis=1)\n",
    "f1_score_nn = f1_score(y_all_test, y_pred_nn)\n",
    "precision_nn = precision_score(y_all_test, y_pred_nn)\n",
    "recall_nn = recall_score(y_all_test, y_pred_nn)"
   ]
  },
  {
   "cell_type": "markdown",
   "id": "8167b980",
   "metadata": {
    "papermill": {
     "duration": 0.0622,
     "end_time": "2023-08-01T10:23:52.850753",
     "exception": false,
     "start_time": "2023-08-01T10:23:52.788553",
     "status": "completed"
    },
    "tags": []
   },
   "source": [
    "### 5.2b MLP Neural Network (Emotion Analysis)"
   ]
  },
  {
   "cell_type": "code",
   "execution_count": 83,
   "id": "4a16630c",
   "metadata": {
    "execution": {
     "iopub.execute_input": "2023-08-01T10:23:52.977832Z",
     "iopub.status.busy": "2023-08-01T10:23:52.977464Z",
     "iopub.status.idle": "2023-08-01T10:23:56.334804Z",
     "shell.execute_reply": "2023-08-01T10:23:56.333561Z"
    },
    "papermill": {
     "duration": 3.421878,
     "end_time": "2023-08-01T10:23:56.337023",
     "exception": false,
     "start_time": "2023-08-01T10:23:52.915145",
     "status": "completed"
    },
    "tags": []
   },
   "outputs": [
    {
     "name": "stdout",
     "output_type": "stream",
     "text": [
      "Epoch 1/20\n",
      "23/23 [==============================] - 1s 13ms/step - loss: 0.6613 - accuracy: 0.6173 - val_loss: 0.6801 - val_accuracy: 0.5722\n",
      "Epoch 2/20\n",
      "23/23 [==============================] - 0s 6ms/step - loss: 0.5825 - accuracy: 0.7053 - val_loss: 0.7118 - val_accuracy: 0.5778\n",
      "Epoch 3/20\n",
      "23/23 [==============================] - 0s 5ms/step - loss: 0.5289 - accuracy: 0.7514 - val_loss: 0.6860 - val_accuracy: 0.5833\n",
      "Epoch 4/20\n",
      "23/23 [==============================] - 0s 5ms/step - loss: 0.5013 - accuracy: 0.7640 - val_loss: 0.7046 - val_accuracy: 0.6111\n",
      "7/7 [==============================] - 0s 3ms/step - loss: 0.7099 - accuracy: 0.5804\n",
      "Test Loss: 0.7098599076271057, Test Accuracy: 0.5803571343421936\n"
     ]
    }
   ],
   "source": [
    "# Define the neural network architecture\n",
    "model_complex_em = keras.Sequential([\n",
    "    keras.layers.Dense(256, activation='relu', input_shape=(len(X_all_em.columns),)),\n",
    "    keras.layers.Dense(128, activation='relu'),\n",
    "    keras.layers.Dense(2, activation='softmax')\n",
    "])\n",
    "\n",
    "# Compile the model\n",
    "model_complex_em.compile(optimizer='adam', loss='sparse_categorical_crossentropy', metrics=['accuracy'])\n",
    "\n",
    "# Train the model with early stopping\n",
    "early_stopping = tf.keras.callbacks.EarlyStopping(monitor='val_loss', patience=3, restore_best_weights=True)\n",
    "model_complex_em.fit(X_all_train_em, y_all_train_em, epochs=20, batch_size=32, validation_split=0.2, callbacks=[early_stopping])\n",
    "\n",
    "# Evaluate the model on the test set\n",
    "test_loss, test_accuracy = model_complex_em.evaluate(X_all_test_em, y_all_test_em)\n",
    "print(f'Test Loss: {test_loss}, Test Accuracy: {test_accuracy}')"
   ]
  },
  {
   "cell_type": "code",
   "execution_count": 84,
   "id": "932300ce",
   "metadata": {
    "execution": {
     "iopub.execute_input": "2023-08-01T10:23:56.462377Z",
     "iopub.status.busy": "2023-08-01T10:23:56.462005Z",
     "iopub.status.idle": "2023-08-01T10:23:56.639714Z",
     "shell.execute_reply": "2023-08-01T10:23:56.638706Z"
    },
    "papermill": {
     "duration": 0.243425,
     "end_time": "2023-08-01T10:23:56.642183",
     "exception": false,
     "start_time": "2023-08-01T10:23:56.398758",
     "status": "completed"
    },
    "tags": []
   },
   "outputs": [
    {
     "name": "stdout",
     "output_type": "stream",
     "text": [
      "7/7 [==============================] - 0s 2ms/step\n"
     ]
    }
   ],
   "source": [
    "# Calculate the evaluation metrics for the neural network - emotion analysis\n",
    "y_pred_nn_prob_em = model_complex_em.predict(X_all_test_em)\n",
    "y_pred_nn_em = np.argmax(y_pred_nn_prob_em, axis=1)\n",
    "f1_score_nn_em = f1_score(y_all_test_em, y_pred_nn_em)\n",
    "precision_nn_em = precision_score(y_all_test_em, y_pred_nn_em)\n",
    "recall_nn_em = recall_score(y_all_test_em, y_pred_nn_em)"
   ]
  },
  {
   "cell_type": "markdown",
   "id": "05294fa1",
   "metadata": {
    "papermill": {
     "duration": 0.062254,
     "end_time": "2023-08-01T10:23:56.769157",
     "exception": false,
     "start_time": "2023-08-01T10:23:56.706903",
     "status": "completed"
    },
    "tags": []
   },
   "source": [
    "### 5.3 Visualization of Evaluation Metrics"
   ]
  },
  {
   "cell_type": "code",
   "execution_count": 85,
   "id": "345105c7",
   "metadata": {
    "execution": {
     "iopub.execute_input": "2023-08-01T10:23:56.962755Z",
     "iopub.status.busy": "2023-08-01T10:23:56.962377Z",
     "iopub.status.idle": "2023-08-01T10:23:56.981644Z",
     "shell.execute_reply": "2023-08-01T10:23:56.980366Z"
    },
    "papermill": {
     "duration": 0.088969,
     "end_time": "2023-08-01T10:23:56.982975",
     "exception": true,
     "start_time": "2023-08-01T10:23:56.894006",
     "status": "failed"
    },
    "tags": []
   },
   "outputs": [
    {
     "data": {
      "text/html": [
       "<pre style=\"white-space:pre;overflow-x:auto;line-height:normal;font-family:Menlo,'DejaVu Sans Mono',consolas,'Courier New',monospace\"><span style=\"color: #ff0000; text-decoration-color: #ff0000\">╭──────────────────────────────────────────────────────────────────────────────────────────────────╮</span>\n",
       "<span style=\"color: #ff0000; text-decoration-color: #ff0000\">│</span>     bar_width = <span style=\"color: #0000ff; text-decoration-color: #0000ff\">0.25</span>-*<span style=\"color: #800080; text-decoration-color: #800080\">//</span>                                                                         <span style=\"color: #ff0000; text-decoration-color: #ff0000\">│</span>\n",
       "<span style=\"color: #ff0000; text-decoration-color: #ff0000\">│</span>                      <span style=\"color: #ff0000; text-decoration-color: #ff0000; font-weight: bold\">▲</span>                                                                           <span style=\"color: #ff0000; text-decoration-color: #ff0000\">│</span>\n",
       "<span style=\"color: #ff0000; text-decoration-color: #ff0000\">╰──────────────────────────────────────────────────────────────────────────────────────────────────╯</span>\n",
       "<span style=\"color: #ff0000; text-decoration-color: #ff0000; font-weight: bold\">SyntaxError: </span>invalid syntax\n",
       "</pre>\n"
      ],
      "text/plain": [
       "\u001b[91m╭──────────────────────────────────────────────────────────────────────────────────────────────────╮\u001b[0m\n",
       "\u001b[91m│\u001b[0m     bar_width = \u001b[94m0.25\u001b[0m-*\u001b[35m/\u001b[0m\u001b[35m/\u001b[0m                                                                         \u001b[91m│\u001b[0m\n",
       "\u001b[91m│\u001b[0m                      \u001b[1;91m▲\u001b[0m                                                                           \u001b[91m│\u001b[0m\n",
       "\u001b[91m╰──────────────────────────────────────────────────────────────────────────────────────────────────╯\u001b[0m\n",
       "\u001b[1;91mSyntaxError: \u001b[0minvalid syntax\n"
      ]
     },
     "metadata": {},
     "output_type": "display_data"
    }
   ],
   "source": [
    "# Create function to visualize the evaluation metrics in a bar plot\n",
    "def plot_classification_results(quantities, model_scores, model_names, title):\n",
    "    # Set the width of the bars\n",
    "    bar_width = 0.25-*//\n",
    "    # Set the positions of the bars on the x-axis\n",
    "    index = np.arange(len(quantities))\n",
    "\n",
    "    # Create the bar plot\n",
    "    for i, scores in enumerate(model_scores):\n",
    "        plt.bar(index + i * bar_width, scores, bar_width, label=model_names[i], linewidth=0.20)\n",
    "\n",
    "    # Add labels and title\n",
    "    plt.xlabel('Evaluation Parameters')\n",
    "    plt.ylabel('Score')\n",
    "    plt.title(title)\n",
    "    plt.xticks(index + bar_width * (len(model_scores) - 1) / 2, quantities)\n",
    "    plt.legend()\n",
    "\n",
    "    # Show the plot\n",
    "    plt.show()\n",
    "\n",
    "# Sentiment Analysis Results\n",
    "quantities_sentiment = ['F1 Score', 'Precision', 'Recall']\n",
    "logistic_regression_scores_sentiment = [np.mean(cv_f1_scores_log), np.mean(cv_precision_scores_log), np.mean(cv_recall_scores_log)]\n",
    "random_forest_scores_sentiment = [np.mean(cv_f1_scores_rf), np.mean(cv_precision_scores_rf), np.mean(cv_recall_scores_rf)]\n",
    "neural_network_scores_sentiment = [f1_score_nn, precision_nn, recall_nn]\n",
    "\n",
    "model_scores_sentiment = [logistic_regression_scores_sentiment, random_forest_scores_sentiment, neural_network_scores_sentiment]\n",
    "model_names_sentiment = ['Logistic Regression', 'Random Forest', 'Neural Network']\n",
    "\n",
    "# Emotion Analysis Results\n",
    "quantities_emotion = ['F1 Score', 'Precision', 'Recall']\n",
    "logistic_regression_scores_emotion = [np.mean(cv_f1_scores_log_em), np.mean(cv_precision_scores_log_em), np.mean(cv_recall_scores_log_em)]\n",
    "random_forest_scores_emotion = [np.mean(cv_f1_scores_rf_em), np.mean(cv_precision_scores_rf_em), np.mean(cv_recall_scores_rf_em)]\n",
    "neural_network_scores_emotion = [f1_score_nn_em, precision_nn_em, recall_nn_em]\n",
    "\n",
    "model_scores_emotion = [logistic_regression_scores_emotion, random_forest_scores_emotion, neural_network_scores_emotion]\n",
    "model_names_emotion = ['Logistic Regression', 'Random Forest', 'Neural Network']\n",
    "\n",
    "# Create the bar plot for Sentiment Analysis Results\n",
    "plot_classification_results(quantities_sentiment, model_scores_sentiment, model_names_sentiment, 'Classification Results for Model with all Features (Sentiment Analysis)')\n",
    "\n",
    "# Create the bar plot for Emotion Analysis Results\n",
    "plot_classification_results(quantities_emotion, model_scores_emotion, model_names_emotion, 'Classification Results for Model with all Features (Emotion Analysis)')"
   ]
  },
  {
   "cell_type": "markdown",
   "id": "e6b1f833",
   "metadata": {
    "papermill": {
     "duration": null,
     "end_time": null,
     "exception": null,
     "start_time": null,
     "status": "pending"
    },
    "tags": []
   },
   "source": [
    "# PART 6: \n",
    "## FEATURE SELECTION TECHNIQUES\n",
    "###  A. Variance Threshold\n",
    "#### A1.1) Logistic Regression and Random Forest (Sentiment Analysis)"
   ]
  },
  {
   "cell_type": "code",
   "execution_count": null,
   "id": "be6a6792",
   "metadata": {
    "execution": {
     "iopub.execute_input": "2023-07-31T12:27:04.667827Z",
     "iopub.status.busy": "2023-07-31T12:27:04.666856Z",
     "iopub.status.idle": "2023-07-31T12:27:08.946506Z",
     "shell.execute_reply": "2023-07-31T12:27:08.945484Z",
     "shell.execute_reply.started": "2023-07-31T12:27:04.667785Z"
    },
    "papermill": {
     "duration": null,
     "end_time": null,
     "exception": null,
     "start_time": null,
     "status": "pending"
    },
    "tags": []
   },
   "outputs": [],
   "source": [
    "# Apply variance threshold to select features\n",
    "var_threshold = VarianceThreshold(threshold=0.2)\n",
    "X_all_selected = var_threshold.fit_transform(X_all)\n",
    "\n",
    "# Get the selected features\n",
    "selected_features = np.array(X_all.columns)[var_threshold.get_support()]\n",
    "\n",
    "# Split the data into training and testing sets\n",
    "X_all_train, X_all_test, y_all_train, y_all_test = train_test_split(X_all_selected, y_all, test_size=0.2, random_state=42)\n",
    "\n",
    "# Rest of the code remains unchanged\n",
    "\n",
    "# Initialize Classifiers\n",
    "model_var_log = LogisticRegression(max_iter=10000)\n",
    "model_var_rf = RandomForestClassifier()\n",
    "\n",
    "# Fit the models to the training data\n",
    "model_var_log.fit(X_all_train, y_all_train)\n",
    "model_var_rf.fit(X_all_train, y_all_train)\n",
    "\n",
    "# Set up k-fold cross-validation for logistic regression\n",
    "k = 10  # Number of folds\n",
    "scoring = {'accuracy': make_scorer(accuracy_score), 'f1': make_scorer(f1_score),\n",
    "           'precision': make_scorer(precision_score), 'recall': make_scorer(recall_score)}\n",
    "cv_results_var = cross_validate(model_var_log, X_all_train, y_all_train, cv=k, scoring=scoring)\n",
    "\n",
    "# Set up k-fold cross-validation for random forest\n",
    "cv_results_rf_var = cross_validate(model_var_rf, X_all_train, y_all_train, cv=k, scoring=scoring)\n",
    "\n",
    "# Extract the evaluation metrics for logistic regression\n",
    "cv_accuracy_scores_log_var = cv_results_var['test_accuracy']\n",
    "cv_f1_scores_log_var = cv_results_var['test_f1']\n",
    "cv_precision_scores_log_var = cv_results_var['test_precision']\n",
    "cv_recall_scores_log_var = cv_results_var['test_recall']\n",
    "\n",
    "# Extract the evaluation metrics for random forest\n",
    "cv_accuracy_scores_rf_var = cv_results_rf_var['test_accuracy']\n",
    "cv_f1_scores_rf_var = cv_results_rf_var['test_f1']\n",
    "cv_precision_scores_rf_var = cv_results_rf_var['test_precision']\n",
    "cv_recall_scores_rf_var = cv_results_rf_var['test_recall']\n",
    "\n",
    "# Store the results in a new dataset\n",
    "var_results_df = pd.DataFrame({\n",
    "    'Classifier': ['Logistic Regression', 'Random Forest'],\n",
    "    'Accuracy': [np.mean(cv_accuracy_scores_log_var), np.mean(cv_accuracy_scores_rf_var)],\n",
    "    'F1 Score': [np.mean(cv_f1_scores_log_var), np.mean(cv_f1_scores_rf_var)],\n",
    "    'Precision': [np.mean(cv_precision_scores_log_var), np.mean(cv_precision_scores_rf_var)],\n",
    "    'Recall': [np.mean(cv_recall_scores_log_var), np.mean(cv_recall_scores_rf_var)]\n",
    "})\n",
    "\n",
    "# Print the selected features\n",
    "print(\"Selected Features:\")\n",
    "print(selected_features)\n",
    "\n",
    "# Display the results \n",
    "var_results_df"
   ]
  },
  {
   "cell_type": "markdown",
   "id": "f8221706",
   "metadata": {
    "papermill": {
     "duration": null,
     "end_time": null,
     "exception": null,
     "start_time": null,
     "status": "pending"
    },
    "tags": []
   },
   "source": [
    "#### A1.2) Logistic Regression and Random Forest (Emotion Analysis)"
   ]
  },
  {
   "cell_type": "code",
   "execution_count": null,
   "id": "c80f58af",
   "metadata": {
    "execution": {
     "iopub.execute_input": "2023-07-31T12:27:11.537249Z",
     "iopub.status.busy": "2023-07-31T12:27:11.536895Z",
     "iopub.status.idle": "2023-07-31T12:27:15.918539Z",
     "shell.execute_reply": "2023-07-31T12:27:15.916360Z",
     "shell.execute_reply.started": "2023-07-31T12:27:11.537219Z"
    },
    "papermill": {
     "duration": null,
     "end_time": null,
     "exception": null,
     "start_time": null,
     "status": "pending"
    },
    "tags": []
   },
   "outputs": [],
   "source": [
    "# Apply variance threshold to select features\n",
    "var_threshold_em = VarianceThreshold(threshold=0.01)\n",
    "X_all_selected_em = var_threshold_em.fit_transform(X_all_em)\n",
    "\n",
    "# Get the selected features\n",
    "selected_features_em = np.array(X_all_em.columns)[var_threshold_em.get_support()]\n",
    "\n",
    "# Split the data into training and testing sets\n",
    "X_all_train_em, X_all_test_em, y_all_train_em, y_all_test_em = train_test_split(X_all_selected_em, y_all_em, test_size=0.2, random_state=42)\n",
    "\n",
    "# Rest of the code remains unchanged\n",
    "\n",
    "# Initialize Classifiers\n",
    "model_var_log_em = LogisticRegression(max_iter=10000)\n",
    "model_var_rf_em = RandomForestClassifier()\n",
    "\n",
    "# Fit the models to the training data\n",
    "model_var_log_em.fit(X_all_train_em, y_all_train_em)\n",
    "model_var_rf_em.fit(X_all_train_em, y_all_train_em)\n",
    "\n",
    "# Set up k-fold cross-validation for logistic regression\n",
    "k_em = 10  # Number of folds\n",
    "scoring_em = {'accuracy': make_scorer(accuracy_score), 'f1': make_scorer(f1_score),\n",
    "           'precision': make_scorer(precision_score), 'recall': make_scorer(recall_score)}\n",
    "cv_results_var_em = cross_validate(model_var_log_em, X_all_train_em, y_all_train_em, cv=k_em, scoring=scoring_em)\n",
    "\n",
    "# Set up k-fold cross-validation for random forest\n",
    "cv_results_rf_var_em = cross_validate(model_var_rf_em, X_all_train_em, y_all_train_em, cv=k_em, scoring=scoring_em)\n",
    "\n",
    "# Extract the evaluation metrics for logistic regression\n",
    "cv_accuracy_scores_log_var_em = cv_results_var_em['test_accuracy']\n",
    "cv_f1_scores_log_var_em = cv_results_var_em['test_f1']\n",
    "cv_precision_scores_log_var_em = cv_results_var_em['test_precision']\n",
    "cv_recall_scores_log_var_em = cv_results_var_em['test_recall']\n",
    "\n",
    "# Extract the evaluation metrics for random forest\n",
    "cv_accuracy_scores_rf_var_em = cv_results_rf_var_em['test_accuracy']\n",
    "cv_f1_scores_rf_var_em = cv_results_rf_var_em['test_f1']\n",
    "cv_precision_scores_rf_var_em = cv_results_rf_var_em['test_precision']\n",
    "cv_recall_scores_rf_var_em = cv_results_rf_var_em['test_recall']\n",
    "\n",
    "# Store the results in a new dataset\n",
    "var_results_df_em = pd.DataFrame({\n",
    "    'Classifier': ['Logistic Regression', 'Random Forest'],\n",
    "    'Accuracy': [np.mean(cv_accuracy_scores_log_var_em), np.mean(cv_accuracy_scores_rf_var_em)],\n",
    "    'F1 Score': [np.mean(cv_f1_scores_log_var_em), np.mean(cv_f1_scores_rf_var_em)],\n",
    "    'Precision': [np.mean(cv_precision_scores_log_var_em), np.mean(cv_precision_scores_rf_var_em)],\n",
    "    'Recall': [np.mean(cv_recall_scores_log_var_em), np.mean(cv_recall_scores_rf_var_em)]\n",
    "})\n",
    "\n",
    "# Print the selected features\n",
    "print(\"Selected Features:\")\n",
    "print(selected_features_em)\n",
    "\n",
    "# Display the results \n",
    "var_results_df_em"
   ]
  },
  {
   "cell_type": "markdown",
   "id": "9dccad25",
   "metadata": {
    "papermill": {
     "duration": null,
     "end_time": null,
     "exception": null,
     "start_time": null,
     "status": "pending"
    },
    "tags": []
   },
   "source": [
    "#### A2.1) MLP Neural Network (Sentiment Analysis)"
   ]
  },
  {
   "cell_type": "code",
   "execution_count": null,
   "id": "68edb7b9",
   "metadata": {
    "execution": {
     "iopub.execute_input": "2023-07-31T12:27:19.457159Z",
     "iopub.status.busy": "2023-07-31T12:27:19.456790Z",
     "iopub.status.idle": "2023-07-31T12:27:22.677075Z",
     "shell.execute_reply": "2023-07-31T12:27:22.676099Z",
     "shell.execute_reply.started": "2023-07-31T12:27:19.457128Z"
    },
    "papermill": {
     "duration": null,
     "end_time": null,
     "exception": null,
     "start_time": null,
     "status": "pending"
    },
    "tags": []
   },
   "outputs": [],
   "source": [
    "# Define the neural network architecture\n",
    "model_var = keras.Sequential([\n",
    "    keras.layers.Dense(256, activation='relu', input_shape=(X_all_selected.shape[1],)),\n",
    "    keras.layers.Dense(128, activation='relu'),\n",
    "    keras.layers.Dense(2, activation='softmax')\n",
    "])\n",
    "\n",
    "# Compile the model\n",
    "model_var.compile(optimizer='adam', loss='sparse_categorical_crossentropy', metrics=['accuracy'])\n",
    "\n",
    "# Train the model with early stopping\n",
    "early_stopping = tf.keras.callbacks.EarlyStopping(monitor='val_loss', patience=3, restore_best_weights=True)\n",
    "model_var.fit(X_all_train, y_all_train, epochs=20, batch_size=32, validation_split=0.2, callbacks=[early_stopping])\n",
    "\n",
    "# Evaluate the model on the test set\n",
    "test_loss, test_accuracy = model_var.evaluate(X_all_test, y_all_test)\n",
    "print(f'Test Loss: {test_loss}, Test Accuracy: {test_accuracy}')"
   ]
  },
  {
   "cell_type": "markdown",
   "id": "275d75b1",
   "metadata": {
    "papermill": {
     "duration": null,
     "end_time": null,
     "exception": null,
     "start_time": null,
     "status": "pending"
    },
    "tags": []
   },
   "source": [
    "#### A2.2) MLP Neural Network (Emotion Analysis)"
   ]
  },
  {
   "cell_type": "code",
   "execution_count": null,
   "id": "25ed5119",
   "metadata": {
    "execution": {
     "iopub.execute_input": "2023-07-31T12:27:25.154296Z",
     "iopub.status.busy": "2023-07-31T12:27:25.153615Z",
     "iopub.status.idle": "2023-07-31T12:27:28.636252Z",
     "shell.execute_reply": "2023-07-31T12:27:28.635193Z",
     "shell.execute_reply.started": "2023-07-31T12:27:25.154248Z"
    },
    "papermill": {
     "duration": null,
     "end_time": null,
     "exception": null,
     "start_time": null,
     "status": "pending"
    },
    "tags": []
   },
   "outputs": [],
   "source": [
    "# Define the neural network architecture\n",
    "model_var_em = keras.Sequential([\n",
    "    keras.layers.Dense(256, activation='relu', input_shape=(X_all_selected_em.shape[1],)),\n",
    "    keras.layers.Dense(128, activation='relu'),\n",
    "    keras.layers.Dense(2, activation='softmax')\n",
    "])\n",
    "\n",
    "# Compile the model\n",
    "model_var_em.compile(optimizer='adam', loss='sparse_categorical_crossentropy', metrics=['accuracy'])\n",
    "\n",
    "# Train the model with early stopping\n",
    "early_stopping_em = tf.keras.callbacks.EarlyStopping(monitor='val_loss', patience=3, restore_best_weights=True)\n",
    "model_var_em.fit(X_all_train_em, y_all_train_em, epochs=20, batch_size=32, validation_split=0.2, callbacks=[early_stopping_em])\n",
    "\n",
    "# Evaluate the model on the test set\n",
    "test_loss_em, test_accuracy_em = model_var_em.evaluate(X_all_test_em, y_all_test_em)\n",
    "print(f'Test Loss: {test_loss_em}, Test Accuracy: {test_accuracy_em}')"
   ]
  },
  {
   "cell_type": "markdown",
   "id": "fcacaa5e",
   "metadata": {
    "papermill": {
     "duration": null,
     "end_time": null,
     "exception": null,
     "start_time": null,
     "status": "pending"
    },
    "tags": []
   },
   "source": [
    "###  B. Correlation\n",
    "#### B1.1) Logistic Regression and Random Forest (Sentiment Analysis)"
   ]
  },
  {
   "cell_type": "code",
   "execution_count": null,
   "id": "1f3039b2",
   "metadata": {
    "execution": {
     "iopub.execute_input": "2023-07-31T12:27:33.586981Z",
     "iopub.status.busy": "2023-07-31T12:27:33.586613Z",
     "iopub.status.idle": "2023-07-31T12:27:33.603169Z",
     "shell.execute_reply": "2023-07-31T12:27:33.602188Z",
     "shell.execute_reply.started": "2023-07-31T12:27:33.586951Z"
    },
    "papermill": {
     "duration": null,
     "end_time": null,
     "exception": null,
     "start_time": null,
     "status": "pending"
    },
    "tags": []
   },
   "outputs": [],
   "source": [
    "# Select specific columns from the 'data' df\n",
    "X = data[['LexDens', 'TTR', 'CTTR', 'GTTR', 'MTLD', 'VerbVar', 'NounVar',\n",
    "       'AdjVar', 'AdvVar', 'non_standard', 'profanity_words',\n",
    "       'Articles', 'Prepositions', 'Conjunctions', 'Pronouns',\n",
    "       'Auxiliary Verbs', 'Modal Verbs', 'Determiners', 'Number of Phrases',\n",
    "       'NP Ratio', 'AdvP Ratio', 'AdjP Ratio', 'PrpP Ratio', 'VP Ratio',\n",
    "       'Complex Nominals', 'Subordinate Clauses', 'Relative Clauses',\n",
    "       'Number of Characters', 'Number of Words', 'Tree Depth', 'paren_count',\n",
    "       'nsubj', 'dobj', 'amod', 'Contrast Markers', 'Emphatic Markers',\n",
    "       'Concessive Markers', 'Summary Markers', 'Negative Affixes',\n",
    "       'Present Verbs', 'Past Verbs', 'Future Verbs', 'Infinitive Verbs',\n",
    "       'has_passive_voice', 'negative_polarity', 'positive_polarity',\n",
    "       'avg_synsets', 'mean_concreteness', 'Named Entity Count']]\n",
    "\n",
    "# Calculate the correlation matrix for the selected columns\n",
    "correlations = X.corr()"
   ]
  },
  {
   "cell_type": "code",
   "execution_count": null,
   "id": "87e7b29b",
   "metadata": {
    "execution": {
     "iopub.execute_input": "2023-07-31T12:27:36.197901Z",
     "iopub.status.busy": "2023-07-31T12:27:36.197401Z",
     "iopub.status.idle": "2023-07-31T12:27:36.285863Z",
     "shell.execute_reply": "2023-07-31T12:27:36.284395Z",
     "shell.execute_reply.started": "2023-07-31T12:27:36.197862Z"
    },
    "papermill": {
     "duration": null,
     "end_time": null,
     "exception": null,
     "start_time": null,
     "status": "pending"
    },
    "tags": []
   },
   "outputs": [],
   "source": [
    "# Get correlations of each feature in the dataset\n",
    "correlations = X.corr()\n",
    "\n",
    "# Set the standard threshold for correlation\n",
    "threshold = 0.6\n",
    "\n",
    "# Create a set to store the correlated feature pairs\n",
    "correlated_pairs = set()\n",
    "\n",
    "# Iterate over the correlation matrix and find the correlated pairs\n",
    "for i in range(len(correlations.columns)):\n",
    "    for j in range(i+1, len(correlations.columns)):\n",
    "        if abs(correlations.iloc[i, j]) > threshold:\n",
    "            correlated_pairs.add((correlations.columns[i], correlations.columns[j]))\n",
    "\n",
    "# Print the correlated feature pairs\n",
    "for pair in correlated_pairs:\n",
    "    print(f\"{pair[0]} and {pair[1]} are correlated.\")"
   ]
  },
  {
   "cell_type": "code",
   "execution_count": null,
   "id": "46bb833d",
   "metadata": {
    "execution": {
     "iopub.execute_input": "2023-07-31T12:27:38.734856Z",
     "iopub.status.busy": "2023-07-31T12:27:38.734494Z",
     "iopub.status.idle": "2023-07-31T12:27:38.742837Z",
     "shell.execute_reply": "2023-07-31T12:27:38.741660Z",
     "shell.execute_reply.started": "2023-07-31T12:27:38.734829Z"
    },
    "papermill": {
     "duration": null,
     "end_time": null,
     "exception": null,
     "start_time": null,
     "status": "pending"
    },
    "tags": []
   },
   "outputs": [],
   "source": [
    "# Create a list to store the non-correlated feature names\n",
    "non_correlated_features = list(X.columns)\n",
    "\n",
    "# Iterate over the correlated feature pairs\n",
    "for feature_1, feature_2 in correlated_pairs:\n",
    "    # Check if the features are still in the non-correlated features list\n",
    "    if feature_1 in non_correlated_features and feature_2 in non_correlated_features:\n",
    "        # Remove one of the correlated features from the list\n",
    "        non_correlated_features.remove(feature_2)\n",
    "\n",
    "# Create a new dataset with non-correlated features\n",
    "new_data = X[non_correlated_features]"
   ]
  },
  {
   "cell_type": "code",
   "execution_count": null,
   "id": "d3638695",
   "metadata": {
    "execution": {
     "iopub.execute_input": "2023-07-31T12:27:41.791879Z",
     "iopub.status.busy": "2023-07-31T12:27:41.791532Z",
     "iopub.status.idle": "2023-07-31T12:27:45.602713Z",
     "shell.execute_reply": "2023-07-31T12:27:45.601565Z",
     "shell.execute_reply.started": "2023-07-31T12:27:41.791852Z"
    },
    "papermill": {
     "duration": null,
     "end_time": null,
     "exception": null,
     "start_time": null,
     "status": "pending"
    },
    "tags": []
   },
   "outputs": [],
   "source": [
    "# Split the data into features (X) and target (y)\n",
    "X_cor = data[['LexDens', 'TTR', 'CTTR', 'MTLD', 'VerbVar', 'NounVar', 'AdjVar', 'AdvVar',\n",
    "              'profanity_words', 'Conjunctions','Pronouns', 'Articles', 'Auxiliary Verbs', 'Modal Verbs', 'Number of Phrases',\n",
    "              'NP Ratio', 'AdjP Ratio', 'PrpP Ratio', 'VP Ratio', 'Subordinate Clauses', 'Complex Nominals',\n",
    "              'Relative Clauses', 'paren_count','nsubj', 'amod', 'Contrast Markers', 'Emphatic Markers',\n",
    "              'Concessive Markers', 'Summary Markers','Present Verbs','Past Verbs', 'Future Verbs', 'has_passive_voice',\n",
    "              'negative_polarity', 'positive_polarity', 'avg_synsets', 'mean_concreteness',\n",
    "              'Named Entity Count']]\n",
    "\n",
    "y_cor = data['Misprediction']\n",
    "\n",
    "# Split the data into training and testing sets\n",
    "X_cor_train, X_cor_test, y_cor_train, y_cor_test = train_test_split(X_cor, y_cor, test_size=0.2, random_state=42)\n",
    "\n",
    "# Initialize Classifiers\n",
    "model_cor_log = LogisticRegression(max_iter=10000) # Create a logistic regression classifier\n",
    "model_cor_rf = RandomForestClassifier() # Create a Random Forest classifier\n",
    "\n",
    "# Fit the models to the training data\n",
    "model_cor_log.fit(X_cor_train, y_cor_train) # Logistic regression\n",
    "model_cor_rf.fit(X_cor_train, y_cor_train) # Random Forest\n",
    "\n",
    "# Set up k-fold cross-validation for logistic regression\n",
    "k = 10  # Number of folds\n",
    "scoring = {'accuracy': make_scorer(accuracy_score), 'f1': make_scorer(f1_score)}\n",
    "cv_results_log_cor = cross_validate(model_cor_log, X_cor_train, y_cor_train, cv=k, scoring=scoring)\n",
    "\n",
    "# Set up k-fold cross-validation for random forest\n",
    "cv_results_rf_cor = cross_validate(model_cor_rf, X_cor_train, y_cor_train, cv=k, scoring=scoring)\n",
    "\n",
    "# Extract the evaluation metrics for logistic regression\n",
    "cv_accuracy_scores_log_cor = cv_results_log_cor['test_accuracy']\n",
    "cv_f1_scores_log_cor = cv_results_log_cor['test_f1']\n",
    "\n",
    "# Extract the evaluation metrics for random forest\n",
    "cv_accuracy_scores_rf_cor = cv_results_rf_cor['test_accuracy']\n",
    "cv_f1_scores_rf_cor = cv_results_rf_cor['test_f1']\n",
    "\n",
    "# Calculate evaluation metrics for logistic regression on the test set\n",
    "precision_log_cor = precision_score(y_cor_test, model_cor_log.predict(X_cor_test))\n",
    "recall_log_cor = recall_score(y_cor_test, model_cor_log.predict(X_cor_test))\n",
    "\n",
    "# Calculate evaluation metrics for random forest on the test set\n",
    "precision_rf_cor = precision_score(y_cor_test, model_cor_rf.predict(X_cor_test))\n",
    "recall_rf_cor = recall_score(y_cor_test, model_cor_rf.predict(X_cor_test))\n",
    "\n",
    "# Store the results in a new df\n",
    "results_cor = pd.DataFrame({\n",
    "    'Classifier': ['Logistic Regression', 'Random Forest'],\n",
    "    'Accuracy': [np.mean(cv_accuracy_scores_log_cor), np.mean(cv_accuracy_scores_rf_cor)],\n",
    "    'F1 Score': [np.mean(cv_f1_scores_log_cor), np.mean(cv_f1_scores_rf_cor)],\n",
    "    'Precision': [precision_log_cor, precision_rf_cor],\n",
    "    'Recall': [recall_log_cor, recall_rf_cor]\n",
    "})\n",
    "\n",
    "results_cor"
   ]
  },
  {
   "cell_type": "markdown",
   "id": "e7f447b2",
   "metadata": {
    "papermill": {
     "duration": null,
     "end_time": null,
     "exception": null,
     "start_time": null,
     "status": "pending"
    },
    "tags": []
   },
   "source": [
    "#### B1.2) Logistic Regression and Random Forest (Emotion Analysis)"
   ]
  },
  {
   "cell_type": "code",
   "execution_count": null,
   "id": "9ff62517",
   "metadata": {
    "execution": {
     "iopub.execute_input": "2023-07-31T13:21:47.164124Z",
     "iopub.status.busy": "2023-07-31T13:21:47.163733Z",
     "iopub.status.idle": "2023-07-31T13:21:47.182979Z",
     "shell.execute_reply": "2023-07-31T13:21:47.182016Z",
     "shell.execute_reply.started": "2023-07-31T13:21:47.164092Z"
    },
    "papermill": {
     "duration": null,
     "end_time": null,
     "exception": null,
     "start_time": null,
     "status": "pending"
    },
    "tags": []
   },
   "outputs": [],
   "source": [
    "# Select specific columns from the 'data_em' df\n",
    "X_em = data_em[['LexDens', 'TTR', 'CTTR', 'GTTR', 'MTLD', 'VerbVar', 'NounVar',\n",
    "       'AdjVar', 'AdvVar', 'non_standard', 'profanity_words',\n",
    "       'Articles', 'Prepositions', 'Conjunctions', 'Pronouns',\n",
    "       'Auxiliary Verbs', 'Modal Verbs', 'Determiners', 'Number of Phrases',\n",
    "       'NP Ratio', 'AdvP Ratio', 'AdjP Ratio', 'PrpP Ratio', 'VP Ratio',\n",
    "       'Complex Nominals', 'Subordinate Clauses', 'Relative Clauses',  'nsubj', 'dobj', 'amod',\n",
    "       'Number of Characters', 'Number of Words', 'Tree Depth', 'paren_count',\n",
    "        'Contrast Markers', 'Emphatic Markers', 'nsubj', 'dobj', 'amod',\n",
    "       'Concessive Markers', 'Summary Markers', 'Negative Affixes',\n",
    "       'Present Verbs', 'Past Verbs', 'Future Verbs', 'Infinitive Verbs',\n",
    "       'has_passive_voice', 'negative_polarity', 'positive_polarity',\n",
    "       'avg_synsets', 'mean_concreteness', 'Named Entity Count']]\n",
    "\n",
    "\n",
    "# Calculate the correlation matrix for the selected columns\n",
    "correlations_em = X_em.corr()"
   ]
  },
  {
   "cell_type": "code",
   "execution_count": null,
   "id": "8f521583",
   "metadata": {
    "execution": {
     "iopub.execute_input": "2023-07-31T13:21:50.132481Z",
     "iopub.status.busy": "2023-07-31T13:21:50.132091Z",
     "iopub.status.idle": "2023-07-31T13:21:50.190165Z",
     "shell.execute_reply": "2023-07-31T13:21:50.189109Z",
     "shell.execute_reply.started": "2023-07-31T13:21:50.132444Z"
    },
    "papermill": {
     "duration": null,
     "end_time": null,
     "exception": null,
     "start_time": null,
     "status": "pending"
    },
    "tags": []
   },
   "outputs": [],
   "source": [
    "# Get correlations of each feature in the dataset\n",
    "correlations_em = X_em.corr()\n",
    "\n",
    "# Set the standard threshold for correlation\n",
    "threshold = 0.6\n",
    "\n",
    "# Create a set to store the correlated feature pairs\n",
    "correlated_pairs_em = set()\n",
    "\n",
    "# Iterate over the correlation matrix and find the correlated pairs\n",
    "for i in range(len(correlations_em.columns)):\n",
    "    for j in range(i+1, len(correlations_em.columns)):\n",
    "        if abs(correlations_em.iloc[i, j]) > threshold:\n",
    "            correlated_pairs_em.add((correlations_em.columns[i], correlations_em.columns[j]))\n",
    "\n",
    "# Print the correlated feature pairs\n",
    "for pair in correlated_pairs_em:\n",
    "    print(f\"{pair[0]} and {pair[1]} are correlated.\")"
   ]
  },
  {
   "cell_type": "code",
   "execution_count": null,
   "id": "32ef92ab",
   "metadata": {
    "execution": {
     "iopub.execute_input": "2023-07-31T13:21:53.152998Z",
     "iopub.status.busy": "2023-07-31T13:21:53.152378Z",
     "iopub.status.idle": "2023-07-31T13:21:53.162240Z",
     "shell.execute_reply": "2023-07-31T13:21:53.160980Z",
     "shell.execute_reply.started": "2023-07-31T13:21:53.152964Z"
    },
    "papermill": {
     "duration": null,
     "end_time": null,
     "exception": null,
     "start_time": null,
     "status": "pending"
    },
    "tags": []
   },
   "outputs": [],
   "source": [
    "# Create a list to store the non-correlated feature names\n",
    "non_correlated_features_em = list(X_em.columns)\n",
    "\n",
    "# Iterate over the correlated feature pairs\n",
    "for feature_1, feature_2 in correlated_pairs_em:\n",
    "    # Check if the features are still in the non-correlated features list\n",
    "    if feature_1 in non_correlated_features_em and feature_2 in non_correlated_features_em:\n",
    "        # Remove one of the correlated features from the list\n",
    "        non_correlated_features_em.remove(feature_2)\n",
    "\n",
    "# Create a new dataset with non-correlated features\n",
    "new_data_em = X_em[non_correlated_features_em]"
   ]
  },
  {
   "cell_type": "code",
   "execution_count": null,
   "id": "f44174fd",
   "metadata": {
    "execution": {
     "iopub.execute_input": "2023-07-31T13:21:56.299872Z",
     "iopub.status.busy": "2023-07-31T13:21:56.299505Z",
     "iopub.status.idle": "2023-07-31T13:21:56.305750Z",
     "shell.execute_reply": "2023-07-31T13:21:56.304497Z",
     "shell.execute_reply.started": "2023-07-31T13:21:56.299844Z"
    },
    "papermill": {
     "duration": null,
     "end_time": null,
     "exception": null,
     "start_time": null,
     "status": "pending"
    },
    "tags": []
   },
   "outputs": [],
   "source": [
    "# Print the non-correlated feature names\n",
    "print(\"Non-correlated features:\")\n",
    "for feature in non_correlated_features_em:\n",
    "    print(feature)"
   ]
  },
  {
   "cell_type": "code",
   "execution_count": null,
   "id": "3ff864b6",
   "metadata": {
    "execution": {
     "iopub.execute_input": "2023-07-31T13:21:58.575351Z",
     "iopub.status.busy": "2023-07-31T13:21:58.574903Z",
     "iopub.status.idle": "2023-07-31T13:22:02.552085Z",
     "shell.execute_reply": "2023-07-31T13:22:02.551009Z",
     "shell.execute_reply.started": "2023-07-31T13:21:58.575313Z"
    },
    "papermill": {
     "duration": null,
     "end_time": null,
     "exception": null,
     "start_time": null,
     "status": "pending"
    },
    "tags": []
   },
   "outputs": [],
   "source": [
    "# Split the data into features (X) and target (y)\n",
    "X_cor_em = data_em[['LexDens', 'TTR', 'MTLD', 'VerbVar', 'NounVar', 'AdjVar', 'profanity_words', 'Number of Phrases', 'Auxiliary Verbs',\n",
    "              'NP Ratio', 'AdjP Ratio', 'AdvP Ratio', 'VP Ratio', 'Subordinate Clauses', 'Relative Clauses', 'Contrast Markers',\n",
    "              'Emphatic Markers', 'Concessive Markers','Summary Markers', 'positive_polarity', 'negative_polarity','has_passive_voice', 'avg_synsets', 'mean_concreteness']]\n",
    "y_cor_em = data_em['Misprediction']\n",
    "\n",
    "# Split the data into training and testing sets\n",
    "X_cor_train_em, X_cor_test_em, y_cor_train_em, y_cor_test_em = train_test_split(X_cor_em, y_cor_em, test_size=0.2, random_state=42)\n",
    "\n",
    "# Initialize Classifiers\n",
    "model_cor_log_em = LogisticRegression(max_iter=10000) # Create a logistic regression classifier\n",
    "model_cor_rf_em = RandomForestClassifier() # Create a Random Forest classifier\n",
    "\n",
    "# Fit the models to the training data\n",
    "model_cor_log_em.fit(X_cor_train_em, y_cor_train_em) # Logistic regression\n",
    "model_cor_rf_em.fit(X_cor_train_em, y_cor_train_em) # Random Forest\n",
    "\n",
    "# Set up k-fold cross-validation for logistic regression\n",
    "k_em = 10  # Number of folds\n",
    "scoring_em = {'accuracy': make_scorer(accuracy_score), 'f1': make_scorer(f1_score)}\n",
    "cv_results_log_cor_em = cross_validate(model_cor_log_em, X_cor_train_em, y_cor_train_em, cv=k_em, scoring=scoring_em)\n",
    "\n",
    "# Set up k-fold cross-validation for random forest\n",
    "cv_results_rf_cor_em = cross_validate(model_cor_rf_em, X_cor_train_em, y_cor_train_em, cv=k_em, scoring=scoring_em)\n",
    "\n",
    "# Extract the evaluation metrics for logistic regression\n",
    "cv_accuracy_scores_log_cor_em = cv_results_log_cor_em['test_accuracy']\n",
    "cv_f1_scores_log_cor_em = cv_results_log_cor_em['test_f1']\n",
    "\n",
    "# Extract the evaluation metrics for random forest\n",
    "cv_accuracy_scores_rf_cor_em = cv_results_rf_cor_em['test_accuracy']\n",
    "cv_f1_scores_rf_cor_em = cv_results_rf_cor_em['test_f1']\n",
    "\n",
    "# Calculate the evaluation metrics for logistic regression on the test set\n",
    "precision_log_cor_em = precision_score(y_cor_test_em, model_cor_log_em.predict(X_cor_test_em))\n",
    "recall_log_cor_em = recall_score(y_cor_test_em, model_cor_log_em.predict(X_cor_test_em))\n",
    "\n",
    "# Calculate the evaluation metrics for random forest on the test set\n",
    "precision_rf_cor_em = precision_score(y_cor_test_em, model_cor_rf_em.predict(X_cor_test_em))\n",
    "recall_rf_cor_em = recall_score(y_cor_test_em, model_cor_rf_em.predict(X_cor_test_em))\n",
    "\n",
    "# Store the results in a new dataset\n",
    "results_cor_em = pd.DataFrame({\n",
    "    'Classifier': ['Logistic Regression', 'Random Forest'],\n",
    "    'Accuracy': [np.mean(cv_accuracy_scores_log_cor_em), np.mean(cv_accuracy_scores_rf_cor_em)],\n",
    "    'F1 Score': [np.mean(cv_f1_scores_log_cor_em), np.mean(cv_f1_scores_rf_cor_em)],\n",
    "    'Precision': [precision_log_cor_em, precision_rf_cor_em],\n",
    "    'Recall': [recall_log_cor_em, recall_rf_cor_em]\n",
    "})\n",
    "\n",
    "results_cor_em"
   ]
  },
  {
   "cell_type": "markdown",
   "id": "84929bd6",
   "metadata": {
    "papermill": {
     "duration": null,
     "end_time": null,
     "exception": null,
     "start_time": null,
     "status": "pending"
    },
    "tags": []
   },
   "source": [
    "#### B2.1) MLP Neural Network (Sentiment Analysis)"
   ]
  },
  {
   "cell_type": "code",
   "execution_count": null,
   "id": "86d6c22a",
   "metadata": {
    "execution": {
     "iopub.execute_input": "2023-07-31T12:28:06.882060Z",
     "iopub.status.busy": "2023-07-31T12:28:06.881342Z",
     "iopub.status.idle": "2023-07-31T12:28:10.131175Z",
     "shell.execute_reply": "2023-07-31T12:28:10.130095Z",
     "shell.execute_reply.started": "2023-07-31T12:28:06.882025Z"
    },
    "papermill": {
     "duration": null,
     "end_time": null,
     "exception": null,
     "start_time": null,
     "status": "pending"
    },
    "tags": []
   },
   "outputs": [],
   "source": [
    "# Define the neural network architecture\n",
    "model_cor = keras.Sequential([\n",
    "    keras.layers.Dense(256, activation='relu', input_shape=(len(X_cor.columns),)),\n",
    "    keras.layers.Dense(128, activation='relu'),\n",
    "    keras.layers.Dense(2, activation='softmax')\n",
    "])\n",
    "\n",
    "# Compile the model\n",
    "model_cor.compile(optimizer='adam', loss='sparse_categorical_crossentropy', metrics=['accuracy'])\n",
    "\n",
    "# Train the model with early stopping\n",
    "early_stopping = tf.keras.callbacks.EarlyStopping(monitor='val_loss', patience=3, restore_best_weights=True)\n",
    "model_cor.fit(X_cor_train, y_cor_train, epochs=20, batch_size=32, validation_split=0.2, callbacks=[early_stopping])\n",
    "\n",
    "# Evaluate the model on the test set\n",
    "test_loss, test_accuracy = model_cor.evaluate(X_cor_test, y_cor_test)\n",
    "print(f'Test Loss: {test_loss}, Test Accuracy: {test_accuracy}')"
   ]
  },
  {
   "cell_type": "markdown",
   "id": "03f8f4b3",
   "metadata": {
    "papermill": {
     "duration": null,
     "end_time": null,
     "exception": null,
     "start_time": null,
     "status": "pending"
    },
    "tags": []
   },
   "source": [
    "#### B2.2) MLP Neural Network (Emotion Analysis)"
   ]
  },
  {
   "cell_type": "code",
   "execution_count": null,
   "id": "a510f7d9",
   "metadata": {
    "execution": {
     "iopub.execute_input": "2023-07-31T12:28:11.854735Z",
     "iopub.status.busy": "2023-07-31T12:28:11.854365Z",
     "iopub.status.idle": "2023-07-31T12:28:15.389834Z",
     "shell.execute_reply": "2023-07-31T12:28:15.388749Z",
     "shell.execute_reply.started": "2023-07-31T12:28:11.854705Z"
    },
    "papermill": {
     "duration": null,
     "end_time": null,
     "exception": null,
     "start_time": null,
     "status": "pending"
    },
    "tags": []
   },
   "outputs": [],
   "source": [
    "# Define the neural network architecture\n",
    "model_cor_em = keras.Sequential([\n",
    "    keras.layers.Dense(256, activation='relu', input_shape=(len(X_cor_em.columns),)),\n",
    "    keras.layers.Dense(128, activation='relu'),\n",
    "    keras.layers.Dense(2, activation='softmax')\n",
    "])\n",
    "\n",
    "# Compile the model\n",
    "model_cor_em.compile(optimizer='adam', loss='sparse_categorical_crossentropy', metrics=['accuracy'])\n",
    "\n",
    "# Train the model with early stopping\n",
    "early_stopping_em = tf.keras.callbacks.EarlyStopping(monitor='val_loss', patience=3, restore_best_weights=True)\n",
    "model_cor_em.fit(X_cor_train_em, y_cor_train_em, epochs=20, batch_size=32, validation_split=0.2, callbacks=[early_stopping_em])\n",
    "\n",
    "# Evaluate the model on the test set\n",
    "test_loss_em, test_accuracy_em = model_cor_em.evaluate(X_cor_test_em, y_cor_test_em)\n",
    "print(f'Test Loss: {test_loss_em}, Test Accuracy: {test_accuracy_em}')"
   ]
  },
  {
   "cell_type": "markdown",
   "id": "bf3eb0e3",
   "metadata": {
    "papermill": {
     "duration": null,
     "end_time": null,
     "exception": null,
     "start_time": null,
     "status": "pending"
    },
    "tags": []
   },
   "source": [
    "###  C. Relief\n",
    "#### C1.1) Logistic Regression and Random Forest (Sentiment Analysis)"
   ]
  },
  {
   "cell_type": "code",
   "execution_count": null,
   "id": "798cf21e",
   "metadata": {
    "execution": {
     "iopub.execute_input": "2023-07-31T12:28:18.320260Z",
     "iopub.status.busy": "2023-07-31T12:28:18.319259Z",
     "iopub.status.idle": "2023-07-31T12:28:18.537056Z",
     "shell.execute_reply": "2023-07-31T12:28:18.536054Z",
     "shell.execute_reply.started": "2023-07-31T12:28:18.320224Z"
    },
    "papermill": {
     "duration": null,
     "end_time": null,
     "exception": null,
     "start_time": null,
     "status": "pending"
    },
    "tags": []
   },
   "outputs": [],
   "source": [
    "# Perform feature selection using Relief\n",
    "selector = SelectKBest(score_func=f_regression, k=10)  # Adjust the k value as desired\n",
    "X_selected = selector.fit_transform(X_all, y_all)\n",
    "\n",
    "# Get the selected feature names\n",
    "selected_feature_names = X_all.columns[selector.get_support()]\n",
    "\n",
    "# Split the data into training and testing sets\n",
    "X_selected_train, X_selected_test, y_all_train, y_all_test = train_test_split(X_selected, y_all, test_size=0.2, random_state=42)\n",
    "\n",
    "# Initialize Classifier\n",
    "model_complex_log_relief = LogisticRegression(max_iter=10000)  # Create a logistic regression classifier\n",
    "\n",
    "# Fit the model to the training data with the selected features\n",
    "model_complex_log_relief.fit(X_selected_train, y_all_train)  # Logistic regression\n",
    "\n",
    "# Set up k-fold cross-validation for logistic regression with the selected features\n",
    "cv_results_log_relief = cross_validate(model_complex_log_relief, X_selected_train, y_all_train, cv=k, scoring=scoring)\n",
    "\n",
    "# Define the scoring metrics you want to evaluate\n",
    "scoring = {\n",
    "    'accuracy': make_scorer(accuracy_score),\n",
    "    'precision': make_scorer(precision_score),\n",
    "    'recall': make_scorer(recall_score),\n",
    "    'f1_score': make_scorer(f1_score)\n",
    "}\n",
    "\n",
    "# Set k value for k-fold cross-validation\n",
    "k = 5  # Adjust k as desired\n",
    "\n",
    "# Perform k-fold cross-validation for logistic regression with the selected features\n",
    "cv_results_log_relief = cross_validate(model_complex_log_relief, X_selected_train, y_all_train, cv=k, scoring=scoring)\n",
    "\n",
    "# Print the evaluation metrics\n",
    "print(\"Accuracy:\", np.mean(cv_results_log_relief['test_accuracy']))\n",
    "print(\"Precision:\", np.mean(cv_results_log_relief['test_precision']))\n",
    "print(\"Recall:\", np.mean(cv_results_log_relief['test_recall']))\n",
    "print(\"F1 Score:\", np.mean(cv_results_log_relief['test_f1_score']))"
   ]
  },
  {
   "cell_type": "markdown",
   "id": "f781d414",
   "metadata": {
    "papermill": {
     "duration": null,
     "end_time": null,
     "exception": null,
     "start_time": null,
     "status": "pending"
    },
    "tags": []
   },
   "source": [
    "# PART 7: \n",
    "## DIAGNOSTIC ASSESSMENT OF FEATURES\n",
    "### A. Regression Analysis \n",
    "#### 7A1. Sentiment Analysis Task"
   ]
  },
  {
   "cell_type": "code",
   "execution_count": null,
   "id": "7281666e",
   "metadata": {
    "execution": {
     "iopub.execute_input": "2023-07-31T12:28:25.316696Z",
     "iopub.status.busy": "2023-07-31T12:28:25.316306Z",
     "iopub.status.idle": "2023-07-31T12:28:25.458470Z",
     "shell.execute_reply": "2023-07-31T12:28:25.457321Z",
     "shell.execute_reply.started": "2023-07-31T12:28:25.316666Z"
    },
    "papermill": {
     "duration": null,
     "end_time": null,
     "exception": null,
     "start_time": null,
     "status": "pending"
    },
    "tags": []
   },
   "outputs": [],
   "source": [
    "# Select features from X_cor dataset\n",
    "X_selected = data[['LexDens','TTR' , 'CTTR','MTLD' ,'VerbVar', 'NounVar' ,'AdjVar',\n",
    " 'AdvVar' ,'profanity_words' ,'Articles','Conjunctions', 'Pronouns', 'Auxiliary Verbs',\n",
    " 'Modal Verbs' ,'Determiners' ,'Number of Phrases' ,'NP Ratio' ,'AdvP Ratio',\n",
    " 'AdjP Ratio' ,'PrpP Ratio' ,'VP Ratio', 'Complex Nominals',\n",
    " 'Subordinate Clauses', 'Relative Clauses', 'nsubj',\n",
    " 'amod' ,'Contrast Markers' ,'Negative Affixes' ,'Past Verbs',\n",
    " 'Infinitive Verbs', 'has_passive_voice' ,'negative_polarity',\n",
    " 'positive_polarity', 'avg_synsets' ,'mean_concreteness',\n",
    " 'Named Entity Count']]\n",
    "\n",
    "\n",
    "# Add constant term to the feature matrix\n",
    "X_selected = sm.add_constant(X_selected)\n",
    "\n",
    "# Fit logistic regression model\n",
    "logit_model = sm.Logit(y_cor, X_selected)\n",
    "result = logit_model.fit()\n",
    "\n",
    "# Print the summary of the logistic regression model\n",
    "print(result.summary())"
   ]
  },
  {
   "cell_type": "code",
   "execution_count": null,
   "id": "47a45a58",
   "metadata": {
    "execution": {
     "iopub.execute_input": "2023-07-31T12:28:28.368800Z",
     "iopub.status.busy": "2023-07-31T12:28:28.368400Z",
     "iopub.status.idle": "2023-07-31T12:28:28.384409Z",
     "shell.execute_reply": "2023-07-31T12:28:28.383282Z",
     "shell.execute_reply.started": "2023-07-31T12:28:28.368769Z"
    },
    "papermill": {
     "duration": null,
     "end_time": null,
     "exception": null,
     "start_time": null,
     "status": "pending"
    },
    "tags": []
   },
   "outputs": [],
   "source": [
    "# Get the absolute values of the coefficients\n",
    "coefs_abs = np.abs(result.params)\n",
    "\n",
    "# Create a new df storing the coefficients and their absolute values\n",
    "coefs_df = pd.DataFrame({'Coefficient': result.params, 'Absolute Value': coefs_abs}, index=X_selected.columns)\n",
    "\n",
    "# Sort the df by the absolute values in descending order\n",
    "coefs_df_sorted = coefs_df.sort_values('Absolute Value', ascending=False)\n",
    "\n",
    "# Select the specific features\n",
    "selected_features = ['CTTR', 'Relative Clauses', 'Contrast Markers', 'AdvP Ratio','positive_polarity', 'nsubj', 'amod']\n",
    "\n",
    "# Filter the df to include only the selected features\n",
    "selected_coefs = coefs_df_sorted.loc[selected_features]\n",
    "\n",
    "selected_coefs"
   ]
  },
  {
   "cell_type": "code",
   "execution_count": null,
   "id": "e7af42c1",
   "metadata": {
    "execution": {
     "iopub.execute_input": "2023-07-31T12:28:30.666192Z",
     "iopub.status.busy": "2023-07-31T12:28:30.665350Z",
     "iopub.status.idle": "2023-07-31T12:28:30.991058Z",
     "shell.execute_reply": "2023-07-31T12:28:30.990096Z",
     "shell.execute_reply.started": "2023-07-31T12:28:30.666147Z"
    },
    "papermill": {
     "duration": null,
     "end_time": null,
     "exception": null,
     "start_time": null,
     "status": "pending"
    },
    "tags": []
   },
   "outputs": [],
   "source": [
    "# Filter the df to include only the selected features\n",
    "coefs_df_filtered = coefs_df_sorted.loc[selected_features]\n",
    "\n",
    "# Set the width of the bars\n",
    "bar_width = 0.5\n",
    "\n",
    "# Set the positions of the bars on the y-axis\n",
    "index = np.arange(len(coefs_df_filtered))\n",
    "\n",
    "# Create the bar plot\n",
    "plt.barh(index, coefs_df_filtered['Coefficient'], bar_width, color=['tab:red' if c < 0 else 'tab:cyan' for c in coefs_df_filtered['Coefficient']])\n",
    "\n",
    "# Add labels and title\n",
    "plt.xlabel('Coefficient')\n",
    "plt.ylabel('Feature')\n",
    "plt.title('Direction of Relationship between Coefficients and Misprediction')\n",
    "\n",
    "# Add y-axis labels\n",
    "plt.yticks(index, coefs_df_filtered.index)\n",
    "\n",
    "# Show the plot\n",
    "plt.show()"
   ]
  },
  {
   "cell_type": "markdown",
   "id": "b3836ce3",
   "metadata": {
    "papermill": {
     "duration": null,
     "end_time": null,
     "exception": null,
     "start_time": null,
     "status": "pending"
    },
    "tags": []
   },
   "source": [
    "#### 7A2. Emotion Analysis Task"
   ]
  },
  {
   "cell_type": "code",
   "execution_count": null,
   "id": "6442785d",
   "metadata": {
    "execution": {
     "iopub.execute_input": "2023-07-31T12:30:08.687932Z",
     "iopub.status.busy": "2023-07-31T12:30:08.687567Z",
     "iopub.status.idle": "2023-07-31T12:30:08.855966Z",
     "shell.execute_reply": "2023-07-31T12:30:08.853701Z",
     "shell.execute_reply.started": "2023-07-31T12:30:08.687903Z"
    },
    "papermill": {
     "duration": null,
     "end_time": null,
     "exception": null,
     "start_time": null,
     "status": "pending"
    },
    "tags": []
   },
   "outputs": [],
   "source": [
    "# Select the desired features from X_cor\n",
    "X_selected_em = data_em[['LexDens', 'TTR', 'CTTR', 'VerbVar', 'NounVar', 'AdjVar', 'AdvVar', 'profanity_words', 'Conjunctions', 'Pronouns', 'Auxiliary Verbs', 'Modal Verbs', 'Determiners', 'Number of Phrases', 'NP Ratio', 'AdvP Ratio', 'AdjP Ratio', 'PrpP Ratio', 'VP Ratio', 'Complex Nominals', 'Subordinate Clauses', 'Relative Clauses', 'Contrast Markers', 'Emphatic Markers', 'nsubj', 'amod', 'Concessive Markers', 'Summary Markers', 'Negative Affixes', 'Present Verbs', 'Past Verbs', 'Future Verbs', 'Infinitive Verbs', 'has_passive_voice', 'negative_polarity', 'positive_polarity', 'avg_synsets', 'mean_concreteness', 'Named Entity Count']]\n",
    "\n",
    "\n",
    "# Add constant term to the feature matrix\n",
    "X_selected_em = sm.add_constant(X_selected_em)\n",
    "\n",
    "# Fit logistic regression model\n",
    "logit_model_em = sm.Logit(y_cor_em, X_selected_em)\n",
    "result_em = logit_model_em.fit()\n",
    "\n",
    "# Print the summary of the logistic regression model\n",
    "print(result_em.summary())"
   ]
  },
  {
   "cell_type": "code",
   "execution_count": null,
   "id": "1d02b120",
   "metadata": {
    "execution": {
     "iopub.execute_input": "2023-07-31T12:30:19.694510Z",
     "iopub.status.busy": "2023-07-31T12:30:19.694129Z",
     "iopub.status.idle": "2023-07-31T12:30:19.709796Z",
     "shell.execute_reply": "2023-07-31T12:30:19.708660Z",
     "shell.execute_reply.started": "2023-07-31T12:30:19.694479Z"
    },
    "papermill": {
     "duration": null,
     "end_time": null,
     "exception": null,
     "start_time": null,
     "status": "pending"
    },
    "tags": []
   },
   "outputs": [],
   "source": [
    "# Get the absolute values of the coefficients\n",
    "coefs_abs_em = np.abs(result_em.params)\n",
    "\n",
    "# Create a df to store the coefficients and their absolute values\n",
    "coefs_df_em = pd.DataFrame({'Coefficient': result_em.params, 'Absolute Value': coefs_abs_em}, index=X_selected_em.columns)\n",
    "\n",
    "# Sort the df by the absolute values in descending order\n",
    "coefs_df_sorted_em = coefs_df_em.sort_values('Absolute Value', ascending=False)\n",
    "\n",
    "# Select the specific features\n",
    "selected_features_em = ['VerbVar', 'Number of Phrases', 'AdvP Ratio', 'nsubj', 'amod', 'avg_synsets']\n",
    "\n",
    "# Filter the DataFrame to include only the selected features\n",
    "selected_coefs_em = coefs_df_sorted_em.loc[selected_features_em]\n",
    "\n",
    "selected_coefs_em"
   ]
  },
  {
   "cell_type": "code",
   "execution_count": null,
   "id": "76749071",
   "metadata": {
    "execution": {
     "iopub.execute_input": "2023-07-31T12:30:32.066052Z",
     "iopub.status.busy": "2023-07-31T12:30:32.065372Z",
     "iopub.status.idle": "2023-07-31T12:30:32.381799Z",
     "shell.execute_reply": "2023-07-31T12:30:32.379641Z",
     "shell.execute_reply.started": "2023-07-31T12:30:32.066019Z"
    },
    "papermill": {
     "duration": null,
     "end_time": null,
     "exception": null,
     "start_time": null,
     "status": "pending"
    },
    "tags": []
   },
   "outputs": [],
   "source": [
    "# Filter the df to include only the selected features\n",
    "coefs_df_filtered_em = coefs_df_sorted_em.loc[selected_features_em]\n",
    "\n",
    "# Set the width of the bars\n",
    "bar_width = 0.5\n",
    "\n",
    "# Set the positions of the bars on the y-axis\n",
    "index = np.arange(len(coefs_df_filtered_em))\n",
    "\n",
    "# Create the bar plot\n",
    "plt.barh(index, coefs_df_filtered_em['Coefficient'], bar_width, color=['tab:red' if c < 0 else 'tab:cyan' for c in coefs_df_filtered_em['Coefficient']])\n",
    "\n",
    "# Add labels and title\n",
    "plt.xlabel('Coefficient')\n",
    "plt.ylabel('Feature')\n",
    "plt.title('Direction of Relationship between Coefficients and Misprediction (Emotion Analysis)')\n",
    "\n",
    "# Add y-axis labels\n",
    "plt.yticks(index, coefs_df_filtered_em.index)\n",
    "\n",
    "# Show the plot\n",
    "plt.show()"
   ]
  },
  {
   "cell_type": "markdown",
   "id": "d9b419c4",
   "metadata": {
    "papermill": {
     "duration": null,
     "end_time": null,
     "exception": null,
     "start_time": null,
     "status": "pending"
    },
    "tags": []
   },
   "source": [
    "### B. SHAP Values\n",
    "#### 7B1. Sentiment Analysis Task"
   ]
  },
  {
   "cell_type": "code",
   "execution_count": null,
   "id": "53217be1",
   "metadata": {
    "execution": {
     "iopub.execute_input": "2023-07-31T12:32:22.588244Z",
     "iopub.status.busy": "2023-07-31T12:32:22.587775Z",
     "iopub.status.idle": "2023-07-31T12:32:27.559495Z",
     "shell.execute_reply": "2023-07-31T12:32:27.558378Z",
     "shell.execute_reply.started": "2023-07-31T12:32:22.588205Z"
    },
    "papermill": {
     "duration": null,
     "end_time": null,
     "exception": null,
     "start_time": null,
     "status": "pending"
    },
    "tags": []
   },
   "outputs": [],
   "source": [
    "# Split the data into features (X) and target (y)\n",
    "X_final = data[['LexDens','TTR' , 'CTTR','MTLD' ,'VerbVar', 'NounVar' ,'AdjVar',\n",
    " 'AdvVar' ,'profanity_words' ,'Articles','Conjunctions', 'Pronouns', 'Auxiliary Verbs',\n",
    " 'Modal Verbs' ,'Determiners' ,'Number of Phrases' ,'NP Ratio' ,'AdvP Ratio',\n",
    " 'AdjP Ratio' ,'PrpP Ratio' ,'VP Ratio', 'Complex Nominals',\n",
    " 'Subordinate Clauses', 'Relative Clauses', 'nsubj',\n",
    " 'amod' ,'Contrast Markers' ,'Negative Affixes' ,'Past Verbs',\n",
    " 'Infinitive Verbs', 'has_passive_voice' ,'negative_polarity',\n",
    " 'positive_polarity', 'avg_synsets' ,'mean_concreteness',\n",
    " 'Named Entity Count']]\n",
    "y_final = data['Misprediction']\n",
    "\n",
    "# Split the data into training and testing sets\n",
    "X_final_train, X_final_test, y_final_train, y_final_test = train_test_split(X_final, y_final, test_size=0.2, random_state=42)\n",
    "\n",
    "# Initialize Classifiers\n",
    "model_final_log = LogisticRegression(max_iter=10000) # Create a logistic regression classifier\n",
    "model_final_rf = RandomForestClassifier() # Create a Random Forest classifier\n",
    "\n",
    "# Fit the models to the training data\n",
    "model_final_log.fit(X_final_train, y_final_train) # Logistic regression\n",
    "model_final_rf.fit(X_final_train, y_final_train) # Random Forest\n",
    "\n",
    "# Set up k-fold cross-validation for logistic regression\n",
    "k = 10  # Number of folds\n",
    "scoring = {'accuracy': make_scorer(accuracy_score), 'f1': make_scorer(f1_score),\n",
    "           'precision': make_scorer(precision_score), 'recall': make_scorer(recall_score)}\n",
    "cv_results_log_final = cross_validate(model_final_log, X_final_train, y_final_train, cv=k, scoring=scoring)\n",
    "\n",
    "# Set up k-fold cross-validation for random forest\n",
    "cv_results_rf_final = cross_validate(model_final_rf, X_final_train, y_final_train, cv=k, scoring=scoring)\n",
    "\n",
    "# Extract the evaluation metrics from the cross-validation results for logistic regression\n",
    "cv_accuracy_scores_log_final = cv_results_log_final['test_accuracy']\n",
    "cv_f1_scores_log_final = cv_results_log_final['test_f1']\n",
    "cv_precision_scores_log_final = cv_results_log_final['test_precision']\n",
    "cv_recall_scores_log_final = cv_results_log_final['test_recall']\n",
    "\n",
    "# Extract the the evaluation metrics from the cross-validation results for random forest\n",
    "cv_accuracy_scores_rf_final = cv_results_rf_final['test_accuracy']\n",
    "cv_f1_scores_rf_final = cv_results_rf_final['test_f1']\n",
    "cv_precision_scores_rf_final = cv_results_rf_final['test_precision']\n",
    "cv_recall_scores_rf_final = cv_results_rf_final['test_recall']\n",
    "\n",
    "# Store the results in a new df\n",
    "final_results_df = pd.DataFrame({\n",
    "    'Classifier': ['Logistic Regression', 'Random Forest'],\n",
    "    'Accuracy': [np.mean(cv_accuracy_scores_log_final), np.mean(cv_accuracy_scores_rf_final)],\n",
    "    'F1 Score': [np.mean(cv_f1_scores_log_final), np.mean(cv_f1_scores_rf_final)],\n",
    "    'Precision': [np.mean(cv_precision_scores_log_final), np.mean(cv_precision_scores_rf_final)],\n",
    "    'Recall': [np.mean(cv_recall_scores_log_final), np.mean(cv_recall_scores_rf_final)]\n",
    "})\n",
    "\n",
    "final_results_df"
   ]
  },
  {
   "cell_type": "code",
   "execution_count": null,
   "id": "099a6aea",
   "metadata": {
    "execution": {
     "iopub.execute_input": "2023-07-31T12:33:42.181032Z",
     "iopub.status.busy": "2023-07-31T12:33:42.178392Z",
     "iopub.status.idle": "2023-07-31T12:33:53.173590Z",
     "shell.execute_reply": "2023-07-31T12:33:53.172298Z",
     "shell.execute_reply.started": "2023-07-31T12:33:42.180982Z"
    },
    "papermill": {
     "duration": null,
     "end_time": null,
     "exception": null,
     "start_time": null,
     "status": "pending"
    },
    "tags": []
   },
   "outputs": [],
   "source": [
    "# Fit the explainer\n",
    "explainer = shap.Explainer(model_final_log.predict, X_final_test)\n",
    "\n",
    "# Calculate the SHAP values \n",
    "shap_values = explainer(X_final_test)"
   ]
  },
  {
   "cell_type": "code",
   "execution_count": null,
   "id": "241574bd",
   "metadata": {
    "execution": {
     "iopub.execute_input": "2023-07-31T12:34:08.975331Z",
     "iopub.status.busy": "2023-07-31T12:34:08.974971Z",
     "iopub.status.idle": "2023-07-31T12:34:11.002560Z",
     "shell.execute_reply": "2023-07-31T12:34:11.001488Z",
     "shell.execute_reply.started": "2023-07-31T12:34:08.975300Z"
    },
    "papermill": {
     "duration": null,
     "end_time": null,
     "exception": null,
     "start_time": null,
     "status": "pending"
    },
    "tags": []
   },
   "outputs": [],
   "source": [
    "# Create a violin plot summarizing the SHAP values\n",
    "shap.summary_plot(shap_values, plot_type='violin', max_display=10)"
   ]
  },
  {
   "cell_type": "markdown",
   "id": "4efa81ae",
   "metadata": {
    "papermill": {
     "duration": null,
     "end_time": null,
     "exception": null,
     "start_time": null,
     "status": "pending"
    },
    "tags": []
   },
   "source": [
    "#### 7B2. Emotion Analysis Task"
   ]
  },
  {
   "cell_type": "code",
   "execution_count": null,
   "id": "e62c1212",
   "metadata": {
    "execution": {
     "iopub.execute_input": "2023-07-31T12:34:33.935646Z",
     "iopub.status.busy": "2023-07-31T12:34:33.935244Z",
     "iopub.status.idle": "2023-07-31T12:34:38.687481Z",
     "shell.execute_reply": "2023-07-31T12:34:38.686381Z",
     "shell.execute_reply.started": "2023-07-31T12:34:33.935615Z"
    },
    "papermill": {
     "duration": null,
     "end_time": null,
     "exception": null,
     "start_time": null,
     "status": "pending"
    },
    "tags": []
   },
   "outputs": [],
   "source": [
    "# Split the data into features (X) and target (y)\n",
    "X_final_em = data_em[['LexDens', 'TTR', 'CTTR', 'VerbVar', 'NounVar', 'AdjVar', 'AdvVar', 'profanity_words', 'Conjunctions', 'Pronouns', 'Auxiliary Verbs', 'Modal Verbs', 'Determiners', 'Number of Phrases', 'NP Ratio', 'AdvP Ratio', 'AdjP Ratio', 'PrpP Ratio', 'VP Ratio', 'Complex Nominals', 'Subordinate Clauses', 'Relative Clauses', 'Contrast Markers', 'Emphatic Markers', 'nsubj', 'amod', 'Concessive Markers', 'Summary Markers', 'Negative Affixes', 'Present Verbs', 'Past Verbs', 'Future Verbs', 'Infinitive Verbs', 'has_passive_voice', 'negative_polarity', 'positive_polarity', 'avg_synsets', 'mean_concreteness', 'Named Entity Count']]\n",
    "y_final_em = data_em['Misprediction']\n",
    "\n",
    "# Split the data into training and testing sets\n",
    "X_final_train_em, X_final_test_em, y_final_train_em, y_final_test_em = train_test_split(X_final_em, y_final_em, test_size=0.2, random_state=42)\n",
    "\n",
    "# Initialize Classifiers\n",
    "model_final_log_em = LogisticRegression(max_iter=10000) # Create a logistic regression classifier\n",
    "model_final_rf_em = RandomForestClassifier() # Create a Random Forest classifier\n",
    "\n",
    "# Fit the models to the training data\n",
    "model_final_log_em.fit(X_final_train_em, y_final_train_em) # Logistic regression\n",
    "model_final_rf_em.fit(X_final_train_em, y_final_train_em) # Random Forest\n",
    "\n",
    "# Set up k-fold cross-validation for logistic regression\n",
    "k = 10  # Number of folds\n",
    "scoring = {'accuracy': make_scorer(accuracy_score), 'f1': make_scorer(f1_score),\n",
    "           'precision': make_scorer(precision_score), 'recall': make_scorer(recall_score)}\n",
    "cv_results_log_final_em = cross_validate(model_final_log_em, X_final_train_em, y_final_train_em, cv=k, scoring=scoring)\n",
    "\n",
    "# Set up k-fold cross-validation for random forest\n",
    "cv_results_rf_final_em = cross_validate(model_final_rf_em, X_final_train_em, y_final_train_em, cv=k, scoring=scoring)\n",
    "\n",
    "# Extract the evaluation metrics results for logistic regression\n",
    "cv_accuracy_scores_log_final_em = cv_results_log_final_em['test_accuracy']\n",
    "cv_f1_scores_log_final_em = cv_results_log_final_em['test_f1']\n",
    "cv_precision_scores_log_final_em = cv_results_log_final_em['test_precision']\n",
    "cv_recall_scores_log_final_em = cv_results_log_final_em['test_recall']\n",
    "\n",
    "# Extract the evaluation metrics from the cross-validation results for random forest\n",
    "cv_accuracy_scores_rf_final_em = cv_results_rf_final_em['test_accuracy']\n",
    "cv_f1_scores_rf_final_em = cv_results_rf_final_em['test_f1']\n",
    "cv_precision_scores_rf_final_em = cv_results_rf_final_em['test_precision']\n",
    "cv_recall_scores_rf_final_em = cv_results_rf_final_em['test_recall']\n",
    "\n",
    "# Store the results in a new df\n",
    "final_results_df_em = pd.DataFrame({\n",
    "    'Classifier': ['Logistic Regression', 'Random Forest'],\n",
    "    'Accuracy': [np.mean(cv_accuracy_scores_log_final_em), np.mean(cv_accuracy_scores_rf_final_em)],\n",
    "    'F1 Score': [np.mean(cv_f1_scores_log_final_em), np.mean(cv_f1_scores_rf_final_em)],\n",
    "    'Precision': [np.mean(cv_precision_scores_log_final_em), np.mean(cv_precision_scores_rf_final_em)],\n",
    "    'Recall': [np.mean(cv_recall_scores_log_final_em), np.mean(cv_recall_scores_rf_final_em)]\n",
    "})\n",
    "\n",
    "final_results_df_em"
   ]
  },
  {
   "cell_type": "code",
   "execution_count": null,
   "id": "a457637e",
   "metadata": {
    "execution": {
     "iopub.execute_input": "2023-07-31T12:35:01.460497Z",
     "iopub.status.busy": "2023-07-31T12:35:01.460120Z",
     "iopub.status.idle": "2023-07-31T12:35:13.496705Z",
     "shell.execute_reply": "2023-07-31T12:35:13.495256Z",
     "shell.execute_reply.started": "2023-07-31T12:35:01.460466Z"
    },
    "papermill": {
     "duration": null,
     "end_time": null,
     "exception": null,
     "start_time": null,
     "status": "pending"
    },
    "tags": []
   },
   "outputs": [],
   "source": [
    "# Fit the explainer\n",
    "explainer = shap.Explainer(model_final_log_em.predict, X_final_test_em)\n",
    "# Calculate the SHAP values \n",
    "shap_values = explainer(X_final_test_em)\n",
    "\n",
    "# Create a violin plot summarizing the SHAP values\n",
    "shap.summary_plot(shap_values, plot_type='violin', max_display=10)"
   ]
  },
  {
   "cell_type": "markdown",
   "id": "9ffd4947",
   "metadata": {
    "papermill": {
     "duration": null,
     "end_time": null,
     "exception": null,
     "start_time": null,
     "status": "pending"
    },
    "tags": []
   },
   "source": [
    "### C. Feature Ablation\n",
    "#### C1. Sentiment Analysis Task"
   ]
  },
  {
   "cell_type": "code",
   "execution_count": null,
   "id": "82da2118",
   "metadata": {
    "execution": {
     "iopub.execute_input": "2023-07-31T12:37:17.884755Z",
     "iopub.status.busy": "2023-07-31T12:37:17.884338Z",
     "iopub.status.idle": "2023-07-31T12:37:39.720214Z",
     "shell.execute_reply": "2023-07-31T12:37:39.719235Z",
     "shell.execute_reply.started": "2023-07-31T12:37:17.884725Z"
    },
    "papermill": {
     "duration": null,
     "end_time": null,
     "exception": null,
     "start_time": null,
     "status": "pending"
    },
    "tags": []
   },
   "outputs": [],
   "source": [
    "# Split the data into features (X) and target (y)\n",
    "X_cor = data[['LexDens', 'TTR', 'CTTR', 'VerbVar', 'NounVar', 'AdjVar', 'AdvVar', 'profanity_words', 'Conjunctions', 'Pronouns', 'Auxiliary Verbs', 'Modal Verbs', 'Determiners', 'Number of Phrases', 'NP Ratio', 'AdvP Ratio', 'AdjP Ratio', 'PrpP Ratio', 'VP Ratio', 'Complex Nominals', 'Subordinate Clauses', 'Relative Clauses', 'Contrast Markers', 'Emphatic Markers', 'nsubj', 'amod', 'Concessive Markers', 'Summary Markers', 'Negative Affixes', 'Present Verbs', 'Past Verbs', 'Future Verbs', 'Infinitive Verbs', 'has_passive_voice', 'negative_polarity', 'positive_polarity', 'avg_synsets', 'mean_concreteness', 'Named Entity Count']]\n",
    "\n",
    "y_cor = data['Misprediction']\n",
    "\n",
    "# Split the data into training and testing sets\n",
    "X_cor_train, X_cor_test, y_cor_train, y_cor_test = train_test_split(X_cor, y_cor, test_size=0.2, random_state=42)\n",
    "\n",
    "# Initialize Classifiers\n",
    "model_cor_log = LogisticRegression(max_iter=10000) # Create a logistic regression classifier\n",
    "model_cor_rf = RandomForestClassifier() # Create a Random Forest classifier\n",
    "\n",
    "# Fit the models to the training data\n",
    "model_cor_log.fit(X_cor_train, y_cor_train) # Logistic regression\n",
    "model_cor_rf.fit(X_cor_train, y_cor_train) # Random Forest\n",
    "\n",
    "# Set up k-fold cross-validation for logistic regression\n",
    "k = 10  # Number of folds\n",
    "scoring = {'accuracy': make_scorer(accuracy_score), 'f1': make_scorer(f1_score)}\n",
    "cv_results_log_cor = cross_validate(model_cor_log, X_cor_train, y_cor_train, cv=k, scoring=scoring)\n",
    "\n",
    "# Set up k-fold cross-validation for random forest\n",
    "cv_results_rf_cor = cross_validate(model_cor_rf, X_cor_train, y_cor_train, cv=k, scoring=scoring)\n",
    "\n",
    "# Extract the evaluation metrics from the cross-validation results for logistic regression\n",
    "cv_accuracy_scores_log_cor = cv_results_log_cor['test_accuracy']\n",
    "cv_f1_scores_log_cor = cv_results_log_cor['test_f1']\n",
    "\n",
    "# Extract the evaluation metrics from the cross-validation results for random forest\n",
    "cv_accuracy_scores_rf_cor = cv_results_rf_cor['test_accuracy']\n",
    "cv_f1_scores_rf_cor = cv_results_rf_cor['test_f1']\n",
    "\n",
    "# Calculate evaluation metrics for logistic regression on the test set\n",
    "precision_log_cor = precision_score(y_cor_test, model_cor_log.predict(X_cor_test))\n",
    "recall_log_cor = recall_score(y_cor_test, model_cor_log.predict(X_cor_test))\n",
    "\n",
    "# Calculate evaluation metric scores for random forest on the test set\n",
    "precision_rf_cor = precision_score(y_cor_test, model_cor_rf.predict(X_cor_test))\n",
    "recall_rf_cor = recall_score(y_cor_test, model_cor_rf.predict(X_cor_test))\n",
    "\n",
    "# Store the results in a new df\n",
    "results_cor = pd.DataFrame({\n",
    "    'Classifier': ['Logistic Regression', 'Random Forest'],\n",
    "    'Accuracy': [np.mean(cv_accuracy_scores_log_cor), np.mean(cv_accuracy_scores_rf_cor)],\n",
    "    'F1 Score': [np.mean(cv_f1_scores_log_cor), np.mean(cv_f1_scores_rf_cor)],\n",
    "    'Precision': [precision_log_cor, precision_rf_cor],\n",
    "    'Recall': [recall_log_cor, recall_rf_cor]\n",
    "})\n",
    "\n",
    "# List of feature names\n",
    "feature_names = X_cor.columns.tolist()\n",
    "\n",
    "# Dictionary to store the results\n",
    "feature_results = {}\n",
    "\n",
    "# Iterate over each feature to ablate\n",
    "for feature in feature_names:\n",
    "    # Iterate over each classifier\n",
    "    for classifier, model in zip(['Logistic Regression', 'Random Forest'], [model_cor_log, model_cor_rf]):\n",
    "        # Create a new model for each ablated feature using clone()\n",
    "        model = clone(model)\n",
    "        \n",
    "        # Check if the feature exists in the input data\n",
    "        if feature not in X_cor_train.columns:\n",
    "            continue\n",
    "\n",
    "        # Remove the feature from the input data\n",
    "        X_train_ablated = X_cor_train.drop(feature, axis=1)\n",
    "        X_test_ablated = X_cor_test.drop(feature, axis=1)\n",
    "\n",
    "        # Train the model\n",
    "        model.fit(X_train_ablated, y_cor_train)\n",
    "\n",
    "        # Evaluate the model on the test set\n",
    "        y_pred = model.predict(X_test_ablated)\n",
    "        classification_rep = classification_report(y_cor_test, y_pred, output_dict=True)\n",
    "        f1_measure = classification_rep['weighted avg']['f1-score']\n",
    "        delta_value = f1_measure - results_cor.loc[results_cor['Classifier'] == classifier, 'F1 Score'].values[0]\n",
    "\n",
    "        # Store the results\n",
    "        if feature not in feature_results:\n",
    "            feature_results[feature] = {}\n",
    "        feature_results[feature][classifier] = {'F1 Measure': f1_measure, 'Delta Value': delta_value}\n",
    "\n",
    "\n",
    "# Create empty lists to store the results\n",
    "feature_list = []\n",
    "classifier_list = []\n",
    "f1_measure_list = []\n",
    "delta_value_list = []\n",
    "\n",
    "# Iterate over the results dictionary\n",
    "for feature, classifier_results in feature_results.items():\n",
    "    for classifier, result in classifier_results.items():\n",
    "        # Append the feature, classifier, F1 measure, and delta value to the respective lists\n",
    "        feature_list.append(feature)\n",
    "        classifier_list.append(classifier)\n",
    "        f1_measure_list.append(result['F1 Measure'])\n",
    "        delta_value_list.append(result['Delta Value'])\n",
    "\n",
    "# Create a dictionary to store the data\n",
    "data_feat_abl = {\n",
    "    'Feature': feature_list,\n",
    "    'Classifier': classifier_list,\n",
    "    'F1 Measure': f1_measure_list,\n",
    "    'Delta Value': delta_value_list\n",
    "}\n",
    "\n",
    "df_ablation = pd.DataFrame(data_feat_abl)\n",
    "df_ablation"
   ]
  },
  {
   "cell_type": "code",
   "execution_count": null,
   "id": "c577e370",
   "metadata": {
    "execution": {
     "iopub.execute_input": "2023-07-31T12:38:36.754548Z",
     "iopub.status.busy": "2023-07-31T12:38:36.753622Z",
     "iopub.status.idle": "2023-07-31T12:38:38.083175Z",
     "shell.execute_reply": "2023-07-31T12:38:38.082214Z",
     "shell.execute_reply.started": "2023-07-31T12:38:36.754512Z"
    },
    "papermill": {
     "duration": null,
     "end_time": null,
     "exception": null,
     "start_time": null,
     "status": "pending"
    },
    "tags": []
   },
   "outputs": [],
   "source": [
    "# Sort the features by their delta value in ascending order\n",
    "df_sorted = df_ablation.sort_values(by='Delta Value', ascending=True)\n",
    "\n",
    "# Set the style of the plot\n",
    "sns.set_style(\"whitegrid\")\n",
    "\n",
    "# Plot the F1 scores for each classifier\n",
    "plt.figure(figsize=(10, 6))\n",
    "sns.barplot(data=df_sorted, x=\"Delta Value\", y=\"Feature\", hue=\"Classifier\", palette=\"Set2\")\n",
    "plt.xlabel('Delta Value')\n",
    "plt.ylabel('Feature')\n",
    "plt.title('F1 Scores for Each Classifier (Sorted by Delta Value)')\n",
    "plt.legend(title='Classifier', loc='lower right')\n",
    "\n",
    "# Adjust spacing between y-axis labels\n",
    "plt.subplots_adjust(hspace=0.4)\n",
    "\n",
    "plt.tight_layout()\n",
    "plt.show()"
   ]
  },
  {
   "cell_type": "markdown",
   "id": "9b24ec28",
   "metadata": {
    "papermill": {
     "duration": null,
     "end_time": null,
     "exception": null,
     "start_time": null,
     "status": "pending"
    },
    "tags": []
   },
   "source": [
    "#### C2. Emotion Task"
   ]
  },
  {
   "cell_type": "code",
   "execution_count": null,
   "id": "68084a84",
   "metadata": {
    "execution": {
     "iopub.execute_input": "2023-07-31T12:40:10.888356Z",
     "iopub.status.busy": "2023-07-31T12:40:10.887982Z",
     "iopub.status.idle": "2023-07-31T12:40:33.466441Z",
     "shell.execute_reply": "2023-07-31T12:40:33.465370Z",
     "shell.execute_reply.started": "2023-07-31T12:40:10.888324Z"
    },
    "papermill": {
     "duration": null,
     "end_time": null,
     "exception": null,
     "start_time": null,
     "status": "pending"
    },
    "tags": []
   },
   "outputs": [],
   "source": [
    "# Split the data into features (X) and target (y)\n",
    "X_cor_em = data[['LexDens', 'TTR', 'CTTR', 'VerbVar', 'NounVar', 'AdjVar', 'AdvVar', 'profanity_words', 'Conjunctions', 'Pronouns', 'Auxiliary Verbs', 'Modal Verbs', 'Determiners', 'Number of Phrases', 'NP Ratio', 'AdvP Ratio', 'AdjP Ratio', 'PrpP Ratio', 'VP Ratio', 'Complex Nominals', 'Subordinate Clauses', 'Relative Clauses', 'Contrast Markers', 'Emphatic Markers', 'nsubj', 'amod', 'Concessive Markers', 'Summary Markers', 'Negative Affixes', 'Present Verbs', 'Past Verbs', 'Future Verbs', 'Infinitive Verbs', 'has_passive_voice', 'negative_polarity', 'positive_polarity', 'avg_synsets', 'mean_concreteness', 'Named Entity Count']]\n",
    "y_cor_em = data['Misprediction']\n",
    "\n",
    "# Split the data into training and testing sets\n",
    "X_cor_train_em, X_cor_test_em, y_cor_train_em, y_cor_test_em = train_test_split(X_cor_em, y_cor_em, test_size=0.2, random_state=42)\n",
    "\n",
    "# Initialize Classifiers\n",
    "model_cor_log_em = LogisticRegression(max_iter=10000) # Create a logistic regression classifier\n",
    "model_cor_rf_em = RandomForestClassifier() # Create a Random Forest classifier\n",
    "\n",
    "# Fit the models to the training data\n",
    "model_cor_log_em.fit(X_cor_train_em, y_cor_train_em) # Logistic regression\n",
    "model_cor_rf_em.fit(X_cor_train_em, y_cor_train_em) # Random Forest\n",
    "\n",
    "# Set up k-fold cross-validation for logistic regression\n",
    "k = 10  # Number of folds\n",
    "scoring = {'accuracy': make_scorer(accuracy_score), 'f1': make_scorer(f1_score)}\n",
    "cv_results_log_cor_em = cross_validate(model_cor_log_em, X_cor_train_em, y_cor_train_em, cv=k, scoring=scoring)\n",
    "\n",
    "# Set up k-fold cross-validation for random forest\n",
    "cv_results_rf_cor_em = cross_validate(model_cor_rf_em, X_cor_train_em, y_cor_train_em, cv=k, scoring=scoring)\n",
    "\n",
    "# Extract evaluation metrics from the cross-validation results for logistic regression\n",
    "cv_accuracy_scores_log_cor_em = cv_results_log_cor_em['test_accuracy']\n",
    "cv_f1_scores_log_cor_em = cv_results_log_cor_em['test_f1']\n",
    "\n",
    "# Extract evaluation metrics from the cross-validation results for random forest\n",
    "cv_accuracy_scores_rf_cor_em = cv_results_rf_cor_em['test_accuracy']\n",
    "cv_f1_scores_rf_cor_em = cv_results_rf_cor_em['test_f1']\n",
    "\n",
    "# Calculate evaluation metrics for logistic regression on the test set\n",
    "precision_log_cor_em = precision_score(y_cor_test_em, model_cor_log_em.predict(X_cor_test_em))\n",
    "recall_log_cor_em = recall_score(y_cor_test_em, model_cor_log_em.predict(X_cor_test_em))\n",
    "\n",
    "# Calculate evaluation metric scores for random forest on the test set\n",
    "precision_rf_cor_em = precision_score(y_cor_test_em, model_cor_rf_em.predict(X_cor_test_em))\n",
    "recall_rf_cor_em = recall_score(y_cor_test_em, model_cor_rf_em.predict(X_cor_test_em))\n",
    "\n",
    "# Store the resutls in a new df\n",
    "results_cor_em = pd.DataFrame({\n",
    "    'Classifier': ['Logistic Regression', 'Random Forest'],\n",
    "    'Accuracy': [np.mean(cv_accuracy_scores_log_cor_em), np.mean(cv_accuracy_scores_rf_cor_em)],\n",
    "    'F1 Score': [np.mean(cv_f1_scores_log_cor_em), np.mean(cv_f1_scores_rf_cor_em)],\n",
    "    'Precision': [precision_log_cor_em, precision_rf_cor_em],\n",
    "    'Recall': [recall_log_cor_em, recall_rf_cor_em]\n",
    "})\n",
    "\n",
    "# List of feature names\n",
    "feature_names_em = X_cor_em.columns.tolist()\n",
    "\n",
    "# Dictionary to store the results\n",
    "feature_results_em = {}\n",
    "\n",
    "# Iterate over each feature to ablate\n",
    "for feature in feature_names_em:\n",
    "    # Iterate over each classifier\n",
    "    for classifier, model in zip(['Logistic Regression', 'Random Forest'], [model_cor_log_em, model_cor_rf_em]):\n",
    "        # Create a new model for each ablated feature\n",
    "        model = deepcopy(model)\n",
    "        \n",
    "        # Check if the feature exists in the input data\n",
    "        if feature not in X_cor_train_em.columns:\n",
    "            continue\n",
    "\n",
    "        # Remove the feature from the input data\n",
    "        X_train_ablated_em = X_cor_train_em.drop(feature, axis=1)\n",
    "        X_test_ablated_em = X_cor_test_em.drop(feature, axis=1)\n",
    "\n",
    "        # Train the model\n",
    "        model.fit(X_train_ablated_em, y_cor_train_em)\n",
    "\n",
    "        # Evaluate the model on the test set\n",
    "        y_pred_em = model.predict(X_test_ablated_em)\n",
    "        classification_rep_em = classification_report(y_cor_test_em, y_pred_em, output_dict=True)\n",
    "        f1_measure_em = classification_rep_em['weighted avg']['f1-score']\n",
    "        delta_value_em = f1_measure_em - results_cor_em.loc[results_cor_em['Classifier'] == classifier, 'F1 Score'].values[0]\n",
    "\n",
    "        # Store the results\n",
    "        if feature not in feature_results_em:\n",
    "            feature_results_em[feature] = {}\n",
    "        feature_results_em[feature][classifier] = {'F1 Measure': f1_measure_em, 'Delta Value': delta_value_em}\n",
    "\n",
    "# Create empty lists to store the results\n",
    "feature_list_em = []\n",
    "classifier_list_em = []\n",
    "f1_measure_list_em = []\n",
    "delta_value_list_em = []\n",
    "\n",
    "# Iterate over the results dictionary\n",
    "for feature, classifier_results in feature_results_em.items():\n",
    "    for classifier, result in classifier_results.items():\n",
    "        # Append the feature, classifier, F1 measure, and delta value to the respective lists\n",
    "        feature_list_em.append(feature)\n",
    "        classifier_list_em.append(classifier)\n",
    "        f1_measure_list_em.append(result['F1 Measure'])\n",
    "        delta_value_list_em.append(result['Delta Value'])\n",
    "\n",
    "# Create a dictionary to store the data\n",
    "data_feat_abl_em = {\n",
    "    'Feature': feature_list_em,\n",
    "    'Classifier': classifier_list_em,\n",
    "    'F1 Measure': f1_measure_list_em,\n",
    "    'Delta Value': delta_value_list_em\n",
    "}\n",
    "\n",
    "df_ablation_em = pd.DataFrame(data_feat_abl_em)\n",
    "df_ablation_em"
   ]
  },
  {
   "cell_type": "code",
   "execution_count": null,
   "id": "e2e45af6",
   "metadata": {
    "execution": {
     "iopub.execute_input": "2023-07-31T12:43:39.788823Z",
     "iopub.status.busy": "2023-07-31T12:43:39.788403Z",
     "iopub.status.idle": "2023-07-31T12:43:40.842535Z",
     "shell.execute_reply": "2023-07-31T12:43:40.841346Z",
     "shell.execute_reply.started": "2023-07-31T12:43:39.788790Z"
    },
    "papermill": {
     "duration": null,
     "end_time": null,
     "exception": null,
     "start_time": null,
     "status": "pending"
    },
    "tags": []
   },
   "outputs": [],
   "source": [
    "# Sort the features by their delta value in ascending order\n",
    "df_sorted_em = df_ablation_em.sort_values(by='Delta Value', ascending=True)\n",
    "\n",
    "# Set the style of the plot\n",
    "sns.set_style(\"whitegrid\")\n",
    "\n",
    "# Plot the F1 scores for each classifier\n",
    "plt.figure(figsize=(10, 6))\n",
    "sns.barplot(data=df_sorted_em, x=\"Delta Value\", y=\"Feature\", hue=\"Classifier\", palette=\"Set2\")\n",
    "plt.xlabel('Delta Value')\n",
    "plt.ylabel('Feature')\n",
    "plt.title('F1 Scores for Each Classifier (Sorted by Delta Value)')\n",
    "plt.legend(title='Classifier', loc='lower right')\n",
    "\n",
    "# Adjust spacing between y-axis labels\n",
    "plt.subplots_adjust(hspace=0.4)\n",
    "\n",
    "plt.tight_layout()\n",
    "plt.show()"
   ]
  },
  {
   "cell_type": "markdown",
   "id": "74524935",
   "metadata": {
    "papermill": {
     "duration": null,
     "end_time": null,
     "exception": null,
     "start_time": null,
     "status": "pending"
    },
    "tags": []
   },
   "source": [
    "# PART 8: \n",
    "## INSIGHTS INTO MODEL'S UNCERTAINTY\n",
    "### Linear Regression\n",
    "#### 8.1) Sentiment Analysis Task"
   ]
  },
  {
   "cell_type": "code",
   "execution_count": null,
   "id": "72b196f7",
   "metadata": {
    "execution": {
     "iopub.execute_input": "2023-07-31T12:48:51.410145Z",
     "iopub.status.busy": "2023-07-31T12:48:51.409779Z",
     "iopub.status.idle": "2023-07-31T12:48:51.425407Z",
     "shell.execute_reply": "2023-07-31T12:48:51.424266Z",
     "shell.execute_reply.started": "2023-07-31T12:48:51.410115Z"
    },
    "papermill": {
     "duration": null,
     "end_time": null,
     "exception": null,
     "start_time": null,
     "status": "pending"
    },
    "tags": []
   },
   "outputs": [],
   "source": [
    "# Extract only the mispredicted examples (labeled with 1)\n",
    "df_prob = data[data['Misprediction'] == 1]\n",
    "\n",
    "# Specify specific features from df_prob\n",
    "X = df_prob[['Relative Clauses', 'Contrast Markers','CTTR', 'Number of Phrases','nsubj', 'amod', 'VP Ratio', 'LexDens', 'TTR']]\n",
    "\n",
    "y = df_prob['Probability']\n",
    "\n",
    "# Create a linear regression model\n",
    "model = LinearRegression()\n",
    "\n",
    "# Fit the linear regression model to the training data\n",
    "model.fit(X, y)\n",
    "\n",
    "# Extract the coefficients and intercept\n",
    "coefficients = model.coef_\n",
    "intercept = model.intercept_\n",
    "\n",
    "# Print the coefficients and intercept\n",
    "print(\"Coefficients:\", coefficients)\n",
    "print(\"Intercept:\", intercept)"
   ]
  },
  {
   "cell_type": "code",
   "execution_count": null,
   "id": "c71a1f3e",
   "metadata": {
    "execution": {
     "iopub.execute_input": "2023-07-31T12:48:59.088243Z",
     "iopub.status.busy": "2023-07-31T12:48:59.087874Z",
     "iopub.status.idle": "2023-07-31T12:48:59.113960Z",
     "shell.execute_reply": "2023-07-31T12:48:59.113039Z",
     "shell.execute_reply.started": "2023-07-31T12:48:59.088214Z"
    },
    "papermill": {
     "duration": null,
     "end_time": null,
     "exception": null,
     "start_time": null,
     "status": "pending"
    },
    "tags": []
   },
   "outputs": [],
   "source": [
    "# Add a constant column to the feature matrix\n",
    "X = sm.add_constant(X)\n",
    "\n",
    "# Create a model\n",
    "model = sm.OLS(y, X)\n",
    "\n",
    "# Fit the model to the data\n",
    "results = model.fit()\n",
    "\n",
    "# Print the summary report\n",
    "print(results.summary())"
   ]
  },
  {
   "cell_type": "markdown",
   "id": "529725d0",
   "metadata": {
    "papermill": {
     "duration": null,
     "end_time": null,
     "exception": null,
     "start_time": null,
     "status": "pending"
    },
    "tags": []
   },
   "source": [
    "#### 8.2) Emotion Analysis Task"
   ]
  },
  {
   "cell_type": "code",
   "execution_count": null,
   "id": "dbb8fa90",
   "metadata": {
    "execution": {
     "iopub.execute_input": "2023-07-31T12:49:20.420691Z",
     "iopub.status.busy": "2023-07-31T12:49:20.420081Z",
     "iopub.status.idle": "2023-07-31T12:49:20.438460Z",
     "shell.execute_reply": "2023-07-31T12:49:20.437265Z",
     "shell.execute_reply.started": "2023-07-31T12:49:20.420648Z"
    },
    "papermill": {
     "duration": null,
     "end_time": null,
     "exception": null,
     "start_time": null,
     "status": "pending"
    },
    "tags": []
   },
   "outputs": [],
   "source": [
    "# Extract only the mispredicted examples (labeled with 1) from df_prob_em\n",
    "df_prob_em = data_em[data_em['Misprediction'] == 1]\n",
    "\n",
    "# Specify specific features from df_prob_em\n",
    "X_em = df_prob_em[['negative_polarity','VerbVar', 'NounVar', 'Past Verbs', 'PrpP Ratio', 'AdvP Ratio','avg_synsets', 'nsubj', 'amod']]\n",
    "\n",
    "y_em = df_prob_em['Probability']\n",
    "\n",
    "# Create an instance of LinearRegression\n",
    "model_em = LinearRegression()\n",
    "\n",
    "# Fit the model to the training data\n",
    "model_em.fit(X_em, y_em)\n",
    "\n",
    "# Extract the coefficients and intercept\n",
    "coefficients_em = model_em.coef_\n",
    "intercept_em = model_em.intercept_\n",
    "\n",
    "# Print the coefficients and intercept\n",
    "print(\"Coefficients:\", coefficients_em)\n",
    "print(\"Intercept:\", intercept_em)"
   ]
  },
  {
   "cell_type": "code",
   "execution_count": null,
   "id": "9acd637a",
   "metadata": {
    "execution": {
     "iopub.execute_input": "2023-07-31T12:49:26.841162Z",
     "iopub.status.busy": "2023-07-31T12:49:26.840792Z",
     "iopub.status.idle": "2023-07-31T12:49:27.163487Z",
     "shell.execute_reply": "2023-07-31T12:49:27.162356Z",
     "shell.execute_reply.started": "2023-07-31T12:49:26.841131Z"
    },
    "papermill": {
     "duration": null,
     "end_time": null,
     "exception": null,
     "start_time": null,
     "status": "pending"
    },
    "tags": []
   },
   "outputs": [],
   "source": [
    "# Fit the linear regression model\n",
    "X_em = sm.add_constant(X_em)\n",
    "model_em = sm.OLS(y_em, X_em)\n",
    "results_em = model_em.fit()\n",
    "\n",
    "# Extract significant coefficients\n",
    "significant_coeffs_em = results_em.params[results_em.pvalues < 0.05]\n",
    "\n",
    "# Exclude the constant term from the plot\n",
    "significant_coeffs_em = significant_coeffs_em[1:]\n",
    "\n",
    "# Determine colors based on coefficient direction\n",
    "colors = ['tab:red' if c < 0 else 'tab:cyan' for c in significant_coeffs_em]\n",
    "\n",
    "# Plot significant coefficients with colors\n",
    "plt.figure(figsize=(8, 6))\n",
    "plt.barh(significant_coeffs_em.index, significant_coeffs_em.values, color=colors)\n",
    "plt.xlabel('Coefficient Value')\n",
    "plt.ylabel('Variable')\n",
    "plt.title('Significant Coefficients')\n",
    "plt.show()"
   ]
  },
  {
   "cell_type": "markdown",
   "id": "a4d66b39",
   "metadata": {
    "papermill": {
     "duration": null,
     "end_time": null,
     "exception": null,
     "start_time": null,
     "status": "pending"
    },
    "tags": []
   },
   "source": [
    "# PART 9: \n",
    "## IMPROVING MODEL'S ACCURACY\n",
    "#### 9.1) Sentiment Analysis Task"
   ]
  },
  {
   "cell_type": "code",
   "execution_count": null,
   "id": "c735d23c",
   "metadata": {
    "papermill": {
     "duration": null,
     "end_time": null,
     "exception": null,
     "start_time": null,
     "status": "pending"
    },
    "tags": []
   },
   "outputs": [],
   "source": [
    "# List of words to remove\n",
    "words_to_remove = ['however', 'nevertheless', 'yet', 'in contrast',\n",
    "                   'despite', 'although', 'even though', 'but']\n",
    "\n",
    "# Function for removing the specified contrast markers using regex\n",
    "def remove_words(text):\n",
    "    for word in words_to_remove:\n",
    "        pattern = r'\\b' + re.escape(word) + r'\\b'  # Create regex pattern with word boundaries\n",
    "        text = re.sub(pattern, '', text, flags=re.IGNORECASE)  # Remove the word from the text\n",
    "    return text"
   ]
  },
  {
   "cell_type": "markdown",
   "id": "d0e74437",
   "metadata": {
    "papermill": {
     "duration": null,
     "end_time": null,
     "exception": null,
     "start_time": null,
     "status": "pending"
    },
    "tags": []
   },
   "source": [
    "#### 9.2) Emotion Analysis Task"
   ]
  },
  {
   "cell_type": "code",
   "execution_count": null,
   "id": "0ba40724",
   "metadata": {
    "papermill": {
     "duration": null,
     "end_time": null,
     "exception": null,
     "start_time": null,
     "status": "pending"
    },
    "tags": []
   },
   "outputs": [],
   "source": [
    "# Function for substituting nouns with their most basic sysnonym in WordNet\n",
    "def substitute_words_with_easier(text):\n",
    "    tokens = nltk.word_tokenize(text)\n",
    "    pos_tags = nltk.pos_tag(tokens)\n",
    "    \n",
    "    modified_tokens = []\n",
    "    for token, pos in pos_tags:\n",
    "        if pos.startswith('NN'):\n",
    "            synsets = wordnet.synsets(token, pos='n')\n",
    "            if synsets:\n",
    "                easy_word = synsets[0].lemmas()[0].name()\n",
    "                modified_tokens.append(easy_word)\n",
    "            else:\n",
    "                modified_tokens.append(token)\n",
    "        elif pos.startswith('VB'):\n",
    "            synsets = wordnet.synsets(token, pos='v')\n",
    "            if synsets:\n",
    "                easy_word = synsets[0].lemmas()[0].name()\n",
    "                modified_tokens.append(easy_word)\n",
    "            else:\n",
    "                modified_tokens.append(token)\n",
    "        else:\n",
    "            modified_tokens.append(token)\n",
    "    \n",
    "    modified_text = ' '.join(modified_tokens)\n",
    "    return modified_text"
   ]
  }
 ],
 "metadata": {
  "kernelspec": {
   "display_name": "Python 3",
   "language": "python",
   "name": "python3"
  },
  "language_info": {
   "codemirror_mode": {
    "name": "ipython",
    "version": 3
   },
   "file_extension": ".py",
   "mimetype": "text/x-python",
   "name": "python",
   "nbconvert_exporter": "python",
   "pygments_lexer": "ipython3",
   "version": "3.10.12"
  },
  "papermill": {
   "default_parameters": {},
   "duration": 3117.435481,
   "end_time": "2023-08-01T10:23:59.977609",
   "environment_variables": {},
   "exception": true,
   "input_path": "__notebook__.ipynb",
   "output_path": "__notebook__.ipynb",
   "parameters": {},
   "start_time": "2023-08-01T09:32:02.542128",
   "version": "2.4.0"
  },
  "widgets": {
   "application/vnd.jupyter.widget-state+json": {
    "state": {
     "027aac375bc0418dba93bd1ccc56aacc": {
      "model_module": "@jupyter-widgets/controls",
      "model_module_version": "1.5.0",
      "model_name": "DescriptionStyleModel",
      "state": {
       "_model_module": "@jupyter-widgets/controls",
       "_model_module_version": "1.5.0",
       "_model_name": "DescriptionStyleModel",
       "_view_count": null,
       "_view_module": "@jupyter-widgets/base",
       "_view_module_version": "1.2.0",
       "_view_name": "StyleView",
       "description_width": ""
      }
     },
     "02d4754ed76b4efbac8f894640596c79": {
      "model_module": "@jupyter-widgets/controls",
      "model_module_version": "1.5.0",
      "model_name": "ProgressStyleModel",
      "state": {
       "_model_module": "@jupyter-widgets/controls",
       "_model_module_version": "1.5.0",
       "_model_name": "ProgressStyleModel",
       "_view_count": null,
       "_view_module": "@jupyter-widgets/base",
       "_view_module_version": "1.2.0",
       "_view_name": "StyleView",
       "bar_color": null,
       "description_width": ""
      }
     },
     "0304f2c3f9c8468fa62a26ff97b72e7f": {
      "model_module": "@jupyter-widgets/controls",
      "model_module_version": "1.5.0",
      "model_name": "FloatProgressModel",
      "state": {
       "_dom_classes": [],
       "_model_module": "@jupyter-widgets/controls",
       "_model_module_version": "1.5.0",
       "_model_name": "FloatProgressModel",
       "_view_count": null,
       "_view_module": "@jupyter-widgets/controls",
       "_view_module_version": "1.5.0",
       "_view_name": "ProgressView",
       "bar_style": "success",
       "description": "",
       "description_tooltip": null,
       "layout": "IPY_MODEL_2033bdfbe70a441b9a20ed387bb9e335",
       "max": 570.0,
       "min": 0.0,
       "orientation": "horizontal",
       "style": "IPY_MODEL_7565d7981e9e49249696c16ce0a08e8b",
       "value": 570.0
      }
     },
     "04d2ccbacc514359920867312c62bb8e": {
      "model_module": "@jupyter-widgets/controls",
      "model_module_version": "1.5.0",
      "model_name": "HTMLModel",
      "state": {
       "_dom_classes": [],
       "_model_module": "@jupyter-widgets/controls",
       "_model_module_version": "1.5.0",
       "_model_name": "HTMLModel",
       "_view_count": null,
       "_view_module": "@jupyter-widgets/controls",
       "_view_module_version": "1.5.0",
       "_view_name": "HTMLView",
       "description": "",
       "description_tooltip": null,
       "layout": "IPY_MODEL_cdde843c0dc24f0083831e98945463ee",
       "placeholder": "​",
       "style": "IPY_MODEL_603b1498fb524b6e93ffa99aabf66c2b",
       "value": " 440M/440M [00:01&lt;00:00, 334MB/s]"
      }
     },
     "0571ee0c4b6f41d98a02ef022fdc645e": {
      "model_module": "@jupyter-widgets/base",
      "model_module_version": "1.2.0",
      "model_name": "LayoutModel",
      "state": {
       "_model_module": "@jupyter-widgets/base",
       "_model_module_version": "1.2.0",
       "_model_name": "LayoutModel",
       "_view_count": null,
       "_view_module": "@jupyter-widgets/base",
       "_view_module_version": "1.2.0",
       "_view_name": "LayoutView",
       "align_content": null,
       "align_items": null,
       "align_self": null,
       "border": null,
       "bottom": null,
       "display": null,
       "flex": null,
       "flex_flow": null,
       "grid_area": null,
       "grid_auto_columns": null,
       "grid_auto_flow": null,
       "grid_auto_rows": null,
       "grid_column": null,
       "grid_gap": null,
       "grid_row": null,
       "grid_template_areas": null,
       "grid_template_columns": null,
       "grid_template_rows": null,
       "height": null,
       "justify_content": null,
       "justify_items": null,
       "left": null,
       "margin": null,
       "max_height": null,
       "max_width": null,
       "min_height": null,
       "min_width": null,
       "object_fit": null,
       "object_position": null,
       "order": null,
       "overflow": null,
       "overflow_x": null,
       "overflow_y": null,
       "padding": null,
       "right": null,
       "top": null,
       "visibility": null,
       "width": null
      }
     },
     "080a700d302443599cddff19a8e64aab": {
      "model_module": "@jupyter-widgets/base",
      "model_module_version": "1.2.0",
      "model_name": "LayoutModel",
      "state": {
       "_model_module": "@jupyter-widgets/base",
       "_model_module_version": "1.2.0",
       "_model_name": "LayoutModel",
       "_view_count": null,
       "_view_module": "@jupyter-widgets/base",
       "_view_module_version": "1.2.0",
       "_view_name": "LayoutView",
       "align_content": null,
       "align_items": null,
       "align_self": null,
       "border": null,
       "bottom": null,
       "display": null,
       "flex": null,
       "flex_flow": null,
       "grid_area": null,
       "grid_auto_columns": null,
       "grid_auto_flow": null,
       "grid_auto_rows": null,
       "grid_column": null,
       "grid_gap": null,
       "grid_row": null,
       "grid_template_areas": null,
       "grid_template_columns": null,
       "grid_template_rows": null,
       "height": null,
       "justify_content": null,
       "justify_items": null,
       "left": null,
       "margin": null,
       "max_height": null,
       "max_width": null,
       "min_height": null,
       "min_width": null,
       "object_fit": null,
       "object_position": null,
       "order": null,
       "overflow": null,
       "overflow_x": null,
       "overflow_y": null,
       "padding": null,
       "right": null,
       "top": null,
       "visibility": null,
       "width": null
      }
     },
     "0b917f9db1524cfc99fbb27837747db6": {
      "model_module": "@jupyter-widgets/controls",
      "model_module_version": "1.5.0",
      "model_name": "DescriptionStyleModel",
      "state": {
       "_model_module": "@jupyter-widgets/controls",
       "_model_module_version": "1.5.0",
       "_model_name": "DescriptionStyleModel",
       "_view_count": null,
       "_view_module": "@jupyter-widgets/base",
       "_view_module_version": "1.2.0",
       "_view_name": "StyleView",
       "description_width": ""
      }
     },
     "0eee912e948d4f818fa614a5cbefd4aa": {
      "model_module": "@jupyter-widgets/base",
      "model_module_version": "1.2.0",
      "model_name": "LayoutModel",
      "state": {
       "_model_module": "@jupyter-widgets/base",
       "_model_module_version": "1.2.0",
       "_model_name": "LayoutModel",
       "_view_count": null,
       "_view_module": "@jupyter-widgets/base",
       "_view_module_version": "1.2.0",
       "_view_name": "LayoutView",
       "align_content": null,
       "align_items": null,
       "align_self": null,
       "border": null,
       "bottom": null,
       "display": null,
       "flex": null,
       "flex_flow": null,
       "grid_area": null,
       "grid_auto_columns": null,
       "grid_auto_flow": null,
       "grid_auto_rows": null,
       "grid_column": null,
       "grid_gap": null,
       "grid_row": null,
       "grid_template_areas": null,
       "grid_template_columns": null,
       "grid_template_rows": null,
       "height": null,
       "justify_content": null,
       "justify_items": null,
       "left": null,
       "margin": null,
       "max_height": null,
       "max_width": null,
       "min_height": null,
       "min_width": null,
       "object_fit": null,
       "object_position": null,
       "order": null,
       "overflow": null,
       "overflow_x": null,
       "overflow_y": null,
       "padding": null,
       "right": null,
       "top": null,
       "visibility": null,
       "width": null
      }
     },
     "197fd7a78754474982d21450c66f456f": {
      "model_module": "@jupyter-widgets/controls",
      "model_module_version": "1.5.0",
      "model_name": "HTMLModel",
      "state": {
       "_dom_classes": [],
       "_model_module": "@jupyter-widgets/controls",
       "_model_module_version": "1.5.0",
       "_model_name": "HTMLModel",
       "_view_count": null,
       "_view_module": "@jupyter-widgets/controls",
       "_view_module_version": "1.5.0",
       "_view_name": "HTMLView",
       "description": "",
       "description_tooltip": null,
       "layout": "IPY_MODEL_3d240aa73e674c219338dd3f6ca7b733",
       "placeholder": "​",
       "style": "IPY_MODEL_027aac375bc0418dba93bd1ccc56aacc",
       "value": " 19459/19459 [00:30&lt;00:00, 588.34ex/s]"
      }
     },
     "2033bdfbe70a441b9a20ed387bb9e335": {
      "model_module": "@jupyter-widgets/base",
      "model_module_version": "1.2.0",
      "model_name": "LayoutModel",
      "state": {
       "_model_module": "@jupyter-widgets/base",
       "_model_module_version": "1.2.0",
       "_model_name": "LayoutModel",
       "_view_count": null,
       "_view_module": "@jupyter-widgets/base",
       "_view_module_version": "1.2.0",
       "_view_name": "LayoutView",
       "align_content": null,
       "align_items": null,
       "align_self": null,
       "border": null,
       "bottom": null,
       "display": null,
       "flex": null,
       "flex_flow": null,
       "grid_area": null,
       "grid_auto_columns": null,
       "grid_auto_flow": null,
       "grid_auto_rows": null,
       "grid_column": null,
       "grid_gap": null,
       "grid_row": null,
       "grid_template_areas": null,
       "grid_template_columns": null,
       "grid_template_rows": null,
       "height": null,
       "justify_content": null,
       "justify_items": null,
       "left": null,
       "margin": null,
       "max_height": null,
       "max_width": null,
       "min_height": null,
       "min_width": null,
       "object_fit": null,
       "object_position": null,
       "order": null,
       "overflow": null,
       "overflow_x": null,
       "overflow_y": null,
       "padding": null,
       "right": null,
       "top": null,
       "visibility": null,
       "width": null
      }
     },
     "20ba526568d644fbad7f3916acbd323d": {
      "model_module": "@jupyter-widgets/base",
      "model_module_version": "1.2.0",
      "model_name": "LayoutModel",
      "state": {
       "_model_module": "@jupyter-widgets/base",
       "_model_module_version": "1.2.0",
       "_model_name": "LayoutModel",
       "_view_count": null,
       "_view_module": "@jupyter-widgets/base",
       "_view_module_version": "1.2.0",
       "_view_name": "LayoutView",
       "align_content": null,
       "align_items": null,
       "align_self": null,
       "border": null,
       "bottom": null,
       "display": null,
       "flex": null,
       "flex_flow": null,
       "grid_area": null,
       "grid_auto_columns": null,
       "grid_auto_flow": null,
       "grid_auto_rows": null,
       "grid_column": null,
       "grid_gap": null,
       "grid_row": null,
       "grid_template_areas": null,
       "grid_template_columns": null,
       "grid_template_rows": null,
       "height": null,
       "justify_content": null,
       "justify_items": null,
       "left": null,
       "margin": null,
       "max_height": null,
       "max_width": null,
       "min_height": null,
       "min_width": null,
       "object_fit": null,
       "object_position": null,
       "order": null,
       "overflow": null,
       "overflow_x": null,
       "overflow_y": null,
       "padding": null,
       "right": null,
       "top": null,
       "visibility": null,
       "width": null
      }
     },
     "216fa0f317884536b8b87f532a545dbe": {
      "model_module": "@jupyter-widgets/controls",
      "model_module_version": "1.5.0",
      "model_name": "FloatProgressModel",
      "state": {
       "_dom_classes": [],
       "_model_module": "@jupyter-widgets/controls",
       "_model_module_version": "1.5.0",
       "_model_name": "FloatProgressModel",
       "_view_count": null,
       "_view_module": "@jupyter-widgets/controls",
       "_view_module_version": "1.5.0",
       "_view_name": "ProgressView",
       "bar_style": "success",
       "description": "",
       "description_tooltip": null,
       "layout": "IPY_MODEL_8e8d2f82ddb04139ba28aa92455e3410",
       "max": 19459.0,
       "min": 0.0,
       "orientation": "horizontal",
       "style": "IPY_MODEL_02d4754ed76b4efbac8f894640596c79",
       "value": 19459.0
      }
     },
     "2755a49e17ee44caad14a046b4051169": {
      "model_module": "@jupyter-widgets/controls",
      "model_module_version": "1.5.0",
      "model_name": "ProgressStyleModel",
      "state": {
       "_model_module": "@jupyter-widgets/controls",
       "_model_module_version": "1.5.0",
       "_model_name": "ProgressStyleModel",
       "_view_count": null,
       "_view_module": "@jupyter-widgets/base",
       "_view_module_version": "1.2.0",
       "_view_name": "StyleView",
       "bar_color": null,
       "description_width": ""
      }
     },
     "280095681ee849818d7a831a5ae6d121": {
      "model_module": "@jupyter-widgets/controls",
      "model_module_version": "1.5.0",
      "model_name": "DescriptionStyleModel",
      "state": {
       "_model_module": "@jupyter-widgets/controls",
       "_model_module_version": "1.5.0",
       "_model_name": "DescriptionStyleModel",
       "_view_count": null,
       "_view_module": "@jupyter-widgets/base",
       "_view_module_version": "1.2.0",
       "_view_name": "StyleView",
       "description_width": ""
      }
     },
     "2f84fad76e4a41abac242df07289f9d6": {
      "model_module": "@jupyter-widgets/controls",
      "model_module_version": "1.5.0",
      "model_name": "ProgressStyleModel",
      "state": {
       "_model_module": "@jupyter-widgets/controls",
       "_model_module_version": "1.5.0",
       "_model_name": "ProgressStyleModel",
       "_view_count": null,
       "_view_module": "@jupyter-widgets/base",
       "_view_module_version": "1.2.0",
       "_view_name": "StyleView",
       "bar_color": null,
       "description_width": ""
      }
     },
     "314ad96e64bd41688d7c99cf30c1172c": {
      "model_module": "@jupyter-widgets/controls",
      "model_module_version": "1.5.0",
      "model_name": "HTMLModel",
      "state": {
       "_dom_classes": [],
       "_model_module": "@jupyter-widgets/controls",
       "_model_module_version": "1.5.0",
       "_model_name": "HTMLModel",
       "_view_count": null,
       "_view_module": "@jupyter-widgets/controls",
       "_view_module_version": "1.5.0",
       "_view_name": "HTMLView",
       "description": "",
       "description_tooltip": null,
       "layout": "IPY_MODEL_aeffeb6ba3284939970fd170580268c2",
       "placeholder": "​",
       "style": "IPY_MODEL_a36331d32245439aa8af82a683602f89",
       "value": " 570/570 [00:00&lt;00:00, 38.3kB/s]"
      }
     },
     "33ddf9806e6447b89c33a1bfff65a5d4": {
      "model_module": "@jupyter-widgets/controls",
      "model_module_version": "1.5.0",
      "model_name": "HTMLModel",
      "state": {
       "_dom_classes": [],
       "_model_module": "@jupyter-widgets/controls",
       "_model_module_version": "1.5.0",
       "_model_name": "HTMLModel",
       "_view_count": null,
       "_view_module": "@jupyter-widgets/controls",
       "_view_module_version": "1.5.0",
       "_view_name": "HTMLView",
       "description": "",
       "description_tooltip": null,
       "layout": "IPY_MODEL_4d5e45446319445bad126517838aaf34",
       "placeholder": "​",
       "style": "IPY_MODEL_da8888efa9294463ac38e1c8d50121c3",
       "value": " 15021/15021 [00:15&lt;00:00, 757.09ex/s]"
      }
     },
     "370fd81e9cce4ee2b46029dfa0115b1b": {
      "model_module": "@jupyter-widgets/base",
      "model_module_version": "1.2.0",
      "model_name": "LayoutModel",
      "state": {
       "_model_module": "@jupyter-widgets/base",
       "_model_module_version": "1.2.0",
       "_model_name": "LayoutModel",
       "_view_count": null,
       "_view_module": "@jupyter-widgets/base",
       "_view_module_version": "1.2.0",
       "_view_name": "LayoutView",
       "align_content": null,
       "align_items": null,
       "align_self": null,
       "border": null,
       "bottom": null,
       "display": null,
       "flex": null,
       "flex_flow": null,
       "grid_area": null,
       "grid_auto_columns": null,
       "grid_auto_flow": null,
       "grid_auto_rows": null,
       "grid_column": null,
       "grid_gap": null,
       "grid_row": null,
       "grid_template_areas": null,
       "grid_template_columns": null,
       "grid_template_rows": null,
       "height": null,
       "justify_content": null,
       "justify_items": null,
       "left": null,
       "margin": null,
       "max_height": null,
       "max_width": null,
       "min_height": null,
       "min_width": null,
       "object_fit": null,
       "object_position": null,
       "order": null,
       "overflow": null,
       "overflow_x": null,
       "overflow_y": null,
       "padding": null,
       "right": null,
       "top": null,
       "visibility": null,
       "width": null
      }
     },
     "3adf6fdd3ae342c8a7573892815d0b0b": {
      "model_module": "@jupyter-widgets/base",
      "model_module_version": "1.2.0",
      "model_name": "LayoutModel",
      "state": {
       "_model_module": "@jupyter-widgets/base",
       "_model_module_version": "1.2.0",
       "_model_name": "LayoutModel",
       "_view_count": null,
       "_view_module": "@jupyter-widgets/base",
       "_view_module_version": "1.2.0",
       "_view_name": "LayoutView",
       "align_content": null,
       "align_items": null,
       "align_self": null,
       "border": null,
       "bottom": null,
       "display": null,
       "flex": null,
       "flex_flow": null,
       "grid_area": null,
       "grid_auto_columns": null,
       "grid_auto_flow": null,
       "grid_auto_rows": null,
       "grid_column": null,
       "grid_gap": null,
       "grid_row": null,
       "grid_template_areas": null,
       "grid_template_columns": null,
       "grid_template_rows": null,
       "height": null,
       "justify_content": null,
       "justify_items": null,
       "left": null,
       "margin": null,
       "max_height": null,
       "max_width": null,
       "min_height": null,
       "min_width": null,
       "object_fit": null,
       "object_position": null,
       "order": null,
       "overflow": null,
       "overflow_x": null,
       "overflow_y": null,
       "padding": null,
       "right": null,
       "top": null,
       "visibility": null,
       "width": null
      }
     },
     "3b8352b751134d2f87aea873a48dab36": {
      "model_module": "@jupyter-widgets/controls",
      "model_module_version": "1.5.0",
      "model_name": "FloatProgressModel",
      "state": {
       "_dom_classes": [],
       "_model_module": "@jupyter-widgets/controls",
       "_model_module_version": "1.5.0",
       "_model_name": "FloatProgressModel",
       "_view_count": null,
       "_view_module": "@jupyter-widgets/controls",
       "_view_module_version": "1.5.0",
       "_view_name": "ProgressView",
       "bar_style": "success",
       "description": "",
       "description_tooltip": null,
       "layout": "IPY_MODEL_4253435853ce4da287470a61dc424e70",
       "max": 6438.0,
       "min": 0.0,
       "orientation": "horizontal",
       "style": "IPY_MODEL_2755a49e17ee44caad14a046b4051169",
       "value": 6438.0
      }
     },
     "3c798721a3fa481db20188b5ef60151a": {
      "model_module": "@jupyter-widgets/controls",
      "model_module_version": "1.5.0",
      "model_name": "HBoxModel",
      "state": {
       "_dom_classes": [],
       "_model_module": "@jupyter-widgets/controls",
       "_model_module_version": "1.5.0",
       "_model_name": "HBoxModel",
       "_view_count": null,
       "_view_module": "@jupyter-widgets/controls",
       "_view_module_version": "1.5.0",
       "_view_name": "HBoxView",
       "box_style": "",
       "children": [
        "IPY_MODEL_3e613167d19f426ba864a9d6b04b3bc1",
        "IPY_MODEL_b8c136022f0d46e184f4b8bd23792c26",
        "IPY_MODEL_04d2ccbacc514359920867312c62bb8e"
       ],
       "layout": "IPY_MODEL_e158ab3961d04825a10d3bd10293fa4f"
      }
     },
     "3d240aa73e674c219338dd3f6ca7b733": {
      "model_module": "@jupyter-widgets/base",
      "model_module_version": "1.2.0",
      "model_name": "LayoutModel",
      "state": {
       "_model_module": "@jupyter-widgets/base",
       "_model_module_version": "1.2.0",
       "_model_name": "LayoutModel",
       "_view_count": null,
       "_view_module": "@jupyter-widgets/base",
       "_view_module_version": "1.2.0",
       "_view_name": "LayoutView",
       "align_content": null,
       "align_items": null,
       "align_self": null,
       "border": null,
       "bottom": null,
       "display": null,
       "flex": null,
       "flex_flow": null,
       "grid_area": null,
       "grid_auto_columns": null,
       "grid_auto_flow": null,
       "grid_auto_rows": null,
       "grid_column": null,
       "grid_gap": null,
       "grid_row": null,
       "grid_template_areas": null,
       "grid_template_columns": null,
       "grid_template_rows": null,
       "height": null,
       "justify_content": null,
       "justify_items": null,
       "left": null,
       "margin": null,
       "max_height": null,
       "max_width": null,
       "min_height": null,
       "min_width": null,
       "object_fit": null,
       "object_position": null,
       "order": null,
       "overflow": null,
       "overflow_x": null,
       "overflow_y": null,
       "padding": null,
       "right": null,
       "top": null,
       "visibility": null,
       "width": null
      }
     },
     "3e613167d19f426ba864a9d6b04b3bc1": {
      "model_module": "@jupyter-widgets/controls",
      "model_module_version": "1.5.0",
      "model_name": "HTMLModel",
      "state": {
       "_dom_classes": [],
       "_model_module": "@jupyter-widgets/controls",
       "_model_module_version": "1.5.0",
       "_model_name": "HTMLModel",
       "_view_count": null,
       "_view_module": "@jupyter-widgets/controls",
       "_view_module_version": "1.5.0",
       "_view_name": "HTMLView",
       "description": "",
       "description_tooltip": null,
       "layout": "IPY_MODEL_8a26b158b1c046e9b2b06279e86630b8",
       "placeholder": "​",
       "style": "IPY_MODEL_fd8d6e59e51545cea9a59f5bf6d085de",
       "value": "Downloading model.safetensors: 100%"
      }
     },
     "3f812cc5f28e4fd5ae859fb4709bce99": {
      "model_module": "@jupyter-widgets/controls",
      "model_module_version": "1.5.0",
      "model_name": "HTMLModel",
      "state": {
       "_dom_classes": [],
       "_model_module": "@jupyter-widgets/controls",
       "_model_module_version": "1.5.0",
       "_model_name": "HTMLModel",
       "_view_count": null,
       "_view_module": "@jupyter-widgets/controls",
       "_view_module_version": "1.5.0",
       "_view_name": "HTMLView",
       "description": "",
       "description_tooltip": null,
       "layout": "IPY_MODEL_d1aa6087061c45468ec840f4728b692f",
       "placeholder": "​",
       "style": "IPY_MODEL_61d2d66ed60d4ae0870669d90b610971",
       "value": " 4.20k/4.20k [00:00&lt;00:00, 250kB/s]"
      }
     },
     "4253435853ce4da287470a61dc424e70": {
      "model_module": "@jupyter-widgets/base",
      "model_module_version": "1.2.0",
      "model_name": "LayoutModel",
      "state": {
       "_model_module": "@jupyter-widgets/base",
       "_model_module_version": "1.2.0",
       "_model_name": "LayoutModel",
       "_view_count": null,
       "_view_module": "@jupyter-widgets/base",
       "_view_module_version": "1.2.0",
       "_view_name": "LayoutView",
       "align_content": null,
       "align_items": null,
       "align_self": null,
       "border": null,
       "bottom": null,
       "display": null,
       "flex": null,
       "flex_flow": null,
       "grid_area": null,
       "grid_auto_columns": null,
       "grid_auto_flow": null,
       "grid_auto_rows": null,
       "grid_column": null,
       "grid_gap": null,
       "grid_row": null,
       "grid_template_areas": null,
       "grid_template_columns": null,
       "grid_template_rows": null,
       "height": null,
       "justify_content": null,
       "justify_items": null,
       "left": null,
       "margin": null,
       "max_height": null,
       "max_width": null,
       "min_height": null,
       "min_width": null,
       "object_fit": null,
       "object_position": null,
       "order": null,
       "overflow": null,
       "overflow_x": null,
       "overflow_y": null,
       "padding": null,
       "right": null,
       "top": null,
       "visibility": null,
       "width": null
      }
     },
     "4437b2e1f3af4d128bcbb6bee4d8a7b5": {
      "model_module": "@jupyter-widgets/controls",
      "model_module_version": "1.5.0",
      "model_name": "ProgressStyleModel",
      "state": {
       "_model_module": "@jupyter-widgets/controls",
       "_model_module_version": "1.5.0",
       "_model_name": "ProgressStyleModel",
       "_view_count": null,
       "_view_module": "@jupyter-widgets/base",
       "_view_module_version": "1.2.0",
       "_view_name": "StyleView",
       "bar_color": null,
       "description_width": ""
      }
     },
     "45dc89a498c8477b8d7bae9635f4ffd1": {
      "model_module": "@jupyter-widgets/controls",
      "model_module_version": "1.5.0",
      "model_name": "ProgressStyleModel",
      "state": {
       "_model_module": "@jupyter-widgets/controls",
       "_model_module_version": "1.5.0",
       "_model_name": "ProgressStyleModel",
       "_view_count": null,
       "_view_module": "@jupyter-widgets/base",
       "_view_module_version": "1.2.0",
       "_view_name": "StyleView",
       "bar_color": null,
       "description_width": ""
      }
     },
     "462b4b0a95ce44fd8d420383fc67c3cc": {
      "model_module": "@jupyter-widgets/base",
      "model_module_version": "1.2.0",
      "model_name": "LayoutModel",
      "state": {
       "_model_module": "@jupyter-widgets/base",
       "_model_module_version": "1.2.0",
       "_model_name": "LayoutModel",
       "_view_count": null,
       "_view_module": "@jupyter-widgets/base",
       "_view_module_version": "1.2.0",
       "_view_name": "LayoutView",
       "align_content": null,
       "align_items": null,
       "align_self": null,
       "border": null,
       "bottom": null,
       "display": null,
       "flex": null,
       "flex_flow": null,
       "grid_area": null,
       "grid_auto_columns": null,
       "grid_auto_flow": null,
       "grid_auto_rows": null,
       "grid_column": null,
       "grid_gap": null,
       "grid_row": null,
       "grid_template_areas": null,
       "grid_template_columns": null,
       "grid_template_rows": null,
       "height": null,
       "justify_content": null,
       "justify_items": null,
       "left": null,
       "margin": null,
       "max_height": null,
       "max_width": null,
       "min_height": null,
       "min_width": null,
       "object_fit": null,
       "object_position": null,
       "order": null,
       "overflow": null,
       "overflow_x": null,
       "overflow_y": null,
       "padding": null,
       "right": null,
       "top": null,
       "visibility": null,
       "width": null
      }
     },
     "484fa1014bb64fbea7187467f8ecb7a8": {
      "model_module": "@jupyter-widgets/controls",
      "model_module_version": "1.5.0",
      "model_name": "DescriptionStyleModel",
      "state": {
       "_model_module": "@jupyter-widgets/controls",
       "_model_module_version": "1.5.0",
       "_model_name": "DescriptionStyleModel",
       "_view_count": null,
       "_view_module": "@jupyter-widgets/base",
       "_view_module_version": "1.2.0",
       "_view_name": "StyleView",
       "description_width": ""
      }
     },
     "4d5e45446319445bad126517838aaf34": {
      "model_module": "@jupyter-widgets/base",
      "model_module_version": "1.2.0",
      "model_name": "LayoutModel",
      "state": {
       "_model_module": "@jupyter-widgets/base",
       "_model_module_version": "1.2.0",
       "_model_name": "LayoutModel",
       "_view_count": null,
       "_view_module": "@jupyter-widgets/base",
       "_view_module_version": "1.2.0",
       "_view_name": "LayoutView",
       "align_content": null,
       "align_items": null,
       "align_self": null,
       "border": null,
       "bottom": null,
       "display": null,
       "flex": null,
       "flex_flow": null,
       "grid_area": null,
       "grid_auto_columns": null,
       "grid_auto_flow": null,
       "grid_auto_rows": null,
       "grid_column": null,
       "grid_gap": null,
       "grid_row": null,
       "grid_template_areas": null,
       "grid_template_columns": null,
       "grid_template_rows": null,
       "height": null,
       "justify_content": null,
       "justify_items": null,
       "left": null,
       "margin": null,
       "max_height": null,
       "max_width": null,
       "min_height": null,
       "min_width": null,
       "object_fit": null,
       "object_position": null,
       "order": null,
       "overflow": null,
       "overflow_x": null,
       "overflow_y": null,
       "padding": null,
       "right": null,
       "top": null,
       "visibility": null,
       "width": null
      }
     },
     "4f43bdeecfc842658b2438563664483f": {
      "model_module": "@jupyter-widgets/base",
      "model_module_version": "1.2.0",
      "model_name": "LayoutModel",
      "state": {
       "_model_module": "@jupyter-widgets/base",
       "_model_module_version": "1.2.0",
       "_model_name": "LayoutModel",
       "_view_count": null,
       "_view_module": "@jupyter-widgets/base",
       "_view_module_version": "1.2.0",
       "_view_name": "LayoutView",
       "align_content": null,
       "align_items": null,
       "align_self": null,
       "border": null,
       "bottom": null,
       "display": null,
       "flex": null,
       "flex_flow": null,
       "grid_area": null,
       "grid_auto_columns": null,
       "grid_auto_flow": null,
       "grid_auto_rows": null,
       "grid_column": null,
       "grid_gap": null,
       "grid_row": null,
       "grid_template_areas": null,
       "grid_template_columns": null,
       "grid_template_rows": null,
       "height": null,
       "justify_content": null,
       "justify_items": null,
       "left": null,
       "margin": null,
       "max_height": null,
       "max_width": null,
       "min_height": null,
       "min_width": null,
       "object_fit": null,
       "object_position": null,
       "order": null,
       "overflow": null,
       "overflow_x": null,
       "overflow_y": null,
       "padding": null,
       "right": null,
       "top": null,
       "visibility": null,
       "width": null
      }
     },
     "5059c0fa96fb4b82bc15f7add8cac1dd": {
      "model_module": "@jupyter-widgets/controls",
      "model_module_version": "1.5.0",
      "model_name": "HTMLModel",
      "state": {
       "_dom_classes": [],
       "_model_module": "@jupyter-widgets/controls",
       "_model_module_version": "1.5.0",
       "_model_name": "HTMLModel",
       "_view_count": null,
       "_view_module": "@jupyter-widgets/controls",
       "_view_module_version": "1.5.0",
       "_view_name": "HTMLView",
       "description": "",
       "description_tooltip": null,
       "layout": "IPY_MODEL_e6ce81f4aebf4042a79af123824b157b",
       "placeholder": "​",
       "style": "IPY_MODEL_bf01e7fdbd57492b878e4628cb9a7368",
       "value": " 8339/8339 [00:12&lt;00:00, 413.22ex/s]"
      }
     },
     "56b875d31f604f9a8b8bf31411c069c2": {
      "model_module": "@jupyter-widgets/base",
      "model_module_version": "1.2.0",
      "model_name": "LayoutModel",
      "state": {
       "_model_module": "@jupyter-widgets/base",
       "_model_module_version": "1.2.0",
       "_model_name": "LayoutModel",
       "_view_count": null,
       "_view_module": "@jupyter-widgets/base",
       "_view_module_version": "1.2.0",
       "_view_name": "LayoutView",
       "align_content": null,
       "align_items": null,
       "align_self": null,
       "border": null,
       "bottom": null,
       "display": null,
       "flex": null,
       "flex_flow": null,
       "grid_area": null,
       "grid_auto_columns": null,
       "grid_auto_flow": null,
       "grid_auto_rows": null,
       "grid_column": null,
       "grid_gap": null,
       "grid_row": null,
       "grid_template_areas": null,
       "grid_template_columns": null,
       "grid_template_rows": null,
       "height": null,
       "justify_content": null,
       "justify_items": null,
       "left": null,
       "margin": null,
       "max_height": null,
       "max_width": null,
       "min_height": null,
       "min_width": null,
       "object_fit": null,
       "object_position": null,
       "order": null,
       "overflow": null,
       "overflow_x": null,
       "overflow_y": null,
       "padding": null,
       "right": null,
       "top": null,
       "visibility": null,
       "width": null
      }
     },
     "5bff0bbb788a4fa8a4b416c4543a577d": {
      "model_module": "@jupyter-widgets/controls",
      "model_module_version": "1.5.0",
      "model_name": "HBoxModel",
      "state": {
       "_dom_classes": [],
       "_model_module": "@jupyter-widgets/controls",
       "_model_module_version": "1.5.0",
       "_model_name": "HBoxModel",
       "_view_count": null,
       "_view_module": "@jupyter-widgets/controls",
       "_view_module_version": "1.5.0",
       "_view_name": "HBoxView",
       "box_style": "",
       "children": [
        "IPY_MODEL_eb075f34bfd449b48995f7aeb04d9207",
        "IPY_MODEL_ead5e398efbf459d8fa2121e78310d30",
        "IPY_MODEL_80ecc24bdee4453cb7022d26505f944e"
       ],
       "layout": "IPY_MODEL_8d68a91eb8604034904d0cdf476ebbe9"
      }
     },
     "5fe11c8f5d2544c79d055484bf0545cd": {
      "model_module": "@jupyter-widgets/controls",
      "model_module_version": "1.5.0",
      "model_name": "HBoxModel",
      "state": {
       "_dom_classes": [],
       "_model_module": "@jupyter-widgets/controls",
       "_model_module_version": "1.5.0",
       "_model_name": "HBoxModel",
       "_view_count": null,
       "_view_module": "@jupyter-widgets/controls",
       "_view_module_version": "1.5.0",
       "_view_name": "HBoxView",
       "box_style": "",
       "children": [
        "IPY_MODEL_edd814ae7a464baf819e6211246026de",
        "IPY_MODEL_ac7613211288423d9a00babae3368c6f",
        "IPY_MODEL_33ddf9806e6447b89c33a1bfff65a5d4"
       ],
       "layout": "IPY_MODEL_e4f280be284d47ba92c704d97778e64b"
      }
     },
     "603b1498fb524b6e93ffa99aabf66c2b": {
      "model_module": "@jupyter-widgets/controls",
      "model_module_version": "1.5.0",
      "model_name": "DescriptionStyleModel",
      "state": {
       "_model_module": "@jupyter-widgets/controls",
       "_model_module_version": "1.5.0",
       "_model_name": "DescriptionStyleModel",
       "_view_count": null,
       "_view_module": "@jupyter-widgets/base",
       "_view_module_version": "1.2.0",
       "_view_name": "StyleView",
       "description_width": ""
      }
     },
     "61d2d66ed60d4ae0870669d90b610971": {
      "model_module": "@jupyter-widgets/controls",
      "model_module_version": "1.5.0",
      "model_name": "DescriptionStyleModel",
      "state": {
       "_model_module": "@jupyter-widgets/controls",
       "_model_module_version": "1.5.0",
       "_model_name": "DescriptionStyleModel",
       "_view_count": null,
       "_view_module": "@jupyter-widgets/base",
       "_view_module_version": "1.2.0",
       "_view_name": "StyleView",
       "description_width": ""
      }
     },
     "61f88a42796846d681b02ee572b0a18a": {
      "model_module": "@jupyter-widgets/controls",
      "model_module_version": "1.5.0",
      "model_name": "DescriptionStyleModel",
      "state": {
       "_model_module": "@jupyter-widgets/controls",
       "_model_module_version": "1.5.0",
       "_model_name": "DescriptionStyleModel",
       "_view_count": null,
       "_view_module": "@jupyter-widgets/base",
       "_view_module_version": "1.2.0",
       "_view_name": "StyleView",
       "description_width": ""
      }
     },
     "6c04cb8ae80b440eaf0e32ad6c7b01bd": {
      "model_module": "@jupyter-widgets/base",
      "model_module_version": "1.2.0",
      "model_name": "LayoutModel",
      "state": {
       "_model_module": "@jupyter-widgets/base",
       "_model_module_version": "1.2.0",
       "_model_name": "LayoutModel",
       "_view_count": null,
       "_view_module": "@jupyter-widgets/base",
       "_view_module_version": "1.2.0",
       "_view_name": "LayoutView",
       "align_content": null,
       "align_items": null,
       "align_self": null,
       "border": null,
       "bottom": null,
       "display": null,
       "flex": null,
       "flex_flow": null,
       "grid_area": null,
       "grid_auto_columns": null,
       "grid_auto_flow": null,
       "grid_auto_rows": null,
       "grid_column": null,
       "grid_gap": null,
       "grid_row": null,
       "grid_template_areas": null,
       "grid_template_columns": null,
       "grid_template_rows": null,
       "height": null,
       "justify_content": null,
       "justify_items": null,
       "left": null,
       "margin": null,
       "max_height": null,
       "max_width": null,
       "min_height": null,
       "min_width": null,
       "object_fit": null,
       "object_position": null,
       "order": null,
       "overflow": null,
       "overflow_x": null,
       "overflow_y": null,
       "padding": null,
       "right": null,
       "top": null,
       "visibility": null,
       "width": null
      }
     },
     "6c20517784ae459e864b2fb9b4bca392": {
      "model_module": "@jupyter-widgets/controls",
      "model_module_version": "1.5.0",
      "model_name": "HTMLModel",
      "state": {
       "_dom_classes": [],
       "_model_module": "@jupyter-widgets/controls",
       "_model_module_version": "1.5.0",
       "_model_name": "HTMLModel",
       "_view_count": null,
       "_view_module": "@jupyter-widgets/controls",
       "_view_module_version": "1.5.0",
       "_view_name": "HTMLView",
       "description": "",
       "description_tooltip": null,
       "layout": "IPY_MODEL_080a700d302443599cddff19a8e64aab",
       "placeholder": "​",
       "style": "IPY_MODEL_c3757082468e4cb0b94a1059bda3f54b",
       "value": "Downloading (…)lve/main/config.json: 100%"
      }
     },
     "6d97ad291ae4469fa2daa3c01d812693": {
      "model_module": "@jupyter-widgets/base",
      "model_module_version": "1.2.0",
      "model_name": "LayoutModel",
      "state": {
       "_model_module": "@jupyter-widgets/base",
       "_model_module_version": "1.2.0",
       "_model_name": "LayoutModel",
       "_view_count": null,
       "_view_module": "@jupyter-widgets/base",
       "_view_module_version": "1.2.0",
       "_view_name": "LayoutView",
       "align_content": null,
       "align_items": null,
       "align_self": null,
       "border": null,
       "bottom": null,
       "display": null,
       "flex": null,
       "flex_flow": null,
       "grid_area": null,
       "grid_auto_columns": null,
       "grid_auto_flow": null,
       "grid_auto_rows": null,
       "grid_column": null,
       "grid_gap": null,
       "grid_row": null,
       "grid_template_areas": null,
       "grid_template_columns": null,
       "grid_template_rows": null,
       "height": null,
       "justify_content": null,
       "justify_items": null,
       "left": null,
       "margin": null,
       "max_height": null,
       "max_width": null,
       "min_height": null,
       "min_width": null,
       "object_fit": null,
       "object_position": null,
       "order": null,
       "overflow": null,
       "overflow_x": null,
       "overflow_y": null,
       "padding": null,
       "right": null,
       "top": null,
       "visibility": null,
       "width": null
      }
     },
     "6ddbbb4c34d4481f906e4e1fe7d0c69b": {
      "model_module": "@jupyter-widgets/controls",
      "model_module_version": "1.5.0",
      "model_name": "HBoxModel",
      "state": {
       "_dom_classes": [],
       "_model_module": "@jupyter-widgets/controls",
       "_model_module_version": "1.5.0",
       "_model_name": "HBoxModel",
       "_view_count": null,
       "_view_module": "@jupyter-widgets/controls",
       "_view_module_version": "1.5.0",
       "_view_name": "HBoxView",
       "box_style": "",
       "children": [
        "IPY_MODEL_e2b48753154e4cbfb03d90e6c03d1d7a",
        "IPY_MODEL_8185d74a81fe4c5aa7a246485f436e91",
        "IPY_MODEL_7b5fc30fa94945f9bc542168ac30eb88"
       ],
       "layout": "IPY_MODEL_6c04cb8ae80b440eaf0e32ad6c7b01bd"
      }
     },
     "6e02880997394f2691b4761a7bc8e6ee": {
      "model_module": "@jupyter-widgets/base",
      "model_module_version": "1.2.0",
      "model_name": "LayoutModel",
      "state": {
       "_model_module": "@jupyter-widgets/base",
       "_model_module_version": "1.2.0",
       "_model_name": "LayoutModel",
       "_view_count": null,
       "_view_module": "@jupyter-widgets/base",
       "_view_module_version": "1.2.0",
       "_view_name": "LayoutView",
       "align_content": null,
       "align_items": null,
       "align_self": null,
       "border": null,
       "bottom": null,
       "display": null,
       "flex": null,
       "flex_flow": null,
       "grid_area": null,
       "grid_auto_columns": null,
       "grid_auto_flow": null,
       "grid_auto_rows": null,
       "grid_column": null,
       "grid_gap": null,
       "grid_row": null,
       "grid_template_areas": null,
       "grid_template_columns": null,
       "grid_template_rows": null,
       "height": null,
       "justify_content": null,
       "justify_items": null,
       "left": null,
       "margin": null,
       "max_height": null,
       "max_width": null,
       "min_height": null,
       "min_width": null,
       "object_fit": null,
       "object_position": null,
       "order": null,
       "overflow": null,
       "overflow_x": null,
       "overflow_y": null,
       "padding": null,
       "right": null,
       "top": null,
       "visibility": null,
       "width": null
      }
     },
     "736b80ab55c84a889739c83d19b6572d": {
      "model_module": "@jupyter-widgets/base",
      "model_module_version": "1.2.0",
      "model_name": "LayoutModel",
      "state": {
       "_model_module": "@jupyter-widgets/base",
       "_model_module_version": "1.2.0",
       "_model_name": "LayoutModel",
       "_view_count": null,
       "_view_module": "@jupyter-widgets/base",
       "_view_module_version": "1.2.0",
       "_view_name": "LayoutView",
       "align_content": null,
       "align_items": null,
       "align_self": null,
       "border": null,
       "bottom": null,
       "display": null,
       "flex": null,
       "flex_flow": null,
       "grid_area": null,
       "grid_auto_columns": null,
       "grid_auto_flow": null,
       "grid_auto_rows": null,
       "grid_column": null,
       "grid_gap": null,
       "grid_row": null,
       "grid_template_areas": null,
       "grid_template_columns": null,
       "grid_template_rows": null,
       "height": null,
       "justify_content": null,
       "justify_items": null,
       "left": null,
       "margin": null,
       "max_height": null,
       "max_width": null,
       "min_height": null,
       "min_width": null,
       "object_fit": null,
       "object_position": null,
       "order": null,
       "overflow": null,
       "overflow_x": null,
       "overflow_y": null,
       "padding": null,
       "right": null,
       "top": null,
       "visibility": null,
       "width": null
      }
     },
     "752503dbedd1488b94079e5cc46452c6": {
      "model_module": "@jupyter-widgets/controls",
      "model_module_version": "1.5.0",
      "model_name": "HTMLModel",
      "state": {
       "_dom_classes": [],
       "_model_module": "@jupyter-widgets/controls",
       "_model_module_version": "1.5.0",
       "_model_name": "HTMLModel",
       "_view_count": null,
       "_view_module": "@jupyter-widgets/controls",
       "_view_module_version": "1.5.0",
       "_view_name": "HTMLView",
       "description": "",
       "description_tooltip": null,
       "layout": "IPY_MODEL_736b80ab55c84a889739c83d19b6572d",
       "placeholder": "​",
       "style": "IPY_MODEL_d21256f028794b699f2aed36e38f836c",
       "value": "100%"
      }
     },
     "7565d7981e9e49249696c16ce0a08e8b": {
      "model_module": "@jupyter-widgets/controls",
      "model_module_version": "1.5.0",
      "model_name": "ProgressStyleModel",
      "state": {
       "_model_module": "@jupyter-widgets/controls",
       "_model_module_version": "1.5.0",
       "_model_name": "ProgressStyleModel",
       "_view_count": null,
       "_view_module": "@jupyter-widgets/base",
       "_view_module_version": "1.2.0",
       "_view_name": "StyleView",
       "bar_color": null,
       "description_width": ""
      }
     },
     "7a6dc58208c94f69833bfe18fb9a75c7": {
      "model_module": "@jupyter-widgets/controls",
      "model_module_version": "1.5.0",
      "model_name": "HBoxModel",
      "state": {
       "_dom_classes": [],
       "_model_module": "@jupyter-widgets/controls",
       "_model_module_version": "1.5.0",
       "_model_name": "HBoxModel",
       "_view_count": null,
       "_view_module": "@jupyter-widgets/controls",
       "_view_module_version": "1.5.0",
       "_view_name": "HBoxView",
       "box_style": "",
       "children": [
        "IPY_MODEL_ec83c50f7d1547b78181c25f85984094",
        "IPY_MODEL_a538e97d48194af19ce2c51e08236a33",
        "IPY_MODEL_5059c0fa96fb4b82bc15f7add8cac1dd"
       ],
       "layout": "IPY_MODEL_b4373c4f1bc1449dabda8bfac73a7c71"
      }
     },
     "7ab388de3b8945cd95f050c8108d5967": {
      "model_module": "@jupyter-widgets/controls",
      "model_module_version": "1.5.0",
      "model_name": "DescriptionStyleModel",
      "state": {
       "_model_module": "@jupyter-widgets/controls",
       "_model_module_version": "1.5.0",
       "_model_name": "DescriptionStyleModel",
       "_view_count": null,
       "_view_module": "@jupyter-widgets/base",
       "_view_module_version": "1.2.0",
       "_view_name": "StyleView",
       "description_width": ""
      }
     },
     "7b5fc30fa94945f9bc542168ac30eb88": {
      "model_module": "@jupyter-widgets/controls",
      "model_module_version": "1.5.0",
      "model_name": "HTMLModel",
      "state": {
       "_dom_classes": [],
       "_model_module": "@jupyter-widgets/controls",
       "_model_module_version": "1.5.0",
       "_model_name": "HTMLModel",
       "_view_count": null,
       "_view_module": "@jupyter-widgets/controls",
       "_view_module_version": "1.5.0",
       "_view_name": "HTMLView",
       "description": "",
       "description_tooltip": null,
       "layout": "IPY_MODEL_fbbb9144fe084affb3d69c6906bd92de",
       "placeholder": "​",
       "style": "IPY_MODEL_280095681ee849818d7a831a5ae6d121",
       "value": " 28.0/28.0 [00:00&lt;00:00, 2.01kB/s]"
      }
     },
     "80ecc24bdee4453cb7022d26505f944e": {
      "model_module": "@jupyter-widgets/controls",
      "model_module_version": "1.5.0",
      "model_name": "HTMLModel",
      "state": {
       "_dom_classes": [],
       "_model_module": "@jupyter-widgets/controls",
       "_model_module_version": "1.5.0",
       "_model_name": "HTMLModel",
       "_view_count": null,
       "_view_module": "@jupyter-widgets/controls",
       "_view_module_version": "1.5.0",
       "_view_name": "HTMLView",
       "description": "",
       "description_tooltip": null,
       "layout": "IPY_MODEL_df620d30f1c642169efb156429bb06fd",
       "placeholder": "​",
       "style": "IPY_MODEL_d0ae5684247d4b47a556cff496050734",
       "value": " 232k/232k [00:00&lt;00:00, 676kB/s]"
      }
     },
     "8185d74a81fe4c5aa7a246485f436e91": {
      "model_module": "@jupyter-widgets/controls",
      "model_module_version": "1.5.0",
      "model_name": "FloatProgressModel",
      "state": {
       "_dom_classes": [],
       "_model_module": "@jupyter-widgets/controls",
       "_model_module_version": "1.5.0",
       "_model_name": "FloatProgressModel",
       "_view_count": null,
       "_view_module": "@jupyter-widgets/controls",
       "_view_module_version": "1.5.0",
       "_view_name": "ProgressView",
       "bar_style": "success",
       "description": "",
       "description_tooltip": null,
       "layout": "IPY_MODEL_6d97ad291ae4469fa2daa3c01d812693",
       "max": 28.0,
       "min": 0.0,
       "orientation": "horizontal",
       "style": "IPY_MODEL_da49d684ec364891a76a83c6bf9137be",
       "value": 28.0
      }
     },
     "85344a49707f467db97792cc5e41d224": {
      "model_module": "@jupyter-widgets/controls",
      "model_module_version": "1.5.0",
      "model_name": "ProgressStyleModel",
      "state": {
       "_model_module": "@jupyter-widgets/controls",
       "_model_module_version": "1.5.0",
       "_model_name": "ProgressStyleModel",
       "_view_count": null,
       "_view_module": "@jupyter-widgets/base",
       "_view_module_version": "1.2.0",
       "_view_name": "StyleView",
       "bar_color": null,
       "description_width": ""
      }
     },
     "8a26b158b1c046e9b2b06279e86630b8": {
      "model_module": "@jupyter-widgets/base",
      "model_module_version": "1.2.0",
      "model_name": "LayoutModel",
      "state": {
       "_model_module": "@jupyter-widgets/base",
       "_model_module_version": "1.2.0",
       "_model_name": "LayoutModel",
       "_view_count": null,
       "_view_module": "@jupyter-widgets/base",
       "_view_module_version": "1.2.0",
       "_view_name": "LayoutView",
       "align_content": null,
       "align_items": null,
       "align_self": null,
       "border": null,
       "bottom": null,
       "display": null,
       "flex": null,
       "flex_flow": null,
       "grid_area": null,
       "grid_auto_columns": null,
       "grid_auto_flow": null,
       "grid_auto_rows": null,
       "grid_column": null,
       "grid_gap": null,
       "grid_row": null,
       "grid_template_areas": null,
       "grid_template_columns": null,
       "grid_template_rows": null,
       "height": null,
       "justify_content": null,
       "justify_items": null,
       "left": null,
       "margin": null,
       "max_height": null,
       "max_width": null,
       "min_height": null,
       "min_width": null,
       "object_fit": null,
       "object_position": null,
       "order": null,
       "overflow": null,
       "overflow_x": null,
       "overflow_y": null,
       "padding": null,
       "right": null,
       "top": null,
       "visibility": null,
       "width": null
      }
     },
     "8c8946a4f9424343a9b863e75f4c5fda": {
      "model_module": "@jupyter-widgets/base",
      "model_module_version": "1.2.0",
      "model_name": "LayoutModel",
      "state": {
       "_model_module": "@jupyter-widgets/base",
       "_model_module_version": "1.2.0",
       "_model_name": "LayoutModel",
       "_view_count": null,
       "_view_module": "@jupyter-widgets/base",
       "_view_module_version": "1.2.0",
       "_view_name": "LayoutView",
       "align_content": null,
       "align_items": null,
       "align_self": null,
       "border": null,
       "bottom": null,
       "display": null,
       "flex": null,
       "flex_flow": null,
       "grid_area": null,
       "grid_auto_columns": null,
       "grid_auto_flow": null,
       "grid_auto_rows": null,
       "grid_column": null,
       "grid_gap": null,
       "grid_row": null,
       "grid_template_areas": null,
       "grid_template_columns": null,
       "grid_template_rows": null,
       "height": null,
       "justify_content": null,
       "justify_items": null,
       "left": null,
       "margin": null,
       "max_height": null,
       "max_width": null,
       "min_height": null,
       "min_width": null,
       "object_fit": null,
       "object_position": null,
       "order": null,
       "overflow": null,
       "overflow_x": null,
       "overflow_y": null,
       "padding": null,
       "right": null,
       "top": null,
       "visibility": null,
       "width": null
      }
     },
     "8d68a91eb8604034904d0cdf476ebbe9": {
      "model_module": "@jupyter-widgets/base",
      "model_module_version": "1.2.0",
      "model_name": "LayoutModel",
      "state": {
       "_model_module": "@jupyter-widgets/base",
       "_model_module_version": "1.2.0",
       "_model_name": "LayoutModel",
       "_view_count": null,
       "_view_module": "@jupyter-widgets/base",
       "_view_module_version": "1.2.0",
       "_view_name": "LayoutView",
       "align_content": null,
       "align_items": null,
       "align_self": null,
       "border": null,
       "bottom": null,
       "display": null,
       "flex": null,
       "flex_flow": null,
       "grid_area": null,
       "grid_auto_columns": null,
       "grid_auto_flow": null,
       "grid_auto_rows": null,
       "grid_column": null,
       "grid_gap": null,
       "grid_row": null,
       "grid_template_areas": null,
       "grid_template_columns": null,
       "grid_template_rows": null,
       "height": null,
       "justify_content": null,
       "justify_items": null,
       "left": null,
       "margin": null,
       "max_height": null,
       "max_width": null,
       "min_height": null,
       "min_width": null,
       "object_fit": null,
       "object_position": null,
       "order": null,
       "overflow": null,
       "overflow_x": null,
       "overflow_y": null,
       "padding": null,
       "right": null,
       "top": null,
       "visibility": null,
       "width": null
      }
     },
     "8e8d2f82ddb04139ba28aa92455e3410": {
      "model_module": "@jupyter-widgets/base",
      "model_module_version": "1.2.0",
      "model_name": "LayoutModel",
      "state": {
       "_model_module": "@jupyter-widgets/base",
       "_model_module_version": "1.2.0",
       "_model_name": "LayoutModel",
       "_view_count": null,
       "_view_module": "@jupyter-widgets/base",
       "_view_module_version": "1.2.0",
       "_view_name": "LayoutView",
       "align_content": null,
       "align_items": null,
       "align_self": null,
       "border": null,
       "bottom": null,
       "display": null,
       "flex": null,
       "flex_flow": null,
       "grid_area": null,
       "grid_auto_columns": null,
       "grid_auto_flow": null,
       "grid_auto_rows": null,
       "grid_column": null,
       "grid_gap": null,
       "grid_row": null,
       "grid_template_areas": null,
       "grid_template_columns": null,
       "grid_template_rows": null,
       "height": null,
       "justify_content": null,
       "justify_items": null,
       "left": null,
       "margin": null,
       "max_height": null,
       "max_width": null,
       "min_height": null,
       "min_width": null,
       "object_fit": null,
       "object_position": null,
       "order": null,
       "overflow": null,
       "overflow_x": null,
       "overflow_y": null,
       "padding": null,
       "right": null,
       "top": null,
       "visibility": null,
       "width": null
      }
     },
     "9cf2d4eef9fa479e90aa2c98a7a8618c": {
      "model_module": "@jupyter-widgets/base",
      "model_module_version": "1.2.0",
      "model_name": "LayoutModel",
      "state": {
       "_model_module": "@jupyter-widgets/base",
       "_model_module_version": "1.2.0",
       "_model_name": "LayoutModel",
       "_view_count": null,
       "_view_module": "@jupyter-widgets/base",
       "_view_module_version": "1.2.0",
       "_view_name": "LayoutView",
       "align_content": null,
       "align_items": null,
       "align_self": null,
       "border": null,
       "bottom": null,
       "display": null,
       "flex": null,
       "flex_flow": null,
       "grid_area": null,
       "grid_auto_columns": null,
       "grid_auto_flow": null,
       "grid_auto_rows": null,
       "grid_column": null,
       "grid_gap": null,
       "grid_row": null,
       "grid_template_areas": null,
       "grid_template_columns": null,
       "grid_template_rows": null,
       "height": null,
       "justify_content": null,
       "justify_items": null,
       "left": null,
       "margin": null,
       "max_height": null,
       "max_width": null,
       "min_height": null,
       "min_width": null,
       "object_fit": null,
       "object_position": null,
       "order": null,
       "overflow": null,
       "overflow_x": null,
       "overflow_y": null,
       "padding": null,
       "right": null,
       "top": null,
       "visibility": null,
       "width": null
      }
     },
     "9ec6e935aa004c11a11a266122199e4a": {
      "model_module": "@jupyter-widgets/controls",
      "model_module_version": "1.5.0",
      "model_name": "HTMLModel",
      "state": {
       "_dom_classes": [],
       "_model_module": "@jupyter-widgets/controls",
       "_model_module_version": "1.5.0",
       "_model_name": "HTMLModel",
       "_view_count": null,
       "_view_module": "@jupyter-widgets/controls",
       "_view_module_version": "1.5.0",
       "_view_name": "HTMLView",
       "description": "",
       "description_tooltip": null,
       "layout": "IPY_MODEL_20ba526568d644fbad7f3916acbd323d",
       "placeholder": "​",
       "style": "IPY_MODEL_0b917f9db1524cfc99fbb27837747db6",
       "value": "100%"
      }
     },
     "9ed8d99f1f8545f98f224fe501053774": {
      "model_module": "@jupyter-widgets/controls",
      "model_module_version": "1.5.0",
      "model_name": "HBoxModel",
      "state": {
       "_dom_classes": [],
       "_model_module": "@jupyter-widgets/controls",
       "_model_module_version": "1.5.0",
       "_model_name": "HBoxModel",
       "_view_count": null,
       "_view_module": "@jupyter-widgets/controls",
       "_view_module_version": "1.5.0",
       "_view_name": "HBoxView",
       "box_style": "",
       "children": [
        "IPY_MODEL_c0944368ddb84da98f2cf167f9ab8b6a",
        "IPY_MODEL_f509662483d24ea2adb9728d95ca444e",
        "IPY_MODEL_3f812cc5f28e4fd5ae859fb4709bce99"
       ],
       "layout": "IPY_MODEL_fd1bceb482e24fb882f9a5ff4de14ad2"
      }
     },
     "a36331d32245439aa8af82a683602f89": {
      "model_module": "@jupyter-widgets/controls",
      "model_module_version": "1.5.0",
      "model_name": "DescriptionStyleModel",
      "state": {
       "_model_module": "@jupyter-widgets/controls",
       "_model_module_version": "1.5.0",
       "_model_name": "DescriptionStyleModel",
       "_view_count": null,
       "_view_module": "@jupyter-widgets/base",
       "_view_module_version": "1.2.0",
       "_view_name": "StyleView",
       "description_width": ""
      }
     },
     "a538e97d48194af19ce2c51e08236a33": {
      "model_module": "@jupyter-widgets/controls",
      "model_module_version": "1.5.0",
      "model_name": "FloatProgressModel",
      "state": {
       "_dom_classes": [],
       "_model_module": "@jupyter-widgets/controls",
       "_model_module_version": "1.5.0",
       "_model_name": "FloatProgressModel",
       "_view_count": null,
       "_view_module": "@jupyter-widgets/controls",
       "_view_module_version": "1.5.0",
       "_view_name": "ProgressView",
       "bar_style": "success",
       "description": "",
       "description_tooltip": null,
       "layout": "IPY_MODEL_462b4b0a95ce44fd8d420383fc67c3cc",
       "max": 8339.0,
       "min": 0.0,
       "orientation": "horizontal",
       "style": "IPY_MODEL_45dc89a498c8477b8d7bae9635f4ffd1",
       "value": 8339.0
      }
     },
     "a64564c8c2c6414c8994d609313b0629": {
      "model_module": "@jupyter-widgets/base",
      "model_module_version": "1.2.0",
      "model_name": "LayoutModel",
      "state": {
       "_model_module": "@jupyter-widgets/base",
       "_model_module_version": "1.2.0",
       "_model_name": "LayoutModel",
       "_view_count": null,
       "_view_module": "@jupyter-widgets/base",
       "_view_module_version": "1.2.0",
       "_view_name": "LayoutView",
       "align_content": null,
       "align_items": null,
       "align_self": null,
       "border": null,
       "bottom": null,
       "display": null,
       "flex": null,
       "flex_flow": null,
       "grid_area": null,
       "grid_auto_columns": null,
       "grid_auto_flow": null,
       "grid_auto_rows": null,
       "grid_column": null,
       "grid_gap": null,
       "grid_row": null,
       "grid_template_areas": null,
       "grid_template_columns": null,
       "grid_template_rows": null,
       "height": null,
       "justify_content": null,
       "justify_items": null,
       "left": null,
       "margin": null,
       "max_height": null,
       "max_width": null,
       "min_height": null,
       "min_width": null,
       "object_fit": null,
       "object_position": null,
       "order": null,
       "overflow": null,
       "overflow_x": null,
       "overflow_y": null,
       "padding": null,
       "right": null,
       "top": null,
       "visibility": null,
       "width": null
      }
     },
     "a8bc784c4c6c47848aa80335a1b53fc6": {
      "model_module": "@jupyter-widgets/base",
      "model_module_version": "1.2.0",
      "model_name": "LayoutModel",
      "state": {
       "_model_module": "@jupyter-widgets/base",
       "_model_module_version": "1.2.0",
       "_model_name": "LayoutModel",
       "_view_count": null,
       "_view_module": "@jupyter-widgets/base",
       "_view_module_version": "1.2.0",
       "_view_name": "LayoutView",
       "align_content": null,
       "align_items": null,
       "align_self": null,
       "border": null,
       "bottom": null,
       "display": null,
       "flex": null,
       "flex_flow": null,
       "grid_area": null,
       "grid_auto_columns": null,
       "grid_auto_flow": null,
       "grid_auto_rows": null,
       "grid_column": null,
       "grid_gap": null,
       "grid_row": null,
       "grid_template_areas": null,
       "grid_template_columns": null,
       "grid_template_rows": null,
       "height": null,
       "justify_content": null,
       "justify_items": null,
       "left": null,
       "margin": null,
       "max_height": null,
       "max_width": null,
       "min_height": null,
       "min_width": null,
       "object_fit": null,
       "object_position": null,
       "order": null,
       "overflow": null,
       "overflow_x": null,
       "overflow_y": null,
       "padding": null,
       "right": null,
       "top": null,
       "visibility": null,
       "width": null
      }
     },
     "a9ef28a030e14c5c90dd2ec5622ff5ea": {
      "model_module": "@jupyter-widgets/controls",
      "model_module_version": "1.5.0",
      "model_name": "HTMLModel",
      "state": {
       "_dom_classes": [],
       "_model_module": "@jupyter-widgets/controls",
       "_model_module_version": "1.5.0",
       "_model_name": "HTMLModel",
       "_view_count": null,
       "_view_module": "@jupyter-widgets/controls",
       "_view_module_version": "1.5.0",
       "_view_name": "HTMLView",
       "description": "",
       "description_tooltip": null,
       "layout": "IPY_MODEL_6e02880997394f2691b4761a7bc8e6ee",
       "placeholder": "​",
       "style": "IPY_MODEL_d4686b01efdb4470b359d469020364c0",
       "value": " 6438/6438 [00:06&lt;00:00, 1013.37ex/s]"
      }
     },
     "ac7613211288423d9a00babae3368c6f": {
      "model_module": "@jupyter-widgets/controls",
      "model_module_version": "1.5.0",
      "model_name": "FloatProgressModel",
      "state": {
       "_dom_classes": [],
       "_model_module": "@jupyter-widgets/controls",
       "_model_module_version": "1.5.0",
       "_model_name": "FloatProgressModel",
       "_view_count": null,
       "_view_module": "@jupyter-widgets/controls",
       "_view_module_version": "1.5.0",
       "_view_name": "ProgressView",
       "bar_style": "success",
       "description": "",
       "description_tooltip": null,
       "layout": "IPY_MODEL_0eee912e948d4f818fa614a5cbefd4aa",
       "max": 15021.0,
       "min": 0.0,
       "orientation": "horizontal",
       "style": "IPY_MODEL_2f84fad76e4a41abac242df07289f9d6",
       "value": 15021.0
      }
     },
     "aeffeb6ba3284939970fd170580268c2": {
      "model_module": "@jupyter-widgets/base",
      "model_module_version": "1.2.0",
      "model_name": "LayoutModel",
      "state": {
       "_model_module": "@jupyter-widgets/base",
       "_model_module_version": "1.2.0",
       "_model_name": "LayoutModel",
       "_view_count": null,
       "_view_module": "@jupyter-widgets/base",
       "_view_module_version": "1.2.0",
       "_view_name": "LayoutView",
       "align_content": null,
       "align_items": null,
       "align_self": null,
       "border": null,
       "bottom": null,
       "display": null,
       "flex": null,
       "flex_flow": null,
       "grid_area": null,
       "grid_auto_columns": null,
       "grid_auto_flow": null,
       "grid_auto_rows": null,
       "grid_column": null,
       "grid_gap": null,
       "grid_row": null,
       "grid_template_areas": null,
       "grid_template_columns": null,
       "grid_template_rows": null,
       "height": null,
       "justify_content": null,
       "justify_items": null,
       "left": null,
       "margin": null,
       "max_height": null,
       "max_width": null,
       "min_height": null,
       "min_width": null,
       "object_fit": null,
       "object_position": null,
       "order": null,
       "overflow": null,
       "overflow_x": null,
       "overflow_y": null,
       "padding": null,
       "right": null,
       "top": null,
       "visibility": null,
       "width": null
      }
     },
     "b3b75555ae59442b9f4eb091a7b65a28": {
      "model_module": "@jupyter-widgets/controls",
      "model_module_version": "1.5.0",
      "model_name": "HBoxModel",
      "state": {
       "_dom_classes": [],
       "_model_module": "@jupyter-widgets/controls",
       "_model_module_version": "1.5.0",
       "_model_name": "HBoxModel",
       "_view_count": null,
       "_view_module": "@jupyter-widgets/controls",
       "_view_module_version": "1.5.0",
       "_view_name": "HBoxView",
       "box_style": "",
       "children": [
        "IPY_MODEL_9ec6e935aa004c11a11a266122199e4a",
        "IPY_MODEL_216fa0f317884536b8b87f532a545dbe",
        "IPY_MODEL_197fd7a78754474982d21450c66f456f"
       ],
       "layout": "IPY_MODEL_370fd81e9cce4ee2b46029dfa0115b1b"
      }
     },
     "b4373c4f1bc1449dabda8bfac73a7c71": {
      "model_module": "@jupyter-widgets/base",
      "model_module_version": "1.2.0",
      "model_name": "LayoutModel",
      "state": {
       "_model_module": "@jupyter-widgets/base",
       "_model_module_version": "1.2.0",
       "_model_name": "LayoutModel",
       "_view_count": null,
       "_view_module": "@jupyter-widgets/base",
       "_view_module_version": "1.2.0",
       "_view_name": "LayoutView",
       "align_content": null,
       "align_items": null,
       "align_self": null,
       "border": null,
       "bottom": null,
       "display": null,
       "flex": null,
       "flex_flow": null,
       "grid_area": null,
       "grid_auto_columns": null,
       "grid_auto_flow": null,
       "grid_auto_rows": null,
       "grid_column": null,
       "grid_gap": null,
       "grid_row": null,
       "grid_template_areas": null,
       "grid_template_columns": null,
       "grid_template_rows": null,
       "height": null,
       "justify_content": null,
       "justify_items": null,
       "left": null,
       "margin": null,
       "max_height": null,
       "max_width": null,
       "min_height": null,
       "min_width": null,
       "object_fit": null,
       "object_position": null,
       "order": null,
       "overflow": null,
       "overflow_x": null,
       "overflow_y": null,
       "padding": null,
       "right": null,
       "top": null,
       "visibility": null,
       "width": null
      }
     },
     "b8c136022f0d46e184f4b8bd23792c26": {
      "model_module": "@jupyter-widgets/controls",
      "model_module_version": "1.5.0",
      "model_name": "FloatProgressModel",
      "state": {
       "_dom_classes": [],
       "_model_module": "@jupyter-widgets/controls",
       "_model_module_version": "1.5.0",
       "_model_name": "FloatProgressModel",
       "_view_count": null,
       "_view_module": "@jupyter-widgets/controls",
       "_view_module_version": "1.5.0",
       "_view_name": "ProgressView",
       "bar_style": "success",
       "description": "",
       "description_tooltip": null,
       "layout": "IPY_MODEL_4f43bdeecfc842658b2438563664483f",
       "max": 440449768.0,
       "min": 0.0,
       "orientation": "horizontal",
       "style": "IPY_MODEL_bc25a88edebf4d389d31128c883458c1",
       "value": 440449768.0
      }
     },
     "bc25a88edebf4d389d31128c883458c1": {
      "model_module": "@jupyter-widgets/controls",
      "model_module_version": "1.5.0",
      "model_name": "ProgressStyleModel",
      "state": {
       "_model_module": "@jupyter-widgets/controls",
       "_model_module_version": "1.5.0",
       "_model_name": "ProgressStyleModel",
       "_view_count": null,
       "_view_module": "@jupyter-widgets/base",
       "_view_module_version": "1.2.0",
       "_view_name": "StyleView",
       "bar_color": null,
       "description_width": ""
      }
     },
     "bf01e7fdbd57492b878e4628cb9a7368": {
      "model_module": "@jupyter-widgets/controls",
      "model_module_version": "1.5.0",
      "model_name": "DescriptionStyleModel",
      "state": {
       "_model_module": "@jupyter-widgets/controls",
       "_model_module_version": "1.5.0",
       "_model_name": "DescriptionStyleModel",
       "_view_count": null,
       "_view_module": "@jupyter-widgets/base",
       "_view_module_version": "1.2.0",
       "_view_name": "StyleView",
       "description_width": ""
      }
     },
     "c0944368ddb84da98f2cf167f9ab8b6a": {
      "model_module": "@jupyter-widgets/controls",
      "model_module_version": "1.5.0",
      "model_name": "HTMLModel",
      "state": {
       "_dom_classes": [],
       "_model_module": "@jupyter-widgets/controls",
       "_model_module_version": "1.5.0",
       "_model_name": "HTMLModel",
       "_view_count": null,
       "_view_module": "@jupyter-widgets/controls",
       "_view_module_version": "1.5.0",
       "_view_name": "HTMLView",
       "description": "",
       "description_tooltip": null,
       "layout": "IPY_MODEL_a64564c8c2c6414c8994d609313b0629",
       "placeholder": "​",
       "style": "IPY_MODEL_61f88a42796846d681b02ee572b0a18a",
       "value": "Downloading builder script: 100%"
      }
     },
     "c3757082468e4cb0b94a1059bda3f54b": {
      "model_module": "@jupyter-widgets/controls",
      "model_module_version": "1.5.0",
      "model_name": "DescriptionStyleModel",
      "state": {
       "_model_module": "@jupyter-widgets/controls",
       "_model_module_version": "1.5.0",
       "_model_name": "DescriptionStyleModel",
       "_view_count": null,
       "_view_module": "@jupyter-widgets/base",
       "_view_module_version": "1.2.0",
       "_view_name": "StyleView",
       "description_width": ""
      }
     },
     "c6f96bbafebf443891ebf0bae339f07a": {
      "model_module": "@jupyter-widgets/controls",
      "model_module_version": "1.5.0",
      "model_name": "HBoxModel",
      "state": {
       "_dom_classes": [],
       "_model_module": "@jupyter-widgets/controls",
       "_model_module_version": "1.5.0",
       "_model_name": "HBoxModel",
       "_view_count": null,
       "_view_module": "@jupyter-widgets/controls",
       "_view_module_version": "1.5.0",
       "_view_name": "HBoxView",
       "box_style": "",
       "children": [
        "IPY_MODEL_752503dbedd1488b94079e5cc46452c6",
        "IPY_MODEL_3b8352b751134d2f87aea873a48dab36",
        "IPY_MODEL_a9ef28a030e14c5c90dd2ec5622ff5ea"
       ],
       "layout": "IPY_MODEL_0571ee0c4b6f41d98a02ef022fdc645e"
      }
     },
     "cc0240fff3464bd285546f77b4727c43": {
      "model_module": "@jupyter-widgets/controls",
      "model_module_version": "1.5.0",
      "model_name": "HBoxModel",
      "state": {
       "_dom_classes": [],
       "_model_module": "@jupyter-widgets/controls",
       "_model_module_version": "1.5.0",
       "_model_name": "HBoxModel",
       "_view_count": null,
       "_view_module": "@jupyter-widgets/controls",
       "_view_module_version": "1.5.0",
       "_view_name": "HBoxView",
       "box_style": "",
       "children": [
        "IPY_MODEL_6c20517784ae459e864b2fb9b4bca392",
        "IPY_MODEL_0304f2c3f9c8468fa62a26ff97b72e7f",
        "IPY_MODEL_314ad96e64bd41688d7c99cf30c1172c"
       ],
       "layout": "IPY_MODEL_56b875d31f604f9a8b8bf31411c069c2"
      }
     },
     "cca47d3eb71a41d4a451e5e311ddadca": {
      "model_module": "@jupyter-widgets/controls",
      "model_module_version": "1.5.0",
      "model_name": "DescriptionStyleModel",
      "state": {
       "_model_module": "@jupyter-widgets/controls",
       "_model_module_version": "1.5.0",
       "_model_name": "DescriptionStyleModel",
       "_view_count": null,
       "_view_module": "@jupyter-widgets/base",
       "_view_module_version": "1.2.0",
       "_view_name": "StyleView",
       "description_width": ""
      }
     },
     "cdde843c0dc24f0083831e98945463ee": {
      "model_module": "@jupyter-widgets/base",
      "model_module_version": "1.2.0",
      "model_name": "LayoutModel",
      "state": {
       "_model_module": "@jupyter-widgets/base",
       "_model_module_version": "1.2.0",
       "_model_name": "LayoutModel",
       "_view_count": null,
       "_view_module": "@jupyter-widgets/base",
       "_view_module_version": "1.2.0",
       "_view_name": "LayoutView",
       "align_content": null,
       "align_items": null,
       "align_self": null,
       "border": null,
       "bottom": null,
       "display": null,
       "flex": null,
       "flex_flow": null,
       "grid_area": null,
       "grid_auto_columns": null,
       "grid_auto_flow": null,
       "grid_auto_rows": null,
       "grid_column": null,
       "grid_gap": null,
       "grid_row": null,
       "grid_template_areas": null,
       "grid_template_columns": null,
       "grid_template_rows": null,
       "height": null,
       "justify_content": null,
       "justify_items": null,
       "left": null,
       "margin": null,
       "max_height": null,
       "max_width": null,
       "min_height": null,
       "min_width": null,
       "object_fit": null,
       "object_position": null,
       "order": null,
       "overflow": null,
       "overflow_x": null,
       "overflow_y": null,
       "padding": null,
       "right": null,
       "top": null,
       "visibility": null,
       "width": null
      }
     },
     "d0ae5684247d4b47a556cff496050734": {
      "model_module": "@jupyter-widgets/controls",
      "model_module_version": "1.5.0",
      "model_name": "DescriptionStyleModel",
      "state": {
       "_model_module": "@jupyter-widgets/controls",
       "_model_module_version": "1.5.0",
       "_model_name": "DescriptionStyleModel",
       "_view_count": null,
       "_view_module": "@jupyter-widgets/base",
       "_view_module_version": "1.2.0",
       "_view_name": "StyleView",
       "description_width": ""
      }
     },
     "d1aa6087061c45468ec840f4728b692f": {
      "model_module": "@jupyter-widgets/base",
      "model_module_version": "1.2.0",
      "model_name": "LayoutModel",
      "state": {
       "_model_module": "@jupyter-widgets/base",
       "_model_module_version": "1.2.0",
       "_model_name": "LayoutModel",
       "_view_count": null,
       "_view_module": "@jupyter-widgets/base",
       "_view_module_version": "1.2.0",
       "_view_name": "LayoutView",
       "align_content": null,
       "align_items": null,
       "align_self": null,
       "border": null,
       "bottom": null,
       "display": null,
       "flex": null,
       "flex_flow": null,
       "grid_area": null,
       "grid_auto_columns": null,
       "grid_auto_flow": null,
       "grid_auto_rows": null,
       "grid_column": null,
       "grid_gap": null,
       "grid_row": null,
       "grid_template_areas": null,
       "grid_template_columns": null,
       "grid_template_rows": null,
       "height": null,
       "justify_content": null,
       "justify_items": null,
       "left": null,
       "margin": null,
       "max_height": null,
       "max_width": null,
       "min_height": null,
       "min_width": null,
       "object_fit": null,
       "object_position": null,
       "order": null,
       "overflow": null,
       "overflow_x": null,
       "overflow_y": null,
       "padding": null,
       "right": null,
       "top": null,
       "visibility": null,
       "width": null
      }
     },
     "d21256f028794b699f2aed36e38f836c": {
      "model_module": "@jupyter-widgets/controls",
      "model_module_version": "1.5.0",
      "model_name": "DescriptionStyleModel",
      "state": {
       "_model_module": "@jupyter-widgets/controls",
       "_model_module_version": "1.5.0",
       "_model_name": "DescriptionStyleModel",
       "_view_count": null,
       "_view_module": "@jupyter-widgets/base",
       "_view_module_version": "1.2.0",
       "_view_name": "StyleView",
       "description_width": ""
      }
     },
     "d4686b01efdb4470b359d469020364c0": {
      "model_module": "@jupyter-widgets/controls",
      "model_module_version": "1.5.0",
      "model_name": "DescriptionStyleModel",
      "state": {
       "_model_module": "@jupyter-widgets/controls",
       "_model_module_version": "1.5.0",
       "_model_name": "DescriptionStyleModel",
       "_view_count": null,
       "_view_module": "@jupyter-widgets/base",
       "_view_module_version": "1.2.0",
       "_view_name": "StyleView",
       "description_width": ""
      }
     },
     "d9580ca063314ddd88836d241dadf87c": {
      "model_module": "@jupyter-widgets/controls",
      "model_module_version": "1.5.0",
      "model_name": "DescriptionStyleModel",
      "state": {
       "_model_module": "@jupyter-widgets/controls",
       "_model_module_version": "1.5.0",
       "_model_name": "DescriptionStyleModel",
       "_view_count": null,
       "_view_module": "@jupyter-widgets/base",
       "_view_module_version": "1.2.0",
       "_view_name": "StyleView",
       "description_width": ""
      }
     },
     "da2ffea06c014c22a60f3f8e00b34cb0": {
      "model_module": "@jupyter-widgets/base",
      "model_module_version": "1.2.0",
      "model_name": "LayoutModel",
      "state": {
       "_model_module": "@jupyter-widgets/base",
       "_model_module_version": "1.2.0",
       "_model_name": "LayoutModel",
       "_view_count": null,
       "_view_module": "@jupyter-widgets/base",
       "_view_module_version": "1.2.0",
       "_view_name": "LayoutView",
       "align_content": null,
       "align_items": null,
       "align_self": null,
       "border": null,
       "bottom": null,
       "display": null,
       "flex": null,
       "flex_flow": null,
       "grid_area": null,
       "grid_auto_columns": null,
       "grid_auto_flow": null,
       "grid_auto_rows": null,
       "grid_column": null,
       "grid_gap": null,
       "grid_row": null,
       "grid_template_areas": null,
       "grid_template_columns": null,
       "grid_template_rows": null,
       "height": null,
       "justify_content": null,
       "justify_items": null,
       "left": null,
       "margin": null,
       "max_height": null,
       "max_width": null,
       "min_height": null,
       "min_width": null,
       "object_fit": null,
       "object_position": null,
       "order": null,
       "overflow": null,
       "overflow_x": null,
       "overflow_y": null,
       "padding": null,
       "right": null,
       "top": null,
       "visibility": null,
       "width": null
      }
     },
     "da49d684ec364891a76a83c6bf9137be": {
      "model_module": "@jupyter-widgets/controls",
      "model_module_version": "1.5.0",
      "model_name": "ProgressStyleModel",
      "state": {
       "_model_module": "@jupyter-widgets/controls",
       "_model_module_version": "1.5.0",
       "_model_name": "ProgressStyleModel",
       "_view_count": null,
       "_view_module": "@jupyter-widgets/base",
       "_view_module_version": "1.2.0",
       "_view_name": "StyleView",
       "bar_color": null,
       "description_width": ""
      }
     },
     "da8888efa9294463ac38e1c8d50121c3": {
      "model_module": "@jupyter-widgets/controls",
      "model_module_version": "1.5.0",
      "model_name": "DescriptionStyleModel",
      "state": {
       "_model_module": "@jupyter-widgets/controls",
       "_model_module_version": "1.5.0",
       "_model_name": "DescriptionStyleModel",
       "_view_count": null,
       "_view_module": "@jupyter-widgets/base",
       "_view_module_version": "1.2.0",
       "_view_name": "StyleView",
       "description_width": ""
      }
     },
     "df620d30f1c642169efb156429bb06fd": {
      "model_module": "@jupyter-widgets/base",
      "model_module_version": "1.2.0",
      "model_name": "LayoutModel",
      "state": {
       "_model_module": "@jupyter-widgets/base",
       "_model_module_version": "1.2.0",
       "_model_name": "LayoutModel",
       "_view_count": null,
       "_view_module": "@jupyter-widgets/base",
       "_view_module_version": "1.2.0",
       "_view_name": "LayoutView",
       "align_content": null,
       "align_items": null,
       "align_self": null,
       "border": null,
       "bottom": null,
       "display": null,
       "flex": null,
       "flex_flow": null,
       "grid_area": null,
       "grid_auto_columns": null,
       "grid_auto_flow": null,
       "grid_auto_rows": null,
       "grid_column": null,
       "grid_gap": null,
       "grid_row": null,
       "grid_template_areas": null,
       "grid_template_columns": null,
       "grid_template_rows": null,
       "height": null,
       "justify_content": null,
       "justify_items": null,
       "left": null,
       "margin": null,
       "max_height": null,
       "max_width": null,
       "min_height": null,
       "min_width": null,
       "object_fit": null,
       "object_position": null,
       "order": null,
       "overflow": null,
       "overflow_x": null,
       "overflow_y": null,
       "padding": null,
       "right": null,
       "top": null,
       "visibility": null,
       "width": null
      }
     },
     "e158ab3961d04825a10d3bd10293fa4f": {
      "model_module": "@jupyter-widgets/base",
      "model_module_version": "1.2.0",
      "model_name": "LayoutModel",
      "state": {
       "_model_module": "@jupyter-widgets/base",
       "_model_module_version": "1.2.0",
       "_model_name": "LayoutModel",
       "_view_count": null,
       "_view_module": "@jupyter-widgets/base",
       "_view_module_version": "1.2.0",
       "_view_name": "LayoutView",
       "align_content": null,
       "align_items": null,
       "align_self": null,
       "border": null,
       "bottom": null,
       "display": null,
       "flex": null,
       "flex_flow": null,
       "grid_area": null,
       "grid_auto_columns": null,
       "grid_auto_flow": null,
       "grid_auto_rows": null,
       "grid_column": null,
       "grid_gap": null,
       "grid_row": null,
       "grid_template_areas": null,
       "grid_template_columns": null,
       "grid_template_rows": null,
       "height": null,
       "justify_content": null,
       "justify_items": null,
       "left": null,
       "margin": null,
       "max_height": null,
       "max_width": null,
       "min_height": null,
       "min_width": null,
       "object_fit": null,
       "object_position": null,
       "order": null,
       "overflow": null,
       "overflow_x": null,
       "overflow_y": null,
       "padding": null,
       "right": null,
       "top": null,
       "visibility": null,
       "width": null
      }
     },
     "e2b48753154e4cbfb03d90e6c03d1d7a": {
      "model_module": "@jupyter-widgets/controls",
      "model_module_version": "1.5.0",
      "model_name": "HTMLModel",
      "state": {
       "_dom_classes": [],
       "_model_module": "@jupyter-widgets/controls",
       "_model_module_version": "1.5.0",
       "_model_name": "HTMLModel",
       "_view_count": null,
       "_view_module": "@jupyter-widgets/controls",
       "_view_module_version": "1.5.0",
       "_view_name": "HTMLView",
       "description": "",
       "description_tooltip": null,
       "layout": "IPY_MODEL_8c8946a4f9424343a9b863e75f4c5fda",
       "placeholder": "​",
       "style": "IPY_MODEL_7ab388de3b8945cd95f050c8108d5967",
       "value": "Downloading (…)okenizer_config.json: 100%"
      }
     },
     "e4f280be284d47ba92c704d97778e64b": {
      "model_module": "@jupyter-widgets/base",
      "model_module_version": "1.2.0",
      "model_name": "LayoutModel",
      "state": {
       "_model_module": "@jupyter-widgets/base",
       "_model_module_version": "1.2.0",
       "_model_name": "LayoutModel",
       "_view_count": null,
       "_view_module": "@jupyter-widgets/base",
       "_view_module_version": "1.2.0",
       "_view_name": "LayoutView",
       "align_content": null,
       "align_items": null,
       "align_self": null,
       "border": null,
       "bottom": null,
       "display": null,
       "flex": null,
       "flex_flow": null,
       "grid_area": null,
       "grid_auto_columns": null,
       "grid_auto_flow": null,
       "grid_auto_rows": null,
       "grid_column": null,
       "grid_gap": null,
       "grid_row": null,
       "grid_template_areas": null,
       "grid_template_columns": null,
       "grid_template_rows": null,
       "height": null,
       "justify_content": null,
       "justify_items": null,
       "left": null,
       "margin": null,
       "max_height": null,
       "max_width": null,
       "min_height": null,
       "min_width": null,
       "object_fit": null,
       "object_position": null,
       "order": null,
       "overflow": null,
       "overflow_x": null,
       "overflow_y": null,
       "padding": null,
       "right": null,
       "top": null,
       "visibility": null,
       "width": null
      }
     },
     "e6ce81f4aebf4042a79af123824b157b": {
      "model_module": "@jupyter-widgets/base",
      "model_module_version": "1.2.0",
      "model_name": "LayoutModel",
      "state": {
       "_model_module": "@jupyter-widgets/base",
       "_model_module_version": "1.2.0",
       "_model_name": "LayoutModel",
       "_view_count": null,
       "_view_module": "@jupyter-widgets/base",
       "_view_module_version": "1.2.0",
       "_view_name": "LayoutView",
       "align_content": null,
       "align_items": null,
       "align_self": null,
       "border": null,
       "bottom": null,
       "display": null,
       "flex": null,
       "flex_flow": null,
       "grid_area": null,
       "grid_auto_columns": null,
       "grid_auto_flow": null,
       "grid_auto_rows": null,
       "grid_column": null,
       "grid_gap": null,
       "grid_row": null,
       "grid_template_areas": null,
       "grid_template_columns": null,
       "grid_template_rows": null,
       "height": null,
       "justify_content": null,
       "justify_items": null,
       "left": null,
       "margin": null,
       "max_height": null,
       "max_width": null,
       "min_height": null,
       "min_width": null,
       "object_fit": null,
       "object_position": null,
       "order": null,
       "overflow": null,
       "overflow_x": null,
       "overflow_y": null,
       "padding": null,
       "right": null,
       "top": null,
       "visibility": null,
       "width": null
      }
     },
     "ead5e398efbf459d8fa2121e78310d30": {
      "model_module": "@jupyter-widgets/controls",
      "model_module_version": "1.5.0",
      "model_name": "FloatProgressModel",
      "state": {
       "_dom_classes": [],
       "_model_module": "@jupyter-widgets/controls",
       "_model_module_version": "1.5.0",
       "_model_name": "FloatProgressModel",
       "_view_count": null,
       "_view_module": "@jupyter-widgets/controls",
       "_view_module_version": "1.5.0",
       "_view_name": "ProgressView",
       "bar_style": "success",
       "description": "",
       "description_tooltip": null,
       "layout": "IPY_MODEL_3adf6fdd3ae342c8a7573892815d0b0b",
       "max": 231508.0,
       "min": 0.0,
       "orientation": "horizontal",
       "style": "IPY_MODEL_85344a49707f467db97792cc5e41d224",
       "value": 231508.0
      }
     },
     "eb075f34bfd449b48995f7aeb04d9207": {
      "model_module": "@jupyter-widgets/controls",
      "model_module_version": "1.5.0",
      "model_name": "HTMLModel",
      "state": {
       "_dom_classes": [],
       "_model_module": "@jupyter-widgets/controls",
       "_model_module_version": "1.5.0",
       "_model_name": "HTMLModel",
       "_view_count": null,
       "_view_module": "@jupyter-widgets/controls",
       "_view_module_version": "1.5.0",
       "_view_name": "HTMLView",
       "description": "",
       "description_tooltip": null,
       "layout": "IPY_MODEL_da2ffea06c014c22a60f3f8e00b34cb0",
       "placeholder": "​",
       "style": "IPY_MODEL_cca47d3eb71a41d4a451e5e311ddadca",
       "value": "Downloading (…)solve/main/vocab.txt: 100%"
      }
     },
     "ec83c50f7d1547b78181c25f85984094": {
      "model_module": "@jupyter-widgets/controls",
      "model_module_version": "1.5.0",
      "model_name": "HTMLModel",
      "state": {
       "_dom_classes": [],
       "_model_module": "@jupyter-widgets/controls",
       "_model_module_version": "1.5.0",
       "_model_name": "HTMLModel",
       "_view_count": null,
       "_view_module": "@jupyter-widgets/controls",
       "_view_module_version": "1.5.0",
       "_view_name": "HTMLView",
       "description": "",
       "description_tooltip": null,
       "layout": "IPY_MODEL_a8bc784c4c6c47848aa80335a1b53fc6",
       "placeholder": "​",
       "style": "IPY_MODEL_d9580ca063314ddd88836d241dadf87c",
       "value": "100%"
      }
     },
     "edd814ae7a464baf819e6211246026de": {
      "model_module": "@jupyter-widgets/controls",
      "model_module_version": "1.5.0",
      "model_name": "HTMLModel",
      "state": {
       "_dom_classes": [],
       "_model_module": "@jupyter-widgets/controls",
       "_model_module_version": "1.5.0",
       "_model_name": "HTMLModel",
       "_view_count": null,
       "_view_module": "@jupyter-widgets/controls",
       "_view_module_version": "1.5.0",
       "_view_name": "HTMLView",
       "description": "",
       "description_tooltip": null,
       "layout": "IPY_MODEL_9cf2d4eef9fa479e90aa2c98a7a8618c",
       "placeholder": "​",
       "style": "IPY_MODEL_484fa1014bb64fbea7187467f8ecb7a8",
       "value": "100%"
      }
     },
     "f509662483d24ea2adb9728d95ca444e": {
      "model_module": "@jupyter-widgets/controls",
      "model_module_version": "1.5.0",
      "model_name": "FloatProgressModel",
      "state": {
       "_dom_classes": [],
       "_model_module": "@jupyter-widgets/controls",
       "_model_module_version": "1.5.0",
       "_model_name": "FloatProgressModel",
       "_view_count": null,
       "_view_module": "@jupyter-widgets/controls",
       "_view_module_version": "1.5.0",
       "_view_name": "ProgressView",
       "bar_style": "success",
       "description": "",
       "description_tooltip": null,
       "layout": "IPY_MODEL_fef12714b2a24251bb58db22e432bc7c",
       "max": 4203.0,
       "min": 0.0,
       "orientation": "horizontal",
       "style": "IPY_MODEL_4437b2e1f3af4d128bcbb6bee4d8a7b5",
       "value": 4203.0
      }
     },
     "fbbb9144fe084affb3d69c6906bd92de": {
      "model_module": "@jupyter-widgets/base",
      "model_module_version": "1.2.0",
      "model_name": "LayoutModel",
      "state": {
       "_model_module": "@jupyter-widgets/base",
       "_model_module_version": "1.2.0",
       "_model_name": "LayoutModel",
       "_view_count": null,
       "_view_module": "@jupyter-widgets/base",
       "_view_module_version": "1.2.0",
       "_view_name": "LayoutView",
       "align_content": null,
       "align_items": null,
       "align_self": null,
       "border": null,
       "bottom": null,
       "display": null,
       "flex": null,
       "flex_flow": null,
       "grid_area": null,
       "grid_auto_columns": null,
       "grid_auto_flow": null,
       "grid_auto_rows": null,
       "grid_column": null,
       "grid_gap": null,
       "grid_row": null,
       "grid_template_areas": null,
       "grid_template_columns": null,
       "grid_template_rows": null,
       "height": null,
       "justify_content": null,
       "justify_items": null,
       "left": null,
       "margin": null,
       "max_height": null,
       "max_width": null,
       "min_height": null,
       "min_width": null,
       "object_fit": null,
       "object_position": null,
       "order": null,
       "overflow": null,
       "overflow_x": null,
       "overflow_y": null,
       "padding": null,
       "right": null,
       "top": null,
       "visibility": null,
       "width": null
      }
     },
     "fd1bceb482e24fb882f9a5ff4de14ad2": {
      "model_module": "@jupyter-widgets/base",
      "model_module_version": "1.2.0",
      "model_name": "LayoutModel",
      "state": {
       "_model_module": "@jupyter-widgets/base",
       "_model_module_version": "1.2.0",
       "_model_name": "LayoutModel",
       "_view_count": null,
       "_view_module": "@jupyter-widgets/base",
       "_view_module_version": "1.2.0",
       "_view_name": "LayoutView",
       "align_content": null,
       "align_items": null,
       "align_self": null,
       "border": null,
       "bottom": null,
       "display": null,
       "flex": null,
       "flex_flow": null,
       "grid_area": null,
       "grid_auto_columns": null,
       "grid_auto_flow": null,
       "grid_auto_rows": null,
       "grid_column": null,
       "grid_gap": null,
       "grid_row": null,
       "grid_template_areas": null,
       "grid_template_columns": null,
       "grid_template_rows": null,
       "height": null,
       "justify_content": null,
       "justify_items": null,
       "left": null,
       "margin": null,
       "max_height": null,
       "max_width": null,
       "min_height": null,
       "min_width": null,
       "object_fit": null,
       "object_position": null,
       "order": null,
       "overflow": null,
       "overflow_x": null,
       "overflow_y": null,
       "padding": null,
       "right": null,
       "top": null,
       "visibility": null,
       "width": null
      }
     },
     "fd8d6e59e51545cea9a59f5bf6d085de": {
      "model_module": "@jupyter-widgets/controls",
      "model_module_version": "1.5.0",
      "model_name": "DescriptionStyleModel",
      "state": {
       "_model_module": "@jupyter-widgets/controls",
       "_model_module_version": "1.5.0",
       "_model_name": "DescriptionStyleModel",
       "_view_count": null,
       "_view_module": "@jupyter-widgets/base",
       "_view_module_version": "1.2.0",
       "_view_name": "StyleView",
       "description_width": ""
      }
     },
     "fef12714b2a24251bb58db22e432bc7c": {
      "model_module": "@jupyter-widgets/base",
      "model_module_version": "1.2.0",
      "model_name": "LayoutModel",
      "state": {
       "_model_module": "@jupyter-widgets/base",
       "_model_module_version": "1.2.0",
       "_model_name": "LayoutModel",
       "_view_count": null,
       "_view_module": "@jupyter-widgets/base",
       "_view_module_version": "1.2.0",
       "_view_name": "LayoutView",
       "align_content": null,
       "align_items": null,
       "align_self": null,
       "border": null,
       "bottom": null,
       "display": null,
       "flex": null,
       "flex_flow": null,
       "grid_area": null,
       "grid_auto_columns": null,
       "grid_auto_flow": null,
       "grid_auto_rows": null,
       "grid_column": null,
       "grid_gap": null,
       "grid_row": null,
       "grid_template_areas": null,
       "grid_template_columns": null,
       "grid_template_rows": null,
       "height": null,
       "justify_content": null,
       "justify_items": null,
       "left": null,
       "margin": null,
       "max_height": null,
       "max_width": null,
       "min_height": null,
       "min_width": null,
       "object_fit": null,
       "object_position": null,
       "order": null,
       "overflow": null,
       "overflow_x": null,
       "overflow_y": null,
       "padding": null,
       "right": null,
       "top": null,
       "visibility": null,
       "width": null
      }
     }
    },
    "version_major": 2,
    "version_minor": 0
   }
  }
 },
 "nbformat": 4,
 "nbformat_minor": 5
}
